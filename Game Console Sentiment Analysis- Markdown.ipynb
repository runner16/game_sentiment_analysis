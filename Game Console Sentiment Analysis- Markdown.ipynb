{
 "cells": [
  {
   "cell_type": "markdown",
   "metadata": {},
   "source": [
    "#                           Game Console Sentiment Analysis\n",
    "##                                            Rudy Duran\n",
    "##                                             Practicum 1\n",
    "##                                              3-25-2021"
   ]
  },
  {
   "cell_type": "markdown",
   "metadata": {},
   "source": [
    "#                                         Purpose"
   ]
  },
  {
   "cell_type": "markdown",
   "metadata": {},
   "source": [
    "\n",
    "\n",
    "The purpose of this project is to analyze Amazon consumer reviews to see what consumers think of the new game consoles: the<br> Playstation 5 and the Xbox Series X. The scope of this project will focus on the Playstation 5, Xbox Series X, and their<br> direct predecessors: The Playstation 4 and Xbox One X. The methods for this project include analyzing customer reviews for these products to see if there are different sentiments and what the different sentiments are between the PS5, Xbox Series X<br> and their respective predecessors.<br>This analysis will help in better undestanding consumers needs and areas for improvement with the new consoles.<br>\n",
    "\n",
    "Natural Language Processing, LDA topic modeling, and sentiment analysis will be used on these reviews in order to achieve this purpose.\n",
    "\n",
    "For context, LDA topic modeling is a popular topic modeling method which aims to find abstract topics within a<br>\n",
    "document of words, which in this case, are the Amazon reviews. The reason why I chose to do this project on LDA<br>\n",
    "and NLP is because I wanted to get more experience and familiarity within the NLP data science domain. I wanted<br>\n",
    "to get better at it and also use these tools towards a real life application which, in this case, are the<br> \n",
    "Amazon reviews geared towards game consoles. I am an avid gamer myself which is why I chose these products for my<br> \n",
    "project."
   ]
  },
  {
   "cell_type": "markdown",
   "metadata": {},
   "source": [
    "The following are a list of libraries used for this project:"
   ]
  },
  {
   "cell_type": "code",
   "execution_count": 3,
   "metadata": {},
   "outputs": [],
   "source": [
    "import pandas as pd\n",
    "from nltk import FreqDist\n",
    "import matplotlib.pyplot as plt \n",
    "import seaborn as sns\n",
    "import re\n",
    "import spacy\n",
    "from nltk.corpus import stopwords\n",
    "\n",
    "import gensim\n",
    "from gensim import corpora\n",
    "\n",
    "import pyLDAvis\n",
    "import pyLDAvis.gensim\n",
    "%matplotlib inline"
   ]
  },
  {
   "cell_type": "markdown",
   "metadata": {},
   "source": [
    "The pandas library will be needed for data manipulation.<br>\n",
    "The seaborn and matplotlib packages will be used for data visualizations.<br> \n",
    "The re and spacy packages will be used for regular expression and tokenization purposes.<br>\n",
    "The NLTK library will be used to bring in stopwords for data cleaning.<br>\n",
    "The gensim and pyLDAvis libraries will be used for LDA Topic Analysis and LDA visualizations. "
   ]
  },
  {
   "cell_type": "code",
   "execution_count": null,
   "metadata": {},
   "outputs": [],
   "source": [
    "import warnings\n",
    "warnings.filterwarnings(\"ignore\", category=DeprecationWarning) \n",
    "pd.options.mode.chained_assignment = None "
   ]
  },
  {
   "cell_type": "markdown",
   "metadata": {},
   "source": [
    "The Deprecation warning and pd.options library is done to suppress the Deprecation warning and \"Settingwithcopy\" warning message."
   ]
  },
  {
   "cell_type": "code",
   "execution_count": 5,
   "metadata": {},
   "outputs": [],
   "source": [
    "import warnings\n",
    "warnings.filterwarnings(\"ignore\", category=DeprecationWarning) "
   ]
  },
  {
   "cell_type": "markdown",
   "metadata": {},
   "source": [
    "This code above is re-run again in order to truly get rid of the deprecation warnings from the gensim package."
   ]
  },
  {
   "cell_type": "markdown",
   "metadata": {},
   "source": [
    "#  Data Sources\n",
    "\n",
    "The data sources were scraped directly from Amazon using the Scrapy package which was installed on my local machine. <br>\n",
    "The data sources were saved into CSV files.\n"
   ]
  },
  {
   "cell_type": "markdown",
   "metadata": {},
   "source": [
    "The reviews for all 4 consoles are loaded into pandas dataframes."
   ]
  },
  {
   "cell_type": "code",
   "execution_count": 7,
   "metadata": {},
   "outputs": [],
   "source": [
    "ps4reviews = pd.read_csv(\"PS4Amazon.csv\")\n",
    "ps5reviews = pd.read_csv(\"ps5new.csv\")\n",
    "xboxonexreviews = pd.read_csv(\"xboxonexreviews.csv\")\n",
    "xboxseriesxreviews = pd.read_csv(\"xboxseriesxreviews.csv\")"
   ]
  },
  {
   "cell_type": "markdown",
   "metadata": {},
   "source": [
    "There are some extra columns not needed in the PS5 reviews dataset: \"Name\" and \"Title\". \n",
    "I use the following piece of code to drop them:"
   ]
  },
  {
   "cell_type": "code",
   "execution_count": 8,
   "metadata": {},
   "outputs": [],
   "source": [
    "ps5reviews = ps5reviews.drop(['Name', 'Title'], axis = 1)"
   ]
  },
  {
   "cell_type": "markdown",
   "metadata": {},
   "source": [
    "In order to clean the data, get it ready for modeling, and use the data for visualizations, I need to replace the Rating values\n",
    "with numerical values (1,2,3,4,5) in order for the models to function properly:"
   ]
  },
  {
   "cell_type": "code",
   "execution_count": 9,
   "metadata": {},
   "outputs": [],
   "source": [
    "ps5reviews['Rating'] = ps5reviews['Rating'].replace(['1.0 out of 5 stars','2.0 out of 5 stars', '3.0 out of 5 stars', '4.0 out of 5 stars', '5.0 out of 5 stars'],\n",
    "                                                    [1, 2, 3, 4, 5])\n",
    "ps4reviews['stars'] = ps4reviews['stars'].replace(['1.0 out of 5 stars','2.0 out of 5 stars', '3.0 out of 5 stars', '4.0 out of 5 stars', '5.0 out of 5 stars'],\n",
    "                                                    [1, 2, 3, 4, 5])\n",
    "xboxonexreviews['stars'] = xboxonexreviews['stars'].replace(['1.0 out of 5 stars','2.0 out of 5 stars', '3.0 out of 5 stars', '4.0 out of 5 stars', '5.0 out of 5 stars'],\n",
    "                                                              [1, 2, 3, 4, 5])\n",
    "xboxseriesxreviews['stars'] = xboxseriesxreviews['stars'].replace(['1.0 out of 5 stars','2.0 out of 5 stars', '3.0 out of 5 stars', '4.0 out of 5 stars', '5.0 out of 5 stars'],\n",
    "                                                    [1, 2, 3, 4, 5])\n"
   ]
  },
  {
   "cell_type": "markdown",
   "metadata": {},
   "source": [
    "The head function is run to check the first 5 rows of the data:"
   ]
  },
  {
   "cell_type": "code",
   "execution_count": 10,
   "metadata": {},
   "outputs": [
    {
     "data": {
      "text/html": [
       "<div>\n",
       "<style scoped>\n",
       "    .dataframe tbody tr th:only-of-type {\n",
       "        vertical-align: middle;\n",
       "    }\n",
       "\n",
       "    .dataframe tbody tr th {\n",
       "        vertical-align: top;\n",
       "    }\n",
       "\n",
       "    .dataframe thead th {\n",
       "        text-align: right;\n",
       "    }\n",
       "</style>\n",
       "<table border=\"1\" class=\"dataframe\">\n",
       "  <thead>\n",
       "    <tr style=\"text-align: right;\">\n",
       "      <th></th>\n",
       "      <th>Rating</th>\n",
       "      <th>Comment</th>\n",
       "    </tr>\n",
       "  </thead>\n",
       "  <tbody>\n",
       "    <tr>\n",
       "      <th>0</th>\n",
       "      <td>1</td>\n",
       "      <td>\\n\\n\\n\\n\\n\\n\\n\\n\\n\\n  \\n  \\n    \\n  This will ...</td>\n",
       "    </tr>\n",
       "    <tr>\n",
       "      <th>1</th>\n",
       "      <td>1</td>\n",
       "      <td>\\n\\n\\n\\n\\n\\n\\n\\n\\n\\n  \\n  \\n    \\n  Taking adv...</td>\n",
       "    </tr>\n",
       "    <tr>\n",
       "      <th>2</th>\n",
       "      <td>1</td>\n",
       "      <td>\\n\\n\\n\\n\\n\\n\\n\\n\\n\\n  \\n  \\n    \\n  I wait all...</td>\n",
       "    </tr>\n",
       "    <tr>\n",
       "      <th>3</th>\n",
       "      <td>1</td>\n",
       "      <td>\\n\\n\\n\\n\\n\\n\\n\\n\\n\\n  \\n  \\n    \\n  Between Nv...</td>\n",
       "    </tr>\n",
       "    <tr>\n",
       "      <th>4</th>\n",
       "      <td>1</td>\n",
       "      <td>\\n\\n\\n\\n\\n\\n\\n\\n\\n\\n  \\n  \\n    \\n  I've been ...</td>\n",
       "    </tr>\n",
       "  </tbody>\n",
       "</table>\n",
       "</div>"
      ],
      "text/plain": [
       "   Rating                                            Comment\n",
       "0       1  \\n\\n\\n\\n\\n\\n\\n\\n\\n\\n  \\n  \\n    \\n  This will ...\n",
       "1       1  \\n\\n\\n\\n\\n\\n\\n\\n\\n\\n  \\n  \\n    \\n  Taking adv...\n",
       "2       1  \\n\\n\\n\\n\\n\\n\\n\\n\\n\\n  \\n  \\n    \\n  I wait all...\n",
       "3       1  \\n\\n\\n\\n\\n\\n\\n\\n\\n\\n  \\n  \\n    \\n  Between Nv...\n",
       "4       1  \\n\\n\\n\\n\\n\\n\\n\\n\\n\\n  \\n  \\n    \\n  I've been ..."
      ]
     },
     "execution_count": 10,
     "metadata": {},
     "output_type": "execute_result"
    }
   ],
   "source": [
    "ps5reviews.head(5)"
   ]
  },
  {
   "cell_type": "markdown",
   "metadata": {},
   "source": [
    "Based on the dataframe above,  it looks like the \"Rating\" column values have been replaced successfully.<br>\n",
    "However, the \"Comment\" column for the PS5 reviews looks to have extra whitespace lines.<br>\n",
    "The rest of the datasets are checked to see if they have the same issue:"
   ]
  },
  {
   "cell_type": "code",
   "execution_count": 12,
   "metadata": {},
   "outputs": [
    {
     "data": {
      "text/html": [
       "<div>\n",
       "<style scoped>\n",
       "    .dataframe tbody tr th:only-of-type {\n",
       "        vertical-align: middle;\n",
       "    }\n",
       "\n",
       "    .dataframe tbody tr th {\n",
       "        vertical-align: top;\n",
       "    }\n",
       "\n",
       "    .dataframe thead th {\n",
       "        text-align: right;\n",
       "    }\n",
       "</style>\n",
       "<table border=\"1\" class=\"dataframe\">\n",
       "  <thead>\n",
       "    <tr style=\"text-align: right;\">\n",
       "      <th></th>\n",
       "      <th>stars</th>\n",
       "      <th>comment</th>\n",
       "    </tr>\n",
       "  </thead>\n",
       "  <tbody>\n",
       "    <tr>\n",
       "      <th>0</th>\n",
       "      <td>3</td>\n",
       "      <td>\\n\\n\\n\\n\\n\\n\\n\\n\\n  \\n  Your browser does not ...</td>\n",
       "    </tr>\n",
       "    <tr>\n",
       "      <th>1</th>\n",
       "      <td>2</td>\n",
       "      <td>\\n\\n\\n\\n\\n\\n\\n\\n\\n\\n  \\n  \\n    \\n  This was m...</td>\n",
       "    </tr>\n",
       "    <tr>\n",
       "      <th>2</th>\n",
       "      <td>5</td>\n",
       "      <td>\\n\\n\\n\\n\\n\\n\\n\\n\\n\\n  \\n  \\n    \\n  i still re...</td>\n",
       "    </tr>\n",
       "    <tr>\n",
       "      <th>3</th>\n",
       "      <td>5</td>\n",
       "      <td>\\n\\n\\n\\n\\n\\n\\n\\n\\n\\n  \\n  \\n    \\n  I bought t...</td>\n",
       "    </tr>\n",
       "    <tr>\n",
       "      <th>4</th>\n",
       "      <td>5</td>\n",
       "      <td>\\n\\n\\n\\n\\n\\n\\n\\n\\n\\n  \\n  \\n    \\n  I warily b...</td>\n",
       "    </tr>\n",
       "  </tbody>\n",
       "</table>\n",
       "</div>"
      ],
      "text/plain": [
       "   stars                                            comment\n",
       "0      3  \\n\\n\\n\\n\\n\\n\\n\\n\\n  \\n  Your browser does not ...\n",
       "1      2  \\n\\n\\n\\n\\n\\n\\n\\n\\n\\n  \\n  \\n    \\n  This was m...\n",
       "2      5  \\n\\n\\n\\n\\n\\n\\n\\n\\n\\n  \\n  \\n    \\n  i still re...\n",
       "3      5  \\n\\n\\n\\n\\n\\n\\n\\n\\n\\n  \\n  \\n    \\n  I bought t...\n",
       "4      5  \\n\\n\\n\\n\\n\\n\\n\\n\\n\\n  \\n  \\n    \\n  I warily b..."
      ]
     },
     "execution_count": 12,
     "metadata": {},
     "output_type": "execute_result"
    }
   ],
   "source": [
    "ps4reviews.head(5)"
   ]
  },
  {
   "cell_type": "code",
   "execution_count": 13,
   "metadata": {},
   "outputs": [
    {
     "data": {
      "text/html": [
       "<div>\n",
       "<style scoped>\n",
       "    .dataframe tbody tr th:only-of-type {\n",
       "        vertical-align: middle;\n",
       "    }\n",
       "\n",
       "    .dataframe tbody tr th {\n",
       "        vertical-align: top;\n",
       "    }\n",
       "\n",
       "    .dataframe thead th {\n",
       "        text-align: right;\n",
       "    }\n",
       "</style>\n",
       "<table border=\"1\" class=\"dataframe\">\n",
       "  <thead>\n",
       "    <tr style=\"text-align: right;\">\n",
       "      <th></th>\n",
       "      <th>stars</th>\n",
       "      <th>comment</th>\n",
       "    </tr>\n",
       "  </thead>\n",
       "  <tbody>\n",
       "    <tr>\n",
       "      <th>0</th>\n",
       "      <td>1</td>\n",
       "      <td>\\n\\n\\n\\n\\n\\n\\n\\n\\n\\n  \\n  \\n    \\n  This shoul...</td>\n",
       "    </tr>\n",
       "    <tr>\n",
       "      <th>1</th>\n",
       "      <td>1</td>\n",
       "      <td>\\n\\n\\n\\n\\n\\n\\n\\n\\n\\n  \\n  \\n    \\n  Hope you n...</td>\n",
       "    </tr>\n",
       "    <tr>\n",
       "      <th>2</th>\n",
       "      <td>1</td>\n",
       "      <td>\\n\\n\\n\\n\\n\\n\\n\\n\\n\\n  \\n  \\n    \\n  Wait for t...</td>\n",
       "    </tr>\n",
       "    <tr>\n",
       "      <th>3</th>\n",
       "      <td>1</td>\n",
       "      <td>\\n\\n\\n\\n\\n\\n\\n\\n\\n\\n  \\n  \\n    \\n  How dare y...</td>\n",
       "    </tr>\n",
       "    <tr>\n",
       "      <th>4</th>\n",
       "      <td>1</td>\n",
       "      <td>\\n\\n\\n\\n\\n\\n\\n\\n\\n\\n  \\n  \\n    \\n  annoying\\n...</td>\n",
       "    </tr>\n",
       "  </tbody>\n",
       "</table>\n",
       "</div>"
      ],
      "text/plain": [
       "   stars                                            comment\n",
       "0      1  \\n\\n\\n\\n\\n\\n\\n\\n\\n\\n  \\n  \\n    \\n  This shoul...\n",
       "1      1  \\n\\n\\n\\n\\n\\n\\n\\n\\n\\n  \\n  \\n    \\n  Hope you n...\n",
       "2      1  \\n\\n\\n\\n\\n\\n\\n\\n\\n\\n  \\n  \\n    \\n  Wait for t...\n",
       "3      1  \\n\\n\\n\\n\\n\\n\\n\\n\\n\\n  \\n  \\n    \\n  How dare y...\n",
       "4      1  \\n\\n\\n\\n\\n\\n\\n\\n\\n\\n  \\n  \\n    \\n  annoying\\n..."
      ]
     },
     "execution_count": 13,
     "metadata": {},
     "output_type": "execute_result"
    }
   ],
   "source": [
    "xboxonexreviews.head(5)"
   ]
  },
  {
   "cell_type": "code",
   "execution_count": 14,
   "metadata": {},
   "outputs": [
    {
     "data": {
      "text/html": [
       "<div>\n",
       "<style scoped>\n",
       "    .dataframe tbody tr th:only-of-type {\n",
       "        vertical-align: middle;\n",
       "    }\n",
       "\n",
       "    .dataframe tbody tr th {\n",
       "        vertical-align: top;\n",
       "    }\n",
       "\n",
       "    .dataframe thead th {\n",
       "        text-align: right;\n",
       "    }\n",
       "</style>\n",
       "<table border=\"1\" class=\"dataframe\">\n",
       "  <thead>\n",
       "    <tr style=\"text-align: right;\">\n",
       "      <th></th>\n",
       "      <th>stars</th>\n",
       "      <th>comment</th>\n",
       "    </tr>\n",
       "  </thead>\n",
       "  <tbody>\n",
       "    <tr>\n",
       "      <th>0</th>\n",
       "      <td>1</td>\n",
       "      <td>\\n\\n\\n\\n\\n\\n\\n\\n\\n\\n  \\n  \\n    \\n  This isn't...</td>\n",
       "    </tr>\n",
       "    <tr>\n",
       "      <th>1</th>\n",
       "      <td>1</td>\n",
       "      <td>\\n\\n\\n\\n\\n\\n\\n\\n\\n\\n  \\n  \\n    \\n  Console po...</td>\n",
       "    </tr>\n",
       "    <tr>\n",
       "      <th>2</th>\n",
       "      <td>1</td>\n",
       "      <td>\\n\\n\\n\\n\\n\\n\\n\\n\\n\\n  \\n  \\n    \\n  Well got i...</td>\n",
       "    </tr>\n",
       "    <tr>\n",
       "      <th>3</th>\n",
       "      <td>1</td>\n",
       "      <td>\\n\\n\\n\\n\\n\\n\\n\\n\\n\\n  \\n  \\n    \\n  Defective ...</td>\n",
       "    </tr>\n",
       "    <tr>\n",
       "      <th>4</th>\n",
       "      <td>3</td>\n",
       "      <td>\\n\\n\\n\\n\\n\\n\\n\\n\\n\\n  \\n  \\n    \\n  Honestly t...</td>\n",
       "    </tr>\n",
       "  </tbody>\n",
       "</table>\n",
       "</div>"
      ],
      "text/plain": [
       "   stars                                            comment\n",
       "0      1  \\n\\n\\n\\n\\n\\n\\n\\n\\n\\n  \\n  \\n    \\n  This isn't...\n",
       "1      1  \\n\\n\\n\\n\\n\\n\\n\\n\\n\\n  \\n  \\n    \\n  Console po...\n",
       "2      1  \\n\\n\\n\\n\\n\\n\\n\\n\\n\\n  \\n  \\n    \\n  Well got i...\n",
       "3      1  \\n\\n\\n\\n\\n\\n\\n\\n\\n\\n  \\n  \\n    \\n  Defective ...\n",
       "4      3  \\n\\n\\n\\n\\n\\n\\n\\n\\n\\n  \\n  \\n    \\n  Honestly t..."
      ]
     },
     "execution_count": 14,
     "metadata": {},
     "output_type": "execute_result"
    }
   ],
   "source": [
    "xboxseriesxreviews.head(5)"
   ]
  },
  {
   "cell_type": "markdown",
   "metadata": {},
   "source": [
    "It seems that the review text for all these reviews seem to have the same extra whitespace issue.<br>\n",
    "The code below is run in order to replace the white space values using regular expressions:"
   ]
  },
  {
   "cell_type": "code",
   "execution_count": 16,
   "metadata": {},
   "outputs": [],
   "source": [
    "ps4reviews.replace(to_replace=[r\"\\\\t|\\\\n|\\\\r\", \"\\t|\\n|\\r\"], value=[\"\",\"\"], regex=True, inplace=True)\n",
    "ps5reviews.replace(to_replace=[r\"\\\\t|\\\\n|\\\\r\", \"\\t|\\n|\\r\"], value=[\"\",\"\"], regex=True, inplace=True)\n",
    "xboxonexreviews.replace(to_replace=[r\"\\\\t|\\\\n|\\\\r\", \"\\t|\\n|\\r\"], value=[\"\",\"\"], regex=True, inplace=True)\n",
    "xboxseriesxreviews.replace(to_replace=[r\"\\\\t|\\\\n|\\\\r\", \"\\t|\\n|\\r\"], value=[\"\",\"\"], regex=True, inplace=True)"
   ]
  },
  {
   "cell_type": "markdown",
   "metadata": {},
   "source": [
    "Next, the \"Rating\" and \"stars\" columns are converted into numeric columns in order to ensure that the columns are all numeric.\n",
    "It's done as a safeguard to confidently make sure the columns are numeric for model building purposes."
   ]
  },
  {
   "cell_type": "code",
   "execution_count": 18,
   "metadata": {},
   "outputs": [],
   "source": [
    "ps5reviews['Rating'] = pd.to_numeric(ps5reviews['Rating'])\n",
    "ps4reviews['stars'] = pd.to_numeric(ps4reviews['stars'])\n",
    "xboxonexreviews['stars'] = pd.to_numeric(xboxonexreviews['stars'])\n",
    "xboxseriesxreviews['stars'] = pd.to_numeric(xboxseriesxreviews['stars'])"
   ]
  },
  {
   "cell_type": "code",
   "execution_count": 19,
   "metadata": {},
   "outputs": [
    {
     "data": {
      "text/html": [
       "<div>\n",
       "<style scoped>\n",
       "    .dataframe tbody tr th:only-of-type {\n",
       "        vertical-align: middle;\n",
       "    }\n",
       "\n",
       "    .dataframe tbody tr th {\n",
       "        vertical-align: top;\n",
       "    }\n",
       "\n",
       "    .dataframe thead th {\n",
       "        text-align: right;\n",
       "    }\n",
       "</style>\n",
       "<table border=\"1\" class=\"dataframe\">\n",
       "  <thead>\n",
       "    <tr style=\"text-align: right;\">\n",
       "      <th></th>\n",
       "      <th>stars</th>\n",
       "      <th>comment</th>\n",
       "    </tr>\n",
       "  </thead>\n",
       "  <tbody>\n",
       "    <tr>\n",
       "      <th>0</th>\n",
       "      <td>3</td>\n",
       "      <td>Your browser does not support HTML5 video....</td>\n",
       "    </tr>\n",
       "    <tr>\n",
       "      <th>1</th>\n",
       "      <td>2</td>\n",
       "      <td>This was my first console I've purch...</td>\n",
       "    </tr>\n",
       "    <tr>\n",
       "      <th>2</th>\n",
       "      <td>5</td>\n",
       "      <td>i still remember that day October 15...</td>\n",
       "    </tr>\n",
       "    <tr>\n",
       "      <th>3</th>\n",
       "      <td>5</td>\n",
       "      <td>I bought this system after purchasin...</td>\n",
       "    </tr>\n",
       "    <tr>\n",
       "      <th>4</th>\n",
       "      <td>5</td>\n",
       "      <td>I warily bought this product open bo...</td>\n",
       "    </tr>\n",
       "  </tbody>\n",
       "</table>\n",
       "</div>"
      ],
      "text/plain": [
       "   stars                                            comment\n",
       "0      3      Your browser does not support HTML5 video....\n",
       "1      2            This was my first console I've purch...\n",
       "2      5            i still remember that day October 15...\n",
       "3      5            I bought this system after purchasin...\n",
       "4      5            I warily bought this product open bo..."
      ]
     },
     "execution_count": 19,
     "metadata": {},
     "output_type": "execute_result"
    }
   ],
   "source": [
    "ps4reviews.head(5)"
   ]
  },
  {
   "cell_type": "code",
   "execution_count": 20,
   "metadata": {},
   "outputs": [
    {
     "data": {
      "text/html": [
       "<div>\n",
       "<style scoped>\n",
       "    .dataframe tbody tr th:only-of-type {\n",
       "        vertical-align: middle;\n",
       "    }\n",
       "\n",
       "    .dataframe tbody tr th {\n",
       "        vertical-align: top;\n",
       "    }\n",
       "\n",
       "    .dataframe thead th {\n",
       "        text-align: right;\n",
       "    }\n",
       "</style>\n",
       "<table border=\"1\" class=\"dataframe\">\n",
       "  <thead>\n",
       "    <tr style=\"text-align: right;\">\n",
       "      <th></th>\n",
       "      <th>Rating</th>\n",
       "      <th>Comment</th>\n",
       "    </tr>\n",
       "  </thead>\n",
       "  <tbody>\n",
       "    <tr>\n",
       "      <th>0</th>\n",
       "      <td>1</td>\n",
       "      <td>This will no doubt come off as someo...</td>\n",
       "    </tr>\n",
       "    <tr>\n",
       "      <th>1</th>\n",
       "      <td>1</td>\n",
       "      <td>Taking advantage of high demand</td>\n",
       "    </tr>\n",
       "    <tr>\n",
       "      <th>2</th>\n",
       "      <td>1</td>\n",
       "      <td>I wait all night just to purchase th...</td>\n",
       "    </tr>\n",
       "    <tr>\n",
       "      <th>3</th>\n",
       "      <td>1</td>\n",
       "      <td>Between Nvidia, Sony and Microsoft, ...</td>\n",
       "    </tr>\n",
       "    <tr>\n",
       "      <th>4</th>\n",
       "      <td>1</td>\n",
       "      <td>I've been a PlayStation guy for a lo...</td>\n",
       "    </tr>\n",
       "  </tbody>\n",
       "</table>\n",
       "</div>"
      ],
      "text/plain": [
       "   Rating                                            Comment\n",
       "0       1            This will no doubt come off as someo...\n",
       "1       1                  Taking advantage of high demand  \n",
       "2       1            I wait all night just to purchase th...\n",
       "3       1            Between Nvidia, Sony and Microsoft, ...\n",
       "4       1            I've been a PlayStation guy for a lo..."
      ]
     },
     "execution_count": 20,
     "metadata": {},
     "output_type": "execute_result"
    }
   ],
   "source": [
    "ps5reviews.head(5)"
   ]
  },
  {
   "cell_type": "code",
   "execution_count": 21,
   "metadata": {},
   "outputs": [
    {
     "data": {
      "text/html": [
       "<div>\n",
       "<style scoped>\n",
       "    .dataframe tbody tr th:only-of-type {\n",
       "        vertical-align: middle;\n",
       "    }\n",
       "\n",
       "    .dataframe tbody tr th {\n",
       "        vertical-align: top;\n",
       "    }\n",
       "\n",
       "    .dataframe thead th {\n",
       "        text-align: right;\n",
       "    }\n",
       "</style>\n",
       "<table border=\"1\" class=\"dataframe\">\n",
       "  <thead>\n",
       "    <tr style=\"text-align: right;\">\n",
       "      <th></th>\n",
       "      <th>stars</th>\n",
       "      <th>comment</th>\n",
       "    </tr>\n",
       "  </thead>\n",
       "  <tbody>\n",
       "    <tr>\n",
       "      <th>0</th>\n",
       "      <td>1</td>\n",
       "      <td>This should be illegal. What a scumm...</td>\n",
       "    </tr>\n",
       "    <tr>\n",
       "      <th>1</th>\n",
       "      <td>1</td>\n",
       "      <td>Hope you never sell them</td>\n",
       "    </tr>\n",
       "    <tr>\n",
       "      <th>2</th>\n",
       "      <td>1</td>\n",
       "      <td>Wait for the stock to replenish, all...</td>\n",
       "    </tr>\n",
       "    <tr>\n",
       "      <th>3</th>\n",
       "      <td>1</td>\n",
       "      <td>How dare you Amazon!  $1,500.00?  Th...</td>\n",
       "    </tr>\n",
       "    <tr>\n",
       "      <th>4</th>\n",
       "      <td>1</td>\n",
       "      <td>annoying</td>\n",
       "    </tr>\n",
       "  </tbody>\n",
       "</table>\n",
       "</div>"
      ],
      "text/plain": [
       "   stars                                            comment\n",
       "0      1            This should be illegal. What a scumm...\n",
       "1      1                         Hope you never sell them  \n",
       "2      1            Wait for the stock to replenish, all...\n",
       "3      1            How dare you Amazon!  $1,500.00?  Th...\n",
       "4      1                                         annoying  "
      ]
     },
     "execution_count": 21,
     "metadata": {},
     "output_type": "execute_result"
    }
   ],
   "source": [
    "xboxonexreviews.head(5)"
   ]
  },
  {
   "cell_type": "code",
   "execution_count": 22,
   "metadata": {},
   "outputs": [
    {
     "data": {
      "text/html": [
       "<div>\n",
       "<style scoped>\n",
       "    .dataframe tbody tr th:only-of-type {\n",
       "        vertical-align: middle;\n",
       "    }\n",
       "\n",
       "    .dataframe tbody tr th {\n",
       "        vertical-align: top;\n",
       "    }\n",
       "\n",
       "    .dataframe thead th {\n",
       "        text-align: right;\n",
       "    }\n",
       "</style>\n",
       "<table border=\"1\" class=\"dataframe\">\n",
       "  <thead>\n",
       "    <tr style=\"text-align: right;\">\n",
       "      <th></th>\n",
       "      <th>stars</th>\n",
       "      <th>comment</th>\n",
       "    </tr>\n",
       "  </thead>\n",
       "  <tbody>\n",
       "    <tr>\n",
       "      <th>0</th>\n",
       "      <td>1</td>\n",
       "      <td>This isn't because there aren't many...</td>\n",
       "    </tr>\n",
       "    <tr>\n",
       "      <th>1</th>\n",
       "      <td>1</td>\n",
       "      <td>Console powered down the first day. ...</td>\n",
       "    </tr>\n",
       "    <tr>\n",
       "      <th>2</th>\n",
       "      <td>1</td>\n",
       "      <td>Well got it on launch day. Suffered ...</td>\n",
       "    </tr>\n",
       "    <tr>\n",
       "      <th>3</th>\n",
       "      <td>1</td>\n",
       "      <td>Defective at launch, love it lots.:(</td>\n",
       "    </tr>\n",
       "    <tr>\n",
       "      <th>4</th>\n",
       "      <td>3</td>\n",
       "      <td>Honestly the same as the Xbox one ju...</td>\n",
       "    </tr>\n",
       "  </tbody>\n",
       "</table>\n",
       "</div>"
      ],
      "text/plain": [
       "   stars                                            comment\n",
       "0      1            This isn't because there aren't many...\n",
       "1      1            Console powered down the first day. ...\n",
       "2      1            Well got it on launch day. Suffered ...\n",
       "3      1             Defective at launch, love it lots.:(  \n",
       "4      3            Honestly the same as the Xbox one ju..."
      ]
     },
     "execution_count": 22,
     "metadata": {},
     "output_type": "execute_result"
    }
   ],
   "source": [
    "xboxseriesxreviews.head(5)"
   ]
  },
  {
   "cell_type": "markdown",
   "metadata": {},
   "source": [
    "As seen by the dataframes above, the whitespace issue has been fixed and the ratings and stars columns are now numeric.<br>\n",
    "The datasets will now be checked to see if there are any null values:"
   ]
  },
  {
   "cell_type": "code",
   "execution_count": 24,
   "metadata": {},
   "outputs": [
    {
     "name": "stdout",
     "output_type": "stream",
     "text": [
      "<class 'pandas.core.frame.DataFrame'>\n",
      "RangeIndex: 1200 entries, 0 to 1199\n",
      "Data columns (total 2 columns):\n",
      " #   Column   Non-Null Count  Dtype \n",
      "---  ------   --------------  ----- \n",
      " 0   stars    1200 non-null   int64 \n",
      " 1   comment  1200 non-null   object\n",
      "dtypes: int64(1), object(1)\n",
      "memory usage: 18.9+ KB\n"
     ]
    }
   ],
   "source": [
    "ps4reviews.info()"
   ]
  },
  {
   "cell_type": "markdown",
   "metadata": {},
   "source": [
    "There are no null values for the PS4 dataset."
   ]
  },
  {
   "cell_type": "code",
   "execution_count": 26,
   "metadata": {},
   "outputs": [
    {
     "name": "stdout",
     "output_type": "stream",
     "text": [
      "<class 'pandas.core.frame.DataFrame'>\n",
      "RangeIndex: 1081 entries, 0 to 1080\n",
      "Data columns (total 2 columns):\n",
      " #   Column   Non-Null Count  Dtype \n",
      "---  ------   --------------  ----- \n",
      " 0   Rating   1081 non-null   int64 \n",
      " 1   Comment  1081 non-null   object\n",
      "dtypes: int64(1), object(1)\n",
      "memory usage: 17.0+ KB\n"
     ]
    }
   ],
   "source": [
    "ps5reviews.info()"
   ]
  },
  {
   "cell_type": "markdown",
   "metadata": {},
   "source": [
    "There are no null values for the PS5 dataset."
   ]
  },
  {
   "cell_type": "code",
   "execution_count": 28,
   "metadata": {},
   "outputs": [
    {
     "name": "stdout",
     "output_type": "stream",
     "text": [
      "<class 'pandas.core.frame.DataFrame'>\n",
      "RangeIndex: 2466 entries, 0 to 2465\n",
      "Data columns (total 2 columns):\n",
      " #   Column   Non-Null Count  Dtype \n",
      "---  ------   --------------  ----- \n",
      " 0   stars    2466 non-null   int64 \n",
      " 1   comment  2465 non-null   object\n",
      "dtypes: int64(1), object(1)\n",
      "memory usage: 38.7+ KB\n"
     ]
    }
   ],
   "source": [
    "xboxonexreviews.info()"
   ]
  },
  {
   "cell_type": "markdown",
   "metadata": {},
   "source": [
    "There is one NULL value in the \"comment\" section for the Xbox One X dataset."
   ]
  },
  {
   "cell_type": "code",
   "execution_count": 30,
   "metadata": {},
   "outputs": [
    {
     "name": "stdout",
     "output_type": "stream",
     "text": [
      "<class 'pandas.core.frame.DataFrame'>\n",
      "RangeIndex: 563 entries, 0 to 562\n",
      "Data columns (total 2 columns):\n",
      " #   Column   Non-Null Count  Dtype \n",
      "---  ------   --------------  ----- \n",
      " 0   stars    563 non-null    int64 \n",
      " 1   comment  563 non-null    object\n",
      "dtypes: int64(1), object(1)\n",
      "memory usage: 8.9+ KB\n"
     ]
    }
   ],
   "source": [
    "xboxseriesxreviews.info()"
   ]
  },
  {
   "cell_type": "markdown",
   "metadata": {},
   "source": [
    "There are no NULL values for the Xbox Series X dataset.<br>\n",
    "The only NULL value that appears is for the Xbox One X dataset.<br>\n",
    "Since it is only one NULL row, I will drop the row from the dataset:"
   ]
  },
  {
   "cell_type": "code",
   "execution_count": null,
   "metadata": {},
   "outputs": [],
   "source": [
    "xboxonexreviews = xboxonexreviews.dropna()"
   ]
  },
  {
   "cell_type": "code",
   "execution_count": 32,
   "metadata": {},
   "outputs": [
    {
     "name": "stdout",
     "output_type": "stream",
     "text": [
      "<class 'pandas.core.frame.DataFrame'>\n",
      "Int64Index: 2465 entries, 0 to 2465\n",
      "Data columns (total 2 columns):\n",
      " #   Column   Non-Null Count  Dtype \n",
      "---  ------   --------------  ----- \n",
      " 0   stars    2465 non-null   int64 \n",
      " 1   comment  2465 non-null   object\n",
      "dtypes: int64(1), object(1)\n",
      "memory usage: 57.8+ KB\n"
     ]
    }
   ],
   "source": [
    "xboxonexreviews.info()"
   ]
  },
  {
   "cell_type": "markdown",
   "metadata": {},
   "source": [
    "As shown above, there are no more NULL values within the Xbox One X dataset."
   ]
  },
  {
   "cell_type": "markdown",
   "metadata": {},
   "source": [
    "#   Data Splitting: PS4 Reviews"
   ]
  },
  {
   "cell_type": "markdown",
   "metadata": {},
   "source": [
    "The next step is to split the dataframes into 2 datasets for each review dataframe: one positive review dataset and one negative review dataset.\n",
    "\n",
    "Positive Reviews will be defined as ratings >=4.<br>\n",
    "Negative Reviews will be defined as ratings <=3.<br>"
   ]
  },
  {
   "cell_type": "markdown",
   "metadata": {},
   "source": [
    "Here, the PS4 reviews are split into the negative set with ratings <= 3:"
   ]
  },
  {
   "cell_type": "code",
   "execution_count": 36,
   "metadata": {},
   "outputs": [
    {
     "data": {
      "text/html": [
       "<div>\n",
       "<style scoped>\n",
       "    .dataframe tbody tr th:only-of-type {\n",
       "        vertical-align: middle;\n",
       "    }\n",
       "\n",
       "    .dataframe tbody tr th {\n",
       "        vertical-align: top;\n",
       "    }\n",
       "\n",
       "    .dataframe thead th {\n",
       "        text-align: right;\n",
       "    }\n",
       "</style>\n",
       "<table border=\"1\" class=\"dataframe\">\n",
       "  <thead>\n",
       "    <tr style=\"text-align: right;\">\n",
       "      <th></th>\n",
       "      <th>stars</th>\n",
       "      <th>comment</th>\n",
       "    </tr>\n",
       "  </thead>\n",
       "  <tbody>\n",
       "    <tr>\n",
       "      <th>0</th>\n",
       "      <td>3</td>\n",
       "      <td>Your browser does not support HTML5 video....</td>\n",
       "    </tr>\n",
       "    <tr>\n",
       "      <th>1</th>\n",
       "      <td>2</td>\n",
       "      <td>This was my first console I've purch...</td>\n",
       "    </tr>\n",
       "    <tr>\n",
       "      <th>8</th>\n",
       "      <td>1</td>\n",
       "      <td>I bought this model because it showe...</td>\n",
       "    </tr>\n",
       "    <tr>\n",
       "      <th>9</th>\n",
       "      <td>2</td>\n",
       "      <td>Had this item since 2013, it's been ...</td>\n",
       "    </tr>\n",
       "    <tr>\n",
       "      <th>13</th>\n",
       "      <td>3</td>\n",
       "      <td>I'd love to say that the graphics ar...</td>\n",
       "    </tr>\n",
       "  </tbody>\n",
       "</table>\n",
       "</div>"
      ],
      "text/plain": [
       "    stars                                            comment\n",
       "0       3      Your browser does not support HTML5 video....\n",
       "1       2            This was my first console I've purch...\n",
       "8       1            I bought this model because it showe...\n",
       "9       2            Had this item since 2013, it's been ...\n",
       "13      3            I'd love to say that the graphics ar..."
      ]
     },
     "execution_count": 36,
     "metadata": {},
     "output_type": "execute_result"
    }
   ],
   "source": [
    "is_2002 =  ps4reviews['stars'] <= 3\n",
    "ps4reviews_negative = ps4reviews[is_2002]\n",
    "ps4reviews_negative.head(5)"
   ]
  },
  {
   "cell_type": "markdown",
   "metadata": {},
   "source": [
    "It looks like the code was successful and the dataset has been created."
   ]
  },
  {
   "cell_type": "markdown",
   "metadata": {},
   "source": [
    "Here, the shape for the negative review dataset is shown:"
   ]
  },
  {
   "cell_type": "code",
   "execution_count": 38,
   "metadata": {},
   "outputs": [
    {
     "data": {
      "text/plain": [
       "(137, 2)"
      ]
     },
     "execution_count": 38,
     "metadata": {},
     "output_type": "execute_result"
    }
   ],
   "source": [
    "ps4reviews_negative.shape"
   ]
  },
  {
   "cell_type": "markdown",
   "metadata": {},
   "source": [
    "As can be seen, there are 137 reviews for the PS4 reviews dataset."
   ]
  },
  {
   "cell_type": "markdown",
   "metadata": {},
   "source": [
    "Here, the PS4 reviews are split into the positive set with ratings >= 4:"
   ]
  },
  {
   "cell_type": "code",
   "execution_count": 40,
   "metadata": {},
   "outputs": [
    {
     "data": {
      "text/html": [
       "<div>\n",
       "<style scoped>\n",
       "    .dataframe tbody tr th:only-of-type {\n",
       "        vertical-align: middle;\n",
       "    }\n",
       "\n",
       "    .dataframe tbody tr th {\n",
       "        vertical-align: top;\n",
       "    }\n",
       "\n",
       "    .dataframe thead th {\n",
       "        text-align: right;\n",
       "    }\n",
       "</style>\n",
       "<table border=\"1\" class=\"dataframe\">\n",
       "  <thead>\n",
       "    <tr style=\"text-align: right;\">\n",
       "      <th></th>\n",
       "      <th>stars</th>\n",
       "      <th>comment</th>\n",
       "    </tr>\n",
       "  </thead>\n",
       "  <tbody>\n",
       "    <tr>\n",
       "      <th>2</th>\n",
       "      <td>5</td>\n",
       "      <td>i still remember that day October 15...</td>\n",
       "    </tr>\n",
       "    <tr>\n",
       "      <th>3</th>\n",
       "      <td>5</td>\n",
       "      <td>I bought this system after purchasin...</td>\n",
       "    </tr>\n",
       "    <tr>\n",
       "      <th>4</th>\n",
       "      <td>5</td>\n",
       "      <td>I warily bought this product open bo...</td>\n",
       "    </tr>\n",
       "    <tr>\n",
       "      <th>5</th>\n",
       "      <td>5</td>\n",
       "      <td>My PS3 only lasted about a year, so ...</td>\n",
       "    </tr>\n",
       "    <tr>\n",
       "      <th>6</th>\n",
       "      <td>5</td>\n",
       "      <td>Just a quick review since everyone e...</td>\n",
       "    </tr>\n",
       "  </tbody>\n",
       "</table>\n",
       "</div>"
      ],
      "text/plain": [
       "   stars                                            comment\n",
       "2      5            i still remember that day October 15...\n",
       "3      5            I bought this system after purchasin...\n",
       "4      5            I warily bought this product open bo...\n",
       "5      5            My PS3 only lasted about a year, so ...\n",
       "6      5            Just a quick review since everyone e..."
      ]
     },
     "execution_count": 40,
     "metadata": {},
     "output_type": "execute_result"
    }
   ],
   "source": [
    "is_2002 =  ps4reviews['stars'] >= 4\n",
    "ps4reviews_positive = ps4reviews[is_2002]\n",
    "ps4reviews_positive.head(5)"
   ]
  },
  {
   "cell_type": "code",
   "execution_count": 41,
   "metadata": {},
   "outputs": [
    {
     "data": {
      "text/plain": [
       "(1063, 2)"
      ]
     },
     "execution_count": 41,
     "metadata": {},
     "output_type": "execute_result"
    }
   ],
   "source": [
    "ps4reviews_positive.shape"
   ]
  },
  {
   "cell_type": "markdown",
   "metadata": {},
   "source": [
    "There are about 1,063 reviews for the PS4 with 2 columns."
   ]
  },
  {
   "cell_type": "markdown",
   "metadata": {},
   "source": [
    "#                                 Data Cleaning (PS4 Positive Reviews)\n",
    "\n",
    "The following section is done in order to prepare the PS4 positive reviews for the LDA model.<br>\n",
    "The data will need to be split, tokenized, and lemmatized in order to prepare it for the model.<br>\n",
    "Visualizations will also be built in order to take a better look at the data.<br>"
   ]
  },
  {
   "cell_type": "markdown",
   "metadata": {},
   "source": [
    "The following is a function which is used in order to split, tokenize, and plot a bar graph of the most frequent words\n",
    "in the PS4 positive review dataset:"
   ]
  },
  {
   "cell_type": "code",
   "execution_count": 44,
   "metadata": {},
   "outputs": [],
   "source": [
    "def freq_words(x, terms = 30):\n",
    "    all_words = ''.join([text for text in x])\n",
    "    all_words = all_words.split()\n",
    "    \n",
    "    fdist = FreqDist(all_words)\n",
    "    words_df = pd.DataFrame({'word': list(fdist.keys()), 'count':list(fdist.values())})\n",
    "    d = words_df.nlargest(columns = 'count', n = terms)\n",
    "    plt.figure(figsize = (20,5))\n",
    "    \n",
    "    ax = sns.barplot(data = d, x = 'word', y = 'count')\n",
    "    ax.set(ylabel = 'Count')\n",
    "    plt.show()"
   ]
  },
  {
   "cell_type": "code",
   "execution_count": 45,
   "metadata": {},
   "outputs": [
    {
     "data": {
      "image/png": "[encoded data removed]",
      "text/plain": [
       "<Figure size 1440x360 with 1 Axes>"
      ]
     },
     "metadata": {
      "needs_background": "light"
     },
     "output_type": "display_data"
    }
   ],
   "source": [
    "freq_words(ps4reviews_positive['comment'])"
   ]
  },
  {
   "cell_type": "markdown",
   "metadata": {},
   "source": [
    "Looking above, it seems most of the most frequent words are \"the\", \"and\", and \"for\".<br> But these are not necessary words because these words don't show true sentiment.<br> The dataset will need to be cleaned further in order to prepare this dataset for the model."
   ]
  },
  {
   "cell_type": "markdown",
   "metadata": {},
   "source": [
    "The following code is run in order to remove the characters and symbols from the review dataset:"
   ]
  },
  {
   "cell_type": "code",
   "execution_count": 47,
   "metadata": {},
   "outputs": [],
   "source": [
    "ps4reviews_positive['comment'] = ps4reviews_positive['comment'].str.replace(\"[^a-zA-Z#]\",\" \")"
   ]
  },
  {
   "cell_type": "markdown",
   "metadata": {},
   "source": [
    "This code is run in order to bring stopwords into the notebook:"
   ]
  },
  {
   "cell_type": "code",
   "execution_count": 48,
   "metadata": {},
   "outputs": [],
   "source": [
    "stop_words = set(stopwords.words('english'))"
   ]
  },
  {
   "cell_type": "markdown",
   "metadata": {},
   "source": [
    "This function is used in order to remove the stopwords and for reusability as well:"
   ]
  },
  {
   "cell_type": "code",
   "execution_count": 49,
   "metadata": {},
   "outputs": [],
   "source": [
    "def remove_stopwords(rev):\n",
    "    rev_new = \" \".join([i for i in rev if i not in stop_words])\n",
    "    return rev_new"
   ]
  },
  {
   "cell_type": "markdown",
   "metadata": {},
   "source": [
    "The following code is run in order to remove short words (length < 3) to make the data cleaner:"
   ]
  },
  {
   "cell_type": "code",
   "execution_count": 50,
   "metadata": {},
   "outputs": [],
   "source": [
    "ps4reviews_positive['comment'] = ps4reviews_positive['comment'].apply(lambda x: ' '.join([w for w in x.split() if len(w) > 2]))"
   ]
  },
  {
   "cell_type": "markdown",
   "metadata": {},
   "source": [
    "This code is run to remove stopwords from the text:"
   ]
  },
  {
   "cell_type": "code",
   "execution_count": 51,
   "metadata": {},
   "outputs": [],
   "source": [
    "reviews = [remove_stopwords(r.split()) for r in ps4reviews_positive['comment']]"
   ]
  },
  {
   "cell_type": "markdown",
   "metadata": {},
   "source": [
    "This code is run in order to make the text lowercase:"
   ]
  },
  {
   "cell_type": "code",
   "execution_count": 52,
   "metadata": {},
   "outputs": [],
   "source": [
    "reviews = [r.lower() for r in reviews]"
   ]
  },
  {
   "cell_type": "code",
   "execution_count": 53,
   "metadata": {},
   "outputs": [
    {
     "data": {
      "image/png": "[encoded data removed]",
      "text/plain": [
       "<Figure size 1440x360 with 1 Axes>"
      ]
     },
     "metadata": {
      "needs_background": "light"
     },
     "output_type": "display_data"
    }
   ],
   "source": [
    "freq_words(reviews, 35)"
   ]
  },
  {
   "cell_type": "markdown",
   "metadata": {},
   "source": [
    "Re-running a frequency bar graph on the data, it seems the stopwords have been removed and the reviews are getting closer \n",
    "to be used for the model.<br> The next step is to lemmatize the data."
   ]
  },
  {
   "cell_type": "markdown",
   "metadata": {},
   "source": [
    "The following pieces of code are run in order to load in Spacy and use the following function to lemmatize the data.<br> \n",
    "This code will be helpful for reusability purposes as well:"
   ]
  },
  {
   "cell_type": "code",
   "execution_count": 55,
   "metadata": {},
   "outputs": [],
   "source": [
    "nlp = spacy.load('en', disable = ['parser', 'ner'])\n",
    "\n",
    "def lemmatization(texts, tags = ['NOUN', 'ADJ']): \n",
    "    output = []\n",
    "    for sent in texts:\n",
    "        doc = nlp(\" \".join(sent))\n",
    "        output.append([token.lemma_ for token in doc if token.pos_ in tags])\n",
    "    return output"
   ]
  },
  {
   "cell_type": "markdown",
   "metadata": {},
   "source": [
    "This code is done in order to split the words into tokens:"
   ]
  },
  {
   "cell_type": "code",
   "execution_count": 56,
   "metadata": {},
   "outputs": [
    {
     "name": "stdout",
     "output_type": "stream",
     "text": [
      "['bought', 'system', 'purchasing', 'returning', 'different', 'slims', 'one', 'pro', 'none', 'newer', 'models', 'would', 'play', 'two', 'used', 'games', 'light', 'scratches', 'discs', 'the', 'discs', 'run', 'fine', 'older', 'model', 'issues', 'system', 'either', 'bad', 'batch', 'area', 'newer', 'systems', 'made', 'run', 'discs', 'blemish', 'conspiracy', 'happy', 'purchase']\n"
     ]
    }
   ],
   "source": [
    "tokenized_reviews = pd.Series(reviews).apply(lambda x: x.split())\n",
    "print(tokenized_reviews[1])"
   ]
  },
  {
   "cell_type": "markdown",
   "metadata": {},
   "source": [
    "The code here is run in order to lemmatize the reviews:"
   ]
  },
  {
   "cell_type": "code",
   "execution_count": 57,
   "metadata": {},
   "outputs": [
    {
     "name": "stdout",
     "output_type": "stream",
     "text": [
      "['bought', 'system', 'different', 'slim', 'none', 'new', 'model', 'game', 'light', 'disc', 'old', 'model', 'issue', 'system', 'bad', 'batch', 'area', 'new', 'system', 'purchase']\n"
     ]
    }
   ],
   "source": [
    "reviews_2 = lemmatization(tokenized_reviews)\n",
    "print(reviews_2[1]) # print lemmatized review"
   ]
  },
  {
   "cell_type": "markdown",
   "metadata": {},
   "source": [
    "The following code is run in order to append the reviews to a new dataframe in order to show a frequency graph \n",
    "of the lemmatized reviews later on:"
   ]
  },
  {
   "cell_type": "code",
   "execution_count": 58,
   "metadata": {},
   "outputs": [],
   "source": [
    "reviews_3 = []\n",
    "for i in range(len(reviews_2)):\n",
    "    reviews_3.append(' '.join(reviews_2[i]))\n",
    "\n",
    "ps4reviews_positive['reviews'] = reviews_3"
   ]
  },
  {
   "cell_type": "markdown",
   "metadata": {},
   "source": [
    "Here,a frequency bar graph of the top 20 words is generated with the appended dataframe from the previous step:"
   ]
  },
  {
   "cell_type": "code",
   "execution_count": 59,
   "metadata": {},
   "outputs": [
    {
     "data": {
      "image/png": "[encoded data removed]",
      "text/plain": [
       "<Figure size 1440x360 with 1 Axes>"
      ]
     },
     "metadata": {
      "needs_background": "light"
     },
     "output_type": "display_data"
    }
   ],
   "source": [
    "freq_words(ps4reviews_positive['reviews'], 20)"
   ]
  },
  {
   "cell_type": "markdown",
   "metadata": {},
   "source": [
    "As can be seen, the tokens are now cleaner as words such as \"game\", \"system\", and \"console\" are now clearly showing in the dataset.<br>\n",
    "The dataset is now ready for model building."
   ]
  },
  {
   "cell_type": "markdown",
   "metadata": {},
   "source": [
    "#                            LDA Model (PS4 Positive Reviews)\n",
    "\n",
    "The code below is run in order to incorporate the reviews into a dictionary in order to set up the LDA Model:"
   ]
  },
  {
   "cell_type": "code",
   "execution_count": 61,
   "metadata": {},
   "outputs": [],
   "source": [
    "dictionary = corpora.Dictionary(reviews_2)\n",
    "doc_term_matrix = [dictionary.doc2bow(rev) for rev in reviews_2]"
   ]
  },
  {
   "cell_type": "markdown",
   "metadata": {},
   "source": [
    "Next, the LDA Model is imported and the next lines of code are run in order to build the model.<br>\n",
    "The number of topics I chose through trial and error were 3."
   ]
  },
  {
   "cell_type": "code",
   "execution_count": 62,
   "metadata": {},
   "outputs": [],
   "source": [
    "LDA = gensim.models.ldamodel.LdaModel\n",
    "\n",
    "lda_model = LDA(corpus = doc_term_matrix, \n",
    "                id2word = dictionary,\n",
    "                num_topics = 3,\n",
    "                random_state = 100,\n",
    "                chunksize = 1000,\n",
    "                passes = 50)"
   ]
  },
  {
   "cell_type": "markdown",
   "metadata": {},
   "source": [
    "Here, this code is being run to print the topics and the words associated with it:"
   ]
  },
  {
   "cell_type": "code",
   "execution_count": 63,
   "metadata": {},
   "outputs": [
    {
     "data": {
      "text/plain": [
       "[(0,\n",
       "  '0.038*\"game\" + 0.024*\"console\" + 0.021*\"system\" + 0.018*\"time\" + 0.016*\"controller\" + 0.014*\"day\" + 0.013*\"good\" + 0.013*\"great\" + 0.012*\"launch\" + 0.011*\"new\"'),\n",
       " (1,\n",
       "  '0.043*\"product\" + 0.042*\"great\" + 0.015*\"power\" + 0.014*\"good\" + 0.012*\"day\" + 0.010*\"package\" + 0.010*\"happy\" + 0.009*\"item\" + 0.009*\"problem\" + 0.008*\"time\"'),\n",
       " (2,\n",
       "  '0.049*\"game\" + 0.024*\"system\" + 0.019*\"console\" + 0.018*\"great\" + 0.015*\"good\" + 0.015*\"new\" + 0.013*\"controller\" + 0.010*\"playstation\" + 0.009*\"graphic\" + 0.009*\"well\"')]"
      ]
     },
     "execution_count": 63,
     "metadata": {},
     "output_type": "execute_result"
    }
   ],
   "source": [
    "lda_model.print_topics()"
   ]
  },
  {
   "cell_type": "markdown",
   "metadata": {},
   "source": [
    "This code is run to generate the LDA model and present it via a graphical bubble plot:"
   ]
  },
  {
   "cell_type": "code",
   "execution_count": 64,
   "metadata": {},
   "outputs": [
    {
     "data": {
      "text/html": [
       "\n",
       "<link rel=\"stylesheet\" type=\"text/css\" href=\"https://cdn.rawgit.com/bmabey/pyLDAvis/files/ldavis.v1.0.0.css\">\n",
       "\n",
       "\n",
       "<div id=\"ldavis_el2040822460349692006884465515\"></div>\n",
       "<script type=\"text/javascript\">\n",
       "\n",
       "var ldavis_el2040822460349692006884465515_data = {\"mdsDat\": {\"x\": [-0.10700838862364818, -0.11643839486956231, 0.2234467834932104], \"y\": [0.11702087318829194, -0.11377416625513426, -0.003246706933157593], \"topics\": [1, 2, 3], \"cluster\": [1, 1, 1], \"Freq\": [78.73428229340665, 11.583498739391583, 9.682218967201758]}, \"tinfo\": {\"Term\": [\"great\", \"game\", \"console\", \"product\", \"system\", \"controller\", \"time\", \"good\", \"day\", \"power\", \"problem\", \"happy\", \"friend\", \"launch\", \"play\", \"account\", \"screen\", \"love\", \"new\", \"much\", \"issue\", \"way\", \"user\", \"playstation\", \"box\", \"review\", \"future\", \"psn\", \"amazing\", \"price\", \"well\", \"people\", \"powerful\", \"month\", \"small\", \"generation\", \"purchase\", \"medium\", \"hdmi\", \"top\", \"hard\", \"light\", \"other\", \"function\", \"exclusive\", \"similar\", \"smooth\", \"headset\", \"main\", \"sound\", \"developer\", \"content\", \"camera\", \"moment\", \"social\", \"gamer\", \"speaker\", \"port\", \"stick\", \"cable\", \"unit\", \"little\", \"year\", \"game\", \"use\", \"system\", \"free\", \"drive\", \"graphic\", \"playstation\", \"next\", \"new\", \"thing\", \"console\", \"online\", \"lot\", \"controller\", \"play\", \"good\", \"right\", \"gaming\", \"great\", \"love\", \"time\", \"problem\", \"easy\", \"friend\", \"video\", \"issue\", \"beautiful\", \"excellent\", \"extra\", \"job\", \"upload\", \"knack\", \"clean\", \"husband\", \"wonderful\", \"house\", \"weekend\", \"voice\", \"note\", \"setting\", \"bed\", \"interact\", \"roommate\", \"reservation\", \"transaction\", \"trip\", \"station\", \"glad\", \"sharp\", \"stand\", \"microphone\", \"log\", \"particular\", \"primary\", \"plug\", \"up\", \"rival\", \"computer\", \"heat\", \"card\", \"launch\", \"day\", \"playing\", \"live\", \"time\", \"account\", \"screen\", \"console\", \"game\", \"controller\", \"system\", \"much\", \"friend\", \"future\", \"psn\", \"minute\", \"good\", \"user\", \"new\", \"great\", \"way\", \"play\", \"amazing\", \"awesome\", \"feature\", \"trophy\", \"playstation\", \"love\", \"one\", \"graphic\", \"big\", \"package\", \"shipping\", \"brother\", \"morning\", \"grandson\", \"cost\", \"cam\", \"seller\", \"product\", \"electronic\", \"bag\", \"fault\", \"surprised\", \"warranty\", \"state\", \"double\", \"helpful\", \"custom\", \"packaging\", \"address\", \"delivery\", \"travel\", \"solution\", \"packed\", \"luggage\", \"international\", \"success\", \"usd\", \"indian\", \"trasformer\", \"asian\", \"bribe\", \"bubblewrap\", \"hotel\", \"statistic\", \"date\", \"ray\", \"complaint\", \"kid\", \"ready\", \"item\", \"shape\", \"power\", \"great\", \"number\", \"day\", \"gift\", \"happy\", \"night\", \"box\", \"good\", \"problem\", \"issue\", \"time\", \"love\", \"perfect\", \"launch\", \"review\", \"order\", \"price\"], \"Freq\": [588.0, 1275.0, 516.0, 129.0, 633.0, 355.0, 275.0, 436.0, 117.0, 103.0, 144.0, 94.0, 136.0, 97.0, 235.0, 91.0, 91.0, 248.0, 399.0, 99.0, 132.0, 99.0, 87.0, 257.0, 75.0, 105.0, 72.0, 72.0, 107.0, 78.0, 220.2357461245377, 107.2183344580756, 95.09878628028171, 95.84008850153421, 87.61733759220708, 77.63402516602406, 78.1531139436785, 66.23373508790056, 64.27960389479952, 65.95845810034125, 64.46038200061736, 66.13510463220041, 60.536403324527775, 52.889240466739885, 52.57883422796885, 53.44495890930684, 53.103886606455745, 48.84867529707452, 50.2741770384455, 49.151552285934045, 46.88385093821468, 49.127382578275835, 47.69287835470018, 45.742057857047605, 45.73374578259655, 44.53372197187912, 42.89257381499176, 42.577554891347134, 43.13445844328645, 48.18252423161759, 74.9693502325365, 147.85095090837973, 147.954588179364, 1142.5886048602486, 116.14860109898005, 560.9352722789341, 120.24337143172684, 106.65590764410733, 221.40256784584386, 233.52012634459976, 106.93858341082158, 348.71525802698665, 189.32074384090356, 433.3594878171286, 95.24519621430125, 121.55780994155099, 300.4392297531466, 205.32043795685448, 349.41488571407183, 95.88624253167775, 116.87943304201625, 423.7587102129845, 202.1572396987199, 188.364306214598, 117.45958213375458, 103.20019394969906, 104.68745184918907, 96.4857339130805, 97.19536435817088, 31.99733818729643, 18.10411245103251, 14.496495509791336, 13.542620298746902, 12.607898540305653, 12.597977103043982, 13.06137900488087, 11.657696780397284, 11.884978072927336, 10.707614989500541, 10.706493679138521, 11.862667835731502, 10.931449972223215, 14.637793412100473, 9.519540272922152, 9.279418297180802, 9.276964530996297, 9.041979628332877, 9.041979628332877, 9.024336985482801, 9.06261749750661, 7.681235912697927, 6.264067971617189, 6.486471724031135, 6.018707349034734, 6.244183507836484, 6.016174003405847, 6.012773281822886, 6.466528075538026, 7.588988540483187, 6.460702380333349, 7.710314801529836, 6.228156047779631, 8.498598385410373, 42.71152108028692, 48.50923951145152, 22.521485029855477, 12.153216786027333, 62.81638872998312, 31.72985847814334, 31.099390929886347, 82.68411443418681, 131.62154094359522, 55.05017076841467, 72.45604917548835, 28.031313024021927, 31.762339688145026, 22.523810829094245, 22.482890199021202, 14.23579644917548, 45.99954857248408, 22.779072894103102, 39.12873772445283, 44.91890610581895, 23.581793548843006, 29.444087300000124, 20.306759500398616, 19.06078054066765, 18.605701289064136, 17.00533226939598, 23.335278024575274, 22.677513527205765, 17.43612019552497, 20.04476957321764, 17.958508460999322, 29.57328815504281, 24.033735853809358, 19.55545553799381, 16.805950183686907, 16.421492290084398, 20.6275708819021, 15.630239986610539, 15.737426117325496, 124.03615895035217, 12.61073500589317, 11.089868407340738, 10.677485857295464, 11.056179122028519, 11.42587948550309, 9.896713238636352, 9.515959602086568, 9.515773754142034, 9.510442993315753, 10.0434582408254, 9.477949017805061, 8.901938048883034, 9.10590416245467, 8.32485277187876, 7.950267548941228, 7.943340367641763, 7.558297520976425, 7.558297520976425, 7.558297520976425, 7.558297520976425, 7.558297520976425, 7.558297520976425, 7.558297520976425, 7.558297520976425, 7.558297520976425, 7.558297520976425, 14.784007443373065, 12.597858016297504, 20.728837956139014, 19.732738432651452, 19.304908442122994, 26.96422635427327, 10.09809753651811, 43.41704538781384, 120.27725992786353, 13.775839836811006, 33.370332802405756, 15.505319416066186, 28.87036309553831, 13.360623439870494, 21.781777535871093, 40.816743844113226, 26.502868859736825, 22.177200458201053, 24.124953768685767, 23.338458637777727, 15.749531637396014, 16.690997213333155, 16.798010866459304, 15.103763511566639, 15.376419827659024], \"Total\": [588.0, 1275.0, 516.0, 129.0, 633.0, 355.0, 275.0, 436.0, 117.0, 103.0, 144.0, 94.0, 136.0, 97.0, 235.0, 91.0, 91.0, 248.0, 399.0, 99.0, 132.0, 99.0, 87.0, 257.0, 75.0, 105.0, 72.0, 72.0, 107.0, 78.0, 220.69624583324887, 107.6861385504867, 95.53388492827025, 96.29704191747804, 88.06804788242447, 78.07668886881068, 78.62805296020562, 66.67799945394411, 64.71764844008835, 66.41600929749143, 64.91346621294073, 66.60929932044324, 60.98402152857029, 53.32515403648563, 53.01378612083221, 53.88785562726987, 53.56101600208766, 49.28486703931821, 50.72354889832576, 49.59273118987056, 47.31834011168198, 49.5857579432292, 48.13803521527043, 46.17815071643699, 46.17540243324835, 44.9788524878195, 43.330150469075804, 43.0170554394958, 43.582227622441614, 48.684371052255884, 76.06972888168896, 153.69723018410724, 153.84457282006656, 1275.8386588076069, 121.76015529375975, 633.6824017864407, 126.74380283131416, 112.05091759312093, 241.74472095459052, 257.1466562595701, 112.5671191826502, 399.89639807274597, 209.85117839186555, 516.3482128401533, 100.75742362138696, 131.64544472717157, 355.76811444444286, 235.0493453376296, 436.2311781306691, 101.98008215943345, 128.16502488338605, 588.954876246667, 248.17321186370341, 275.30564871326686, 144.13314826435155, 119.16851132651826, 136.72051938852545, 112.09670682699684, 132.4771686561425, 33.062087353395945, 18.832411388993577, 15.253672299077131, 14.292399345423554, 13.319006636878449, 13.329533015868355, 13.829959723573593, 12.344467494389674, 12.602758660823053, 11.384086840731278, 11.384650497311542, 12.635731274983105, 11.644111355426544, 15.639248749228738, 10.176996953949317, 9.938280113755871, 9.939311701886526, 9.696748850520459, 9.696748850520459, 9.707828595891208, 9.877358749080951, 8.406990163890441, 6.947753570426957, 7.205927291408065, 6.717434555368795, 6.972620783046519, 6.720403988399357, 6.718100503419455, 7.225490074464017, 8.484111637923476, 7.234617934832143, 8.809264861442571, 6.982054013217202, 10.228634297623552, 97.3052189958604, 117.75965011206858, 41.08352684712543, 17.930608803402333, 275.30564871326686, 91.70779241225662, 91.95262550145058, 516.3482128401533, 1275.8386588076069, 355.76811444444286, 633.6824017864407, 99.86023907609827, 136.72051938852545, 72.3427796610964, 72.45347787900003, 25.876588804517855, 436.2311781306691, 87.42964794707059, 399.89639807274597, 588.954876246667, 99.10758688992084, 235.0493453376296, 107.86331311623526, 85.66812394452354, 79.71945779357826, 54.06958797020962, 257.1466562595701, 248.17321186370341, 64.5456847015287, 241.74472095459052, 104.01876300123806, 30.160309936856386, 24.62857623883605, 20.12068590063235, 17.367659774387604, 16.97238182395978, 21.33815714985421, 16.187782668437944, 16.359717310325422, 129.98355157883577, 13.236902936402172, 11.648246654793562, 11.252781122110644, 11.657451516509997, 12.062349029727923, 10.471710478466548, 10.075483490147082, 10.075806272371754, 10.077798874837033, 10.661091130153537, 10.075549840763488, 9.468394493648788, 9.688733949639387, 8.900868502802778, 8.501543912277691, 8.502839627175671, 8.108455840529842, 8.108455840529842, 8.108455840529842, 8.108455840529842, 8.108455840529842, 8.108455840529842, 8.108455840529842, 8.108455840529842, 8.108455840529842, 8.108455840529842, 16.244828912608423, 13.801814849318246, 23.81764869803744, 22.88323331635487, 22.958490129455157, 33.71144841211965, 11.517510155722128, 103.44212600506965, 588.954876246667, 20.11287717031962, 117.75965011206858, 26.562175488524943, 94.58774063507116, 20.376232316499127, 75.78004182932203, 436.2311781306691, 144.13314826435155, 132.4771686561425, 275.30564871326686, 248.17321186370341, 48.648575102640905, 97.3052189958604, 105.50043377308018, 60.215212077057586, 78.12876740379302], \"Category\": [\"Default\", \"Default\", \"Default\", \"Default\", \"Default\", \"Default\", \"Default\", \"Default\", \"Default\", \"Default\", \"Default\", \"Default\", \"Default\", \"Default\", \"Default\", \"Default\", \"Default\", \"Default\", \"Default\", \"Default\", \"Default\", \"Default\", \"Default\", \"Default\", \"Default\", \"Default\", \"Default\", \"Default\", \"Default\", \"Default\", \"Topic1\", \"Topic1\", \"Topic1\", \"Topic1\", \"Topic1\", \"Topic1\", \"Topic1\", \"Topic1\", \"Topic1\", \"Topic1\", \"Topic1\", \"Topic1\", \"Topic1\", \"Topic1\", \"Topic1\", \"Topic1\", \"Topic1\", \"Topic1\", \"Topic1\", \"Topic1\", \"Topic1\", \"Topic1\", \"Topic1\", \"Topic1\", \"Topic1\", \"Topic1\", \"Topic1\", \"Topic1\", \"Topic1\", \"Topic1\", \"Topic1\", \"Topic1\", \"Topic1\", \"Topic1\", \"Topic1\", \"Topic1\", \"Topic1\", \"Topic1\", \"Topic1\", \"Topic1\", \"Topic1\", \"Topic1\", \"Topic1\", \"Topic1\", \"Topic1\", \"Topic1\", \"Topic1\", \"Topic1\", \"Topic1\", \"Topic1\", \"Topic1\", \"Topic1\", \"Topic1\", \"Topic1\", \"Topic1\", \"Topic1\", \"Topic1\", \"Topic1\", \"Topic1\", \"Topic2\", \"Topic2\", \"Topic2\", \"Topic2\", \"Topic2\", \"Topic2\", \"Topic2\", \"Topic2\", \"Topic2\", \"Topic2\", \"Topic2\", \"Topic2\", \"Topic2\", \"Topic2\", \"Topic2\", \"Topic2\", \"Topic2\", \"Topic2\", \"Topic2\", \"Topic2\", \"Topic2\", \"Topic2\", \"Topic2\", \"Topic2\", \"Topic2\", \"Topic2\", \"Topic2\", \"Topic2\", \"Topic2\", \"Topic2\", \"Topic2\", \"Topic2\", \"Topic2\", \"Topic2\", \"Topic2\", \"Topic2\", \"Topic2\", \"Topic2\", \"Topic2\", \"Topic2\", \"Topic2\", \"Topic2\", \"Topic2\", \"Topic2\", \"Topic2\", \"Topic2\", \"Topic2\", \"Topic2\", \"Topic2\", \"Topic2\", \"Topic2\", \"Topic2\", \"Topic2\", \"Topic2\", \"Topic2\", \"Topic2\", \"Topic2\", \"Topic2\", \"Topic2\", \"Topic2\", \"Topic2\", \"Topic2\", \"Topic2\", \"Topic2\", \"Topic2\", \"Topic3\", \"Topic3\", \"Topic3\", \"Topic3\", \"Topic3\", \"Topic3\", \"Topic3\", \"Topic3\", \"Topic3\", \"Topic3\", \"Topic3\", \"Topic3\", \"Topic3\", \"Topic3\", \"Topic3\", \"Topic3\", \"Topic3\", \"Topic3\", \"Topic3\", \"Topic3\", \"Topic3\", \"Topic3\", \"Topic3\", \"Topic3\", \"Topic3\", \"Topic3\", \"Topic3\", \"Topic3\", \"Topic3\", \"Topic3\", \"Topic3\", \"Topic3\", \"Topic3\", \"Topic3\", \"Topic3\", \"Topic3\", \"Topic3\", \"Topic3\", \"Topic3\", \"Topic3\", \"Topic3\", \"Topic3\", \"Topic3\", \"Topic3\", \"Topic3\", \"Topic3\", \"Topic3\", \"Topic3\", \"Topic3\", \"Topic3\", \"Topic3\", \"Topic3\", \"Topic3\", \"Topic3\", \"Topic3\", \"Topic3\", \"Topic3\", \"Topic3\", \"Topic3\", \"Topic3\"], \"logprob\": [30.0, 29.0, 28.0, 27.0, 26.0, 25.0, 24.0, 23.0, 22.0, 21.0, 20.0, 19.0, 18.0, 17.0, 16.0, 15.0, 14.0, 13.0, 12.0, 11.0, 10.0, 9.0, 8.0, 7.0, 6.0, 5.0, 4.0, 3.0, 2.0, 1.0, -4.663599967956543, -5.383399963378906, -5.503399848937988, -5.49560022354126, -5.585299968719482, -5.706299781799316, -5.6996002197265625, -5.865099906921387, -5.895100116729736, -5.86929988861084, -5.892199993133545, -5.866600036621094, -5.954999923706055, -6.090099811553955, -6.0960001945495605, -6.079599857330322, -6.085999965667725, -6.169600009918213, -6.1407999992370605, -6.163400173187256, -6.210599899291992, -6.163899898529053, -6.19350004196167, -6.235300064086914, -6.235499858856201, -6.26200008392334, -6.299600124359131, -6.307000160217285, -6.294000148773193, -6.183300018310547, -5.741199970245361, -5.062099933624268, -5.061399936676025, -3.017199993133545, -5.303400039672852, -3.7286999225616455, -5.268799781799316, -5.388700008392334, -4.658299922943115, -4.605000019073486, -5.386000156402588, -4.203999996185303, -4.814899921417236, -3.9867000579833984, -5.501800060272217, -5.257900238037109, -4.353000164031982, -4.733699798583984, -4.202000141143799, -5.495100021362305, -5.2972002029418945, -4.009099960327148, -4.749199867248535, -4.819900035858154, -5.292200088500977, -5.421599864959717, -5.407299995422363, -5.488900184631348, -5.481599807739258, -4.67609977722168, -5.245699882507324, -5.467899799346924, -5.535999774932861, -5.607500076293945, -5.60830020904541, -5.5721001625061035, -5.685800075531006, -5.666500091552734, -5.7708001136779785, -5.770899772644043, -5.668399810791016, -5.750199794769287, -5.458199977874756, -5.888500213623047, -5.914000034332275, -5.914299964904785, -5.939899921417236, -5.939899921417236, -5.94189977645874, -5.937600135803223, -6.103000164031982, -6.307000160217285, -6.27209997177124, -6.34689998626709, -6.310100078582764, -6.347300052642822, -6.347899913787842, -6.275199890136719, -6.115099906921387, -6.276100158691406, -6.0991997718811035, -6.312699794769287, -6.0019001960754395, -4.38730001449585, -4.260000228881836, -5.027299880981445, -5.644199848175049, -4.0015997886657715, -4.684500217437744, -4.704599857330322, -3.726799964904785, -3.261899948120117, -4.133600234985352, -3.858799934387207, -4.808499813079834, -4.683499813079834, -5.027200222015381, -5.0289998054504395, -5.486000061035156, -4.313199996948242, -5.015999794006348, -4.474899768829346, -4.336900234222412, -4.981299877166748, -4.759300231933594, -5.130799770355225, -5.194200038909912, -5.218299865722656, -5.308300018310547, -4.991799831390381, -5.020400047302246, -5.283299922943115, -5.143799781799316, -5.253699779510498, -4.5756001472473145, -4.7829999923706055, -4.989299774169922, -5.1407999992370605, -5.163899898529053, -4.9359002113342285, -5.2133002281188965, -5.206500053405762, -3.141900062561035, -5.427999973297119, -5.55649995803833, -5.594399929046631, -5.559500217437744, -5.526599884033203, -5.670300006866455, -5.709499835968018, -5.70959997177124, -5.710100173950195, -5.655600070953369, -5.713500022888184, -5.776199817657471, -5.753600120544434, -5.843299865722656, -5.8892998695373535, -5.890200138092041, -5.939899921417236, -5.939899921417236, -5.939899921417236, -5.939899921417236, -5.939899921417236, -5.939899921417236, -5.939899921417236, -5.939899921417236, -5.939899921417236, -5.939899921417236, -5.269000053405762, -5.428999900817871, -4.931000232696533, -4.980199813842773, -5.002099990844727, -4.668000221252441, -5.650199890136719, -4.191699981689453, -3.1726999282836914, -5.339600086212158, -4.454800128936768, -5.22130012512207, -4.599699974060059, -5.370200157165527, -4.881400108337402, -4.253399848937988, -4.685299873352051, -4.863399982452393, -4.779300212860107, -4.812399864196777, -5.205699920654297, -5.147600173950195, -5.141200065612793, -5.247600078582764, -5.229700088500977], \"loglift\": [30.0, 29.0, 28.0, 27.0, 26.0, 25.0, 24.0, 23.0, 22.0, 21.0, 20.0, 19.0, 18.0, 17.0, 16.0, 15.0, 14.0, 13.0, 12.0, 11.0, 10.0, 9.0, 8.0, 7.0, 6.0, 5.0, 4.0, 3.0, 2.0, 1.0, 0.237, 0.2347, 0.2345, 0.2343, 0.234, 0.2334, 0.233, 0.2324, 0.2323, 0.2322, 0.2321, 0.2319, 0.2317, 0.2309, 0.2309, 0.2308, 0.2305, 0.2302, 0.2302, 0.2302, 0.2299, 0.2298, 0.2298, 0.2296, 0.2295, 0.2291, 0.2289, 0.2288, 0.2288, 0.2287, 0.2245, 0.2003, 0.2001, 0.1288, 0.1919, 0.1171, 0.1864, 0.1897, 0.1512, 0.1427, 0.1878, 0.1021, 0.1361, 0.0639, 0.1828, 0.1594, 0.0701, 0.1039, 0.0172, 0.1775, 0.1469, -0.0901, 0.034, -0.1404, 0.0344, 0.0952, -0.0279, 0.0891, -0.0706, 2.1229, 2.1161, 2.1047, 2.1017, 2.1007, 2.0991, 2.0984, 2.0983, 2.0969, 2.0943, 2.0942, 2.0925, 2.0924, 2.0894, 2.0888, 2.087, 2.0866, 2.0857, 2.0857, 2.0826, 2.0695, 2.0653, 2.052, 2.0504, 2.0458, 2.0452, 2.0449, 2.0447, 2.0446, 2.0441, 2.0424, 2.0223, 2.0413, 1.9703, 1.3322, 1.2687, 1.5545, 1.7667, 0.6779, 1.0942, 1.0715, 0.3238, -0.1158, 0.2896, -0.013, 0.8851, 0.6959, 0.9887, 0.9854, 1.558, -0.094, 0.8106, -0.1688, -0.4179, 0.7199, 0.0783, 0.4857, 0.6527, 0.7005, 0.9988, -0.2441, -0.2372, 0.8468, -0.3343, 0.3991, 2.3152, 2.3104, 2.3064, 2.302, 2.3019, 2.301, 2.2998, 2.2961, 2.288, 2.2864, 2.2858, 2.2824, 2.2819, 2.2807, 2.2784, 2.2777, 2.2777, 2.2769, 2.2752, 2.2737, 2.2732, 2.2728, 2.268, 2.2678, 2.2668, 2.2646, 2.2646, 2.2646, 2.2646, 2.2646, 2.2646, 2.2646, 2.2646, 2.2646, 2.2646, 2.2407, 2.2436, 2.196, 2.1868, 2.1616, 2.1116, 2.2034, 1.4667, 0.7463, 1.9564, 1.0739, 1.7966, 1.1482, 1.9128, 1.0881, -0.0342, 0.6414, 0.5475, -0.0998, -0.0291, 1.2071, 0.5719, 0.4974, 0.9519, 0.7094]}, \"token.table\": {\"Topic\": [1, 2, 3, 1, 2, 3, 1, 2, 3, 1, 2, 2, 1, 2, 1, 2, 3, 3, 3, 3, 1, 3, 1, 2, 3, 2, 1, 3, 1, 2, 3, 1, 2, 1, 1, 2, 1, 3, 3, 1, 3, 1, 2, 3, 3, 1, 3, 1, 2, 1, 2, 3, 2, 1, 2, 3, 1, 2, 1, 2, 1, 2, 1, 1, 2, 1, 2, 3, 1, 1, 2, 1, 2, 3, 2, 1, 2, 3, 3, 1, 2, 1, 2, 3, 1, 3, 1, 1, 1, 2, 3, 3, 2, 2, 3, 2, 3, 1, 2, 3, 2, 3, 2, 1, 3, 2, 1, 2, 3, 1, 1, 2, 1, 2, 2, 1, 3, 1, 2, 3, 3, 1, 1, 2, 1, 2, 1, 1, 3, 1, 2, 1, 2, 3, 1, 2, 2, 3, 2, 1, 3, 1, 2, 1, 2, 1, 2, 3, 1, 3, 3, 3, 2, 1, 1, 2, 3, 1, 2, 1, 2, 3, 1, 2, 2, 1, 1, 2, 3, 1, 1, 3, 2, 1, 3, 2, 3, 1, 2, 1, 1, 3, 1, 3, 2, 1, 2, 3, 1, 2, 2, 2, 1, 2, 3, 1, 2, 1, 3, 2, 3, 1, 1, 1, 1, 3, 1, 1, 2, 3, 2, 3, 1, 3, 3, 1, 2, 1, 2, 3, 1, 2, 3, 1, 2, 3, 3, 2, 1, 2, 1, 3, 1, 2, 2, 3, 1, 2, 1, 2, 1, 2, 3, 2, 3, 1, 2, 2, 1, 2, 1, 2], \"Freq\": [0.6542519280180719, 0.34893436160963837, 0.8932514991477639, 0.8065763741768935, 0.18541985613261922, 0.9866243533093281, 0.7704149100164711, 0.22178611045928714, 0.9443481346158831, 0.03024612418783915, 0.9678759740108528, 0.9826081353123889, 0.826773915769181, 0.17304570330052627, 0.5542356402309174, 0.15835304006597642, 0.2903139067876234, 0.9866243533093281, 0.9940018992777698, 0.9866243533093281, 0.9859426950073709, 0.9883997288396964, 0.9971325124788923, 0.7821180978049692, 0.09776476222562115, 0.9399882761654829, 0.12595701775747487, 0.881699124302324, 0.11351685023990116, 0.9081348019192093, 0.11351685023990116, 0.8385813860346302, 0.16074423796968662, 0.9881869720757352, 0.8432458891614593, 0.15459507967960084, 0.046864403189889915, 0.9841524669876882, 0.9922801719102287, 0.06155805058826136, 0.9233707588239204, 0.3057074300555394, 0.41610177979781754, 0.2802318108842445, 0.9505307373955556, 0.9932723736519367, 0.9925082016936558, 0.9549230144507892, 0.04462257076872846, 0.8643222849178924, 0.1342636559095755, 0.9821028425198558, 0.95579900142368, 0.9997399521550718, 0.9178117718476895, 0.9775361202384046, 0.7651833277385112, 0.23833579060707724, 0.9467918534818651, 0.04733959267409326, 0.7679900608160822, 0.23405411377252028, 0.9939024266809777, 0.6911539787969797, 0.3179308302466107, 0.8958813029448744, 0.10346135782040546, 0.0015675963306122037, 1.0004701656669925, 0.912885555996694, 0.08582684714498832, 0.9990177750885474, 0.41412270635558757, 0.6023603001535819, 0.9515890757623889, 0.8000345172381517, 0.10544867562451284, 0.093986863056631, 0.9427079926644665, 0.9141874913641352, 0.08273189967096246, 0.7199193301566615, 0.07640653268172115, 0.20375075381792307, 0.6977648430639074, 0.30659364316444415, 0.9859279396674918, 0.9889110859651721, 0.9942199896960066, 0.8593459730677893, 0.9924764063219816, 0.9866243533093281, 0.9662610759997852, 0.9720953945930655, 0.9866243533093281, 0.905589286776374, 0.9866243533093281, 0.7322016388482231, 0.09813011654666907, 0.16606635107897844, 0.17798108009630734, 0.800914860433383, 0.9795416194050595, 0.13110035450522942, 0.8740023633681961, 0.9752779774448169, 0.39052376010393247, 0.44190846538076567, 0.17470799794123296, 0.9908526387957929, 0.9629321219563763, 0.0390377887279612, 0.33462332850971016, 0.6692466570194203, 0.8605085787238875, 0.9267316484276288, 0.07596161052685482, 0.8139476395661038, 0.09267720648524945, 0.09267720648524945, 0.9408621532071991, 0.9857354441075072, 0.9898317367123106, 0.8931981324930962, 0.42509467082768976, 0.5410295810534234, 0.9961420993765873, 0.9969153578182329, 0.9788307820878781, 0.7210076870047604, 0.280391878279629, 0.8727260402493365, 0.09752525951210352, 0.03000777215757031, 0.9505440023421311, 0.044417944034679024, 0.343537504444918, 0.6379982225405619, 0.9446835111958658, 0.2983163447571858, 0.6960714711001003, 0.7281664175899099, 0.26337934253252054, 0.9428585665010505, 0.04962413507900266, 0.48160587664938576, 0.2823206863117089, 0.24910648792209608, 1.0002620107862552, 0.9946847384130995, 0.9379902936685603, 0.9410055494092813, 0.8928034699040555, 0.9936283484604194, 0.5550008390386402, 0.12333351978636448, 0.32888938609697194, 0.8721572898045467, 0.12337834831381392, 0.1947252491191552, 0.5598350912175712, 0.243406561398944, 0.9099865555467099, 0.08944312298108688, 0.8303935010865096, 0.99960351913162, 0.4640275857985318, 0.11600689644963295, 0.41569137894451813, 0.9944115647691799, 0.8063611150345814, 0.19199074167490035, 0.8931095920559765, 0.8117494234248792, 0.18732679002112598, 0.03846640547413779, 0.9539668557586172, 0.6900979975523306, 0.3036431189230254, 0.992012355176549, 0.07245423959946803, 0.9419051147930845, 0.13067061392469692, 0.8275805548564139, 0.9281461383334619, 0.6824616489716439, 0.1611367782294159, 0.1611367782294159, 0.9413602927865432, 0.05883501829915895, 0.8293458001578919, 0.9054952968515677, 0.663385081908702, 0.3371301235929469, 0.978012009406887, 0.06394169029694062, 0.9591253544541094, 0.08682432109714096, 0.8682432109714096, 0.8635884878731076, 0.9744777679090979, 0.9835240126567484, 0.999227326095438, 0.9895256654193081, 0.996201388098308, 0.8987886965728001, 0.9880480228523565, 0.9923805833697387, 0.8326478685337356, 0.9549538273201358, 0.9111747612525883, 0.9866243533093281, 0.9866407098901523, 0.9866243533093281, 0.943602466149752, 0.8853015302594192, 0.11362158677126236, 0.9006382592099192, 0.028591690768568864, 0.07147922692142215, 0.6828773796639516, 0.22883656871717525, 0.08717583570178104, 0.993736309936539, 0.9281461383334619, 0.9866243533093281, 0.9289139372368646, 0.9270868259673649, 0.684303346649981, 0.31440964575809943, 0.9859375220943313, 0.013145833627924416, 0.11786737877541112, 0.942939030203289, 0.976048766580297, 0.9866243533093281, 0.9526926088434863, 0.041064336588081306, 0.7320171303760166, 0.2630686562288809, 0.8564033923687027, 0.05352521202304392, 0.08920868670507319, 0.9496878129846146, 0.911928511842118, 0.7567533662513928, 0.2421610772004457, 0.9662132361988296, 0.9968452302819191, 0.9521724824663358, 0.9620098862577217, 0.039000400794231956], \"Term\": [\"account\", \"account\", \"address\", \"amazing\", \"amazing\", \"asian\", \"awesome\", \"awesome\", \"bag\", \"beautiful\", \"beautiful\", \"bed\", \"big\", \"big\", \"box\", \"box\", \"box\", \"bribe\", \"brother\", \"bubblewrap\", \"cable\", \"cam\", \"camera\", \"card\", \"card\", \"clean\", \"complaint\", \"complaint\", \"computer\", \"computer\", \"computer\", \"console\", \"console\", \"content\", \"controller\", \"controller\", \"cost\", \"cost\", \"custom\", \"date\", \"date\", \"day\", \"day\", \"day\", \"delivery\", \"developer\", \"double\", \"drive\", \"drive\", \"easy\", \"easy\", \"electronic\", \"excellent\", \"exclusive\", \"extra\", \"fault\", \"feature\", \"feature\", \"free\", \"free\", \"friend\", \"friend\", \"function\", \"future\", \"future\", \"game\", \"game\", \"game\", \"gamer\", \"gaming\", \"gaming\", \"generation\", \"gift\", \"gift\", \"glad\", \"good\", \"good\", \"good\", \"grandson\", \"graphic\", \"graphic\", \"great\", \"great\", \"great\", \"happy\", \"happy\", \"hard\", \"hdmi\", \"headset\", \"heat\", \"helpful\", \"hotel\", \"house\", \"husband\", \"indian\", \"interact\", \"international\", \"issue\", \"issue\", \"issue\", \"item\", \"item\", \"job\", \"kid\", \"kid\", \"knack\", \"launch\", \"launch\", \"launch\", \"light\", \"little\", \"little\", \"live\", \"live\", \"log\", \"lot\", \"lot\", \"love\", \"love\", \"love\", \"luggage\", \"main\", \"medium\", \"microphone\", \"minute\", \"minute\", \"moment\", \"month\", \"morning\", \"much\", \"much\", \"new\", \"new\", \"new\", \"next\", \"next\", \"night\", \"night\", \"note\", \"number\", \"number\", \"one\", \"one\", \"online\", \"online\", \"order\", \"order\", \"order\", \"other\", \"package\", \"packaging\", \"packed\", \"particular\", \"people\", \"perfect\", \"perfect\", \"perfect\", \"play\", \"play\", \"playing\", \"playing\", \"playing\", \"playstation\", \"playstation\", \"plug\", \"port\", \"power\", \"power\", \"power\", \"powerful\", \"price\", \"price\", \"primary\", \"problem\", \"problem\", \"product\", \"product\", \"psn\", \"psn\", \"purchase\", \"ray\", \"ray\", \"ready\", \"ready\", \"reservation\", \"review\", \"review\", \"review\", \"right\", \"right\", \"rival\", \"roommate\", \"screen\", \"screen\", \"seller\", \"setting\", \"setting\", \"shape\", \"shape\", \"sharp\", \"shipping\", \"similar\", \"small\", \"smooth\", \"social\", \"solution\", \"sound\", \"speaker\", \"stand\", \"state\", \"station\", \"statistic\", \"stick\", \"success\", \"surprised\", \"system\", \"system\", \"thing\", \"thing\", \"thing\", \"time\", \"time\", \"time\", \"top\", \"transaction\", \"trasformer\", \"travel\", \"trip\", \"trophy\", \"trophy\", \"unit\", \"unit\", \"up\", \"up\", \"upload\", \"usd\", \"use\", \"use\", \"user\", \"user\", \"video\", \"video\", \"video\", \"voice\", \"warranty\", \"way\", \"way\", \"weekend\", \"well\", \"wonderful\", \"year\", \"year\"]}, \"R\": 30, \"lambda.step\": 0.01, \"plot.opts\": {\"xlab\": \"PC1\", \"ylab\": \"PC2\"}, \"topic.order\": [3, 1, 2]};\n",
       "\n",
       "function LDAvis_load_lib(url, callback){\n",
       "  var s = document.createElement('script');\n",
       "  s.src = url;\n",
       "  s.async = true;\n",
       "  s.onreadystatechange = s.onload = callback;\n",
       "  s.onerror = function(){console.warn(\"failed to load library \" + url);};\n",
       "  document.getElementsByTagName(\"head\")[0].appendChild(s);\n",
       "}\n",
       "\n",
       "if(typeof(LDAvis) !== \"undefined\"){\n",
       "   // already loaded: just create the visualization\n",
       "   !function(LDAvis){\n",
       "       new LDAvis(\"#\" + \"ldavis_el2040822460349692006884465515\", ldavis_el2040822460349692006884465515_data);\n",
       "   }(LDAvis);\n",
       "}else if(typeof define === \"function\" && define.amd){\n",
       "   // require.js is available: use it to load d3/LDAvis\n",
       "   require.config({paths: {d3: \"https://cdnjs.cloudflare.com/ajax/libs/d3/3.5.5/d3.min\"}});\n",
       "   require([\"d3\"], function(d3){\n",
       "      window.d3 = d3;\n",
       "      LDAvis_load_lib(\"https://cdn.rawgit.com/bmabey/pyLDAvis/files/ldavis.v1.0.0.js\", function(){\n",
       "        new LDAvis(\"#\" + \"ldavis_el2040822460349692006884465515\", ldavis_el2040822460349692006884465515_data);\n",
       "      });\n",
       "    });\n",
       "}else{\n",
       "    // require.js not available: dynamically load d3 & LDAvis\n",
       "    LDAvis_load_lib(\"https://cdnjs.cloudflare.com/ajax/libs/d3/3.5.5/d3.min.js\", function(){\n",
       "         LDAvis_load_lib(\"https://cdn.rawgit.com/bmabey/pyLDAvis/files/ldavis.v1.0.0.js\", function(){\n",
       "                 new LDAvis(\"#\" + \"ldavis_el2040822460349692006884465515\", ldavis_el2040822460349692006884465515_data);\n",
       "            })\n",
       "         });\n",
       "}\n",
       "</script>"
      ],
      "text/plain": [
       "PreparedData(topic_coordinates=              x         y  topics  cluster       Freq\n",
       "topic                                                \n",
       "2     -0.107008  0.117021       1        1  78.734282\n",
       "0     -0.116438 -0.113774       2        1  11.583499\n",
       "1      0.223447 -0.003247       3        1   9.682219, topic_info=        Term         Freq        Total Category  logprob  loglift\n",
       "197    great   588.000000   588.000000  Default  30.0000  30.0000\n",
       "12      game  1275.000000  1275.000000  Default  29.0000  29.0000\n",
       "103  console   516.000000   516.000000  Default  28.0000  28.0000\n",
       "61   product   129.000000   129.000000  Default  27.0000  27.0000\n",
       "46    system   633.000000   633.000000  Default  26.0000  26.0000\n",
       "..       ...          ...          ...      ...      ...      ...\n",
       "199  perfect    15.749532    48.648575   Topic3  -5.2057   1.2071\n",
       "17    launch    16.690997    97.305219   Topic3  -5.1476   0.5719\n",
       "132   review    16.798011   105.500434   Topic3  -5.1412   0.4974\n",
       "251    order    15.103764    60.215212   Topic3  -5.2476   0.9519\n",
       "217    price    15.376420    78.128767   Topic3  -5.2297   0.7094\n",
       "\n",
       "[214 rows x 6 columns], token_table=      Topic      Freq       Term\n",
       "term                            \n",
       "1339      1  0.654252    account\n",
       "1339      2  0.348934    account\n",
       "2235      3  0.893251    address\n",
       "95        1  0.806576    amazing\n",
       "95        2  0.185420    amazing\n",
       "...     ...       ...        ...\n",
       "1358      2  0.966213    weekend\n",
       "379       1  0.996845       well\n",
       "1212      2  0.952172  wonderful\n",
       "93        1  0.962010       year\n",
       "93        2  0.039000       year\n",
       "\n",
       "[252 rows x 3 columns], R=30, lambda_step=0.01, plot_opts={'xlab': 'PC1', 'ylab': 'PC2'}, topic_order=[3, 1, 2])"
      ]
     },
     "execution_count": 64,
     "metadata": {},
     "output_type": "execute_result"
    }
   ],
   "source": [
    "pyLDAvis.enable_notebook()\n",
    "vis = pyLDAvis.gensim.prepare(lda_model, doc_term_matrix, dictionary)\n",
    "vis"
   ]
  },
  {
   "cell_type": "markdown",
   "metadata": {},
   "source": [
    "As can be seen above, there are 3 topics which were created.<br> Based on the words within each topic, I can take a reasonable guess as to what the topics are about:<br>\n",
    "\n",
    "Topic 1: Positive Review for PS4 features: Graphics, controller, play, well, easy<br>\n",
    "Topic 2: Positive Reviews for PS4 internal features: amazing, sysytem, awesome, feature<br>\n",
    "Topic 3: Positive Reviews on PS4 speed and power.<br>\n",
    "\n",
    "It seems to me that people were really happy with the PS4 based on the firmware and software.<br>\n",
    "There were positive comments for the controller, graphics, and the power of the PS4 as well.<br>"
   ]
  },
  {
   "cell_type": "markdown",
   "metadata": {},
   "source": [
    "#                                  Data Cleaning (PS4 Negative Reviews)\n",
    "\n",
    "The following section is done in order to prepare the PS4 negative reviews for the LDA model.<br>\n",
    "The data will need to be split, tokenized, and lemmatized in order to prepare it for the model.<br>\n",
    "Visualizations will also be built in order to take a better look at the data."
   ]
  },
  {
   "cell_type": "code",
   "execution_count": 67,
   "metadata": {},
   "outputs": [
    {
     "data": {
      "image/png": "[encoded data removed]",
      "text/plain": [
       "<Figure size 1440x360 with 1 Axes>"
      ]
     },
     "metadata": {
      "needs_background": "light"
     },
     "output_type": "display_data"
    }
   ],
   "source": [
    "freq_words(ps4reviews_negative['comment'])"
   ]
  },
  {
   "cell_type": "markdown",
   "metadata": {},
   "source": [
    "Looking above, it seems most of the most frequent words are \"the\", \"and\", and \"for\".<br> But these are not necessary words because these words don't show true sentiment.<br> The dataset will need to be cleaned further in order to prepare this dataset for the model."
   ]
  },
  {
   "cell_type": "markdown",
   "metadata": {},
   "source": [
    "The following code is run in order to remove short words (length < 3) to make the data cleaner:"
   ]
  },
  {
   "cell_type": "code",
   "execution_count": 69,
   "metadata": {},
   "outputs": [],
   "source": [
    "ps4reviews_negative['comment'] = ps4reviews_negative['comment'].apply(lambda x: ' '.join([w for w in x.split() if len(w) > 2]))"
   ]
  },
  {
   "cell_type": "markdown",
   "metadata": {},
   "source": [
    "The following code is run to remove stopwords from the text:"
   ]
  },
  {
   "cell_type": "code",
   "execution_count": 70,
   "metadata": {},
   "outputs": [],
   "source": [
    "reviews = [remove_stopwords(r.split()) for r in ps4reviews_negative['comment']]"
   ]
  },
  {
   "cell_type": "markdown",
   "metadata": {},
   "source": [
    "This code is run to make the text lowercase:"
   ]
  },
  {
   "cell_type": "code",
   "execution_count": 71,
   "metadata": {},
   "outputs": [],
   "source": [
    "reviews = [r.lower() for r in reviews]"
   ]
  },
  {
   "cell_type": "code",
   "execution_count": 72,
   "metadata": {},
   "outputs": [
    {
     "data": {
      "image/png": "[encoded data removed]",
      "text/plain": [
       "<Figure size 1440x360 with 1 Axes>"
      ]
     },
     "metadata": {
      "needs_background": "light"
     },
     "output_type": "display_data"
    }
   ],
   "source": [
    "freq_words(reviews, 35)"
   ]
  },
  {
   "cell_type": "markdown",
   "metadata": {},
   "source": [
    "Re-running a frequency bar graph on the data, it seems the stopwords have been removed and the reviews are getting closer to be used for the model.<br> The next step is to lemmatize the data."
   ]
  },
  {
   "cell_type": "markdown",
   "metadata": {},
   "source": [
    "This code is done in order to split the words of the words into tokens:"
   ]
  },
  {
   "cell_type": "code",
   "execution_count": 74,
   "metadata": {},
   "outputs": [
    {
     "name": "stdout",
     "output_type": "stream",
     "text": [
      "['this', 'first', 'console', \"i've\", 'purchased', 'myself.', 'the', 'product', 'used', 'labelled', 'good', 'sold', 'amazon.com', 'services,', 'inc.', 'unfortunately', 'controller', 'worked', 'close', 'console.', 'the', 'controller', 'within', 'feet', 'console', 'work', 'even', 'connection', 'sometime', 'drops', 'out.', 'using', 'usb', 'cable', 'question', 'method', 'connection', 'via', 'bluetooth.', 'initially', 'thought', 'controller', 'issue', 'went', 'bought', 'new', 'controller', 'still', 'issue', 'persisted', 'meaning', 'console', 'defective.', 'either', 'device', 'got', 'damaged', 'delivery', 'properly', 'test', 'console.', 'the', 'device', 'still', 'usable', 'fullest', 'potential.', 'this', 'disappointing', 'expensive', 'purchase', 'brings', 'caution', 'towards', 'labeling', 'used', 'products', 'sold', 'amazon.']\n"
     ]
    }
   ],
   "source": [
    "tokenized_reviews = pd.Series(reviews).apply(lambda x: x.split())\n",
    "print(tokenized_reviews[1])"
   ]
  },
  {
   "cell_type": "markdown",
   "metadata": {},
   "source": [
    "This code below is run in order to lemmatize the reviews:"
   ]
  },
  {
   "cell_type": "code",
   "execution_count": 75,
   "metadata": {},
   "outputs": [
    {
     "name": "stdout",
     "output_type": "stream",
     "text": [
      "['first', 'console', 'product', 'good', 'sold', 'service', 'close', 'console', 'controller', 'foot', 'work', 'cable', 'question', 'method', 'connection', 'issue', 'new', 'controller', 'issue', 'console', 'device', 'delivery', 'console', 'device', 'usable', 'full', 'potential', 'disappointing', 'expensive', 'purchase', 'caution', 'product']\n"
     ]
    }
   ],
   "source": [
    "reviews_2 = lemmatization(tokenized_reviews)\n",
    "print(reviews_2[1]) "
   ]
  },
  {
   "cell_type": "markdown",
   "metadata": {},
   "source": [
    "The following code is run in order to append the reviews to a new dataframe in order to show a frequency graph \n",
    "of the lemmatized reviews later on:"
   ]
  },
  {
   "cell_type": "code",
   "execution_count": 76,
   "metadata": {},
   "outputs": [],
   "source": [
    "reviews_3 = []\n",
    "for i in range(len(reviews_2)):\n",
    "    reviews_3.append(' '.join(reviews_2[i]))\n",
    "\n",
    "ps4reviews_negative['reviews'] = reviews_3\n"
   ]
  },
  {
   "cell_type": "code",
   "execution_count": 77,
   "metadata": {},
   "outputs": [
    {
     "data": {
      "image/png": "[encoded data removed]",
      "text/plain": [
       "<Figure size 1440x360 with 1 Axes>"
      ]
     },
     "metadata": {
      "needs_background": "light"
     },
     "output_type": "display_data"
    }
   ],
   "source": [
    "freq_words(ps4reviews_negative['reviews'], 20)"
   ]
  },
  {
   "cell_type": "markdown",
   "metadata": {},
   "source": [
    "As can be seen, the tokens are now cleaner as words such as \"game\", \"system\", and \"console\" are now clearly showing in the dataset.<br>The dataset is now ready for model building."
   ]
  },
  {
   "cell_type": "markdown",
   "metadata": {},
   "source": [
    "#                                   LDA Model (PS4 Negative Reviews)\n",
    "\n",
    "The code below is run in order to incorporate the reviews into a dictionary in order to set up the LDA Model.\n"
   ]
  },
  {
   "cell_type": "code",
   "execution_count": 79,
   "metadata": {},
   "outputs": [],
   "source": [
    "dictionary = corpora.Dictionary(reviews_2)\n",
    "doc_term_matrix = [dictionary.doc2bow(rev) for rev in reviews_2]"
   ]
  },
  {
   "cell_type": "markdown",
   "metadata": {},
   "source": [
    "Next, the LDA Model is imported and the next lines of code are run in order to build the model.<br>\n",
    "The number of topics I chose through trial and error were 4."
   ]
  },
  {
   "cell_type": "code",
   "execution_count": 80,
   "metadata": {},
   "outputs": [],
   "source": [
    "LDA = gensim.models.ldamodel.LdaModel\n",
    "\n",
    "lda_model = LDA(corpus = doc_term_matrix, \n",
    "                id2word = dictionary,\n",
    "                num_topics = 4,\n",
    "                random_state = 100,\n",
    "                chunksize = 1000,\n",
    "                passes = 50)"
   ]
  },
  {
   "cell_type": "markdown",
   "metadata": {},
   "source": [
    "Here, this code is being run to print the topics and the words associated with it:"
   ]
  },
  {
   "cell_type": "code",
   "execution_count": 81,
   "metadata": {},
   "outputs": [
    {
     "data": {
      "text/plain": [
       "[(0,\n",
       "  '0.032*\"ps4\" + 0.026*\"system\" + 0.022*\"controller\" + 0.021*\"new\" + 0.016*\"good\" + 0.015*\"game\" + 0.015*\"work\" + 0.012*\"time\" + 0.010*\"cable\" + 0.010*\"disc\"'),\n",
       " (1,\n",
       "  '0.044*\"game\" + 0.028*\"ps4\" + 0.019*\"system\" + 0.016*\"hard\" + 0.015*\"drive\" + 0.015*\"console\" + 0.013*\"product\" + 0.013*\"time\" + 0.012*\"old\" + 0.011*\"playstation\"'),\n",
       " (2,\n",
       "  '0.020*\"ps4\" + 0.017*\"issue\" + 0.015*\"great\" + 0.013*\"problem\" + 0.012*\"console\" + 0.010*\"sound\" + 0.010*\"day\" + 0.009*\"playstation\" + 0.008*\"code\" + 0.008*\"month\"'),\n",
       " (3,\n",
       "  '0.017*\"time\" + 0.015*\"description\" + 0.015*\"playstation\" + 0.014*\"system\" + 0.011*\"model\" + 0.010*\"console\" + 0.009*\"game\" + 0.009*\"light\" + 0.009*\"blue\" + 0.009*\"happy\"')]"
      ]
     },
     "execution_count": 81,
     "metadata": {},
     "output_type": "execute_result"
    }
   ],
   "source": [
    "lda_model.print_topics()"
   ]
  },
  {
   "cell_type": "markdown",
   "metadata": {},
   "source": [
    "This code is run to generate the LDA model and present it via a graphical bubble plot:"
   ]
  },
  {
   "cell_type": "code",
   "execution_count": 82,
   "metadata": {},
   "outputs": [
    {
     "data": {
      "text/html": [
       "\n",
       "<link rel=\"stylesheet\" type=\"text/css\" href=\"https://cdn.rawgit.com/bmabey/pyLDAvis/files/ldavis.v1.0.0.css\">\n",
       "\n",
       "\n",
       "<div id=\"ldavis_el2040822460294632165372118064\"></div>\n",
       "<script type=\"text/javascript\">\n",
       "\n",
       "var ldavis_el2040822460294632165372118064_data = {\"mdsDat\": {\"x\": [0.11115528390499455, -0.010931753864678468, -0.0897411368488833, -0.010482393191432758], \"y\": [0.010346569559091877, -0.10902893022406529, 0.016496930688483766, 0.08218542997648969], \"topics\": [1, 2, 3, 4], \"cluster\": [1, 1, 1, 1], \"Freq\": [40.42146911062163, 28.166164747563677, 15.991080227141893, 15.4212859146728]}, \"tinfo\": {\"Term\": [\"description\", \"playstation\", \"great\", \"ps4\", \"issue\", \"controller\", \"problem\", \"work\", \"sound\", \"product\", \"game\", \"hard\", \"cable\", \"money\", \"model\", \"happy\", \"drive\", \"code\", \"well\", \"title\", \"original\", \"time\", \"new\", \"warranty\", \"blue\", \"old\", \"refund\", \"people\", \"death\", \"little\", \"exclusive\", \"store\", \"storage\", \"library\", \"indie\", \"full\", \"product\", \"steam\", \"buy\", \"amazing\", \"-\", \"old\", \"hard\", \"last\", \"situation\", \"jrpgs\", \"collection\", \"force\", \"dualshock\", \"shutdown\", \"difference\", \"tb\", \"footprint\", \"deal\", \"feature\", \"awesome\", \"space\", \"fun\", \"kind\", \"plastic\", \"drive\", \"game\", \"box\", \"pc\", \"original\", \"couple\", \"first\", \"play\", \"ps4\", \"playstation\", \"console\", \"able\", \"graphic\", \"big\", \"system\", \"time\", \"year\", \"title\", \"power\", \"ps3\", \"good\", \"controller\", \"new\", \"thing\", \"month\", \"device\", \"great\", \"issue\", \"surface\", \"hole\", \"friend\", \"order\", \"heat\", \"screen\", \"intake\", \"choke\", \"activity\", \"air\", \"hdd\", \"data\", \"loud\", \"next\", \"load\", \"minute\", \"actual\", \"lot\", \"show\", \"complaint\", \"worth\", \"disk\", \"stupid\", \"cable\", \"work\", \"unit\", \"other\", \"remote\", \"sufficient\", \"dashboard\", \"disc\", \"fine\", \"controller\", \"new\", \"money\", \"item\", \"good\", \"system\", \"ps4\", \"much\", \"warranty\", \"time\", \"thing\", \"issue\", \"price\", \"support\", \"side\", \"game\", \"console\", \"day\", \"year\", \"power\", \"drive\", \"play\", \"content\", \"sound\", \"code\", \"trial\", \"region\", \"instruction\", \"defect\", \"stated\", \"card\", \"charge\", \"people\", \"problem.to\", \"list\", \"maintenance\", \"psn\", \"promotion\", \"page\", \"laughable\", \"honest\", \"scheduled\", \"undefined\", \"failure\", \"epic\", \"ergonomic\", \"gddr5\", \"early\", \"poor\", \"term\", \"that.in\", \"ray\", \"blu\", \"problem\", \"state\", \"great\", \"star\", \"eject\", \"short\", \"turn\", \"dirty\", \"issue\", \"repair\", \"internal\", \"fan\", \"warranty\", \"month\", \"device\", \"day\", \"service\", \"paste\", \"thermal\", \"ps4\", \"console\", \"description\", \"playstation\", \"year\", \"controller\", \"support\", \"system\", \"disc\", \"work\", \"bad\", \"movie\", \"condition\", \"roku\", \"ethernet\", \"internet\", \"house\", \"replacement\", \"mine\", \"defective\", \"aaa\", \"happy\", \"well\", \"version\", \"death\", \"grab\", \"make\", \"promising\", \"cod\", \"input\", \"finger\", \"safe\", \"sort\", \"diff\", \"killzone\", \"processor\", \"advantage\", \"sharp\", \"advice\", \"attribute\", \"run\", \"obsessiveness\", \"complicated\", \"description\", \"refund\", \"none\", \"firmware\", \"blue\", \"model\", \"little\", \"bit\", \"medium\", \"light\", \"playstation\", \"title\", \"time\", \"tv\", \"hour\", \"money\", \"condition\", \"problem\", \"system\", \"original\", \"console\", \"work\", \"thing\", \"game\", \"new\", \"great\", \"good\", \"piece\", \"download\", \"item\"], \"Freq\": [7.0, 16.0, 10.0, 46.0, 14.0, 20.0, 7.0, 11.0, 3.0, 12.0, 47.0, 14.0, 7.0, 8.0, 8.0, 3.0, 15.0, 3.0, 3.0, 6.0, 8.0, 23.0, 21.0, 5.0, 6.0, 11.0, 4.0, 3.0, 3.0, 6.0, 5.000988239213518, 4.200779278155857, 3.400571785269825, 3.3855678053115033, 3.3854683366836666, 3.344536812807446, 10.567065461067902, 2.6004582553680224, 2.6004518321171473, 2.600444307737551, 2.6003947569450863, 9.778742450472356, 12.226042142675139, 5.007550599350385, 1.8002786577429333, 1.8002786577429333, 1.8002786577429333, 1.8002744367495012, 1.8002744367495012, 1.800274069706594, 1.8002703992775224, 1.8002702157560688, 1.8002696651917083, 1.8002696651917083, 1.8002683805415332, 1.800268013498626, 1.800268013498626, 1.8002608561619367, 1.8002573692543187, 1.8002573692543187, 12.212961467550263, 35.05211607216642, 4.995546828115076, 3.401711453496514, 5.800313360950771, 3.399784845276904, 6.152373209584341, 5.7939807696737775, 21.914307048364332, 9.021530730772335, 11.855279622707936, 5.013988531941729, 3.410875046716326, 3.40030494507633, 14.783074450569975, 10.50474157543448, 5.813188859090552, 3.832717092856528, 4.194427233604785, 3.384612759667109, 5.939832976729364, 6.165422319019202, 6.142146293062527, 4.999214687886187, 4.19632888290671, 3.607842383106904, 3.633045384326097, 3.496180589894892, 3.1068625956474585, 2.375815882476954, 2.375813069118028, 2.375792352565939, 2.3757637074568767, 3.832464947776887, 1.6447682741467913, 1.6447682741467913, 1.6447678905069376, 1.6447678905069376, 1.6447630310687933, 1.644762775308891, 1.6447483248744088, 1.6447479412345554, 1.644747685474653, 1.644743849076118, 1.6447434654362643, 1.644737199318657, 1.6447074032900346, 1.6446613665076137, 1.6446549725100552, 1.6445838712572052, 1.6442571379819682, 5.29168874801366, 8.165677604663735, 2.376678560627541, 2.3638046301834392, 2.376425869844031, 0.9137135684793386, 0.9137135684793386, 5.24885766020867, 3.113031268731956, 11.893317310388042, 11.704729165760245, 4.916454187936622, 4.575995301780525, 8.751715102965871, 14.025463828389912, 17.46284008639104, 3.1116790661282936, 3.1070856182822975, 6.651458264146957, 4.570144026734829, 4.8686465239519325, 3.111125090179829, 2.8122519968642368, 3.1073955992839313, 8.388038844395306, 5.147698480596207, 3.465809597863885, 3.5059007298351244, 3.1095132912752925, 3.097329656807602, 2.3812850522285567, 2.377596227157131, 3.2660708580201736, 2.650467944045229, 2.0267526989513565, 2.026737597597516, 2.024576797150377, 1.4031494071633606, 1.4030865332574662, 1.403064897663983, 1.4029353745137345, 2.101573953813352, 0.7795050222682788, 0.7795050222682788, 0.7795050222682788, 0.7795050222682788, 0.7795049496656161, 0.7795049496656161, 0.7795049496656161, 0.7795049496656161, 0.7795049496656161, 0.7795049496656161, 0.7795049496656161, 0.7795049496656161, 0.7795003030952036, 0.7795003030952036, 0.7795002304925409, 0.7795002304925409, 0.7795002304925409, 0.7795002304925409, 0.7795002304925409, 0.7795001578898783, 3.898622137574721, 1.4035130012981387, 4.535209834764479, 2.0231469603112546, 1.4098805452271719, 1.403488606803473, 1.3931013438516493, 1.415170665641806, 5.4464949336538115, 1.399396285117987, 1.3975594377517946, 2.0342863868486023, 2.0266148990975608, 2.6498241036324464, 2.4871874597498924, 2.9881481556330205, 1.404059408937584, 1.402724391175942, 1.402724391175942, 6.11809221561657, 3.8741974402014017, 2.0301808514785056, 2.6640882035668767, 2.300625624813363, 2.351800047230157, 1.6572651156314062, 1.563579656126603, 1.4488295504780215, 1.4480068171043576, 1.4121162716222124, 1.4115626037164979, 1.410319500925828, 1.3964374711902048, 1.3964297694649677, 1.396428789245392, 1.3964261286494009, 1.396371096321797, 1.396363254565192, 1.3934251164028937, 1.3933025889559385, 2.6373628266423124, 2.600271037837341, 2.0164144501165286, 2.0175867927289945, 0.775772798215885, 0.775772798215885, 0.775772798215885, 0.775772798215885, 0.775772658184517, 0.775772658184517, 0.775772658184517, 0.775772658184517, 0.775772658184517, 0.775772658184517, 0.775772658184517, 0.775772658184517, 0.775772658184517, 0.775772658184517, 0.775772658184517, 0.775772658184517, 0.775772658184517, 0.775772658184517, 4.509195729540079, 2.0183118751522326, 1.4158735449987399, 1.3967701857204506, 2.648586340783396, 3.258490723381806, 2.6104992090150456, 1.3173964854888596, 1.3126358390727095, 2.6568414699867042, 4.4708909890259365, 2.3026092996476457, 5.132974700137576, 1.4001242170455566, 1.4066051488169555, 2.3474621869898025, 1.406286997548976, 2.0252050592708724, 4.240488697395228, 2.017705539329015, 3.0599200822504464, 1.995444612734852, 2.0194739954748386, 2.7953103679317723, 2.176763109272204, 1.8230884038089492, 1.7353860579058766, 1.4055063226726625, 1.400900270886728, 1.4002736305151577], \"Total\": [7.0, 16.0, 10.0, 46.0, 14.0, 20.0, 7.0, 11.0, 3.0, 12.0, 47.0, 14.0, 7.0, 8.0, 8.0, 3.0, 15.0, 3.0, 3.0, 6.0, 8.0, 23.0, 21.0, 5.0, 6.0, 11.0, 4.0, 3.0, 3.0, 6.0, 5.494834487753051, 4.694650681300893, 3.8944663355716442, 3.891067245360553, 3.8910449089179, 3.881943965842821, 12.32951440162472, 3.0943046052933734, 3.094302867182247, 3.0943009841834375, 3.0942892859133484, 11.755333828273345, 14.891488877286008, 6.116919877233537, 2.294125201926211, 2.294125249881193, 2.2941252658661866, 2.294124266285048, 2.294124343172163, 2.2941239882806728, 2.2941232747107847, 2.2941231147516383, 2.294123193920508, 2.2941232578604835, 2.2941228403864753, 2.294122464932658, 2.294122464932658, 2.294120993123788, 2.294120166545333, 2.2941202464703023, 15.621413775131995, 47.617661853613626, 6.7348921666780175, 4.518323960181423, 8.156757676451075, 4.625347446477135, 9.081104538739432, 9.110842599274907, 46.063243161966504, 16.339334086998914, 23.937095625755994, 8.303583788246273, 5.1409432781846185, 5.13568656303045, 34.612606632481715, 23.22642496448406, 11.774948562031392, 6.47401784128671, 8.23834620573702, 5.352954760112548, 17.555073515999332, 20.568596529913464, 21.149650470668234, 12.990006889217925, 8.539260660487457, 7.897061637495647, 10.174145567391776, 14.579256869958332, 3.617994706799283, 2.8869472836782846, 2.88694659344973, 2.8869431839499042, 2.88693912402491, 4.969235546021081, 2.155898986036922, 2.155899238378921, 2.155898960868342, 2.155899172119493, 2.1558979674777166, 2.1558978551558186, 2.155895359603688, 2.155895369785577, 2.1558955232413903, 2.15589481407158, 2.1558947967236715, 2.1558937982072033, 2.1558883590425784, 2.155881953173861, 2.1558800142212147, 2.1558705355344663, 2.155813202889756, 7.057375198184838, 11.843557228800496, 3.51067739377098, 3.505761715121225, 3.6869380382898975, 1.4248446242903212, 1.424844647230503, 8.471174501851408, 5.036611803781745, 20.568596529913464, 21.149650470668234, 8.239236555794065, 7.743811635603254, 17.555073515999332, 34.612606632481715, 46.063243161966504, 5.13478642897518, 5.488940017615141, 23.22642496448406, 12.990006889217925, 14.579256869958332, 6.641744066902926, 5.6212366991747045, 6.818541337986656, 47.617661853613626, 23.937095625755994, 11.226544795035942, 11.774948562031392, 8.23834620573702, 15.621413775131995, 9.110842599274907, 5.778234280041886, 3.813429188535371, 3.1884490314053258, 2.564798189710215, 2.5647995448930194, 2.5653795218429636, 1.941144257647377, 1.9411454378009774, 1.9411460460349563, 1.9411490768171153, 3.185805702750437, 1.3174880498626886, 1.3174880498626886, 1.3174880498626886, 1.3174880498626886, 1.317487977260026, 1.317487977260026, 1.317487977260026, 1.317487977260026, 1.317487977260026, 1.317487977260026, 1.317487977260026, 1.317487977260026, 1.317488253720126, 1.317488253720126, 1.3174882930124208, 1.3174882930124208, 1.3174882930124208, 1.3174883089974145, 1.3174883409674025, 1.3174882683647398, 7.758357196325298, 2.5627438746985014, 10.174145567391776, 3.985620157899069, 2.670926993747642, 2.6720488725222404, 2.675225421964349, 2.737393000194826, 14.579256869958332, 2.741575164250372, 2.742104652657066, 4.824374528934156, 5.488940017615141, 8.539260660487457, 7.897061637495647, 11.226544795035942, 3.4030748626956098, 3.4032353606659256, 3.4032354128895244, 46.063243161966504, 23.937095625755994, 7.705652807942367, 16.339334086998914, 11.774948562031392, 20.568596529913464, 5.6212366991747045, 34.612606632481715, 8.471174501851408, 11.843557228800496, 4.199713822723189, 4.200125181486406, 3.9103901704180086, 1.9351623766446258, 1.9351628357546486, 1.9351626253729928, 1.935162831347114, 1.935164355389002, 1.9351645377627864, 1.9356654766457417, 1.9360371438119577, 3.976529650100341, 3.9873447883898123, 3.2869966621909774, 3.3557378826064745, 1.3144980189136497, 1.3144980418538315, 1.3144980418538315, 1.3144980647940132, 1.3144979247626452, 1.3144979247626452, 1.3144979247626452, 1.3144979429133108, 1.314497947702827, 1.314497947702827, 1.3144979588983048, 1.3144979658534925, 1.3144979706430084, 1.3144979706430084, 1.3144979706430084, 1.3144979840041582, 1.3144979887936743, 1.3144979887936743, 7.705652807942367, 4.017619606466025, 2.729538848719196, 2.735118987429874, 6.235846396832553, 8.39069388973125, 6.80288255642639, 2.758065615972897, 2.7594559044396965, 7.661578195864291, 16.339334086998914, 6.47401784128671, 23.22642496448406, 3.2897791363916093, 3.3603632830790637, 8.239236555794065, 3.9103901704180086, 7.758357196325298, 34.612606632481715, 8.156757676451075, 23.937095625755994, 11.843557228800496, 12.990006889217925, 47.617661853613626, 21.149650470668234, 10.174145567391776, 17.555073515999332, 4.159371283940059, 4.0876294089817895, 7.743811635603254], \"Category\": [\"Default\", \"Default\", \"Default\", \"Default\", \"Default\", \"Default\", \"Default\", \"Default\", \"Default\", \"Default\", \"Default\", \"Default\", \"Default\", \"Default\", \"Default\", \"Default\", \"Default\", \"Default\", \"Default\", \"Default\", \"Default\", \"Default\", \"Default\", \"Default\", \"Default\", \"Default\", \"Default\", \"Default\", \"Default\", \"Default\", \"Topic1\", \"Topic1\", \"Topic1\", \"Topic1\", \"Topic1\", \"Topic1\", \"Topic1\", \"Topic1\", \"Topic1\", \"Topic1\", \"Topic1\", \"Topic1\", \"Topic1\", \"Topic1\", \"Topic1\", \"Topic1\", \"Topic1\", \"Topic1\", \"Topic1\", \"Topic1\", \"Topic1\", \"Topic1\", \"Topic1\", \"Topic1\", \"Topic1\", \"Topic1\", \"Topic1\", \"Topic1\", \"Topic1\", \"Topic1\", \"Topic1\", \"Topic1\", \"Topic1\", \"Topic1\", \"Topic1\", \"Topic1\", \"Topic1\", \"Topic1\", \"Topic1\", \"Topic1\", \"Topic1\", \"Topic1\", \"Topic1\", \"Topic1\", \"Topic1\", \"Topic1\", \"Topic1\", \"Topic1\", \"Topic1\", \"Topic1\", \"Topic1\", \"Topic1\", \"Topic1\", \"Topic1\", \"Topic1\", \"Topic1\", \"Topic1\", \"Topic1\", \"Topic2\", \"Topic2\", \"Topic2\", \"Topic2\", \"Topic2\", \"Topic2\", \"Topic2\", \"Topic2\", \"Topic2\", \"Topic2\", \"Topic2\", \"Topic2\", \"Topic2\", \"Topic2\", \"Topic2\", \"Topic2\", \"Topic2\", \"Topic2\", \"Topic2\", \"Topic2\", \"Topic2\", \"Topic2\", \"Topic2\", \"Topic2\", \"Topic2\", \"Topic2\", \"Topic2\", \"Topic2\", \"Topic2\", \"Topic2\", \"Topic2\", \"Topic2\", \"Topic2\", \"Topic2\", \"Topic2\", \"Topic2\", \"Topic2\", \"Topic2\", \"Topic2\", \"Topic2\", \"Topic2\", \"Topic2\", \"Topic2\", \"Topic2\", \"Topic2\", \"Topic2\", \"Topic2\", \"Topic2\", \"Topic2\", \"Topic2\", \"Topic2\", \"Topic2\", \"Topic2\", \"Topic2\", \"Topic2\", \"Topic3\", \"Topic3\", \"Topic3\", \"Topic3\", \"Topic3\", \"Topic3\", \"Topic3\", \"Topic3\", \"Topic3\", \"Topic3\", \"Topic3\", \"Topic3\", \"Topic3\", \"Topic3\", \"Topic3\", \"Topic3\", \"Topic3\", \"Topic3\", \"Topic3\", \"Topic3\", \"Topic3\", \"Topic3\", \"Topic3\", \"Topic3\", \"Topic3\", \"Topic3\", \"Topic3\", \"Topic3\", \"Topic3\", \"Topic3\", \"Topic3\", \"Topic3\", \"Topic3\", \"Topic3\", \"Topic3\", \"Topic3\", \"Topic3\", \"Topic3\", \"Topic3\", \"Topic3\", \"Topic3\", \"Topic3\", \"Topic3\", \"Topic3\", \"Topic3\", \"Topic3\", \"Topic3\", \"Topic3\", \"Topic3\", \"Topic3\", \"Topic3\", \"Topic3\", \"Topic3\", \"Topic3\", \"Topic3\", \"Topic3\", \"Topic3\", \"Topic3\", \"Topic3\", \"Topic3\", \"Topic3\", \"Topic3\", \"Topic4\", \"Topic4\", \"Topic4\", \"Topic4\", \"Topic4\", \"Topic4\", \"Topic4\", \"Topic4\", \"Topic4\", \"Topic4\", \"Topic4\", \"Topic4\", \"Topic4\", \"Topic4\", \"Topic4\", \"Topic4\", \"Topic4\", \"Topic4\", \"Topic4\", \"Topic4\", \"Topic4\", \"Topic4\", \"Topic4\", \"Topic4\", \"Topic4\", \"Topic4\", \"Topic4\", \"Topic4\", \"Topic4\", \"Topic4\", \"Topic4\", \"Topic4\", \"Topic4\", \"Topic4\", \"Topic4\", \"Topic4\", \"Topic4\", \"Topic4\", \"Topic4\", \"Topic4\", \"Topic4\", \"Topic4\", \"Topic4\", \"Topic4\", \"Topic4\", \"Topic4\", \"Topic4\", \"Topic4\", \"Topic4\", \"Topic4\", \"Topic4\", \"Topic4\", \"Topic4\", \"Topic4\", \"Topic4\", \"Topic4\", \"Topic4\", \"Topic4\", \"Topic4\", \"Topic4\"], \"logprob\": [30.0, 29.0, 28.0, 27.0, 26.0, 25.0, 24.0, 23.0, 22.0, 21.0, 20.0, 19.0, 18.0, 17.0, 16.0, 15.0, 14.0, 13.0, 12.0, 11.0, 10.0, 9.0, 8.0, 7.0, 6.0, 5.0, 4.0, 3.0, 2.0, 1.0, -5.060100078582764, -5.234499931335449, -5.445799827575684, -5.450300216674805, -5.450300216674805, -5.462399959564209, -4.311999797821045, -5.714099884033203, -5.714099884033203, -5.714099884033203, -5.714099884033203, -4.389599800109863, -4.166200160980225, -5.058800220489502, -6.0817999839782715, -6.0817999839782715, -6.0817999839782715, -6.0817999839782715, -6.0817999839782715, -6.0817999839782715, -6.0817999839782715, -6.0817999839782715, -6.0817999839782715, -6.0817999839782715, -6.0817999839782715, -6.0817999839782715, -6.0817999839782715, -6.0817999839782715, -6.0817999839782715, -6.0817999839782715, -4.167300224304199, -3.1129000186920166, -5.061200141906738, -5.445499897003174, -4.911900043487549, -5.446100234985352, -4.85290002822876, -4.913000106811523, -3.5826001167297363, -4.470200061798096, -4.197000026702881, -5.057499885559082, -5.442800045013428, -5.445899963378906, -3.976300001144409, -4.31790018081665, -4.909599781036377, -5.326200008392334, -5.236000061035156, -5.450500011444092, -4.8881001472473145, -4.850800037384033, -4.854599952697754, -5.060500144958496, -5.235599994659424, -5.38670015335083, -5.379700183868408, -5.418099880218506, -5.174900054931641, -5.44320011138916, -5.44320011138916, -5.44320011138916, -5.44320011138916, -4.965000152587891, -5.8109002113342285, -5.8109002113342285, -5.8109002113342285, -5.8109002113342285, -5.8109002113342285, -5.8109002113342285, -5.8109002113342285, -5.8109002113342285, -5.8109002113342285, -5.810999870300293, -5.810999870300293, -5.810999870300293, -5.810999870300293, -5.810999870300293, -5.810999870300293, -5.810999870300293, -5.811200141906738, -4.642399787902832, -4.208600044250488, -5.442800045013428, -5.448299884796143, -5.44290018081665, -6.398799896240234, -6.398799896240234, -4.6504998207092285, -5.172900199890137, -3.8326001167297363, -3.8485000133514404, -4.71589994430542, -4.787700176239014, -4.1392998695373535, -3.6677000522613525, -3.448499917984009, -5.173399925231934, -5.174900054931641, -4.413700103759766, -4.789000034332275, -4.7256999015808105, -5.173600196838379, -5.274600028991699, -5.174799919128418, -4.181700229644775, -4.670000076293945, -5.0655999183654785, -5.054100036621094, -5.174099922180176, -5.177999973297119, -5.440899848937988, -5.442399978637695, -4.558899879455566, -4.7677001953125, -5.035999774932861, -5.035999774932861, -5.037099838256836, -5.40369987487793, -5.403800010681152, -5.403800010681152, -5.403900146484375, -4.999800205230713, -5.991499900817871, -5.991499900817871, -5.991499900817871, -5.991499900817871, -5.991499900817871, -5.991499900817871, -5.991499900817871, -5.991499900817871, -5.991499900817871, -5.991499900817871, -5.991499900817871, -5.991499900817871, -5.991499900817871, -5.991499900817871, -5.991499900817871, -5.991499900817871, -5.991499900817871, -5.991499900817871, -5.991499900817871, -5.991499900817871, -4.381800174713135, -5.403500080108643, -4.230599880218506, -5.037799835205078, -5.398900032043457, -5.403500080108643, -5.410900115966797, -5.395199775695801, -4.047500133514404, -5.406400203704834, -5.407700061798096, -5.032299995422363, -5.036099910736084, -4.76800012588501, -4.831299781799316, -4.647799968719482, -5.40310001373291, -5.4039998054504395, -5.4039998054504395, -3.9312000274658203, -4.3881001472473145, -5.034299850463867, -4.762599945068359, -4.909299850463867, -4.88730001449585, -5.237299919128418, -5.295499801635742, -5.371699810028076, -5.372300148010254, -5.39739990234375, -5.39769983291626, -5.398600101470947, -5.372200012207031, -5.372200012207031, -5.372200012207031, -5.372200012207031, -5.372300148010254, -5.372300148010254, -5.3744001388549805, -5.374499797821045, -4.736400127410889, -4.750500202178955, -5.004799842834473, -5.004300117492676, -5.960100173950195, -5.960100173950195, -5.960100173950195, -5.960100173950195, -5.960100173950195, -5.960100173950195, -5.960100173950195, -5.960100173950195, -5.960100173950195, -5.960100173950195, -5.960100173950195, -5.960100173950195, -5.960100173950195, -5.960100173950195, -5.960100173950195, -5.960100173950195, -5.960100173950195, -5.960100173950195, -4.199999809265137, -5.003900051116943, -5.358399868011475, -5.372000217437744, -4.732100009918213, -4.524899959564209, -4.746600151062012, -5.430500030517578, -5.434100151062012, -4.729000091552734, -4.208600044250488, -4.872099876403809, -4.070499897003174, -5.36959981918335, -5.364999771118164, -4.852799892425537, -5.365200042724609, -5.000500202178955, -4.261499881744385, -5.004199981689453, -4.587800025939941, -5.0152997970581055, -5.003300189971924, -4.678199768066406, -4.928299903869629, -5.105599880218506, -5.154900074005127, -5.365799903869629, -5.36899995803833, -5.369500160217285], \"loglift\": [30.0, 29.0, 28.0, 27.0, 26.0, 25.0, 24.0, 23.0, 22.0, 21.0, 20.0, 19.0, 18.0, 17.0, 16.0, 15.0, 14.0, 13.0, 12.0, 11.0, 10.0, 9.0, 8.0, 7.0, 6.0, 5.0, 4.0, 3.0, 2.0, 1.0, 0.8116, 0.7947, 0.7702, 0.7666, 0.7666, 0.7568, 0.7516, 0.7319, 0.7319, 0.7319, 0.7319, 0.7217, 0.7086, 0.7057, 0.6634, 0.6634, 0.6634, 0.6634, 0.6634, 0.6634, 0.6634, 0.6634, 0.6634, 0.6634, 0.6634, 0.6634, 0.6634, 0.6634, 0.6634, 0.6634, 0.6597, 0.5994, 0.6071, 0.6219, 0.5649, 0.598, 0.5165, 0.4532, 0.1629, 0.3118, 0.2032, 0.4014, 0.4955, 0.4935, 0.0551, 0.1123, 0.2, 0.3816, 0.2308, 0.4474, -0.1779, -0.299, -0.3306, -0.0491, 0.1953, 0.1224, -0.124, -0.5221, 1.1147, 1.0722, 1.0722, 1.0722, 1.0722, 1.0073, 0.9964, 0.9964, 0.9964, 0.9964, 0.9964, 0.9964, 0.9964, 0.9964, 0.9964, 0.9964, 0.9964, 0.9964, 0.9964, 0.9964, 0.9964, 0.9963, 0.9962, 0.9791, 0.8952, 0.8769, 0.8729, 0.8279, 0.8227, 0.8227, 0.7884, 0.7859, 0.7193, 0.6754, 0.7507, 0.741, 0.571, 0.3637, 0.2971, 0.7662, 0.698, 0.0166, 0.2224, 0.1703, 0.5087, 0.5745, 0.4812, -0.4693, -0.2698, 0.0917, 0.0555, 0.2927, -0.3511, -0.0748, 0.379, 1.6782, 1.6483, 1.5977, 1.5977, 1.5964, 1.5086, 1.5085, 1.5085, 1.5084, 1.4171, 1.3083, 1.3083, 1.3083, 1.3083, 1.3083, 1.3083, 1.3083, 1.3083, 1.3083, 1.3083, 1.3083, 1.3083, 1.3083, 1.3083, 1.3083, 1.3083, 1.3083, 1.3083, 1.3083, 1.3083, 1.145, 1.231, 1.0252, 1.1551, 1.1942, 1.1893, 1.1806, 1.1734, 0.8485, 1.1606, 1.1591, 0.9696, 0.8368, 0.663, 0.6778, 0.5095, 0.9478, 0.9468, 0.9468, -0.1856, 0.012, 0.4993, 0.0194, 0.2003, -0.3354, 0.6118, -1.2641, 0.0672, -0.2685, 0.7432, 0.7427, 0.8133, 1.5432, 1.5431, 1.5431, 1.5431, 1.5431, 1.5431, 1.5407, 1.5405, 1.4588, 1.4419, 1.3808, 1.3607, 1.3421, 1.3421, 1.3421, 1.3421, 1.3421, 1.3421, 1.3421, 1.3421, 1.3421, 1.3421, 1.3421, 1.3421, 1.3421, 1.3421, 1.3421, 1.3421, 1.3421, 1.3421, 1.3336, 1.181, 1.213, 1.1974, 1.0131, 0.9236, 0.9116, 1.1305, 1.1264, 0.8103, 0.5734, 0.8357, 0.3598, 1.0152, 0.9986, 0.6138, 0.8467, 0.5263, -0.2301, 0.4725, -0.1876, 0.0885, 0.0081, -0.9658, -0.4044, 0.1501, -0.4447, 0.7845, 0.7986, 0.1592]}, \"token.table\": {\"Topic\": [1, 4, 1, 2, 3, 2, 2, 4, 4, 2, 1, 4, 1, 1, 2, 3, 1, 4, 1, 4, 3, 1, 2, 4, 1, 4, 1, 2, 3, 3, 3, 2, 4, 3, 1, 2, 4, 2, 3, 4, 1, 2, 3, 4, 1, 2, 4, 1, 2, 3, 1, 2, 2, 2, 1, 2, 3, 4, 1, 1, 4, 3, 4, 1, 3, 4, 1, 2, 3, 4, 1, 1, 3, 1, 2, 3, 4, 2, 1, 2, 3, 4, 1, 2, 1, 3, 2, 3, 3, 3, 4, 1, 3, 1, 2, 3, 1, 1, 2, 4, 4, 1, 4, 1, 2, 3, 1, 1, 2, 1, 1, 1, 2, 3, 4, 3, 1, 2, 3, 4, 4, 1, 3, 4, 1, 3, 4, 1, 4, 1, 2, 2, 2, 2, 3, 1, 3, 4, 4, 1, 4, 3, 2, 1, 3, 4, 1, 2, 3, 4, 1, 2, 3, 4, 1, 4, 1, 1, 4, 3, 1, 1, 2, 3, 4, 3, 1, 2, 3, 4, 2, 2, 2, 3, 4, 1, 4, 4, 2, 1, 2, 4, 2, 3, 4, 1, 2, 3, 4, 1, 2, 3, 1, 2, 1, 2, 3, 4, 2, 1, 4, 4, 1, 2, 2, 1, 4, 2, 4, 3, 2, 3, 1, 3, 3, 4, 1, 3, 4, 1, 1, 2, 3, 1, 3, 4, 3, 1, 2, 4, 1, 2, 3, 2, 3, 4, 3, 4, 1, 4, 4, 3, 1, 2, 1, 2, 3, 4, 3, 3, 2, 4, 3, 1, 2, 1, 3, 4, 4, 4, 4, 3, 2, 4, 2, 3, 4, 2, 3, 2, 1, 1, 2, 1, 4, 3, 1, 1, 3, 4, 3, 4, 3, 1, 1, 1, 2, 2, 1, 2, 3, 2, 1, 2, 3, 4, 1, 3, 3, 2, 3, 1, 2, 3, 4, 1, 2, 3, 4, 1, 4, 3, 2, 3, 2, 3, 4, 3, 2, 3, 2, 4, 2, 3, 1, 4, 2, 3, 4, 2, 1, 2, 3], \"Freq\": [0.9695279667797716, 0.5165190157617799, 0.6021496413485347, 0.24085985653941386, 0.12042992826970693, 0.9276872600719889, 0.9276890519145062, 0.7607467078510908, 0.7607467050792277, 0.9276871691702416, 0.9695243013961932, 0.7607467050792277, 0.8717930409433083, 0.23811146240235423, 0.47622292480470846, 0.23811146240235423, 0.5841477985817284, 0.19471593286057612, 0.3625729548306101, 0.3625729548306101, 0.7590200414013517, 0.3207263092650716, 0.3207263092650716, 0.48108946389760743, 0.7424023839220945, 0.1484804767844189, 0.969523711404462, 0.7084786991750139, 0.14169573983500278, 0.5151595893789807, 0.5151587850427701, 0.9276871406586953, 0.7607466505906981, 0.9408963324960958, 0.8717919765575074, 0.9276945785717192, 0.7607466945747923, 0.25572895706545395, 0.25572895706545395, 0.25572895706545395, 0.5013139516846046, 0.20888081320191856, 0.16710465056153487, 0.12532848792115114, 0.3461264986966749, 0.3461264986966749, 0.17306324934833744, 0.2917068255616779, 0.5834136511233557, 0.09723560852055929, 0.648599923511677, 0.2161999745038923, 0.7018308992097619, 0.927687735862351, 0.2672238034739339, 0.2672238034739339, 0.2672238034739339, 0.08907460115797797, 0.8717927396216779, 0.2979970531021566, 0.5959941062043131, 0.5151600639985291, 0.5166181925881485, 0.12977485813652032, 0.25954971627304063, 0.6488742906826015, 0.5065175103873824, 0.2532587551936912, 0.2532587551936912, 0.7607467183555264, 0.8717927332183733, 0.36531108245284033, 0.36531108245284033, 0.11804738525707931, 0.5902369262853965, 0.11804738525707931, 0.11804738525707931, 0.9276994917063403, 0.24464057279818222, 0.24464057279818222, 0.24464057279818222, 0.24464057279818222, 0.7681763105912355, 0.19204407764780887, 0.8717923271911812, 0.7590200272015414, 0.3744018471268194, 0.3744018471268194, 0.7590202091101397, 0.7590200498382811, 0.5167523794502975, 0.9099455154007016, 0.7590202091101397, 0.20728075608610116, 0.41456151217220233, 0.41456151217220233, 0.8717928982665434, 0.19854617329236077, 0.5956385198770823, 0.19854617329236077, 0.7607467316318258, 0.36561480673997154, 0.36561480673997154, 0.6607125790045, 0.22023752633483332, 0.11011876316741666, 0.8717927639195913, 0.8717923564091263, 0.6927734667963216, 0.7728086820409992, 0.8717936002480416, 0.7350213899119431, 0.16800488912272984, 0.02100061114034123, 0.0630018334210237, 0.7590200498382811, 0.3417815365188715, 0.5126723047783073, 0.056963589419811916, 0.11392717883962383, 0.7607466771432926, 0.5835504960209106, 0.19451683200697018, 0.19451683200697018, 0.3931534076748454, 0.49144175959355674, 0.1965767038374227, 0.25147555481568373, 0.7544266644470513, 0.8058294304140134, 0.13430490506900222, 0.9276876875299861, 0.6927752592204446, 0.6927733011639141, 0.7590202091101397, 0.2975868725370999, 0.2975868725370999, 0.2975868725370999, 0.5167523806272548, 0.7710011244342847, 0.7607467316318258, 0.7796117428126985, 0.927687249241903, 0.3646833825364806, 0.3646833825364806, 0.516752435629153, 0.2057718048840835, 0.3429530081401392, 0.3429530081401392, 0.06859060162802784, 0.12913537248276555, 0.6456768624138277, 0.12913537248276555, 0.12913537248276555, 0.8717919826319749, 0.7607467183555264, 0.8717939143579203, 0.8174048541340908, 0.16348097082681817, 0.7590202091101397, 0.7709966985476796, 0.3915642343269949, 0.2610428228846633, 0.13052141144233165, 0.3915642343269949, 0.7590201672829003, 0.14699651092099822, 0.29399302184199644, 0.14699651092099822, 0.44098953276299463, 0.9276887392915028, 0.9276894815798249, 0.9276888097053348, 0.7590201672829003, 0.7607466638669951, 0.3623902807764013, 0.3623902807764013, 0.5167519249583213, 0.9276890444496408, 0.3575389639313953, 0.23835930928759685, 0.3575389639313953, 0.6068523419786822, 0.12137046839573645, 0.2427409367914729, 0.4684246282009692, 0.1171061570502423, 0.3513184711507269, 0.1171061570502423, 0.238088141850597, 0.476176283701194, 0.238088141850597, 0.19475006679091497, 0.5842502003727449, 0.2836926316262865, 0.567385263252573, 0.047282105271047745, 0.09456421054209549, 0.9276888053240347, 0.36636225216916707, 0.36636225216916707, 0.7607466945747923, 0.8506776707564438, 0.1701355341512888, 0.6927742849665672, 0.7355863981741506, 0.2451954660580502, 0.5704894292654007, 0.28524471463270035, 0.7590202091101397, 0.5876760752769833, 0.29383803763849164, 0.6639630151441248, 0.22132100504804159, 0.6277846757174543, 0.31389233785872717, 0.4808419021697564, 0.2404209510848782, 0.2404209510848782, 0.8717938839854488, 0.6585559935452638, 0.21951866451508792, 0.10975933225754396, 0.5508180414256437, 0.1836060138085479, 0.2448080184113972, 0.7590200272015414, 0.48553434149374297, 0.36415075612030723, 0.12138358537343574, 0.451688588084803, 0.451688588084803, 0.15056286269493432, 0.25778653255966205, 0.5155730651193241, 0.25778653255966205, 0.7590201672829003, 0.7607467118763053, 0.8921681456124887, 0.08110619505568079, 0.7607466638669951, 0.7590202091101397, 0.5604381382698113, 0.3736254255132075, 0.4776042347397058, 0.36905781775340907, 0.13025570038355613, 0.021709283397259357, 0.7590201672829003, 0.7590199995741307, 0.4978072082237866, 0.4978072082237866, 0.7797880360601133, 0.2712277748133319, 0.5424555496266638, 0.3647538149016716, 0.3647538149016716, 0.5167519736580629, 0.5167525020478633, 0.7607466973466555, 0.7607467316318258, 0.7590202091101397, 0.8049527865916604, 0.2012381966479151, 0.5877037916279573, 0.29385189581397864, 0.7607467050792277, 0.37424465184129097, 0.37424465184129097, 0.9276918220794106, 0.8717924620538476, 0.4399768002119093, 0.4399768002119093, 0.8717920008553781, 0.7607467211273898, 0.7866935117135908, 0.8717930409433083, 0.25090198272359393, 0.5018039654471879, 0.25090198272359393, 0.3902067662214769, 0.3902067662214769, 0.5151597507978836, 0.9695231668103883, 0.7703237726304929, 0.8520335742832298, 0.9277241633547395, 0.7018309105093298, 0.1778967962951671, 0.5336903888855014, 0.3557935925903342, 0.8291886094698016, 0.43336811235486267, 0.40447690486453847, 0.05778241498064835, 0.1155648299612967, 0.8717927940046583, 0.7590200272015414, 0.7590200179924044, 0.5876760662589297, 0.2938380331294648, 0.38491126622497346, 0.38491126622497346, 0.07698225324499469, 0.15396450648998938, 0.4735984989864043, 0.3013808629913482, 0.043054408998764025, 0.21527204499382013, 0.617854336837138, 0.308927168418569, 0.7797884480829157, 0.3738002755916269, 0.3738002755916269, 0.30397177395223224, 0.30397177395223224, 0.30397177395223224, 0.7590202091101397, 0.5696906253900214, 0.2848453126950107, 0.3042290889743225, 0.608458177948645, 0.5465536133337914, 0.36436907555586096, 0.25079346108010503, 0.7523803832403151, 0.6754727355516171, 0.08443409194395214, 0.16886818388790428, 0.9276954129204985, 0.5095563660759543, 0.3397042440506362, 0.1698521220253181], \"Term\": [\"-\", \"aaa\", \"able\", \"able\", \"able\", \"activity\", \"actual\", \"advantage\", \"advice\", \"air\", \"amazing\", \"attribute\", \"awesome\", \"bad\", \"bad\", \"bad\", \"big\", \"big\", \"bit\", \"bit\", \"blu\", \"blue\", \"blue\", \"blue\", \"box\", \"box\", \"buy\", \"cable\", \"cable\", \"card\", \"charge\", \"choke\", \"cod\", \"code\", \"collection\", \"complaint\", \"complicated\", \"condition\", \"condition\", \"condition\", \"console\", \"console\", \"console\", \"console\", \"content\", \"content\", \"content\", \"controller\", \"controller\", \"controller\", \"couple\", \"couple\", \"dashboard\", \"data\", \"day\", \"day\", \"day\", \"day\", \"deal\", \"death\", \"death\", \"defect\", \"defective\", \"description\", \"description\", \"description\", \"device\", \"device\", \"device\", \"diff\", \"difference\", \"dirty\", \"dirty\", \"disc\", \"disc\", \"disc\", \"disc\", \"disk\", \"download\", \"download\", \"download\", \"download\", \"drive\", \"drive\", \"dualshock\", \"early\", \"eject\", \"eject\", \"epic\", \"ergonomic\", \"ethernet\", \"exclusive\", \"failure\", \"fan\", \"fan\", \"fan\", \"feature\", \"fine\", \"fine\", \"fine\", \"finger\", \"firmware\", \"firmware\", \"first\", \"first\", \"first\", \"footprint\", \"force\", \"friend\", \"full\", \"fun\", \"game\", \"game\", \"game\", \"game\", \"gddr5\", \"good\", \"good\", \"good\", \"good\", \"grab\", \"graphic\", \"graphic\", \"graphic\", \"great\", \"great\", \"great\", \"happy\", \"happy\", \"hard\", \"hard\", \"hdd\", \"heat\", \"hole\", \"honest\", \"hour\", \"hour\", \"hour\", \"house\", \"indie\", \"input\", \"instruction\", \"intake\", \"internal\", \"internal\", \"internet\", \"issue\", \"issue\", \"issue\", \"issue\", \"item\", \"item\", \"item\", \"item\", \"jrpgs\", \"killzone\", \"kind\", \"last\", \"last\", \"laughable\", \"library\", \"light\", \"light\", \"light\", \"light\", \"list\", \"little\", \"little\", \"little\", \"little\", \"load\", \"lot\", \"loud\", \"maintenance\", \"make\", \"medium\", \"medium\", \"mine\", \"minute\", \"model\", \"model\", \"model\", \"money\", \"money\", \"money\", \"month\", \"month\", \"month\", \"month\", \"movie\", \"movie\", \"movie\", \"much\", \"much\", \"new\", \"new\", \"new\", \"new\", \"next\", \"none\", \"none\", \"obsessiveness\", \"old\", \"old\", \"order\", \"original\", \"original\", \"other\", \"other\", \"page\", \"paste\", \"paste\", \"pc\", \"pc\", \"people\", \"people\", \"piece\", \"piece\", \"piece\", \"plastic\", \"play\", \"play\", \"play\", \"playstation\", \"playstation\", \"playstation\", \"poor\", \"power\", \"power\", \"power\", \"price\", \"price\", \"price\", \"problem\", \"problem\", \"problem\", \"problem.to\", \"processor\", \"product\", \"product\", \"promising\", \"promotion\", \"ps3\", \"ps3\", \"ps4\", \"ps4\", \"ps4\", \"ps4\", \"psn\", \"ray\", \"refund\", \"refund\", \"region\", \"remote\", \"remote\", \"repair\", \"repair\", \"replacement\", \"roku\", \"run\", \"safe\", \"scheduled\", \"screen\", \"screen\", \"service\", \"service\", \"sharp\", \"short\", \"short\", \"show\", \"shutdown\", \"side\", \"side\", \"situation\", \"sort\", \"sound\", \"space\", \"star\", \"star\", \"star\", \"state\", \"state\", \"stated\", \"steam\", \"storage\", \"store\", \"stupid\", \"sufficient\", \"support\", \"support\", \"support\", \"surface\", \"system\", \"system\", \"system\", \"system\", \"tb\", \"term\", \"that.in\", \"thermal\", \"thermal\", \"thing\", \"thing\", \"thing\", \"thing\", \"time\", \"time\", \"time\", \"time\", \"title\", \"title\", \"trial\", \"turn\", \"turn\", \"tv\", \"tv\", \"tv\", \"undefined\", \"unit\", \"unit\", \"version\", \"version\", \"warranty\", \"warranty\", \"well\", \"well\", \"work\", \"work\", \"work\", \"worth\", \"year\", \"year\", \"year\"]}, \"R\": 30, \"lambda.step\": 0.01, \"plot.opts\": {\"xlab\": \"PC1\", \"ylab\": \"PC2\"}, \"topic.order\": [2, 1, 3, 4]};\n",
       "\n",
       "function LDAvis_load_lib(url, callback){\n",
       "  var s = document.createElement('script');\n",
       "  s.src = url;\n",
       "  s.async = true;\n",
       "  s.onreadystatechange = s.onload = callback;\n",
       "  s.onerror = function(){console.warn(\"failed to load library \" + url);};\n",
       "  document.getElementsByTagName(\"head\")[0].appendChild(s);\n",
       "}\n",
       "\n",
       "if(typeof(LDAvis) !== \"undefined\"){\n",
       "   // already loaded: just create the visualization\n",
       "   !function(LDAvis){\n",
       "       new LDAvis(\"#\" + \"ldavis_el2040822460294632165372118064\", ldavis_el2040822460294632165372118064_data);\n",
       "   }(LDAvis);\n",
       "}else if(typeof define === \"function\" && define.amd){\n",
       "   // require.js is available: use it to load d3/LDAvis\n",
       "   require.config({paths: {d3: \"https://cdnjs.cloudflare.com/ajax/libs/d3/3.5.5/d3.min\"}});\n",
       "   require([\"d3\"], function(d3){\n",
       "      window.d3 = d3;\n",
       "      LDAvis_load_lib(\"https://cdn.rawgit.com/bmabey/pyLDAvis/files/ldavis.v1.0.0.js\", function(){\n",
       "        new LDAvis(\"#\" + \"ldavis_el2040822460294632165372118064\", ldavis_el2040822460294632165372118064_data);\n",
       "      });\n",
       "    });\n",
       "}else{\n",
       "    // require.js not available: dynamically load d3 & LDAvis\n",
       "    LDAvis_load_lib(\"https://cdnjs.cloudflare.com/ajax/libs/d3/3.5.5/d3.min.js\", function(){\n",
       "         LDAvis_load_lib(\"https://cdn.rawgit.com/bmabey/pyLDAvis/files/ldavis.v1.0.0.js\", function(){\n",
       "                 new LDAvis(\"#\" + \"ldavis_el2040822460294632165372118064\", ldavis_el2040822460294632165372118064_data);\n",
       "            })\n",
       "         });\n",
       "}\n",
       "</script>"
      ],
      "text/plain": [
       "PreparedData(topic_coordinates=              x         y  topics  cluster       Freq\n",
       "topic                                                \n",
       "1      0.111155  0.010347       1        1  40.421469\n",
       "0     -0.010932 -0.109029       2        1  28.166165\n",
       "2     -0.089741  0.016497       3        1  15.991080\n",
       "3     -0.010482  0.082185       4        1  15.421286, topic_info=            Term       Freq      Total Category  logprob  loglift\n",
       "353  description   7.000000   7.000000  Default  30.0000  30.0000\n",
       "69   playstation  16.000000  16.000000  Default  29.0000  29.0000\n",
       "105        great  10.000000  10.000000  Default  28.0000  28.0000\n",
       "70           ps4  46.000000  46.000000  Default  27.0000  27.0000\n",
       "39         issue  14.000000  14.000000  Default  26.0000  26.0000\n",
       "..           ...        ...        ...      ...      ...      ...\n",
       "105        great   1.823088  10.174146   Topic4  -5.1056   0.1501\n",
       "7           good   1.735386  17.555074   Topic4  -5.1549  -0.4447\n",
       "358        piece   1.405506   4.159371   Topic4  -5.3658   0.7845\n",
       "326     download   1.400900   4.087629   Topic4  -5.3690   0.7986\n",
       "88          item   1.400274   7.743812   Topic4  -5.3695   0.1592\n",
       "\n",
       "[265 rows x 6 columns], token_table=      Topic      Freq   Term\n",
       "term                        \n",
       "77        1  0.969528      -\n",
       "578       4  0.516519    aaa\n",
       "191       1  0.602150   able\n",
       "191       2  0.240860   able\n",
       "191       3  0.120430   able\n",
       "...     ...       ...    ...\n",
       "47        4  0.168868   work\n",
       "344       2  0.927695  worth\n",
       "95        1  0.509556   year\n",
       "95        2  0.339704   year\n",
       "95        3  0.169852   year\n",
       "\n",
       "[333 rows x 3 columns], R=30, lambda_step=0.01, plot_opts={'xlab': 'PC1', 'ylab': 'PC2'}, topic_order=[2, 1, 3, 4])"
      ]
     },
     "execution_count": 82,
     "metadata": {},
     "output_type": "execute_result"
    }
   ],
   "source": [
    "pyLDAvis.enable_notebook()\n",
    "vis = pyLDAvis.gensim.prepare(lda_model, doc_term_matrix, dictionary)\n",
    "vis"
   ]
  },
  {
   "cell_type": "markdown",
   "metadata": {},
   "source": [
    "As can be seen above, there are 4 topics which are clearly separated. Based on the words within each topic, I can take a reasonable guess to what the topics are about:<br>\n",
    "\n",
    "Topic 1: Possible issues with graphics and complaints about system being old: hard, drive, old, product<br>\n",
    "Topic 2: Possible complaints over the price and length of warranty: disc, money, issue, warranty<br>\n",
    "Topic 3: Issues with product hardware: eject, disc, warranty, sound, issue<br>\n",
    "Topic 4: Calls for refund due to the condition of the PS4 Refund,death, condition<br>\n",
    "\n",
    "It seems to me that most customers complained about the PS4 for the system being old, length of warranty, hardware issues such as disc ejection,and sound.<br>There were also issues with customers wanting a refund for possible product defects."
   ]
  },
  {
   "cell_type": "markdown",
   "metadata": {},
   "source": [
    "#                                              Data Splitting: PS5 Reviews"
   ]
  },
  {
   "cell_type": "markdown",
   "metadata": {},
   "source": [
    "Here, the PS5 reviews are split into the negative set with ratings <= 3:"
   ]
  },
  {
   "cell_type": "code",
   "execution_count": 85,
   "metadata": {},
   "outputs": [
    {
     "data": {
      "text/html": [
       "<div>\n",
       "<style scoped>\n",
       "    .dataframe tbody tr th:only-of-type {\n",
       "        vertical-align: middle;\n",
       "    }\n",
       "\n",
       "    .dataframe tbody tr th {\n",
       "        vertical-align: top;\n",
       "    }\n",
       "\n",
       "    .dataframe thead th {\n",
       "        text-align: right;\n",
       "    }\n",
       "</style>\n",
       "<table border=\"1\" class=\"dataframe\">\n",
       "  <thead>\n",
       "    <tr style=\"text-align: right;\">\n",
       "      <th></th>\n",
       "      <th>Rating</th>\n",
       "      <th>Comment</th>\n",
       "    </tr>\n",
       "  </thead>\n",
       "  <tbody>\n",
       "    <tr>\n",
       "      <th>0</th>\n",
       "      <td>1</td>\n",
       "      <td>This will no doubt come off as someo...</td>\n",
       "    </tr>\n",
       "    <tr>\n",
       "      <th>1</th>\n",
       "      <td>1</td>\n",
       "      <td>Taking advantage of high demand</td>\n",
       "    </tr>\n",
       "    <tr>\n",
       "      <th>2</th>\n",
       "      <td>1</td>\n",
       "      <td>I wait all night just to purchase th...</td>\n",
       "    </tr>\n",
       "    <tr>\n",
       "      <th>3</th>\n",
       "      <td>1</td>\n",
       "      <td>Between Nvidia, Sony and Microsoft, ...</td>\n",
       "    </tr>\n",
       "    <tr>\n",
       "      <th>4</th>\n",
       "      <td>1</td>\n",
       "      <td>I've been a PlayStation guy for a lo...</td>\n",
       "    </tr>\n",
       "  </tbody>\n",
       "</table>\n",
       "</div>"
      ],
      "text/plain": [
       "   Rating                                            Comment\n",
       "0       1            This will no doubt come off as someo...\n",
       "1       1                  Taking advantage of high demand  \n",
       "2       1            I wait all night just to purchase th...\n",
       "3       1            Between Nvidia, Sony and Microsoft, ...\n",
       "4       1            I've been a PlayStation guy for a lo..."
      ]
     },
     "execution_count": 85,
     "metadata": {},
     "output_type": "execute_result"
    }
   ],
   "source": [
    "negative =  ps5reviews['Rating'] <= 3\n",
    "ps5reviews_negative = ps5reviews[negative]\n",
    "ps5reviews_negative.head(5)"
   ]
  },
  {
   "cell_type": "code",
   "execution_count": 86,
   "metadata": {},
   "outputs": [
    {
     "data": {
      "text/plain": [
       "(339, 2)"
      ]
     },
     "execution_count": 86,
     "metadata": {},
     "output_type": "execute_result"
    }
   ],
   "source": [
    "ps5reviews_negative.shape"
   ]
  },
  {
   "cell_type": "markdown",
   "metadata": {},
   "source": [
    "There are 339 reviews with 2 columns in the dataframe."
   ]
  },
  {
   "cell_type": "markdown",
   "metadata": {},
   "source": [
    "Here, the PS5 reviews are split into the positive set with ratings >= 4:"
   ]
  },
  {
   "cell_type": "code",
   "execution_count": 88,
   "metadata": {},
   "outputs": [
    {
     "data": {
      "text/html": [
       "<div>\n",
       "<style scoped>\n",
       "    .dataframe tbody tr th:only-of-type {\n",
       "        vertical-align: middle;\n",
       "    }\n",
       "\n",
       "    .dataframe tbody tr th {\n",
       "        vertical-align: top;\n",
       "    }\n",
       "\n",
       "    .dataframe thead th {\n",
       "        text-align: right;\n",
       "    }\n",
       "</style>\n",
       "<table border=\"1\" class=\"dataframe\">\n",
       "  <thead>\n",
       "    <tr style=\"text-align: right;\">\n",
       "      <th></th>\n",
       "      <th>Rating</th>\n",
       "      <th>Comment</th>\n",
       "    </tr>\n",
       "  </thead>\n",
       "  <tbody>\n",
       "    <tr>\n",
       "      <th>58</th>\n",
       "      <td>5</td>\n",
       "      <td>We all know what this console is cap...</td>\n",
       "    </tr>\n",
       "    <tr>\n",
       "      <th>59</th>\n",
       "      <td>5</td>\n",
       "      <td>Going over hardware and software. No...</td>\n",
       "    </tr>\n",
       "    <tr>\n",
       "      <th>88</th>\n",
       "      <td>4</td>\n",
       "      <td>I was so excited to have been able t...</td>\n",
       "    </tr>\n",
       "    <tr>\n",
       "      <th>98</th>\n",
       "      <td>5</td>\n",
       "      <td>Absolutely incredible, the haptic fe...</td>\n",
       "    </tr>\n",
       "    <tr>\n",
       "      <th>109</th>\n",
       "      <td>5</td>\n",
       "      <td>Glad to have gotten the PS5 so early...</td>\n",
       "    </tr>\n",
       "  </tbody>\n",
       "</table>\n",
       "</div>"
      ],
      "text/plain": [
       "     Rating                                            Comment\n",
       "58        5            We all know what this console is cap...\n",
       "59        5            Going over hardware and software. No...\n",
       "88        4            I was so excited to have been able t...\n",
       "98        5            Absolutely incredible, the haptic fe...\n",
       "109       5            Glad to have gotten the PS5 so early..."
      ]
     },
     "execution_count": 88,
     "metadata": {},
     "output_type": "execute_result"
    }
   ],
   "source": [
    "positive =  ps5reviews['Rating'] >= 4\n",
    "ps5reviews_positive = ps5reviews[positive]\n",
    "ps5reviews_positive.head(5)"
   ]
  },
  {
   "cell_type": "code",
   "execution_count": 89,
   "metadata": {},
   "outputs": [
    {
     "data": {
      "text/plain": [
       "(742, 2)"
      ]
     },
     "execution_count": 89,
     "metadata": {},
     "output_type": "execute_result"
    }
   ],
   "source": [
    "ps5reviews_positive.shape"
   ]
  },
  {
   "cell_type": "markdown",
   "metadata": {},
   "source": [
    "There are 742 reviews and 2 columsn in the dataframe."
   ]
  },
  {
   "cell_type": "markdown",
   "metadata": {},
   "source": [
    "#                                                    Data Cleaning (PS5 Positive Reviews)\n",
    "\n",
    "The following section is done in order to prepare the PS5 positive reviews for the LDA model.<br>\n",
    "The data will need to be split, tokenized, and lemmatized in order to prepare it for the model.<br>\n",
    "Visualizations will also be built in order to take a better look at the data."
   ]
  },
  {
   "cell_type": "markdown",
   "metadata": {},
   "source": [
    "The following produces a frequency bar graph for the PS5 positive reviews:"
   ]
  },
  {
   "cell_type": "code",
   "execution_count": 92,
   "metadata": {},
   "outputs": [
    {
     "data": {
      "image/png": "[encoded data removed]",
      "text/plain": [
       "<Figure size 1440x360 with 1 Axes>"
      ]
     },
     "metadata": {
      "needs_background": "light"
     },
     "output_type": "display_data"
    }
   ],
   "source": [
    "freq_words(ps5reviews_positive['Comment'])"
   ]
  },
  {
   "cell_type": "markdown",
   "metadata": {},
   "source": [
    "Looking above, it seems most of the most frequent words are \"the\", \"and\", and \"for\".<br>But these are not necessary words because these words don't show true sentiment.<br>The dataset will need to be cleaned further in order to prepare this dataset for the model."
   ]
  },
  {
   "cell_type": "markdown",
   "metadata": {},
   "source": [
    "The following code is run in order to remove the characters and symbols from the review dataset:"
   ]
  },
  {
   "cell_type": "code",
   "execution_count": 94,
   "metadata": {},
   "outputs": [],
   "source": [
    "ps5reviews_positive['Comment'] = ps5reviews_positive['Comment'].str.replace(\"[^a-zA-Z#]\",\" \")"
   ]
  },
  {
   "cell_type": "markdown",
   "metadata": {},
   "source": [
    "The following code is run in order to remove short words (length < 3) to make the data cleaner:"
   ]
  },
  {
   "cell_type": "code",
   "execution_count": 95,
   "metadata": {},
   "outputs": [],
   "source": [
    "ps5reviews_positive['Comment'] = ps5reviews_positive['Comment'].apply(lambda x: ' '.join([w for w in x.split() if len(w) > 2]))"
   ]
  },
  {
   "cell_type": "markdown",
   "metadata": {},
   "source": [
    "The following code is run in order to remove the stopwords from the data:"
   ]
  },
  {
   "cell_type": "code",
   "execution_count": 96,
   "metadata": {},
   "outputs": [],
   "source": [
    "reviews = [remove_stopwords(r.split()) for r in ps5reviews_positive['Comment']]"
   ]
  },
  {
   "cell_type": "markdown",
   "metadata": {},
   "source": [
    "This code is run to make the text lowercase:"
   ]
  },
  {
   "cell_type": "code",
   "execution_count": 97,
   "metadata": {},
   "outputs": [],
   "source": [
    "reviews = [r.lower() for r in reviews]"
   ]
  },
  {
   "cell_type": "code",
   "execution_count": 98,
   "metadata": {},
   "outputs": [
    {
     "data": {
      "image/png": "[encoded data removed]",
      "text/plain": [
       "<Figure size 1440x360 with 1 Axes>"
      ]
     },
     "metadata": {
      "needs_background": "light"
     },
     "output_type": "display_data"
    }
   ],
   "source": [
    "freq_words(reviews, 20)"
   ]
  },
  {
   "cell_type": "markdown",
   "metadata": {},
   "source": [
    "Re-running a frequency bar graph on the data, it seems the stopwords have been removed and the reviews are getting closer to be used for the model.<br>The next step is to lemmatize the data."
   ]
  },
  {
   "cell_type": "markdown",
   "metadata": {},
   "source": [
    "The following code is run in order to separate the text into tokens:"
   ]
  },
  {
   "cell_type": "code",
   "execution_count": 100,
   "metadata": {},
   "outputs": [
    {
     "name": "stdout",
     "output_type": "stream",
     "text": [
      "['going', 'hardware', 'software', 'not', 'going', 'every', 'exact', 'technical', 'specs', 'easily', 'look', 'software', 'change', 'overtime', 'review', 'software', 'launch', 'hardware', 'hiccups', 'failures', 'near', 'future', 'update', 'review', 'hardware', 'physical', 'looks', 'futuristic', 'yet', 'tacky', 'personal', 'opinion', 'looks', 'really', 'matter', 'long', 'play', 'next', 'gen', 'games', 'welllarge', 'console', 'standing', 'tallest', 'home', 'video', 'console', 'lot', 'air', 'vents', 'throughout', 'making', 'aerodynamic', 'cool', 'quiet', 'overheat', 'get', 'hot', 'consecutive', 'gameplay', 'hours', 'this', 'may', 'change', 'future', 'games', 'require', 'performance', 'system', 'similar', 'fate', 'like', 'whisper', 'quiet', 'beginning', 'became', 'louder', 'years', 'graphical', 'intensive', 'games', 'has', 'led', 'lights', 'giving', 'look', 'face', 'plate', 'easy', 'take', 'future', 'customization', 'options', 'free', 'download', 'space', 'consoleswapping', 'sdd', 'easy', 'xbox', 'series', 'plug', 'play', 'method', 'remove', 'screws', 'upside', 'standard', 'propriety', 'sdd', 'compatible', 'games', 'external', 'sdd', 'plug', 'transfer', 'internal', 'storagecomes', 'stand', 'console', 'entirely', 'flat', 'stand', 'required', 'horizontal', 'position', 'you', 'console', 'vertical', 'position', 'without', 'stand', 'grip', 'rubber', 'feet', 'may', 'slide', 'bumped', 'earthquakefront', 'console', 'usb', 'usb', 'power', 'eject', 'buttonback', 'console', 'two', 'usb', 'super', 'speed', 'lan', 'port', 'hdmi', 'power', 'portwished', 'usb', 'ports', 'future', 'proof', 'guess', 'kept', 'usb', 'current', 'accessories', 'backwards', 'compatible', 'disappointed', 'official', 'pulse', 'headset', 'camera', 'uses', 'usb', 'also', 'optical', 'audio', 'port', 'means', 'use', 'surround', 'sound', 'headsets', 'load', 'times', 'games', 'instantaneous', 'games', 'load', 'much', 'faster', 'even', 'without', 'optimized', 'patch', 'ray', 'tracing', 'giving', 'games', 'realistic', 'lighting', 'effects', 'controller', 'console', 'comes', 'one', 'controllerphysically', 'larger', 'past', 'duelshock', 'controllers', 'great', 'adult', 'sized', 'handsgreat', 'tech', 'demo', 'included', 'astro', 'playroom', 'haptic', 'feedback', 'similar', 'nintendo', 'switch', 'rumble', 'apparent', 'not', 'sure', 'developers', 'implement', 'future', 'games', 'even', 'nintendo', 'first', 'party', 'switch', 'mario', 'party', 'recall', 'used', 'rumble', 'great', 'extent', 'dropped', 'adaptive', 'triggers', 'will', 'feel', 'resistance', 'push', 'back', 'triggers', 'developers', 'implement', 'game', 'hope', 'haptic', 'feedback', 'adaptive', 'triggers', 'say', 'entire', 'lifespan', 'transfer', 'instead', 'dropping', 'like', 'six', 'axis', 'light', 'bar', 'has', 'built', 'mic', 'sound', 'quality', 'similar', 'current', 'smart', 'phone', 'speaker', 'has', 'mute', 'buttonsimilar', 'speaker', 'touch', 'pad', 'touch', 'pad', 'sensitive', 'time', 'aroundabout', 'double', 'battery', 'life', 'controller', 'able', 'get', 'consecutive', 'hourswished', 'came', 'back', 'paddle', 'buttons', 'hopefully', 'release', 'dualsense', 'back', 'button', 'attachment', 'like', 'dualshock', 'you', 'play', 'games', 'dualshock', 'dualsense', 'games', 'played', 'dualsense', 'softwareui', 'similar', 'scrolling', 'apps', 'games', 'left', 'right', 'there', 'activity', 'row', 'track', 'progress', 'gamesother', 'rows', 'news', 'psn', 'storethere', 'notifications', 'popups', 'turn', 'not', 'disturb', 'modesimilar', 'phone', 'swipe', 'tool', 'bar', 'basic', 'profile', 'trophy', 'list', 'avatar', 'user', 'info', 'etc', 'accessibility', 'options', 'sound', 'game', 'base', 'internet', 'wifi', 'select', 'controllers', 'see', 'connected', 'controllers', 'etc', 'home', 'screen', 'easy', 'access', 'game', 'base', 'section', 'make', 'party', 'friends', 'chat', 'view', 'friend', 'requests', 'share', 'button', 'time', 'around', 'pull', 'menu', 'take', 'snap', 'shot', 'record', 'video', 'save', 'video', 'previously', 'played', 'game', 'session', 'minsthere', 'your', 'accolades', 'feature', 'give', 'props', 'players', 'reminds', 'give', 'endorsements', 'sportsmanship', 'good', 'teammate', 'shot', 'caller', 'overwatch', 'encourage', 'positivity', 'online', 'community', 'for', 'helpful', 'welcoming', 'good', 'sportthere', 'accessibility', 'options', 'preferences', 'setup', 'transfers', 'gamesthere', 'switcher', 'option', 'change', 'games', 'fly', 'unlike', 'xbox', 'series', 'quick', 'resume', 'leave', 'left', 'boot', 'back', 'home', 'screen', 'gamepicture', 'picture', 'mode', 'want', 'friends', 'help', 'show', 'get', 'levelsps', 'games', 'load', 'faster', 'downloaded', 'ssd', 'graphical', 'upgrade', 'depends', 'publisher', 'implement', 'upgrade', 'patch', 'for', 'trophies', 'trophies', 'collectables', 'progress', 'bar', 'showing', 'much', 'left', 'collect', 'there', 'also', 'tutorial', 'videos', 'games', 'implement', 'some', 'trophies', 'selected', 'drop', 'level', 'section', 'obtain', 'trophy', 'again', 'depends', 'game', 'developer', 'implement', 'trophies', 'act', 'samebase', 'price', 'games', 'last', 'gen', 'excluding', 'special', 'collector', 'editions', 'dlc', 'micro', 'transactions', 'loot', 'crates', 'surprise', 'mechanicsoverall', 'aside', 'odd', 'design', 'choices', 'capable', 'next', 'gen', 'system', 'there', 'features', 'especially', 'controller', 'developers', 'utilize', 'may', 'present', 'games', 'anything', 'like', 'going', 'thousands', 'gameplay', 'hours', 'system']\n"
     ]
    }
   ],
   "source": [
    "tokenized_reviews = pd.Series(reviews).apply(lambda x: x.split())\n",
    "print(tokenized_reviews[1])"
   ]
  },
  {
   "cell_type": "markdown",
   "metadata": {},
   "source": [
    "This code is run in order to lemmatize the data:"
   ]
  },
  {
   "cell_type": "code",
   "execution_count": 101,
   "metadata": {},
   "outputs": [
    {
     "name": "stdout",
     "output_type": "stream",
     "text": [
      "['hardware', 'software', 'exact', 'technical', 'spec', 'software', 'change', 'overtime', 'software', 'failure', 'future', 'update', 'futuristic', 'tacky', 'personal', 'opinion', 'long', 'play', 'home', 'video', 'console', 'lot', 'air', 'vent', 'aerodynamic', 'cool', 'quiet', 'overheat', 'hot', 'consecutive', 'gameplay', 'hour', 'future', 'game', 'performance', 'system', 'similar', 'fate', 'whisper', 'quiet', 'beginning', 'loud', 'year', 'graphical', 'intensive', 'game', 'light', 'look', 'face', 'plate', 'future', 'customization', 'option', 'free', 'download', 'space', 'play', 'method', 'screw', 'upside', 'standard', 'compatible', 'sdd', 'transfer', 'internal', 'storagecome', 'console', 'flat', 'stand', 'required', 'horizontal', 'position', 'vertical', 'position', 'stand', 'grip', 'rubber', 'foot', 'super', 'speed', 'port', 'future', 'proof', 'guess', 'current', 'accessory', 'compatible', 'disappointed', 'official', 'pulse', 'headset', 'camera', 'optical', 'audio', 'port', 'surround', 'sound', 'headset', 'load', 'time', 'instantaneous', 'game', 'optimized', 'patch', 'ray', 'giving', 'game', 'realistic', 'lighting', 'large', 'past', 'duelshock', 'controller', 'great', 'adult', 'sized', 'handsgreat', 'tech', 'demo', 'haptic', 'feedback', 'similar', 'nintendo', 'switch', 'rumble', 'apparent', 'sure', 'developer', 'future', 'game', 'nintendo', 'recall', 'great', 'extent', 'adaptive', 'trigger', 'resistance', 'trigger', 'developer', 'game', 'haptic', 'feedback', 'adaptive', 'trigger', 'entire', 'lifespan', 'transfer', 'light', 'bar', 'quality', 'similar', 'current', 'smart', 'phone', 'speaker', 'mute', 'pad', 'touch', 'pad', 'sensitive', 'time', 'double', 'battery', 'life', 'controller', 'able', 'consecutive', 'hourswished', 'paddle', 'button', 'dualsense', 'button', 'attachment', 'dualshock', 'game', 'dualsense', 'game', 'similar', 'scrolling', 'app', 'game', 'activity', 'row', 'progress', 'gamesother', 'news', 'psn', 'notification', 'popup', 'modesimilar', 'phone', 'swipe', 'tool', 'bar', 'basic', 'profile', 'trophy', 'list', 'info', 'accessibility', 'option', 'internet', 'select', 'controller', 'connected', 'controller', 'home', 'screen', 'easy', 'access', 'game', 'section', 'party', 'friend', 'chat', 'view', 'friend', 'request', 'share', 'button', 'time', 'record', 'video', 'save', 'video', 'game', 'session', 'minsthere', 'accolade', 'feature', 'prop', 'player', 'remind', 'endorsement', 'sportsmanship', 'good', 'positivity', 'online', 'community', 'helpful', 'good', 'accessibility', 'option', 'preference', 'setup', 'transfer', 'switcher', 'option', 'change', 'game', 'quick', 'resume', 'boot', 'home', 'screen', 'gamepicture', 'picture', 'mode', 'friend', 'levelsp', 'game', 'load', 'ssd', 'graphical', 'upgrade', 'publisher', 'upgrade', 'patch', 'trophy', 'progress', 'bar', 'collect', 'tutorial', 'video', 'game', 'trophy', 'drop', 'level', 'section', 'trophy', 'game', 'developer', 'samebase', 'price', 'game', 'last', 'special', 'collector', 'edition', 'transaction', 'loot', 'crate', 'mechanicsoverall', 'odd', 'design', 'choice', 'capable', 'next', 'system', 'controller', 'developer', 'game', 'thousand', 'gameplay', 'hour', 'system']\n"
     ]
    }
   ],
   "source": [
    "reviews_2 = lemmatization(tokenized_reviews)\n",
    "print(reviews_2[1]) "
   ]
  },
  {
   "cell_type": "markdown",
   "metadata": {},
   "source": [
    "The following code is run in order to append the reviews to a new dataframe in order to show a frequency graph \n",
    "of the lemmatized reviews later on:"
   ]
  },
  {
   "cell_type": "code",
   "execution_count": 102,
   "metadata": {},
   "outputs": [],
   "source": [
    "reviews_3 = []\n",
    "for i in range(len(reviews_2)):\n",
    "    reviews_3.append(' '.join(reviews_2[i]))\n",
    "\n",
    "ps5reviews_positive['reviews'] = reviews_3"
   ]
  },
  {
   "cell_type": "code",
   "execution_count": 103,
   "metadata": {},
   "outputs": [
    {
     "data": {
      "image/png": "[encoded data removed]",
      "text/plain": [
       "<Figure size 1440x360 with 1 Axes>"
      ]
     },
     "metadata": {
      "needs_background": "light"
     },
     "output_type": "display_data"
    }
   ],
   "source": [
    "freq_words(ps5reviews_positive['reviews'], 20)"
   ]
  },
  {
   "cell_type": "markdown",
   "metadata": {},
   "source": [
    "As can be seen, the tokens are now cleaner as words such as \"game\", \"system\", and \"console\" are now clearly showing in the dataset.<br> The dataset is now ready for model building."
   ]
  },
  {
   "cell_type": "markdown",
   "metadata": {},
   "source": [
    "#                                                        LDA Model (PS5 Positive Reviews)\n",
    "\n",
    "The code below is run in order to incorporate the reviews into a dictionary in order to set up the LDA Model."
   ]
  },
  {
   "cell_type": "code",
   "execution_count": 105,
   "metadata": {},
   "outputs": [],
   "source": [
    "dictionary = corpora.Dictionary(reviews_2)\n",
    "doc_term_matrix = [dictionary.doc2bow(rev) for rev in reviews_2]"
   ]
  },
  {
   "cell_type": "markdown",
   "metadata": {},
   "source": [
    "Next, the LDA Model is imported and the next lines of code are run in order to build the model.<br>\n",
    "The number of topics chosen through trial and error were 4."
   ]
  },
  {
   "cell_type": "code",
   "execution_count": 106,
   "metadata": {},
   "outputs": [],
   "source": [
    "LDA = gensim.models.ldamodel.LdaModel\n",
    "\n",
    "lda_model = LDA(corpus = doc_term_matrix, \n",
    "                id2word = dictionary,\n",
    "                num_topics = 4,\n",
    "                random_state = 100,\n",
    "                chunksize = 1000,\n",
    "                passes = 50)"
   ]
  },
  {
   "cell_type": "markdown",
   "metadata": {},
   "source": [
    "Here, this code is being run to print the topics and the words associated with it:"
   ]
  },
  {
   "cell_type": "code",
   "execution_count": 107,
   "metadata": {},
   "outputs": [
    {
     "data": {
      "text/plain": [
       "[(0,\n",
       "  '0.036*\"console\" + 0.028*\"game\" + 0.017*\"love\" + 0.014*\"new\" + 0.012*\"controller\" + 0.011*\"great\" + 0.010*\"next\" + 0.010*\"design\" + 0.010*\"generation\" + 0.009*\"good\"'),\n",
       " (1,\n",
       "  '0.036*\"console\" + 0.030*\"great\" + 0.026*\"good\" + 0.019*\"game\" + 0.018*\"time\" + 0.015*\"day\" + 0.014*\"controller\" + 0.012*\"system\" + 0.012*\"able\" + 0.010*\"lucky\"'),\n",
       " (2,\n",
       "  '0.041*\"game\" + 0.019*\"day\" + 0.018*\"playstation\" + 0.016*\"graphic\" + 0.016*\"good\" + 0.016*\"worth\" + 0.014*\"console\" + 0.013*\"time\" + 0.011*\"play\" + 0.011*\"nice\"'),\n",
       " (3,\n",
       "  '0.046*\"game\" + 0.019*\"console\" + 0.018*\"system\" + 0.017*\"amazing\" + 0.015*\"time\" + 0.014*\"next\" + 0.013*\"controller\" + 0.012*\"new\" + 0.011*\"great\" + 0.010*\"good\"')]"
      ]
     },
     "execution_count": 107,
     "metadata": {},
     "output_type": "execute_result"
    }
   ],
   "source": [
    "lda_model.print_topics()"
   ]
  },
  {
   "cell_type": "markdown",
   "metadata": {},
   "source": [
    "This code is run to visualize the LDA model into a graphical bubble plot:"
   ]
  },
  {
   "cell_type": "code",
   "execution_count": 108,
   "metadata": {},
   "outputs": [
    {
     "data": {
      "text/html": [
       "\n",
       "<link rel=\"stylesheet\" type=\"text/css\" href=\"https://cdn.rawgit.com/bmabey/pyLDAvis/files/ldavis.v1.0.0.css\">\n",
       "\n",
       "\n",
       "<div id=\"ldavis_el2040822460555777445670868806\"></div>\n",
       "<script type=\"text/javascript\">\n",
       "\n",
       "var ldavis_el2040822460555777445670868806_data = {\"mdsDat\": {\"x\": [0.015085485373422096, 0.11511983669454225, -0.06988599361115741, -0.060319328456806896], \"y\": [-0.031585982404656106, 0.009553809661845108, -0.07375848536499882, 0.09579065810780986], \"topics\": [1, 2, 3, 4], \"cluster\": [1, 1, 1, 1], \"Freq\": [43.22171889160438, 22.512561101622445, 21.167712086844283, 13.098007919928886]}, \"tinfo\": {\"Term\": [\"great\", \"day\", \"love\", \"console\", \"graphic\", \"worth\", \"game\", \"good\", \"playstation\", \"order\", \"design\", \"thing\", \"next\", \"lot\", \"nice\", \"lucky\", \"purchase\", \"future\", \"fun\", \"able\", \"play\", \"happy\", \"shipping\", \"time\", \"release\", \"people\", \"generation\", \"version\", \"unit\", \"problem\", \"version\", \"device\", \"thought\", \"warzone\", \"plan\", \"impossible\", \"black\", \"war\", \"extra\", \"awesome\", \"harmony\", \"feel\", \"score\", \"word\", \"enough\", \"apple\", \"frame\", \"looking\", \"covid\", \"world\", \"fidelity\", \"expansion\", \"delete\", \"folk\", \"exceptional\", \"care\", \"gun\", \"show\", \"crash\", \"talk\", \"external\", \"simple\", \"sense\", \"storage\", \"title\", \"bit\", \"feedback\", \"next\", \"rate\", \"amazing\", \"system\", \"game\", \"drive\", \"load\", \"dual\", \"year\", \"haptic\", \"hand\", \"ssd\", \"new\", \"time\", \"thing\", \"controller\", \"experience\", \"worth\", \"quiet\", \"fast\", \"console\", \"great\", \"trigger\", \"good\", \"way\", \"big\", \"issue\", \"day\", \"playstation\", \"able\", \"theme\", \"graphical\", \"bar\", \"view\", \"design\", \"flat\", \"progress\", \"aspect\", \"few\", \"attempt\", \"account\", \"art\", \"limit\", \"extent\", \"exact\", \"plate\", \"touch\", \"amazed\", \"spring\", \"style\", \"drop\", \"bug\", \"tiny\", \"son\", \"packaging\", \"concept\", \"bold\", \"uninspired\", \"object\", \"variety\", \"powerful\", \"love\", \"generation\", \"brand\", \"snappy\", \"technology\", \"top\", \"developer\", \"console\", \"home\", \"piece\", \"port\", \"new\", \"set\", \"machine\", \"player\", \"platform\", \"performance\", \"future\", \"moment\", \"big\", \"game\", \"next\", \"overall\", \"controller\", \"feature\", \"great\", \"dualsense\", \"playstation\", \"upgrade\", \"cool\", \"last\", \"good\", \"transfer\", \"space\", \"hard\", \"speed\", \"button\", \"incredible\", \"drive\", \"issue\", \"time\", \"play\", \"launch\", \"way\", \"amazing\", \"item\", \"valhalla\", \"today\", \"surprised\", \"processing\", \"fault\", \"unit\", \"notification\", \"negative\", \"teen\", \"defective\", \"server\", \"acv\", \"running\", \"magic\", \"feed\", \"timer\", \"fortune\", \"missing\", \"fair\", \"nervous\", \"assassin\", \"mid\", \"pleasant\", \"enjoyable\", \"walk\", \"stress\", \"finding\", \"bonus\", \"feeling\", \"part\", \"date\", \"gift\", \"lucky\", \"jet\", \"happy\", \"cable\", \"night\", \"problem\", \"available\", \"great\", \"able\", \"outstanding\", \"luck\", \"retail\", \"people\", \"good\", \"engine\", \"purchase\", \"thank\", \"order\", \"console\", \"day\", \"pre\", \"time\", \"huge\", \"graphic\", \"fast\", \"controller\", \"delivery\", \"system\", \"issue\", \"launch\", \"game\", \"amazing\", \"stock\", \"old\", \"easy\", \"quiet\", \"load\", \"new\", \"big\", \"thing\", \"satisfied\", \"pleased\", \"morning\", \"status\", \"shipping\", \"dollar\", \"meaning\", \"mommy\", \"expected\", \"seamless\", \"self\", \"join\", \"powering\", \"gen\", \"shocked\", \"junk\", \"shiny\", \"hype\", \"brother\", \"young\", \"fun\", \"driver\", \"blast\", \"trouble\", \"hesitant\", \"tracker\", \"undamaged\", \"track\", \"informative\", \"shout\", \"nice\", \"secure\", \"job\", \"fps\", \"worth\", \"release\", \"lot\", \"graphic\", \"playstation\", \"order\", \"day\", \"play\", \"game\", \"future\", \"thing\", \"perfect\", \"good\", \"process\", \"video\", \"changer\", \"complaint\", \"love\", \"time\", \"little\", \"pre\", \"console\", \"system\", \"amazing\", \"well\", \"controller\", \"issue\", \"launch\", \"fast\", \"gaming\", \"review\"], \"Freq\": [154.0, 93.0, 66.0, 286.0, 66.0, 61.0, 393.0, 156.0, 74.0, 42.0, 28.0, 62.0, 91.0, 37.0, 26.0, 38.0, 43.0, 35.0, 16.0, 58.0, 56.0, 34.0, 13.0, 146.0, 27.0, 40.0, 42.0, 27.0, 16.0, 26.0, 27.231445827611093, 10.126090798013745, 6.527310575719108, 6.526407630507221, 6.519866021252751, 6.515333437191601, 7.303407611086979, 6.4791542418352375, 12.833467658157597, 36.242801093983786, 5.627416291813778, 12.708357846493836, 4.726910929412146, 4.719368155936338, 12.570344512463425, 4.697299014187722, 16.416070763145584, 5.4070597118598425, 5.405546246214208, 10.033290575958993, 3.8264030557290223, 3.8264013815413613, 3.8263712461634616, 3.8246881295015025, 3.824680316625751, 3.8224288132528486, 3.8220964870021206, 3.8174268985840367, 8.314905476731425, 3.7969317722681315, 18.231592230470152, 9.808788707356175, 20.31007054084789, 29.748464202312594, 23.219723870330906, 23.2206279316679, 26.232752707261287, 64.80421936732222, 9.22835398394102, 80.5283907828894, 86.80076387445202, 221.5841211340559, 29.68236280895195, 41.649306649727805, 15.690251257428196, 27.07271497933713, 26.429032236398395, 29.48917494636234, 19.51805923563616, 57.367718859740805, 69.93843504186499, 35.971636266890805, 63.02584812419746, 27.245665261479367, 33.23957406774659, 23.346692030298488, 36.28525849306928, 89.65688337928371, 54.45898968184672, 21.048835981686004, 48.79330648266318, 25.83068426307203, 28.160811953039868, 28.51097165073418, 26.987132738351928, 24.584108685369596, 23.53350905077506, 6.973472144838342, 5.287961111695746, 4.442688360804684, 4.399188168234761, 24.86011545178499, 3.596398251932194, 3.5907039539732835, 3.5792700129568624, 2.7501052363226135, 2.7501052363226135, 2.7490855529515135, 2.744889677962393, 2.744501047213487, 2.7446472560891038, 2.7438101158072428, 2.744245545023294, 2.7406330521680955, 2.7393078707288576, 2.7385840931934986, 2.734218174084625, 2.7320517829316002, 5.276446363388228, 5.234888161867998, 5.286629244761201, 4.449264562796638, 1.9038046631966001, 1.9038046631966001, 1.903804372522891, 1.9038046631966001, 1.903804372522891, 5.070619147364941, 42.32471971775806, 24.674058698751658, 3.607461002622248, 3.544760648879387, 6.611043305407464, 5.198803346287853, 8.834800077594338, 89.97098208081027, 6.907827557097227, 5.978796595616277, 8.665837264038679, 36.06560786145538, 6.280020016189577, 5.869002740913087, 8.689714946536515, 5.006635469196936, 12.617164392362659, 14.413756964739227, 4.912622290154247, 20.641433040763175, 68.76037736240964, 25.27225123949363, 10.53086314772031, 30.927752397118955, 9.825838717369649, 28.700243027349156, 6.921789196686935, 17.46727032523183, 10.207809550255226, 8.810585213594083, 9.377036185315484, 22.16380519878323, 7.270011649265145, 9.194104174653685, 9.685571212364456, 9.664150304054914, 7.892395218763236, 9.078008513939817, 10.597718100785617, 12.032610262046008, 15.249789198421826, 11.33999062289976, 10.451274360812025, 10.082417562980773, 9.57876722743183, 6.793598016395759, 5.1457613210546524, 4.3129863782240605, 3.4726424014060546, 3.4447402319911986, 2.6760790574811586, 13.48122627725343, 8.22388360949186, 5.072024597665752, 1.8535581414123115, 1.8535571848289738, 1.8535566382099236, 1.8535566382099236, 1.8535395563646064, 1.853526984126453, 1.8535238410669148, 1.8535198780788011, 1.8534470410903687, 1.8534177969711858, 1.8533975720663303, 1.8523654186448864, 1.8523229190137374, 1.8523137631446474, 1.8522899852159658, 1.849843591657024, 1.849559759715234, 1.8495441810723048, 1.849309954809316, 1.8462017422354062, 1.8456325751494385, 12.434842175457982, 9.875713903613354, 3.4987276090982156, 23.375798538096927, 5.148992932879134, 20.83013240021937, 6.213154726042578, 5.9648645015124435, 15.911829105074622, 12.906843352309252, 69.88339580268526, 29.004512002053534, 3.3994695155673824, 8.78895050596435, 8.048221018297873, 20.141495161413044, 61.84918463064271, 4.309651455399101, 20.264790554364655, 6.358929280812517, 19.512413161358552, 85.54836518528398, 34.869517949008554, 9.06782133325507, 42.0203555659149, 12.45335944240083, 21.92307969918271, 22.79599752512767, 31.84129214070705, 10.68448707726143, 29.015276024389067, 18.696652009773373, 14.951232490247659, 43.54806835203336, 22.256034108533274, 11.336237369325598, 10.502138241846021, 10.665798171936835, 11.591437405268668, 12.908114788219898, 13.032126252127204, 11.947285313677572, 11.163887289575516, 4.018066025755851, 3.2529834547074303, 2.4898585767786447, 2.488490762166377, 10.623005687000058, 4.676113382830361, 1.7237286669698666, 1.7237082038679767, 1.7236309176071205, 1.721599658790609, 1.7203576668874818, 1.718844750279996, 1.7177774557673824, 1.7167113450705804, 1.7160622757726225, 1.7160566949266527, 1.7080913056786557, 5.404765882552498, 3.8408731515111767, 1.5875668487623258, 10.678221562327318, 2.493286061786907, 1.504384508697003, 2.475151694715512, 0.9575201179678756, 0.9575201179678756, 0.9575201179678756, 0.9575200334096033, 0.9575200334096033, 0.9575200334096033, 15.552077847196006, 2.3592297445589323, 5.969539377115688, 2.487918133546553, 22.58889279587246, 11.307901986686286, 14.61845981605118, 23.590589030256346, 25.806654347847825, 14.975179372855228, 27.214561757563313, 16.17305891650366, 59.62845338402951, 11.175156999144702, 15.512612810361345, 6.026342918563123, 23.414180180312176, 3.2361577114577127, 4.911737714380245, 3.435853233119339, 4.680761043707505, 12.381652692504534, 19.394309681026044, 7.850886523882046, 5.557824811191553, 20.9122010207861, 13.396132784723546, 10.910888045513136, 6.208361026056711, 9.820651858932793, 7.98907368182704, 6.622070152507191, 6.926444756444148, 6.1103343121775415, 5.579774785740938], \"Total\": [154.0, 93.0, 66.0, 286.0, 66.0, 61.0, 393.0, 156.0, 74.0, 42.0, 28.0, 62.0, 91.0, 37.0, 26.0, 38.0, 43.0, 35.0, 16.0, 58.0, 56.0, 34.0, 13.0, 146.0, 27.0, 40.0, 42.0, 27.0, 16.0, 26.0, 27.847439733295932, 10.738609334492875, 7.136962102691479, 7.136891729464172, 7.136295572858551, 7.135583577686341, 8.026647931524536, 7.133733976672169, 14.20697110382307, 40.130227492195694, 6.236537195990415, 14.278921430158318, 5.336042579043949, 5.335281295526456, 14.267874443486635, 5.333051811968156, 18.688433648049223, 6.217501949699311, 6.222623408422724, 11.578441096509193, 4.435546044038526, 4.4355502000248626, 4.435537840220449, 4.435261965807397, 4.435260783535531, 4.434878716609216, 4.435189118694271, 4.434672069084377, 9.702786323374763, 4.4309328876341, 21.38152188961556, 11.457958693632513, 25.50515351445658, 38.65418605791138, 30.00511911845968, 30.0279870745544, 34.467276155292694, 91.7649308950875, 11.485968150947691, 123.27408016436763, 136.74929254287497, 393.5210202325284, 42.33644808889731, 64.39243697238525, 20.987937714253285, 39.443877947673776, 38.70255347687249, 45.238287872906966, 27.380048682814675, 110.95371913960282, 146.60288948722774, 62.86488702816598, 135.61554452095626, 45.20688137475991, 61.34206085649167, 37.45852624691195, 71.92854052077135, 286.088431666164, 154.41612214227266, 34.04419145215732, 156.22047649240127, 50.728852566865385, 62.921536875537996, 67.22930760438061, 93.46325352800217, 74.75939896043903, 58.84704220783768, 7.603669783041279, 5.911529837196921, 5.065355267687771, 5.0641299836983595, 28.969444068027748, 4.219062707921478, 4.219192000603528, 4.218393420382353, 3.3727675700715425, 3.3727678062180364, 3.3726561920732903, 3.372605116429387, 3.3723744778881803, 3.372890877683377, 3.3720887131895085, 3.3728881048574215, 3.3728016873054067, 3.37247750247238, 3.3730215494795135, 3.371939643896893, 3.370863623639642, 6.733927614954541, 6.733493374439091, 6.809508778923892, 5.831985772673134, 2.52646605165958, 2.5264661173479595, 2.526465839698373, 2.526466232369809, 2.5264658717164066, 6.731069353261499, 66.23587404405491, 42.10561123568114, 5.118046535107525, 5.0402604854733495, 10.077050993351328, 7.715266585548351, 14.443659593938678, 286.088431666164, 10.920075912489065, 9.331770545632793, 15.598447988585727, 110.95371913960282, 10.34720513449996, 9.474882992403057, 16.316030770622888, 7.7284913884820465, 28.866561380379526, 35.80097365177749, 7.715130342779579, 62.921536875537996, 393.5210202325284, 91.7649308950875, 23.814677978748893, 135.61554452095626, 22.22238761972585, 154.41612214227266, 12.863393836010783, 74.75939896043903, 27.541475369086676, 20.5761768263592, 24.239732290870304, 156.22047649240127, 14.192958347358138, 23.666870187002957, 26.932391040673636, 27.88719233295914, 17.352802819950384, 25.667243408082722, 42.33644808889731, 67.22930760438061, 146.60288948722774, 56.20756399881007, 45.405959405947875, 50.728852566865385, 123.27408016436763, 7.425484119194663, 5.777657332048565, 4.953997261060984, 4.127814471065585, 4.131228438476097, 3.305763385459174, 16.70903140672096, 10.767147447240976, 6.682818836609643, 2.481811150331754, 2.481810851949095, 2.481811385277824, 2.4818117437484952, 2.481806955109586, 2.4818021290546928, 2.4818027316141937, 2.481799908023705, 2.4817798610291013, 2.4817939015367867, 2.48176798679033, 2.4817817882063977, 2.481868822831323, 2.4818657515578817, 2.4818597600383865, 2.4818099595734884, 2.481920439027817, 2.481915719905894, 2.4820117591989157, 2.4821677608263513, 2.4818496999186297, 17.405665791372993, 13.784725049130532, 4.895648325176764, 38.15561289248968, 7.483412274168289, 34.38749981607129, 9.28008466285879, 8.900541930835699, 26.17866674779944, 21.633803523525913, 154.41612214227266, 58.84704220783768, 4.9844116786519965, 15.07675113092215, 13.611158690005098, 40.83428474016412, 156.22047649240127, 6.699741592980679, 43.09211968387739, 10.870234764971256, 42.31011872670255, 286.088431666164, 93.46325352800217, 17.919736099491097, 146.60288948722774, 28.028426174931905, 66.68204647118398, 71.92854052077135, 135.61554452095626, 23.874101629630562, 136.74929254287497, 67.22930760438061, 45.405959405947875, 393.5210202325284, 123.27408016436763, 29.11165743981473, 24.890035487248532, 26.650136663455825, 37.45852624691195, 64.39243697238525, 110.95371913960282, 62.921536875537996, 62.86488702816598, 4.665443601970845, 3.899082564529988, 3.132609336879451, 3.1327353624939684, 13.41225836776165, 6.350493626918546, 2.3664234644249644, 2.3664179442515954, 2.3664012873176863, 2.366653899188261, 2.3668535068007515, 2.3666434887240606, 2.3669815050463376, 2.3670450894620654, 2.367091962555703, 2.3674240486806437, 2.3677255352577395, 7.857615053749351, 5.594191272180395, 2.3895104670744356, 16.103404090470242, 3.9559524566048676, 2.3887271758114372, 4.034474262359838, 1.600206760206341, 1.6002067772881863, 1.600206811451877, 1.600206744678236, 1.6002067610572954, 1.6002067948633765, 26.387043270118788, 3.991755833861495, 12.356153106908506, 4.780714157510781, 61.34206085649167, 27.603601725352338, 37.45399878676026, 66.68204647118398, 74.75939896043903, 42.31011872670255, 93.46325352800217, 56.20756399881007, 393.5210202325284, 35.80097365177749, 62.86488702816598, 16.471904719967593, 156.22047649240127, 6.524321865034706, 13.050602803538887, 7.264569118573362, 12.143248626244961, 66.23587404405491, 146.60288948722774, 32.036333591368994, 17.919736099491097, 286.088431666164, 136.74929254287497, 123.27408016436763, 28.946440334100636, 135.61554452095626, 67.22930760438061, 45.405959405947875, 71.92854052077135, 37.67069284513107, 25.908541367159536], \"Category\": [\"Default\", \"Default\", \"Default\", \"Default\", \"Default\", \"Default\", \"Default\", \"Default\", \"Default\", \"Default\", \"Default\", \"Default\", \"Default\", \"Default\", \"Default\", \"Default\", \"Default\", \"Default\", \"Default\", \"Default\", \"Default\", \"Default\", \"Default\", \"Default\", \"Default\", \"Default\", \"Default\", \"Default\", \"Default\", \"Default\", \"Topic1\", \"Topic1\", \"Topic1\", \"Topic1\", \"Topic1\", \"Topic1\", \"Topic1\", \"Topic1\", \"Topic1\", \"Topic1\", \"Topic1\", \"Topic1\", \"Topic1\", \"Topic1\", \"Topic1\", \"Topic1\", \"Topic1\", \"Topic1\", \"Topic1\", \"Topic1\", \"Topic1\", \"Topic1\", \"Topic1\", \"Topic1\", \"Topic1\", \"Topic1\", \"Topic1\", \"Topic1\", \"Topic1\", \"Topic1\", \"Topic1\", \"Topic1\", \"Topic1\", \"Topic1\", \"Topic1\", \"Topic1\", \"Topic1\", \"Topic1\", \"Topic1\", \"Topic1\", \"Topic1\", \"Topic1\", \"Topic1\", \"Topic1\", \"Topic1\", \"Topic1\", \"Topic1\", \"Topic1\", \"Topic1\", \"Topic1\", \"Topic1\", \"Topic1\", \"Topic1\", \"Topic1\", \"Topic1\", \"Topic1\", \"Topic1\", \"Topic1\", \"Topic1\", \"Topic1\", \"Topic1\", \"Topic1\", \"Topic1\", \"Topic1\", \"Topic1\", \"Topic1\", \"Topic1\", \"Topic2\", \"Topic2\", \"Topic2\", \"Topic2\", \"Topic2\", \"Topic2\", \"Topic2\", \"Topic2\", \"Topic2\", \"Topic2\", \"Topic2\", \"Topic2\", \"Topic2\", \"Topic2\", \"Topic2\", \"Topic2\", \"Topic2\", \"Topic2\", \"Topic2\", \"Topic2\", \"Topic2\", \"Topic2\", \"Topic2\", \"Topic2\", \"Topic2\", \"Topic2\", \"Topic2\", \"Topic2\", \"Topic2\", \"Topic2\", \"Topic2\", \"Topic2\", \"Topic2\", \"Topic2\", \"Topic2\", \"Topic2\", \"Topic2\", \"Topic2\", \"Topic2\", \"Topic2\", \"Topic2\", \"Topic2\", \"Topic2\", \"Topic2\", \"Topic2\", \"Topic2\", \"Topic2\", \"Topic2\", \"Topic2\", \"Topic2\", \"Topic2\", \"Topic2\", \"Topic2\", \"Topic2\", \"Topic2\", \"Topic2\", \"Topic2\", \"Topic2\", \"Topic2\", \"Topic2\", \"Topic2\", \"Topic2\", \"Topic2\", \"Topic2\", \"Topic2\", \"Topic2\", \"Topic2\", \"Topic2\", \"Topic2\", \"Topic2\", \"Topic2\", \"Topic2\", \"Topic2\", \"Topic2\", \"Topic2\", \"Topic2\", \"Topic3\", \"Topic3\", \"Topic3\", \"Topic3\", \"Topic3\", \"Topic3\", \"Topic3\", \"Topic3\", \"Topic3\", \"Topic3\", \"Topic3\", \"Topic3\", \"Topic3\", \"Topic3\", \"Topic3\", \"Topic3\", \"Topic3\", \"Topic3\", \"Topic3\", \"Topic3\", \"Topic3\", \"Topic3\", \"Topic3\", \"Topic3\", \"Topic3\", \"Topic3\", \"Topic3\", \"Topic3\", \"Topic3\", \"Topic3\", \"Topic3\", \"Topic3\", \"Topic3\", \"Topic3\", \"Topic3\", \"Topic3\", \"Topic3\", \"Topic3\", \"Topic3\", \"Topic3\", \"Topic3\", \"Topic3\", \"Topic3\", \"Topic3\", \"Topic3\", \"Topic3\", \"Topic3\", \"Topic3\", \"Topic3\", \"Topic3\", \"Topic3\", \"Topic3\", \"Topic3\", \"Topic3\", \"Topic3\", \"Topic3\", \"Topic3\", \"Topic3\", \"Topic3\", \"Topic3\", \"Topic3\", \"Topic3\", \"Topic3\", \"Topic3\", \"Topic3\", \"Topic3\", \"Topic3\", \"Topic3\", \"Topic3\", \"Topic3\", \"Topic3\", \"Topic3\", \"Topic3\", \"Topic4\", \"Topic4\", \"Topic4\", \"Topic4\", \"Topic4\", \"Topic4\", \"Topic4\", \"Topic4\", \"Topic4\", \"Topic4\", \"Topic4\", \"Topic4\", \"Topic4\", \"Topic4\", \"Topic4\", \"Topic4\", \"Topic4\", \"Topic4\", \"Topic4\", \"Topic4\", \"Topic4\", \"Topic4\", \"Topic4\", \"Topic4\", \"Topic4\", \"Topic4\", \"Topic4\", \"Topic4\", \"Topic4\", \"Topic4\", \"Topic4\", \"Topic4\", \"Topic4\", \"Topic4\", \"Topic4\", \"Topic4\", \"Topic4\", \"Topic4\", \"Topic4\", \"Topic4\", \"Topic4\", \"Topic4\", \"Topic4\", \"Topic4\", \"Topic4\", \"Topic4\", \"Topic4\", \"Topic4\", \"Topic4\", \"Topic4\", \"Topic4\", \"Topic4\", \"Topic4\", \"Topic4\", \"Topic4\", \"Topic4\", \"Topic4\", \"Topic4\", \"Topic4\", \"Topic4\", \"Topic4\", \"Topic4\", \"Topic4\", \"Topic4\", \"Topic4\"], \"logprob\": [30.0, 29.0, 28.0, 27.0, 26.0, 25.0, 24.0, 23.0, 22.0, 21.0, 20.0, 19.0, 18.0, 17.0, 16.0, 15.0, 14.0, 13.0, 12.0, 11.0, 10.0, 9.0, 8.0, 7.0, 6.0, 5.0, 4.0, 3.0, 2.0, 1.0, -5.1707000732421875, -6.159900188446045, -6.599100112915039, -6.5991997718811035, -6.600200176239014, -6.600900173187256, -6.486700057983398, -6.606500148773193, -5.922999858856201, -4.884799957275391, -6.747399806976318, -5.932799816131592, -6.921800136566162, -6.923399925231934, -5.943699836730957, -6.928100109100342, -5.676799774169922, -6.787399768829346, -6.787600040435791, -6.1691999435424805, -7.1331000328063965, -7.1331000328063965, -7.1331000328063965, -7.133600234985352, -7.133600234985352, -7.134200096130371, -7.134300231933594, -7.135499954223633, -6.35699987411499, -7.140900135040283, -5.571899890899658, -6.191800117492676, -5.463900089263916, -5.082300186157227, -5.330100059509277, -5.329999923706055, -5.208099842071533, -4.303699970245361, -6.252799987792969, -4.08650016784668, -4.01140022277832, -3.0743000507354736, -5.084499835968018, -4.745800018310547, -5.7220001220703125, -5.176499843597412, -5.2006001472473145, -5.091000080108643, -5.503699779510498, -4.425600051879883, -4.227399826049805, -4.892300128936768, -4.331500053405762, -5.170199871063232, -4.97130012512207, -5.3246002197265625, -4.883699893951416, -3.979099988937378, -4.47760009765625, -5.428199768066406, -4.587500095367432, -5.223499774932861, -5.1371002197265625, -5.124800205230713, -5.179699897766113, -5.2729997634887695, -5.3165998458862305, -5.88070011138916, -6.157400131225586, -6.331500053405762, -6.341400146484375, -4.609499931335449, -6.542900085449219, -6.544400215148926, -6.547599792480469, -6.811200141906738, -6.811200141906738, -6.811500072479248, -6.8130998611450195, -6.813199996948242, -6.8130998611450195, -6.813399791717529, -6.813300132751465, -6.814599990844727, -6.815100193023682, -6.815400123596191, -6.81689977645874, -6.817699909210205, -6.1595001220703125, -6.167399883270264, -6.157599925994873, -6.330100059509277, -7.178899765014648, -7.178899765014648, -7.178899765014648, -7.178899765014648, -7.178899765014648, -6.1992998123168945, -4.077400207519531, -4.617000102996826, -6.53980016708374, -6.557300090789795, -5.934100151062012, -6.1743998527526855, -5.644100189208984, -3.3232998847961426, -5.890100002288818, -6.034599781036377, -5.663400173187256, -4.237500190734863, -5.985400199890137, -6.053100109100342, -5.660699844360352, -6.211999893188477, -5.287700176239014, -5.154600143432617, -6.230999946594238, -4.795499801635742, -3.5922000408172607, -4.593100070953369, -5.468500137329102, -4.39109992980957, -5.537799835205078, -4.46589994430542, -5.8881001472473145, -4.962500095367432, -5.499599933624268, -5.6468000411987305, -5.584499835968018, -4.724299907684326, -5.839000225067139, -5.6041998863220215, -5.552199840545654, -5.5543999671936035, -5.756899833679199, -5.6168999671936035, -5.462200164794922, -5.33519983291626, -5.098199844360352, -5.394499778747559, -5.476099967956543, -5.51200008392334, -5.563199996948242, -5.845200061798096, -6.123000144958496, -6.299600124359131, -6.516300201416016, -6.5243000984191895, -6.776800155639648, -5.159900188446045, -5.654200077056885, -6.137499809265137, -7.144100189208984, -7.144100189208984, -7.144100189208984, -7.144100189208984, -7.144100189208984, -7.144100189208984, -7.144100189208984, -7.144100189208984, -7.144100189208984, -7.144199848175049, -7.144199848175049, -7.144700050354004, -7.144800186157227, -7.144800186157227, -7.144800186157227, -7.146100044250488, -7.146200180053711, -7.146299839019775, -7.146399974822998, -7.148099899291992, -7.148399829864502, -5.240699768066406, -5.471099853515625, -6.508800029754639, -4.609499931335449, -6.122399806976318, -4.724800109863281, -5.934500217437744, -5.975299835205078, -4.994100093841553, -5.203400135040283, -3.514400005340576, -4.393700122833252, -6.537600040435791, -5.587699890136719, -5.6757001876831055, -4.758399963378906, -3.6364998817443848, -6.300300121307373, -4.752299785614014, -5.911300182342529, -4.79010009765625, -3.3120999336242676, -4.20959997177124, -5.55649995803833, -4.0229997634887695, -5.239200115203857, -4.673699855804443, -4.6346001625061035, -4.3003997802734375, -5.392399787902832, -4.393400192260742, -4.832900047302246, -5.056399822235107, -3.987299919128418, -4.658599853515625, -5.333199977874756, -5.409599781036377, -5.394199848175049, -5.3109002113342285, -5.2032999992370605, -5.19379997253418, -5.280700206756592, -5.348499774932861, -5.890399932861328, -6.101600170135498, -6.36899995803833, -6.369500160217285, -4.9182000160217285, -5.738699913024902, -6.736700057983398, -6.736700057983398, -6.736700057983398, -6.7378997802734375, -6.73859977722168, -6.739500045776367, -6.740099906921387, -6.740799903869629, -6.741099834442139, -6.741199970245361, -6.745800018310547, -5.593900203704834, -5.935500144958496, -6.818999767303467, -4.913000106811523, -6.367599964141846, -6.872799873352051, -6.374899864196777, -7.3246002197265625, -7.3246002197265625, -7.3246002197265625, -7.3246002197265625, -7.3246002197265625, -7.3246002197265625, -4.5370001792907715, -6.422800064086914, -5.494500160217285, -6.369699954986572, -4.163700103759766, -4.8557000160217285, -4.598899841308594, -4.120299816131592, -4.0304999351501465, -4.57480001449585, -3.977400064468384, -4.497799873352051, -3.193000078201294, -4.867499828338623, -4.5395002365112305, -5.485000133514404, -4.127799987792969, -6.106800079345703, -5.689599990844727, -6.046899795532227, -5.73769998550415, -4.764999866485596, -4.316199779510498, -5.220600128173828, -5.565999984741211, -4.240799903869629, -4.686200141906738, -4.89139986038208, -5.4552998542785645, -4.996699810028076, -5.203100204467773, -5.3907999992370605, -5.345799922943115, -5.471199989318848, -5.561999797821045], \"loglift\": [30.0, 29.0, 28.0, 27.0, 26.0, 25.0, 24.0, 23.0, 22.0, 21.0, 20.0, 19.0, 18.0, 17.0, 16.0, 15.0, 14.0, 13.0, 12.0, 11.0, 10.0, 9.0, 8.0, 7.0, 6.0, 5.0, 4.0, 3.0, 2.0, 1.0, 0.8165, 0.7801, 0.7495, 0.7494, 0.7485, 0.7479, 0.7444, 0.7426, 0.7372, 0.7369, 0.7361, 0.7223, 0.7176, 0.7162, 0.7122, 0.7119, 0.7092, 0.6992, 0.6981, 0.6956, 0.6911, 0.6911, 0.6911, 0.6907, 0.6907, 0.6902, 0.6901, 0.689, 0.6845, 0.6844, 0.6795, 0.6834, 0.6111, 0.5769, 0.5825, 0.5817, 0.5658, 0.491, 0.62, 0.413, 0.3843, 0.2645, 0.4837, 0.4031, 0.5479, 0.4625, 0.4574, 0.4109, 0.5004, 0.1792, 0.0987, 0.2806, 0.0725, 0.3325, 0.2261, 0.366, 0.1546, -0.3215, -0.2034, 0.358, -0.3248, 0.1639, 0.0349, -0.019, -0.4034, -0.2733, -0.0777, 1.4046, 1.3796, 1.3599, 1.3503, 1.3381, 1.3314, 1.3298, 1.3268, 1.287, 1.287, 1.2867, 1.2852, 1.2851, 1.285, 1.2849, 1.2848, 1.2835, 1.2832, 1.2827, 1.2815, 1.281, 1.2472, 1.2393, 1.238, 1.2205, 1.2081, 1.2081, 1.2081, 1.2081, 1.2081, 1.2078, 1.0432, 0.9567, 1.1413, 1.1391, 1.0696, 1.0963, 0.9995, 0.3343, 1.0331, 1.0459, 0.9033, 0.3673, 0.9918, 1.0121, 0.8611, 1.0569, 0.6635, 0.5813, 1.0397, 0.3765, -0.2534, 0.2016, 0.6751, 0.0129, 0.675, -0.1916, 0.8714, 0.0372, 0.4986, 0.6429, 0.5414, -0.4617, 0.8221, 0.5456, 0.4684, 0.4314, 0.7032, 0.4517, 0.1061, -0.2294, -0.7721, -0.1096, 0.0222, -0.1246, -1.0638, 1.4638, 1.4369, 1.4141, 1.3799, 1.371, 1.3414, 1.338, 1.2832, 1.2769, 1.2608, 1.2608, 1.2608, 1.2608, 1.2608, 1.2608, 1.2608, 1.2608, 1.2608, 1.2607, 1.2607, 1.2602, 1.2601, 1.2601, 1.2601, 1.2588, 1.2586, 1.2586, 1.2584, 1.2567, 1.2565, 1.2164, 1.2192, 1.2167, 1.0627, 1.1788, 1.0514, 1.1515, 1.1525, 1.0548, 1.0362, 0.7599, 0.8452, 1.17, 1.013, 1.0273, 0.846, 0.6261, 1.1115, 0.7982, 1.0165, 0.7787, 0.3455, 0.5667, 0.8715, 0.3031, 0.7415, 0.4403, 0.4036, 0.1036, 0.7487, 0.0024, 0.2729, 0.4418, -0.6486, -0.1591, 0.6096, 0.6898, 0.6369, 0.3797, -0.0544, -0.589, -0.1087, -0.1756, 1.8833, 1.8515, 1.8031, 1.8025, 1.7996, 1.7266, 1.7158, 1.7158, 1.7158, 1.7145, 1.7137, 1.7129, 1.7121, 1.7115, 1.7111, 1.7109, 1.7062, 1.6585, 1.6567, 1.6238, 1.6219, 1.5711, 1.5703, 1.5441, 1.5192, 1.5192, 1.5192, 1.5192, 1.5192, 1.5192, 1.504, 1.5068, 1.3052, 1.3796, 1.0337, 1.1403, 1.0919, 0.9936, 0.9691, 0.9941, 0.7989, 0.787, 0.1457, 0.8684, 0.6334, 1.0272, 0.1348, 1.3316, 1.0555, 1.284, 1.0794, 0.3557, 0.01, 0.6265, 0.862, -0.5833, -0.2905, -0.3919, 0.4932, -0.5926, -0.0973, 0.1075, -0.3076, 0.2138, 0.4973]}, \"token.table\": {\"Topic\": [1, 2, 3, 4, 2, 3, 2, 1, 2, 3, 4, 1, 2, 2, 3, 2, 1, 2, 3, 4, 1, 3, 2, 1, 2, 3, 4, 1, 2, 3, 4, 1, 4, 2, 3, 1, 2, 1, 4, 2, 3, 1, 2, 3, 1, 3, 1, 2, 4, 1, 2, 3, 4, 2, 1, 2, 3, 4, 1, 2, 3, 4, 1, 2, 3, 4, 1, 1, 4, 3, 4, 1, 2, 3, 4, 3, 1, 1, 2, 3, 4, 1, 2, 1, 2, 3, 1, 1, 4, 1, 2, 3, 3, 4, 2, 1, 2, 3, 4, 1, 2, 4, 1, 2, 3, 4, 1, 2, 3, 3, 1, 2, 2, 1, 1, 4, 1, 2, 3, 4, 2, 1, 2, 1, 4, 3, 1, 2, 3, 4, 3, 1, 2, 3, 3, 1, 2, 3, 1, 2, 3, 2, 1, 3, 2, 1, 3, 3, 4, 1, 3, 1, 4, 1, 2, 4, 1, 2, 3, 4, 1, 2, 3, 4, 4, 1, 2, 3, 4, 3, 4, 1, 2, 3, 4, 1, 2, 3, 4, 2, 1, 2, 3, 4, 1, 1, 2, 3, 4, 1, 3, 4, 1, 2, 3, 1, 2, 3, 1, 4, 1, 2, 3, 4, 1, 2, 3, 4, 3, 4, 1, 1, 2, 3, 4, 4, 1, 2, 3, 4, 3, 1, 3, 4, 1, 2, 4, 4, 4, 1, 2, 3, 4, 1, 2, 3, 4, 2, 1, 2, 3, 4, 1, 2, 3, 4, 1, 1, 2, 4, 1, 2, 4, 1, 3, 4, 1, 3, 4, 1, 2, 3, 4, 3, 3, 1, 2, 4, 4, 1, 3, 3, 1, 2, 3, 4, 1, 2, 4, 1, 2, 3, 4, 3, 4, 2, 3, 2, 1, 2, 3, 1, 2, 3, 4, 2, 3, 1, 2, 3, 4, 2, 4, 1, 2, 3, 4, 1, 3, 4, 1, 2, 3, 4, 1, 2, 3, 4, 1, 2, 4, 1, 2, 1, 2, 1, 2, 3, 4, 1, 2, 3, 1, 2, 3, 4, 3, 4, 1, 2, 2, 3, 4, 1, 2, 3, 4, 1, 2, 3, 4, 1, 3, 4, 3, 2, 1, 3, 1, 2, 3, 1, 3, 1, 2, 3, 4, 1, 3, 1, 2, 3, 4, 3, 4, 1, 4, 2, 4, 4, 1, 2, 3, 4, 3, 1, 2, 4, 1, 4, 4, 4, 1, 1, 4, 2, 3, 1, 2, 1, 2, 1, 2, 3, 4, 2, 1, 2, 4, 1, 3, 4, 1, 2, 4, 3, 2, 3, 1, 2, 3, 4, 1, 2, 3, 3, 1, 2, 3, 2, 1, 3, 4, 1, 1, 2, 3, 4, 3, 2, 3, 1, 2, 4, 3, 1, 2, 2, 4, 4, 1, 2, 3, 4, 1, 2, 3, 4, 1, 4, 4, 2, 1, 3, 1, 2, 3, 4, 3, 2, 1, 1, 2, 3, 4, 2, 3, 1, 1, 1, 2, 3, 4, 1, 2, 3, 4, 1, 1, 2, 1, 2, 3, 4, 1, 2, 3, 4, 4], \"Freq\": [0.4078369804082269, 0.08496603758504728, 0.4928030179932742, 0.03398641503401891, 0.8895066170844395, 0.8058628963449205, 0.889553747297257, 0.6570724347891995, 0.08112005367767895, 0.1784641180908937, 0.08923205904544684, 0.937549488789751, 0.889520088013189, 0.9482282948462978, 0.8058443627646663, 0.8894771808688396, 0.04622395682352108, 0.27734374094112646, 0.600911438705774, 0.04622395682352108, 0.8970793900184364, 0.0747566158348697, 0.7896780755964461, 0.4449986664404817, 0.33374899983036127, 0.19071371418877786, 0.03178561903146298, 0.7659521080415713, 0.1665113278351242, 0.03330226556702484, 0.03330226556702484, 0.8720950588236974, 0.837265980080212, 0.791619561515991, 0.8057473115089407, 0.19538704721429248, 0.7815481888571699, 0.1787568481923285, 0.715027392769314, 0.7425087238680919, 0.14850174477361838, 0.4610206249103725, 0.4610206249103725, 0.05762757811379656, 0.3232729128007578, 0.6465458256015156, 0.9019412379913487, 0.41296323994356177, 0.41296323994356177, 0.08235028621902049, 0.08235028621902049, 0.4117514310951025, 0.4117514310951025, 0.7916195820981818, 0.31458804354948827, 0.31458804354948827, 0.3006063527250666, 0.07340387682821392, 0.4645485163410954, 0.22858736518371361, 0.23596115115738178, 0.0737378597366818, 0.38879914706757207, 0.4373990404510186, 0.14579968015033953, 0.04859989338344651, 0.8035196205562073, 0.8245054289949044, 0.10306317862436305, 0.7254406572752604, 0.21763219718257812, 0.2888835877290601, 0.04279756855245335, 0.37447872483396677, 0.2888835877290601, 0.8058631859189817, 0.9018072089767579, 0.08377278571679385, 0.25131835715038153, 0.46075032144236616, 0.20943196429198463, 0.13807651919750222, 0.8629782449843888, 0.20770359343410158, 0.6231107803023047, 0.20770359343410158, 0.9312192750954791, 0.15746807394014042, 0.7873403697007021, 0.7086092800465107, 0.2598234026837206, 0.04724061866976738, 0.25278362441651636, 0.5055672488330327, 0.8899796417040428, 0.7623426473737871, 0.047646415460861694, 0.09529283092172339, 0.09529283092172339, 0.3886999079514002, 0.5441798711319603, 0.07773998159028005, 0.15009303894058548, 0.33770933761631733, 0.41275585708661006, 0.15009303894058548, 0.1492594880148363, 0.1492594880148363, 0.5970379520593452, 0.8058634756803499, 0.9111378188455095, 0.07008752452657765, 0.8896563095347612, 0.9018635420150951, 0.9018046960617375, 0.8451651926994167, 0.5972542050882269, 0.15484368280065142, 0.19908473502940896, 0.04424105222875755, 0.8894447252502008, 0.8418484003583545, 0.14030806672639243, 0.9150437419065154, 0.07038798014665504, 0.8058771048080927, 0.5004967393937877, 0.08341612323229795, 0.31976180572380886, 0.09731881043768095, 0.9075059676672221, 0.31499765550783587, 0.4499966507254798, 0.2699979904352879, 0.8058658226631802, 0.7543386916580443, 0.14506513301116236, 0.1160521064089299, 0.9104329107479276, 0.07003330082676366, 0.8058505718801474, 0.8894772431461574, 0.9018055410282777, 0.8057979550610639, 0.9480778734314192, 0.9018633016126338, 0.8058732490361473, 0.41834753848604045, 0.41834753848604045, 0.8561445170483909, 0.10701806463104886, 0.3104933572994623, 0.6830853860588171, 0.2793220122241985, 0.3910508171138779, 0.30725421344661835, 0.5641375900805045, 0.1753400617817784, 0.11181105388982972, 0.1524696189406769, 0.5309167018037736, 0.15927501054113208, 0.1327291754509434, 0.15927501054113208, 0.8449353199497015, 0.14249882198398012, 0.5937450915999172, 0.1899984293119735, 0.07124941099199006, 0.6127891140734013, 0.20426303802446708, 0.3136592660590394, 0.14082660925099727, 0.39687498970735596, 0.14722781876240623, 0.29993080684233064, 0.014996540342116534, 0.32992388752656376, 0.35991696821079683, 0.8458047472819417, 0.34970441719969253, 0.18780422405168673, 0.45332054081441625, 0.0064760077259202325, 0.9018781145408313, 0.6410499018325578, 0.08842067611483556, 0.19894652125838, 0.06631550708612667, 0.290803345793881, 0.6106870261671502, 0.0872410037381643, 0.6717902997159306, 0.20670470760490173, 0.10335235380245086, 0.5198201666854244, 0.3713001190610174, 0.14852004762440696, 0.962072350639953, 0.6249192447300083, 0.09157445497758131, 0.6410211848430691, 0.18314890995516261, 0.09157445497758131, 0.35678064610505356, 0.10703419383151606, 0.42813677532606426, 0.07135612922101071, 0.2545301578556813, 0.6363253946392032, 0.9809989503717224, 0.4285617985971978, 0.35064147157952547, 0.15584065403534464, 0.07792032701767232, 0.6249192443976901, 0.4313594923608938, 0.1784935830458871, 0.2826148398226546, 0.1189957220305914, 0.9426994775876231, 0.13362887989638933, 0.6681443994819466, 0.13362887989638933, 0.4046566885938332, 0.08093133771876664, 0.48558802631259984, 0.8450786988108079, 0.8448000691361534, 0.1650183241300304, 0.3712912292925684, 0.3300366482600608, 0.12376374309752279, 0.28630603053169024, 0.22023540810130018, 0.3303531121519503, 0.15416478567091013, 0.8895809227801518, 0.40578925684249867, 0.24971646574922995, 0.09364367465596123, 0.24971646574922995, 0.6522505122458983, 0.09317864460655689, 0.2018870633142066, 0.062119096404371264, 0.8041814928971287, 0.40049128226336145, 0.186895931722902, 0.40049128226336145, 0.16607314629355782, 0.6340974676663117, 0.18117070504751762, 0.26530914818883433, 0.5969455834248772, 0.13265457409441717, 0.3669184934716558, 0.6027946678462917, 0.026208463819403987, 0.3166266013422429, 0.6332532026844858, 0.8058660183202401, 0.8451572721731762, 0.8058453599855626, 0.8058686898865984, 0.2592308763612472, 0.6480771909031181, 0.8451592436823416, 0.6384453932555472, 0.1496374545606154, 0.748187272803077, 0.8058726232516256, 0.5137277095532252, 0.3244596060336159, 0.11716596884547241, 0.036051067337068435, 0.7083315964604479, 0.2724352294078645, 0.010897409176314581, 0.11369216206945246, 0.1515895494259366, 0.1515895494259366, 0.6063581977037464, 0.6741162556869885, 0.22470541856232948, 0.18575021934082359, 0.7430008773632943, 0.7916195254761086, 0.44194392593917486, 0.12053016161977496, 0.44194392593917486, 0.16544505689562614, 0.02363500812794659, 0.4727001625589318, 0.3545251219191989, 0.2006254828996075, 0.6018764486988225, 0.2519454600794569, 0.46190001014567095, 0.2519454600794569, 0.041990910013242816, 0.685872729447104, 0.171468182361776, 0.11490511331036168, 0.05745255665518084, 0.6894306798621701, 0.05745255665518084, 0.44080605585569155, 0.489784506506324, 0.0734676759759486, 0.24283773297638828, 0.24283773297638828, 0.12141886648819414, 0.3642565994645824, 0.34642158683981517, 0.45034806289175966, 0.10392647605194454, 0.13856863473592607, 0.21432160062443742, 0.6429648018733123, 0.10716080031221871, 0.98090107514928, 0.8894454564560231, 0.25878271702296873, 0.6469567925574218, 0.4091975948377146, 0.19570319753108092, 0.10674719865331686, 0.28465919640884496, 0.306447080806107, 0.5516047454509926, 0.1225788323224428, 0.3344061127782666, 0.22739615668922128, 0.09363371157791464, 0.34778235728939727, 0.805847305396928, 0.7694117655499385, 0.44876259517115413, 0.5769804795057696, 0.7428240206108232, 0.14856480412216463, 0.8449580175155812, 0.11160878647408196, 0.05580439323704098, 0.5022395391333688, 0.33482635942224587, 0.3055923388715919, 0.038199042358948984, 0.6111846777431837, 0.038199042358948984, 0.3065452688222581, 0.15327263441112904, 0.4598179032333871, 0.7261762559677338, 0.9480488205864596, 0.5105341802954089, 0.4641219820867354, 0.6140124106429868, 0.05339238353417276, 0.3203543012050366, 0.7835647706595306, 0.17412550459100679, 0.18113578256013543, 0.07245431302405417, 0.36227156512027087, 0.39849872163229794, 0.3673456546849008, 0.5877530474958413, 0.34737578902870936, 0.03859730989207882, 0.3859730989207882, 0.23158385935247291, 0.8058644512549078, 0.8573675605702877, 0.9370240071989536, 0.8450749814689762, 0.25051632454999945, 0.5010326490999989, 0.8450037124196068, 0.7841552488074144, 0.03920776244037072, 0.07841552488074144, 0.07841552488074144, 0.8058630127430542, 0.3865778196146011, 0.5798667294219016, 0.8446924992859399, 0.1491173182890136, 0.8201452505895748, 0.8449185885624144, 0.6249192311956022, 0.9019832667865961, 0.8727558082014435, 0.08727558082014436, 0.7936097770201543, 0.19840244425503858, 0.14685347100147658, 0.7342673550073829, 0.5915442088193109, 0.3802784199552713, 0.5737400814312175, 0.35858755089451094, 0.03585875508945109, 0.03585875508945109, 0.8894102679133271, 0.7304588911324024, 0.2556606118963408, 0.6384197094796419, 0.5152575057263885, 0.3778555041993516, 0.06870100076351847, 0.7761125782096213, 0.12935209636827022, 0.10348167709461617, 0.8058291359207933, 0.8896956401428797, 0.7267768503233039, 0.6362007318811022, 0.058501216724699046, 0.21206691062703406, 0.09506447717763596, 0.9027444336074797, 0.6946476706943812, 0.2977061445833062, 0.8058630890318353, 0.09199433329834292, 0.2759829998950287, 0.5519659997900574, 0.9206081010530384, 0.5726567198612885, 0.17497844217983818, 0.25451409771612826, 0.9808094675688654, 0.47748035693456437, 0.10231721934312094, 0.2864882141607386, 0.1296018111679532, 0.8058667395119014, 0.7425566079830749, 0.14851132159661498, 0.7665358670697625, 0.1666382319716875, 0.066655292788675, 0.8074287871413419, 0.259226298640963, 0.6480657466024076, 0.8894682457291924, 0.6249192507941069, 0.6249192380591367, 0.21137242332275405, 0.4932023210864261, 0.07045747444091802, 0.21137242332275405, 0.616845314993353, 0.23498869142603926, 0.11749434571301963, 0.029373586428254907, 0.24786376984224, 0.49572753968448, 0.6249192247173939, 0.7916196485121579, 0.17954362087040512, 0.7780223571050888, 0.4720153813761032, 0.3630887549046948, 0.07261775098093895, 0.07261775098093895, 0.8654026558939532, 0.7916196384799209, 0.9695684866755385, 0.07662481304915919, 0.38312406524579595, 0.15324962609831838, 0.38312406524579595, 0.7898691409731114, 0.8058276037177936, 0.8410742564301441, 0.9808191388277583, 0.5125288407761552, 0.19712647722159815, 0.19712647722159815, 0.09856323861079908, 0.5527449943871352, 0.10363968644758785, 0.17273281074597974, 0.2072793728951757, 0.937157709789813, 0.8636741264776067, 0.08636741264776067, 0.5379669274105859, 0.04890608431005327, 0.04890608431005327, 0.37494664637707503, 0.6845168732095304, 0.15211486071322897, 0.1267623839276908, 0.02535247678553816, 0.8369915208819623], \"Term\": [\"able\", \"able\", \"able\", \"able\", \"account\", \"acv\", \"amazed\", \"amazing\", \"amazing\", \"amazing\", \"amazing\", \"apple\", \"art\", \"aspect\", \"assassin\", \"attempt\", \"available\", \"available\", \"available\", \"available\", \"awesome\", \"awesome\", \"bar\", \"big\", \"big\", \"big\", \"big\", \"bit\", \"bit\", \"bit\", \"bit\", \"black\", \"blast\", \"bold\", \"bonus\", \"brand\", \"brand\", \"brother\", \"brother\", \"bug\", \"bug\", \"button\", \"button\", \"button\", \"cable\", \"cable\", \"care\", \"changer\", \"changer\", \"complaint\", \"complaint\", \"complaint\", \"complaint\", \"concept\", \"console\", \"console\", \"console\", \"console\", \"controller\", \"controller\", \"controller\", \"controller\", \"cool\", \"cool\", \"cool\", \"cool\", \"covid\", \"crash\", \"crash\", \"date\", \"date\", \"day\", \"day\", \"day\", \"day\", \"defective\", \"delete\", \"delivery\", \"delivery\", \"delivery\", \"delivery\", \"design\", \"design\", \"developer\", \"developer\", \"developer\", \"device\", \"dollar\", \"dollar\", \"drive\", \"drive\", \"drive\", \"driver\", \"driver\", \"drop\", \"dual\", \"dual\", \"dual\", \"dual\", \"dualsense\", \"dualsense\", \"dualsense\", \"easy\", \"easy\", \"easy\", \"easy\", \"engine\", \"engine\", \"engine\", \"enjoyable\", \"enough\", \"enough\", \"exact\", \"exceptional\", \"expansion\", \"expected\", \"experience\", \"experience\", \"experience\", \"experience\", \"extent\", \"external\", \"external\", \"extra\", \"extra\", \"fair\", \"fast\", \"fast\", \"fast\", \"fast\", \"fault\", \"feature\", \"feature\", \"feature\", \"feed\", \"feedback\", \"feedback\", \"feedback\", \"feel\", \"feel\", \"feeling\", \"few\", \"fidelity\", \"finding\", \"flat\", \"folk\", \"fortune\", \"fps\", \"fps\", \"frame\", \"frame\", \"fun\", \"fun\", \"future\", \"future\", \"future\", \"game\", \"game\", \"game\", \"game\", \"gaming\", \"gaming\", \"gaming\", \"gaming\", \"gen\", \"generation\", \"generation\", \"generation\", \"generation\", \"gift\", \"gift\", \"good\", \"good\", \"good\", \"good\", \"graphic\", \"graphic\", \"graphic\", \"graphic\", \"graphical\", \"great\", \"great\", \"great\", \"great\", \"gun\", \"hand\", \"hand\", \"hand\", \"hand\", \"happy\", \"happy\", \"happy\", \"haptic\", \"haptic\", \"haptic\", \"hard\", \"hard\", \"hard\", \"harmony\", \"hesitant\", \"home\", \"home\", \"home\", \"home\", \"huge\", \"huge\", \"huge\", \"huge\", \"hype\", \"hype\", \"impossible\", \"incredible\", \"incredible\", \"incredible\", \"incredible\", \"informative\", \"issue\", \"issue\", \"issue\", \"issue\", \"item\", \"jet\", \"jet\", \"jet\", \"job\", \"job\", \"job\", \"join\", \"junk\", \"last\", \"last\", \"last\", \"last\", \"launch\", \"launch\", \"launch\", \"launch\", \"limit\", \"little\", \"little\", \"little\", \"little\", \"load\", \"load\", \"load\", \"load\", \"looking\", \"lot\", \"lot\", \"lot\", \"love\", \"love\", \"love\", \"luck\", \"luck\", \"luck\", \"lucky\", \"lucky\", \"lucky\", \"machine\", \"machine\", \"magic\", \"meaning\", \"mid\", \"missing\", \"moment\", \"moment\", \"mommy\", \"morning\", \"negative\", \"negative\", \"nervous\", \"new\", \"new\", \"new\", \"new\", \"next\", \"next\", \"next\", \"nice\", \"nice\", \"nice\", \"nice\", \"night\", \"night\", \"notification\", \"notification\", \"object\", \"old\", \"old\", \"old\", \"order\", \"order\", \"order\", \"order\", \"outstanding\", \"outstanding\", \"overall\", \"overall\", \"overall\", \"overall\", \"packaging\", \"packaging\", \"part\", \"part\", \"part\", \"part\", \"people\", \"people\", \"people\", \"perfect\", \"perfect\", \"perfect\", \"perfect\", \"performance\", \"performance\", \"performance\", \"performance\", \"piece\", \"piece\", \"piece\", \"plan\", \"plate\", \"platform\", \"platform\", \"play\", \"play\", \"play\", \"play\", \"player\", \"player\", \"player\", \"playstation\", \"playstation\", \"playstation\", \"playstation\", \"pleasant\", \"pleased\", \"port\", \"port\", \"powerful\", \"powerful\", \"powering\", \"pre\", \"pre\", \"pre\", \"pre\", \"problem\", \"problem\", \"problem\", \"problem\", \"process\", \"process\", \"process\", \"processing\", \"progress\", \"purchase\", \"purchase\", \"quiet\", \"quiet\", \"quiet\", \"rate\", \"rate\", \"release\", \"release\", \"release\", \"release\", \"retail\", \"retail\", \"review\", \"review\", \"review\", \"review\", \"running\", \"satisfied\", \"score\", \"seamless\", \"secure\", \"secure\", \"self\", \"sense\", \"sense\", \"sense\", \"sense\", \"server\", \"set\", \"set\", \"shiny\", \"shipping\", \"shipping\", \"shocked\", \"shout\", \"show\", \"simple\", \"simple\", \"snappy\", \"snappy\", \"son\", \"son\", \"space\", \"space\", \"speed\", \"speed\", \"speed\", \"speed\", \"spring\", \"ssd\", \"ssd\", \"status\", \"stock\", \"stock\", \"stock\", \"storage\", \"storage\", \"storage\", \"stress\", \"style\", \"surprised\", \"system\", \"system\", \"system\", \"system\", \"talk\", \"technology\", \"technology\", \"teen\", \"thank\", \"thank\", \"thank\", \"theme\", \"thing\", \"thing\", \"thing\", \"thought\", \"time\", \"time\", \"time\", \"time\", \"timer\", \"tiny\", \"tiny\", \"title\", \"title\", \"title\", \"today\", \"top\", \"top\", \"touch\", \"track\", \"tracker\", \"transfer\", \"transfer\", \"transfer\", \"transfer\", \"trigger\", \"trigger\", \"trigger\", \"trigger\", \"trouble\", \"trouble\", \"undamaged\", \"uninspired\", \"unit\", \"unit\", \"upgrade\", \"upgrade\", \"upgrade\", \"upgrade\", \"valhalla\", \"variety\", \"version\", \"video\", \"video\", \"video\", \"video\", \"view\", \"walk\", \"war\", \"warzone\", \"way\", \"way\", \"way\", \"way\", \"well\", \"well\", \"well\", \"well\", \"word\", \"world\", \"world\", \"worth\", \"worth\", \"worth\", \"worth\", \"year\", \"year\", \"year\", \"year\", \"young\"]}, \"R\": 30, \"lambda.step\": 0.01, \"plot.opts\": {\"xlab\": \"PC1\", \"ylab\": \"PC2\"}, \"topic.order\": [4, 1, 2, 3]};\n",
       "\n",
       "function LDAvis_load_lib(url, callback){\n",
       "  var s = document.createElement('script');\n",
       "  s.src = url;\n",
       "  s.async = true;\n",
       "  s.onreadystatechange = s.onload = callback;\n",
       "  s.onerror = function(){console.warn(\"failed to load library \" + url);};\n",
       "  document.getElementsByTagName(\"head\")[0].appendChild(s);\n",
       "}\n",
       "\n",
       "if(typeof(LDAvis) !== \"undefined\"){\n",
       "   // already loaded: just create the visualization\n",
       "   !function(LDAvis){\n",
       "       new LDAvis(\"#\" + \"ldavis_el2040822460555777445670868806\", ldavis_el2040822460555777445670868806_data);\n",
       "   }(LDAvis);\n",
       "}else if(typeof define === \"function\" && define.amd){\n",
       "   // require.js is available: use it to load d3/LDAvis\n",
       "   require.config({paths: {d3: \"https://cdnjs.cloudflare.com/ajax/libs/d3/3.5.5/d3.min\"}});\n",
       "   require([\"d3\"], function(d3){\n",
       "      window.d3 = d3;\n",
       "      LDAvis_load_lib(\"https://cdn.rawgit.com/bmabey/pyLDAvis/files/ldavis.v1.0.0.js\", function(){\n",
       "        new LDAvis(\"#\" + \"ldavis_el2040822460555777445670868806\", ldavis_el2040822460555777445670868806_data);\n",
       "      });\n",
       "    });\n",
       "}else{\n",
       "    // require.js not available: dynamically load d3 & LDAvis\n",
       "    LDAvis_load_lib(\"https://cdnjs.cloudflare.com/ajax/libs/d3/3.5.5/d3.min.js\", function(){\n",
       "         LDAvis_load_lib(\"https://cdn.rawgit.com/bmabey/pyLDAvis/files/ldavis.v1.0.0.js\", function(){\n",
       "                 new LDAvis(\"#\" + \"ldavis_el2040822460555777445670868806\", ldavis_el2040822460555777445670868806_data);\n",
       "            })\n",
       "         });\n",
       "}\n",
       "</script>"
      ],
      "text/plain": [
       "PreparedData(topic_coordinates=              x         y  topics  cluster       Freq\n",
       "topic                                                \n",
       "3      0.015085 -0.031586       1        1  43.221719\n",
       "0      0.115120  0.009554       2        1  22.512561\n",
       "1     -0.069886 -0.073758       3        1  21.167712\n",
       "2     -0.060319  0.095791       4        1  13.098008, topic_info=        Term        Freq       Total Category  logprob  loglift\n",
       "30     great  154.000000  154.000000  Default  30.0000  30.0000\n",
       "14       day   93.000000   93.000000  Default  29.0000  29.0000\n",
       "798     love   66.000000   66.000000  Default  28.0000  28.0000\n",
       "12   console  286.000000  286.000000  Default  27.0000  27.0000\n",
       "509  graphic   66.000000   66.000000  Default  26.0000  26.0000\n",
       "..       ...         ...         ...      ...      ...      ...\n",
       "282    issue    7.989074   67.229308   Topic4  -5.2031  -0.0973\n",
       "35    launch    6.622070   45.405959   Topic4  -5.3908   0.1075\n",
       "21      fast    6.926445   71.928541   Topic4  -5.3458  -0.3076\n",
       "331   gaming    6.110334   37.670693   Topic4  -5.4712   0.2138\n",
       "49    review    5.579775   25.908541   Topic4  -5.5620   0.4973\n",
       "\n",
       "[311 rows x 6 columns], token_table=      Topic      Freq     Term\n",
       "term                          \n",
       "60        1  0.407837     able\n",
       "60        2  0.084966     able\n",
       "60        3  0.492803     able\n",
       "60        4  0.033986     able\n",
       "731       2  0.889507  account\n",
       "...     ...       ...      ...\n",
       "265       1  0.684517     year\n",
       "265       2  0.152115     year\n",
       "265       3  0.126762     year\n",
       "265       4  0.025352     year\n",
       "375       4  0.836992    young\n",
       "\n",
       "[499 rows x 3 columns], R=30, lambda_step=0.01, plot_opts={'xlab': 'PC1', 'ylab': 'PC2'}, topic_order=[4, 1, 2, 3])"
      ]
     },
     "execution_count": 108,
     "metadata": {},
     "output_type": "execute_result"
    }
   ],
   "source": [
    "pyLDAvis.enable_notebook()\n",
    "vis = pyLDAvis.gensim.prepare(lda_model, doc_term_matrix, dictionary)\n",
    "vis"
   ]
  },
  {
   "cell_type": "markdown",
   "metadata": {},
   "source": [
    "As can be seen above, there are 4 topics which are clearly separated. Based on the words within each topic, I can take a reasonable guess as to what the topics are about:<br>\n",
    "\n",
    "Topic 1: Great reviews on how fast the system is: Load, fast, awesome, time, feedback<br>\n",
    "Topic 2: Great reviews on the design and controller and speed: design, controller, speed, performance<br>\n",
    "Topic 3: Positive reviews on the hardware and the system being quiet.<br>\n",
    "Topic 4: Positive comments on the graphics and the system being perfect: Graphic, worth, love, release, perfect<br>\n",
    "\n",
    "It seems to me that most customers were really happy with how fast the PS5 is compared to the PS4.<br> \n",
    "There seems to be great feedback on the controller and the system design.<br> \"Quiet\" shows up which could possibly mean\n",
    "how quiet the system is when running games.<br> Some consumers even called the system perfect."
   ]
  },
  {
   "cell_type": "markdown",
   "metadata": {},
   "source": [
    "#                                      Data Cleaning (PS5 Negative Reviews)\n",
    "\n",
    "The following section is done in order to prepare the PS5 negative reviews for the LDA model.\n",
    "The data will need to be split, tokenized, and lemmatized in order to prepare it for the model.\n",
    "Visualizations will also be built in order to take a better look at the data."
   ]
  },
  {
   "cell_type": "markdown",
   "metadata": {},
   "source": [
    "The following code is run to generate a frequency bar graph for the negative reviews:"
   ]
  },
  {
   "cell_type": "code",
   "execution_count": 111,
   "metadata": {},
   "outputs": [
    {
     "data": {
      "image/png": "[encoded data removed]",
      "text/plain": [
       "<Figure size 1440x360 with 1 Axes>"
      ]
     },
     "metadata": {
      "needs_background": "light"
     },
     "output_type": "display_data"
    }
   ],
   "source": [
    "freq_words(ps5reviews_negative['Comment'])"
   ]
  },
  {
   "cell_type": "markdown",
   "metadata": {},
   "source": [
    "Looking above, it seems most of the most frequent words are \"the\", \"and\", and \"for\".<br> But these are not necessary words because these words don't show true sentiment.<br>The dataset will need to be cleaned further in order to prepare this dataset for the model."
   ]
  },
  {
   "cell_type": "markdown",
   "metadata": {},
   "source": [
    "This code removes the characters and samples from the text dataset:"
   ]
  },
  {
   "cell_type": "code",
   "execution_count": 113,
   "metadata": {},
   "outputs": [],
   "source": [
    "ps5reviews_negative['Comment'] = ps5reviews_negative['Comment'].str.replace(\"[^a-zA-Z#]\",\" \")"
   ]
  },
  {
   "cell_type": "markdown",
   "metadata": {},
   "source": [
    "The following code is run in order to remove short words (length < 3) to make the data cleaner:"
   ]
  },
  {
   "cell_type": "code",
   "execution_count": 114,
   "metadata": {},
   "outputs": [],
   "source": [
    "ps5reviews_negative['Comment'] = ps5reviews_negative['Comment'].apply(lambda x: ' '.join([w for w in x.split() if len(w) > 2]))"
   ]
  },
  {
   "cell_type": "markdown",
   "metadata": {},
   "source": [
    "This code removes the stopwords from the text:"
   ]
  },
  {
   "cell_type": "code",
   "execution_count": 115,
   "metadata": {},
   "outputs": [],
   "source": [
    "reviews = [remove_stopwords(r.split()) for r in ps5reviews_negative['Comment']]"
   ]
  },
  {
   "cell_type": "markdown",
   "metadata": {},
   "source": [
    "Here, the text is lowercased:"
   ]
  },
  {
   "cell_type": "code",
   "execution_count": 116,
   "metadata": {},
   "outputs": [],
   "source": [
    "reviews = [r.lower() for r in reviews]"
   ]
  },
  {
   "cell_type": "code",
   "execution_count": 117,
   "metadata": {},
   "outputs": [
    {
     "data": {
      "image/png": "[encoded data removed]",
      "text/plain": [
       "<Figure size 1440x360 with 1 Axes>"
      ]
     },
     "metadata": {
      "needs_background": "light"
     },
     "output_type": "display_data"
    }
   ],
   "source": [
    "freq_words(reviews, 20)"
   ]
  },
  {
   "cell_type": "markdown",
   "metadata": {},
   "source": [
    "Re-running a frequency bar graph on the data, it seems the stopwords have been removed and the reviews are getting closer to be used for the model.<br>The next step is to lemmatize the data."
   ]
  },
  {
   "cell_type": "markdown",
   "metadata": {},
   "source": [
    "Here, the text within the dataset is split into tokens:"
   ]
  },
  {
   "cell_type": "code",
   "execution_count": 119,
   "metadata": {},
   "outputs": [
    {
     "name": "stdout",
     "output_type": "stream",
     "text": [
      "['taking', 'advantage', 'high', 'demand']\n"
     ]
    }
   ],
   "source": [
    "tokenized_reviews = pd.Series(reviews).apply(lambda x: x.split())\n",
    "print(tokenized_reviews[1])"
   ]
  },
  {
   "cell_type": "markdown",
   "metadata": {},
   "source": [
    "The data is lemmatized through this code:"
   ]
  },
  {
   "cell_type": "code",
   "execution_count": 120,
   "metadata": {},
   "outputs": [
    {
     "name": "stdout",
     "output_type": "stream",
     "text": [
      "['advantage', 'high', 'demand']\n"
     ]
    }
   ],
   "source": [
    "reviews_2 = lemmatization(tokenized_reviews)\n",
    "print(reviews_2[1]) "
   ]
  },
  {
   "cell_type": "markdown",
   "metadata": {},
   "source": [
    "The following code is run in order to append the reviews to a new dataframe in order to show a frequency graph \n",
    "of the lemmatized reviews later on:"
   ]
  },
  {
   "cell_type": "code",
   "execution_count": 121,
   "metadata": {},
   "outputs": [],
   "source": [
    "reviews_3 = []\n",
    "for i in range(len(reviews_2)):\n",
    "    reviews_3.append(' '.join(reviews_2[i]))\n",
    "\n",
    "ps5reviews_negative['reviews'] = reviews_3"
   ]
  },
  {
   "cell_type": "code",
   "execution_count": 122,
   "metadata": {},
   "outputs": [
    {
     "data": {
      "image/png": "[encoded data removed]",
      "text/plain": [
       "<Figure size 1440x360 with 1 Axes>"
      ]
     },
     "metadata": {
      "needs_background": "light"
     },
     "output_type": "display_data"
    }
   ],
   "source": [
    "freq_words(ps5reviews_negative['reviews'], 20)"
   ]
  },
  {
   "cell_type": "markdown",
   "metadata": {},
   "source": [
    "As can be seen, the tokens are now clearer as words such as \"game\", \"system\", and \"money\" are now clearly showing in the dataset.<br> The dataset is now ready for model building."
   ]
  },
  {
   "cell_type": "markdown",
   "metadata": {},
   "source": [
    "#                                        LDA Model (PS5 Negative Reviews)\n",
    "\n",
    "The code below is run in order to incorporate the negative reviews into a dictionary in order to set up the LDA Model.\n"
   ]
  },
  {
   "cell_type": "code",
   "execution_count": 124,
   "metadata": {},
   "outputs": [],
   "source": [
    "dictionary = corpora.Dictionary(reviews_2)\n",
    "doc_term_matrix = [dictionary.doc2bow(rev) for rev in reviews_2]"
   ]
  },
  {
   "cell_type": "markdown",
   "metadata": {},
   "source": [
    "Next, the LDA Model is imported and the next lines of code are run in order to build the model.<br>\n",
    "The number of topics chosen through trial and error were 4."
   ]
  },
  {
   "cell_type": "code",
   "execution_count": 125,
   "metadata": {},
   "outputs": [],
   "source": [
    "LDA = gensim.models.ldamodel.LdaModel\n",
    "\n",
    "lda_model = LDA(corpus = doc_term_matrix, \n",
    "                id2word = dictionary,\n",
    "                num_topics = 4,\n",
    "                random_state = 100,\n",
    "                chunksize = 1000,\n",
    "                passes = 50)"
   ]
  },
  {
   "cell_type": "markdown",
   "metadata": {},
   "source": [
    "Here, this code is being run to print the topics and the words associated with it:"
   ]
  },
  {
   "cell_type": "code",
   "execution_count": 126,
   "metadata": {},
   "outputs": [
    {
     "data": {
      "text/plain": [
       "[(0,\n",
       "  '0.034*\"console\" + 0.021*\"time\" + 0.020*\"people\" + 0.019*\"money\" + 0.018*\"product\" + 0.016*\"unit\" + 0.015*\"company\" + 0.014*\"price\" + 0.012*\"release\" + 0.011*\"year\"'),\n",
       " (1,\n",
       "  '0.020*\"console\" + 0.018*\"people\" + 0.018*\"game\" + 0.014*\"hope\" + 0.014*\"purchase\" + 0.014*\"way\" + 0.010*\"good\" + 0.009*\"bunch\" + 0.008*\"high\" + 0.008*\"new\"'),\n",
       " (2,\n",
       "  '0.030*\"game\" + 0.027*\"system\" + 0.019*\"price\" + 0.015*\"new\" + 0.015*\"time\" + 0.013*\"product\" + 0.013*\"playstation\" + 0.011*\"year\" + 0.010*\"worth\" + 0.010*\"good\"'),\n",
       " (3,\n",
       "  '0.020*\"console\" + 0.017*\"time\" + 0.016*\"unit\" + 0.015*\"day\" + 0.014*\"system\" + 0.013*\"game\" + 0.010*\"launch\" + 0.009*\"point\" + 0.009*\"release\" + 0.008*\"controller\"')]"
      ]
     },
     "execution_count": 126,
     "metadata": {},
     "output_type": "execute_result"
    }
   ],
   "source": [
    "lda_model.print_topics()"
   ]
  },
  {
   "cell_type": "markdown",
   "metadata": {},
   "source": [
    "This code is run to visualize the LDA model into a graphical bubble plot:"
   ]
  },
  {
   "cell_type": "code",
   "execution_count": 127,
   "metadata": {},
   "outputs": [
    {
     "data": {
      "text/html": [
       "\n",
       "<link rel=\"stylesheet\" type=\"text/css\" href=\"https://cdn.rawgit.com/bmabey/pyLDAvis/files/ldavis.v1.0.0.css\">\n",
       "\n",
       "\n",
       "<div id=\"ldavis_el2040822460263435842891444679\"></div>\n",
       "<script type=\"text/javascript\">\n",
       "\n",
       "var ldavis_el2040822460263435842891444679_data = {\"mdsDat\": {\"x\": [0.15168631913440475, -0.020751855078954776, -0.06021828073398908, -0.0707161833214608], \"y\": [-0.02386977336762276, 0.102431630298804, 0.0181721757998475, -0.09673403273102874], \"topics\": [1, 2, 3, 4], \"cluster\": [1, 1, 1, 1], \"Freq\": [32.96927624091223, 22.847746607053516, 22.38171679521261, 21.801260356821647]}, \"tinfo\": {\"Term\": [\"game\", \"unit\", \"hope\", \"company\", \"price\", \"purchase\", \"product\", \"system\", \"money\", \"console\", \"worth\", \"retail\", \"people\", \"bunch\", \"reseller\", \"day\", \"year\", \"new\", \"machine\", \"crash\", \"audio\", \"bad\", \"thing\", \"good\", \"controller\", \"base\", \"launch\", \"crap\", \"drive\", \"supply\", \"scam\", \"kind\", \"retail\", \"reseller\", \"page\", \"spend\", \"bitter\", \"wide\", \"dice\", \"depression\", \"disingenuous\", \"responsibility\", \"economic\", \"cusp\", \"phony\", \"corrupt\", \"mailing\", \"staying\", \"rewarding\", \"attitude\", \"feeder\", \"multiple\", \"limit\", \"direct\", \"household\", \"absolute\", \"expensive\", \"history\", \"island\", \"interest\", \"company\", \"notification\", \"ridiculous\", \"world\", \"money\", \"console\", \"product\", \"sale\", \"unit\", \"bad\", \"people\", \"thank\", \"drop\", \"release\", \"time\", \"year\", \"customer\", \"price\", \"consumer\", \"problem\", \"bot\", \"shame\", \"production\", \"scalper\", \"way\", \"hour\", \"demand\", \"order\", \"system\", \"high\", \"audio\", \"majority\", \"headphone\", \"seller\", \"virtual\", \"base\", \"accessory\", \"hdd\", \"setting\", \"stuff\", \"plan\", \"poor\", \"samsung\", \"picture\", \"assassin\", \"image\", \"impression\", \"cash\", \"download\", \"automatic\", \"cell\", \"valhalla\", \"datum\", \"unhappy\", \"mile\", \"clean\", \"folk\", \"member\", \"membership\", \"message\", \"update\", \"drive\", \"supply\", \"size\", \"video\", \"low\", \"inventory\", \"prime\", \"pre\", \"support\", \"day\", \"fan\", \"ssd\", \"launch\", \"week\", \"point\", \"unit\", \"terrible\", \"long\", \"enough\", \"time\", \"console\", \"controller\", \"star\", \"system\", \"order\", \"game\", \"release\", \"double\", \"month\", \"new\", \"demand\", \"lot\", \"way\", \"high\", \"harsh\", \"charger\", \"couple\", \"upgrade\", \"disk\", \"difference\", \"capable\", \"ill\", \"gain\", \"nintendo\", \"compatible\", \"family\", \"digital\", \"honest\", \"example\", \"notice\", \"old\", \"flaw\", \"vent\", \"alot\", \"parent\", \"disappointment\", \"name\", \"triple\", \"hell\", \"tax\", \"key\", \"shipment\", \"crap\", \"more\", \"worth\", \"service\", \"version\", \"game\", \"dollar\", \"system\", \"well\", \"price\", \"new\", \"much\", \"graphic\", \"thing\", \"bit\", \"load\", \"playstation\", \"good\", \"full\", \"switch\", \"year\", \"controller\", \"little\", \"great\", \"huge\", \"product\", \"time\", \"money\", \"big\", \"customer\", \"able\", \"scalper\", \"people\", \"business\", \"demand\", \"company\", \"play\", \"hope\", \"title\", \"dirbag\", \"jerk\", \"millisecond\", \"night\", \"button\", \"bunch\", \"mine\", \"hardware\", \"machine\", \"white\", \"color\", \"certain\", \"damage\", \"economy\", \"crash\", \"purchase\", \"theme\", \"respect\", \"usual\", \"ton\", \"fomo\", \"choice\", \"treat\", \"setup\", \"protection\", \"weekend\", \"edition\", \"middle\", \"nice\", \"advantage\", \"luck\", \"play\", \"item\", \"work\", \"other\", \"way\", \"people\", \"future\", \"issue\", \"game\", \"good\", \"console\", \"high\", \"sure\", \"double\", \"website\", \"new\", \"bad\", \"scalper\", \"demand\", \"thing\", \"playstation\", \"big\", \"month\", \"many\", \"day\", \"time\", \"system\"], \"Freq\": [55.0, 36.0, 12.0, 25.0, 39.0, 15.0, 38.0, 52.0, 36.0, 84.0, 13.0, 15.0, 51.0, 9.0, 13.0, 24.0, 27.0, 29.0, 8.0, 9.0, 6.0, 20.0, 17.0, 22.0, 17.0, 7.0, 17.0, 8.0, 9.0, 9.0, 8.365395528655572, 7.549569947521949, 13.993880572584455, 12.458655494767514, 5.089832884379091, 4.284949072570821, 4.284949072570821, 4.284948143359815, 4.284947833622813, 4.284947833622813, 4.284947833622813, 4.284947833622813, 4.284947523885811, 4.284947523885811, 4.284946594674806, 4.284946594674806, 4.284945975200802, 4.284945975200802, 4.284945975200802, 4.284945975200802, 4.284635618725005, 4.277571756662105, 4.276362543407104, 3.468721143071867, 3.4687028685887613, 3.3816615055557926, 6.713668452880086, 8.050477865770201, 2.652514585426038, 2.652514275689036, 20.379986039743955, 9.16522691049059, 10.164944588536947, 10.00695331918818, 25.58332731395926, 45.065816939410716, 23.434245622820093, 11.64825836432732, 21.402051242469703, 13.364224894274754, 27.119090095211313, 5.842995262942895, 5.839123550420478, 16.60773626334266, 28.287460190208165, 15.286695561213843, 11.925926435903017, 18.538001152194877, 9.157557822326185, 6.651260783336746, 7.985148137351943, 5.110583714814238, 5.09714360683242, 12.082104504843286, 13.602220611712747, 8.385111527767728, 10.630238326844994, 8.267435626572386, 11.55478469297811, 8.035401726944912, 6.378212079219106, 4.058780509844304, 3.2856854500542987, 3.2856375835278073, 3.2843915513023214, 6.389214511572931, 2.512552612198542, 2.5125523975504414, 2.512550036421332, 2.512510111874572, 2.50343006791204, 4.834492988576183, 1.7394174132136762, 1.7394174132136762, 1.7394174132136762, 1.7394170912415248, 1.7394170912415248, 1.7394170912415248, 1.7394132275757095, 1.7394091492617931, 1.7394091492617931, 1.73940088530991, 1.7394006706618093, 1.7393927286820774, 1.7393582776618894, 1.7393505503302586, 1.7387273195694148, 1.738704137574522, 1.7386214980556915, 1.7353456460644336, 3.9821382589516334, 6.375019403366931, 6.363376031783942, 3.286687642037209, 3.2860943546864347, 3.283695447511236, 5.260529114938092, 2.251933971523022, 5.186894513234656, 5.994474078316245, 13.746727212337937, 4.061539167236543, 4.0491625577410195, 9.147549073067527, 4.623553148307743, 8.702544923328919, 14.889297336024933, 4.0600327668647145, 6.022919673938265, 5.265089099192738, 15.704017384829694, 18.33629856120631, 7.157812693649942, 4.581316841501742, 12.875382994526605, 6.751897680262544, 11.89409687804776, 8.293338925259153, 4.848556302848254, 4.839450071817417, 6.462719465823447, 5.861088743369127, 4.870508793419294, 5.686430871588864, 5.1473198428793046, 4.02794417556978, 3.260949242008443, 3.2609349436564044, 2.492558747234166, 4.035610615501047, 4.027686384693319, 1.7263200493067516, 1.7263183671476883, 1.726318051742864, 1.7263178414729812, 1.726318051742864, 1.7263166849886251, 1.726316895258508, 1.7263161593139178, 1.7263151079645032, 1.72631416175003, 1.72631416175003, 1.7263119539162592, 1.7263117436463764, 1.7263066971691863, 1.7262713718288558, 1.7262639072480122, 1.7262493986260905, 1.7262446675537249, 1.725124875292234, 1.725122877728346, 1.72516493170493, 1.7245776479219341, 6.345677603238025, 1.708899610046586, 9.415453042283508, 4.798616939653272, 3.2584867714095656, 27.051134647560684, 6.851284573452184, 24.286363243406615, 6.3421475924435615, 17.52475162584384, 13.74319581152313, 6.677159242326505, 5.466740240757091, 8.161903902869286, 3.2607019646261293, 3.2602065687819692, 11.402271297927859, 9.39434783359505, 2.4947808793568655, 2.5107801044783744, 9.643653058659988, 7.013775251416129, 6.349597874935188, 4.697179383814481, 3.929569410845603, 11.521233586888744, 13.265222929862098, 7.715944190343076, 5.475032023320163, 5.526009012655785, 4.816600481659897, 5.47403660569442, 6.293782575593574, 4.554085682010152, 4.377583880667709, 4.225984341559496, 4.040044786792066, 12.228075612045943, 4.701841277517186, 3.952507650208849, 3.952497819009204, 3.952455626777394, 3.952455626777394, 3.9520230539930146, 7.720392744484392, 3.196171750953363, 3.190867409111569, 6.978302663147825, 2.4467545584480437, 2.446753124731429, 2.4467400164652355, 2.4466431381854004, 2.4426950922612973, 7.245029663649684, 12.150795828703172, 1.693885078742386, 1.693856506818418, 1.6938529225268806, 1.6938527177102214, 1.6938493382353434, 1.6938386877690612, 1.6927103527931386, 1.6926447090538423, 1.6915102295781415, 1.691508181411549, 1.6911616316240627, 1.6911246622170644, 4.67498366898701, 5.295619519542606, 5.334039028488616, 6.948573115421355, 3.958892195111637, 3.9509530917649838, 3.19857957559975, 11.882748989648972, 15.965130883501415, 2.448536873017018, 7.246013602880821, 15.892017890274847, 8.48521337866683, 18.030313644261295, 7.4569280637313975, 3.952160281154726, 4.707240654288881, 3.956702705024033, 7.293868605686117, 6.066043527889372, 6.718164204941387, 6.542233248760896, 5.543862226178597, 6.138790718562481, 5.112248803030762, 4.5244360510232635, 4.583544090722214, 4.766820181937474, 5.076288322895957, 4.169522370439145], \"Total\": [55.0, 36.0, 12.0, 25.0, 39.0, 15.0, 38.0, 52.0, 36.0, 84.0, 13.0, 15.0, 51.0, 9.0, 13.0, 24.0, 27.0, 29.0, 8.0, 9.0, 6.0, 20.0, 17.0, 22.0, 17.0, 7.0, 17.0, 8.0, 9.0, 9.0, 8.93926649839954, 8.12314802394494, 15.414873852049693, 13.788326270430916, 5.673550877751614, 4.858302602634991, 4.8583026112375025, 4.858301827241932, 4.858302491818444, 4.858302511993066, 4.858302513119271, 4.858302588184848, 4.8583025650891996, 4.858302690641751, 4.8583018572854115, 4.858301865170731, 4.858301884828036, 4.858302225028687, 4.8583024877059025, 4.858302528055146, 4.8582411165557575, 4.857724561583413, 4.8575933712490205, 4.042081261812417, 4.0420775487534275, 4.037394683106733, 8.07253657122679, 9.69570363398968, 3.225863440536464, 3.225863348417163, 25.00497323131924, 11.300214189070454, 12.86705147423147, 12.851161031133183, 36.849501304407404, 84.59476685827443, 38.17810132532985, 16.837881721848827, 36.686545255511554, 20.635939148463912, 51.20767577167292, 7.23901445497954, 7.2589524933167695, 29.38218321364696, 62.332988827795916, 27.787435157409078, 20.645288123981334, 39.43861893639318, 15.087707320330942, 9.58127425618327, 12.755751308996835, 6.427988870755482, 6.44712836324802, 27.474727602965928, 33.624129478422255, 15.093203853317899, 27.41114419964272, 18.169376119238574, 52.88605330135048, 21.861591740113873, 6.962324381362515, 4.642923027106314, 3.8697955103219495, 3.8697898508882154, 3.869846765202078, 7.729570286679022, 3.0966619008692278, 3.096661862762742, 3.096661619866833, 3.0966556541261716, 3.0969361070717834, 6.16888069464354, 2.323525882205664, 2.3235259980966885, 2.3235260515793392, 2.3235258815960242, 2.323525927498674, 2.3235259354195015, 2.3235254200342057, 2.323524858405654, 2.323524910237822, 2.323523695510532, 2.323523617080847, 2.323522415491677, 2.323517894820614, 2.3235163494652245, 2.323550901719783, 2.323547725432759, 2.323536255273002, 2.3233809338287155, 5.39368219269369, 9.264187825066724, 9.26481021258808, 4.636976669511107, 4.636973112841056, 4.636931945378501, 7.840629130709268, 3.0896594802273323, 7.843535986181987, 9.23965006796904, 24.025055937202225, 6.148714895054856, 6.1772619077446524, 17.309014513485952, 7.812970263565174, 18.014202511600722, 36.686545255511554, 6.967475473533864, 11.732727377130093, 10.18766428213634, 62.332988827795916, 84.59476685827443, 17.651193555376974, 8.566860724233965, 52.88605330135048, 18.169376119238574, 55.04359686466917, 29.38218321364696, 10.700616173698407, 11.580356298047512, 29.982333695831638, 27.41114419964272, 14.899241839031268, 33.624129478422255, 21.861591740113873, 4.613784247213205, 3.846515877568548, 3.846514213346153, 3.0791705489173893, 5.366722558090287, 5.386818594016698, 2.3118872063674454, 2.311886842473172, 2.3118871104343857, 2.311886864031428, 2.311887351114835, 2.3118866250911996, 2.3118871742629024, 2.3118867416375206, 2.3118865096591907, 2.3118864753542114, 2.311886692956407, 2.311886144295421, 2.311885972428662, 2.3118855288804703, 2.311880413768574, 2.311879731277774, 2.311879275895994, 2.311877116886887, 2.3118440855641107, 2.311843908415243, 2.3119416599416507, 2.3118322012265997, 8.546720801566101, 2.3118610078934654, 13.750163378168144, 6.969987818614373, 4.599391767514387, 55.04359686466917, 11.639035479822923, 52.88605330135048, 10.826386801993614, 39.43861893639318, 29.982333695831638, 12.476906063384638, 9.931100753035693, 17.5818626844773, 5.372272155363472, 5.392656948191826, 28.74693605270361, 22.991997857635432, 3.8523128559836253, 3.8940854458858944, 27.787435157409078, 17.651193555376974, 15.468852339021138, 10.001406423429152, 7.69379365444744, 38.17810132532985, 62.332988827795916, 36.849501304407404, 17.850043461949376, 20.645288123981334, 14.832332508689664, 27.474727602965928, 51.20767577167292, 16.271766964287252, 27.41114419964272, 25.00497323131924, 13.709569018368569, 12.823734593928533, 5.294701416324231, 4.541737196225232, 4.541734945064379, 4.5417313186066615, 4.5417313186066615, 4.54178040421634, 9.073311695360537, 3.789074545768551, 3.7891577711704016, 8.367432258841898, 3.0359512490746807, 3.035950888208818, 3.035949605194706, 3.0359387247268406, 3.036232357060719, 9.091894802805406, 15.998497886519555, 2.283055959576593, 2.2830529342285617, 2.283052178185852, 2.2830527224585646, 2.2830520789852233, 2.283051641109094, 2.283072492572427, 2.2830657724509287, 2.2830952074470012, 2.2830948764652153, 2.2832440357076953, 2.2832404556702346, 6.890338295676588, 8.5096536147156, 9.181473719172796, 13.709569018368569, 6.855275640864752, 6.946938355335536, 5.3233691154673, 33.624129478422255, 51.20767577167292, 3.808887441339146, 17.70275317346187, 55.04359686466917, 22.991997857635432, 84.59476685827443, 21.861591740113873, 7.610866249352315, 10.700616173698407, 7.7197037742157795, 29.982333695831638, 20.635939148463912, 27.474727602965928, 27.41114419964272, 17.5818626844773, 28.74693605270361, 17.850043461949376, 11.580356298047512, 14.809601720887883, 24.025055937202225, 62.332988827795916, 52.88605330135048], \"Category\": [\"Default\", \"Default\", \"Default\", \"Default\", \"Default\", \"Default\", \"Default\", \"Default\", \"Default\", \"Default\", \"Default\", \"Default\", \"Default\", \"Default\", \"Default\", \"Default\", \"Default\", \"Default\", \"Default\", \"Default\", \"Default\", \"Default\", \"Default\", \"Default\", \"Default\", \"Default\", \"Default\", \"Default\", \"Default\", \"Default\", \"Topic1\", \"Topic1\", \"Topic1\", \"Topic1\", \"Topic1\", \"Topic1\", \"Topic1\", \"Topic1\", \"Topic1\", \"Topic1\", \"Topic1\", \"Topic1\", \"Topic1\", \"Topic1\", \"Topic1\", \"Topic1\", \"Topic1\", \"Topic1\", \"Topic1\", \"Topic1\", \"Topic1\", \"Topic1\", \"Topic1\", \"Topic1\", \"Topic1\", \"Topic1\", \"Topic1\", \"Topic1\", \"Topic1\", \"Topic1\", \"Topic1\", \"Topic1\", \"Topic1\", \"Topic1\", \"Topic1\", \"Topic1\", \"Topic1\", \"Topic1\", \"Topic1\", \"Topic1\", \"Topic1\", \"Topic1\", \"Topic1\", \"Topic1\", \"Topic1\", \"Topic1\", \"Topic1\", \"Topic1\", \"Topic1\", \"Topic1\", \"Topic1\", \"Topic1\", \"Topic1\", \"Topic1\", \"Topic1\", \"Topic1\", \"Topic1\", \"Topic1\", \"Topic1\", \"Topic1\", \"Topic2\", \"Topic2\", \"Topic2\", \"Topic2\", \"Topic2\", \"Topic2\", \"Topic2\", \"Topic2\", \"Topic2\", \"Topic2\", \"Topic2\", \"Topic2\", \"Topic2\", \"Topic2\", \"Topic2\", \"Topic2\", \"Topic2\", \"Topic2\", \"Topic2\", \"Topic2\", \"Topic2\", \"Topic2\", \"Topic2\", \"Topic2\", \"Topic2\", \"Topic2\", \"Topic2\", \"Topic2\", \"Topic2\", \"Topic2\", \"Topic2\", \"Topic2\", \"Topic2\", \"Topic2\", \"Topic2\", \"Topic2\", \"Topic2\", \"Topic2\", \"Topic2\", \"Topic2\", \"Topic2\", \"Topic2\", \"Topic2\", \"Topic2\", \"Topic2\", \"Topic2\", \"Topic2\", \"Topic2\", \"Topic2\", \"Topic2\", \"Topic2\", \"Topic2\", \"Topic2\", \"Topic2\", \"Topic2\", \"Topic2\", \"Topic2\", \"Topic2\", \"Topic2\", \"Topic2\", \"Topic2\", \"Topic2\", \"Topic2\", \"Topic2\", \"Topic2\", \"Topic3\", \"Topic3\", \"Topic3\", \"Topic3\", \"Topic3\", \"Topic3\", \"Topic3\", \"Topic3\", \"Topic3\", \"Topic3\", \"Topic3\", \"Topic3\", \"Topic3\", \"Topic3\", \"Topic3\", \"Topic3\", \"Topic3\", \"Topic3\", \"Topic3\", \"Topic3\", \"Topic3\", \"Topic3\", \"Topic3\", \"Topic3\", \"Topic3\", \"Topic3\", \"Topic3\", \"Topic3\", \"Topic3\", \"Topic3\", \"Topic3\", \"Topic3\", \"Topic3\", \"Topic3\", \"Topic3\", \"Topic3\", \"Topic3\", \"Topic3\", \"Topic3\", \"Topic3\", \"Topic3\", \"Topic3\", \"Topic3\", \"Topic3\", \"Topic3\", \"Topic3\", \"Topic3\", \"Topic3\", \"Topic3\", \"Topic3\", \"Topic3\", \"Topic3\", \"Topic3\", \"Topic3\", \"Topic3\", \"Topic3\", \"Topic3\", \"Topic3\", \"Topic3\", \"Topic3\", \"Topic3\", \"Topic3\", \"Topic3\", \"Topic3\", \"Topic3\", \"Topic4\", \"Topic4\", \"Topic4\", \"Topic4\", \"Topic4\", \"Topic4\", \"Topic4\", \"Topic4\", \"Topic4\", \"Topic4\", \"Topic4\", \"Topic4\", \"Topic4\", \"Topic4\", \"Topic4\", \"Topic4\", \"Topic4\", \"Topic4\", \"Topic4\", \"Topic4\", \"Topic4\", \"Topic4\", \"Topic4\", \"Topic4\", \"Topic4\", \"Topic4\", \"Topic4\", \"Topic4\", \"Topic4\", \"Topic4\", \"Topic4\", \"Topic4\", \"Topic4\", \"Topic4\", \"Topic4\", \"Topic4\", \"Topic4\", \"Topic4\", \"Topic4\", \"Topic4\", \"Topic4\", \"Topic4\", \"Topic4\", \"Topic4\", \"Topic4\", \"Topic4\", \"Topic4\", \"Topic4\", \"Topic4\", \"Topic4\", \"Topic4\", \"Topic4\", \"Topic4\", \"Topic4\", \"Topic4\", \"Topic4\", \"Topic4\", \"Topic4\", \"Topic4\", \"Topic4\"], \"logprob\": [30.0, 29.0, 28.0, 27.0, 26.0, 25.0, 24.0, 23.0, 22.0, 21.0, 20.0, 19.0, 18.0, 17.0, 16.0, 15.0, 14.0, 13.0, 12.0, 11.0, 10.0, 9.0, 8.0, 7.0, 6.0, 5.0, 4.0, 3.0, 2.0, 1.0, -5.0690999031066895, -5.1717000007629395, -4.554500102996826, -4.67080020904541, -5.565899848937988, -5.738100051879883, -5.738100051879883, -5.738100051879883, -5.738100051879883, -5.738100051879883, -5.738100051879883, -5.738100051879883, -5.738100051879883, -5.738100051879883, -5.738100051879883, -5.738100051879883, -5.738100051879883, -5.738100051879883, -5.738100051879883, -5.738100051879883, -5.738100051879883, -5.739799976348877, -5.740099906921387, -5.949399948120117, -5.949399948120117, -5.974800109863281, -5.289000034332275, -5.107399940490723, -6.217700004577637, -6.217700004577637, -4.178599834442139, -4.977799892425537, -4.874199867248535, -4.889900207519531, -3.951200008392334, -3.384999990463257, -4.039000034332275, -4.73799991607666, -4.129700183868408, -4.600599765777588, -3.892899990081787, -5.4278998374938965, -5.428599834442139, -4.383299827575684, -3.8506999015808105, -4.46619987487793, -4.7144999504089355, -4.2733001708984375, -4.978600025177002, -5.298399925231934, -5.115600109100342, -5.5619001388549805, -5.564499855041504, -4.701399803161621, -4.582900047302246, -5.066699981689453, -4.829500198364258, -5.0808000564575195, -4.746099948883057, -5.109300136566162, -4.973599910736084, -5.425600051879883, -5.636899948120117, -5.636899948120117, -5.63730001449585, -4.971799850463867, -5.905099868774414, -5.905099868774414, -5.905099868774414, -5.905200004577637, -5.90880012512207, -5.250699996948242, -6.272900104522705, -6.272900104522705, -6.272900104522705, -6.272900104522705, -6.272900104522705, -6.272900104522705, -6.272900104522705, -6.272900104522705, -6.272900104522705, -6.272900104522705, -6.272900104522705, -6.272900104522705, -6.272900104522705, -6.272900104522705, -6.2733001708984375, -6.2733001708984375, -6.273399829864502, -6.275199890136719, -5.4446001052856445, -4.974100112915039, -4.975900173187256, -5.636600017547607, -5.63670015335083, -5.637499809265137, -5.166200160980225, -6.014699935913086, -5.180300235748291, -5.035600185394287, -4.205599784851074, -5.424900054931641, -5.4278998374938965, -4.61299991607666, -5.295300006866455, -4.662799835205078, -4.125800132751465, -5.425300121307373, -5.030900001525879, -5.165299892425537, -4.072500228881836, -3.91759991645813, -4.8582000732421875, -5.304500102996826, -4.271100044250488, -4.916600227355957, -4.350399971008301, -4.710999965667725, -5.247799873352051, -5.249599933624268, -4.960400104522705, -5.05810022354126, -5.243199825286865, -5.088399887084961, -5.188000202178955, -5.412600040435791, -5.623799800872803, -5.623799800872803, -5.892499923706055, -5.410699844360352, -5.412600040435791, -6.259799957275391, -6.259799957275391, -6.259799957275391, -6.259799957275391, -6.259799957275391, -6.259799957275391, -6.259799957275391, -6.259799957275391, -6.259799957275391, -6.259799957275391, -6.259799957275391, -6.259799957275391, -6.259799957275391, -6.259900093078613, -6.259900093078613, -6.259900093078613, -6.259900093078613, -6.259900093078613, -6.260499954223633, -6.260499954223633, -6.260499954223633, -6.260900020599365, -4.958099842071533, -6.269999980926514, -4.563499927520752, -5.237500190734863, -5.624599933624268, -3.5081000328063965, -4.881400108337402, -3.6159000396728516, -4.958600044250488, -3.942199945449829, -4.185299873352051, -4.907100200653076, -5.1072001457214355, -4.706399917602539, -5.623899936676025, -5.624000072479248, -4.372000217437744, -4.565700054168701, -5.891600131988525, -5.885200023651123, -4.5395002365112305, -4.857999801635742, -4.957399845123291, -5.258900165557861, -5.437300205230713, -4.361599922180176, -4.220699787139893, -4.762499809265137, -5.105599880218506, -5.096399784088135, -5.233799934387207, -5.105800151824951, -4.966300010681152, -5.28980016708374, -5.3292999267578125, -5.36460018157959, -5.409599781036377, -4.2758002281188965, -5.231599807739258, -5.405200004577637, -5.405200004577637, -5.405200004577637, -5.405200004577637, -5.405300140380859, -4.7357001304626465, -5.617599964141846, -5.61929988861084, -4.8368000984191895, -5.884799957275391, -5.884799957275391, -5.884799957275391, -5.884799957275391, -5.886499881744385, -4.799200057983398, -4.282199859619141, -6.252500057220459, -6.252600193023682, -6.252600193023682, -6.252600193023682, -6.252600193023682, -6.252600193023682, -6.253200054168701, -6.253300189971924, -6.253900051116943, -6.253900051116943, -6.2540998458862305, -6.254199981689453, -5.237299919128418, -5.11269998550415, -5.105500221252441, -4.841000080108643, -5.403600215911865, -5.405600070953369, -5.6168999671936035, -4.304500102996826, -4.009200096130371, -5.884099960327148, -4.799099922180176, -4.013700008392334, -4.641200065612793, -3.887500047683716, -4.770400047302246, -5.405300140380859, -5.230500221252441, -5.404099941253662, -4.792500019073486, -4.976900100708008, -4.87470006942749, -4.901299953460693, -5.06689977645874, -4.964900016784668, -5.147900104522705, -5.270100116729736, -5.2571001052856445, -5.217899799346924, -5.15500020980835, -5.351799964904785], \"loglift\": [30.0, 29.0, 28.0, 27.0, 26.0, 25.0, 24.0, 23.0, 22.0, 21.0, 20.0, 19.0, 18.0, 17.0, 16.0, 15.0, 14.0, 13.0, 12.0, 11.0, 10.0, 9.0, 8.0, 7.0, 6.0, 5.0, 4.0, 3.0, 2.0, 1.0, 1.0432, 1.0364, 1.0129, 1.0082, 1.001, 0.984, 0.984, 0.984, 0.984, 0.984, 0.984, 0.984, 0.984, 0.984, 0.984, 0.984, 0.984, 0.984, 0.984, 0.984, 0.984, 0.9824, 0.9822, 0.9566, 0.9566, 0.9324, 0.9253, 0.9236, 0.9139, 0.9139, 0.9051, 0.9002, 0.8739, 0.8594, 0.7447, 0.4798, 0.6215, 0.7411, 0.5707, 0.6751, 0.4739, 0.8954, 0.8919, 0.5391, 0.3195, 0.512, 0.5608, 0.3547, 0.6103, 0.7446, 0.6412, 0.8802, 0.8746, 0.2881, 0.2046, 0.5218, 0.1623, 0.3222, -0.4114, 0.1087, 1.3887, 1.3419, 1.3127, 1.3127, 1.3123, 1.2859, 1.2673, 1.2673, 1.2673, 1.2673, 1.2636, 1.2326, 1.1868, 1.1868, 1.1868, 1.1868, 1.1868, 1.1868, 1.1868, 1.1868, 1.1868, 1.1868, 1.1868, 1.1868, 1.1868, 1.1867, 1.1864, 1.1864, 1.1863, 1.1845, 1.1729, 1.1025, 1.1007, 1.1321, 1.132, 1.1312, 1.0772, 1.16, 1.0628, 1.0437, 0.918, 1.0616, 1.054, 0.8386, 0.9517, 0.7488, 0.5746, 0.9363, 0.8095, 0.8162, 0.0977, -0.0527, 0.5737, 0.8504, 0.0635, 0.4864, -0.0558, 0.2114, 0.6847, 0.6038, -0.0582, -0.0663, 0.3582, -0.3008, 0.0301, 1.3611, 1.3318, 1.3318, 1.2856, 1.2119, 1.2062, 1.2049, 1.2049, 1.2049, 1.2049, 1.2049, 1.2049, 1.2049, 1.2049, 1.2049, 1.2049, 1.2049, 1.2048, 1.2048, 1.2048, 1.2048, 1.2048, 1.2048, 1.2048, 1.2042, 1.2042, 1.2042, 1.2039, 1.1992, 1.1947, 1.1182, 1.1236, 1.1523, 0.7865, 0.967, 0.7187, 0.9622, 0.6858, 0.7169, 0.8717, 0.8999, 0.7295, 0.9976, 0.9937, 0.5722, 0.6019, 1.0625, 1.0581, 0.4386, 0.574, 0.6065, 0.7412, 0.825, 0.2989, -0.0504, -0.0666, 0.3151, 0.1789, 0.3722, -0.1163, -0.5994, 0.2235, -0.3375, -0.2809, 0.2751, 1.4756, 1.4045, 1.3842, 1.3842, 1.3842, 1.3842, 1.3841, 1.3617, 1.353, 1.3514, 1.3417, 1.3074, 1.3074, 1.3074, 1.3074, 1.3057, 1.2961, 1.2481, 1.2247, 1.2247, 1.2247, 1.2247, 1.2247, 1.2247, 1.224, 1.224, 1.2233, 1.2233, 1.223, 1.223, 1.1353, 1.0489, 0.9801, 0.8436, 0.9741, 0.9589, 1.0138, 0.483, 0.3577, 1.0814, 0.6299, 0.2809, 0.5264, -0.0226, 0.4476, 0.8679, 0.702, 0.8548, 0.1096, 0.2989, 0.1148, 0.0905, 0.369, -0.0207, 0.2728, 0.5834, 0.3504, -0.0942, -0.9847, -1.0171]}, \"token.table\": {\"Topic\": [1, 2, 3, 4, 1, 2, 1, 4, 3, 2, 1, 2, 2, 1, 3, 4, 2, 3, 1, 2, 3, 4, 2, 3, 4, 1, 1, 2, 4, 3, 4, 1, 2, 3, 4, 4, 3, 2, 2, 4, 3, 4, 2, 4, 1, 3, 3, 1, 2, 3, 4, 1, 2, 3, 4, 2, 3, 4, 1, 3, 1, 3, 2, 4, 1, 1, 2, 3, 4, 4, 2, 1, 2, 3, 4, 1, 2, 3, 4, 1, 1, 2, 3, 3, 4, 1, 3, 1, 3, 4, 1, 2, 3, 2, 3, 4, 2, 2, 3, 1, 2, 1, 4, 4, 1, 2, 3, 3, 1, 3, 3, 2, 4, 1, 3, 2, 4, 2, 3, 2, 4, 3, 2, 3, 4, 1, 2, 3, 4, 2, 3, 4, 1, 2, 3, 4, 4, 3, 2, 2, 3, 1, 2, 3, 4, 1, 2, 3, 4, 1, 2, 3, 4, 1, 1, 3, 4, 3, 2, 2, 1, 1, 2, 1, 1, 2, 3, 4, 2, 3, 4, 4, 3, 1, 1, 2, 3, 1, 1, 2, 3, 4, 2, 3, 1, 2, 3, 1, 2, 3, 4, 2, 3, 1, 2, 3, 4, 1, 4, 1, 2, 1, 2, 3, 4, 2, 2, 2, 4, 2, 4, 4, 1, 2, 3, 1, 2, 4, 3, 1, 2, 3, 1, 3, 1, 2, 3, 4, 1, 2, 4, 4, 3, 3, 1, 2, 3, 1, 2, 3, 4, 3, 4, 1, 3, 1, 2, 3, 4, 1, 2, 2, 2, 3, 4, 1, 2, 3, 4, 1, 2, 3, 4, 2, 4, 1, 2, 1, 2, 3, 4, 2, 1, 2, 4, 1, 3, 4, 1, 2, 4, 1, 3, 4, 1, 2, 3, 4, 1, 3, 4, 1, 1, 3, 1, 1, 2, 3, 4, 1, 2, 3, 2, 1, 2, 3, 4, 1, 2, 1, 2, 3, 2, 4, 1, 4, 3, 2, 3, 1, 2, 3, 1, 2, 4, 1, 2, 2, 3, 2, 3, 4, 3, 4, 1, 3, 1, 2, 3, 4, 3, 1, 2, 4, 1, 4, 4, 2, 3, 4, 1, 2, 3, 4, 4, 4, 4, 3, 2, 1, 2, 2, 4, 3, 4, 2, 3, 3, 4, 2, 3, 2, 1, 2, 3, 4, 1, 2, 4, 1, 2, 4, 4, 1, 2, 3, 4, 4, 1, 1, 2, 4, 1, 2, 4, 3, 4, 1, 2, 3], \"Freq\": [0.2696811170904213, 0.2696811170904213, 0.33710139636302666, 0.13484055854521065, 0.7430534380382974, 0.9687851292896732, 0.3525407890648041, 0.5875679817746735, 0.8650947354510667, 0.8607607384649579, 0.8233328362944211, 0.8617811626331909, 0.8607611804817751, 0.6299689055328354, 0.04845914657944887, 0.2907548794766932, 0.7762397879142484, 0.12937329798570807, 0.2801113627907076, 0.16806681767442455, 0.2801113627907076, 0.2801113627907076, 0.1861409792878118, 0.5584229378634353, 0.1861409792878118, 0.8233328221975706, 0.6271680754984202, 0.23518802831190758, 0.07839600943730253, 0.11021334145407247, 0.8817067316325797, 0.18436842210094964, 0.2458245628012662, 0.3072807035015827, 0.2458245628012662, 0.8807118891716164, 0.8650941077452051, 0.8607607814968975, 0.8607611612802947, 0.6587724633432225, 0.7799265869393354, 0.8760204824050369, 0.8607643326720363, 0.6587721849413647, 0.7998408882497658, 0.15996817764995316, 0.8650940535816172, 0.5319477985605257, 0.2127791194242103, 0.035463186570701716, 0.2127791194242103, 0.5965121014690116, 0.06627912238544573, 0.13255824477089145, 0.13255824477089145, 0.39657374885380675, 0.39657374885380675, 0.1699601780802029, 0.8233329486329545, 0.7799269243802547, 0.2340078781599511, 0.7020236344798534, 0.10998807417915117, 0.7699165192540582, 0.8233328087409937, 0.5812464291094555, 0.09687440485157592, 0.2906232145547277, 0.09687440485157592, 0.6587748243107082, 0.8607616403368841, 0.1664928485684021, 0.5827249699894074, 0.08324642428420105, 0.20811606071050262, 0.40129663759688566, 0.21888907505284674, 0.14592605003523115, 0.25537058756165454, 0.8233328390164497, 0.8233328424354276, 0.18563832855086862, 0.7425533142034745, 0.8650941197585297, 0.8807202678579718, 0.7421919070114981, 0.8650969048872631, 0.8233328388255926, 0.7453338525894235, 0.18633346314735588, 0.17183554457473207, 0.2577533168620981, 0.6014244060115623, 0.4672628116771216, 0.09345256233542432, 0.4672628116771216, 0.8607609724237737, 0.647655262749035, 0.21588508758301167, 0.8265655417257693, 0.13776092362096157, 0.8233328300182883, 0.6587111145657302, 0.875946665674787, 0.29447377896623267, 0.49078963161038774, 0.1963158526441551, 0.8650943684492679, 0.8671376014511142, 0.12387680020730203, 0.8650943252552896, 0.650542441513596, 0.325271220756798, 0.8233432437860956, 0.8650945051662687, 0.8607515327164532, 0.8760203143893962, 0.25958431658704584, 0.5191686331740917, 0.26254385707140127, 0.5250877141428025, 0.865094143642773, 0.21800900892256989, 0.4905202700757822, 0.2906786785634265, 0.08698678611505778, 0.13048017917258667, 0.39144053751776, 0.3479471444602311, 0.10069377250999338, 0.5034688625499669, 0.30208131752998013, 0.09998593774345718, 0.19997187548691436, 0.49992968871728594, 0.2999578132303716, 0.7917326702058528, 0.8669672844836773, 0.9687851412112193, 0.7752347616296691, 0.8651102435880671, 0.365938587414053, 0.22871161713378313, 0.045742323426756624, 0.3201962639872964, 0.8251077283297782, 0.10313846604122227, 0.8650942816443465, 0.9357648438608099, 0.5300398827013378, 0.2650199413506689, 0.13250997067533446, 0.06625498533766723, 0.7421925887901871, 0.12997489209006075, 0.519899568360243, 0.2599497841801215, 0.8650942439122467, 0.8607608014360507, 0.8607607844312043, 0.9299835969406492, 0.2550815714732166, 0.6377039286830414, 0.9299835703835923, 0.16946516570638792, 0.22595355427518388, 0.22595355427518388, 0.3954187199815718, 0.29174610982494525, 0.14587305491247263, 0.5834922196498905, 0.8807207043966544, 0.8650737320294131, 0.9848398645965909, 0.3466401853973389, 0.5199602780960083, 0.11554672846577962, 0.8234530341043121, 0.19393811087279655, 0.19393811087279655, 0.3878762217455931, 0.19393811087279655, 0.3708746948330555, 0.5563120422495833, 0.255695023294219, 0.511390046588438, 0.17046334886281267, 0.33558754559588344, 0.33558754559588344, 0.20135252735753006, 0.13423501823835338, 0.6469795190740323, 0.2156598396913441, 0.10891497711438146, 0.10891497711438146, 0.21782995422876292, 0.5445748855719074, 0.1195109764938098, 0.8365768354566686, 0.823332945301645, 0.8615262360903249, 0.3376188026007383, 0.06752376052014765, 0.2700950420805906, 0.3376188026007383, 0.860752709362792, 0.8607569584770742, 0.860814501350059, 0.8759480391270964, 0.8607637601837403, 0.8807214076298866, 0.7917500602753382, 0.7055726422243401, 0.08141222794896232, 0.21709927453056618, 0.17270625778044557, 0.43176564445111393, 0.43176564445111393, 0.8651039111656507, 0.24044422429403012, 0.24044422429403012, 0.5610365233527369, 0.8234307954867184, 0.8650970752894864, 0.06670594825238886, 0.20011784475716657, 0.466941637766722, 0.233470818883361, 0.14513075513686463, 0.14513075513686463, 0.7256537756843231, 0.8807214076298866, 0.8650942358452761, 0.8650943812859901, 0.7964450805458876, 0.17698779567686393, 0.8650942998605305, 0.4403013041008728, 0.3852636410882637, 0.1100753260252182, 0.0550376630126091, 0.3757019204602787, 0.5635528806904181, 0.8812823058672319, 0.8650966495017877, 0.5272647038383232, 0.03905664472876468, 0.11716993418629405, 0.31245315783011746, 0.8233329499692739, 0.8607607582778484, 0.9686993519658246, 0.21882525964021868, 0.2917670128536249, 0.5105922724938435, 0.24350421161985572, 0.1391452637827747, 0.38264947540263045, 0.20871789567416205, 0.3330705312175847, 0.49960579682637696, 0.05551175520293077, 0.16653526560879234, 0.8105198086164184, 0.16210396172328367, 0.2549870369082789, 0.6374675922706973, 0.48176129165788745, 0.02535585745567829, 0.4564054342022092, 0.05071171491135658, 0.6473205260318341, 0.7305917577176704, 0.10437025110252433, 0.20874050220504867, 0.602439597611427, 0.3143163117972662, 0.07857907794931655, 0.7755390800813888, 0.15510781601627777, 0.8760037660612658, 0.12501173636340032, 0.12501173636340032, 0.750070418180402, 0.5785819207642853, 0.272273845065546, 0.03403423063319325, 0.10210269189957977, 0.8703014248896921, 0.07252511874080766, 0.8760199862276936, 0.8233328261042865, 0.9082137248978162, 0.06487240892127258, 0.8233328431323769, 0.7771788292000507, 0.07771788292000507, 0.07771788292000507, 0.07771788292000507, 0.7126787204134357, 0.23755957347114523, 0.05938989336778631, 0.8607608012102068, 0.43676502178331283, 0.10919125544582821, 0.18198542574304702, 0.25477959604026584, 0.8949280124305833, 0.7752358953836792, 0.14347227370030025, 0.14347227370030025, 0.7173613685015012, 0.968785217200777, 0.8760150601587573, 0.7778482664691281, 0.15556965329382563, 0.8651146908235168, 0.6469732788878364, 0.2156577596292788, 0.8233328236554317, 0.6475360863338266, 0.3237680431669133, 0.23345774658649382, 0.5836443664662345, 0.23345774658649382, 0.823332887648088, 0.9687870835759921, 0.6476117548363605, 0.2158705849454535, 0.6493752421209232, 0.21645841404030775, 0.10822920702015387, 0.3941732651332954, 0.5255643535110606, 0.256799706605437, 0.770399119816311, 0.22690292148712055, 0.24581149827771392, 0.4538058429742411, 0.07563430716237352, 0.865110309878572, 0.14352400719579508, 0.5740960287831803, 0.28704801439159017, 0.8288421079022362, 0.13814035131703936, 0.8760188253865282, 0.22750718008573265, 0.4550143601714653, 0.34126077012859896, 0.44920034361506606, 0.2566859106371806, 0.20855730239270925, 0.08021434707411894, 0.9443403143724726, 0.8760200674850155, 0.8760124816477123, 0.865097883183838, 0.8607620854721916, 0.5724169406996723, 0.4088692433569088, 0.741608396100612, 0.185402099025153, 0.649525568079749, 0.8760202763255418, 0.8607616112821925, 0.8650945694778267, 0.6522601577863123, 0.21742005259543745, 0.6469737751319226, 0.21565792504397416, 0.7752244938937122, 0.41636765671463033, 0.1784432814491273, 0.059481093816375764, 0.3568865628982546, 0.25907729862382883, 0.25907729862382883, 0.5181545972476577, 0.2559845913310017, 0.6399614783275044, 0.12799229566550085, 0.8760038930561157, 0.18473383932963786, 0.09236691966481893, 0.5542015179889135, 0.18473383932963786, 0.6587721066369476, 0.823332955060721, 0.28789660965739206, 0.14394830482869603, 0.5757932193147841, 0.778139809763027, 0.0778139809763027, 0.1556279619526054, 0.6545376772969674, 0.29090563435420774, 0.5398123257878477, 0.10796246515756952, 0.3598748838585651], \"Term\": [\"able\", \"able\", \"able\", \"able\", \"absolute\", \"accessory\", \"advantage\", \"advantage\", \"alot\", \"assassin\", \"attitude\", \"audio\", \"automatic\", \"bad\", \"bad\", \"bad\", \"base\", \"base\", \"big\", \"big\", \"big\", \"big\", \"bit\", \"bit\", \"bit\", \"bitter\", \"bot\", \"bot\", \"bot\", \"bunch\", \"bunch\", \"business\", \"business\", \"business\", \"business\", \"button\", \"capable\", \"cash\", \"cell\", \"certain\", \"charger\", \"choice\", \"clean\", \"color\", \"company\", \"company\", \"compatible\", \"console\", \"console\", \"console\", \"console\", \"consumer\", \"consumer\", \"consumer\", \"consumer\", \"controller\", \"controller\", \"controller\", \"corrupt\", \"couple\", \"crap\", \"crap\", \"crash\", \"crash\", \"cusp\", \"customer\", \"customer\", \"customer\", \"customer\", \"damage\", \"datum\", \"day\", \"day\", \"day\", \"day\", \"demand\", \"demand\", \"demand\", \"demand\", \"depression\", \"dice\", \"difference\", \"difference\", \"digital\", \"dirbag\", \"direct\", \"disappointment\", \"disingenuous\", \"disk\", \"disk\", \"dollar\", \"dollar\", \"dollar\", \"double\", \"double\", \"double\", \"download\", \"drive\", \"drive\", \"drop\", \"drop\", \"economic\", \"economy\", \"edition\", \"enough\", \"enough\", \"enough\", \"example\", \"expensive\", \"expensive\", \"family\", \"fan\", \"fan\", \"feeder\", \"flaw\", \"folk\", \"fomo\", \"full\", \"full\", \"future\", \"future\", \"gain\", \"game\", \"game\", \"game\", \"good\", \"good\", \"good\", \"good\", \"graphic\", \"graphic\", \"graphic\", \"great\", \"great\", \"great\", \"great\", \"hardware\", \"harsh\", \"hdd\", \"headphone\", \"hell\", \"high\", \"high\", \"high\", \"high\", \"history\", \"history\", \"honest\", \"hope\", \"hour\", \"hour\", \"hour\", \"hour\", \"household\", \"huge\", \"huge\", \"huge\", \"ill\", \"image\", \"impression\", \"interest\", \"inventory\", \"inventory\", \"island\", \"issue\", \"issue\", \"issue\", \"issue\", \"item\", \"item\", \"item\", \"jerk\", \"key\", \"kind\", \"launch\", \"launch\", \"launch\", \"limit\", \"little\", \"little\", \"little\", \"little\", \"load\", \"load\", \"long\", \"long\", \"long\", \"lot\", \"lot\", \"lot\", \"lot\", \"low\", \"low\", \"luck\", \"luck\", \"luck\", \"luck\", \"machine\", \"machine\", \"mailing\", \"majority\", \"many\", \"many\", \"many\", \"many\", \"member\", \"membership\", \"message\", \"middle\", \"mile\", \"millisecond\", \"mine\", \"money\", \"money\", \"money\", \"month\", \"month\", \"month\", \"more\", \"much\", \"much\", \"much\", \"multiple\", \"name\", \"new\", \"new\", \"new\", \"new\", \"nice\", \"nice\", \"nice\", \"night\", \"nintendo\", \"notice\", \"notification\", \"notification\", \"old\", \"order\", \"order\", \"order\", \"order\", \"other\", \"other\", \"page\", \"parent\", \"people\", \"people\", \"people\", \"people\", \"phony\", \"picture\", \"plan\", \"play\", \"play\", \"play\", \"playstation\", \"playstation\", \"playstation\", \"playstation\", \"point\", \"point\", \"point\", \"point\", \"poor\", \"poor\", \"pre\", \"pre\", \"price\", \"price\", \"price\", \"price\", \"prime\", \"problem\", \"problem\", \"problem\", \"product\", \"product\", \"product\", \"production\", \"production\", \"protection\", \"purchase\", \"purchase\", \"purchase\", \"release\", \"release\", \"release\", \"release\", \"reseller\", \"reseller\", \"respect\", \"responsibility\", \"retail\", \"retail\", \"rewarding\", \"ridiculous\", \"ridiculous\", \"ridiculous\", \"ridiculous\", \"sale\", \"sale\", \"sale\", \"samsung\", \"scalper\", \"scalper\", \"scalper\", \"scalper\", \"scam\", \"seller\", \"service\", \"service\", \"service\", \"setting\", \"setup\", \"shame\", \"shame\", \"shipment\", \"size\", \"size\", \"spend\", \"ssd\", \"ssd\", \"star\", \"star\", \"star\", \"staying\", \"stuff\", \"supply\", \"supply\", \"support\", \"support\", \"support\", \"sure\", \"sure\", \"switch\", \"switch\", \"system\", \"system\", \"system\", \"system\", \"tax\", \"terrible\", \"terrible\", \"terrible\", \"thank\", \"thank\", \"theme\", \"thing\", \"thing\", \"thing\", \"time\", \"time\", \"time\", \"time\", \"title\", \"ton\", \"treat\", \"triple\", \"unhappy\", \"unit\", \"unit\", \"update\", \"update\", \"upgrade\", \"usual\", \"valhalla\", \"vent\", \"version\", \"version\", \"video\", \"video\", \"virtual\", \"way\", \"way\", \"way\", \"way\", \"website\", \"website\", \"website\", \"week\", \"week\", \"week\", \"weekend\", \"well\", \"well\", \"well\", \"well\", \"white\", \"wide\", \"work\", \"work\", \"work\", \"world\", \"world\", \"world\", \"worth\", \"worth\", \"year\", \"year\", \"year\"]}, \"R\": 30, \"lambda.step\": 0.01, \"plot.opts\": {\"xlab\": \"PC1\", \"ylab\": \"PC2\"}, \"topic.order\": [1, 4, 3, 2]};\n",
       "\n",
       "function LDAvis_load_lib(url, callback){\n",
       "  var s = document.createElement('script');\n",
       "  s.src = url;\n",
       "  s.async = true;\n",
       "  s.onreadystatechange = s.onload = callback;\n",
       "  s.onerror = function(){console.warn(\"failed to load library \" + url);};\n",
       "  document.getElementsByTagName(\"head\")[0].appendChild(s);\n",
       "}\n",
       "\n",
       "if(typeof(LDAvis) !== \"undefined\"){\n",
       "   // already loaded: just create the visualization\n",
       "   !function(LDAvis){\n",
       "       new LDAvis(\"#\" + \"ldavis_el2040822460263435842891444679\", ldavis_el2040822460263435842891444679_data);\n",
       "   }(LDAvis);\n",
       "}else if(typeof define === \"function\" && define.amd){\n",
       "   // require.js is available: use it to load d3/LDAvis\n",
       "   require.config({paths: {d3: \"https://cdnjs.cloudflare.com/ajax/libs/d3/3.5.5/d3.min\"}});\n",
       "   require([\"d3\"], function(d3){\n",
       "      window.d3 = d3;\n",
       "      LDAvis_load_lib(\"https://cdn.rawgit.com/bmabey/pyLDAvis/files/ldavis.v1.0.0.js\", function(){\n",
       "        new LDAvis(\"#\" + \"ldavis_el2040822460263435842891444679\", ldavis_el2040822460263435842891444679_data);\n",
       "      });\n",
       "    });\n",
       "}else{\n",
       "    // require.js not available: dynamically load d3 & LDAvis\n",
       "    LDAvis_load_lib(\"https://cdnjs.cloudflare.com/ajax/libs/d3/3.5.5/d3.min.js\", function(){\n",
       "         LDAvis_load_lib(\"https://cdn.rawgit.com/bmabey/pyLDAvis/files/ldavis.v1.0.0.js\", function(){\n",
       "                 new LDAvis(\"#\" + \"ldavis_el2040822460263435842891444679\", ldavis_el2040822460263435842891444679_data);\n",
       "            })\n",
       "         });\n",
       "}\n",
       "</script>"
      ],
      "text/plain": [
       "PreparedData(topic_coordinates=              x         y  topics  cluster       Freq\n",
       "topic                                                \n",
       "0      0.151686 -0.023870       1        1  32.969276\n",
       "3     -0.020752  0.102432       2        1  22.847747\n",
       "2     -0.060218  0.018172       3        1  22.381717\n",
       "1     -0.070716 -0.096734       4        1  21.801260, topic_info=        Term       Freq      Total Category  logprob  loglift\n",
       "120     game  55.000000  55.000000  Default  30.0000  30.0000\n",
       "48      unit  36.000000  36.000000  Default  29.0000  29.0000\n",
       "76      hope  12.000000  12.000000  Default  28.0000  28.0000\n",
       "2    company  25.000000  25.000000  Default  27.0000  27.0000\n",
       "70     price  39.000000  39.000000  Default  26.0000  26.0000\n",
       "..       ...        ...        ...      ...      ...      ...\n",
       "274    month   4.524436  11.580356   Topic4  -5.2701   0.5834\n",
       "102     many   4.583544  14.809602   Topic4  -5.2571   0.3504\n",
       "97       day   4.766820  24.025056   Topic4  -5.2179  -0.0942\n",
       "47      time   5.076288  62.332989   Topic4  -5.1550  -0.9847\n",
       "45    system   4.169522  52.886053   Topic4  -5.3518  -1.0171\n",
       "\n",
       "[280 rows x 6 columns], token_table=      Topic      Freq      Term\n",
       "term                           \n",
       "225       1  0.269681      able\n",
       "225       2  0.269681      able\n",
       "225       3  0.337101      able\n",
       "225       4  0.134841      able\n",
       "709       1  0.743053  absolute\n",
       "...     ...       ...       ...\n",
       "57        3  0.654538     worth\n",
       "57        4  0.290906     worth\n",
       "52        1  0.539812      year\n",
       "52        2  0.107962      year\n",
       "52        3  0.359875      year\n",
       "\n",
       "[400 rows x 3 columns], R=30, lambda_step=0.01, plot_opts={'xlab': 'PC1', 'ylab': 'PC2'}, topic_order=[1, 4, 3, 2])"
      ]
     },
     "execution_count": 127,
     "metadata": {},
     "output_type": "execute_result"
    }
   ],
   "source": [
    "pyLDAvis.enable_notebook()\n",
    "vis = pyLDAvis.gensim.prepare(lda_model, doc_term_matrix, dictionary)\n",
    "vis"
   ]
  },
  {
   "cell_type": "markdown",
   "metadata": {},
   "source": [
    "As can be seen above, there are 4 topics which are clearly separated.<br>Based on the words within each topic, I can take a reasonable guess to what the topics are about:<br>\n",
    "\n",
    "Topic 1: Complaints mostly on bots: Scam,bot, ridiculousness,reseller<br>\n",
    "Topic 2: Complaints mostly on the supply and demand of the product<br>\n",
    "Topic 3: Complaints mostly on the price of the PS5<br>\n",
    "Topic 4: Complaints on the PS5 crashing<br>\n",
    "\n",
    "It seems to me that most customers were really unhappy with the scalpers and bots that bought most of the PS5's\n",
    "online given the COVID 19 pandemic.<br>There were complaints on the limited supply and high demand of the product.<br>\n",
    "There were also complaints about the price of the PS5.<br>\n",
    "Finally, there were a few cases where the PS5 tended to crash for some customers.<br> \n",
    "\n",
    "These are interesting results because there are not a lot of the complaints on the product itself.<br>The complaints are mostly\n",
    "on obtaining the PS5 which has been difficult to get for consumers due to the pandemic. "
   ]
  },
  {
   "cell_type": "markdown",
   "metadata": {},
   "source": [
    "#                                                    Data Splitting: Xbox One X Reviews"
   ]
  },
  {
   "cell_type": "markdown",
   "metadata": {},
   "source": [
    "Here, the Xbox One X reviews are split into the positive set with ratings >= 4:"
   ]
  },
  {
   "cell_type": "code",
   "execution_count": 130,
   "metadata": {},
   "outputs": [
    {
     "data": {
      "text/html": [
       "<div>\n",
       "<style scoped>\n",
       "    .dataframe tbody tr th:only-of-type {\n",
       "        vertical-align: middle;\n",
       "    }\n",
       "\n",
       "    .dataframe tbody tr th {\n",
       "        vertical-align: top;\n",
       "    }\n",
       "\n",
       "    .dataframe thead th {\n",
       "        text-align: right;\n",
       "    }\n",
       "</style>\n",
       "<table border=\"1\" class=\"dataframe\">\n",
       "  <thead>\n",
       "    <tr style=\"text-align: right;\">\n",
       "      <th></th>\n",
       "      <th>stars</th>\n",
       "      <th>comment</th>\n",
       "    </tr>\n",
       "  </thead>\n",
       "  <tbody>\n",
       "    <tr>\n",
       "      <th>6</th>\n",
       "      <td>5</td>\n",
       "      <td>It’s a behemoth simple put. Besides ...</td>\n",
       "    </tr>\n",
       "    <tr>\n",
       "      <th>8</th>\n",
       "      <td>5</td>\n",
       "      <td>Let me start off by saying I am not ...</td>\n",
       "    </tr>\n",
       "    <tr>\n",
       "      <th>12</th>\n",
       "      <td>5</td>\n",
       "      <td>Tons of PowerGamepassHaloWhat more c...</td>\n",
       "    </tr>\n",
       "    <tr>\n",
       "      <th>16</th>\n",
       "      <td>5</td>\n",
       "      <td>To start off I would consider myself...</td>\n",
       "    </tr>\n",
       "    <tr>\n",
       "      <th>18</th>\n",
       "      <td>5</td>\n",
       "      <td>Preorders were a mess but did you re...</td>\n",
       "    </tr>\n",
       "  </tbody>\n",
       "</table>\n",
       "</div>"
      ],
      "text/plain": [
       "    stars                                            comment\n",
       "6       5            It’s a behemoth simple put. Besides ...\n",
       "8       5            Let me start off by saying I am not ...\n",
       "12      5            Tons of PowerGamepassHaloWhat more c...\n",
       "16      5            To start off I would consider myself...\n",
       "18      5            Preorders were a mess but did you re..."
      ]
     },
     "execution_count": 130,
     "metadata": {},
     "output_type": "execute_result"
    }
   ],
   "source": [
    "positive =  xboxonexreviews['stars'] >= 4\n",
    "xboxonex_positive = xboxonexreviews[positive]\n",
    "xboxonex_positive.head(5)"
   ]
  },
  {
   "cell_type": "code",
   "execution_count": 131,
   "metadata": {},
   "outputs": [
    {
     "data": {
      "text/plain": [
       "(1853, 2)"
      ]
     },
     "execution_count": 131,
     "metadata": {},
     "output_type": "execute_result"
    }
   ],
   "source": [
    "xboxonex_positive.shape"
   ]
  },
  {
   "cell_type": "markdown",
   "metadata": {},
   "source": [
    "There are 1,853 positive review rows and 2 columns in the dataframe."
   ]
  },
  {
   "cell_type": "markdown",
   "metadata": {},
   "source": [
    "Here, the Xbox One X  reviews are split into the negative set with ratings <= 3:"
   ]
  },
  {
   "cell_type": "code",
   "execution_count": 133,
   "metadata": {},
   "outputs": [
    {
     "data": {
      "text/html": [
       "<div>\n",
       "<style scoped>\n",
       "    .dataframe tbody tr th:only-of-type {\n",
       "        vertical-align: middle;\n",
       "    }\n",
       "\n",
       "    .dataframe tbody tr th {\n",
       "        vertical-align: top;\n",
       "    }\n",
       "\n",
       "    .dataframe thead th {\n",
       "        text-align: right;\n",
       "    }\n",
       "</style>\n",
       "<table border=\"1\" class=\"dataframe\">\n",
       "  <thead>\n",
       "    <tr style=\"text-align: right;\">\n",
       "      <th></th>\n",
       "      <th>stars</th>\n",
       "      <th>comment</th>\n",
       "    </tr>\n",
       "  </thead>\n",
       "  <tbody>\n",
       "    <tr>\n",
       "      <th>0</th>\n",
       "      <td>1</td>\n",
       "      <td>This should be illegal. What a scumm...</td>\n",
       "    </tr>\n",
       "    <tr>\n",
       "      <th>1</th>\n",
       "      <td>1</td>\n",
       "      <td>Hope you never sell them</td>\n",
       "    </tr>\n",
       "    <tr>\n",
       "      <th>2</th>\n",
       "      <td>1</td>\n",
       "      <td>Wait for the stock to replenish, all...</td>\n",
       "    </tr>\n",
       "    <tr>\n",
       "      <th>3</th>\n",
       "      <td>1</td>\n",
       "      <td>How dare you Amazon!  $1,500.00?  Th...</td>\n",
       "    </tr>\n",
       "    <tr>\n",
       "      <th>4</th>\n",
       "      <td>1</td>\n",
       "      <td>annoying</td>\n",
       "    </tr>\n",
       "  </tbody>\n",
       "</table>\n",
       "</div>"
      ],
      "text/plain": [
       "   stars                                            comment\n",
       "0      1            This should be illegal. What a scumm...\n",
       "1      1                         Hope you never sell them  \n",
       "2      1            Wait for the stock to replenish, all...\n",
       "3      1            How dare you Amazon!  $1,500.00?  Th...\n",
       "4      1                                         annoying  "
      ]
     },
     "execution_count": 133,
     "metadata": {},
     "output_type": "execute_result"
    }
   ],
   "source": [
    "negative =  xboxonexreviews['stars'] <= 3\n",
    "xboxonex_negative = xboxonexreviews[negative]\n",
    "xboxonex_negative.head(5)"
   ]
  },
  {
   "cell_type": "code",
   "execution_count": 134,
   "metadata": {},
   "outputs": [
    {
     "data": {
      "text/plain": [
       "(612, 2)"
      ]
     },
     "execution_count": 134,
     "metadata": {},
     "output_type": "execute_result"
    }
   ],
   "source": [
    "xboxonex_negative.shape"
   ]
  },
  {
   "cell_type": "markdown",
   "metadata": {},
   "source": [
    "There are 612 negative review rows and 2 columns in the dataframe."
   ]
  },
  {
   "cell_type": "markdown",
   "metadata": {},
   "source": [
    "#                                 Data Cleaning (Xbox One X Positive Reviews)\n",
    "\n",
    "The following section is done in order to prepare the Xbox One X positive reviews for the LDA model.<br>\n",
    "The data will need to be split, tokenized, and lemmatized in order to prepare it for the model.<br>\n",
    "Visualizations will also be built in order to take a better look at the data."
   ]
  },
  {
   "cell_type": "code",
   "execution_count": 137,
   "metadata": {},
   "outputs": [
    {
     "data": {
      "image/png": "[encoded data removed]",
      "text/plain": [
       "<Figure size 1440x360 with 1 Axes>"
      ]
     },
     "metadata": {
      "needs_background": "light"
     },
     "output_type": "display_data"
    }
   ],
   "source": [
    "freq_words(xboxonex_positive['comment'])"
   ]
  },
  {
   "cell_type": "markdown",
   "metadata": {},
   "source": [
    "Looking above, it seems most of the most frequent words are \"the\", \"and\", and \"for\".<br>But these are not necessary words because these words don't show true sentiment.<br>The dataset will need to be cleaned further in order to prepare this dataset for the model."
   ]
  },
  {
   "cell_type": "markdown",
   "metadata": {},
   "source": [
    "This code removes the characters and symbols from the dataset:"
   ]
  },
  {
   "cell_type": "code",
   "execution_count": 139,
   "metadata": {},
   "outputs": [],
   "source": [
    "xboxonex_positive['comment'] = xboxonex_positive['comment'].str.replace(\"[^a-zA-Z#]\",\" \")"
   ]
  },
  {
   "cell_type": "markdown",
   "metadata": {},
   "source": [
    "The following code is run in order to remove short words (length < 3) to make the data cleaner:"
   ]
  },
  {
   "cell_type": "code",
   "execution_count": 140,
   "metadata": {},
   "outputs": [],
   "source": [
    "xboxonex_positive['comment'] = xboxonex_positive['comment'].apply(lambda x: ' '.join([w for w in x.split() if len(w) > 2]))"
   ]
  },
  {
   "cell_type": "markdown",
   "metadata": {},
   "source": [
    "This code removes the stopwords from the dataset:"
   ]
  },
  {
   "cell_type": "code",
   "execution_count": 141,
   "metadata": {},
   "outputs": [],
   "source": [
    "reviews = [remove_stopwords(r.split()) for r in xboxonex_positive['comment']]"
   ]
  },
  {
   "cell_type": "markdown",
   "metadata": {},
   "source": [
    "This code makes the text lowercase:"
   ]
  },
  {
   "cell_type": "code",
   "execution_count": 142,
   "metadata": {},
   "outputs": [],
   "source": [
    "reviews = [r.lower() for r in reviews]"
   ]
  },
  {
   "cell_type": "code",
   "execution_count": 143,
   "metadata": {},
   "outputs": [
    {
     "data": {
      "image/png": "[encoded data removed]",
      "text/plain": [
       "<Figure size 1440x360 with 1 Axes>"
      ]
     },
     "metadata": {
      "needs_background": "light"
     },
     "output_type": "display_data"
    }
   ],
   "source": [
    "freq_words(reviews, 20)"
   ]
  },
  {
   "cell_type": "markdown",
   "metadata": {},
   "source": [
    "Re-running a frequency bar graph on the data, it seems the stopwords have been removed and the reviews are getting closer to \n",
    "for the model to use.<br>The next step is to lemmatize the data."
   ]
  },
  {
   "cell_type": "markdown",
   "metadata": {},
   "source": [
    "Here, the words are split into tokens:"
   ]
  },
  {
   "cell_type": "code",
   "execution_count": 145,
   "metadata": {},
   "outputs": [
    {
     "name": "stdout",
     "output_type": "stream",
     "text": [
      "['let', 'start', 'saying', 'xbox', 'fan', 'boy', 'lol', 'mostly', 'played', 'past', 'years', 'intrigued', 'xbox', 'series', 'user', 'experience', 'they', 'really', 'seem', 'like', 'listening', 'generation', 'shows', 'the', 'interface', 'like', 'butter', 'moves', 'quickly', 'hardly', 'waiting', 'game', 'pass', 'amazing', 'option', 'xbox', 'amazing', 'selection', 'games', 'right', 'fingertips', 'monthly', 'fee', 'xbox', 'really', 'got', 'user', 'experience', 'honestly', 'say', 'definitely', 'worth', 'enjoying', 'lot', 'games', 'played', 'confident', 'saying', 'great', 'experience', 'xbox', 'series', 'blown', 'away', 'gets', 'little', 'hot', 'breathable', 'location', 'would', 'recommend', 'well', 'excited', 'play', 'xbox', 'one', 'games', 'missed', 'and', 'new', 'games', 'course', 'overall', 'really', 'recommend']\n"
     ]
    }
   ],
   "source": [
    "tokenized_reviews = pd.Series(reviews).apply(lambda x: x.split())\n",
    "print(tokenized_reviews[1])"
   ]
  },
  {
   "cell_type": "markdown",
   "metadata": {},
   "source": [
    "Below, the positive reviews are lemmatized:"
   ]
  },
  {
   "cell_type": "code",
   "execution_count": 146,
   "metadata": {},
   "outputs": [
    {
     "name": "stdout",
     "output_type": "stream",
     "text": [
      "['fan', 'boy', 'past', 'year', 'user', 'experience', 'generation', 'interface', 'butter', 'move', 'game', 'amazing', 'amazing', 'game', 'monthly', 'user', 'experience', 'worth', 'lot', 'game', 'confident', 'great', 'experience', 'little', 'hot', 'breathable', 'location', 'excited', 'game', 'new', 'game']\n"
     ]
    }
   ],
   "source": [
    "reviews_2 = lemmatization(tokenized_reviews)\n",
    "print(reviews_2[1]) "
   ]
  },
  {
   "cell_type": "markdown",
   "metadata": {},
   "source": [
    "The following code is run in order to append the reviews to a new dataframe in order to show a frequency graph \n",
    "of the lemmatized reviews later on:"
   ]
  },
  {
   "cell_type": "code",
   "execution_count": 147,
   "metadata": {},
   "outputs": [],
   "source": [
    "reviews_3 = []\n",
    "for i in range(len(reviews_2)):\n",
    "    reviews_3.append(' '.join(reviews_2[i]))\n",
    "\n",
    "xboxonex_positive['reviews'] = reviews_3"
   ]
  },
  {
   "cell_type": "code",
   "execution_count": 148,
   "metadata": {},
   "outputs": [
    {
     "data": {
      "image/png": "[encoded data removed]",
      "text/plain": [
       "<Figure size 1440x360 with 1 Axes>"
      ]
     },
     "metadata": {
      "needs_background": "light"
     },
     "output_type": "display_data"
    }
   ],
   "source": [
    "freq_words(xboxonex_positive['reviews'], 20)"
   ]
  },
  {
   "cell_type": "markdown",
   "metadata": {},
   "source": [
    "As can be seen, the tokens are now clearer as words such as \"game\", \"system\", and \"time\" are now clearly showing in the dataset.<br>The dataset is now ready for model building."
   ]
  },
  {
   "cell_type": "markdown",
   "metadata": {},
   "source": [
    "#                LDA Model (Xbox One X Positive Reviews)\n",
    "The code below is run in order to incorporate the reviews into a dictionary in order to set up the LDA Model."
   ]
  },
  {
   "cell_type": "code",
   "execution_count": 150,
   "metadata": {},
   "outputs": [],
   "source": [
    "dictionary = corpora.Dictionary(reviews_2)\n",
    "doc_term_matrix = [dictionary.doc2bow(rev) for rev in reviews_2]"
   ]
  },
  {
   "cell_type": "markdown",
   "metadata": {},
   "source": [
    "Next, the LDA Model is imported and the next lines of code are run in order to build the model.<br>\n",
    "The number of topics I chose through trial and error were 3."
   ]
  },
  {
   "cell_type": "code",
   "execution_count": 151,
   "metadata": {},
   "outputs": [],
   "source": [
    "LDA = gensim.models.ldamodel.LdaModel\n",
    "\n",
    "lda_model = LDA(corpus = doc_term_matrix, \n",
    "                id2word = dictionary,\n",
    "                num_topics = 3,\n",
    "                random_state = 100,\n",
    "                chunksize = 1000,\n",
    "                passes = 50)"
   ]
  },
  {
   "cell_type": "markdown",
   "metadata": {},
   "source": [
    "Here, this code is being run to print the topics and the words associated with it."
   ]
  },
  {
   "cell_type": "code",
   "execution_count": 152,
   "metadata": {},
   "outputs": [
    {
     "data": {
      "text/plain": [
       "[(0,\n",
       "  '0.062*\"game\" + 0.030*\"console\" + 0.012*\"system\" + 0.011*\"thing\" + 0.010*\"good\" + 0.010*\"time\" + 0.009*\"gaming\" + 0.008*\"powerful\" + 0.007*\"nice\" + 0.007*\"year\"'),\n",
       " (1,\n",
       "  '0.064*\"great\" + 0.036*\"console\" + 0.035*\"good\" + 0.025*\"game\" + 0.017*\"new\" + 0.014*\"system\" + 0.011*\"product\" + 0.011*\"work\" + 0.010*\"issue\" + 0.010*\"box\"'),\n",
       " (2,\n",
       "  '0.036*\"game\" + 0.033*\"amazing\" + 0.024*\"fast\" + 0.023*\"time\" + 0.021*\"love\" + 0.018*\"graphic\" + 0.018*\"worth\" + 0.016*\"load\" + 0.015*\"console\" + 0.015*\"awesome\"')]"
      ]
     },
     "execution_count": 152,
     "metadata": {},
     "output_type": "execute_result"
    }
   ],
   "source": [
    "lda_model.print_topics()"
   ]
  },
  {
   "cell_type": "markdown",
   "metadata": {},
   "source": [
    "This code is run to visualize the LDA model into a graphical bubble plot:"
   ]
  },
  {
   "cell_type": "code",
   "execution_count": 153,
   "metadata": {},
   "outputs": [
    {
     "data": {
      "text/html": [
       "\n",
       "<link rel=\"stylesheet\" type=\"text/css\" href=\"https://cdn.rawgit.com/bmabey/pyLDAvis/files/ldavis.v1.0.0.css\">\n",
       "\n",
       "\n",
       "<div id=\"ldavis_el2040822460551721282513781382\"></div>\n",
       "<script type=\"text/javascript\">\n",
       "\n",
       "var ldavis_el2040822460551721282513781382_data = {\"mdsDat\": {\"x\": [0.02518638102540702, -0.14089107469209733, 0.11570469366669041], \"y\": [-0.10866088628337114, 0.038331887308149654, 0.07032899897522138], \"topics\": [1, 2, 3], \"cluster\": [1, 1, 1], \"Freq\": [49.79003455582032, 28.598451132465456, 21.611514311714224]}, \"tinfo\": {\"Term\": [\"great\", \"amazing\", \"fast\", \"love\", \"good\", \"worth\", \"load\", \"awesome\", \"time\", \"graphic\", \"product\", \"work\", \"perfect\", \"box\", \"issue\", \"excellent\", \"powerful\", \"well\", \"drive\", \"happy\", \"new\", \"day\", \"hard\", \"quick\", \"son\", \"condition\", \"console\", \"controller\", \"pro\", \"problem\", \"drive\", \"powerful\", \"hard\", \"storage\", \"machine\", \"space\", \"available\", \"need\", \"cool\", \"size\", \"regret\", \"entertainment\", \"halo\", \"main\", \"external\", \"level\", \"wish\", \"capable\", \"audio\", \"close\", \"line\", \"texture\", \"pro\", \"assassin\", \"negative\", \"silent\", \"quieter\", \"living\", \"output\", \"detail\", \"exclusive\", \"nice\", \"compatible\", \"lag\", \"reason\", \"display\", \"internal\", \"small\", \"resolution\", \"fan\", \"gaming\", \"game\", \"thing\", \"high\", \"enhanced\", \"difference\", \"hdr\", \"year\", \"console\", \"design\", \"last\", \"color\", \"power\", \"lot\", \"system\", \"playstation\", \"next\", \"time\", \"quality\", \"play\", \"big\", \"well\", \"speed\", \"good\", \"one\", \"experience\", \"new\", \"graphic\", \"price\", \"load\", \"amazing\", \"perfect\", \"excellent\", \"condition\", \"fine\", \"item\", \"battery\", \"seller\", \"packaging\", \"code\", \"date\", \"install\", \"want\", \"ultimate\", \"great\", \"backwards\", \"warranty\", \"shape\", \"adapter\", \"bug\", \"access\", \"plastic\", \"chance\", \"rechargeable\", \"skeptical\", \"guy\", \"gift\", \"steep\", \"moment\", \"name\", \"grip\", \"share\", \"work\", \"brand\", \"box\", \"good\", \"product\", \"problem\", \"early\", \"service\", \"issue\", \"controller\", \"new\", \"wrong\", \"console\", \"little\", \"pass\", \"review\", \"bit\", \"delivery\", \"system\", \"month\", \"day\", \"game\", \"feature\", \"title\", \"original\", \"time\", \"price\", \"happy\", \"experience\", \"power\", \"year\", \"old\", \"son\", \"disk\", \"resume\", \"penny\", \"husband\", \"clear\", \"samsung\", \"clarity\", \"gorgeous\", \"watch\", \"crystal\", \"repair\", \"netflix\", \"grandson\", \"daughter\", \"valhalla\", \"restart\", \"physical\", \"fire\", \"distance\", \"shipment\", \"session\", \"sign\", \"exciting\", \"earth\", \"birthday\", \"dinner\", \"pricey\", \"failure\", \"awsome\", \"thank\", \"love\", \"amazing\", \"awesome\", \"fast\", \"worth\", \"load\", \"shipping\", \"graphic\", \"quick\", \"time\", \"happy\", \"screen\", \"well\", \"super\", \"day\", \"order\", \"game\", \"play\", \"much\", \"product\", \"system\", \"one\", \"console\", \"price\", \"upgrade\", \"way\", \"purchase\", \"new\", \"old\", \"money\", \"original\", \"difference\"], \"Freq\": [394.0, 192.0, 144.0, 119.0, 321.0, 108.0, 119.0, 89.0, 240.0, 157.0, 95.0, 74.0, 48.0, 75.0, 91.0, 40.0, 77.0, 122.0, 69.0, 89.0, 184.0, 120.0, 58.0, 54.0, 22.0, 27.0, 569.0, 72.0, 73.0, 50.0, 69.13722476127839, 76.81817684828398, 57.89004222054614, 42.37467592930338, 48.20215969758341, 29.224560342648388, 23.396334300966533, 18.02330102404257, 24.648582106100154, 17.737460611817315, 17.531031819207534, 18.00606236417615, 20.07652930914086, 13.980318137205133, 34.52164439124813, 12.96070905445593, 13.512076252580753, 12.667292334405195, 11.112835708754446, 10.51646789478476, 12.488246217007404, 13.765297355453585, 69.44217580500569, 10.76080731247029, 9.70798556702238, 12.49288019029808, 9.777374168837406, 9.698608257275241, 13.014440108556688, 9.957273086240736, 41.62928451381989, 70.35571192444644, 22.838863707440535, 12.63642283570534, 26.295495980919064, 19.578405684622496, 20.71939857389012, 48.373347955175724, 39.257714014375246, 33.781490773343, 93.57508964254446, 615.1423608288947, 111.65162027893828, 65.13816281988316, 29.950394366463218, 64.74376201404681, 33.59013548260467, 69.50726317677913, 298.0032529962202, 27.362929343378674, 30.601873071923254, 26.272725173677003, 68.88078907939423, 50.20395704537624, 119.72619599524039, 33.68664498609657, 46.793487662238526, 98.73581178466489, 50.43982314458926, 56.863205861351624, 40.43244194997389, 62.543500769739595, 41.086880441537744, 103.09115565143057, 48.862904022748936, 48.289854995288174, 65.85491504718607, 55.85912634814396, 49.09660147365319, 48.401782378279954, 48.53070060885823, 48.05771614368634, 40.29140013137337, 27.31952500905371, 22.070597377408188, 19.186001954296728, 21.614681934497796, 13.368436007432281, 11.753152704950073, 11.489818143422188, 14.131971381666306, 9.094003694712365, 9.330628705231252, 8.259549580934443, 365.5790408805094, 8.015874462503302, 6.814529391688238, 6.806698091723904, 6.618460210466685, 7.456281669625635, 6.580145714054442, 6.24836095313696, 6.060848798627865, 6.98994543213859, 6.545002763817703, 6.033609988332942, 14.648152884478007, 5.346102510045007, 6.430293164416925, 4.846192723120459, 5.017935690761361, 5.6832684078310605, 62.62655097048309, 26.04103772428841, 57.088756026303855, 201.35157381092668, 65.68278812034931, 36.58367420382742, 11.779253474128923, 16.086831986143228, 58.228577378156864, 46.19151582519525, 95.31078709905846, 10.066192859855487, 204.41618822646, 23.80946673269387, 15.304558694766108, 26.669485011843534, 26.314258475053634, 20.263154195248188, 81.22359960666681, 23.067346311839575, 44.28361896326407, 145.55091192733565, 21.498557635717848, 27.738310774635117, 27.78258411581073, 41.84250940892385, 29.082902009607075, 27.23011226605278, 24.06192608510668, 24.09621834459723, 23.63823264251033, 22.909012248493777, 21.92781779882786, 16.413263983496094, 16.794099959458674, 12.679428169446332, 12.923783528367514, 15.24616084069696, 8.329002073822002, 7.709141452813994, 6.1102626059284635, 8.14957729447668, 5.90551592568584, 5.582869872912845, 4.931621366252367, 4.929805913771945, 4.673140827545403, 5.185149936385473, 4.213767215794175, 3.953195750523877, 3.9512295574133, 3.6769134251371915, 3.659712328506278, 3.6589454955183722, 3.6439534939849842, 3.4017716281029498, 3.227031675645216, 9.039920135318136, 3.2184293598516835, 3.36871069820357, 3.1336646463061264, 2.9717219926057266, 18.949968717224927, 91.1040615098221, 143.4138901583823, 65.16304233230349, 102.18277568514678, 77.37713594394049, 70.72295872494021, 16.37136869318155, 79.75082465978335, 31.129161201789064, 99.88515114577432, 44.23663115163883, 20.132615567213875, 51.022050182664664, 11.833595981477444, 44.19333500870101, 14.06501988202835, 154.2426203146059, 33.59292868025995, 24.94390096616034, 29.46589363360625, 46.836363143553065, 26.259102611888096, 67.0597422449008, 26.716481498382674, 21.733104334129333, 19.19479372032046, 19.038193142854873, 22.945642773331397, 20.03941796327317, 18.479918527910115, 18.57922655605475, 18.503154299684574], \"Total\": [394.0, 192.0, 144.0, 119.0, 321.0, 108.0, 119.0, 89.0, 240.0, 157.0, 95.0, 74.0, 48.0, 75.0, 91.0, 40.0, 77.0, 122.0, 69.0, 89.0, 184.0, 120.0, 58.0, 54.0, 22.0, 27.0, 569.0, 72.0, 73.0, 50.0, 69.74278147768233, 77.5649675140013, 58.51425932247841, 42.97777581521358, 48.99379075037075, 29.862641558897714, 24.000604982614718, 18.638030240102786, 25.493673157934595, 18.345770371411113, 18.13576534561103, 18.63607614085116, 20.808257879568586, 14.576907242465367, 36.04746382627849, 13.569081435186526, 14.15205532044141, 13.276278970896556, 11.687939831898557, 11.101345873482481, 13.188326430559624, 14.563790620605214, 73.49340404518632, 11.38898793994873, 10.303859919409813, 13.261251176957167, 10.3856406024084, 10.30270387704347, 13.844820438536807, 10.592778742897071, 44.66104094319127, 76.78773178805284, 24.51717811354231, 13.47103909772126, 28.72812817259111, 21.168045422249293, 22.540172239538194, 55.197008082610175, 44.27605653908908, 37.89250569430283, 112.16120076308695, 914.9358930708362, 142.69551620110877, 79.17121209112466, 34.7052287421595, 83.56008515611484, 39.923310594470934, 94.06379707019894, 569.479183467581, 31.380142074831618, 36.2823855124327, 30.114811487612393, 104.72202548422386, 71.91974809122866, 247.78615874546026, 42.21659317642415, 68.91386642633628, 240.46347233936308, 81.72093001622949, 101.13613585831831, 57.57931477964302, 122.12557680081571, 59.1972659067241, 321.3385028406193, 84.98615075255069, 84.95231306850008, 184.11134491957594, 157.4922430101542, 104.89598498164294, 119.44404763255942, 192.66182656253082, 48.702326056409994, 40.94864733885278, 27.92135570279079, 22.72744299384234, 19.81319811361038, 22.336943441893627, 14.027660186470797, 12.376884974349307, 12.183963309170158, 15.068941498181822, 9.739401264015406, 10.013213322336345, 8.91004075546231, 394.90368811975463, 8.714241143764886, 7.416374764160108, 7.416330268797521, 7.21826949031051, 8.168882881924109, 7.217982166427007, 6.865579209381343, 6.668754036313895, 7.696438860457683, 7.218512929021163, 6.667637383688248, 16.332951629189797, 5.999245152106089, 7.2261940829485605, 5.4475917986631925, 5.644696562879705, 6.39588998045065, 74.11504081444883, 30.30672856402354, 75.37134453262662, 321.3385028406193, 95.47758125861608, 50.357529234677955, 14.089413746946205, 20.302249459374963, 91.65669304243116, 72.89453196133877, 184.11134491957594, 12.057391349867567, 569.479183467581, 37.29176494507318, 20.857341678327746, 43.67463122474136, 43.44903565067723, 30.510908536582566, 247.78615874546026, 39.42892165216751, 120.5016395038817, 914.9358930708362, 40.2898521091598, 69.15202243600619, 80.94542442122423, 240.46347233936308, 104.89598498164294, 89.33148646635217, 84.95231306850008, 104.72202548422386, 94.06379707019894, 83.37473386320164, 22.55003679245318, 17.04691506033444, 17.47042605091611, 13.290939824392327, 13.55706820762465, 15.993614682166234, 8.965580722607081, 8.444395963241588, 6.726713726096126, 8.982291614524781, 6.537240508732585, 6.27729717794941, 5.550088248963508, 5.5496522710293, 5.284018985331112, 5.937484403106764, 4.828172152434024, 4.563031333543234, 4.562953705926881, 4.298368793256834, 4.298213919917105, 4.298614030280452, 4.300112040196593, 4.03364660120859, 3.8417780783125357, 10.771517720157261, 3.8423441660404576, 4.037207473024867, 3.769156825349664, 3.576034627942274, 23.357974758842612, 119.955272332471, 192.66182656253082, 89.63121516617835, 144.89661346300036, 108.66919242815482, 119.44404763255942, 24.175515143949436, 157.4922430101542, 54.69282722686724, 240.46347233936308, 89.33148646635217, 35.98678527006255, 122.12557680081571, 18.153705445316945, 120.5016395038817, 24.55571057631247, 914.9358930708362, 101.13613585831831, 65.0171609747988, 95.47758125861608, 247.78615874546026, 84.98615075255069, 569.479183467581, 104.89598498164294, 67.77286539566991, 56.67792049136472, 56.268699225300445, 184.11134491957594, 83.37473386320164, 53.60964970576483, 80.94542442122423, 83.56008515611484], \"Category\": [\"Default\", \"Default\", \"Default\", \"Default\", \"Default\", \"Default\", \"Default\", \"Default\", \"Default\", \"Default\", \"Default\", \"Default\", \"Default\", \"Default\", \"Default\", \"Default\", \"Default\", \"Default\", \"Default\", \"Default\", \"Default\", \"Default\", \"Default\", \"Default\", \"Default\", \"Default\", \"Default\", \"Default\", \"Default\", \"Default\", \"Topic1\", \"Topic1\", \"Topic1\", \"Topic1\", \"Topic1\", \"Topic1\", \"Topic1\", \"Topic1\", \"Topic1\", \"Topic1\", \"Topic1\", \"Topic1\", \"Topic1\", \"Topic1\", \"Topic1\", \"Topic1\", \"Topic1\", \"Topic1\", \"Topic1\", \"Topic1\", \"Topic1\", \"Topic1\", \"Topic1\", \"Topic1\", \"Topic1\", \"Topic1\", \"Topic1\", \"Topic1\", \"Topic1\", \"Topic1\", \"Topic1\", \"Topic1\", \"Topic1\", \"Topic1\", \"Topic1\", \"Topic1\", \"Topic1\", \"Topic1\", \"Topic1\", \"Topic1\", \"Topic1\", \"Topic1\", \"Topic1\", \"Topic1\", \"Topic1\", \"Topic1\", \"Topic1\", \"Topic1\", \"Topic1\", \"Topic1\", \"Topic1\", \"Topic1\", \"Topic1\", \"Topic1\", \"Topic1\", \"Topic1\", \"Topic1\", \"Topic1\", \"Topic1\", \"Topic1\", \"Topic1\", \"Topic1\", \"Topic1\", \"Topic1\", \"Topic1\", \"Topic1\", \"Topic1\", \"Topic1\", \"Topic1\", \"Topic1\", \"Topic1\", \"Topic2\", \"Topic2\", \"Topic2\", \"Topic2\", \"Topic2\", \"Topic2\", \"Topic2\", \"Topic2\", \"Topic2\", \"Topic2\", \"Topic2\", \"Topic2\", \"Topic2\", \"Topic2\", \"Topic2\", \"Topic2\", \"Topic2\", \"Topic2\", \"Topic2\", \"Topic2\", \"Topic2\", \"Topic2\", \"Topic2\", \"Topic2\", \"Topic2\", \"Topic2\", \"Topic2\", \"Topic2\", \"Topic2\", \"Topic2\", \"Topic2\", \"Topic2\", \"Topic2\", \"Topic2\", \"Topic2\", \"Topic2\", \"Topic2\", \"Topic2\", \"Topic2\", \"Topic2\", \"Topic2\", \"Topic2\", \"Topic2\", \"Topic2\", \"Topic2\", \"Topic2\", \"Topic2\", \"Topic2\", \"Topic2\", \"Topic2\", \"Topic2\", \"Topic2\", \"Topic2\", \"Topic2\", \"Topic2\", \"Topic2\", \"Topic2\", \"Topic2\", \"Topic2\", \"Topic2\", \"Topic2\", \"Topic2\", \"Topic2\", \"Topic3\", \"Topic3\", \"Topic3\", \"Topic3\", \"Topic3\", \"Topic3\", \"Topic3\", \"Topic3\", \"Topic3\", \"Topic3\", \"Topic3\", \"Topic3\", \"Topic3\", \"Topic3\", \"Topic3\", \"Topic3\", \"Topic3\", \"Topic3\", \"Topic3\", \"Topic3\", \"Topic3\", \"Topic3\", \"Topic3\", \"Topic3\", \"Topic3\", \"Topic3\", \"Topic3\", \"Topic3\", \"Topic3\", \"Topic3\", \"Topic3\", \"Topic3\", \"Topic3\", \"Topic3\", \"Topic3\", \"Topic3\", \"Topic3\", \"Topic3\", \"Topic3\", \"Topic3\", \"Topic3\", \"Topic3\", \"Topic3\", \"Topic3\", \"Topic3\", \"Topic3\", \"Topic3\", \"Topic3\", \"Topic3\", \"Topic3\", \"Topic3\", \"Topic3\", \"Topic3\", \"Topic3\", \"Topic3\", \"Topic3\", \"Topic3\", \"Topic3\", \"Topic3\", \"Topic3\", \"Topic3\", \"Topic3\", \"Topic3\"], \"logprob\": [30.0, 29.0, 28.0, 27.0, 26.0, 25.0, 24.0, 23.0, 22.0, 21.0, 20.0, 19.0, 18.0, 17.0, 16.0, 15.0, 14.0, 13.0, 12.0, 11.0, 10.0, 9.0, 8.0, 7.0, 6.0, 5.0, 4.0, 3.0, 2.0, 1.0, -4.973599910736084, -4.868299961090088, -5.151199817657471, -5.463200092315674, -5.3343000411987305, -5.834700107574463, -6.05709981918335, -6.3180999755859375, -6.005000114440918, -6.334000110626221, -6.345799922943115, -6.318999767303467, -6.21019983291626, -6.5721001625061035, -5.668099880218506, -6.647799968719482, -6.606100082397461, -6.6707000732421875, -6.801599979400635, -6.856800079345703, -6.684899806976318, -6.587600231170654, -4.969200134277344, -6.833799839019775, -6.936800003051758, -6.684599876403809, -6.929699897766113, -6.937699794769287, -6.643700122833252, -6.911399841308594, -5.480899810791016, -4.956200122833252, -6.081299781799316, -6.673099994659424, -5.940299987792969, -6.235300064086914, -6.178699970245361, -5.3308000564575195, -5.539599895477295, -5.689799785614014, -4.671000003814697, -2.787899971008301, -4.49429988861084, -5.033199787139893, -5.810200214385986, -5.039299964904785, -5.695499897003174, -4.968299865722656, -3.5125999450683594, -5.9004998207092285, -5.788700103759766, -5.941199779510498, -4.97730016708374, -5.293600082397461, -4.424499988555908, -5.692599773406982, -5.363999843597412, -4.617300033569336, -5.288899898529053, -5.169099807739258, -5.5100998878479, -5.07390022277832, -5.49399995803833, -4.574100017547607, -5.320700168609619, -5.332499980926514, -5.022299766540527, -5.1869001388549805, -5.315899848937988, -5.3302001953125, -5.327499866485596, -4.782899856567383, -4.959099769592285, -5.347700119018555, -5.560999870300293, -5.701099872589111, -5.581900119781494, -6.062399864196777, -6.191100120544434, -6.213799953460693, -6.006800174713135, -6.4475998878479, -6.421999931335449, -6.543900012969971, -2.7537999153137207, -6.573800086975098, -6.736199855804443, -6.737400054931641, -6.765399932861328, -6.646200180053711, -6.771200180053711, -6.82289981842041, -6.853400230407715, -6.7108001708984375, -6.776599884033203, -6.857900142669678, -5.970900058746338, -6.978899955749512, -6.7941999435424805, -7.077099800109863, -7.042200088500977, -6.917699813842773, -4.518099784851074, -5.395599842071533, -4.6107001304626465, -3.3501999378204346, -4.470399856567383, -5.055699825286865, -6.188899993896484, -5.877299785614014, -4.59089994430542, -4.822500228881836, -4.098100185394287, -6.346099853515625, -3.335099935531616, -5.485199928283691, -5.92710018157959, -5.371699810028076, -5.385200023651123, -5.646500110626221, -4.2581000328063965, -5.5167999267578125, -4.86460018157959, -3.6747000217437744, -5.587299823760986, -5.332399845123291, -5.330900192260742, -4.92140007019043, -5.285099983215332, -5.350900173187256, -5.474599838256836, -5.473199844360352, -5.492400169372559, -5.52370023727417, -5.287399768829346, -5.577000141143799, -5.554100036621094, -5.83519983291626, -5.816100120544434, -5.6508002281188965, -6.25540018081665, -6.332699775695801, -6.565199851989746, -6.277200222015381, -6.5991997718811035, -6.655399799346924, -6.7795000076293945, -6.779799938201904, -6.8333001136779785, -6.729300022125244, -6.936800003051758, -7.0005998611450195, -7.001100063323975, -7.0731000900268555, -7.0777997970581055, -7.078000068664551, -7.082099914550781, -7.1508002281188965, -7.20359992980957, -6.173500061035156, -7.206200122833252, -7.160600185394287, -7.232900142669678, -7.285999774932861, -5.433300018310547, -3.863100051879883, -3.40939998626709, -4.198200225830078, -3.7483999729156494, -4.026400089263916, -4.116399765014648, -5.579599857330322, -3.9962000846862793, -4.936999797821045, -3.7711000442504883, -4.585599899291992, -5.372799873352051, -4.44290018081665, -5.904200077056885, -4.586599826812744, -5.731400012969971, -3.3366000652313232, -4.860799789428711, -5.1585001945495605, -4.9918999671936035, -4.528500080108643, -5.107100009918213, -4.169600009918213, -5.089900016784668, -5.296299934387207, -5.420499801635742, -5.428699970245361, -5.242000102996826, -5.377399921417236, -5.458499908447266, -5.453100204467773, -5.457200050354004], \"loglift\": [30.0, 29.0, 28.0, 27.0, 26.0, 25.0, 24.0, 23.0, 22.0, 21.0, 20.0, 19.0, 18.0, 17.0, 16.0, 15.0, 14.0, 13.0, 12.0, 11.0, 10.0, 9.0, 8.0, 7.0, 6.0, 5.0, 4.0, 3.0, 2.0, 1.0, 0.6886, 0.6877, 0.6866, 0.6832, 0.6811, 0.6758, 0.6719, 0.6638, 0.6636, 0.6636, 0.6634, 0.663, 0.6616, 0.6556, 0.6541, 0.6515, 0.6511, 0.6504, 0.6469, 0.6432, 0.6428, 0.641, 0.6407, 0.6406, 0.6378, 0.6377, 0.637, 0.6369, 0.6355, 0.6355, 0.6271, 0.6099, 0.6264, 0.6334, 0.6089, 0.6193, 0.6131, 0.5654, 0.5771, 0.5825, 0.5162, 0.3004, 0.452, 0.5023, 0.55, 0.4422, 0.5246, 0.3948, 0.0497, 0.5604, 0.5271, 0.5609, 0.2784, 0.3379, -0.03, 0.4716, 0.3102, -0.1928, 0.2148, 0.1215, 0.3438, 0.0282, 0.3322, -0.4395, 0.1439, 0.1325, -0.3307, -0.3392, -0.0618, -0.206, -0.6814, 1.2385, 1.2356, 1.23, 1.2225, 1.2197, 1.2189, 1.2037, 1.2001, 1.1932, 1.1876, 1.1833, 1.1812, 1.176, 1.1747, 1.1683, 1.1672, 1.166, 1.1651, 1.1605, 1.1593, 1.1576, 1.1562, 1.1555, 1.1539, 1.1519, 1.1429, 1.1366, 1.1351, 1.1348, 1.1341, 1.1337, 1.0834, 1.1001, 0.974, 0.7844, 0.8778, 0.9323, 1.0727, 1.0191, 0.7981, 0.7956, 0.5934, 1.0713, 0.2273, 0.8031, 0.9423, 0.7586, 0.7503, 0.8425, 0.1365, 0.7157, 0.2508, -0.5865, 0.6237, 0.3383, 0.1825, -0.4968, -0.031, 0.0638, -0.0096, -0.2174, -0.1293, -0.04, 1.504, 1.4941, 1.4925, 1.4848, 1.4841, 1.4841, 1.4583, 1.4408, 1.4358, 1.4347, 1.4303, 1.4147, 1.4138, 1.4135, 1.4091, 1.3965, 1.3958, 1.3885, 1.388, 1.3758, 1.3711, 1.3708, 1.3664, 1.3616, 1.3576, 1.3567, 1.3548, 1.3509, 1.3473, 1.3468, 1.3228, 1.2568, 1.2367, 1.2131, 1.1827, 1.1923, 1.0079, 1.1421, 0.8515, 0.9684, 0.6534, 0.8291, 0.9511, 0.6592, 1.104, 0.5289, 0.9747, -0.2484, 0.4298, 0.5739, 0.3563, -0.134, 0.3575, -0.6072, 0.1643, 0.3946, 0.4492, 0.4483, -0.5505, 0.1063, 0.4669, 0.0602, 0.0243]}, \"token.table\": {\"Topic\": [2, 2, 1, 2, 3, 1, 1, 1, 1, 2, 3, 3, 2, 2, 1, 2, 1, 3, 1, 2, 3, 1, 2, 3, 1, 2, 2, 1, 2, 3, 3, 1, 2, 1, 3, 1, 2, 2, 1, 2, 3, 1, 2, 3, 1, 2, 3, 1, 2, 3, 1, 2, 3, 2, 3, 1, 2, 3, 1, 1, 3, 3, 3, 1, 2, 3, 1, 2, 3, 3, 1, 2, 1, 2, 3, 1, 2, 1, 2, 3, 1, 2, 3, 1, 2, 1, 2, 3, 1, 2, 3, 2, 3, 1, 2, 3, 1, 2, 3, 1, 2, 1, 2, 3, 3, 3, 1, 2, 3, 1, 2, 2, 2, 1, 1, 2, 3, 1, 1, 2, 3, 1, 2, 3, 3, 2, 1, 2, 1, 2, 2, 1, 2, 1, 2, 1, 1, 1, 2, 3, 1, 1, 3, 1, 2, 3, 1, 3, 1, 1, 2, 1, 2, 3, 1, 2, 3, 1, 2, 3, 2, 1, 1, 3, 1, 2, 3, 1, 2, 3, 1, 2, 3, 1, 2, 3, 1, 2, 3, 1, 2, 3, 1, 2, 3, 1, 2, 1, 2, 3, 2, 3, 2, 1, 2, 3, 1, 2, 3, 1, 2, 3, 1, 1, 2, 3, 3, 1, 2, 1, 2, 3, 2, 3, 1, 2, 3, 1, 2, 3, 1, 2, 3, 1, 1, 2, 3, 2, 1, 3, 1, 3, 3, 3, 1, 2, 3, 3, 1, 2, 3, 2, 1, 2, 3, 2, 2, 3, 2, 3, 3, 1, 1, 2, 1, 2, 3, 3, 1, 1, 2, 3, 2, 1, 1, 3, 1, 2, 3, 1, 2, 1, 3, 1, 2, 3, 1, 2, 3, 1, 2, 2, 1, 2, 3, 3, 2, 2, 1, 3, 1, 2, 3, 1, 2, 3, 1, 1, 2, 1, 2, 3, 1, 2, 1, 2, 3], \"Freq\": [0.9698001239957467, 0.9697615210122724, 0.25433164874566594, 0.00519044181113604, 0.7422331789924537, 0.9658452584198204, 0.9411410529320966, 0.9583091766503584, 0.18966606631943578, 0.08925461944444037, 0.725193782986078, 0.8389180508932217, 0.9180374823255917, 0.9849154185857999, 0.6946939218203734, 0.2952449167736587, 0.09283742792611775, 0.8355368513350598, 0.3452320580966956, 0.5984022340342724, 0.04603094107955941, 0.23881755210308328, 0.7562555816597637, 0.013267641783504628, 0.13198389234093424, 0.8578953002160726, 0.8569103145657061, 0.9791900297137325, 0.899718293301526, 0.9473738601107715, 0.937874289088997, 0.9908708480361319, 0.9028260936834028, 0.8633625354319417, 0.13282500545106796, 0.9381177512960074, 0.04078772831721771, 0.9670017561970066, 0.5232851501005995, 0.3582220490621554, 0.11765135925080593, 0.16462140131943595, 0.6310487050578378, 0.20577675164929493, 0.980635463753055, 0.039225418550122196, 0.9178184574951882, 0.06636166184072434, 0.9290632657701406, 0.9462494388987676, 0.26555655285477825, 0.36514026017532014, 0.36514026017532014, 0.6555032596299126, 0.3277516298149563, 0.8604167545071537, 0.06373457440793731, 0.06373457440793731, 0.9440393538574988, 0.7778833623560922, 0.22738129053485773, 0.7807733691621658, 0.9385862452749323, 0.9448203460003168, 0.04724101730001584, 0.930585576155097, 0.9893497009734259, 0.8517032869874325, 0.14195054783123875, 0.780888416469314, 0.8644230592134481, 0.11525640789512641, 0.9658685585933592, 0.976833243574503, 0.7437438865122985, 0.9404169520684459, 0.06717263943346041, 0.565022873024021, 0.2825114365120105, 0.15302702811067237, 0.9709420936982842, 0.027741202677093835, 0.7959339817922515, 0.8972750515443462, 0.10556177076992308, 0.2760589018887876, 0.020704417641659072, 0.7039501998164084, 0.27302160281445104, 0.5212230599184974, 0.17374101997283248, 0.9679927480605965, 0.8766251550622456, 0.6721782418392733, 0.1595740216398925, 0.16831780364755786, 0.8380794727630633, 0.11590460793531726, 0.04457869535973741, 0.06122592062373024, 0.9183888093559536, 0.3205342624350465, 0.6255086092179063, 0.05290371321743486, 0.891966009601857, 0.9009573493642773, 0.3555730677884208, 0.13968941948830818, 0.5079615254120297, 0.07343562714766479, 0.9268082598636314, 0.8857872065047184, 0.899868972280712, 0.9611568693426178, 0.2014967030329214, 0.30224505454938205, 0.49254749630269673, 0.9912113845679176, 0.85163278029124, 0.05009604589948471, 0.12524011474871177, 0.8210054928196142, 0.012630853735686372, 0.16420109856392284, 0.958909389619258, 0.9240814456688109, 0.9316698992727063, 0.0887304665974006, 0.3600391734046429, 0.6327961229536149, 0.9589567464602413, 0.9650332023903828, 0.07423332326079868, 0.8544090903112583, 0.13780791779213844, 0.9580604304053465, 0.9098955855531399, 0.2949712896721792, 0.6435737229211183, 0.053631143576759854, 0.9706189869517694, 0.40186180015985673, 0.5944205794031214, 0.6952193427676648, 0.13904386855353296, 0.16685264226423954, 0.24175677680613222, 0.7586160927364839, 0.9797159857371676, 0.960423206866219, 0.8303126003988773, 0.5036406719347878, 0.14922686575845565, 0.3357604479565252, 0.3043451227467269, 0.5833281519312267, 0.10144837424890897, 0.4306555312504807, 0.18456665625020602, 0.38451386718792924, 0.9178367588458025, 0.9657672923649432, 0.9705100882789158, 0.9008865761609758, 0.35847872399623343, 0.5159921027218511, 0.12492440381686923, 0.6820107829857355, 0.08706520633860454, 0.23217388356961208, 0.9116039550850632, 0.02604582728814466, 0.05209165457628932, 0.4797616513610779, 0.2758629495326198, 0.23988082568053895, 0.576564529233363, 0.11766623045578836, 0.3059321991850497, 0.20361862404516293, 0.20361862404516293, 0.5701321473264562, 0.4323900980229199, 0.34591207841833593, 0.23472605321244222, 0.9389793141567033, 0.9695492868253692, 0.2397237422252786, 0.7191712266758358, 0.9781099133517724, 0.9855792091819903, 0.8766102416601125, 0.8739248091117224, 0.5635967749435409, 0.10876428990138508, 0.336180532422463, 0.8053705294956699, 0.04737473702915705, 0.16581157960204967, 0.658887179473001, 0.22917814938191342, 0.11458907469095671, 0.9927162025317768, 0.4671294140435892, 0.27646434708702217, 0.2573978403913655, 0.743087894304391, 0.9388597643072347, 0.054426653003317955, 0.23829604395555573, 0.7347461355296301, 0.03971600732592595, 0.6912617509782594, 0.30373622391468974, 0.3198936575364541, 0.33766552739959044, 0.33766552739959044, 0.611838362461981, 0.20802504323707355, 0.1713147414893547, 0.10970359925099223, 0.310826864544478, 0.5668019294634599, 0.9628679041407451, 0.9050363408224432, 0.06961818006326487, 0.034809090031632434, 0.9095115451334504, 0.9925139445166076, 0.9558253862946802, 0.8808372526484801, 0.11292785290365129, 0.8284708733891111, 0.9730730063740236, 0.16027611003695325, 0.6182078529996767, 0.22896587148136177, 0.892301374279936, 0.41681967109405904, 0.02778797807293727, 0.5557595614587454, 0.9267404418976487, 0.19702250275291153, 0.7880900110116461, 0.9305324860113181, 0.9438630355299664, 0.9381024405265401, 0.930619107035311, 0.28954915576026247, 0.6618266417377429, 0.9302083207620626, 0.9048919924577913, 0.9811525837067088, 0.9697288165623895, 0.8696123515999485, 0.054350771974996784, 0.07246769596666237, 0.9756081643007668, 0.9711130190141974, 0.6925995545909646, 0.06757068825277703, 0.2364974088847196, 0.8334381865099654, 0.9772492690311009, 0.3305110363321336, 0.6610220726642672, 0.48428855190120074, 0.3268947725333105, 0.1896796828279703, 0.9612881951346136, 0.06866344250961526, 0.17124772337061125, 0.8134266860104035, 0.7848880117729287, 0.09811100147161608, 0.1191347875012481, 0.41170494228030835, 0.17466270278558535, 0.4158635780609175, 0.5928966146715624, 0.4049050051415548, 0.8978634575936807, 0.42789986568655314, 0.2508378522990139, 0.3246136912104886, 0.8421074752438542, 0.8988123702432083, 0.9438573727190468, 0.11133016416244533, 0.8906413132995626, 0.5645937557796501, 0.1058613292086844, 0.33522754249416725, 0.5158624560910094, 0.07369463658442993, 0.4176029406451029, 0.989255601607084, 0.14841791732313983, 0.8500298901234371, 0.28526944304380686, 0.009202240098187318, 0.7085724875604236, 0.16587335866990557, 0.8293667933495279, 0.7441757847363917, 0.25514598333819144, 0.01063108263909131], \"Term\": [\"access\", \"adapter\", \"amazing\", \"amazing\", \"amazing\", \"assassin\", \"audio\", \"available\", \"awesome\", \"awesome\", \"awesome\", \"awsome\", \"backwards\", \"battery\", \"big\", \"big\", \"birthday\", \"birthday\", \"bit\", \"bit\", \"bit\", \"box\", \"box\", \"box\", \"brand\", \"brand\", \"bug\", \"capable\", \"chance\", \"clarity\", \"clear\", \"close\", \"code\", \"color\", \"color\", \"compatible\", \"compatible\", \"condition\", \"console\", \"console\", \"console\", \"controller\", \"controller\", \"controller\", \"cool\", \"cool\", \"crystal\", \"date\", \"date\", \"daughter\", \"day\", \"day\", \"day\", \"delivery\", \"delivery\", \"design\", \"design\", \"design\", \"detail\", \"difference\", \"difference\", \"dinner\", \"disk\", \"display\", \"display\", \"distance\", \"drive\", \"early\", \"early\", \"earth\", \"enhanced\", \"enhanced\", \"entertainment\", \"excellent\", \"exciting\", \"exclusive\", \"exclusive\", \"experience\", \"experience\", \"experience\", \"external\", \"external\", \"failure\", \"fan\", \"fan\", \"fast\", \"fast\", \"fast\", \"feature\", \"feature\", \"feature\", \"fine\", \"fire\", \"game\", \"game\", \"game\", \"gaming\", \"gaming\", \"gaming\", \"gift\", \"gift\", \"good\", \"good\", \"good\", \"gorgeous\", \"grandson\", \"graphic\", \"graphic\", \"graphic\", \"great\", \"great\", \"grip\", \"guy\", \"halo\", \"happy\", \"happy\", \"happy\", \"hard\", \"hdr\", \"hdr\", \"hdr\", \"high\", \"high\", \"high\", \"husband\", \"install\", \"internal\", \"internal\", \"issue\", \"issue\", \"item\", \"lag\", \"lag\", \"last\", \"last\", \"level\", \"line\", \"little\", \"little\", \"little\", \"living\", \"load\", \"load\", \"lot\", \"lot\", \"lot\", \"love\", \"love\", \"machine\", \"main\", \"moment\", \"money\", \"money\", \"money\", \"month\", \"month\", \"month\", \"much\", \"much\", \"much\", \"name\", \"need\", \"negative\", \"netflix\", \"new\", \"new\", \"new\", \"next\", \"next\", \"next\", \"nice\", \"nice\", \"nice\", \"old\", \"old\", \"old\", \"one\", \"one\", \"one\", \"order\", \"order\", \"order\", \"original\", \"original\", \"original\", \"output\", \"packaging\", \"pass\", \"pass\", \"penny\", \"perfect\", \"physical\", \"plastic\", \"play\", \"play\", \"play\", \"playstation\", \"playstation\", \"playstation\", \"power\", \"power\", \"power\", \"powerful\", \"price\", \"price\", \"price\", \"pricey\", \"pro\", \"pro\", \"problem\", \"problem\", \"problem\", \"product\", \"product\", \"purchase\", \"purchase\", \"purchase\", \"quality\", \"quality\", \"quality\", \"quick\", \"quick\", \"quick\", \"quieter\", \"reason\", \"reason\", \"reason\", \"rechargeable\", \"regret\", \"repair\", \"resolution\", \"resolution\", \"restart\", \"resume\", \"review\", \"review\", \"review\", \"samsung\", \"screen\", \"screen\", \"screen\", \"seller\", \"service\", \"service\", \"session\", \"shape\", \"share\", \"shipment\", \"shipping\", \"shipping\", \"sign\", \"silent\", \"size\", \"skeptical\", \"small\", \"small\", \"small\", \"son\", \"space\", \"speed\", \"speed\", \"speed\", \"steep\", \"storage\", \"super\", \"super\", \"system\", \"system\", \"system\", \"texture\", \"texture\", \"thank\", \"thank\", \"thing\", \"thing\", \"thing\", \"time\", \"time\", \"time\", \"title\", \"title\", \"ultimate\", \"upgrade\", \"upgrade\", \"upgrade\", \"valhalla\", \"want\", \"warranty\", \"watch\", \"watch\", \"way\", \"way\", \"way\", \"well\", \"well\", \"well\", \"wish\", \"work\", \"work\", \"worth\", \"worth\", \"worth\", \"wrong\", \"wrong\", \"year\", \"year\", \"year\"]}, \"R\": 30, \"lambda.step\": 0.01, \"plot.opts\": {\"xlab\": \"PC1\", \"ylab\": \"PC2\"}, \"topic.order\": [1, 2, 3]};\n",
       "\n",
       "function LDAvis_load_lib(url, callback){\n",
       "  var s = document.createElement('script');\n",
       "  s.src = url;\n",
       "  s.async = true;\n",
       "  s.onreadystatechange = s.onload = callback;\n",
       "  s.onerror = function(){console.warn(\"failed to load library \" + url);};\n",
       "  document.getElementsByTagName(\"head\")[0].appendChild(s);\n",
       "}\n",
       "\n",
       "if(typeof(LDAvis) !== \"undefined\"){\n",
       "   // already loaded: just create the visualization\n",
       "   !function(LDAvis){\n",
       "       new LDAvis(\"#\" + \"ldavis_el2040822460551721282513781382\", ldavis_el2040822460551721282513781382_data);\n",
       "   }(LDAvis);\n",
       "}else if(typeof define === \"function\" && define.amd){\n",
       "   // require.js is available: use it to load d3/LDAvis\n",
       "   require.config({paths: {d3: \"https://cdnjs.cloudflare.com/ajax/libs/d3/3.5.5/d3.min\"}});\n",
       "   require([\"d3\"], function(d3){\n",
       "      window.d3 = d3;\n",
       "      LDAvis_load_lib(\"https://cdn.rawgit.com/bmabey/pyLDAvis/files/ldavis.v1.0.0.js\", function(){\n",
       "        new LDAvis(\"#\" + \"ldavis_el2040822460551721282513781382\", ldavis_el2040822460551721282513781382_data);\n",
       "      });\n",
       "    });\n",
       "}else{\n",
       "    // require.js not available: dynamically load d3 & LDAvis\n",
       "    LDAvis_load_lib(\"https://cdnjs.cloudflare.com/ajax/libs/d3/3.5.5/d3.min.js\", function(){\n",
       "         LDAvis_load_lib(\"https://cdn.rawgit.com/bmabey/pyLDAvis/files/ldavis.v1.0.0.js\", function(){\n",
       "                 new LDAvis(\"#\" + \"ldavis_el2040822460551721282513781382\", ldavis_el2040822460551721282513781382_data);\n",
       "            })\n",
       "         });\n",
       "}\n",
       "</script>"
      ],
      "text/plain": [
       "PreparedData(topic_coordinates=              x         y  topics  cluster       Freq\n",
       "topic                                                \n",
       "0      0.025186 -0.108661       1        1  49.790035\n",
       "1     -0.140891  0.038332       2        1  28.598451\n",
       "2      0.115705  0.070329       3        1  21.611514, topic_info=           Term        Freq       Total Category  logprob  loglift\n",
       "25        great  394.000000  394.000000  Default  30.0000  30.0000\n",
       "0       amazing  192.000000  192.000000  Default  29.0000  29.0000\n",
       "39         fast  144.000000  144.000000  Default  28.0000  28.0000\n",
       "203        love  119.000000  119.000000  Default  27.0000  27.0000\n",
       "72         good  321.000000  321.000000  Default  26.0000  26.0000\n",
       "..          ...         ...         ...      ...      ...      ...\n",
       "33          new   22.945643  184.111345   Topic3  -5.2420  -0.5505\n",
       "89          old   20.039418   83.374734   Topic3  -5.3774   0.1063\n",
       "817       money   18.479919   53.609650   Topic3  -5.4585   0.4669\n",
       "452    original   18.579227   80.945424   Topic3  -5.4531   0.0602\n",
       "122  difference   18.503154   83.560085   Topic3  -5.4572   0.0243\n",
       "\n",
       "[227 rows x 6 columns], token_table=      Topic      Freq     Term\n",
       "term                          \n",
       "340       2  0.969800   access\n",
       "341       2  0.969762  adapter\n",
       "0         1  0.254332  amazing\n",
       "0         2  0.005190  amazing\n",
       "0         3  0.742233  amazing\n",
       "...     ...       ...      ...\n",
       "733       1  0.165873    wrong\n",
       "733       2  0.829367    wrong\n",
       "37        1  0.744176     year\n",
       "37        2  0.255146     year\n",
       "37        3  0.010631     year\n",
       "\n",
       "[307 rows x 3 columns], R=30, lambda_step=0.01, plot_opts={'xlab': 'PC1', 'ylab': 'PC2'}, topic_order=[1, 2, 3])"
      ]
     },
     "execution_count": 153,
     "metadata": {},
     "output_type": "execute_result"
    }
   ],
   "source": [
    "pyLDAvis.enable_notebook()\n",
    "vis = pyLDAvis.gensim.prepare(lda_model, doc_term_matrix, dictionary)\n",
    "vis"
   ]
  },
  {
   "cell_type": "markdown",
   "metadata": {},
   "source": [
    "As can be seen above, there are 3 topics which are clearly separated.<br>Based on the words within each topic, I can take a reasonable guess as to what the topics are about:<br>\n",
    "\n",
    "Topic 1: The topic seems to be on the power and quality of the system: powerful, drive, graphic, quality, amazing<br>\n",
    "Topic 2: The topic seems to on the condition of the Xbox and the controller: perfect, controller, excellent, condition<br>\n",
    "Topic 3: The topic is focused on the speed of the Xbox: fast, time, awesome, quick<br>\n",
    "\n",
    "Based on the reviews, it seems most customers were happy on how quick the system was,the graphics, and the experience.<br>\n",
    "There were also positive reviews based on the controller, firmware, size, and features.<br>Furthermore, there seems to be positive reviews on the size and quality of the system with some consumers calling the product perfect."
   ]
  },
  {
   "cell_type": "markdown",
   "metadata": {},
   "source": [
    "#                              Data Cleaning (Xbox One X Negative Reviews)\n",
    "\n",
    "The following section is done in order to prepare the Xbox One X negative reviews for the LDA model.\n",
    "The data will need to be split, tokenized, and lemmatized in order to prepare it for the model.\n",
    "Visualizations will also be built in order to take a better look at the data."
   ]
  },
  {
   "cell_type": "markdown",
   "metadata": {},
   "source": [
    "Here is a frequency bar graph for the negative Xbox One X negative comments:"
   ]
  },
  {
   "cell_type": "code",
   "execution_count": 156,
   "metadata": {},
   "outputs": [
    {
     "data": {
      "image/png": "[encoded data removed]",
      "text/plain": [
       "<Figure size 1440x360 with 1 Axes>"
      ]
     },
     "metadata": {
      "needs_background": "light"
     },
     "output_type": "display_data"
    }
   ],
   "source": [
    "freq_words(xboxonex_negative['comment'])"
   ]
  },
  {
   "cell_type": "markdown",
   "metadata": {},
   "source": [
    "Looking above, it seems most of the most frequent words are \"the\", \"and\", and \"for\".<br>But these are not necessary words because these words don't show true sentiment.<br>The dataset will need to be cleaned further in order to prepare this dataset for the model."
   ]
  },
  {
   "cell_type": "markdown",
   "metadata": {},
   "source": [
    "This code removes the characters and samples from the text dataset:"
   ]
  },
  {
   "cell_type": "code",
   "execution_count": 158,
   "metadata": {},
   "outputs": [],
   "source": [
    "xboxonex_negative['comment'] = xboxonex_negative['comment'].str.replace(\"[^a-zA-Z#]\",\" \")"
   ]
  },
  {
   "cell_type": "markdown",
   "metadata": {},
   "source": [
    "The following code is run in order to remove short words (length < 3) to make the data cleaner:"
   ]
  },
  {
   "cell_type": "code",
   "execution_count": 159,
   "metadata": {},
   "outputs": [],
   "source": [
    "xboxonex_negative['comment'] = xboxonex_negative['comment'].apply(lambda x: ' '.join([w for w in x.split() if len(w) > 2]))"
   ]
  },
  {
   "cell_type": "markdown",
   "metadata": {},
   "source": [
    "This code removes the stopwords from the dataset:"
   ]
  },
  {
   "cell_type": "code",
   "execution_count": 160,
   "metadata": {},
   "outputs": [],
   "source": [
    "reviews = [remove_stopwords(r.split()) for r in xboxonex_negative['comment']]"
   ]
  },
  {
   "cell_type": "markdown",
   "metadata": {},
   "source": [
    "This code makes the text lowercase:"
   ]
  },
  {
   "cell_type": "code",
   "execution_count": 161,
   "metadata": {},
   "outputs": [],
   "source": [
    "reviews = [r.lower() for r in reviews]"
   ]
  },
  {
   "cell_type": "code",
   "execution_count": 162,
   "metadata": {},
   "outputs": [
    {
     "data": {
      "image/png": "[encoded data removed]",
      "text/plain": [
       "<Figure size 1440x360 with 1 Axes>"
      ]
     },
     "metadata": {
      "needs_background": "light"
     },
     "output_type": "display_data"
    }
   ],
   "source": [
    "freq_words(reviews, 20)"
   ]
  },
  {
   "cell_type": "markdown",
   "metadata": {},
   "source": [
    "Re-running a frequency bar graph on the data, it seems the stopwords have been removed and the reviews are getting closer to be used for the model.<br>The next step is to lemmatize the data."
   ]
  },
  {
   "cell_type": "markdown",
   "metadata": {},
   "source": [
    "Here, the reviews are tokenized:"
   ]
  },
  {
   "cell_type": "code",
   "execution_count": 164,
   "metadata": {},
   "outputs": [
    {
     "name": "stdout",
     "output_type": "stream",
     "text": [
      "['hope', 'never', 'sell']\n"
     ]
    }
   ],
   "source": [
    "tokenized_reviews = pd.Series(reviews).apply(lambda x: x.split())\n",
    "print(tokenized_reviews[1])"
   ]
  },
  {
   "cell_type": "markdown",
   "metadata": {},
   "source": [
    "Below, the reviews are lemmatized:"
   ]
  },
  {
   "cell_type": "code",
   "execution_count": 165,
   "metadata": {},
   "outputs": [
    {
     "name": "stdout",
     "output_type": "stream",
     "text": [
      "['stock', 'replenish', 'game', 'compatible', 'feed', 'troll']\n"
     ]
    }
   ],
   "source": [
    "reviews_2 = lemmatization(tokenized_reviews)\n",
    "print(reviews_2[2]) "
   ]
  },
  {
   "cell_type": "markdown",
   "metadata": {},
   "source": [
    "The following code is run in order to append the reviews to a new dataframe in order to show a frequency graph \n",
    "of the lemmatized reviews later on:"
   ]
  },
  {
   "cell_type": "code",
   "execution_count": 166,
   "metadata": {},
   "outputs": [],
   "source": [
    "reviews_3 = []\n",
    "for i in range(len(reviews_2)):\n",
    "    reviews_3.append(' '.join(reviews_2[i]))\n",
    "\n",
    "xboxonex_negative['reviews'] = reviews_3"
   ]
  },
  {
   "cell_type": "code",
   "execution_count": 167,
   "metadata": {},
   "outputs": [
    {
     "data": {
      "image/png": "[encoded data removed]",
      "text/plain": [
       "<Figure size 1440x360 with 1 Axes>"
      ]
     },
     "metadata": {
      "needs_background": "light"
     },
     "output_type": "display_data"
    }
   ],
   "source": [
    "freq_words(xboxonex_negative['reviews'], 20)"
   ]
  },
  {
   "cell_type": "markdown",
   "metadata": {},
   "source": [
    "As can be seen, the tokens are now cleaner as words such as \"game\", \"system\", and \"hour\" are now clearly showing in the dataset.<br>The dataset is now ready for model building."
   ]
  },
  {
   "cell_type": "markdown",
   "metadata": {},
   "source": [
    "#                                              LDA Model (Xbox One X Negative Reviews)"
   ]
  },
  {
   "cell_type": "markdown",
   "metadata": {},
   "source": [
    "The code below is run in order to incorporate the reviews into a dictionary in order to set up the LDA Model."
   ]
  },
  {
   "cell_type": "code",
   "execution_count": 169,
   "metadata": {},
   "outputs": [],
   "source": [
    "dictionary = corpora.Dictionary(reviews_2)\n",
    "doc_term_matrix = [dictionary.doc2bow(rev) for rev in reviews_2]"
   ]
  },
  {
   "cell_type": "markdown",
   "metadata": {},
   "source": [
    "Next, the LDA Model is imported and the next lines of code are run in order to build the model.<br>\n",
    "The number of topics I chose through trial and error were 4."
   ]
  },
  {
   "cell_type": "code",
   "execution_count": 170,
   "metadata": {},
   "outputs": [],
   "source": [
    "LDA = gensim.models.ldamodel.LdaModel\n",
    "\n",
    "lda_model = LDA(corpus = doc_term_matrix, \n",
    "                id2word = dictionary,\n",
    "                num_topics = 4,\n",
    "                random_state = 100,\n",
    "                chunksize = 1000,\n",
    "                passes = 50)"
   ]
  },
  {
   "cell_type": "markdown",
   "metadata": {},
   "source": [
    "Here, this code is being run to print the topics and the words associated with it:"
   ]
  },
  {
   "cell_type": "code",
   "execution_count": 171,
   "metadata": {},
   "outputs": [
    {
     "data": {
      "text/plain": [
       "[(0,\n",
       "  '0.030*\"game\" + 0.017*\"day\" + 0.017*\"time\" + 0.012*\"problem\" + 0.012*\"week\" + 0.010*\"console\" + 0.010*\"work\" + 0.010*\"error\" + 0.010*\"issue\" + 0.009*\"thing\"'),\n",
       " (1,\n",
       "  '0.039*\"game\" + 0.021*\"console\" + 0.020*\"time\" + 0.018*\"new\" + 0.017*\"system\" + 0.013*\"issue\" + 0.012*\"good\" + 0.009*\"old\" + 0.008*\"bad\" + 0.007*\"controller\"'),\n",
       " (2,\n",
       "  '0.014*\"issue\" + 0.011*\"game\" + 0.011*\"system\" + 0.010*\"time\" + 0.010*\"hour\" + 0.010*\"disk\" + 0.009*\"box\" + 0.007*\"internet\" + 0.007*\"new\" + 0.007*\"pass\"'),\n",
       " (3,\n",
       "  '0.037*\"console\" + 0.023*\"month\" + 0.018*\"game\" + 0.014*\"product\" + 0.013*\"year\" + 0.012*\"problem\" + 0.011*\"new\" + 0.011*\"money\" + 0.010*\"warranty\" + 0.010*\"day\"')]"
      ]
     },
     "execution_count": 171,
     "metadata": {},
     "output_type": "execute_result"
    }
   ],
   "source": [
    "lda_model.print_topics()"
   ]
  },
  {
   "cell_type": "markdown",
   "metadata": {},
   "source": [
    "This code is run to visualize the LDA model into a graphical bubble plot:"
   ]
  },
  {
   "cell_type": "code",
   "execution_count": null,
   "metadata": {},
   "outputs": [],
   "source": [
    "pyLDAvis.enable_notebook()\n",
    "vis = pyLDAvis.gensim.prepare(lda_model, doc_term_matrix, dictionary)\n",
    "vis"
   ]
  },
  {
   "cell_type": "markdown",
   "metadata": {},
   "source": [
    "As can be seen above, there are 4 topics which are clearly separated.<br>Based on the words within each topic, I can take a reasonable guess as to what the topics are about:<br>                                    \n",
    "\n",
    "Topic 1: Possible issues with the price of the product: issue, price, bad, product<br>\n",
    "Topic 2: Possible issues with the warranty and customer service: problem, warranty, customer, service<br>\n",
    "Topic 3: Topic is on product defects: error, issue, factory, product, reset<br>\n",
    "Topic 4: Possible issues with scammers for the product as well as calls for replacements: disc, box, internet, scam, replacement<br>\n",
    "\n",
    "Based on the topics, it looks like there were more issues with Xbox One X than the Playstation 4 by comparison.<br>\n",
    "The price of the system seemed to be an issue.<br>It also seems there were possible issues with customer support as customers were calling to replace their Xbox One X.<br>Also, the issues pertain as well to the product defects as there are reviews were people needed to reset their machines.\n"
   ]
  },
  {
   "cell_type": "markdown",
   "metadata": {},
   "source": [
    "#                                        Data Splitting: Xbox One X Reviews"
   ]
  },
  {
   "cell_type": "markdown",
   "metadata": {},
   "source": [
    "Here, the Xbox One X reviews are split into the positive set with ratings >= 4:"
   ]
  },
  {
   "cell_type": "code",
   "execution_count": 175,
   "metadata": {},
   "outputs": [
    {
     "data": {
      "text/html": [
       "<div>\n",
       "<style scoped>\n",
       "    .dataframe tbody tr th:only-of-type {\n",
       "        vertical-align: middle;\n",
       "    }\n",
       "\n",
       "    .dataframe tbody tr th {\n",
       "        vertical-align: top;\n",
       "    }\n",
       "\n",
       "    .dataframe thead th {\n",
       "        text-align: right;\n",
       "    }\n",
       "</style>\n",
       "<table border=\"1\" class=\"dataframe\">\n",
       "  <thead>\n",
       "    <tr style=\"text-align: right;\">\n",
       "      <th></th>\n",
       "      <th>stars</th>\n",
       "      <th>comment</th>\n",
       "    </tr>\n",
       "  </thead>\n",
       "  <tbody>\n",
       "    <tr>\n",
       "      <th>5</th>\n",
       "      <td>5</td>\n",
       "      <td>Your browser does not support HTML5 video....</td>\n",
       "    </tr>\n",
       "    <tr>\n",
       "      <th>6</th>\n",
       "      <td>5</td>\n",
       "      <td>Do you actually need this review? No...</td>\n",
       "    </tr>\n",
       "    <tr>\n",
       "      <th>7</th>\n",
       "      <td>4</td>\n",
       "      <td>So, yeah, new generation of hardware...</td>\n",
       "    </tr>\n",
       "    <tr>\n",
       "      <th>8</th>\n",
       "      <td>5</td>\n",
       "      <td>As soon as I opened the package I wa...</td>\n",
       "    </tr>\n",
       "    <tr>\n",
       "      <th>9</th>\n",
       "      <td>5</td>\n",
       "      <td>Really great product, a few bugs whe...</td>\n",
       "    </tr>\n",
       "  </tbody>\n",
       "</table>\n",
       "</div>"
      ],
      "text/plain": [
       "   stars                                            comment\n",
       "5      5      Your browser does not support HTML5 video....\n",
       "6      5            Do you actually need this review? No...\n",
       "7      4            So, yeah, new generation of hardware...\n",
       "8      5            As soon as I opened the package I wa...\n",
       "9      5            Really great product, a few bugs whe..."
      ]
     },
     "execution_count": 175,
     "metadata": {},
     "output_type": "execute_result"
    }
   ],
   "source": [
    "positive =  xboxseriesxreviews['stars'] >= 4\n",
    "xboxseriesxreviews_positive = xboxseriesxreviews[positive]\n",
    "xboxseriesxreviews_positive.head(5)"
   ]
  },
  {
   "cell_type": "code",
   "execution_count": 176,
   "metadata": {},
   "outputs": [
    {
     "data": {
      "text/plain": [
       "(448, 2)"
      ]
     },
     "execution_count": 176,
     "metadata": {},
     "output_type": "execute_result"
    }
   ],
   "source": [
    "xboxseriesxreviews_positive.shape"
   ]
  },
  {
   "cell_type": "markdown",
   "metadata": {},
   "source": [
    "There are 448 reviews with 3 columns in the dataset."
   ]
  },
  {
   "cell_type": "markdown",
   "metadata": {},
   "source": [
    "Below the Xbox One X reviews are split into negative set with ratings <= 3:"
   ]
  },
  {
   "cell_type": "code",
   "execution_count": 178,
   "metadata": {},
   "outputs": [
    {
     "data": {
      "text/html": [
       "<div>\n",
       "<style scoped>\n",
       "    .dataframe tbody tr th:only-of-type {\n",
       "        vertical-align: middle;\n",
       "    }\n",
       "\n",
       "    .dataframe tbody tr th {\n",
       "        vertical-align: top;\n",
       "    }\n",
       "\n",
       "    .dataframe thead th {\n",
       "        text-align: right;\n",
       "    }\n",
       "</style>\n",
       "<table border=\"1\" class=\"dataframe\">\n",
       "  <thead>\n",
       "    <tr style=\"text-align: right;\">\n",
       "      <th></th>\n",
       "      <th>stars</th>\n",
       "      <th>comment</th>\n",
       "    </tr>\n",
       "  </thead>\n",
       "  <tbody>\n",
       "    <tr>\n",
       "      <th>0</th>\n",
       "      <td>1</td>\n",
       "      <td>This isn't because there aren't many...</td>\n",
       "    </tr>\n",
       "    <tr>\n",
       "      <th>1</th>\n",
       "      <td>1</td>\n",
       "      <td>Console powered down the first day. ...</td>\n",
       "    </tr>\n",
       "    <tr>\n",
       "      <th>2</th>\n",
       "      <td>1</td>\n",
       "      <td>Well got it on launch day. Suffered ...</td>\n",
       "    </tr>\n",
       "    <tr>\n",
       "      <th>3</th>\n",
       "      <td>1</td>\n",
       "      <td>Defective at launch, love it lots.:(</td>\n",
       "    </tr>\n",
       "    <tr>\n",
       "      <th>4</th>\n",
       "      <td>3</td>\n",
       "      <td>Honestly the same as the Xbox one ju...</td>\n",
       "    </tr>\n",
       "  </tbody>\n",
       "</table>\n",
       "</div>"
      ],
      "text/plain": [
       "   stars                                            comment\n",
       "0      1            This isn't because there aren't many...\n",
       "1      1            Console powered down the first day. ...\n",
       "2      1            Well got it on launch day. Suffered ...\n",
       "3      1             Defective at launch, love it lots.:(  \n",
       "4      3            Honestly the same as the Xbox one ju..."
      ]
     },
     "execution_count": 178,
     "metadata": {},
     "output_type": "execute_result"
    }
   ],
   "source": [
    "negative =  xboxseriesxreviews['stars'] <= 3\n",
    "xboxseriesxreviews_negative = xboxseriesxreviews[negative]\n",
    "xboxseriesxreviews_negative.head(5)"
   ]
  },
  {
   "cell_type": "code",
   "execution_count": 179,
   "metadata": {},
   "outputs": [
    {
     "data": {
      "text/plain": [
       "(115, 2)"
      ]
     },
     "execution_count": 179,
     "metadata": {},
     "output_type": "execute_result"
    }
   ],
   "source": [
    "xboxseriesxreviews_negative.shape"
   ]
  },
  {
   "cell_type": "markdown",
   "metadata": {},
   "source": [
    "There are 115 reviews with 3 columns in the dataset."
   ]
  },
  {
   "cell_type": "markdown",
   "metadata": {},
   "source": [
    "#                         Data Cleaning (Xbox Series X Positive Reviews)\n",
    "\n",
    "The following section is done in order to prepare the Xbox Series X positive reviews for the LDA model.\n",
    "The data will need to be split, tokenized, and lemmatized in order to prepare it for the model.\n",
    "Visualizations will also be built in order to take a better look at the data."
   ]
  },
  {
   "cell_type": "markdown",
   "metadata": {},
   "source": [
    "Here is a frequency bar graph of the positive reviews:"
   ]
  },
  {
   "cell_type": "code",
   "execution_count": 182,
   "metadata": {},
   "outputs": [
    {
     "data": {
      "image/png": "[encoded data removed]",
      "text/plain": [
       "<Figure size 1440x360 with 1 Axes>"
      ]
     },
     "metadata": {
      "needs_background": "light"
     },
     "output_type": "display_data"
    }
   ],
   "source": [
    "freq_words(xboxseriesxreviews_positive['comment'])"
   ]
  },
  {
   "cell_type": "markdown",
   "metadata": {},
   "source": [
    "Looking above, it seems most of the most frequent words are \"the\", \"and\", and \"for\".<br>But these are not necessary words because these words don't show true sentiment.<br>The dataset will need to be cleaned further in order to prepare this dataset for the model."
   ]
  },
  {
   "cell_type": "markdown",
   "metadata": {},
   "source": [
    "This code removes the characters and samples from the text dataset:"
   ]
  },
  {
   "cell_type": "code",
   "execution_count": 184,
   "metadata": {},
   "outputs": [],
   "source": [
    "xboxseriesxreviews_positive['comment'] = xboxseriesxreviews_positive['comment'].str.replace(\"[^a-zA-Z#]\",\" \")"
   ]
  },
  {
   "cell_type": "markdown",
   "metadata": {},
   "source": [
    "The following code is run in order to remove short words (length < 3) to make the data cleaner:"
   ]
  },
  {
   "cell_type": "code",
   "execution_count": 185,
   "metadata": {},
   "outputs": [],
   "source": [
    "xboxseriesxreviews_positive['comment'] = xboxseriesxreviews_positive['comment'].apply(lambda x: ' '.join([w for w in x.split() if len(w) > 2]))"
   ]
  },
  {
   "cell_type": "markdown",
   "metadata": {},
   "source": [
    "The following removes the stopwords from the text:"
   ]
  },
  {
   "cell_type": "code",
   "execution_count": 186,
   "metadata": {},
   "outputs": [],
   "source": [
    "reviews = [remove_stopwords(r.split()) for r in xboxseriesxreviews_positive['comment']]"
   ]
  },
  {
   "cell_type": "markdown",
   "metadata": {},
   "source": [
    "The folowing turns the reviews lowercase:"
   ]
  },
  {
   "cell_type": "code",
   "execution_count": 187,
   "metadata": {},
   "outputs": [],
   "source": [
    "reviews = [r.lower() for r in reviews]"
   ]
  },
  {
   "cell_type": "code",
   "execution_count": 188,
   "metadata": {},
   "outputs": [
    {
     "data": {
      "image/png": "[encoded data removed]",
      "text/plain": [
       "<Figure size 1440x360 with 1 Axes>"
      ]
     },
     "metadata": {
      "needs_background": "light"
     },
     "output_type": "display_data"
    }
   ],
   "source": [
    "freq_words(reviews, 20)"
   ]
  },
  {
   "cell_type": "markdown",
   "metadata": {},
   "source": [
    "Re-running a frequency bar graph on the data, it seems the stopwords have been removed and the reviews are getting close to being used for the model.<br>The next step is to lemmatize the data."
   ]
  },
  {
   "cell_type": "markdown",
   "metadata": {},
   "source": [
    "Below, the reviews are tokenized:"
   ]
  },
  {
   "cell_type": "code",
   "execution_count": 190,
   "metadata": {},
   "outputs": [
    {
     "name": "stdout",
     "output_type": "stream",
     "text": [
      "['actually', 'need', 'review', 'you', 'know', 'buying', 'idk', 'even', 'scrolled', 'reading', 'the', 'console', 'still', 'stock', 'teasing', 'looking', 'listingor', 'back', 'stock', 'reading', 'review', 'goes', 'back', 'stock', 'good', 'job', 'wasting', 'time']\n"
     ]
    }
   ],
   "source": [
    "tokenized_reviews = pd.Series(reviews).apply(lambda x: x.split())\n",
    "print(tokenized_reviews[1])"
   ]
  },
  {
   "cell_type": "markdown",
   "metadata": {},
   "source": [
    "Below, the reviews are lemmatized:"
   ]
  },
  {
   "cell_type": "code",
   "execution_count": 191,
   "metadata": {},
   "outputs": [
    {
     "name": "stdout",
     "output_type": "stream",
     "text": [
      "['review', 'console', 'teasing', 'listingor', 'stock', 'reading', 'review', 'stock', 'good', 'job', 'time']\n"
     ]
    }
   ],
   "source": [
    "reviews_2 = lemmatization(tokenized_reviews)\n",
    "print(reviews_2[1]) "
   ]
  },
  {
   "cell_type": "markdown",
   "metadata": {},
   "source": [
    "The following code is run in order to append the reviews to a new dataframe in order to show a frequency graph \n",
    "of the lemmatized reviews later on:"
   ]
  },
  {
   "cell_type": "code",
   "execution_count": 192,
   "metadata": {},
   "outputs": [],
   "source": [
    "reviews_3 = []\n",
    "for i in range(len(reviews_2)):\n",
    "    reviews_3.append(' '.join(reviews_2[i]))\n",
    "\n",
    "xboxseriesxreviews_positive['reviews'] = reviews_3"
   ]
  },
  {
   "cell_type": "code",
   "execution_count": 193,
   "metadata": {},
   "outputs": [
    {
     "data": {
      "image/png": "[encoded data removed]",
      "text/plain": [
       "<Figure size 1440x360 with 1 Axes>"
      ]
     },
     "metadata": {
      "needs_background": "light"
     },
     "output_type": "display_data"
    }
   ],
   "source": [
    "freq_words(xboxseriesxreviews_positive['reviews'], 20)"
   ]
  },
  {
   "cell_type": "markdown",
   "metadata": {},
   "source": [
    "As can be seen, the tokens are now cleaner as words such as \"game\", \"system\", and \"hour\" are now clearly showing in the dataset.<br>The dataset is now ready for model building."
   ]
  },
  {
   "cell_type": "markdown",
   "metadata": {},
   "source": [
    "#                                        LDA Model (Xbox Series X Positive Reviews)"
   ]
  },
  {
   "cell_type": "markdown",
   "metadata": {},
   "source": [
    "The code below is run in order to incorporate the reviews into a dictionary in order to set up the LDA Model."
   ]
  },
  {
   "cell_type": "code",
   "execution_count": 195,
   "metadata": {},
   "outputs": [],
   "source": [
    "dictionary = corpora.Dictionary(reviews_2)\n",
    "doc_term_matrix = [dictionary.doc2bow(rev) for rev in reviews_2]"
   ]
  },
  {
   "cell_type": "markdown",
   "metadata": {},
   "source": [
    "Next, the LDA Model is imported and the next lines of code are run in order to build the model.<br>\n",
    "The number of topics chosen through trial and error were 3."
   ]
  },
  {
   "cell_type": "code",
   "execution_count": 196,
   "metadata": {},
   "outputs": [],
   "source": [
    "LDA = gensim.models.ldamodel.LdaModel\n",
    "\n",
    "lda_model = LDA(corpus = doc_term_matrix, \n",
    "                id2word = dictionary,\n",
    "                num_topics = 3,\n",
    "                random_state = 100,\n",
    "                chunksize = 1000,\n",
    "                passes = 50)"
   ]
  },
  {
   "cell_type": "markdown",
   "metadata": {},
   "source": [
    "Here, this code is being run to print the topics and the words associated with it:"
   ]
  },
  {
   "cell_type": "code",
   "execution_count": 197,
   "metadata": {},
   "outputs": [
    {
     "data": {
      "text/plain": [
       "[(0,\n",
       "  '0.052*\"game\" + 0.032*\"time\" + 0.024*\"console\" + 0.023*\"amazing\" + 0.021*\"good\" + 0.019*\"fast\" + 0.017*\"load\" + 0.013*\"next\" + 0.013*\"system\" + 0.012*\"thing\"'),\n",
       " (1,\n",
       "  '0.023*\"game\" + 0.022*\"console\" + 0.018*\"day\" + 0.018*\"new\" + 0.011*\"series\" + 0.009*\"experience\" + 0.009*\"old\" + 0.007*\"thing\" + 0.007*\"work\" + 0.007*\"title\"'),\n",
       " (2,\n",
       "  '0.048*\"game\" + 0.040*\"great\" + 0.031*\"console\" + 0.015*\"new\" + 0.013*\"system\" + 0.010*\"controller\" + 0.010*\"love\" + 0.009*\"series\" + 0.009*\"ssd\" + 0.009*\"speed\"')]"
      ]
     },
     "execution_count": 197,
     "metadata": {},
     "output_type": "execute_result"
    }
   ],
   "source": [
    "lda_model.print_topics()"
   ]
  },
  {
   "cell_type": "markdown",
   "metadata": {},
   "source": [
    "This code is run to visualize the LDA model into a graphical bubble plot:"
   ]
  },
  {
   "cell_type": "code",
   "execution_count": 198,
   "metadata": {},
   "outputs": [
    {
     "data": {
      "text/html": [
       "\n",
       "<link rel=\"stylesheet\" type=\"text/css\" href=\"https://cdn.rawgit.com/bmabey/pyLDAvis/files/ldavis.v1.0.0.css\">\n",
       "\n",
       "\n",
       "<div id=\"ldavis_el2040822460556294244265252668\"></div>\n",
       "<script type=\"text/javascript\">\n",
       "\n",
       "var ldavis_el2040822460556294244265252668_data = {\"mdsDat\": {\"x\": [0.09581392622785637, -0.010753820434648084, -0.08506010579320825], \"y\": [0.03637395088764577, -0.08854033176113743, 0.05216638087349165], \"topics\": [1, 2, 3], \"cluster\": [1, 1, 1], \"Freq\": [46.67621790053349, 30.308407981490348, 23.01537411797616]}, \"tinfo\": {\"Term\": [\"great\", \"load\", \"fast\", \"day\", \"ssd\", \"time\", \"next\", \"new\", \"experience\", \"speed\", \"issue\", \"title\", \"full\", \"performance\", \"review\", \"setup\", \"huge\", \"thing\", \"console\", \"old\", \"fun\", \"work\", \"good\", \"bad\", \"fantastic\", \"hour\", \"easy\", \"high\", \"well\", \"hdr\", \"purchase\", \"huge\", \"load\", \"beast\", \"lucky\", \"large\", \"minute\", \"fast\", \"man\", \"money\", \"available\", \"look\", \"excellent\", \"sleek\", \"playing\", \"next\", \"resume\", \"travel\", \"room\", \"multiple\", \"open\", \"medium\", \"ready\", \"backward\", \"boy\", \"video\", \"butter\", \"non\", \"second\", \"alot\", \"time\", \"playstation\", \"well\", \"good\", \"amazing\", \"play\", \"machine\", \"thing\", \"difference\", \"job\", \"beautiful\", \"game\", \"way\", \"powerful\", \"happy\", \"last\", \"worth\", \"quick\", \"console\", \"system\", \"graphic\", \"upgrade\", \"quiet\", \"product\", \"loading\", \"series\", \"hand\", \"generation\", \"new\", \"great\", \"day\", \"ssd\", \"full\", \"internal\", \"fps\", \"processing\", \"want\", \"port\", \"respect\", \"steady\", \"reliable\", \"impressive\", \"dollar\", \"style\", \"complaint\", \"charge\", \"stable\", \"stupid\", \"framerate\", \"functionality\", \"premium\", \"canadian\", \"rdna\", \"slow\", \"entire\", \"air\", \"technical\", \"know\", \"teraflop\", \"account\", \"disappointing\", \"expansion\", \"speed\", \"great\", \"performance\", \"battery\", \"pass\", \"high\", \"party\", \"heavy\", \"solid\", \"bug\", \"due\", \"overall\", \"horizon\", \"issue\", \"controller\", \"game\", \"console\", \"love\", \"new\", \"system\", \"title\", \"power\", \"nice\", \"value\", \"spec\", \"software\", \"able\", \"lack\", \"quiet\", \"series\", \"experience\", \"quick\", \"old\", \"feature\", \"launch\", \"amazing\", \"gaming\", \"time\", \"good\", \"day\", \"graphic\", \"screw\", \"condition\", \"star\", \"far\", \"xbox\", \"upscaling\", \"husband\", \"terrible\", \"pandemic\", \"significant\", \"user\", \"lid\", \"final\", \"section\", \"foam\", \"recharge\", \"feel\", \"legacy\", \"hitch\", \"evolutionary\", \"industry\", \"obvious\", \"unboxing\", \"behold\", \"weight\", \"child\", \"door\", \"few\", \"offer\", \"hdr\", \"fun\", \"point\", \"bad\", \"day\", \"whole\", \"hour\", \"review\", \"experience\", \"setup\", \"work\", \"fantastic\", \"new\", \"update\", \"easy\", \"delivery\", \"old\", \"title\", \"order\", \"console\", \"series\", \"big\", \"issue\", \"awesome\", \"game\", \"launch\", \"thing\", \"release\", \"box\", \"year\", \"system\", \"great\", \"time\", \"good\", \"amazing\"], \"Freq\": [96.0, 47.0, 54.0, 44.0, 16.0, 100.0, 39.0, 66.0, 25.0, 20.0, 18.0, 19.0, 9.0, 17.0, 13.0, 13.0, 16.0, 43.0, 144.0, 30.0, 8.0, 17.0, 71.0, 8.0, 10.0, 10.0, 18.0, 13.0, 31.0, 6.0, 10.461309174198476, 15.271708431998752, 44.547666163638375, 7.915477893286604, 6.211430486934696, 6.202918813832609, 6.194001383832914, 49.319534500528555, 6.155141553922489, 5.380297730936932, 5.378897869640185, 5.367221292736759, 5.35598428580574, 4.519936953081498, 5.962995375060396, 34.97969227784091, 17.084426142494475, 3.6820824652049557, 3.6820787765058864, 3.6778970213278153, 3.676554027475052, 3.6686245540427134, 3.644772811078345, 3.6428574540866836, 3.6376905088655573, 10.126880035708021, 3.5950645172055196, 4.279965561221386, 12.746088148069987, 2.8324336694463628, 83.42257547585827, 13.445069571216015, 26.027576211232308, 56.222846279684326, 60.3114839384538, 20.61100565799879, 11.44056901871651, 31.39753267432885, 14.265048930794995, 6.887119619808513, 9.915537866890018, 136.51693279141384, 16.950306273906165, 15.579462743170573, 16.172122333913485, 10.832220161266104, 17.504696841372894, 20.415175083549784, 62.907354266588364, 33.127640739604374, 17.85379286214551, 13.089796209068915, 18.987144421578645, 16.018094556448915, 13.040398380701076, 22.866771784124996, 13.683079189954512, 14.145026040482659, 18.96553110416608, 19.37515252883183, 13.59733292095917, 15.519167605860945, 9.147039838035177, 4.305794716267219, 4.277583323126223, 3.479091915909736, 2.6931658959325673, 2.69312817162732, 2.692920188949713, 2.686590689247618, 2.683662764201734, 2.659443361033992, 2.660263714973496, 2.6355413210691245, 5.0241441303776195, 1.8852012969100465, 1.8851669657962764, 1.8851406186624529, 1.8851330338815038, 1.885128642692533, 1.8851242515035627, 1.885122255508576, 1.8851106787376535, 1.8850621760594783, 1.8850390225176334, 1.8849911186379544, 1.8849797414665308, 1.8849490031437366, 1.884848205396912, 1.8848282454470457, 1.8847731559854148, 5.033323312122124, 15.308556602055939, 68.93188805948508, 12.184514669561537, 5.929194923547209, 6.5867926374486165, 9.190482269720132, 4.100622399601777, 3.5178034402773872, 5.077946973640167, 3.499682200992791, 7.0200341276691045, 5.910792248969498, 3.503275391167718, 10.654209265253856, 16.960681572387486, 82.73633629223383, 53.117951913998944, 16.31731650033773, 25.07958439281069, 22.99264868100017, 9.57275602795708, 10.775433226373714, 10.484231928988624, 7.922104900323658, 4.293174039966773, 4.286575679739978, 9.453744427680402, 5.076998876021518, 12.413170266443652, 16.156768244389323, 9.648381882806422, 10.76546123542052, 9.694308929050733, 7.753219772515108, 7.680769944888488, 12.989166515704751, 7.572230132709653, 10.032857622712617, 8.965568764238945, 8.229310883909525, 7.587589713330751, 4.128995610765642, 4.123976508961373, 3.3547222354855624, 3.3519118173646842, 3.324999888822218, 2.580502819263353, 2.580013853193999, 2.5785978826360636, 2.5785978826360636, 2.5743775567727405, 2.5687533859824643, 2.5665356080758364, 1.806366160472596, 1.806366160472596, 1.8063658573318215, 1.8063658573318215, 1.8063658573318215, 1.8063658573318215, 1.8063658573318215, 1.8063658573318215, 1.8063655541910468, 1.8062885564343105, 1.8062344458060529, 1.8060834817003255, 1.8060189127153459, 1.8052991049461704, 1.803369917056917, 1.8033267194965432, 1.8031792415097234, 4.809470258161298, 6.005589788197317, 3.332204635611012, 5.658667604139052, 23.08432761539194, 4.250307092207697, 6.349085268940037, 7.586296137248225, 12.329633810314652, 7.479579065256237, 8.793985338085822, 5.785921251043889, 22.95313071329172, 5.528722067156187, 8.516099827742645, 4.117453828915322, 11.947979575152786, 8.718762773725214, 6.0988934871968965, 28.060907256933163, 14.012276095061303, 7.468085179648296, 7.33326756413682, 8.020174858768485, 29.402989069916316, 7.1331073483889575, 9.319092456863073, 5.24005323318062, 5.956900529551758, 6.284090068031288, 8.179883969560032, 8.43520186180086, 7.296525689697933, 6.774091666270688, 6.162235358321235], \"Total\": [96.0, 47.0, 54.0, 44.0, 16.0, 100.0, 39.0, 66.0, 25.0, 20.0, 18.0, 19.0, 9.0, 17.0, 13.0, 13.0, 16.0, 43.0, 144.0, 30.0, 8.0, 17.0, 71.0, 8.0, 10.0, 10.0, 18.0, 13.0, 31.0, 6.0, 11.007780341292996, 16.0806578602928, 47.42952085716547, 8.458272249291385, 6.757766561720462, 6.756976394348718, 6.756077568784618, 54.06120359967976, 6.753640764343671, 5.909508042008025, 5.909438079797284, 5.908801979415147, 5.9072204029738336, 5.059042325468282, 6.735472382640547, 39.513279775682285, 19.407139355007594, 4.209848325484767, 4.209848969436974, 4.209624255861348, 4.209550042096731, 4.2091126204651275, 4.207241326517857, 4.207778914494144, 4.205811817053931, 11.799205555584887, 4.2035484066915485, 5.044832890558923, 15.081569009761784, 3.3599954453893814, 100.75195878826881, 15.968606182861626, 31.944821349562257, 71.96250671019396, 79.46288581247978, 26.777492774461926, 14.243690046153791, 43.15598529461237, 18.45093601543332, 8.372890189091304, 12.59366557205715, 248.65625815356398, 23.35874793696662, 21.601986190781496, 23.23089045863997, 14.175404857217476, 25.874754100108643, 32.46193810351486, 144.08621343752048, 64.30017339016457, 29.004044528407032, 19.214995944116044, 33.95224739870638, 26.513349264294682, 19.21470871068815, 53.03581612357562, 23.184716393305294, 26.343474904766147, 66.99824621026849, 96.74224245011777, 44.91097142026064, 16.168582462341234, 9.699504813372718, 4.8509036027473185, 4.852207519533416, 4.04365640083903, 3.234648347841526, 3.234645459351022, 3.234635598836227, 3.2348980657622546, 3.234903433017727, 3.234968634240052, 3.236075337246524, 3.2372962404817254, 6.435852990107117, 2.426596973651151, 2.426596102560397, 2.4265947693541396, 2.426595038551224, 2.426593798693454, 2.426593878247746, 2.4265939042764804, 2.426593128588765, 2.426591354203112, 2.4265912614584813, 2.4265892609181905, 2.426590316384292, 2.4265855550509845, 2.426590246567179, 2.4265791705897852, 2.426581115405421, 6.512660204859425, 20.129175809260815, 96.74224245011777, 17.190545461361953, 8.090008205734458, 9.595684000047696, 13.935313532784978, 5.711042208157168, 4.8176390621187055, 7.285781412384056, 4.818340457667913, 10.659213075939038, 8.789443536079402, 4.892062239065795, 18.27871679640592, 32.713350522186595, 248.65625815356398, 144.08621343752048, 33.550136628987985, 66.99824621026849, 64.30017339016457, 19.89883238038239, 23.662087052102585, 23.14045365914788, 15.708751243316666, 6.398872358224132, 6.400472267745243, 20.58038752929234, 8.210159047778973, 33.95224739870638, 53.03581612357562, 25.49126763149692, 32.46193810351486, 30.625411160404305, 19.706587985779272, 19.301802793662002, 79.46288581247978, 20.674979308128655, 100.75195878826881, 71.96250671019396, 44.91097142026064, 29.004044528407032, 4.681728749199578, 4.682112161998937, 3.907494038800337, 3.9077315571039213, 3.9090280711466785, 3.133259390819293, 3.133274042589452, 3.133431837876093, 3.133432035733799, 3.133792620782666, 3.1343084511170534, 3.134508510676433, 2.3590179222336616, 2.359017958659525, 2.359017774786767, 2.359017814952508, 2.35901791101238, 2.359017987860277, 2.3590180148082993, 2.3590180205462623, 2.3590177595693143, 2.3590209052837277, 2.359024361665619, 2.3590279074159106, 2.359029295943008, 2.359108316825985, 2.3592707271675186, 2.3592720719138907, 2.359283668666357, 6.314331271437802, 8.64065366847796, 4.717227145406148, 8.780577132500328, 44.91097142026064, 6.369250474027441, 10.301563976364903, 13.690896385404884, 25.49126763149692, 13.70139839884793, 17.71825703797708, 10.468322667940955, 66.99824621026849, 10.330675613499581, 18.584409846054257, 7.106820969373852, 30.625411160404305, 19.89883238038239, 12.94726231137069, 144.08621343752048, 53.03581612357562, 18.58796915121681, 18.27871679640592, 22.70227477854908, 248.65625815356398, 19.301802793662002, 43.15598529461237, 12.84664015829636, 19.465388439511393, 22.949061637617042, 64.30017339016457, 96.74224245011777, 100.75195878826881, 71.96250671019396, 79.46288581247978], \"Category\": [\"Default\", \"Default\", \"Default\", \"Default\", \"Default\", \"Default\", \"Default\", \"Default\", \"Default\", \"Default\", \"Default\", \"Default\", \"Default\", \"Default\", \"Default\", \"Default\", \"Default\", \"Default\", \"Default\", \"Default\", \"Default\", \"Default\", \"Default\", \"Default\", \"Default\", \"Default\", \"Default\", \"Default\", \"Default\", \"Default\", \"Topic1\", \"Topic1\", \"Topic1\", \"Topic1\", \"Topic1\", \"Topic1\", \"Topic1\", \"Topic1\", \"Topic1\", \"Topic1\", \"Topic1\", \"Topic1\", \"Topic1\", \"Topic1\", \"Topic1\", \"Topic1\", \"Topic1\", \"Topic1\", \"Topic1\", \"Topic1\", \"Topic1\", \"Topic1\", \"Topic1\", \"Topic1\", \"Topic1\", \"Topic1\", \"Topic1\", \"Topic1\", \"Topic1\", \"Topic1\", \"Topic1\", \"Topic1\", \"Topic1\", \"Topic1\", \"Topic1\", \"Topic1\", \"Topic1\", \"Topic1\", \"Topic1\", \"Topic1\", \"Topic1\", \"Topic1\", \"Topic1\", \"Topic1\", \"Topic1\", \"Topic1\", \"Topic1\", \"Topic1\", \"Topic1\", \"Topic1\", \"Topic1\", \"Topic1\", \"Topic1\", \"Topic1\", \"Topic1\", \"Topic1\", \"Topic1\", \"Topic1\", \"Topic1\", \"Topic1\", \"Topic1\", \"Topic2\", \"Topic2\", \"Topic2\", \"Topic2\", \"Topic2\", \"Topic2\", \"Topic2\", \"Topic2\", \"Topic2\", \"Topic2\", \"Topic2\", \"Topic2\", \"Topic2\", \"Topic2\", \"Topic2\", \"Topic2\", \"Topic2\", \"Topic2\", \"Topic2\", \"Topic2\", \"Topic2\", \"Topic2\", \"Topic2\", \"Topic2\", \"Topic2\", \"Topic2\", \"Topic2\", \"Topic2\", \"Topic2\", \"Topic2\", \"Topic2\", \"Topic2\", \"Topic2\", \"Topic2\", \"Topic2\", \"Topic2\", \"Topic2\", \"Topic2\", \"Topic2\", \"Topic2\", \"Topic2\", \"Topic2\", \"Topic2\", \"Topic2\", \"Topic2\", \"Topic2\", \"Topic2\", \"Topic2\", \"Topic2\", \"Topic2\", \"Topic2\", \"Topic2\", \"Topic2\", \"Topic2\", \"Topic2\", \"Topic2\", \"Topic2\", \"Topic2\", \"Topic2\", \"Topic2\", \"Topic2\", \"Topic2\", \"Topic2\", \"Topic2\", \"Topic2\", \"Topic2\", \"Topic2\", \"Topic2\", \"Topic2\", \"Topic2\", \"Topic2\", \"Topic2\", \"Topic3\", \"Topic3\", \"Topic3\", \"Topic3\", \"Topic3\", \"Topic3\", \"Topic3\", \"Topic3\", \"Topic3\", \"Topic3\", \"Topic3\", \"Topic3\", \"Topic3\", \"Topic3\", \"Topic3\", \"Topic3\", \"Topic3\", \"Topic3\", \"Topic3\", \"Topic3\", \"Topic3\", \"Topic3\", \"Topic3\", \"Topic3\", \"Topic3\", \"Topic3\", \"Topic3\", \"Topic3\", \"Topic3\", \"Topic3\", \"Topic3\", \"Topic3\", \"Topic3\", \"Topic3\", \"Topic3\", \"Topic3\", \"Topic3\", \"Topic3\", \"Topic3\", \"Topic3\", \"Topic3\", \"Topic3\", \"Topic3\", \"Topic3\", \"Topic3\", \"Topic3\", \"Topic3\", \"Topic3\", \"Topic3\", \"Topic3\", \"Topic3\", \"Topic3\", \"Topic3\", \"Topic3\", \"Topic3\", \"Topic3\", \"Topic3\", \"Topic3\", \"Topic3\", \"Topic3\", \"Topic3\", \"Topic3\", \"Topic3\", \"Topic3\"], \"logprob\": [30.0, 29.0, 28.0, 27.0, 26.0, 25.0, 24.0, 23.0, 22.0, 21.0, 20.0, 19.0, 18.0, 17.0, 16.0, 15.0, 14.0, 13.0, 12.0, 11.0, 10.0, 9.0, 8.0, 7.0, 6.0, 5.0, 4.0, 3.0, 2.0, 1.0, -5.531000137329102, -5.152699947357178, -4.082200050354004, -5.809899806976318, -6.052299976348877, -6.053699970245361, -6.055099964141846, -3.9804000854492188, -6.061399936676025, -6.196000099182129, -6.196199893951416, -6.198400020599365, -6.200500011444092, -6.370200157165527, -6.093100070953369, -4.32390022277832, -5.040500164031982, -6.575200080871582, -6.575200080871582, -6.576399803161621, -6.576700210571289, -6.57889986038208, -6.585400104522705, -6.585899829864502, -6.587399959564209, -5.563499927520752, -6.5991997718811035, -6.424799919128418, -5.333499908447266, -6.837600231170654, -3.4547998905181885, -5.280099868774414, -4.61959981918335, -3.849400043487549, -3.7792000770568848, -4.85290002822876, -5.441500186920166, -4.432000160217285, -5.220900058746338, -5.949100017547607, -5.58459997177124, -2.9623000621795654, -5.048399925231934, -5.132800102233887, -5.095399856567383, -5.496200084686279, -5.016200065612793, -4.862400054931641, -3.7370998859405518, -4.378300189971924, -4.996500015258789, -5.3069000244140625, -4.934999942779541, -5.105000019073486, -5.310699939727783, -4.749000072479248, -5.262599945068359, -5.229400157928467, -4.936100006103516, -4.914700031280518, -5.268799781799316, -4.704800128936768, -5.233500003814697, -5.9868998527526855, -5.993500232696533, -6.200099945068359, -6.456200122833252, -6.456200122833252, -6.456299781799316, -6.458600044250488, -6.459700107574463, -6.468800067901611, -6.468500137329102, -6.477799892425537, -5.832600116729736, -6.812900066375732, -6.812900066375732, -6.812900066375732, -6.812900066375732, -6.812900066375732, -6.812900066375732, -6.812900066375732, -6.812900066375732, -6.812900066375732, -6.813000202178955, -6.813000202178955, -6.813000202178955, -6.813000202178955, -6.8130998611450195, -6.8130998611450195, -6.8130998611450195, -5.8308000564575195, -4.718500137329102, -3.2137999534606934, -4.946700096130371, -5.666999816894531, -5.561800003051758, -5.228700160980225, -6.035799980163574, -6.1890997886657715, -5.822000026702881, -6.194200038909912, -5.4980998039245605, -5.670100212097168, -6.19320011138916, -5.080900192260742, -4.616000175476074, -3.0311999320983887, -3.474400043487549, -4.654699802398682, -4.224800109863281, -4.311699867248535, -5.188000202178955, -5.0696001052856445, -5.0970001220703125, -5.377200126647949, -5.9899001121521, -5.991399765014648, -5.200500011444092, -5.822199821472168, -4.928100109100342, -4.664599895477295, -5.180099964141846, -5.0706000328063965, -5.1753997802734375, -5.398799896240234, -5.408199787139893, -4.882800102233887, -5.422399997711182, -5.140999794006348, -5.253499984741211, -5.339200019836426, -5.420400142669678, -5.753600120544434, -5.754799842834473, -5.961299896240234, -5.962100028991699, -5.970200061798096, -6.223700046539307, -6.223800182342529, -6.224400043487549, -6.224400043487549, -6.22599983215332, -6.2281999588012695, -6.229100227355957, -6.5802998542785645, -6.5802998542785645, -6.5802998542785645, -6.5802998542785645, -6.5802998542785645, -6.5802998542785645, -6.5802998542785645, -6.5802998542785645, -6.5802998542785645, -6.580399990081787, -6.580399990081787, -6.58050012588501, -6.58050012588501, -6.580900192260742, -6.581999778747559, -6.581999778747559, -6.582099914550781, -5.601099967956543, -5.379000186920166, -5.9679999351501465, -5.438499927520752, -4.03249979019165, -5.724599838256836, -5.323299884796143, -5.145299911499023, -4.659599781036377, -5.1595001220703125, -4.997600078582764, -5.416200160980225, -4.0381999015808105, -5.461699962615967, -5.029699802398682, -5.756400108337402, -4.691100120544434, -5.006199836730957, -5.363500118255615, -3.8373000621795654, -4.531700134277344, -5.160999774932861, -5.179200172424316, -5.089700222015381, -3.7904999256134033, -5.206900119781494, -4.939599990844727, -5.5152997970581055, -5.3871002197265625, -5.333600044250488, -5.070000171661377, -5.0391998291015625, -5.184199810028076, -5.258500099182129, -5.3531999588012695], \"loglift\": [30.0, 29.0, 28.0, 27.0, 26.0, 25.0, 24.0, 23.0, 22.0, 21.0, 20.0, 19.0, 18.0, 17.0, 16.0, 15.0, 14.0, 13.0, 12.0, 11.0, 10.0, 9.0, 8.0, 7.0, 6.0, 5.0, 4.0, 3.0, 2.0, 1.0, 0.711, 0.7103, 0.6993, 0.6956, 0.6776, 0.6764, 0.6751, 0.6701, 0.6691, 0.6681, 0.6679, 0.6658, 0.664, 0.6493, 0.6401, 0.6401, 0.6345, 0.628, 0.628, 0.6269, 0.6266, 0.6245, 0.6184, 0.6178, 0.6168, 0.6091, 0.6056, 0.5975, 0.5937, 0.5911, 0.5732, 0.5899, 0.5571, 0.5151, 0.4862, 0.5002, 0.5428, 0.4438, 0.5046, 0.5666, 0.5228, 0.1623, 0.4412, 0.4351, 0.3997, 0.493, 0.3711, 0.2981, -0.0668, 0.0987, 0.2767, 0.3781, 0.1807, 0.258, 0.3743, -0.0793, 0.2346, 0.1401, -0.5001, -0.8461, -0.4329, 1.1528, 1.1351, 1.0745, 1.0677, 1.0434, 1.0105, 1.0105, 1.0105, 1.008, 1.0069, 0.9978, 0.9978, 0.9881, 0.9461, 0.9413, 0.9413, 0.9413, 0.9413, 0.9413, 0.9413, 0.9412, 0.9412, 0.9412, 0.9412, 0.9412, 0.9412, 0.9412, 0.9411, 0.9411, 0.9411, 0.9361, 0.92, 0.8548, 0.8496, 0.883, 0.8175, 0.7775, 0.8625, 0.8793, 0.8327, 0.874, 0.7761, 0.797, 0.8598, 0.654, 0.5369, 0.0933, 0.1958, 0.4729, 0.2111, 0.1654, 0.462, 0.4071, 0.402, 0.5092, 0.7946, 0.7929, 0.4158, 0.7131, 0.1875, 0.0051, 0.2222, 0.09, 0.0435, 0.2609, 0.2723, -0.6174, 0.1893, -1.1131, -0.889, -0.5032, -0.1472, 1.3434, 1.3421, 1.3165, 1.3156, 1.3072, 1.2749, 1.2747, 1.2741, 1.2741, 1.2724, 1.27, 1.2691, 1.2021, 1.2021, 1.2021, 1.2021, 1.2021, 1.2021, 1.2021, 1.2021, 1.2021, 1.202, 1.202, 1.2019, 1.2019, 1.2015, 1.2003, 1.2003, 1.2002, 1.1968, 1.1052, 1.1214, 1.0297, 0.8035, 1.0645, 0.985, 0.8786, 0.7427, 0.8637, 0.7685, 0.8761, 0.3978, 0.8438, 0.6886, 0.9232, 0.5277, 0.6438, 0.7162, -0.167, 0.138, 0.5571, 0.5557, 0.4285, -0.666, 0.4736, -0.0637, 0.5723, 0.2849, 0.1738, -0.5929, -0.9706, -1.1563, -0.894, -1.0878]}, \"token.table\": {\"Topic\": [1, 2, 3, 2, 2, 1, 1, 2, 3, 1, 1, 2, 3, 1, 1, 3, 1, 2, 3, 1, 1, 2, 3, 1, 2, 3, 1, 2, 3, 1, 2, 3, 1, 2, 2, 3, 2, 3, 3, 1, 2, 3, 1, 2, 3, 1, 2, 3, 2, 3, 1, 2, 3, 2, 2, 3, 1, 2, 1, 2, 3, 2, 3, 1, 1, 2, 1, 2, 3, 1, 3, 3, 1, 2, 3, 1, 2, 3, 3, 3, 3, 3, 2, 2, 2, 2, 3, 2, 1, 2, 3, 1, 2, 3, 1, 2, 3, 1, 2, 3, 1, 2, 3, 1, 2, 3, 1, 2, 3, 1, 2, 3, 1, 3, 2, 3, 1, 2, 3, 1, 2, 1, 2, 3, 1, 3, 3, 2, 3, 2, 2, 3, 1, 3, 2, 1, 2, 1, 1, 2, 3, 1, 2, 3, 3, 3, 1, 2, 1, 2, 1, 1, 2, 3, 1, 1, 2, 3, 1, 1, 1, 1, 1, 1, 2, 3, 1, 3, 1, 2, 3, 1, 3, 3, 1, 2, 3, 1, 1, 2, 3, 2, 3, 3, 1, 2, 2, 3, 1, 2, 1, 2, 3, 1, 3, 1, 2, 3, 2, 3, 2, 1, 2, 3, 1, 2, 3, 2, 2, 1, 2, 3, 1, 1, 2, 3, 1, 2, 3, 2, 1, 3, 1, 2, 3, 2, 2, 1, 2, 1, 3, 1, 3, 1, 3, 3, 1, 2, 3, 1, 3, 3, 1, 2, 2, 3, 1, 2, 3, 2, 3, 1, 2, 3, 2, 2, 3, 2, 2, 2, 1, 2, 3, 2, 2, 3, 1, 2, 3, 1, 2, 3, 1, 2, 3, 1, 3, 1, 2, 3, 1, 2, 3, 3, 1, 2, 1, 2, 2, 1, 2, 3, 3, 1, 2, 3, 1, 3, 1, 2, 3, 1, 2, 3, 3, 1, 2, 3], \"Freq\": [0.4373095495500354, 0.4373095495500354, 0.09717989990000787, 0.8242055417931803, 0.8242021145528459, 0.8928583531613501, 0.7550694816394007, 0.16359838768853682, 0.07550694816394007, 0.8461041358726816, 0.3964360438674594, 0.2642906959116396, 0.3523875945488528, 0.9506202871594733, 0.34166319078228174, 0.6833263815645635, 0.12360926893636126, 0.7416556136181676, 0.12360926893636126, 0.9458196383629319, 0.7940499882883996, 0.1588099976576799, 0.8478068418405481, 0.37658767039333957, 0.21519295451047973, 0.37658767039333957, 0.3596126541092395, 0.3596126541092395, 0.3082394178079196, 0.9510649011400379, 0.6226210095274185, 0.2075403365091395, 0.951577004235868, 0.8242005374180338, 0.8241994948962305, 0.8477779446307323, 0.7768977954726062, 0.15537955909452125, 0.8543152879729984, 0.43723822353981445, 0.3678353309144471, 0.19432809935102865, 0.3668227133097068, 0.5196655105220847, 0.12227423776990226, 0.31172783748080307, 0.17813019284617318, 0.5121243044327479, 0.42212967132958684, 0.5628395617727825, 0.7587690937895873, 0.2167911696541678, 0.05419779241354195, 0.8242048812227116, 0.9270488747498093, 0.8477195842637144, 0.2814466676505302, 0.6567088911845704, 0.430468336970007, 0.16142562636375263, 0.4842768790912579, 0.8242014350607682, 0.8478103950799295, 0.8464217785886036, 0.15354708652753746, 0.7677354326376873, 0.15691648049144538, 0.3922912012286135, 0.47074944147433617, 0.38210514968648474, 0.5731577245297271, 0.7677088244575697, 0.9063801161890939, 0.05549266017484249, 0.03699510678322832, 0.456700064287872, 0.4059556127003307, 0.152233354762624, 0.8478104344454485, 0.8477191010774601, 0.8478104304126178, 0.8478104834037469, 0.8243670502337946, 0.8242001521580962, 0.9278824200996004, 0.2314639698262895, 0.6943919094788684, 0.8242005732796548, 0.5509613995534034, 0.33379413257614954, 0.11662686559889562, 0.5320440633125663, 0.38694113695459365, 0.09673528423864841, 0.531440899524879, 0.2657204497624395, 0.1898003212588854, 0.778183008903819, 0.1250651264309709, 0.09727287611297737, 0.6206031018319017, 0.2758236008141785, 0.13791180040708925, 0.19639817642015875, 0.7132354827889975, 0.08269396901901421, 0.6038460752551009, 0.30192303762755046, 0.1293955875546645, 0.6887381277306709, 0.1291383989495008, 0.17218453193266772, 0.15836989809568472, 0.7918494904784236, 0.8302822084477364, 0.2075705521119341, 0.28704054563174214, 0.6458412276714198, 0.8478103971421032, 0.204412771369598, 0.817651085478392, 0.1941452778033163, 0.1941452778033163, 0.582435833409949, 0.9327976585484593, 0.06218651056989728, 0.9574649262152284, 0.9273660239691165, 0.8478104888727671, 0.8245886390598635, 0.6017927911746459, 0.3829590489293201, 0.8360315066737664, 0.11943307238196663, 0.8242033732694739, 0.36540096026660596, 0.6090016004443433, 0.8879711352874009, 0.7759919459654302, 0.07054472236049365, 0.1410894447209873, 0.20723452844070359, 0.41446905688140717, 0.3626604247712313, 0.8478104068269864, 0.9570878463981565, 0.9487761880521205, 0.06325174587014137, 0.6765650312860986, 0.3122607836705071, 0.846195221538783, 0.3874797931155887, 0.4768982069114938, 0.14903068965984181, 0.8878673072235359, 0.7722717894279312, 0.1404130526232602, 0.0702065263116301, 0.8884097051293325, 0.9503190721368677, 0.8880892705735124, 0.8460941189109579, 0.9502035708841534, 0.28358951278172356, 0.3731440957654258, 0.34329256810419173, 0.8857781535396639, 0.10123178897596159, 0.5185723744554231, 0.43214364537951927, 0.043214364537951924, 0.7928904855274275, 0.8478093583318428, 0.8477149342243144, 0.29387360557745357, 0.3265262284193929, 0.39183147410327146, 0.9502203228370802, 0.463418432075066, 0.07723640534584433, 0.463418432075066, 0.6826370720024383, 0.34131853600121914, 0.9574166491527073, 0.17509938878961268, 0.7003975551584507, 0.7294946352928261, 0.31264055798263973, 0.29085755371975647, 0.6980581289274155, 0.7842407120366398, 0.14937918324507427, 0.07468959162253713, 0.8908061170978752, 0.1484676861829792, 0.8140973514615386, 0.06262287318934913, 0.06262287318934913, 0.21198894375350272, 0.6359668312605081, 0.9274586775274902, 0.380355290730801, 0.464878688670979, 0.16904679588035598, 0.7406726334649678, 0.09258407918312098, 0.18516815836624195, 0.8242005462587785, 0.7419027985111498, 0.6034695896209188, 0.26401794545915197, 0.11315054805392227, 0.9084483601555389, 0.6161061590415168, 0.3388583874728342, 0.03080530795207584, 0.5596094943842781, 0.35343757540059667, 0.08835939385014917, 0.8242008008829815, 0.9507417544100373, 0.8478104689685289, 0.2335240936956267, 0.3892068228260445, 0.3892068228260445, 0.9273847155311854, 0.927461504807328, 0.8759662971974032, 0.10305485849381213, 0.4382474186566975, 0.5843298915422633, 0.9501528508598637, 0.8543852526022293, 0.8619792802450159, 0.13261219696077167, 0.847810417321481, 0.43366920094920497, 0.30168292239944694, 0.26397255709951606, 0.43791150547848495, 0.5108967563915657, 0.9573064854721461, 0.9883293474001886, 0.8242014035596844, 0.6249538835060244, 0.3124769417530122, 0.13725363737927182, 0.686268186896359, 0.13725363737927182, 0.6251101406733034, 0.3125550703366517, 0.04967913289027615, 0.7451869933541423, 0.14903739867082846, 0.9895734543993646, 0.8241997907644051, 0.7677554898896398, 0.92738625422285, 0.8242002435916889, 0.9266992505923972, 0.5132179006697316, 0.35769732470920684, 0.12441646076841978, 0.8242017560591245, 0.8242017797728055, 0.9574167096079116, 0.7183244638807972, 0.04634351379876111, 0.208545812094425, 0.8238053234719266, 0.0992536534303526, 0.06947755740124682, 0.10050840982869601, 0.5025420491434801, 0.45228784422913204, 0.9501529961983599, 0.8478081161433512, 0.09679909014791374, 0.2903972704437412, 0.5807945408874824, 0.6765549177220003, 0.31225611587169244, 0.9574694035196211, 0.9571489362927295, 0.44561148697151665, 0.5092702708245904, 0.8475146867211518, 0.08475146867211518, 0.9274578493213624, 0.7277787339404643, 0.17124205504481516, 0.08562102752240758, 0.8478063428205591, 0.813903440419656, 0.1565198923883954, 0.03130397847767908, 0.31400869037190626, 0.6280173807438125, 0.39507271990672066, 0.11287791997334876, 0.5079506398800694, 0.6956587850210496, 0.3091816822315776, 0.0386477102789472, 0.7674541971554522, 0.5228971968217713, 0.1742990656072571, 0.26144859841088564], \"Term\": [\"able\", \"able\", \"able\", \"account\", \"air\", \"alot\", \"amazing\", \"amazing\", \"amazing\", \"available\", \"awesome\", \"awesome\", \"awesome\", \"backward\", \"bad\", \"bad\", \"battery\", \"battery\", \"battery\", \"beast\", \"beautiful\", \"beautiful\", \"behold\", \"big\", \"big\", \"big\", \"box\", \"box\", \"box\", \"boy\", \"bug\", \"bug\", \"butter\", \"canadian\", \"charge\", \"child\", \"complaint\", \"complaint\", \"condition\", \"console\", \"console\", \"console\", \"controller\", \"controller\", \"controller\", \"day\", \"day\", \"day\", \"delivery\", \"delivery\", \"difference\", \"difference\", \"difference\", \"disappointing\", \"dollar\", \"door\", \"due\", \"due\", \"easy\", \"easy\", \"easy\", \"entire\", \"evolutionary\", \"excellent\", \"expansion\", \"expansion\", \"experience\", \"experience\", \"experience\", \"fantastic\", \"fantastic\", \"far\", \"fast\", \"fast\", \"fast\", \"feature\", \"feature\", \"feature\", \"feel\", \"few\", \"final\", \"foam\", \"fps\", \"framerate\", \"full\", \"fun\", \"fun\", \"functionality\", \"game\", \"game\", \"game\", \"gaming\", \"gaming\", \"gaming\", \"generation\", \"generation\", \"generation\", \"good\", \"good\", \"good\", \"graphic\", \"graphic\", \"graphic\", \"great\", \"great\", \"great\", \"hand\", \"hand\", \"hand\", \"happy\", \"happy\", \"happy\", \"hdr\", \"hdr\", \"heavy\", \"heavy\", \"high\", \"high\", \"hitch\", \"horizon\", \"horizon\", \"hour\", \"hour\", \"hour\", \"huge\", \"huge\", \"husband\", \"impressive\", \"industry\", \"internal\", \"issue\", \"issue\", \"job\", \"job\", \"know\", \"lack\", \"lack\", \"large\", \"last\", \"last\", \"last\", \"launch\", \"launch\", \"launch\", \"legacy\", \"lid\", \"load\", \"load\", \"loading\", \"loading\", \"look\", \"love\", \"love\", \"love\", \"lucky\", \"machine\", \"machine\", \"machine\", \"man\", \"medium\", \"minute\", \"money\", \"multiple\", \"new\", \"new\", \"new\", \"next\", \"next\", \"nice\", \"nice\", \"nice\", \"non\", \"obvious\", \"offer\", \"old\", \"old\", \"old\", \"open\", \"order\", \"order\", \"order\", \"overall\", \"overall\", \"pandemic\", \"party\", \"party\", \"pass\", \"pass\", \"performance\", \"performance\", \"play\", \"play\", \"play\", \"playing\", \"playing\", \"playstation\", \"playstation\", \"playstation\", \"point\", \"point\", \"port\", \"power\", \"power\", \"power\", \"powerful\", \"powerful\", \"powerful\", \"premium\", \"processing\", \"product\", \"product\", \"product\", \"purchase\", \"quick\", \"quick\", \"quick\", \"quiet\", \"quiet\", \"quiet\", \"rdna\", \"ready\", \"recharge\", \"release\", \"release\", \"release\", \"reliable\", \"respect\", \"resume\", \"resume\", \"review\", \"review\", \"room\", \"screw\", \"second\", \"second\", \"section\", \"series\", \"series\", \"series\", \"setup\", \"setup\", \"significant\", \"sleek\", \"slow\", \"software\", \"software\", \"solid\", \"solid\", \"solid\", \"spec\", \"spec\", \"speed\", \"speed\", \"speed\", \"ssd\", \"stable\", \"star\", \"steady\", \"stupid\", \"style\", \"system\", \"system\", \"system\", \"technical\", \"teraflop\", \"terrible\", \"thing\", \"thing\", \"thing\", \"time\", \"time\", \"time\", \"title\", \"title\", \"title\", \"travel\", \"unboxing\", \"update\", \"update\", \"update\", \"upgrade\", \"upgrade\", \"upscaling\", \"user\", \"value\", \"value\", \"video\", \"video\", \"want\", \"way\", \"way\", \"way\", \"weight\", \"well\", \"well\", \"well\", \"whole\", \"whole\", \"work\", \"work\", \"work\", \"worth\", \"worth\", \"worth\", \"xbox\", \"year\", \"year\", \"year\"]}, \"R\": 30, \"lambda.step\": 0.01, \"plot.opts\": {\"xlab\": \"PC1\", \"ylab\": \"PC2\"}, \"topic.order\": [1, 3, 2]};\n",
       "\n",
       "function LDAvis_load_lib(url, callback){\n",
       "  var s = document.createElement('script');\n",
       "  s.src = url;\n",
       "  s.async = true;\n",
       "  s.onreadystatechange = s.onload = callback;\n",
       "  s.onerror = function(){console.warn(\"failed to load library \" + url);};\n",
       "  document.getElementsByTagName(\"head\")[0].appendChild(s);\n",
       "}\n",
       "\n",
       "if(typeof(LDAvis) !== \"undefined\"){\n",
       "   // already loaded: just create the visualization\n",
       "   !function(LDAvis){\n",
       "       new LDAvis(\"#\" + \"ldavis_el2040822460556294244265252668\", ldavis_el2040822460556294244265252668_data);\n",
       "   }(LDAvis);\n",
       "}else if(typeof define === \"function\" && define.amd){\n",
       "   // require.js is available: use it to load d3/LDAvis\n",
       "   require.config({paths: {d3: \"https://cdnjs.cloudflare.com/ajax/libs/d3/3.5.5/d3.min\"}});\n",
       "   require([\"d3\"], function(d3){\n",
       "      window.d3 = d3;\n",
       "      LDAvis_load_lib(\"https://cdn.rawgit.com/bmabey/pyLDAvis/files/ldavis.v1.0.0.js\", function(){\n",
       "        new LDAvis(\"#\" + \"ldavis_el2040822460556294244265252668\", ldavis_el2040822460556294244265252668_data);\n",
       "      });\n",
       "    });\n",
       "}else{\n",
       "    // require.js not available: dynamically load d3 & LDAvis\n",
       "    LDAvis_load_lib(\"https://cdnjs.cloudflare.com/ajax/libs/d3/3.5.5/d3.min.js\", function(){\n",
       "         LDAvis_load_lib(\"https://cdn.rawgit.com/bmabey/pyLDAvis/files/ldavis.v1.0.0.js\", function(){\n",
       "                 new LDAvis(\"#\" + \"ldavis_el2040822460556294244265252668\", ldavis_el2040822460556294244265252668_data);\n",
       "            })\n",
       "         });\n",
       "}\n",
       "</script>"
      ],
      "text/plain": [
       "PreparedData(topic_coordinates=              x         y  topics  cluster       Freq\n",
       "topic                                                \n",
       "0      0.095814  0.036374       1        1  46.676218\n",
       "2     -0.010754 -0.088540       2        1  30.308408\n",
       "1     -0.085060  0.052166       3        1  23.015374, topic_info=        Term       Freq       Total Category  logprob  loglift\n",
       "76     great  96.000000   96.000000  Default  30.0000  30.0000\n",
       "12      load  47.000000   47.000000  Default  29.0000  29.0000\n",
       "67      fast  54.000000   54.000000  Default  28.0000  28.0000\n",
       "57       day  44.000000   44.000000  Default  27.0000  27.0000\n",
       "212      ssd  16.000000   16.000000  Default  26.0000  26.0000\n",
       "..       ...        ...         ...      ...      ...      ...\n",
       "144   system   8.179884   64.300173   Topic3  -5.0700  -0.5929\n",
       "76     great   8.435202   96.742242   Topic3  -5.0392  -0.9706\n",
       "24      time   7.296526  100.751959   Topic3  -5.1842  -1.1563\n",
       "31      good   6.774092   71.962507   Topic3  -5.2585  -0.8940\n",
       "1    amazing   6.162235   79.462886   Topic3  -5.3532  -1.0878\n",
       "\n",
       "[227 rows x 6 columns], token_table=      Topic      Freq     Term\n",
       "term                          \n",
       "0         1  0.437310     able\n",
       "0         2  0.437310     able\n",
       "0         3  0.097180     able\n",
       "184       2  0.824206  account\n",
       "1105      2  0.824202      air\n",
       "...     ...       ...      ...\n",
       "157       3  0.038648    worth\n",
       "996       3  0.767454     xbox\n",
       "158       1  0.522897     year\n",
       "158       2  0.174299     year\n",
       "158       3  0.261449     year\n",
       "\n",
       "[308 rows x 3 columns], R=30, lambda_step=0.01, plot_opts={'xlab': 'PC1', 'ylab': 'PC2'}, topic_order=[1, 3, 2])"
      ]
     },
     "execution_count": 198,
     "metadata": {},
     "output_type": "execute_result"
    }
   ],
   "source": [
    "pyLDAvis.enable_notebook()\n",
    "vis = pyLDAvis.gensim.prepare(lda_model, doc_term_matrix, dictionary)\n",
    "vis"
   ]
  },
  {
   "cell_type": "markdown",
   "metadata": {},
   "source": [
    "As can be seen above, there are 3 topics which are clearly separated.<br>Based on the words within each topic, I can take a reasonable guess as to what the topics are about:<br>         \n",
    "\n",
    "Topic 1: Topic seems to be on how fast the system has become: amazing, fast, load, quick, new, powerful<br>\n",
    "Topic 2: Topic on speed but also graphics of the system: Controller, ssd, speed, quiet, feature, launch, graphic<br>\n",
    "Topic 3: Topic seems to be on the size of the Xbox: new, experience, old, system, big, box<br>\n",
    "\n",
    "Generally, it seems that early reviews of the system are positive based on the speed of the new Xbox.<br>There were also \n",
    "some positie comments on the ssd, controller, and the graphics.<br>Finally, there were comments from the positive reviews\n",
    "on the size of the Xbox Series X as well."
   ]
  },
  {
   "cell_type": "markdown",
   "metadata": {},
   "source": [
    "#                                 Data Cleaning (Xbox Series X Negative Reviews)\n",
    "\n",
    "The following section is done in order to prepare the Xbox Series X negative reviews for the LDA model.<br>\n",
    "The data will need to be split, tokenized, and lemmatized in order to prepare it for the model.<br>\n",
    "Visualizations will also be built in order to take a better look at the data.<br>"
   ]
  },
  {
   "cell_type": "markdown",
   "metadata": {},
   "source": [
    "Below is a frequency bar graph of the Xbox Series X negative reviews:"
   ]
  },
  {
   "cell_type": "code",
   "execution_count": 201,
   "metadata": {},
   "outputs": [
    {
     "data": {
      "image/png": "[encoded data removed]",
      "text/plain": [
       "<Figure size 1440x360 with 1 Axes>"
      ]
     },
     "metadata": {
      "needs_background": "light"
     },
     "output_type": "display_data"
    }
   ],
   "source": [
    "freq_words(xboxseriesxreviews_negative['comment'])"
   ]
  },
  {
   "cell_type": "markdown",
   "metadata": {},
   "source": [
    "Looking above, it seems most of the most frequent words are \"the\", \"and\", and \"for\".<br>But these are not necessary words because these words don't show true sentiment.<br>The dataset will need to be cleaned further in order to prepare this dataset for the model."
   ]
  },
  {
   "cell_type": "markdown",
   "metadata": {},
   "source": [
    "This code removes the characters and samples from the text dataset:"
   ]
  },
  {
   "cell_type": "code",
   "execution_count": 203,
   "metadata": {},
   "outputs": [],
   "source": [
    "xboxseriesxreviews_negative['comment'] = xboxseriesxreviews_negative['comment'].str.replace(\"[^a-zA-Z#]\",\" \")"
   ]
  },
  {
   "cell_type": "markdown",
   "metadata": {},
   "source": [
    "The following code is run in order to remove short words (length < 3) to make the data cleaner:"
   ]
  },
  {
   "cell_type": "code",
   "execution_count": 204,
   "metadata": {},
   "outputs": [],
   "source": [
    "xboxseriesxreviews_negative['comment'] = xboxseriesxreviews_negative['comment'].apply(lambda x: ' '.join([w for w in x.split() if len(w) > 2]))"
   ]
  },
  {
   "cell_type": "markdown",
   "metadata": {},
   "source": [
    "The following removes the stopwords from the text:"
   ]
  },
  {
   "cell_type": "code",
   "execution_count": 205,
   "metadata": {},
   "outputs": [],
   "source": [
    "reviews = [remove_stopwords(r.split()) for r in xboxseriesxreviews_negative['comment']]"
   ]
  },
  {
   "cell_type": "markdown",
   "metadata": {},
   "source": [
    "The following makes the text lowercase:"
   ]
  },
  {
   "cell_type": "code",
   "execution_count": 206,
   "metadata": {},
   "outputs": [],
   "source": [
    "reviews = [r.lower() for r in reviews]"
   ]
  },
  {
   "cell_type": "code",
   "execution_count": 207,
   "metadata": {},
   "outputs": [
    {
     "data": {
      "image/png": "[encoded data removed]",
      "text/plain": [
       "<Figure size 1440x360 with 1 Axes>"
      ]
     },
     "metadata": {
      "needs_background": "light"
     },
     "output_type": "display_data"
    }
   ],
   "source": [
    "freq_words(reviews, 20)"
   ]
  },
  {
   "cell_type": "markdown",
   "metadata": {},
   "source": [
    "Re-running a frequency bar graph on the data, it seems the stopwords have been removed and the reviews are getting close to being used for the model.<br>The next step is to lemmatize the data."
   ]
  },
  {
   "cell_type": "markdown",
   "metadata": {},
   "source": [
    "Below, the following code splits the text into tokens: "
   ]
  },
  {
   "cell_type": "code",
   "execution_count": 209,
   "metadata": {},
   "outputs": [
    {
     "name": "stdout",
     "output_type": "stream",
     "text": [
      "['console', 'powered', 'first', 'day', 'sending', 'back', 'xbox']\n"
     ]
    }
   ],
   "source": [
    "tokenized_reviews = pd.Series(reviews).apply(lambda x: x.split())\n",
    "print(tokenized_reviews[1])"
   ]
  },
  {
   "cell_type": "markdown",
   "metadata": {},
   "source": [
    "Below, the reviews is then lemmatized:"
   ]
  },
  {
   "cell_type": "code",
   "execution_count": 210,
   "metadata": {},
   "outputs": [
    {
     "name": "stdout",
     "output_type": "stream",
     "text": [
      "['first', 'day']\n"
     ]
    }
   ],
   "source": [
    "reviews_2 = lemmatization(tokenized_reviews)\n",
    "print(reviews_2[1]) "
   ]
  },
  {
   "cell_type": "markdown",
   "metadata": {},
   "source": [
    "The following code is run in order to append the reviews to a new dataframe in order to show a frequency graph \n",
    "of the lemmatized reviews later on:"
   ]
  },
  {
   "cell_type": "code",
   "execution_count": 211,
   "metadata": {},
   "outputs": [],
   "source": [
    "reviews_3 = []\n",
    "for i in range(len(reviews_2)):\n",
    "    reviews_3.append(' '.join(reviews_2[i]))\n",
    "\n",
    "xboxseriesxreviews_negative['reviews'] = reviews_3"
   ]
  },
  {
   "cell_type": "code",
   "execution_count": 212,
   "metadata": {},
   "outputs": [
    {
     "data": {
      "image/png": "[encoded data removed]",
      "text/plain": [
       "<Figure size 1440x360 with 1 Axes>"
      ]
     },
     "metadata": {
      "needs_background": "light"
     },
     "output_type": "display_data"
    }
   ],
   "source": [
    "freq_words(xboxseriesxreviews_negative['reviews'], 20)"
   ]
  },
  {
   "cell_type": "markdown",
   "metadata": {},
   "source": [
    "As can be seen, the tokens are now clearer as words such as \"game\", \"system\", and \"hour\" are now clearly showing in the dataset.<br>The dataset is now ready for model building."
   ]
  },
  {
   "cell_type": "markdown",
   "metadata": {},
   "source": [
    "#                                             LDA Model (Xbox Series X Negative Reviews)"
   ]
  },
  {
   "cell_type": "markdown",
   "metadata": {},
   "source": [
    "The code below is run in order to incorporate the reviews into a dictionary in order to set up the LDA Model.\n"
   ]
  },
  {
   "cell_type": "code",
   "execution_count": 214,
   "metadata": {},
   "outputs": [],
   "source": [
    "dictionary = corpora.Dictionary(reviews_2)\n",
    "doc_term_matrix = [dictionary.doc2bow(rev) for rev in reviews_2]"
   ]
  },
  {
   "cell_type": "markdown",
   "metadata": {},
   "source": [
    "Next, the LDA Model is imported and the next lines of code are run in order to build the model.\n",
    "The number of topics chosen through trial and error were 5."
   ]
  },
  {
   "cell_type": "code",
   "execution_count": 215,
   "metadata": {},
   "outputs": [],
   "source": [
    "LDA = gensim.models.ldamodel.LdaModel\n",
    "\n",
    "lda_model = LDA(corpus = doc_term_matrix, \n",
    "                id2word = dictionary,\n",
    "                num_topics = 5,\n",
    "                random_state = 100,\n",
    "                chunksize = 1000,\n",
    "                passes = 50)"
   ]
  },
  {
   "cell_type": "markdown",
   "metadata": {},
   "source": [
    "Below, this code is being run to print the topics and the words associated with it:"
   ]
  },
  {
   "cell_type": "code",
   "execution_count": 216,
   "metadata": {},
   "outputs": [
    {
     "data": {
      "text/plain": [
       "[(0,\n",
       "  '0.044*\"console\" + 0.023*\"day\" + 0.019*\"power\" + 0.019*\"work\" + 0.015*\"shut\" + 0.012*\"fine\" + 0.012*\"series\" + 0.012*\"problem\" + 0.012*\"hour\" + 0.012*\"min\"'),\n",
       " (1,\n",
       "  '0.026*\"game\" + 0.018*\"hour\" + 0.018*\"day\" + 0.013*\"people\" + 0.013*\"great\" + 0.013*\"first\" + 0.013*\"problem\" + 0.009*\"terrible\" + 0.009*\"expensive\" + 0.009*\"week\"'),\n",
       " (2,\n",
       "  '0.027*\"call\" + 0.023*\"hour\" + 0.020*\"week\" + 0.017*\"service\" + 0.014*\"minute\" + 0.014*\"time\" + 0.014*\"request\" + 0.014*\"customer\" + 0.014*\"form\" + 0.013*\"issue\"'),\n",
       " (3,\n",
       "  '0.057*\"game\" + 0.031*\"system\" + 0.019*\"console\" + 0.018*\"good\" + 0.017*\"time\" + 0.015*\"slim\" + 0.015*\"next\" + 0.011*\"year\" + 0.011*\"issue\" + 0.011*\"reason\"'),\n",
       " (4,\n",
       "  '0.041*\"game\" + 0.018*\"year\" + 0.018*\"new\" + 0.015*\"people\" + 0.015*\"price\" + 0.015*\"money\" + 0.015*\"system\" + 0.013*\"issue\" + 0.012*\"time\" + 0.009*\"controller\"')]"
      ]
     },
     "execution_count": 216,
     "metadata": {},
     "output_type": "execute_result"
    }
   ],
   "source": [
    "lda_model.print_topics()"
   ]
  },
  {
   "cell_type": "markdown",
   "metadata": {},
   "source": [
    "This code is run to visualize the LDA model into a graphical bubble plot:"
   ]
  },
  {
   "cell_type": "code",
   "execution_count": 217,
   "metadata": {
    "scrolled": false
   },
   "outputs": [
    {
     "data": {
      "text/html": [
       "\n",
       "<link rel=\"stylesheet\" type=\"text/css\" href=\"https://cdn.rawgit.com/bmabey/pyLDAvis/files/ldavis.v1.0.0.css\">\n",
       "\n",
       "\n",
       "<div id=\"ldavis_el2040822460361984488046140924\"></div>\n",
       "<script type=\"text/javascript\">\n",
       "\n",
       "var ldavis_el2040822460361984488046140924_data = {\"mdsDat\": {\"x\": [-0.12622710468617804, -0.07644975451585438, 0.12414316019115035, 0.05315935671374382, 0.025374342297138273], \"y\": [-0.08621645861276152, 0.11322041438485167, -0.002986979792871781, -0.044878615574195445, 0.0208616395949771], \"topics\": [1, 2, 3, 4, 5], \"cluster\": [1, 1, 1, 1, 1], \"Freq\": [37.44543354969181, 19.374922832720838, 17.612889495295637, 14.482899470631635, 11.083854651660076]}, \"tinfo\": {\"Term\": [\"console\", \"call\", \"hour\", \"system\", \"game\", \"week\", \"day\", \"work\", \"problem\", \"power\", \"new\", \"service\", \"shut\", \"good\", \"people\", \"great\", \"form\", \"price\", \"customer\", \"minute\", \"request\", \"slim\", \"first\", \"min\", \"money\", \"support\", \"release\", \"replacement\", \"online\", \"fine\", \"slim\", \"hdr\", \"auto\", \"difference\", \"huge\", \"update\", \"speed\", \"well\", \"unit\", \"file\", \"good\", \"system\", \"quick\", \"external\", \"critique\", \"non\", \"upgrading\", \"movie\", \"reward\", \"harddrive\", \"weird\", \"pocket\", \"upgrade\", \"right\", \"poor\", \"massive\", \"gaming\", \"fast\", \"exact\", \"standard\", \"real\", \"monitor\", \"game\", \"next\", \"reason\", \"many\", \"hardware\", \"time\", \"worth\", \"due\", \"console\", \"great\", \"year\", \"issue\", \"play\", \"thing\", \"price\", \"support\", \"day\", \"digital\", \"physical\", \"license\", \"mine\", \"warranty\", \"battery\", \"kind\", \"machine\", \"playing\", \"hot\", \"illegal\", \"love\", \"pay\", \"today\", \"new\", \"kid\", \"technology\", \"blame\", \"empower\", \"family\", \"season\", \"sign\", \"transfer\", \"amount\", \"owner\", \"licensing\", \"loan\", \"protection\", \"master\", \"simple\", \"nope\", \"rip\", \"old\", \"money\", \"price\", \"original\", \"people\", \"year\", \"game\", \"controller\", \"little\", \"issue\", \"system\", \"month\", \"time\", \"great\", \"console\", \"way\", \"form\", \"call\", \"email\", \"phone\", \"queue\", \"hold\", \"resubmit\", \"full\", \"hoop\", \"purolator\", \"gift\", \"hand\", \"annoying\", \"scam\", \"card\", \"customer\", \"request\", \"service\", \"online\", \"week\", \"factory\", \"refill\", \"jump\", \"frustrating\", \"success\", \"hop\", \"agent\", \"cable\", \"tomorrow\", \"square\", \"hour\", \"bit\", \"minute\", \"star\", \"excited\", \"address\", \"support\", \"release\", \"option\", \"month\", \"issue\", \"time\", \"day\", \"game\", \"thing\", \"replacement\", \"next\", \"console\", \"bad\", \"series\", \"min\", \"work\", \"bug\", \"disc\", \"available\", \"shut\", \"official\", \"preorder\", \"solution\", \"mood\", \"switch\", \"bunch\", \"testing\", \"word\", \"resolution\", \"affect\", \"total\", \"purchasing\", \"ecstatic\", \"lesson\", \"setup\", \"return\", \"used\", \"beast\", \"eject\", \"stuttering\", \"patch\", \"cycle\", \"event\", \"talk\", \"power\", \"cord\", \"console\", \"problem\", \"boot\", \"fine\", \"day\", \"series\", \"turn\", \"hour\", \"box\", \"product\", \"minute\", \"play\", \"good\", \"money\", \"thing\", \"next\", \"time\", \"game\", \"complete\", \"buy\", \"waiting\", \"middle\", \"poop\", \"disappointed\", \"stupid\", \"different\", \"faulty\", \"extra\", \"expedited\", \"robot\", \"feedback\", \"half\", \"freeze\", \"consul\", \"tech\", \"running\", \"app\", \"ton\", \"scalper\", \"distribution\", \"execution\", \"horrible\", \"receive\", \"close\", \"campaign\", \"multiplayer\", \"guess\", \"didn\", \"troll\", \"feed\", \"replenish\", \"dead\", \"gameplay\", \"expensive\", \"item\", \"terrible\", \"problem\", \"first\", \"release\", \"stock\", \"hour\", \"day\", \"great\", \"people\", \"game\", \"replacement\", \"way\", \"week\", \"next\", \"unacceptable\", \"lot\", \"box\", \"look\", \"controller\", \"duty\", \"power\", \"control\", \"sound\", \"headset\", \"order\", \"supply\"], \"Freq\": [20.0, 6.0, 9.0, 17.0, 40.0, 6.0, 11.0, 4.0, 4.0, 5.0, 6.0, 5.0, 3.0, 9.0, 8.0, 8.0, 3.0, 7.0, 3.0, 5.0, 4.0, 7.0, 4.0, 2.0, 7.0, 5.0, 3.0, 4.0, 3.0, 4.0, 6.600577651975204, 4.185711443701885, 4.185711443701885, 4.185708162776874, 4.185707752661247, 3.3807537169555624, 3.380749820857111, 3.380721727936699, 3.3772330793602734, 2.5757980407873715, 8.131126299089718, 13.844771902787476, 1.7708399039254223, 1.7708396988676092, 1.7708396988676092, 1.7708396988676092, 1.7708396988676092, 1.7708396988676092, 1.7708392887519828, 1.7708392887519828, 1.7708392887519828, 1.7708382634629165, 1.770837648289477, 1.770835802769158, 1.7708343673644653, 1.7708300611503875, 1.770826985283189, 1.770818577912847, 1.770818577912847, 1.7707705943845518, 3.38282787673635, 3.381767727841968, 25.037969110603424, 6.557156249908829, 4.993199583863425, 3.0891211101580254, 2.576219844709179, 7.386206219131154, 3.383341546558483, 2.5762145132060352, 8.417810245680656, 4.185973097471562, 4.996767589813569, 4.995108261988939, 3.3801069646126454, 3.3398547310496887, 3.369213268284978, 2.894644075036034, 2.9709225056891584, 2.1318750579929406, 1.4656520732257012, 1.4656520732257012, 1.4656491024116376, 1.4656460254970716, 1.4656447522910443, 1.4656390228639213, 1.4656379618588986, 1.4656352032458395, 1.4656254419996302, 1.4656178027634665, 1.4656169539594484, 1.4655574315776723, 1.4633622121856102, 4.133273659916678, 2.129632517776864, 0.799425640192138, 0.799425640192138, 0.799425640192138, 0.799425640192138, 0.799425640192138, 0.799425640192138, 0.799425640192138, 0.799425640192138, 0.799425640192138, 0.799425640192138, 0.7994255871418868, 0.7994241547851062, 0.799423730383097, 0.799423730383097, 0.7994238895338505, 1.4681972120742648, 1.4659419397979154, 3.4650613968322914, 3.473817871285016, 1.4673066044581717, 3.473980205053496, 4.138311736166686, 9.280010829520368, 2.134190170952573, 1.4664462354852268, 2.9924517757213085, 3.462018010025046, 1.4660115417274076, 2.7980495548306403, 2.129980951826334, 2.122283572587315, 1.4663314347417655, 2.818801285767531, 5.506517929632892, 1.4764998806589167, 1.4764998806589167, 1.4764996877563243, 1.4764996877563243, 1.4764996877563243, 1.476499591305028, 1.476499591305028, 1.4764950580941043, 1.4764902355292917, 1.4764785649224454, 1.4764277350893218, 1.4764219480115468, 1.4756821665693098, 2.8191515968755105, 2.8197372491463404, 3.4916040543496547, 2.1469223277008886, 4.15892048029849, 0.805345850534889, 0.805345850534889, 0.8053457540835928, 0.8053457540835928, 0.8053457540835928, 0.8053457540835928, 0.8053457058579446, 0.8053457058579446, 0.8053457058579446, 0.8053457058579446, 4.834061421204305, 2.1520876804202573, 2.8226815214156655, 1.475874394002736, 1.4739917611512336, 1.47687864489929, 2.5529508417905165, 1.476991589367199, 1.4786492013445502, 1.4755055642458763, 2.626415479312978, 2.8203977476230597, 1.8114703135188148, 1.719075758789157, 1.4793065169284934, 1.478714788226, 1.478606666322904, 1.4784957473322164, 1.4776751397037222, 1.4769003464409465, 1.9861360400653802, 3.2350590181809236, 1.3688729685105134, 1.3688712236703264, 1.3688639270659075, 2.6143172111584336, 0.7466424162538172, 0.7466424162538172, 0.7466424162538172, 0.7466424162538172, 0.7466423369428996, 0.7466423369428996, 0.7466423369428996, 0.7466423369428996, 0.7466423369428996, 0.7466423369428996, 0.7466423369428996, 0.7466422576319821, 0.7466422576319821, 0.7466405127917949, 0.7466405127917949, 0.7466404334808774, 0.7466404334808774, 0.7466404334808774, 0.7466404334808774, 0.7466403541699598, 0.7466403541699598, 0.7466378955315143, 0.7466378955315143, 0.7466366265568327, 3.247876296951879, 1.3696565603763682, 7.447174609728296, 1.9913629467786682, 1.3692379573532931, 1.992504389504719, 3.8678246775547325, 1.9923478297533832, 1.3694308415048881, 1.989588920173867, 1.3722817517488164, 1.371935956148095, 1.3670294655418975, 1.3689264240689736, 1.4301891906354751, 0.7975904014322897, 0.7844544513944312, 0.7822312870632802, 0.7601514448480503, 0.7527687087726509, 0.7497025486983654, 0.7479707948126432, 0.7472723828722873, 0.7472403412615782, 1.2071305415671458, 1.2071288420470205, 0.6584223206886894, 0.6584223206886894, 0.6584223206886894, 0.6584223206886894, 0.6584222599915421, 0.6584207425628589, 0.6584207425628589, 0.6584201962885329, 0.6584201962885329, 0.6584201962885329, 0.6584201962885329, 0.6584200748942383, 0.6584200748942383, 0.6584200748942383, 0.6584180718883763, 0.6584180718883763, 0.6584180718883763, 0.6584180718883763, 0.6584175863111977, 0.6584175863111977, 0.6584175863111977, 0.6584163723682511, 0.6584163723682511, 0.6584163723682511, 0.6584146728481258, 0.6584146728481258, 0.6584146728481258, 0.6584119414764961, 0.6584119414764961, 1.2081025456844843, 1.2068112745721913, 1.2090446868053366, 1.7556061102798872, 1.7568631482010861, 1.2067292120290016, 1.2052041355051943, 2.3033574406306903, 2.3030767770214373, 1.757042204785709, 1.7591025087546697, 3.3989625581169887, 1.2054818856513754, 1.2060287669488163, 1.2079891634132722, 1.2036084075018956, 0.6619545911775437, 0.6609053802888019, 0.659680572552835, 0.6592059815578637, 0.6589452873100825, 0.6589149994335649, 0.658813392408935, 0.6587735750802867, 0.6586949115773473, 0.6586948508802, 0.6586298442354098, 0.6584875701220689], \"Total\": [20.0, 6.0, 9.0, 17.0, 40.0, 6.0, 11.0, 4.0, 4.0, 5.0, 6.0, 5.0, 3.0, 9.0, 8.0, 8.0, 3.0, 7.0, 3.0, 5.0, 4.0, 7.0, 4.0, 2.0, 7.0, 5.0, 3.0, 4.0, 3.0, 4.0, 7.102245462552485, 4.687376619784127, 4.687376763791685, 4.687374255351901, 4.687375457432896, 3.8824187797261334, 3.882417072583351, 3.8824061533633487, 3.8818109534959344, 3.077462003363404, 9.93857004415884, 17.67786070493104, 2.2725030684618104, 2.272502979563697, 2.272502990764197, 2.2725030192061424, 2.272503029140739, 2.2725030296362214, 2.2725027273020877, 2.272502749627789, 2.272502783555704, 2.27250234411836, 2.2725020010238675, 2.272501225302644, 2.2725010005758812, 2.2724991402480903, 2.2724976923194515, 2.2724945226082864, 2.2724945226082864, 2.2724760457236908, 4.548956070754089, 4.548774864126295, 40.18878696580259, 10.15487701668647, 7.996248964661955, 4.505052523121708, 3.626280826967374, 13.87455309458136, 5.215261647110035, 3.6997558819996352, 20.116106431067486, 8.331878502075865, 11.332930312250744, 12.01273329223736, 6.459143143152068, 6.5033542881838935, 7.211489726187375, 5.815034690893075, 11.750448355272834, 2.6612859820204933, 1.995062853680625, 1.9950629167044938, 1.9950620936732328, 1.995061227365877, 1.995060946249827, 1.9950595048164528, 1.9950591575528, 1.9950586115866953, 1.9950559370555825, 1.9950543788607888, 1.9950538411242034, 1.9950401527389048, 1.995042866849335, 6.086899511447407, 3.332404456953604, 1.328836584657429, 1.3288366118881278, 1.3288366163573966, 1.3288366194752714, 1.3288366194752714, 1.328836622593146, 1.328836636000952, 1.3288366391188269, 1.328836675288063, 1.3288367056366366, 1.3288366700873933, 1.3288364054542652, 1.3288361434475362, 1.3288361434475362, 1.3288364416133103, 2.544191701801669, 2.617279938486827, 7.01561603380467, 7.211489726187375, 2.799587155124708, 8.724041497802334, 11.332930312250744, 40.18878696580259, 5.307962690396704, 3.604737401125442, 12.01273329223736, 17.67786070493104, 3.959556940895603, 13.87455309458136, 8.331878502075865, 20.116106431067486, 4.519924934578429, 3.347226144468662, 6.581277803926958, 2.0049237881607898, 2.0049238405908008, 2.0049236868726057, 2.004923760706507, 2.0049238439101975, 2.0049238025814065, 2.004923827279173, 2.0049224412501627, 2.004921163057367, 2.0049182496531746, 2.0049046026275814, 2.0049031391472356, 2.004905616609661, 3.96965884039307, 4.151922814303824, 5.189741503505807, 3.298461395825678, 6.409152520465222, 1.33376933232377, 1.333769359260741, 1.3337692552537534, 1.3337692696044667, 1.3337692731697588, 1.3337692901928653, 1.33376923954287, 1.3337692524566092, 1.333769260075205, 1.3337692653041746, 9.422509276867437, 3.891509119075718, 5.257995771170515, 2.6275432628070843, 2.627089965331349, 2.8097318855120754, 5.815034690893075, 3.1024076431353333, 3.3587988751335347, 3.959556940895603, 12.01273329223736, 13.87455309458136, 11.750448355272834, 40.18878696580259, 6.5033542881838935, 4.435093723827612, 10.15487701668647, 20.116106431067486, 4.647334484866266, 6.696477111667679, 2.53068893851198, 4.4449186348830745, 1.9070831281537473, 1.9070829047407625, 1.9070813266403528, 3.700341389566735, 1.2848521518884806, 1.284852162738742, 1.2848521964956765, 1.2848522001141287, 1.284852120803211, 1.2848521316534725, 1.2848521352719247, 1.2848521449160353, 1.2848521690288592, 1.284852171441161, 1.2848522112288492, 1.2848521512061526, 1.2848521656748662, 1.2848517000886979, 1.2848517000886979, 1.2848516680194144, 1.2848516680194144, 1.2848516680194144, 1.284851909097564, 1.2848518032615208, 1.284851843049209, 1.2848511100030842, 1.2848511100030842, 1.2848510233919994, 5.823582625182407, 2.5732085787100725, 20.116106431067486, 4.175443876794142, 2.7118591836571944, 4.553855632930958, 11.750448355272834, 6.696477111667679, 4.054204490798029, 9.422509276867437, 4.730269197359917, 4.9877535619011635, 5.257995771170515, 6.459143143152068, 9.93857004415884, 7.01561603380467, 6.5033542881838935, 10.15487701668647, 13.87455309458136, 40.18878696580259, 2.637514175928457, 2.7598208714910912, 1.9509938820947492, 4.095853950993922, 1.7600466404870518, 1.7600464987164737, 1.2113376825222062, 1.2113376957847688, 1.2113376957847688, 1.2113377223098944, 1.211337727925561, 1.2113376139298966, 1.2113376139298966, 1.2113375638146682, 1.2113375638146682, 1.2113375638146682, 1.21133757587108, 1.2113375611604935, 1.2113375611604935, 1.2113375611604935, 1.2113374992500918, 1.2113374992500918, 1.2113374992500918, 1.2113374992500918, 1.2113374173632612, 1.2113374173632612, 1.211337427277126, 1.211337281820924, 1.211337281820924, 1.211337281820924, 1.2113372230169501, 1.2113372230169501, 1.2113372230169501, 1.2113370598603241, 1.2113370598603241, 2.3821146490876135, 2.426295185899785, 2.562171368194088, 4.175443876794142, 4.406804021174344, 3.1024076431353333, 3.2365586326365534, 9.422509276867437, 11.750448355272834, 8.331878502075865, 8.724041497802334, 40.18878696580259, 4.435093723827612, 4.519924934578429, 6.409152520465222, 10.15487701668647, 2.012015764586847, 1.8769745882710698, 4.730269197359917, 2.820808312915008, 5.307962690396704, 1.8774183563651468, 5.823582625182407, 1.877437798027057, 1.8774613431863434, 1.877461282489196, 2.548591679466798, 1.8775079001150936], \"Category\": [\"Default\", \"Default\", \"Default\", \"Default\", \"Default\", \"Default\", \"Default\", \"Default\", \"Default\", \"Default\", \"Default\", \"Default\", \"Default\", \"Default\", \"Default\", \"Default\", \"Default\", \"Default\", \"Default\", \"Default\", \"Default\", \"Default\", \"Default\", \"Default\", \"Default\", \"Default\", \"Default\", \"Default\", \"Default\", \"Default\", \"Topic1\", \"Topic1\", \"Topic1\", \"Topic1\", \"Topic1\", \"Topic1\", \"Topic1\", \"Topic1\", \"Topic1\", \"Topic1\", \"Topic1\", \"Topic1\", \"Topic1\", \"Topic1\", \"Topic1\", \"Topic1\", \"Topic1\", \"Topic1\", \"Topic1\", \"Topic1\", \"Topic1\", \"Topic1\", \"Topic1\", \"Topic1\", \"Topic1\", \"Topic1\", \"Topic1\", \"Topic1\", \"Topic1\", \"Topic1\", \"Topic1\", \"Topic1\", \"Topic1\", \"Topic1\", \"Topic1\", \"Topic1\", \"Topic1\", \"Topic1\", \"Topic1\", \"Topic1\", \"Topic1\", \"Topic1\", \"Topic1\", \"Topic1\", \"Topic1\", \"Topic1\", \"Topic1\", \"Topic1\", \"Topic1\", \"Topic2\", \"Topic2\", \"Topic2\", \"Topic2\", \"Topic2\", \"Topic2\", \"Topic2\", \"Topic2\", \"Topic2\", \"Topic2\", \"Topic2\", \"Topic2\", \"Topic2\", \"Topic2\", \"Topic2\", \"Topic2\", \"Topic2\", \"Topic2\", \"Topic2\", \"Topic2\", \"Topic2\", \"Topic2\", \"Topic2\", \"Topic2\", \"Topic2\", \"Topic2\", \"Topic2\", \"Topic2\", \"Topic2\", \"Topic2\", \"Topic2\", \"Topic2\", \"Topic2\", \"Topic2\", \"Topic2\", \"Topic2\", \"Topic2\", \"Topic2\", \"Topic2\", \"Topic2\", \"Topic2\", \"Topic2\", \"Topic2\", \"Topic2\", \"Topic2\", \"Topic2\", \"Topic2\", \"Topic2\", \"Topic3\", \"Topic3\", \"Topic3\", \"Topic3\", \"Topic3\", \"Topic3\", \"Topic3\", \"Topic3\", \"Topic3\", \"Topic3\", \"Topic3\", \"Topic3\", \"Topic3\", \"Topic3\", \"Topic3\", \"Topic3\", \"Topic3\", \"Topic3\", \"Topic3\", \"Topic3\", \"Topic3\", \"Topic3\", \"Topic3\", \"Topic3\", \"Topic3\", \"Topic3\", \"Topic3\", \"Topic3\", \"Topic3\", \"Topic3\", \"Topic3\", \"Topic3\", \"Topic3\", \"Topic3\", \"Topic3\", \"Topic3\", \"Topic3\", \"Topic3\", \"Topic3\", \"Topic3\", \"Topic3\", \"Topic3\", \"Topic3\", \"Topic3\", \"Topic3\", \"Topic3\", \"Topic3\", \"Topic3\", \"Topic3\", \"Topic3\", \"Topic4\", \"Topic4\", \"Topic4\", \"Topic4\", \"Topic4\", \"Topic4\", \"Topic4\", \"Topic4\", \"Topic4\", \"Topic4\", \"Topic4\", \"Topic4\", \"Topic4\", \"Topic4\", \"Topic4\", \"Topic4\", \"Topic4\", \"Topic4\", \"Topic4\", \"Topic4\", \"Topic4\", \"Topic4\", \"Topic4\", \"Topic4\", \"Topic4\", \"Topic4\", \"Topic4\", \"Topic4\", \"Topic4\", \"Topic4\", \"Topic4\", \"Topic4\", \"Topic4\", \"Topic4\", \"Topic4\", \"Topic4\", \"Topic4\", \"Topic4\", \"Topic4\", \"Topic4\", \"Topic4\", \"Topic4\", \"Topic4\", \"Topic4\", \"Topic4\", \"Topic4\", \"Topic4\", \"Topic4\", \"Topic4\", \"Topic4\", \"Topic4\", \"Topic4\", \"Topic4\", \"Topic4\", \"Topic5\", \"Topic5\", \"Topic5\", \"Topic5\", \"Topic5\", \"Topic5\", \"Topic5\", \"Topic5\", \"Topic5\", \"Topic5\", \"Topic5\", \"Topic5\", \"Topic5\", \"Topic5\", \"Topic5\", \"Topic5\", \"Topic5\", \"Topic5\", \"Topic5\", \"Topic5\", \"Topic5\", \"Topic5\", \"Topic5\", \"Topic5\", \"Topic5\", \"Topic5\", \"Topic5\", \"Topic5\", \"Topic5\", \"Topic5\", \"Topic5\", \"Topic5\", \"Topic5\", \"Topic5\", \"Topic5\", \"Topic5\", \"Topic5\", \"Topic5\", \"Topic5\", \"Topic5\", \"Topic5\", \"Topic5\", \"Topic5\", \"Topic5\", \"Topic5\", \"Topic5\", \"Topic5\", \"Topic5\", \"Topic5\", \"Topic5\", \"Topic5\", \"Topic5\", \"Topic5\", \"Topic5\", \"Topic5\", \"Topic5\", \"Topic5\", \"Topic5\", \"Topic5\"], \"logprob\": [30.0, 29.0, 28.0, 27.0, 26.0, 25.0, 24.0, 23.0, 22.0, 21.0, 20.0, 19.0, 18.0, 17.0, 16.0, 15.0, 14.0, 13.0, 12.0, 11.0, 10.0, 9.0, 8.0, 7.0, 6.0, 5.0, 4.0, 3.0, 2.0, 1.0, -4.200399875640869, -4.655900001525879, -4.655900001525879, -4.655900001525879, -4.655900001525879, -4.869500160217285, -4.869500160217285, -4.869500160217285, -4.870500087738037, -5.14139986038208, -3.9918999671936035, -3.459700107574463, -5.51609992980957, -5.51609992980957, -5.51609992980957, -5.51609992980957, -5.51609992980957, -5.51609992980957, -5.51609992980957, -5.51609992980957, -5.51609992980957, -5.51609992980957, -5.51609992980957, -5.51609992980957, -5.51609992980957, -5.51609992980957, -5.51609992980957, -5.51609992980957, -5.51609992980957, -5.516200065612793, -4.868899822235107, -4.869200229644775, -2.8671998977661133, -4.206999778747559, -4.479499816894531, -4.959700107574463, -5.141300201416016, -4.0879998207092285, -4.86870002746582, -5.141300201416016, -3.957200050354004, -4.655799865722656, -4.478799819946289, -4.479100227355957, -4.869699954986572, -4.881700038909912, -4.872900009155273, -5.024700164794922, -4.998700141906738, -4.6717000007629395, -5.04640007019043, -5.04640007019043, -5.04640007019043, -5.04640007019043, -5.04640007019043, -5.04640007019043, -5.04640007019043, -5.04640007019043, -5.04640007019043, -5.04640007019043, -5.04640007019043, -5.04640007019043, -5.047900199890137, -4.0096001625061035, -4.672699928283691, -5.652500152587891, -5.652500152587891, -5.652500152587891, -5.652500152587891, -5.652500152587891, -5.652500152587891, -5.652500152587891, -5.652500152587891, -5.652500152587891, -5.652500152587891, -5.652500152587891, -5.652500152587891, -5.652500152587891, -5.652500152587891, -5.652500152587891, -5.044600009918213, -5.046199798583984, -4.185999870300293, -4.1834001541137695, -5.045300006866455, -4.1834001541137695, -4.008399963378906, -3.2007999420166016, -4.670599937438965, -5.04580020904541, -4.332600116729736, -4.186800003051758, -5.04610013961792, -4.399799823760986, -4.672599792480469, -4.676199913024902, -5.045899868011475, -4.296999931335449, -3.6273999214172363, -4.943699836730957, -4.943699836730957, -4.943699836730957, -4.943699836730957, -4.943699836730957, -4.943699836730957, -4.943699836730957, -4.943699836730957, -4.943699836730957, -4.943699836730957, -4.943699836730957, -4.943699836730957, -4.944200038909912, -4.296899795532227, -4.2967000007629395, -4.083000183105469, -4.569300174713135, -3.908099889755249, -5.549799919128418, -5.549799919128418, -5.549799919128418, -5.549799919128418, -5.549799919128418, -5.549799919128418, -5.549799919128418, -5.549799919128418, -5.549799919128418, -5.549799919128418, -3.7576000690460205, -4.56689977645874, -4.295599937438965, -4.9440999031066895, -4.945400238037109, -4.943399906158447, -4.396100044250488, -4.943299770355225, -4.942200183868408, -4.944300174713135, -4.367700099945068, -4.296500205993652, -4.739200115203857, -4.791500091552734, -4.941800117492676, -4.942200183868408, -4.942200183868408, -4.942299842834473, -4.94290018081665, -4.943399906158447, -4.451499938964844, -3.963599920272827, -4.823699951171875, -4.823699951171875, -4.823699951171875, -4.176700115203857, -5.429800033569336, -5.429800033569336, -5.429800033569336, -5.429800033569336, -5.429800033569336, -5.429800033569336, -5.429800033569336, -5.429800033569336, -5.429800033569336, -5.429800033569336, -5.429800033569336, -5.429800033569336, -5.429800033569336, -5.429800033569336, -5.429800033569336, -5.429800033569336, -5.429800033569336, -5.429800033569336, -5.429800033569336, -5.429800033569336, -5.429800033569336, -5.429800033569336, -5.429800033569336, -5.429800033569336, -3.959700107574463, -4.8231000900268555, -3.1298000812530518, -4.44890022277832, -4.823400020599365, -4.448299884796143, -3.7850000858306885, -4.448400020599365, -4.823299884796143, -4.449699878692627, -4.821199893951416, -4.821400165557861, -4.824999809265137, -4.823599815368652, -4.779900074005127, -5.363800048828125, -5.38040018081665, -5.383299827575684, -5.411900043487549, -5.4217000007629395, -5.42579984664917, -5.428100109100342, -5.428999900817871, -5.428999900817871, -4.6819000244140625, -4.6819000244140625, -5.288099765777588, -5.288099765777588, -5.288099765777588, -5.288099765777588, -5.288099765777588, -5.288099765777588, -5.288099765777588, -5.288099765777588, -5.288099765777588, -5.288099765777588, -5.288099765777588, -5.288099765777588, -5.288099765777588, -5.288099765777588, -5.288099765777588, -5.288099765777588, -5.288099765777588, -5.288099765777588, -5.288099765777588, -5.288099765777588, -5.288099765777588, -5.288099765777588, -5.288099765777588, -5.288099765777588, -5.288099765777588, -5.288099765777588, -5.288099765777588, -5.288099765777588, -5.288099765777588, -4.681099891662598, -4.682199954986572, -4.6803998947143555, -4.307400226593018, -4.306700229644775, -4.682300090789795, -4.683499813079834, -4.035799980163574, -4.035900115966797, -4.306600093841553, -4.3053998947143555, -3.646699905395508, -4.683300018310547, -4.6828999519348145, -4.68120002746582, -4.684899806976318, -5.282800197601318, -5.284299850463867, -5.286200046539307, -5.286900043487549, -5.287300109863281, -5.287399768829346, -5.287499904632568, -5.287600040435791, -5.287700176239014, -5.287700176239014, -5.287799835205078, -5.288000106811523], \"loglift\": [30.0, 29.0, 28.0, 27.0, 26.0, 25.0, 24.0, 23.0, 22.0, 21.0, 20.0, 19.0, 18.0, 17.0, 16.0, 15.0, 14.0, 13.0, 12.0, 11.0, 10.0, 9.0, 8.0, 7.0, 6.0, 5.0, 4.0, 3.0, 2.0, 1.0, 0.909, 0.8691, 0.8691, 0.8691, 0.8691, 0.8439, 0.8439, 0.8439, 0.843, 0.8043, 0.7816, 0.7379, 0.7329, 0.7329, 0.7329, 0.7329, 0.7329, 0.7329, 0.7329, 0.7329, 0.7329, 0.7329, 0.7329, 0.7329, 0.7329, 0.7329, 0.7329, 0.7328, 0.7328, 0.7328, 0.6861, 0.6858, 0.5091, 0.5449, 0.5114, 0.605, 0.6404, 0.3518, 0.5496, 0.6203, 0.1111, 0.2939, 0.1634, 0.1048, 0.3347, 0.3159, 0.2213, 0.2847, -0.3927, 1.4194, 1.3328, 1.3328, 1.3328, 1.3328, 1.3328, 1.3328, 1.3328, 1.3328, 1.3328, 1.3328, 1.3328, 1.3328, 1.3313, 1.2541, 1.1934, 1.133, 1.133, 1.133, 1.133, 1.133, 1.133, 1.133, 1.133, 1.133, 1.133, 1.133, 1.133, 1.133, 1.133, 1.133, 1.0914, 1.0616, 0.9358, 0.9108, 0.9951, 0.7204, 0.6338, 0.1755, 0.7301, 0.7418, 0.2513, 0.0107, 0.6476, 0.0401, 0.2772, -0.6078, 0.5155, 1.5647, 1.5582, 1.4306, 1.4306, 1.4306, 1.4306, 1.4306, 1.4306, 1.4306, 1.4306, 1.4306, 1.4306, 1.4306, 1.4306, 1.4301, 1.3943, 1.3496, 1.3402, 1.3071, 1.3041, 1.232, 1.232, 1.232, 1.232, 1.232, 1.232, 1.232, 1.232, 1.232, 1.232, 1.0691, 1.1442, 1.1145, 1.1597, 1.1586, 1.0934, 0.9133, 0.9944, 0.9161, 0.7494, 0.2162, 0.1434, -0.1332, -1.4153, 0.2558, 0.6382, -0.1903, -0.874, 0.5907, 0.2249, 1.6899, 1.6145, 1.6006, 1.6006, 1.6006, 1.5848, 1.3894, 1.3894, 1.3894, 1.3894, 1.3894, 1.3894, 1.3894, 1.3894, 1.3894, 1.3894, 1.3894, 1.3894, 1.3894, 1.3894, 1.3894, 1.3894, 1.3894, 1.3894, 1.3894, 1.3894, 1.3894, 1.3894, 1.3894, 1.3894, 1.3483, 1.3016, 0.9385, 1.1918, 1.2488, 1.1056, 0.821, 0.7199, 0.8468, 0.377, 0.6947, 0.6414, 0.5851, 0.3807, -0.0064, -0.2421, -0.1829, -0.6314, -0.9721, -2.0454, 0.6743, 0.6266, 0.9725, 0.2309, 1.8226, 1.8226, 1.59, 1.59, 1.59, 1.59, 1.59, 1.59, 1.59, 1.59, 1.59, 1.59, 1.59, 1.59, 1.59, 1.59, 1.59, 1.59, 1.59, 1.59, 1.59, 1.59, 1.59, 1.59, 1.59, 1.59, 1.59, 1.59, 1.59, 1.59, 1.59, 1.5207, 1.5013, 1.4487, 1.3333, 1.2801, 1.2554, 1.2118, 0.7909, 0.57, 0.6432, 0.5984, -0.2704, 0.897, 0.8785, 0.5309, 0.0671, 1.088, 1.1559, 0.2297, 0.7459, 0.1134, 1.1526, 0.0205, 1.1524, 1.1523, 1.1523, 0.8465, 1.1519]}, \"token.table\": {\"Topic\": [1, 3, 4, 3, 2, 3, 5, 1, 4, 1, 2, 3, 4, 5, 2, 4, 2, 3, 5, 2, 1, 4, 1, 2, 4, 5, 4, 4, 1, 3, 4, 3, 3, 5, 5, 3, 5, 1, 4, 5, 1, 2, 3, 4, 5, 5, 2, 5, 1, 2, 3, 4, 5, 2, 4, 1, 3, 4, 4, 1, 2, 3, 4, 5, 5, 5, 1, 5, 2, 5, 4, 5, 1, 4, 2, 5, 4, 4, 3, 2, 4, 1, 3, 4, 5, 5, 4, 5, 1, 5, 3, 2, 1, 5, 5, 5, 1, 1, 3, 4, 5, 1, 3, 4, 5, 3, 5, 3, 3, 1, 2, 3, 4, 5, 5, 1, 3, 1, 4, 1, 2, 5, 5, 5, 3, 1, 1, 5, 1, 2, 5, 3, 3, 3, 5, 2, 3, 4, 5, 1, 2, 1, 2, 3, 4, 5, 2, 5, 3, 2, 3, 2, 4, 2, 2, 1, 2, 2, 1, 5, 2, 5, 2, 2, 1, 3, 1, 2, 1, 2, 3, 4, 4, 2, 2, 3, 4, 1, 2, 4, 1, 2, 2, 3, 4, 4, 1, 5, 1, 2, 4, 1, 3, 4, 5, 1, 2, 4, 2, 4, 3, 4, 1, 3, 5, 2, 3, 5, 1, 2, 2, 4, 2, 1, 2, 3, 5, 3, 2, 1, 2, 4, 2, 1, 5, 1, 1, 3, 4, 5, 4, 1, 2, 4, 5, 1, 2, 4, 2, 4, 3, 3, 1, 1, 2, 1, 2, 4, 5, 5, 3, 3, 5, 2, 3, 5, 5, 1, 3, 4, 3, 4, 1, 1, 2, 5, 5, 5, 5, 3, 2, 1, 2, 3, 4, 5, 3, 4, 5, 4, 4, 5, 2, 2, 1, 4, 2, 5, 1, 3, 1, 3, 4, 1, 3, 5, 5, 4, 3, 2, 5, 1, 3, 4, 1, 2, 4, 5, 2, 1, 5, 4, 1, 2, 3, 4, 1, 2, 3, 4, 2, 3, 5, 4, 2, 5, 1, 3, 4, 1, 5, 1, 1, 1, 1, 4, 2, 4, 2, 1, 2, 4, 5, 3, 4, 5, 1, 1, 4, 3, 4, 1, 2, 1, 2, 3, 4, 5], \"Freq\": [0.35590584466665204, 0.35590584466665204, 0.7782996536312383, 0.7497548828931874, 0.7525379497837418, 0.49877684887820756, 0.8255337174899237, 0.8533557683902379, 0.5243614868599598, 0.21517710921312702, 0.21517710921312702, 0.21517710921312702, 0.21517710921312702, 0.21517710921312702, 0.5012378202679615, 0.7782999585792574, 0.25696971776273586, 0.5139394355254717, 0.25696971776273586, 0.752537965204851, 0.36875071022360645, 0.36875071022360645, 0.4228089177495967, 0.21140445887479836, 0.21140445887479836, 0.21140445887479836, 0.5243609915253683, 0.7782996777326453, 0.36234235719063695, 0.36234235719063695, 0.36234235719063695, 0.7497548756339564, 0.9116770601022012, 0.1519461766837002, 0.8255338087322411, 0.49877659662155155, 0.8255338154886003, 0.3791448816186856, 0.3791448816186856, 0.3791448816186856, 0.397691274273869, 0.09942281856846726, 0.04971140928423363, 0.3479798649896354, 0.04971140928423363, 0.8255337156810879, 0.5326408156109725, 0.5326408156109725, 0.1883961998846044, 0.3767923997692088, 0.1883961998846044, 0.1883961998846044, 0.1883961998846044, 0.38861987647394347, 0.38861987647394347, 0.8800868505468677, 0.7557324497192671, 0.25191081657308906, 0.778300296598257, 0.25530940686648745, 0.08510313562216247, 0.17020627124432494, 0.3404125424886499, 0.17020627124432494, 0.8255340591290975, 0.8255339078615375, 0.853356225062021, 0.8255336257426935, 0.7515163772371304, 0.5681668073708604, 0.5243610529537698, 0.825533759682231, 0.8108643098848368, 0.2702881032949456, 0.5326463313888606, 0.5326463313888606, 0.7782996571241735, 0.7782998125459966, 0.49877207597868184, 0.7525379626738442, 0.778300296598257, 0.8800901300762973, 0.38064931661899604, 0.38064931661899604, 0.825533759682231, 0.8255336038385588, 0.41979507593516346, 0.41979507593516346, 0.8800868548845575, 0.8255336076656677, 0.7497548307380424, 0.75253796090815, 0.8800901300762973, 0.8255336257426935, 0.8255339479368142, 0.8255336815272647, 0.9748292575899411, 0.2195941374971474, 0.2195941374971474, 0.4391882749942948, 0.2195941374971474, 0.22692182252604817, 0.22692182252604817, 0.22692182252604817, 0.45384364505209634, 0.8962645099308698, 0.8255337156810879, 0.7497548659945906, 0.49877207239121335, 0.6220640603378494, 0.22394306172162579, 0.049765124827027954, 0.024882562413513977, 0.07464768724054192, 0.8255340591290975, 0.8800889025144296, 0.4987727290359231, 0.8049447721809649, 0.10061809652262062, 0.48008381291246754, 0.24004190645623377, 0.24004190645623377, 0.8255339078615375, 0.8255337156810879, 0.4987734538168762, 0.8800869439333255, 0.8272938978388149, 0.2757646326129383, 0.8533557946073932, 0.532634153005898, 0.532634153005898, 0.49877208280858226, 0.4987720662470616, 0.7497548544211858, 0.825533759682231, 0.5012390787778398, 0.5306442109083576, 0.21225768436334302, 0.21225768436334302, 0.8533560062181691, 0.5012394702599623, 0.41622500711232846, 0.24973500426739706, 0.24973500426739706, 0.08324500142246569, 0.08324500142246569, 0.41215100529046006, 0.41215100529046006, 0.749754874061591, 0.60016724435315, 0.300083622176575, 0.5012381824130108, 0.7782999391532629, 0.5012373252126959, 0.752537912113819, 0.5548254359320532, 0.2774127179660266, 0.7525379322458292, 0.7090166286177776, 0.3545083143088888, 0.5327722635398735, 0.5327722635398735, 0.5012396053614797, 0.5012382696594472, 0.6659189842078013, 0.22197299473593377, 0.8800883417635347, 0.7525382304891235, 0.24414933050953505, 0.24414933050953505, 0.24414933050953505, 0.24414933050953505, 0.7902986295802834, 0.5012375319902138, 0.19018653561552482, 0.5705596068465744, 0.19018653561552482, 0.4276174730122818, 0.4276174730122818, 0.1425391576707606, 0.6595182416389439, 0.21983941387964798, 0.25255350912413255, 0.25255350912413255, 0.25255350912413255, 0.7782996362625785, 0.8800868354926491, 0.8255339078615375, 0.16428725299626468, 0.6571490119850587, 0.16428725299626468, 0.6893239562131197, 0.09847485088758853, 0.09847485088758853, 0.09847485088758853, 0.8800868395319729, 0.7525380616337723, 0.7782996654752815, 0.3820760573964997, 0.3820760573964997, 0.606343309802283, 0.3031716549011415, 0.2977254778198779, 0.2977254778198779, 0.2977254778198779, 0.3923735638222025, 0.3923735638222025, 0.3923735638222025, 0.3571955236933693, 0.3571955236933693, 0.7525379293006206, 0.7782998525548293, 0.5012430444706304, 0.34387731887287876, 0.34387731887287876, 0.11462577295762624, 0.22925154591525249, 0.49877206293548043, 0.5012373410467411, 0.46445789070034404, 0.15481929690011467, 0.15481929690011467, 0.5012384068279013, 0.8800871009776319, 0.5681667616054046, 0.8800876213005733, 0.1717156026387928, 0.1717156026387928, 0.5151468079163783, 0.1717156026387928, 0.7782996589027318, 0.41600281133397143, 0.41600281133397143, 0.47899099090168523, 0.47899099090168523, 0.6014731808153932, 0.20049106027179772, 0.20049106027179772, 0.7525380821111295, 0.7782996658886019, 0.4987724110546906, 0.4987721011765076, 0.8800868204564144, 0.6594919698801761, 0.21983065662672535, 0.6252931871051838, 0.12505863742103676, 0.12505863742103676, 0.12505863742103676, 0.8255338154886003, 0.7497548155959011, 0.3223303044049321, 0.3223303044049321, 0.22547437828145186, 0.22547437828145186, 0.22547437828145186, 0.8255339479368142, 0.24085226164486767, 0.722556784934603, 0.7782996550924909, 0.49877206210970226, 0.7782999585792574, 0.8800869525795454, 0.8800875342690504, 0.3930521427657555, 0.3930521427657555, 0.8255336815272647, 0.8255337174899237, 0.825533759682231, 0.49877721296069166, 0.75253796090815, 0.2986645017445484, 0.1493322508722742, 0.1493322508722742, 0.2986645017445484, 0.1493322508722742, 0.578063473483876, 0.19268782449462532, 0.19268782449462532, 0.7782999391532629, 0.8107360062665092, 0.2702453354221697, 0.7525379591424559, 0.7525382304891235, 0.9856037836073693, 0.778299638454457, 0.53263413578617, 0.53263413578617, 0.772714508491435, 0.749754868411924, 0.8800972858497532, 0.3805836479098234, 0.3805836479098234, 0.3089701480814465, 0.3089701480814465, 0.3089701480814465, 0.8255336347812064, 0.7782998766562484, 0.7497548639904246, 0.5326209279538577, 0.5326209279538577, 0.51590405895571, 0.51590405895571, 0.7782996843051955, 0.7919510303695774, 0.1697037922220523, 0.7783003490630421, 0.825533707464572, 0.7525379806259606, 0.3902939562956855, 0.3902939562956855, 0.7782996755407665, 0.4613004100746556, 0.15376680335821852, 0.15376680335821852, 0.15376680335821852, 0.5045207548150734, 0.21622318063503146, 0.21622318063503146, 0.07207439354501048, 0.5012423625659967, 0.7497548713512971, 0.8255337174899237, 0.778299629529833, 0.752537951549436, 0.8255339479368142, 0.24665751376619882, 0.24665751376619882, 0.24665751376619882, 0.49701399839943244, 0.49701399839943244, 0.7728351627474849, 0.7727141687202587, 0.8800872338501384, 0.8800868356845378, 0.7782999585792574, 0.5125592700097639, 0.5125592700097639, 0.5012377496405571, 0.22124261231636347, 0.22124261231636347, 0.22124261231636347, 0.22124261231636347, 0.6241074755558558, 0.15602686888896394, 0.15602686888896394, 0.880086930793841, 0.7727166817415753, 0.7782996696988428, 0.22497599667002802, 0.674927990010084, 0.5752348018171646, 0.19174493393905484, 0.44119215968310227, 0.3529537277464818, 0.08823843193662045, 0.08823843193662045, 0.08823843193662045], \"Term\": [\"address\", \"address\", \"affect\", \"agent\", \"amount\", \"annoying\", \"app\", \"auto\", \"available\", \"bad\", \"bad\", \"bad\", \"bad\", \"bad\", \"battery\", \"beast\", \"bit\", \"bit\", \"bit\", \"blame\", \"boot\", \"boot\", \"box\", \"box\", \"box\", \"box\", \"bug\", \"bunch\", \"buy\", \"buy\", \"buy\", \"cable\", \"call\", \"call\", \"campaign\", \"card\", \"close\", \"complete\", \"complete\", \"complete\", \"console\", \"console\", \"console\", \"console\", \"console\", \"consul\", \"control\", \"control\", \"controller\", \"controller\", \"controller\", \"controller\", \"controller\", \"cord\", \"cord\", \"critique\", \"customer\", \"customer\", \"cycle\", \"day\", \"day\", \"day\", \"day\", \"day\", \"dead\", \"didn\", \"difference\", \"different\", \"digital\", \"disappointed\", \"disc\", \"distribution\", \"due\", \"due\", \"duty\", \"duty\", \"ecstatic\", \"eject\", \"email\", \"empower\", \"event\", \"exact\", \"excited\", \"excited\", \"execution\", \"expedited\", \"expensive\", \"expensive\", \"external\", \"extra\", \"factory\", \"family\", \"fast\", \"faulty\", \"feed\", \"feedback\", \"file\", \"fine\", \"fine\", \"fine\", \"fine\", \"first\", \"first\", \"first\", \"first\", \"form\", \"freeze\", \"frustrating\", \"full\", \"game\", \"game\", \"game\", \"game\", \"game\", \"gameplay\", \"gaming\", \"gift\", \"good\", \"good\", \"great\", \"great\", \"great\", \"guess\", \"half\", \"hand\", \"harddrive\", \"hardware\", \"hardware\", \"hdr\", \"headset\", \"headset\", \"hold\", \"hoop\", \"hop\", \"horrible\", \"hot\", \"hour\", \"hour\", \"hour\", \"huge\", \"illegal\", \"issue\", \"issue\", \"issue\", \"issue\", \"issue\", \"item\", \"item\", \"jump\", \"kid\", \"kid\", \"kind\", \"lesson\", \"license\", \"licensing\", \"little\", \"little\", \"loan\", \"look\", \"look\", \"lot\", \"lot\", \"love\", \"machine\", \"many\", \"many\", \"massive\", \"master\", \"middle\", \"middle\", \"middle\", \"middle\", \"min\", \"mine\", \"minute\", \"minute\", \"minute\", \"money\", \"money\", \"money\", \"monitor\", \"monitor\", \"month\", \"month\", \"month\", \"mood\", \"movie\", \"multiplayer\", \"new\", \"new\", \"new\", \"next\", \"next\", \"next\", \"next\", \"non\", \"nope\", \"official\", \"old\", \"old\", \"online\", \"online\", \"option\", \"option\", \"option\", \"order\", \"order\", \"order\", \"original\", \"original\", \"owner\", \"patch\", \"pay\", \"people\", \"people\", \"people\", \"people\", \"phone\", \"physical\", \"play\", \"play\", \"play\", \"playing\", \"pocket\", \"poop\", \"poor\", \"power\", \"power\", \"power\", \"power\", \"preorder\", \"price\", \"price\", \"problem\", \"problem\", \"product\", \"product\", \"product\", \"protection\", \"purchasing\", \"purolator\", \"queue\", \"quick\", \"real\", \"real\", \"reason\", \"reason\", \"reason\", \"reason\", \"receive\", \"refill\", \"release\", \"release\", \"replacement\", \"replacement\", \"replacement\", \"replenish\", \"request\", \"request\", \"resolution\", \"resubmit\", \"return\", \"reward\", \"right\", \"rip\", \"rip\", \"robot\", \"running\", \"scalper\", \"scam\", \"season\", \"series\", \"series\", \"series\", \"series\", \"series\", \"service\", \"service\", \"service\", \"setup\", \"shut\", \"shut\", \"sign\", \"simple\", \"slim\", \"solution\", \"sound\", \"sound\", \"speed\", \"square\", \"standard\", \"star\", \"star\", \"stock\", \"stock\", \"stock\", \"stupid\", \"stuttering\", \"success\", \"supply\", \"supply\", \"support\", \"support\", \"switch\", \"system\", \"system\", \"talk\", \"tech\", \"technology\", \"terrible\", \"terrible\", \"testing\", \"thing\", \"thing\", \"thing\", \"thing\", \"time\", \"time\", \"time\", \"time\", \"today\", \"tomorrow\", \"ton\", \"total\", \"transfer\", \"troll\", \"turn\", \"turn\", \"turn\", \"unacceptable\", \"unacceptable\", \"unit\", \"update\", \"upgrade\", \"upgrading\", \"used\", \"waiting\", \"waiting\", \"warranty\", \"way\", \"way\", \"way\", \"way\", \"week\", \"week\", \"week\", \"weird\", \"well\", \"word\", \"work\", \"work\", \"worth\", \"worth\", \"year\", \"year\", \"year\", \"year\", \"year\"]}, \"R\": 30, \"lambda.step\": 0.01, \"plot.opts\": {\"xlab\": \"PC1\", \"ylab\": \"PC2\"}, \"topic.order\": [4, 5, 3, 1, 2]};\n",
       "\n",
       "function LDAvis_load_lib(url, callback){\n",
       "  var s = document.createElement('script');\n",
       "  s.src = url;\n",
       "  s.async = true;\n",
       "  s.onreadystatechange = s.onload = callback;\n",
       "  s.onerror = function(){console.warn(\"failed to load library \" + url);};\n",
       "  document.getElementsByTagName(\"head\")[0].appendChild(s);\n",
       "}\n",
       "\n",
       "if(typeof(LDAvis) !== \"undefined\"){\n",
       "   // already loaded: just create the visualization\n",
       "   !function(LDAvis){\n",
       "       new LDAvis(\"#\" + \"ldavis_el2040822460361984488046140924\", ldavis_el2040822460361984488046140924_data);\n",
       "   }(LDAvis);\n",
       "}else if(typeof define === \"function\" && define.amd){\n",
       "   // require.js is available: use it to load d3/LDAvis\n",
       "   require.config({paths: {d3: \"https://cdnjs.cloudflare.com/ajax/libs/d3/3.5.5/d3.min\"}});\n",
       "   require([\"d3\"], function(d3){\n",
       "      window.d3 = d3;\n",
       "      LDAvis_load_lib(\"https://cdn.rawgit.com/bmabey/pyLDAvis/files/ldavis.v1.0.0.js\", function(){\n",
       "        new LDAvis(\"#\" + \"ldavis_el2040822460361984488046140924\", ldavis_el2040822460361984488046140924_data);\n",
       "      });\n",
       "    });\n",
       "}else{\n",
       "    // require.js not available: dynamically load d3 & LDAvis\n",
       "    LDAvis_load_lib(\"https://cdnjs.cloudflare.com/ajax/libs/d3/3.5.5/d3.min.js\", function(){\n",
       "         LDAvis_load_lib(\"https://cdn.rawgit.com/bmabey/pyLDAvis/files/ldavis.v1.0.0.js\", function(){\n",
       "                 new LDAvis(\"#\" + \"ldavis_el2040822460361984488046140924\", ldavis_el2040822460361984488046140924_data);\n",
       "            })\n",
       "         });\n",
       "}\n",
       "</script>"
      ],
      "text/plain": [
       "PreparedData(topic_coordinates=              x         y  topics  cluster       Freq\n",
       "topic                                                \n",
       "3     -0.126227 -0.086216       1        1  37.445434\n",
       "4     -0.076450  0.113220       2        1  19.374923\n",
       "2      0.124143 -0.002987       3        1  17.612889\n",
       "0      0.053159 -0.044879       4        1  14.482899\n",
       "1      0.025374  0.020862       5        1  11.083855, topic_info=        Term       Freq      Total Category  logprob  loglift\n",
       "64   console  20.000000  20.000000  Default  30.0000  30.0000\n",
       "123     call   6.000000   6.000000  Default  29.0000  29.0000\n",
       "8       hour   9.000000   9.000000  Default  28.0000  28.0000\n",
       "55    system  17.000000  17.000000  Default  27.0000  27.0000\n",
       "0       game  40.000000  40.000000  Default  26.0000  26.0000\n",
       "..       ...        ...        ...      ...      ...      ...\n",
       "196  control   0.658774   1.877438   Topic5  -5.2876   1.1524\n",
       "268    sound   0.658695   1.877461   Topic5  -5.2877   1.1523\n",
       "265  headset   0.658695   1.877461   Topic5  -5.2877   1.1523\n",
       "186    order   0.658630   2.548592   Topic5  -5.2878   0.8465\n",
       "230   supply   0.658488   1.877508   Topic5  -5.2880   1.1519\n",
       "\n",
       "[290 rows x 6 columns], token_table=      Topic      Freq     Term\n",
       "term                          \n",
       "117       1  0.355906  address\n",
       "117       3  0.355906  address\n",
       "249       4  0.778300   affect\n",
       "118       3  0.749755    agent\n",
       "75        2  0.752538   amount\n",
       "...     ...       ...      ...\n",
       "100       1  0.441192     year\n",
       "100       2  0.352954     year\n",
       "100       3  0.088238     year\n",
       "100       4  0.088238     year\n",
       "100       5  0.088238     year\n",
       "\n",
       "[358 rows x 3 columns], R=30, lambda_step=0.01, plot_opts={'xlab': 'PC1', 'ylab': 'PC2'}, topic_order=[4, 5, 3, 1, 2])"
      ]
     },
     "execution_count": 217,
     "metadata": {},
     "output_type": "execute_result"
    }
   ],
   "source": [
    "pyLDAvis.enable_notebook()\n",
    "vis = pyLDAvis.gensim.prepare(lda_model, doc_term_matrix, dictionary)\n",
    "vis"
   ]
  },
  {
   "cell_type": "markdown",
   "metadata": {},
   "source": [
    "As can be seen above, there are 5 topics which are clearly separated.<br>Based on the words within each topic, I can take a reasonable guess as to what the topics are about:<br>      \n",
    "\n",
    "Topic 1: Topic may possibly be on the hdr: issue, hdr<br>\n",
    "Topic 2: Topic could be on complaints of the price and battery: price, issue, time, battery<br>\n",
    "Topic 3: Possible complaints on the support service: call, hour, week, service, replacement<br>\n",
    "Topic 4: Topic is on replacing the Xbox: boot, disc, available, replacement<br>\n",
    "Topic 5: Topic is possibly based on the price and issues with the system<br>\n",
    "\n",
    "Based on the topics, it seems the negative reviews for the systems are similar to its predecessor.<br> There seems to be issues\n",
    "with the hardware.<br>There are also issues with the price, time, and battery.<br>Furthermore, the support service for the Xbox\n",
    "looks to continue to be an issue.<br>Already, customers are looking to replace their Xboxs.<br>This seems to correlate with reports of the Xbox overheating and breaking down as seen in news reports.\n",
    "\n"
   ]
  },
  {
   "cell_type": "markdown",
   "metadata": {},
   "source": [
    "#                                              Summary/ Data Limitations\n",
    "\n",
    "\n",
    "Based on the entire analysis, I can conclude the following:<br>\n",
    "\n",
    "1. Comparing the PS4 negative reviews with the PS5 negative reviews, it seems Sony has fixed most of the problems with the PS5.<br> The PS4 had issues with the hard drive, warranty, and hardware of the product.<br> In comparison, most consumers complained more about obtaining the PS5 rather than the actual product itelf.<br> This difference reveals that Sony seems to have little to no issues with the new PS5 from a product standpoint compared to its predecessor which is very good from Sony's perspective.\n",
    "\n",
    "2. Comparing the PS5 negative reviews with Xbox Series X negative reviews, the latter seems to have product issues as there were reviews pointing out the system dying and customers actually reaching out to customer support for refunds.<br> There were also issues with the price and battery.<br>Based on this analysis, it doesn't seem that Microsoft fully checked their new system for defects as much as Sony did.<br>This reveals that Microsoft needs to do a more thorough job in identifying these type of defects.<br>Sony seems to have done a great job, for the most part, in reducing the number of defects within the PS5.\n",
    "\n",
    "3. Comparing the PS5 positive reviews vs the Xbox Series X positive reviews, both seemed to be similar in their respective LDA topic models.<br>Both systems seem to be praised for their controller, hardware, and speed. Words such as \"amazing\" and \"graphics\" were part of both LDA models.<br>It seems both systems seem to have satisfied consumer's expectations based on the positive reviews.\n",
    "\n",
    "4. Comparing the PS4 positive reviews vs the Xbox One X positive reviews, consumers seems to be really satisifed.<br>The models both showed comments on the controller, design, and speed for both systems.<br>Both systems seem to have improved similarly.<br>The PS4 and Xbox One x positive reviews follow the same pattern as the PS5 and Xbox Series X in terms of positive reviews.\n",
    "\n",
    "5. Comparing the Xbox Series X negative reviews with the Xbox Series X negative reviews, both systems seem to have issues with customer service as well as product defects.<br>There were comments made towards consumers asking for replacements and refunds due to defects.<br>This is in sharp contrast to the Playstation reviews as there little to no comments made in terms of consumers asking for a refund.\n",
    "\n",
    "\n",
    "Data limitations need to be recognized though.<br>There was not a lot of data to analyze as only about 6,000 or more reviews overall were analyzed for this sentiment analysis.<br>The PS5 and Xbox Series X are both fairly new so it was difficult to get a good sample size for these reviews.<br>In contrast, PS4 and Xbox One X reviews were plentiful considering both products have been around for some time.<br>\n",
    "\n",
    "\n",
    "Nevetherless, this analysis shows the different sentiments and comments towards how consumers feel towards the PS4, Xbox One X, PS5, and Xbox Series X.<br>Readers should be able to see this analysis and both Playstation and Microsoft can benefit from this analysis in terms of improving customer experiences and looking for areas of growth and opportunity for their respective game consoles."
   ]
  },
  {
   "cell_type": "code",
   "execution_count": null,
   "metadata": {},
   "outputs": [],
   "source": []
  }
 ],
 "metadata": {
  "kernelspec": {
   "display_name": "Python 3",
   "language": "python",
   "name": "python3"
  },
  "language_info": {
   "codemirror_mode": {
    "name": "ipython",
    "version": 3
   },
   "file_extension": ".py",
   "mimetype": "text/x-python",
   "name": "python",
   "nbconvert_exporter": "python",
   "pygments_lexer": "ipython3",
   "version": "3.8.5"
  }
 },
 "nbformat": 4,
 "nbformat_minor": 4
}
