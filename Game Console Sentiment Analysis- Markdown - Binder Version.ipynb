{
 "cells": [
  {
   "cell_type": "markdown",
   "metadata": {},
   "source": [
    "#                           Game Console Sentiment Analysis\n",
    "##                                            Rudy Duran\n",
    "##                                             Practicum 1\n",
    "##                                              4-08-2021"
   ]
  },
  {
   "cell_type": "markdown",
   "metadata": {},
   "source": [
    "#                                         Purpose"
   ]
  },
  {
   "cell_type": "markdown",
   "metadata": {},
   "source": [
    "The purpose of this project is to analyze Amazon consumer reviews to see what consumers think of the new game consoles: the<br> Playstation 5 and the Xbox Series X. The scope of this project will focus on the Playstation 5, Xbox Series X, and their<br> direct predecessors: The Playstation 4 and Xbox One X. The methods for this project include analyzing customer reviews for these products to see if there are different sentiments and what the different sentiments are between the PS5, Xbox Series X<br> and their respective predecessors.<br>This analysis will help in better undestanding consumers needs and areas for improvement with the new consoles.<br>\n",
    "\n",
    "Natural Language Processing, LDA topic modeling, and sentiment analysis will be used on these reviews in order to achieve this purpose.\n",
    "\n",
    "For context, LDA topic modeling is a popular topic modeling method which aims to find abstract topics within a<br>\n",
    "document of words, which in this case, are the Amazon reviews. The reason why I chose to do this project on LDA<br>\n",
    "and NLP is because I wanted to get more experience and familiarity within the NLP data science domain. I wanted<br>\n",
    "to get better at it and also use these tools towards a real life application which, in this case, are the<br> \n",
    "Amazon reviews geared towards game consoles. I am an avid gamer myself which is why I chose these products for my<br> \n",
    "project."
   ]
  },
  {
   "cell_type": "markdown",
   "metadata": {},
   "source": [
    "Because this is a binder link, the following packages will need to be installed for this to function correctly:"
   ]
  },
  {
   "cell_type": "code",
   "execution_count": null,
   "metadata": {},
   "outputs": [],
   "source": [
    "!pip install pandas\n",
    "!pip install nltk\n",
    "!pip install matplotlib\n",
    "!pip install seaborn\n",
    "!pip install spacy\n",
    "!pip install gensim\n",
    "!pip install pyLDAvis\n",
    "!pip install https://github.com/explosion/spacy-models/releases/download/en_core_web_sm-2.3.1/en_core_web_sm-2.3.1.tar.gz --no-deps\n",
    "!pip install -U spacy==2.3.1"
   ]
  },
  {
   "cell_type": "markdown",
   "metadata": {},
   "source": [
    "Once the packages have been downloaded, the following are a list of libraries that will beused for this project:"
   ]
  },
  {
   "cell_type": "code",
   "execution_count": null,
   "metadata": {},
   "outputs": [],
   "source": [
    "import pandas as pd\n",
    "from nltk import FreqDist\n",
    "import matplotlib.pyplot as plt \n",
    "import seaborn as sns\n",
    "import re\n",
    "import spacy\n",
    "from nltk.corpus import stopwords\n",
    "import nltk\n",
    "nltk.download('stopwords')\n",
    "\n",
    "import gensim\n",
    "from gensim import corpora\n",
    "\n",
    "import pyLDAvis\n",
    "import pyLDAvis.gensim_models as gensimvis\n",
    "%matplotlib inline"
   ]
  },
  {
   "cell_type": "markdown",
   "metadata": {},
   "source": [
    "The pandas library will be needed for data manipulation.<br>\n",
    "The seaborn and matplotlib packages will be used for data visualizations.<br> \n",
    "The re and spacy packages will be used for regular expression and tokenization purposes.<br>\n",
    "The NLTK library will be used to bring in stopwords for data cleaning.<br>\n",
    "The gensim and pyLDAvis libraries will be used for LDA Topic Analysis and LDA visualizations. "
   ]
  },
  {
   "cell_type": "code",
   "execution_count": null,
   "metadata": {},
   "outputs": [],
   "source": [
    "import warnings\n",
    "warnings.filterwarnings(\"ignore\", category=DeprecationWarning) \n",
    "pd.options.mode.chained_assignment = None "
   ]
  },
  {
   "cell_type": "markdown",
   "metadata": {},
   "source": [
    "The Deprecation warning and pd.options library is done to suppress the Deprecation warning and \"Settingwithcopy\" warning message."
   ]
  },
  {
   "cell_type": "code",
   "execution_count": null,
   "metadata": {},
   "outputs": [],
   "source": [
    "import warnings\n",
    "warnings.filterwarnings(\"ignore\", category=DeprecationWarning) "
   ]
  },
  {
   "cell_type": "markdown",
   "metadata": {},
   "source": [
    "This code above is re-run again in order to truly get rid of the deprecation warnings from the gensim package."
   ]
  },
  {
   "cell_type": "markdown",
   "metadata": {},
   "source": [
    "#  Data Sources\n",
    "\n",
    "The data sources were scraped directly from Amazon using the Scrapy package which was installed on my local machine. <br>\n",
    "The data sources were saved into CSV files.\n"
   ]
  },
  {
   "cell_type": "markdown",
   "metadata": {},
   "source": [
    "The reviews for all 4 consoles are loaded into pandas dataframes."
   ]
  },
  {
   "cell_type": "code",
   "execution_count": null,
   "metadata": {},
   "outputs": [],
   "source": [
    "ps4reviews = pd.read_csv(\"PS4Amazon.csv\")\n",
    "ps5reviews = pd.read_csv(\"ps5new.csv\")\n",
    "xboxonexreviews = pd.read_csv(\"xboxonexreviews.csv\")\n",
    "xboxseriesxreviews = pd.read_csv(\"xboxseriesxreviews.csv\")"
   ]
  },
  {
   "cell_type": "markdown",
   "metadata": {},
   "source": [
    "There are some extra columns not needed in the PS5 reviews dataset: \"Name\" and \"Title\". \n",
    "I use the following piece of code to drop them:"
   ]
  },
  {
   "cell_type": "code",
   "execution_count": null,
   "metadata": {},
   "outputs": [],
   "source": [
    "ps5reviews = ps5reviews.drop(['Name', 'Title'], axis = 1)"
   ]
  },
  {
   "cell_type": "markdown",
   "metadata": {},
   "source": [
    "In order to clean the data, get it ready for modeling, and use the data for visualizations, I need to replace the Rating values\n",
    "with numerical values (1,2,3,4,5) in order for the models to function properly:"
   ]
  },
  {
   "cell_type": "code",
   "execution_count": null,
   "metadata": {},
   "outputs": [],
   "source": [
    "ps5reviews['Rating'] = ps5reviews['Rating'].replace(['1.0 out of 5 stars','2.0 out of 5 stars', '3.0 out of 5 stars', '4.0 out of 5 stars', '5.0 out of 5 stars'],\n",
    "                                                    [1, 2, 3, 4, 5])\n",
    "ps4reviews['stars'] = ps4reviews['stars'].replace(['1.0 out of 5 stars','2.0 out of 5 stars', '3.0 out of 5 stars', '4.0 out of 5 stars', '5.0 out of 5 stars'],\n",
    "                                                    [1, 2, 3, 4, 5])\n",
    "xboxonexreviews['stars'] = xboxonexreviews['stars'].replace(['1.0 out of 5 stars','2.0 out of 5 stars', '3.0 out of 5 stars', '4.0 out of 5 stars', '5.0 out of 5 stars'],\n",
    "                                                              [1, 2, 3, 4, 5])\n",
    "xboxseriesxreviews['stars'] = xboxseriesxreviews['stars'].replace(['1.0 out of 5 stars','2.0 out of 5 stars', '3.0 out of 5 stars', '4.0 out of 5 stars', '5.0 out of 5 stars'],\n",
    "                                                    [1, 2, 3, 4, 5])\n"
   ]
  },
  {
   "cell_type": "markdown",
   "metadata": {},
   "source": [
    "The head function is run to check the first 5 rows of the data:"
   ]
  },
  {
   "cell_type": "code",
   "execution_count": null,
   "metadata": {},
   "outputs": [],
   "source": [
    "ps5reviews.head(5)"
   ]
  },
  {
   "cell_type": "markdown",
   "metadata": {},
   "source": [
    "Based on the dataframe above,  it looks like the \"Rating\" column values have been replaced successfully.<br>\n",
    "However, the \"Comment\" column for the PS5 reviews looks to have extra whitespace lines.<br>\n",
    "The rest of the datasets are checked to see if they have the same issue:"
   ]
  },
  {
   "cell_type": "code",
   "execution_count": null,
   "metadata": {},
   "outputs": [],
   "source": [
    "ps4reviews.head(5)"
   ]
  },
  {
   "cell_type": "code",
   "execution_count": null,
   "metadata": {},
   "outputs": [],
   "source": [
    "xboxonexreviews.head(5)"
   ]
  },
  {
   "cell_type": "code",
   "execution_count": null,
   "metadata": {},
   "outputs": [],
   "source": [
    "xboxseriesxreviews.head(5)"
   ]
  },
  {
   "cell_type": "markdown",
   "metadata": {},
   "source": [
    "It seems that the review text for all these reviews seem to have the same extra whitespace issue.<br>\n",
    "The code below is run in order to replace the white space values using regular expressions:"
   ]
  },
  {
   "cell_type": "code",
   "execution_count": null,
   "metadata": {},
   "outputs": [],
   "source": [
    "ps4reviews.replace(to_replace=[r\"\\\\t|\\\\n|\\\\r\", \"\\t|\\n|\\r\"], value=[\"\",\"\"], regex=True, inplace=True)\n",
    "ps5reviews.replace(to_replace=[r\"\\\\t|\\\\n|\\\\r\", \"\\t|\\n|\\r\"], value=[\"\",\"\"], regex=True, inplace=True)\n",
    "xboxonexreviews.replace(to_replace=[r\"\\\\t|\\\\n|\\\\r\", \"\\t|\\n|\\r\"], value=[\"\",\"\"], regex=True, inplace=True)\n",
    "xboxseriesxreviews.replace(to_replace=[r\"\\\\t|\\\\n|\\\\r\", \"\\t|\\n|\\r\"], value=[\"\",\"\"], regex=True, inplace=True)"
   ]
  },
  {
   "cell_type": "markdown",
   "metadata": {},
   "source": [
    "Next, the \"Rating\" and \"stars\" columns are converted into numeric columns in order to ensure that the columns are all numeric.\n",
    "It's done as a safeguard to confidently make sure the columns are numeric for model building purposes."
   ]
  },
  {
   "cell_type": "code",
   "execution_count": null,
   "metadata": {},
   "outputs": [],
   "source": [
    "ps5reviews['Rating'] = pd.to_numeric(ps5reviews['Rating'])\n",
    "ps4reviews['stars'] = pd.to_numeric(ps4reviews['stars'])\n",
    "xboxonexreviews['stars'] = pd.to_numeric(xboxonexreviews['stars'])\n",
    "xboxseriesxreviews['stars'] = pd.to_numeric(xboxseriesxreviews['stars'])"
   ]
  },
  {
   "cell_type": "code",
   "execution_count": null,
   "metadata": {},
   "outputs": [],
   "source": [
    "ps4reviews.head(5)"
   ]
  },
  {
   "cell_type": "code",
   "execution_count": null,
   "metadata": {},
   "outputs": [],
   "source": [
    "ps5reviews.head(5)"
   ]
  },
  {
   "cell_type": "code",
   "execution_count": null,
   "metadata": {},
   "outputs": [],
   "source": [
    "xboxonexreviews.head(5)"
   ]
  },
  {
   "cell_type": "code",
   "execution_count": null,
   "metadata": {},
   "outputs": [],
   "source": [
    "xboxseriesxreviews.head(5)"
   ]
  },
  {
   "cell_type": "markdown",
   "metadata": {},
   "source": [
    "As seen by the dataframes above, the whitespace issue has been fixed and the ratings and stars columns are now numeric.<br>\n",
    "The datasets will now be checked to see if there are any null values:"
   ]
  },
  {
   "cell_type": "code",
   "execution_count": null,
   "metadata": {},
   "outputs": [],
   "source": [
    "ps4reviews.info()"
   ]
  },
  {
   "cell_type": "markdown",
   "metadata": {},
   "source": [
    "There are no null values for the PS4 dataset."
   ]
  },
  {
   "cell_type": "code",
   "execution_count": null,
   "metadata": {},
   "outputs": [],
   "source": [
    "ps5reviews.info()"
   ]
  },
  {
   "cell_type": "markdown",
   "metadata": {},
   "source": [
    "There are no null values for the PS5 dataset."
   ]
  },
  {
   "cell_type": "code",
   "execution_count": null,
   "metadata": {},
   "outputs": [],
   "source": [
    "xboxonexreviews.info()"
   ]
  },
  {
   "cell_type": "markdown",
   "metadata": {},
   "source": [
    "There is one NULL value in the \"comment\" section for the Xbox One X dataset."
   ]
  },
  {
   "cell_type": "code",
   "execution_count": null,
   "metadata": {},
   "outputs": [],
   "source": [
    "xboxseriesxreviews.info()"
   ]
  },
  {
   "cell_type": "markdown",
   "metadata": {},
   "source": [
    "There are no NULL values for the Xbox Series X dataset.<br>\n",
    "The only NULL value that appears is for the Xbox One X dataset.<br>\n",
    "Since it is only one NULL row, I will drop the row from the dataset:"
   ]
  },
  {
   "cell_type": "code",
   "execution_count": null,
   "metadata": {},
   "outputs": [],
   "source": [
    "xboxonexreviews = xboxonexreviews.dropna()"
   ]
  },
  {
   "cell_type": "code",
   "execution_count": null,
   "metadata": {},
   "outputs": [],
   "source": [
    "xboxonexreviews.info()"
   ]
  },
  {
   "cell_type": "markdown",
   "metadata": {},
   "source": [
    "As shown above, there are no more NULL values within the Xbox One X dataset."
   ]
  },
  {
   "cell_type": "markdown",
   "metadata": {},
   "source": [
    "#   Data Splitting: PS4 Reviews"
   ]
  },
  {
   "cell_type": "markdown",
   "metadata": {},
   "source": [
    "The next step is to split the dataframes into 2 datasets for each review dataframe: one positive review dataset and one negative review dataset.\n",
    "\n",
    "Positive Reviews will be defined as ratings >=4.<br>\n",
    "Negative Reviews will be defined as ratings <=3.<br>"
   ]
  },
  {
   "cell_type": "markdown",
   "metadata": {},
   "source": [
    "Here, the PS4 reviews are split into the negative set with ratings <= 3:"
   ]
  },
  {
   "cell_type": "code",
   "execution_count": null,
   "metadata": {},
   "outputs": [],
   "source": [
    "is_2002 =  ps4reviews['stars'] <= 3\n",
    "ps4reviews_negative = ps4reviews[is_2002]\n",
    "ps4reviews_negative.head(5)"
   ]
  },
  {
   "cell_type": "markdown",
   "metadata": {},
   "source": [
    "It looks like the code was successful and the dataset has been created."
   ]
  },
  {
   "cell_type": "markdown",
   "metadata": {},
   "source": [
    "Here, the shape for the negative review dataset is shown:"
   ]
  },
  {
   "cell_type": "code",
   "execution_count": null,
   "metadata": {},
   "outputs": [],
   "source": [
    "ps4reviews_negative.shape"
   ]
  },
  {
   "cell_type": "markdown",
   "metadata": {},
   "source": [
    "As can be seen, there are 137 reviews for the PS4 reviews dataset."
   ]
  },
  {
   "cell_type": "markdown",
   "metadata": {},
   "source": [
    "Here, the PS4 reviews are split into the positive set with ratings >= 4:"
   ]
  },
  {
   "cell_type": "code",
   "execution_count": null,
   "metadata": {},
   "outputs": [],
   "source": [
    "is_2002 =  ps4reviews['stars'] >= 4\n",
    "ps4reviews_positive = ps4reviews[is_2002]\n",
    "ps4reviews_positive.head(5)"
   ]
  },
  {
   "cell_type": "code",
   "execution_count": null,
   "metadata": {},
   "outputs": [],
   "source": [
    "ps4reviews_positive.shape"
   ]
  },
  {
   "cell_type": "markdown",
   "metadata": {},
   "source": [
    "There are about 1,063 reviews for the PS4 with 2 columns."
   ]
  },
  {
   "cell_type": "markdown",
   "metadata": {},
   "source": [
    "#                                 Data Cleaning (PS4 Positive Reviews)\n",
    "\n",
    "The following section is done in order to prepare the PS4 positive reviews for the LDA model.<br>\n",
    "The data will need to be split, tokenized, and lemmatized in order to prepare it for the model.<br>\n",
    "Visualizations will also be built in order to take a better look at the data.<br>"
   ]
  },
  {
   "cell_type": "markdown",
   "metadata": {},
   "source": [
    "The following is a function which is used in order to split, tokenize, and plot a bar graph of the most frequent words\n",
    "in the PS4 positive review dataset:"
   ]
  },
  {
   "cell_type": "code",
   "execution_count": null,
   "metadata": {},
   "outputs": [],
   "source": [
    "def freq_words(x, terms = 30):\n",
    "    all_words = ''.join([text for text in x])\n",
    "    all_words = all_words.split()\n",
    "    \n",
    "    fdist = FreqDist(all_words)\n",
    "    words_df = pd.DataFrame({'word': list(fdist.keys()), 'count':list(fdist.values())})\n",
    "    d = words_df.nlargest(columns = 'count', n = terms)\n",
    "    plt.figure(figsize = (20,5))\n",
    "    \n",
    "    ax = sns.barplot(data = d, x = 'word', y = 'count')\n",
    "    ax.set(ylabel = 'Count')\n",
    "    plt.show()"
   ]
  },
  {
   "cell_type": "code",
   "execution_count": null,
   "metadata": {},
   "outputs": [],
   "source": [
    "freq_words(ps4reviews_positive['comment'])"
   ]
  },
  {
   "cell_type": "markdown",
   "metadata": {},
   "source": [
    "Looking above, it seems most of the most frequent words are \"the\", \"and\", and \"for\".<br> But these are not necessary words because these words don't show true sentiment.<br> The dataset will need to be cleaned further in order to prepare this dataset for the model."
   ]
  },
  {
   "cell_type": "markdown",
   "metadata": {},
   "source": [
    "The following code is run in order to remove the characters and symbols from the review dataset:"
   ]
  },
  {
   "cell_type": "code",
   "execution_count": null,
   "metadata": {},
   "outputs": [],
   "source": [
    "ps4reviews_positive['comment'] = ps4reviews_positive['comment'].str.replace(\"[^a-zA-Z#]\",\" \")"
   ]
  },
  {
   "cell_type": "markdown",
   "metadata": {},
   "source": [
    "This code is run in order to bring stopwords into the notebook:"
   ]
  },
  {
   "cell_type": "code",
   "execution_count": null,
   "metadata": {},
   "outputs": [],
   "source": [
    "stop_words = set(stopwords.words('english'))"
   ]
  },
  {
   "cell_type": "markdown",
   "metadata": {},
   "source": [
    "This function is used in order to remove the stopwords and for reusability as well:"
   ]
  },
  {
   "cell_type": "code",
   "execution_count": null,
   "metadata": {},
   "outputs": [],
   "source": [
    "def remove_stopwords(rev):\n",
    "    rev_new = \" \".join([i for i in rev if i not in stop_words])\n",
    "    return rev_new"
   ]
  },
  {
   "cell_type": "markdown",
   "metadata": {},
   "source": [
    "The following code is run in order to remove short words (length < 3) to make the data cleaner:"
   ]
  },
  {
   "cell_type": "code",
   "execution_count": null,
   "metadata": {},
   "outputs": [],
   "source": [
    "ps4reviews_positive['comment'] = ps4reviews_positive['comment'].apply(lambda x: ' '.join([w for w in x.split() if len(w) > 2]))"
   ]
  },
  {
   "cell_type": "markdown",
   "metadata": {},
   "source": [
    "This code is run to remove stopwords from the text:"
   ]
  },
  {
   "cell_type": "code",
   "execution_count": null,
   "metadata": {},
   "outputs": [],
   "source": [
    "reviews = [remove_stopwords(r.split()) for r in ps4reviews_positive['comment']]"
   ]
  },
  {
   "cell_type": "markdown",
   "metadata": {},
   "source": [
    "This code is run in order to make the text lowercase:"
   ]
  },
  {
   "cell_type": "code",
   "execution_count": null,
   "metadata": {},
   "outputs": [],
   "source": [
    "reviews = [r.lower() for r in reviews]"
   ]
  },
  {
   "cell_type": "code",
   "execution_count": null,
   "metadata": {},
   "outputs": [],
   "source": [
    "freq_words(reviews, 35)"
   ]
  },
  {
   "cell_type": "markdown",
   "metadata": {},
   "source": [
    "Re-running a frequency bar graph on the data, it seems the stopwords have been removed and the reviews are getting closer \n",
    "to be used for the model.<br> The next step is to lemmatize the data."
   ]
  },
  {
   "cell_type": "markdown",
   "metadata": {},
   "source": [
    "The following pieces of code are run in order to load in Spacy and use the following function to lemmatize the data.<br> \n",
    "This code will be helpful for reusability purposes as well:"
   ]
  },
  {
   "cell_type": "code",
   "execution_count": null,
   "metadata": {},
   "outputs": [],
   "source": [
    "import en_core_web_sm\n",
    "nlp = en_core_web_sm.load()\n",
    "\n",
    "def lemmatization(texts, tags = ['NOUN', 'ADJ']): \n",
    "    output = []\n",
    "    for sent in texts:\n",
    "        doc = nlp(\" \".join(sent))\n",
    "        output.append([token.lemma_ for token in doc if token.pos_ in tags])\n",
    "    return output"
   ]
  },
  {
   "cell_type": "markdown",
   "metadata": {},
   "source": [
    "This code is done in order to split the words into tokens:"
   ]
  },
  {
   "cell_type": "code",
   "execution_count": null,
   "metadata": {},
   "outputs": [],
   "source": [
    "tokenized_reviews = pd.Series(reviews).apply(lambda x: x.split())\n",
    "print(tokenized_reviews[1])"
   ]
  },
  {
   "cell_type": "markdown",
   "metadata": {},
   "source": [
    "The code here is run in order to lemmatize the reviews:"
   ]
  },
  {
   "cell_type": "code",
   "execution_count": null,
   "metadata": {},
   "outputs": [],
   "source": [
    "reviews_2 = lemmatization(tokenized_reviews)\n",
    "print(reviews_2[1]) # print lemmatized review"
   ]
  },
  {
   "cell_type": "markdown",
   "metadata": {},
   "source": [
    "The following code is run in order to append the reviews to a new dataframe in order to show a frequency graph \n",
    "of the lemmatized reviews later on:"
   ]
  },
  {
   "cell_type": "code",
   "execution_count": null,
   "metadata": {},
   "outputs": [],
   "source": [
    "reviews_3 = []\n",
    "for i in range(len(reviews_2)):\n",
    "    reviews_3.append(' '.join(reviews_2[i]))\n",
    "\n",
    "ps4reviews_positive['reviews'] = reviews_3"
   ]
  },
  {
   "cell_type": "markdown",
   "metadata": {},
   "source": [
    "Here,a frequency bar graph of the top 20 words is generated with the appended dataframe from the previous step:"
   ]
  },
  {
   "cell_type": "code",
   "execution_count": null,
   "metadata": {},
   "outputs": [],
   "source": [
    "freq_words(ps4reviews_positive['reviews'], 20)"
   ]
  },
  {
   "cell_type": "markdown",
   "metadata": {},
   "source": [
    "As can be seen, the tokens are now cleaner as words such as \"game\", \"system\", and \"console\" are now clearly showing in the dataset.<br>\n",
    "The dataset is now ready for model building."
   ]
  },
  {
   "cell_type": "markdown",
   "metadata": {},
   "source": [
    "#                            LDA Model (PS4 Positive Reviews)\n",
    "\n",
    "The code below is run in order to incorporate the reviews into a dictionary in order to set up the LDA Model:"
   ]
  },
  {
   "cell_type": "code",
   "execution_count": null,
   "metadata": {},
   "outputs": [],
   "source": [
    "dictionary = corpora.Dictionary(reviews_2)\n",
    "doc_term_matrix = [dictionary.doc2bow(rev) for rev in reviews_2]"
   ]
  },
  {
   "cell_type": "markdown",
   "metadata": {},
   "source": [
    "Next, the LDA Model is imported and the next lines of code are run in order to build the model.<br>\n",
    "The number of topics I chose through trial and error were 3."
   ]
  },
  {
   "cell_type": "code",
   "execution_count": null,
   "metadata": {},
   "outputs": [],
   "source": [
    "LDA = gensim.models.ldamodel.LdaModel\n",
    "\n",
    "lda_model = LDA(corpus = doc_term_matrix, \n",
    "                id2word = dictionary,\n",
    "                num_topics = 3,\n",
    "                random_state = 100,\n",
    "                chunksize = 1000,\n",
    "                passes = 50)"
   ]
  },
  {
   "cell_type": "markdown",
   "metadata": {},
   "source": [
    "Here, this code is being run to print the topics and the words associated with it:"
   ]
  },
  {
   "cell_type": "code",
   "execution_count": null,
   "metadata": {},
   "outputs": [],
   "source": [
    "lda_model.print_topics()"
   ]
  },
  {
   "cell_type": "markdown",
   "metadata": {},
   "source": [
    "This code is run to generate the LDA model and present it via a graphical bubble plot:"
   ]
  },
  {
   "cell_type": "code",
   "execution_count": null,
   "metadata": {},
   "outputs": [],
   "source": [
    "pyLDAvis.enable_notebook()\n",
    "vis = gensimvis.prepare(lda_model, doc_term_matrix, dictionary)\n",
    "vis"
   ]
  },
  {
   "cell_type": "markdown",
   "metadata": {},
   "source": [
    "As can be seen above, there are 3 topics which were created.<br> Based on the words within each topic, I can take a reasonable guess as to what the topics are about:<br>\n",
    "\n",
    "Topic 1: Positive Review for PS4 features: Graphics, controller, play, well, easy<br>\n",
    "Topic 2: Positive Reviews for PS4 internal features: amazing, sysytem, awesome, feature<br>\n",
    "Topic 3: Positive Reviews on PS4 speed and power.<br>\n",
    "\n",
    "It seems to me that people were really happy with the PS4 based on the firmware and software.<br>\n",
    "There were positive comments for the controller, graphics, and the power of the PS4 as well.<br>"
   ]
  },
  {
   "cell_type": "markdown",
   "metadata": {},
   "source": [
    "#                                  Data Cleaning (PS4 Negative Reviews)\n",
    "\n",
    "The following section is done in order to prepare the PS4 negative reviews for the LDA model.<br>\n",
    "The data will need to be split, tokenized, and lemmatized in order to prepare it for the model.<br>\n",
    "Visualizations will also be built in order to take a better look at the data."
   ]
  },
  {
   "cell_type": "code",
   "execution_count": null,
   "metadata": {},
   "outputs": [],
   "source": [
    "freq_words(ps4reviews_negative['comment'])"
   ]
  },
  {
   "cell_type": "markdown",
   "metadata": {},
   "source": [
    "Looking above, it seems most of the most frequent words are \"the\", \"and\", and \"for\".<br> But these are not necessary words because these words don't show true sentiment.<br> The dataset will need to be cleaned further in order to prepare this dataset for the model."
   ]
  },
  {
   "cell_type": "markdown",
   "metadata": {},
   "source": [
    "The following code is run in order to remove short words (length < 3) to make the data cleaner:"
   ]
  },
  {
   "cell_type": "code",
   "execution_count": null,
   "metadata": {},
   "outputs": [],
   "source": [
    "ps4reviews_negative['comment'] = ps4reviews_negative['comment'].apply(lambda x: ' '.join([w for w in x.split() if len(w) > 2]))"
   ]
  },
  {
   "cell_type": "markdown",
   "metadata": {},
   "source": [
    "The following code is run to remove stopwords from the text:"
   ]
  },
  {
   "cell_type": "code",
   "execution_count": null,
   "metadata": {},
   "outputs": [],
   "source": [
    "reviews = [remove_stopwords(r.split()) for r in ps4reviews_negative['comment']]"
   ]
  },
  {
   "cell_type": "markdown",
   "metadata": {},
   "source": [
    "This code is run to make the text lowercase:"
   ]
  },
  {
   "cell_type": "code",
   "execution_count": null,
   "metadata": {},
   "outputs": [],
   "source": [
    "reviews = [r.lower() for r in reviews]"
   ]
  },
  {
   "cell_type": "code",
   "execution_count": null,
   "metadata": {},
   "outputs": [],
   "source": [
    "freq_words(reviews, 35)"
   ]
  },
  {
   "cell_type": "markdown",
   "metadata": {},
   "source": [
    "Re-running a frequency bar graph on the data, it seems the stopwords have been removed and the reviews are getting closer to be used for the model.<br> The next step is to lemmatize the data."
   ]
  },
  {
   "cell_type": "markdown",
   "metadata": {},
   "source": [
    "This code is done in order to split the words of the words into tokens:"
   ]
  },
  {
   "cell_type": "code",
   "execution_count": null,
   "metadata": {},
   "outputs": [],
   "source": [
    "tokenized_reviews = pd.Series(reviews).apply(lambda x: x.split())\n",
    "print(tokenized_reviews[1])"
   ]
  },
  {
   "cell_type": "markdown",
   "metadata": {},
   "source": [
    "This code below is run in order to lemmatize the reviews:"
   ]
  },
  {
   "cell_type": "code",
   "execution_count": null,
   "metadata": {},
   "outputs": [],
   "source": [
    "reviews_2 = lemmatization(tokenized_reviews)\n",
    "print(reviews_2[1]) "
   ]
  },
  {
   "cell_type": "markdown",
   "metadata": {},
   "source": [
    "The following code is run in order to append the reviews to a new dataframe in order to show a frequency graph \n",
    "of the lemmatized reviews later on:"
   ]
  },
  {
   "cell_type": "code",
   "execution_count": null,
   "metadata": {},
   "outputs": [],
   "source": [
    "reviews_3 = []\n",
    "for i in range(len(reviews_2)):\n",
    "    reviews_3.append(' '.join(reviews_2[i]))\n",
    "\n",
    "ps4reviews_negative['reviews'] = reviews_3\n"
   ]
  },
  {
   "cell_type": "code",
   "execution_count": null,
   "metadata": {},
   "outputs": [],
   "source": [
    "freq_words(ps4reviews_negative['reviews'], 20)"
   ]
  },
  {
   "cell_type": "markdown",
   "metadata": {},
   "source": [
    "As can be seen, the tokens are now cleaner as words such as \"game\", \"system\", and \"console\" are now clearly showing in the dataset.<br>The dataset is now ready for model building."
   ]
  },
  {
   "cell_type": "markdown",
   "metadata": {},
   "source": [
    "#                                   LDA Model (PS4 Negative Reviews)\n",
    "\n",
    "The code below is run in order to incorporate the reviews into a dictionary in order to set up the LDA Model.\n"
   ]
  },
  {
   "cell_type": "code",
   "execution_count": null,
   "metadata": {},
   "outputs": [],
   "source": [
    "dictionary = corpora.Dictionary(reviews_2)\n",
    "doc_term_matrix = [dictionary.doc2bow(rev) for rev in reviews_2]"
   ]
  },
  {
   "cell_type": "markdown",
   "metadata": {},
   "source": [
    "Next, the LDA Model is imported and the next lines of code are run in order to build the model.<br>\n",
    "The number of topics I chose through trial and error were 4."
   ]
  },
  {
   "cell_type": "code",
   "execution_count": null,
   "metadata": {},
   "outputs": [],
   "source": [
    "LDA = gensim.models.ldamodel.LdaModel\n",
    "\n",
    "lda_model = LDA(corpus = doc_term_matrix, \n",
    "                id2word = dictionary,\n",
    "                num_topics = 4,\n",
    "                random_state = 100,\n",
    "                chunksize = 1000,\n",
    "                passes = 50)"
   ]
  },
  {
   "cell_type": "markdown",
   "metadata": {},
   "source": [
    "Here, this code is being run to print the topics and the words associated with it:"
   ]
  },
  {
   "cell_type": "code",
   "execution_count": null,
   "metadata": {},
   "outputs": [],
   "source": [
    "lda_model.print_topics()"
   ]
  },
  {
   "cell_type": "markdown",
   "metadata": {},
   "source": [
    "This code is run to generate the LDA model and present it via a graphical bubble plot:"
   ]
  },
  {
   "cell_type": "code",
   "execution_count": null,
   "metadata": {},
   "outputs": [],
   "source": [
    "pyLDAvis.enable_notebook()\n",
    "vis = gensimvis.prepare(lda_model, doc_term_matrix, dictionary)\n",
    "vis"
   ]
  },
  {
   "cell_type": "markdown",
   "metadata": {},
   "source": [
    "As can be seen above, there are 4 topics which are clearly separated. Based on the words within each topic, I can take a reasonable guess to what the topics are about:<br>\n",
    "\n",
    "Topic 1: Possible issues with graphics and complaints about system being old: hard, drive, old, product<br>\n",
    "Topic 2: Possible complaints over the price and length of warranty: disc, money, issue, warranty<br>\n",
    "Topic 3: Issues with product hardware: eject, disc, warranty, sound, issue<br>\n",
    "Topic 4: Calls for refund due to the condition of the PS4 Refund,death, condition<br>\n",
    "\n",
    "It seems to me that most customers complained about the PS4 for the system being old, length of warranty, hardware issues such as disc ejection,and sound.<br>There were also issues with customers wanting a refund for possible product defects."
   ]
  },
  {
   "cell_type": "markdown",
   "metadata": {},
   "source": [
    "#                                              Data Splitting: PS5 Reviews"
   ]
  },
  {
   "cell_type": "markdown",
   "metadata": {},
   "source": [
    "Here, the PS5 reviews are split into the negative set with ratings <= 3:"
   ]
  },
  {
   "cell_type": "code",
   "execution_count": null,
   "metadata": {},
   "outputs": [],
   "source": [
    "negative =  ps5reviews['Rating'] <= 3\n",
    "ps5reviews_negative = ps5reviews[negative]\n",
    "ps5reviews_negative.head(5)"
   ]
  },
  {
   "cell_type": "code",
   "execution_count": null,
   "metadata": {},
   "outputs": [],
   "source": [
    "ps5reviews_negative.shape"
   ]
  },
  {
   "cell_type": "markdown",
   "metadata": {},
   "source": [
    "There are 339 reviews with 2 columns in the dataframe."
   ]
  },
  {
   "cell_type": "markdown",
   "metadata": {},
   "source": [
    "Here, the PS5 reviews are split into the positive set with ratings >= 4:"
   ]
  },
  {
   "cell_type": "code",
   "execution_count": null,
   "metadata": {},
   "outputs": [],
   "source": [
    "positive =  ps5reviews['Rating'] >= 4\n",
    "ps5reviews_positive = ps5reviews[positive]\n",
    "ps5reviews_positive.head(5)"
   ]
  },
  {
   "cell_type": "code",
   "execution_count": null,
   "metadata": {},
   "outputs": [],
   "source": [
    "ps5reviews_positive.shape"
   ]
  },
  {
   "cell_type": "markdown",
   "metadata": {},
   "source": [
    "There are 742 reviews and 2 columsn in the dataframe."
   ]
  },
  {
   "cell_type": "markdown",
   "metadata": {},
   "source": [
    "#                                                    Data Cleaning (PS5 Positive Reviews)\n",
    "\n",
    "The following section is done in order to prepare the PS5 positive reviews for the LDA model.<br>\n",
    "The data will need to be split, tokenized, and lemmatized in order to prepare it for the model.<br>\n",
    "Visualizations will also be built in order to take a better look at the data."
   ]
  },
  {
   "cell_type": "markdown",
   "metadata": {},
   "source": [
    "The following produces a frequency bar graph for the PS5 positive reviews:"
   ]
  },
  {
   "cell_type": "code",
   "execution_count": null,
   "metadata": {},
   "outputs": [],
   "source": [
    "freq_words(ps5reviews_positive['Comment'])"
   ]
  },
  {
   "cell_type": "markdown",
   "metadata": {},
   "source": [
    "Looking above, it seems most of the most frequent words are \"the\", \"and\", and \"for\".<br>But these are not necessary words because these words don't show true sentiment.<br>The dataset will need to be cleaned further in order to prepare this dataset for the model."
   ]
  },
  {
   "cell_type": "markdown",
   "metadata": {},
   "source": [
    "The following code is run in order to remove the characters and symbols from the review dataset:"
   ]
  },
  {
   "cell_type": "code",
   "execution_count": null,
   "metadata": {},
   "outputs": [],
   "source": [
    "ps5reviews_positive['Comment'] = ps5reviews_positive['Comment'].str.replace(\"[^a-zA-Z#]\",\" \")"
   ]
  },
  {
   "cell_type": "markdown",
   "metadata": {},
   "source": [
    "The following code is run in order to remove short words (length < 3) to make the data cleaner:"
   ]
  },
  {
   "cell_type": "code",
   "execution_count": null,
   "metadata": {},
   "outputs": [],
   "source": [
    "ps5reviews_positive['Comment'] = ps5reviews_positive['Comment'].apply(lambda x: ' '.join([w for w in x.split() if len(w) > 2]))"
   ]
  },
  {
   "cell_type": "markdown",
   "metadata": {},
   "source": [
    "The following code is run in order to remove the stopwords from the data:"
   ]
  },
  {
   "cell_type": "code",
   "execution_count": null,
   "metadata": {},
   "outputs": [],
   "source": [
    "reviews = [remove_stopwords(r.split()) for r in ps5reviews_positive['Comment']]"
   ]
  },
  {
   "cell_type": "markdown",
   "metadata": {},
   "source": [
    "This code is run to make the text lowercase:"
   ]
  },
  {
   "cell_type": "code",
   "execution_count": null,
   "metadata": {},
   "outputs": [],
   "source": [
    "reviews = [r.lower() for r in reviews]"
   ]
  },
  {
   "cell_type": "code",
   "execution_count": null,
   "metadata": {},
   "outputs": [],
   "source": [
    "freq_words(reviews, 20)"
   ]
  },
  {
   "cell_type": "markdown",
   "metadata": {},
   "source": [
    "Re-running a frequency bar graph on the data, it seems the stopwords have been removed and the reviews are getting closer to be used for the model.<br>The next step is to lemmatize the data."
   ]
  },
  {
   "cell_type": "markdown",
   "metadata": {},
   "source": [
    "The following code is run in order to separate the text into tokens:"
   ]
  },
  {
   "cell_type": "code",
   "execution_count": null,
   "metadata": {},
   "outputs": [],
   "source": [
    "tokenized_reviews = pd.Series(reviews).apply(lambda x: x.split())\n",
    "print(tokenized_reviews[1])"
   ]
  },
  {
   "cell_type": "markdown",
   "metadata": {},
   "source": [
    "This code is run in order to lemmatize the data:"
   ]
  },
  {
   "cell_type": "code",
   "execution_count": null,
   "metadata": {},
   "outputs": [],
   "source": [
    "reviews_2 = lemmatization(tokenized_reviews)\n",
    "print(reviews_2[1]) "
   ]
  },
  {
   "cell_type": "markdown",
   "metadata": {},
   "source": [
    "The following code is run in order to append the reviews to a new dataframe in order to show a frequency graph \n",
    "of the lemmatized reviews later on:"
   ]
  },
  {
   "cell_type": "code",
   "execution_count": null,
   "metadata": {},
   "outputs": [],
   "source": [
    "reviews_3 = []\n",
    "for i in range(len(reviews_2)):\n",
    "    reviews_3.append(' '.join(reviews_2[i]))\n",
    "\n",
    "ps5reviews_positive['reviews'] = reviews_3"
   ]
  },
  {
   "cell_type": "code",
   "execution_count": null,
   "metadata": {},
   "outputs": [],
   "source": [
    "freq_words(ps5reviews_positive['reviews'], 20)"
   ]
  },
  {
   "cell_type": "markdown",
   "metadata": {},
   "source": [
    "As can be seen, the tokens are now cleaner as words such as \"game\", \"system\", and \"console\" are now clearly showing in the dataset.<br> The dataset is now ready for model building."
   ]
  },
  {
   "cell_type": "markdown",
   "metadata": {},
   "source": [
    "#                                                        LDA Model (PS5 Positive Reviews)\n",
    "\n",
    "The code below is run in order to incorporate the reviews into a dictionary in order to set up the LDA Model."
   ]
  },
  {
   "cell_type": "code",
   "execution_count": null,
   "metadata": {},
   "outputs": [],
   "source": [
    "dictionary = corpora.Dictionary(reviews_2)\n",
    "doc_term_matrix = [dictionary.doc2bow(rev) for rev in reviews_2]"
   ]
  },
  {
   "cell_type": "markdown",
   "metadata": {},
   "source": [
    "Next, the LDA Model is imported and the next lines of code are run in order to build the model.<br>\n",
    "The number of topics chosen through trial and error were 4."
   ]
  },
  {
   "cell_type": "code",
   "execution_count": null,
   "metadata": {},
   "outputs": [],
   "source": [
    "LDA = gensim.models.ldamodel.LdaModel\n",
    "\n",
    "lda_model = LDA(corpus = doc_term_matrix, \n",
    "                id2word = dictionary,\n",
    "                num_topics = 4,\n",
    "                random_state = 100,\n",
    "                chunksize = 1000,\n",
    "                passes = 50)"
   ]
  },
  {
   "cell_type": "markdown",
   "metadata": {},
   "source": [
    "Here, this code is being run to print the topics and the words associated with it:"
   ]
  },
  {
   "cell_type": "code",
   "execution_count": null,
   "metadata": {},
   "outputs": [],
   "source": [
    "lda_model.print_topics()"
   ]
  },
  {
   "cell_type": "markdown",
   "metadata": {},
   "source": [
    "This code is run to visualize the LDA model into a graphical bubble plot:"
   ]
  },
  {
   "cell_type": "code",
   "execution_count": null,
   "metadata": {},
   "outputs": [],
   "source": [
    "pyLDAvis.enable_notebook()\n",
    "vis = gensimvis.prepare(lda_model, doc_term_matrix, dictionary)\n",
    "vis"
   ]
  },
  {
   "cell_type": "markdown",
   "metadata": {},
   "source": [
    "As can be seen above, there are 4 topics which are clearly separated. Based on the words within each topic, I can take a reasonable guess as to what the topics are about:<br>\n",
    "\n",
    "Topic 1: Great reviews on how fast the system is: Load, fast, awesome, time, feedback<br>\n",
    "Topic 2: Great reviews on the design and controller and speed: design, controller, speed, performance<br>\n",
    "Topic 3: Positive reviews on the hardware and the system being quiet.<br>\n",
    "Topic 4: Positive comments on the graphics and the system being perfect: Graphic, worth, love, release, perfect<br>\n",
    "\n",
    "It seems to me that most customers were really happy with how fast the PS5 is compared to the PS4.<br> \n",
    "There seems to be great feedback on the controller and the system design.<br> \"Quiet\" shows up which could possibly mean\n",
    "how quiet the system is when running games.<br> Some consumers even called the system perfect."
   ]
  },
  {
   "cell_type": "markdown",
   "metadata": {},
   "source": [
    "#                                      Data Cleaning (PS5 Negative Reviews)\n",
    "\n",
    "The following section is done in order to prepare the PS5 negative reviews for the LDA model.\n",
    "The data will need to be split, tokenized, and lemmatized in order to prepare it for the model.\n",
    "Visualizations will also be built in order to take a better look at the data."
   ]
  },
  {
   "cell_type": "markdown",
   "metadata": {},
   "source": [
    "The following code is run to generate a frequency bar graph for the negative reviews:"
   ]
  },
  {
   "cell_type": "code",
   "execution_count": null,
   "metadata": {},
   "outputs": [],
   "source": [
    "freq_words(ps5reviews_negative['Comment'])"
   ]
  },
  {
   "cell_type": "markdown",
   "metadata": {},
   "source": [
    "Looking above, it seems most of the most frequent words are \"the\", \"and\", and \"for\".<br> But these are not necessary words because these words don't show true sentiment.<br>The dataset will need to be cleaned further in order to prepare this dataset for the model."
   ]
  },
  {
   "cell_type": "markdown",
   "metadata": {},
   "source": [
    "This code removes the characters and samples from the text dataset:"
   ]
  },
  {
   "cell_type": "code",
   "execution_count": null,
   "metadata": {},
   "outputs": [],
   "source": [
    "ps5reviews_negative['Comment'] = ps5reviews_negative['Comment'].str.replace(\"[^a-zA-Z#]\",\" \")"
   ]
  },
  {
   "cell_type": "markdown",
   "metadata": {},
   "source": [
    "The following code is run in order to remove short words (length < 3) to make the data cleaner:"
   ]
  },
  {
   "cell_type": "code",
   "execution_count": null,
   "metadata": {},
   "outputs": [],
   "source": [
    "ps5reviews_negative['Comment'] = ps5reviews_negative['Comment'].apply(lambda x: ' '.join([w for w in x.split() if len(w) > 2]))"
   ]
  },
  {
   "cell_type": "markdown",
   "metadata": {},
   "source": [
    "This code removes the stopwords from the text:"
   ]
  },
  {
   "cell_type": "code",
   "execution_count": null,
   "metadata": {},
   "outputs": [],
   "source": [
    "reviews = [remove_stopwords(r.split()) for r in ps5reviews_negative['Comment']]"
   ]
  },
  {
   "cell_type": "markdown",
   "metadata": {},
   "source": [
    "Here, the text is lowercased:"
   ]
  },
  {
   "cell_type": "code",
   "execution_count": null,
   "metadata": {},
   "outputs": [],
   "source": [
    "reviews = [r.lower() for r in reviews]"
   ]
  },
  {
   "cell_type": "code",
   "execution_count": null,
   "metadata": {},
   "outputs": [],
   "source": [
    "freq_words(reviews, 20)"
   ]
  },
  {
   "cell_type": "markdown",
   "metadata": {},
   "source": [
    "Re-running a frequency bar graph on the data, it seems the stopwords have been removed and the reviews are getting closer to be used for the model.<br>The next step is to lemmatize the data."
   ]
  },
  {
   "cell_type": "markdown",
   "metadata": {},
   "source": [
    "Here, the text within the dataset is split into tokens:"
   ]
  },
  {
   "cell_type": "code",
   "execution_count": null,
   "metadata": {},
   "outputs": [],
   "source": [
    "tokenized_reviews = pd.Series(reviews).apply(lambda x: x.split())\n",
    "print(tokenized_reviews[1])"
   ]
  },
  {
   "cell_type": "markdown",
   "metadata": {},
   "source": [
    "The data is lemmatized through this code:"
   ]
  },
  {
   "cell_type": "code",
   "execution_count": null,
   "metadata": {},
   "outputs": [],
   "source": [
    "reviews_2 = lemmatization(tokenized_reviews)\n",
    "print(reviews_2[1]) "
   ]
  },
  {
   "cell_type": "markdown",
   "metadata": {},
   "source": [
    "The following code is run in order to append the reviews to a new dataframe in order to show a frequency graph \n",
    "of the lemmatized reviews later on:"
   ]
  },
  {
   "cell_type": "code",
   "execution_count": null,
   "metadata": {},
   "outputs": [],
   "source": [
    "reviews_3 = []\n",
    "for i in range(len(reviews_2)):\n",
    "    reviews_3.append(' '.join(reviews_2[i]))\n",
    "\n",
    "ps5reviews_negative['reviews'] = reviews_3"
   ]
  },
  {
   "cell_type": "code",
   "execution_count": null,
   "metadata": {},
   "outputs": [],
   "source": [
    "freq_words(ps5reviews_negative['reviews'], 20)"
   ]
  },
  {
   "cell_type": "markdown",
   "metadata": {},
   "source": [
    "As can be seen, the tokens are now clearer as words such as \"game\", \"system\", and \"money\" are now clearly showing in the dataset.<br> The dataset is now ready for model building."
   ]
  },
  {
   "cell_type": "markdown",
   "metadata": {},
   "source": [
    "#                                        LDA Model (PS5 Negative Reviews)\n",
    "\n",
    "The code below is run in order to incorporate the negative reviews into a dictionary in order to set up the LDA Model.\n"
   ]
  },
  {
   "cell_type": "code",
   "execution_count": null,
   "metadata": {},
   "outputs": [],
   "source": [
    "dictionary = corpora.Dictionary(reviews_2)\n",
    "doc_term_matrix = [dictionary.doc2bow(rev) for rev in reviews_2]"
   ]
  },
  {
   "cell_type": "markdown",
   "metadata": {},
   "source": [
    "Next, the LDA Model is imported and the next lines of code are run in order to build the model.<br>\n",
    "The number of topics chosen through trial and error were 4."
   ]
  },
  {
   "cell_type": "code",
   "execution_count": null,
   "metadata": {},
   "outputs": [],
   "source": [
    "LDA = gensim.models.ldamodel.LdaModel\n",
    "\n",
    "lda_model = LDA(corpus = doc_term_matrix, \n",
    "                id2word = dictionary,\n",
    "                num_topics = 4,\n",
    "                random_state = 100,\n",
    "                chunksize = 1000,\n",
    "                passes = 50)"
   ]
  },
  {
   "cell_type": "markdown",
   "metadata": {},
   "source": [
    "Here, this code is being run to print the topics and the words associated with it:"
   ]
  },
  {
   "cell_type": "code",
   "execution_count": null,
   "metadata": {},
   "outputs": [],
   "source": [
    "lda_model.print_topics()"
   ]
  },
  {
   "cell_type": "markdown",
   "metadata": {},
   "source": [
    "This code is run to visualize the LDA model into a graphical bubble plot:"
   ]
  },
  {
   "cell_type": "code",
   "execution_count": null,
   "metadata": {},
   "outputs": [],
   "source": [
    "pyLDAvis.enable_notebook()\n",
    "vis = gensimvis.prepare(lda_model, doc_term_matrix, dictionary)\n",
    "vis"
   ]
  },
  {
   "cell_type": "markdown",
   "metadata": {},
   "source": [
    "As can be seen above, there are 4 topics which are clearly separated.<br>Based on the words within each topic, I can take a reasonable guess to what the topics are about:<br>\n",
    "\n",
    "Topic 1: Complaints mostly on bots: Scam,bot, ridiculousness,reseller<br>\n",
    "Topic 2: Complaints mostly on the supply and demand of the product<br>\n",
    "Topic 3: Complaints mostly on the price of the PS5<br>\n",
    "Topic 4: Complaints on the PS5 crashing<br>\n",
    "\n",
    "It seems to me that most customers were really unhappy with the scalpers and bots that bought most of the PS5's\n",
    "online given the COVID 19 pandemic.<br>There were complaints on the limited supply and high demand of the product.<br>\n",
    "There were also complaints about the price of the PS5.<br>\n",
    "Finally, there were a few cases where the PS5 tended to crash for some customers.<br> \n",
    "\n",
    "These are interesting results because there are not a lot of the complaints on the product itself.<br>The complaints are mostly\n",
    "on obtaining the PS5 which has been difficult to get for consumers due to the pandemic. "
   ]
  },
  {
   "cell_type": "markdown",
   "metadata": {},
   "source": [
    "#                                                    Data Splitting: Xbox One X Reviews"
   ]
  },
  {
   "cell_type": "markdown",
   "metadata": {},
   "source": [
    "Here, the Xbox One X reviews are split into the positive set with ratings >= 4:"
   ]
  },
  {
   "cell_type": "code",
   "execution_count": null,
   "metadata": {},
   "outputs": [],
   "source": [
    "positive =  xboxonexreviews['stars'] >= 4\n",
    "xboxonex_positive = xboxonexreviews[positive]\n",
    "xboxonex_positive.head(5)"
   ]
  },
  {
   "cell_type": "code",
   "execution_count": null,
   "metadata": {},
   "outputs": [],
   "source": [
    "xboxonex_positive.shape"
   ]
  },
  {
   "cell_type": "markdown",
   "metadata": {},
   "source": [
    "There are 1,853 positive review rows and 2 columns in the dataframe."
   ]
  },
  {
   "cell_type": "markdown",
   "metadata": {},
   "source": [
    "Here, the Xbox One X  reviews are split into the negative set with ratings <= 3:"
   ]
  },
  {
   "cell_type": "code",
   "execution_count": null,
   "metadata": {},
   "outputs": [],
   "source": [
    "negative =  xboxonexreviews['stars'] <= 3\n",
    "xboxonex_negative = xboxonexreviews[negative]\n",
    "xboxonex_negative.head(5)"
   ]
  },
  {
   "cell_type": "code",
   "execution_count": null,
   "metadata": {},
   "outputs": [],
   "source": [
    "xboxonex_negative.shape"
   ]
  },
  {
   "cell_type": "markdown",
   "metadata": {},
   "source": [
    "There are 612 negative review rows and 2 columns in the dataframe."
   ]
  },
  {
   "cell_type": "markdown",
   "metadata": {},
   "source": [
    "#                                 Data Cleaning (Xbox One X Positive Reviews)\n",
    "\n",
    "The following section is done in order to prepare the Xbox One X positive reviews for the LDA model.<br>\n",
    "The data will need to be split, tokenized, and lemmatized in order to prepare it for the model.<br>\n",
    "Visualizations will also be built in order to take a better look at the data."
   ]
  },
  {
   "cell_type": "code",
   "execution_count": null,
   "metadata": {},
   "outputs": [],
   "source": [
    "freq_words(xboxonex_positive['comment'])"
   ]
  },
  {
   "cell_type": "markdown",
   "metadata": {},
   "source": [
    "Looking above, it seems most of the most frequent words are \"the\", \"and\", and \"for\".<br>But these are not necessary words because these words don't show true sentiment.<br>The dataset will need to be cleaned further in order to prepare this dataset for the model."
   ]
  },
  {
   "cell_type": "markdown",
   "metadata": {},
   "source": [
    "This code removes the characters and symbols from the dataset:"
   ]
  },
  {
   "cell_type": "code",
   "execution_count": null,
   "metadata": {},
   "outputs": [],
   "source": [
    "xboxonex_positive['comment'] = xboxonex_positive['comment'].str.replace(\"[^a-zA-Z#]\",\" \")"
   ]
  },
  {
   "cell_type": "markdown",
   "metadata": {},
   "source": [
    "The following code is run in order to remove short words (length < 3) to make the data cleaner:"
   ]
  },
  {
   "cell_type": "code",
   "execution_count": null,
   "metadata": {},
   "outputs": [],
   "source": [
    "xboxonex_positive['comment'] = xboxonex_positive['comment'].apply(lambda x: ' '.join([w for w in x.split() if len(w) > 2]))"
   ]
  },
  {
   "cell_type": "markdown",
   "metadata": {},
   "source": [
    "This code removes the stopwords from the dataset:"
   ]
  },
  {
   "cell_type": "code",
   "execution_count": null,
   "metadata": {},
   "outputs": [],
   "source": [
    "reviews = [remove_stopwords(r.split()) for r in xboxonex_positive['comment']]"
   ]
  },
  {
   "cell_type": "markdown",
   "metadata": {},
   "source": [
    "This code makes the text lowercase:"
   ]
  },
  {
   "cell_type": "code",
   "execution_count": null,
   "metadata": {},
   "outputs": [],
   "source": [
    "reviews = [r.lower() for r in reviews]"
   ]
  },
  {
   "cell_type": "code",
   "execution_count": null,
   "metadata": {},
   "outputs": [],
   "source": [
    "freq_words(reviews, 20)"
   ]
  },
  {
   "cell_type": "markdown",
   "metadata": {},
   "source": [
    "Re-running a frequency bar graph on the data, it seems the stopwords have been removed and the reviews are getting closer to \n",
    "for the model to use.<br>The next step is to lemmatize the data."
   ]
  },
  {
   "cell_type": "markdown",
   "metadata": {},
   "source": [
    "Here, the words are split into tokens:"
   ]
  },
  {
   "cell_type": "code",
   "execution_count": null,
   "metadata": {},
   "outputs": [],
   "source": [
    "tokenized_reviews = pd.Series(reviews).apply(lambda x: x.split())\n",
    "print(tokenized_reviews[1])"
   ]
  },
  {
   "cell_type": "markdown",
   "metadata": {},
   "source": [
    "Below, the positive reviews are lemmatized:"
   ]
  },
  {
   "cell_type": "code",
   "execution_count": null,
   "metadata": {},
   "outputs": [],
   "source": [
    "reviews_2 = lemmatization(tokenized_reviews)\n",
    "print(reviews_2[1]) "
   ]
  },
  {
   "cell_type": "markdown",
   "metadata": {},
   "source": [
    "The following code is run in order to append the reviews to a new dataframe in order to show a frequency graph \n",
    "of the lemmatized reviews later on:"
   ]
  },
  {
   "cell_type": "code",
   "execution_count": null,
   "metadata": {},
   "outputs": [],
   "source": [
    "reviews_3 = []\n",
    "for i in range(len(reviews_2)):\n",
    "    reviews_3.append(' '.join(reviews_2[i]))\n",
    "\n",
    "xboxonex_positive['reviews'] = reviews_3"
   ]
  },
  {
   "cell_type": "code",
   "execution_count": null,
   "metadata": {},
   "outputs": [],
   "source": [
    "freq_words(xboxonex_positive['reviews'], 20)"
   ]
  },
  {
   "cell_type": "markdown",
   "metadata": {},
   "source": [
    "As can be seen, the tokens are now clearer as words such as \"game\", \"system\", and \"time\" are now clearly showing in the dataset.<br>The dataset is now ready for model building."
   ]
  },
  {
   "cell_type": "markdown",
   "metadata": {},
   "source": [
    "#                LDA Model (Xbox One X Positive Reviews)\n",
    "The code below is run in order to incorporate the reviews into a dictionary in order to set up the LDA Model."
   ]
  },
  {
   "cell_type": "code",
   "execution_count": null,
   "metadata": {},
   "outputs": [],
   "source": [
    "dictionary = corpora.Dictionary(reviews_2)\n",
    "doc_term_matrix = [dictionary.doc2bow(rev) for rev in reviews_2]"
   ]
  },
  {
   "cell_type": "markdown",
   "metadata": {},
   "source": [
    "Next, the LDA Model is imported and the next lines of code are run in order to build the model.<br>\n",
    "The number of topics I chose through trial and error were 3."
   ]
  },
  {
   "cell_type": "code",
   "execution_count": null,
   "metadata": {},
   "outputs": [],
   "source": [
    "LDA = gensim.models.ldamodel.LdaModel\n",
    "\n",
    "lda_model = LDA(corpus = doc_term_matrix, \n",
    "                id2word = dictionary,\n",
    "                num_topics = 3,\n",
    "                random_state = 100,\n",
    "                chunksize = 1000,\n",
    "                passes = 50)"
   ]
  },
  {
   "cell_type": "markdown",
   "metadata": {},
   "source": [
    "Here, this code is being run to print the topics and the words associated with it."
   ]
  },
  {
   "cell_type": "code",
   "execution_count": null,
   "metadata": {},
   "outputs": [],
   "source": [
    "lda_model.print_topics()"
   ]
  },
  {
   "cell_type": "markdown",
   "metadata": {},
   "source": [
    "This code is run to visualize the LDA model into a graphical bubble plot:"
   ]
  },
  {
   "cell_type": "code",
   "execution_count": null,
   "metadata": {},
   "outputs": [],
   "source": [
    "pyLDAvis.enable_notebook()\n",
    "vis = gensimvis.prepare(lda_model, doc_term_matrix, dictionary)\n",
    "vis"
   ]
  },
  {
   "cell_type": "markdown",
   "metadata": {},
   "source": [
    "As can be seen above, there are 3 topics which are clearly separated.<br>Based on the words within each topic, I can take a reasonable guess as to what the topics are about:<br>\n",
    "\n",
    "Topic 1: The topic seems to be on the power and quality of the system: powerful, drive, graphic, quality, amazing<br>\n",
    "Topic 2: The topic seems to on the condition of the Xbox and the controller: perfect, controller, excellent, condition<br>\n",
    "Topic 3: The topic is focused on the speed of the Xbox: fast, time, awesome, quick<br>\n",
    "\n",
    "Based on the reviews, it seems most customers were happy on how quick the system was,the graphics, and the experience.<br>\n",
    "There were also positive reviews based on the controller, firmware, size, and features.<br>Furthermore, there seems to be positive reviews on the size and quality of the system with some consumers calling the product perfect."
   ]
  },
  {
   "cell_type": "markdown",
   "metadata": {},
   "source": [
    "#                              Data Cleaning (Xbox One X Negative Reviews)\n",
    "\n",
    "The following section is done in order to prepare the Xbox One X negative reviews for the LDA model.\n",
    "The data will need to be split, tokenized, and lemmatized in order to prepare it for the model.\n",
    "Visualizations will also be built in order to take a better look at the data."
   ]
  },
  {
   "cell_type": "markdown",
   "metadata": {},
   "source": [
    "Here is a frequency bar graph for the negative Xbox One X negative comments:"
   ]
  },
  {
   "cell_type": "code",
   "execution_count": null,
   "metadata": {},
   "outputs": [],
   "source": [
    "freq_words(xboxonex_negative['comment'])"
   ]
  },
  {
   "cell_type": "markdown",
   "metadata": {},
   "source": [
    "Looking above, it seems most of the most frequent words are \"the\", \"and\", and \"for\".<br>But these are not necessary words because these words don't show true sentiment.<br>The dataset will need to be cleaned further in order to prepare this dataset for the model."
   ]
  },
  {
   "cell_type": "markdown",
   "metadata": {},
   "source": [
    "This code removes the characters and samples from the text dataset:"
   ]
  },
  {
   "cell_type": "code",
   "execution_count": null,
   "metadata": {},
   "outputs": [],
   "source": [
    "xboxonex_negative['comment'] = xboxonex_negative['comment'].str.replace(\"[^a-zA-Z#]\",\" \")"
   ]
  },
  {
   "cell_type": "markdown",
   "metadata": {},
   "source": [
    "The following code is run in order to remove short words (length < 3) to make the data cleaner:"
   ]
  },
  {
   "cell_type": "code",
   "execution_count": null,
   "metadata": {},
   "outputs": [],
   "source": [
    "xboxonex_negative['comment'] = xboxonex_negative['comment'].apply(lambda x: ' '.join([w for w in x.split() if len(w) > 2]))"
   ]
  },
  {
   "cell_type": "markdown",
   "metadata": {},
   "source": [
    "This code removes the stopwords from the dataset:"
   ]
  },
  {
   "cell_type": "code",
   "execution_count": null,
   "metadata": {},
   "outputs": [],
   "source": [
    "reviews = [remove_stopwords(r.split()) for r in xboxonex_negative['comment']]"
   ]
  },
  {
   "cell_type": "markdown",
   "metadata": {},
   "source": [
    "This code makes the text lowercase:"
   ]
  },
  {
   "cell_type": "code",
   "execution_count": null,
   "metadata": {},
   "outputs": [],
   "source": [
    "reviews = [r.lower() for r in reviews]"
   ]
  },
  {
   "cell_type": "code",
   "execution_count": null,
   "metadata": {},
   "outputs": [],
   "source": [
    "freq_words(reviews, 20)"
   ]
  },
  {
   "cell_type": "markdown",
   "metadata": {},
   "source": [
    "Re-running a frequency bar graph on the data, it seems the stopwords have been removed and the reviews are getting closer to be used for the model.<br>The next step is to lemmatize the data."
   ]
  },
  {
   "cell_type": "markdown",
   "metadata": {},
   "source": [
    "Here, the reviews are tokenized:"
   ]
  },
  {
   "cell_type": "code",
   "execution_count": null,
   "metadata": {},
   "outputs": [],
   "source": [
    "tokenized_reviews = pd.Series(reviews).apply(lambda x: x.split())\n",
    "print(tokenized_reviews[1])"
   ]
  },
  {
   "cell_type": "markdown",
   "metadata": {},
   "source": [
    "Below, the reviews are lemmatized:"
   ]
  },
  {
   "cell_type": "code",
   "execution_count": null,
   "metadata": {},
   "outputs": [],
   "source": [
    "reviews_2 = lemmatization(tokenized_reviews)\n",
    "print(reviews_2[2]) "
   ]
  },
  {
   "cell_type": "markdown",
   "metadata": {},
   "source": [
    "The following code is run in order to append the reviews to a new dataframe in order to show a frequency graph \n",
    "of the lemmatized reviews later on:"
   ]
  },
  {
   "cell_type": "code",
   "execution_count": null,
   "metadata": {},
   "outputs": [],
   "source": [
    "reviews_3 = []\n",
    "for i in range(len(reviews_2)):\n",
    "    reviews_3.append(' '.join(reviews_2[i]))\n",
    "\n",
    "xboxonex_negative['reviews'] = reviews_3"
   ]
  },
  {
   "cell_type": "code",
   "execution_count": null,
   "metadata": {},
   "outputs": [],
   "source": [
    "freq_words(xboxonex_negative['reviews'], 20)"
   ]
  },
  {
   "cell_type": "markdown",
   "metadata": {},
   "source": [
    "As can be seen, the tokens are now cleaner as words such as \"game\", \"system\", and \"hour\" are now clearly showing in the dataset.<br>The dataset is now ready for model building."
   ]
  },
  {
   "cell_type": "markdown",
   "metadata": {},
   "source": [
    "#                                              LDA Model (Xbox One X Negative Reviews)"
   ]
  },
  {
   "cell_type": "markdown",
   "metadata": {},
   "source": [
    "The code below is run in order to incorporate the reviews into a dictionary in order to set up the LDA Model."
   ]
  },
  {
   "cell_type": "code",
   "execution_count": null,
   "metadata": {},
   "outputs": [],
   "source": [
    "dictionary = corpora.Dictionary(reviews_2)\n",
    "doc_term_matrix = [dictionary.doc2bow(rev) for rev in reviews_2]"
   ]
  },
  {
   "cell_type": "markdown",
   "metadata": {},
   "source": [
    "Next, the LDA Model is imported and the next lines of code are run in order to build the model.<br>\n",
    "The number of topics I chose through trial and error were 4."
   ]
  },
  {
   "cell_type": "code",
   "execution_count": null,
   "metadata": {},
   "outputs": [],
   "source": [
    "LDA = gensim.models.ldamodel.LdaModel\n",
    "\n",
    "lda_model = LDA(corpus = doc_term_matrix, \n",
    "                id2word = dictionary,\n",
    "                num_topics = 4,\n",
    "                random_state = 100,\n",
    "                chunksize = 1000,\n",
    "                passes = 50)"
   ]
  },
  {
   "cell_type": "markdown",
   "metadata": {},
   "source": [
    "Here, this code is being run to print the topics and the words associated with it:"
   ]
  },
  {
   "cell_type": "code",
   "execution_count": null,
   "metadata": {},
   "outputs": [],
   "source": [
    "lda_model.print_topics()"
   ]
  },
  {
   "cell_type": "markdown",
   "metadata": {},
   "source": [
    "This code is run to visualize the LDA model into a graphical bubble plot:"
   ]
  },
  {
   "cell_type": "code",
   "execution_count": null,
   "metadata": {},
   "outputs": [],
   "source": [
    "pyLDAvis.enable_notebook()\n",
    "vis = pyLDAvis.gensim.prepare(lda_model, doc_term_matrix, dictionary)\n",
    "vis"
   ]
  },
  {
   "cell_type": "markdown",
   "metadata": {},
   "source": [
    "As can be seen above, there are 4 topics which are clearly separated.<br>Based on the words within each topic, I can take a reasonable guess as to what the topics are about:<br>                                    \n",
    "\n",
    "Topic 1: Possible issues with the price of the product: issue, price, bad, product<br>\n",
    "Topic 2: Possible issues with the warranty and customer service: problem, warranty, customer, service<br>\n",
    "Topic 3: Topic is on product defects: error, issue, factory, product, reset<br>\n",
    "Topic 4: Possible issues with scammers for the product as well as calls for replacements: disc, box, internet, scam, replacement<br>\n",
    "\n",
    "Based on the topics, it looks like there were more issues with Xbox One X than the Playstation 4 by comparison.<br>\n",
    "The price of the system seemed to be an issue.<br>It also seems there were possible issues with customer support as customers were calling to replace their Xbox One X.<br>Also, the issues pertain as well to the product defects as there are reviews were people needed to reset their machines.\n"
   ]
  },
  {
   "cell_type": "markdown",
   "metadata": {},
   "source": [
    "#                                        Data Splitting: Xbox One X Reviews"
   ]
  },
  {
   "cell_type": "markdown",
   "metadata": {},
   "source": [
    "Here, the Xbox One X reviews are split into the positive set with ratings >= 4:"
   ]
  },
  {
   "cell_type": "code",
   "execution_count": null,
   "metadata": {},
   "outputs": [],
   "source": [
    "positive =  xboxseriesxreviews['stars'] >= 4\n",
    "xboxseriesxreviews_positive = xboxseriesxreviews[positive]\n",
    "xboxseriesxreviews_positive.head(5)"
   ]
  },
  {
   "cell_type": "code",
   "execution_count": null,
   "metadata": {},
   "outputs": [],
   "source": [
    "xboxseriesxreviews_positive.shape"
   ]
  },
  {
   "cell_type": "markdown",
   "metadata": {},
   "source": [
    "There are 448 reviews with 3 columns in the dataset."
   ]
  },
  {
   "cell_type": "markdown",
   "metadata": {},
   "source": [
    "Below the Xbox One X reviews are split into negative set with ratings <= 3:"
   ]
  },
  {
   "cell_type": "code",
   "execution_count": null,
   "metadata": {},
   "outputs": [],
   "source": [
    "negative =  xboxseriesxreviews['stars'] <= 3\n",
    "xboxseriesxreviews_negative = xboxseriesxreviews[negative]\n",
    "xboxseriesxreviews_negative.head(5)"
   ]
  },
  {
   "cell_type": "code",
   "execution_count": null,
   "metadata": {},
   "outputs": [],
   "source": [
    "xboxseriesxreviews_negative.shape"
   ]
  },
  {
   "cell_type": "markdown",
   "metadata": {},
   "source": [
    "There are 115 reviews with 3 columns in the dataset."
   ]
  },
  {
   "cell_type": "markdown",
   "metadata": {},
   "source": [
    "#                         Data Cleaning (Xbox Series X Positive Reviews)\n",
    "\n",
    "The following section is done in order to prepare the Xbox Series X positive reviews for the LDA model.\n",
    "The data will need to be split, tokenized, and lemmatized in order to prepare it for the model.\n",
    "Visualizations will also be built in order to take a better look at the data."
   ]
  },
  {
   "cell_type": "markdown",
   "metadata": {},
   "source": [
    "Here is a frequency bar graph of the positive reviews:"
   ]
  },
  {
   "cell_type": "code",
   "execution_count": null,
   "metadata": {},
   "outputs": [],
   "source": [
    "freq_words(xboxseriesxreviews_positive['comment'])"
   ]
  },
  {
   "cell_type": "markdown",
   "metadata": {},
   "source": [
    "Looking above, it seems most of the most frequent words are \"the\", \"and\", and \"for\".<br>But these are not necessary words because these words don't show true sentiment.<br>The dataset will need to be cleaned further in order to prepare this dataset for the model."
   ]
  },
  {
   "cell_type": "markdown",
   "metadata": {},
   "source": [
    "This code removes the characters and samples from the text dataset:"
   ]
  },
  {
   "cell_type": "code",
   "execution_count": null,
   "metadata": {},
   "outputs": [],
   "source": [
    "xboxseriesxreviews_positive['comment'] = xboxseriesxreviews_positive['comment'].str.replace(\"[^a-zA-Z#]\",\" \")"
   ]
  },
  {
   "cell_type": "markdown",
   "metadata": {},
   "source": [
    "The following code is run in order to remove short words (length < 3) to make the data cleaner:"
   ]
  },
  {
   "cell_type": "code",
   "execution_count": null,
   "metadata": {},
   "outputs": [],
   "source": [
    "xboxseriesxreviews_positive['comment'] = xboxseriesxreviews_positive['comment'].apply(lambda x: ' '.join([w for w in x.split() if len(w) > 2]))"
   ]
  },
  {
   "cell_type": "markdown",
   "metadata": {},
   "source": [
    "The following removes the stopwords from the text:"
   ]
  },
  {
   "cell_type": "code",
   "execution_count": null,
   "metadata": {},
   "outputs": [],
   "source": [
    "reviews = [remove_stopwords(r.split()) for r in xboxseriesxreviews_positive['comment']]"
   ]
  },
  {
   "cell_type": "markdown",
   "metadata": {},
   "source": [
    "The folowing turns the reviews lowercase:"
   ]
  },
  {
   "cell_type": "code",
   "execution_count": null,
   "metadata": {},
   "outputs": [],
   "source": [
    "reviews = [r.lower() for r in reviews]"
   ]
  },
  {
   "cell_type": "code",
   "execution_count": null,
   "metadata": {},
   "outputs": [],
   "source": [
    "freq_words(reviews, 20)"
   ]
  },
  {
   "cell_type": "markdown",
   "metadata": {},
   "source": [
    "Re-running a frequency bar graph on the data, it seems the stopwords have been removed and the reviews are getting close to being used for the model.<br>The next step is to lemmatize the data."
   ]
  },
  {
   "cell_type": "markdown",
   "metadata": {},
   "source": [
    "Below, the reviews are tokenized:"
   ]
  },
  {
   "cell_type": "code",
   "execution_count": null,
   "metadata": {},
   "outputs": [],
   "source": [
    "tokenized_reviews = pd.Series(reviews).apply(lambda x: x.split())\n",
    "print(tokenized_reviews[1])"
   ]
  },
  {
   "cell_type": "markdown",
   "metadata": {},
   "source": [
    "Below, the reviews are lemmatized:"
   ]
  },
  {
   "cell_type": "code",
   "execution_count": null,
   "metadata": {},
   "outputs": [],
   "source": [
    "reviews_2 = lemmatization(tokenized_reviews)\n",
    "print(reviews_2[1]) "
   ]
  },
  {
   "cell_type": "markdown",
   "metadata": {},
   "source": [
    "The following code is run in order to append the reviews to a new dataframe in order to show a frequency graph \n",
    "of the lemmatized reviews later on:"
   ]
  },
  {
   "cell_type": "code",
   "execution_count": null,
   "metadata": {},
   "outputs": [],
   "source": [
    "reviews_3 = []\n",
    "for i in range(len(reviews_2)):\n",
    "    reviews_3.append(' '.join(reviews_2[i]))\n",
    "\n",
    "xboxseriesxreviews_positive['reviews'] = reviews_3"
   ]
  },
  {
   "cell_type": "code",
   "execution_count": null,
   "metadata": {},
   "outputs": [],
   "source": [
    "freq_words(xboxseriesxreviews_positive['reviews'], 20)"
   ]
  },
  {
   "cell_type": "markdown",
   "metadata": {},
   "source": [
    "As can be seen, the tokens are now cleaner as words such as \"game\", \"system\", and \"hour\" are now clearly showing in the dataset.<br>The dataset is now ready for model building."
   ]
  },
  {
   "cell_type": "markdown",
   "metadata": {},
   "source": [
    "#                                        LDA Model (Xbox Series X Positive Reviews)"
   ]
  },
  {
   "cell_type": "markdown",
   "metadata": {},
   "source": [
    "The code below is run in order to incorporate the reviews into a dictionary in order to set up the LDA Model."
   ]
  },
  {
   "cell_type": "code",
   "execution_count": null,
   "metadata": {},
   "outputs": [],
   "source": [
    "dictionary = corpora.Dictionary(reviews_2)\n",
    "doc_term_matrix = [dictionary.doc2bow(rev) for rev in reviews_2]"
   ]
  },
  {
   "cell_type": "markdown",
   "metadata": {},
   "source": [
    "Next, the LDA Model is imported and the next lines of code are run in order to build the model.<br>\n",
    "The number of topics chosen through trial and error were 3."
   ]
  },
  {
   "cell_type": "code",
   "execution_count": null,
   "metadata": {},
   "outputs": [],
   "source": [
    "LDA = gensim.models.ldamodel.LdaModel\n",
    "\n",
    "lda_model = LDA(corpus = doc_term_matrix, \n",
    "                id2word = dictionary,\n",
    "                num_topics = 3,\n",
    "                random_state = 100,\n",
    "                chunksize = 1000,\n",
    "                passes = 50)"
   ]
  },
  {
   "cell_type": "markdown",
   "metadata": {},
   "source": [
    "Here, this code is being run to print the topics and the words associated with it:"
   ]
  },
  {
   "cell_type": "code",
   "execution_count": null,
   "metadata": {},
   "outputs": [],
   "source": [
    "lda_model.print_topics()"
   ]
  },
  {
   "cell_type": "markdown",
   "metadata": {},
   "source": [
    "This code is run to visualize the LDA model into a graphical bubble plot:"
   ]
  },
  {
   "cell_type": "code",
   "execution_count": null,
   "metadata": {},
   "outputs": [],
   "source": [
    "pyLDAvis.enable_notebook()\n",
    "vis = pyLDAvis.gensim.prepare(lda_model, doc_term_matrix, dictionary)\n",
    "vis"
   ]
  },
  {
   "cell_type": "markdown",
   "metadata": {},
   "source": [
    "As can be seen above, there are 3 topics which are clearly separated.<br>Based on the words within each topic, I can take a reasonable guess as to what the topics are about:<br>         \n",
    "\n",
    "Topic 1: Topic seems to be on how fast the system has become: amazing, fast, load, quick, new, powerful<br>\n",
    "Topic 2: Topic on speed but also graphics of the system: Controller, ssd, speed, quiet, feature, launch, graphic<br>\n",
    "Topic 3: Topic seems to be on the size of the Xbox: new, experience, old, system, big, box<br>\n",
    "\n",
    "Generally, it seems that early reviews of the system are positive based on the speed of the new Xbox.<br>There were also \n",
    "some positie comments on the ssd, controller, and the graphics.<br>Finally, there were comments from the positive reviews\n",
    "on the size of the Xbox Series X as well."
   ]
  },
  {
   "cell_type": "markdown",
   "metadata": {},
   "source": [
    "#                                 Data Cleaning (Xbox Series X Negative Reviews)\n",
    "\n",
    "The following section is done in order to prepare the Xbox Series X negative reviews for the LDA model.<br>\n",
    "The data will need to be split, tokenized, and lemmatized in order to prepare it for the model.<br>\n",
    "Visualizations will also be built in order to take a better look at the data.<br>"
   ]
  },
  {
   "cell_type": "markdown",
   "metadata": {},
   "source": [
    "Below is a frequency bar graph of the Xbox Series X negative reviews:"
   ]
  },
  {
   "cell_type": "code",
   "execution_count": null,
   "metadata": {},
   "outputs": [],
   "source": [
    "freq_words(xboxseriesxreviews_negative['comment'])"
   ]
  },
  {
   "cell_type": "markdown",
   "metadata": {},
   "source": [
    "Looking above, it seems most of the most frequent words are \"the\", \"and\", and \"for\".<br>But these are not necessary words because these words don't show true sentiment.<br>The dataset will need to be cleaned further in order to prepare this dataset for the model."
   ]
  },
  {
   "cell_type": "markdown",
   "metadata": {},
   "source": [
    "This code removes the characters and samples from the text dataset:"
   ]
  },
  {
   "cell_type": "code",
   "execution_count": null,
   "metadata": {},
   "outputs": [],
   "source": [
    "xboxseriesxreviews_negative['comment'] = xboxseriesxreviews_negative['comment'].str.replace(\"[^a-zA-Z#]\",\" \")"
   ]
  },
  {
   "cell_type": "markdown",
   "metadata": {},
   "source": [
    "The following code is run in order to remove short words (length < 3) to make the data cleaner:"
   ]
  },
  {
   "cell_type": "code",
   "execution_count": null,
   "metadata": {},
   "outputs": [],
   "source": [
    "xboxseriesxreviews_negative['comment'] = xboxseriesxreviews_negative['comment'].apply(lambda x: ' '.join([w for w in x.split() if len(w) > 2]))"
   ]
  },
  {
   "cell_type": "markdown",
   "metadata": {},
   "source": [
    "The following removes the stopwords from the text:"
   ]
  },
  {
   "cell_type": "code",
   "execution_count": null,
   "metadata": {},
   "outputs": [],
   "source": [
    "reviews = [remove_stopwords(r.split()) for r in xboxseriesxreviews_negative['comment']]"
   ]
  },
  {
   "cell_type": "markdown",
   "metadata": {},
   "source": [
    "The following makes the text lowercase:"
   ]
  },
  {
   "cell_type": "code",
   "execution_count": null,
   "metadata": {},
   "outputs": [],
   "source": [
    "reviews = [r.lower() for r in reviews]"
   ]
  },
  {
   "cell_type": "code",
   "execution_count": null,
   "metadata": {},
   "outputs": [],
   "source": [
    "freq_words(reviews, 20)"
   ]
  },
  {
   "cell_type": "markdown",
   "metadata": {},
   "source": [
    "Re-running a frequency bar graph on the data, it seems the stopwords have been removed and the reviews are getting close to being used for the model.<br>The next step is to lemmatize the data."
   ]
  },
  {
   "cell_type": "markdown",
   "metadata": {},
   "source": [
    "Below, the following code splits the text into tokens: "
   ]
  },
  {
   "cell_type": "code",
   "execution_count": null,
   "metadata": {},
   "outputs": [],
   "source": [
    "tokenized_reviews = pd.Series(reviews).apply(lambda x: x.split())\n",
    "print(tokenized_reviews[1])"
   ]
  },
  {
   "cell_type": "markdown",
   "metadata": {},
   "source": [
    "Below, the reviews is then lemmatized:"
   ]
  },
  {
   "cell_type": "code",
   "execution_count": null,
   "metadata": {},
   "outputs": [],
   "source": [
    "reviews_2 = lemmatization(tokenized_reviews)\n",
    "print(reviews_2[1]) "
   ]
  },
  {
   "cell_type": "markdown",
   "metadata": {},
   "source": [
    "The following code is run in order to append the reviews to a new dataframe in order to show a frequency graph \n",
    "of the lemmatized reviews later on:"
   ]
  },
  {
   "cell_type": "code",
   "execution_count": null,
   "metadata": {},
   "outputs": [],
   "source": [
    "reviews_3 = []\n",
    "for i in range(len(reviews_2)):\n",
    "    reviews_3.append(' '.join(reviews_2[i]))\n",
    "\n",
    "xboxseriesxreviews_negative['reviews'] = reviews_3"
   ]
  },
  {
   "cell_type": "code",
   "execution_count": null,
   "metadata": {},
   "outputs": [],
   "source": [
    "freq_words(xboxseriesxreviews_negative['reviews'], 20)"
   ]
  },
  {
   "cell_type": "markdown",
   "metadata": {},
   "source": [
    "As can be seen, the tokens are now clearer as words such as \"game\", \"system\", and \"hour\" are now clearly showing in the dataset.<br>The dataset is now ready for model building."
   ]
  },
  {
   "cell_type": "markdown",
   "metadata": {},
   "source": [
    "#                                             LDA Model (Xbox Series X Negative Reviews)"
   ]
  },
  {
   "cell_type": "markdown",
   "metadata": {},
   "source": [
    "The code below is run in order to incorporate the reviews into a dictionary in order to set up the LDA Model.\n"
   ]
  },
  {
   "cell_type": "code",
   "execution_count": null,
   "metadata": {},
   "outputs": [],
   "source": [
    "dictionary = corpora.Dictionary(reviews_2)\n",
    "doc_term_matrix = [dictionary.doc2bow(rev) for rev in reviews_2]"
   ]
  },
  {
   "cell_type": "markdown",
   "metadata": {},
   "source": [
    "Next, the LDA Model is imported and the next lines of code are run in order to build the model.\n",
    "The number of topics chosen through trial and error were 5."
   ]
  },
  {
   "cell_type": "code",
   "execution_count": null,
   "metadata": {},
   "outputs": [],
   "source": [
    "LDA = gensim.models.ldamodel.LdaModel\n",
    "\n",
    "lda_model = LDA(corpus = doc_term_matrix, \n",
    "                id2word = dictionary,\n",
    "                num_topics = 5,\n",
    "                random_state = 100,\n",
    "                chunksize = 1000,\n",
    "                passes = 50)"
   ]
  },
  {
   "cell_type": "markdown",
   "metadata": {},
   "source": [
    "Below, this code is being run to print the topics and the words associated with it:"
   ]
  },
  {
   "cell_type": "code",
   "execution_count": null,
   "metadata": {},
   "outputs": [],
   "source": [
    "lda_model.print_topics()"
   ]
  },
  {
   "cell_type": "markdown",
   "metadata": {},
   "source": [
    "This code is run to visualize the LDA model into a graphical bubble plot:"
   ]
  },
  {
   "cell_type": "code",
   "execution_count": null,
   "metadata": {},
   "outputs": [],
   "source": [
    "pyLDAvis.enable_notebook()\n",
    "vis = pyLDAvis.gensim.prepare(lda_model, doc_term_matrix, dictionary)\n",
    "vis"
   ]
  },
  {
   "cell_type": "markdown",
   "metadata": {},
   "source": [
    "As can be seen above, there are 5 topics which are clearly separated.<br>Based on the words within each topic, I can take a reasonable guess as to what the topics are about:<br>      \n",
    "\n",
    "Topic 1: Topic may possibly be on the hdr: issue, hdr<br>\n",
    "Topic 2: Topic could be on complaints of the price and battery: price, issue, time, battery<br>\n",
    "Topic 3: Possible complaints on the support service: call, hour, week, service, replacement<br>\n",
    "Topic 4: Topic is on replacing the Xbox: boot, disc, available, replacement<br>\n",
    "Topic 5: Topic is possibly based on the price and issues with the system<br>\n",
    "\n",
    "Based on the topics, it seems the negative reviews for the systems are similar to its predecessor.<br> There seems to be issues\n",
    "with the hardware.<br>There are also issues with the price, time, and battery.<br>Furthermore, the support service for the Xbox\n",
    "looks to continue to be an issue.<br>Already, customers are looking to replace their Xboxs.<br>This seems to correlate with reports of the Xbox overheating and breaking down as seen in news reports.\n",
    "\n"
   ]
  },
  {
   "cell_type": "markdown",
   "metadata": {},
   "source": [
    "#                                              Summary/ Data Limitations\n",
    "\n",
    "\n",
    "Based on the entire analysis, I can conclude the following:<br>\n",
    "\n",
    "1. Comparing the PS4 negative reviews with the PS5 negative reviews, it seems Sony has fixed most of the problems with the PS5.<br> The PS4 had issues with the hard drive, warranty, and hardware of the product.<br> In comparison, most consumers complained more about obtaining the PS5 rather than the actual product itelf.<br> This difference reveals that Sony seems to have little to no issues with the new PS5 from a product standpoint compared to its predecessor which is very good from Sony's perspective.\n",
    "\n",
    "2. Comparing the PS5 negative reviews with Xbox Series X negative reviews, the latter seems to have product issues as there were reviews pointing out the system dying and customers actually reaching out to customer support for refunds.<br> There were also issues with the price and battery.<br>Based on this analysis, it doesn't seem that Microsoft fully checked their new system for defects as much as Sony did.<br>This reveals that Microsoft needs to do a more thorough job in identifying these type of defects.<br>Sony seems to have done a great job, for the most part, in reducing the number of defects within the PS5.\n",
    "\n",
    "3. Comparing the PS5 positive reviews vs the Xbox Series X positive reviews, both seemed to be similar in their respective LDA topic models.<br>Both systems seem to be praised for their controller, hardware, and speed. Words such as \"amazing\" and \"graphics\" were part of both LDA models.<br>It seems both systems seem to have satisfied consumer's expectations based on the positive reviews.\n",
    "\n",
    "4. Comparing the PS4 positive reviews vs the Xbox One X positive reviews, consumers seems to be really satisifed.<br>The models both showed comments on the controller, design, and speed for both systems.<br>Both systems seem to have improved similarly.<br>The PS4 and Xbox One x positive reviews follow the same pattern as the PS5 and Xbox Series X in terms of positive reviews.\n",
    "\n",
    "5. Comparing the Xbox Series X negative reviews with the Xbox Series X negative reviews, both systems seem to have issues with customer service as well as product defects.<br>There were comments made towards consumers asking for replacements and refunds due to defects.<br>This is in sharp contrast to the Playstation reviews as there little to no comments made in terms of consumers asking for a refund.\n",
    "\n",
    "\n",
    "Data limitations need to be recognized though.<br>There was not a lot of data to analyze as only about 6,000 or more reviews overall were analyzed for this sentiment analysis.<br>The PS5 and Xbox Series X are both fairly new so it was difficult to get a good sample size for these reviews.<br>In contrast, PS4 and Xbox One X reviews were plentiful considering both products have been around for some time.<br>\n",
    "\n",
    "\n",
    "Nevetherless, this analysis shows the different sentiments and comments towards how consumers feel towards the PS4, Xbox One X, PS5, and Xbox Series X.<br>Readers should be able to see this analysis and both Playstation and Microsoft can benefit from this analysis in terms of improving customer experiences and looking for areas of growth and opportunity for their respective game consoles."
   ]
  }
 ],
 "metadata": {
  "kernelspec": {
   "display_name": "Python 3",
   "language": "python",
   "name": "python3"
  },
  "language_info": {
   "codemirror_mode": {
    "name": "ipython",
    "version": 3
   },
   "file_extension": ".py",
   "mimetype": "text/x-python",
   "name": "python",
   "nbconvert_exporter": "python",
   "pygments_lexer": "ipython3",
   "version": "3.8.5"
  }
 },
 "nbformat": 4,
 "nbformat_minor": 4
}
