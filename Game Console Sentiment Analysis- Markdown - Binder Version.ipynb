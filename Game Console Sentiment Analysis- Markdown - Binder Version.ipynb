{
 "cells": [
  {
   "cell_type": "markdown",
   "metadata": {},
   "source": [
    "#                           Game Console Sentiment Analysis\n",
    "##                                            Rudy Duran\n",
    "##                                             Practicum 1\n",
    "##                                              4-08-2021"
   ]
  },
  {
   "cell_type": "markdown",
   "metadata": {},
   "source": [
    "#                                         Purpose"
   ]
  },
  {
   "cell_type": "markdown",
   "metadata": {},
   "source": [
    "The purpose of this project is to analyze Amazon consumer reviews to see what consumers think of the new game consoles: the<br> Playstation 5 and the Xbox Series X. The scope of this project will focus on the Playstation 5, Xbox Series X, and their<br> direct predecessors: The Playstation 4 and Xbox One X. The methods for this project include analyzing customer reviews for these products to see if there are different sentiments and what the different sentiments are between the PS5, Xbox Series X<br> and their respective predecessors.<br>This analysis will help in better undestanding consumers needs and areas for improvement with the new consoles.<br>\n",
    "\n",
    "Natural Language Processing, LDA topic modeling, and sentiment analysis will be used on these reviews in order to achieve this purpose.\n",
    "\n",
    "For context, LDA topic modeling is a popular topic modeling method which aims to find abstract topics within a<br>\n",
    "document of words, which in this case, are the Amazon reviews. The reason why I chose to do this project on LDA<br>\n",
    "and NLP is because I wanted to get more experience and familiarity within the NLP data science domain. I wanted<br>\n",
    "to get better at it and also use these tools towards a real life application which, in this case, are the<br> \n",
    "Amazon reviews geared towards game consoles. I am an avid gamer myself which is why I chose these products for my<br> \n",
    "project."
   ]
  },
  {
   "cell_type": "markdown",
   "metadata": {},
   "source": [
    "Because this is a binder link, the following packages will need to be installed for this to function correctly:"
   ]
  },
  {
   "cell_type": "code",
   "execution_count": 54,
   "metadata": {},
   "outputs": [
    {
     "name": "stdout",
     "output_type": "stream",
     "text": [
      "Requirement already satisfied: pandas in c:\\users\\duran\\anaconda3again\\lib\\site-packages (1.1.3)\n",
      "Requirement already satisfied: python-dateutil>=2.7.3 in c:\\users\\duran\\anaconda3again\\lib\\site-packages (from pandas) (2.8.1)\n",
      "Requirement already satisfied: pytz>=2017.2 in c:\\users\\duran\\anaconda3again\\lib\\site-packages (from pandas) (2020.1)\n",
      "Requirement already satisfied: numpy>=1.15.4 in c:\\users\\duran\\anaconda3again\\lib\\site-packages (from pandas) (1.21.2)\n",
      "Requirement already satisfied: six>=1.5 in c:\\users\\duran\\anaconda3again\\lib\\site-packages (from python-dateutil>=2.7.3->pandas) (1.15.0)\n",
      "Requirement already satisfied: nltk in c:\\users\\duran\\anaconda3again\\lib\\site-packages (3.5)\n",
      "Requirement already satisfied: tqdm in c:\\users\\duran\\anaconda3again\\lib\\site-packages (from nltk) (4.50.2)\n",
      "Requirement already satisfied: click in c:\\users\\duran\\anaconda3again\\lib\\site-packages (from nltk) (7.1.2)\n",
      "Requirement already satisfied: joblib in c:\\users\\duran\\anaconda3again\\lib\\site-packages (from nltk) (0.17.0)\n",
      "Requirement already satisfied: regex in c:\\users\\duran\\anaconda3again\\lib\\site-packages (from nltk) (2020.10.15)\n",
      "Requirement already satisfied: matplotlib in c:\\users\\duran\\anaconda3again\\lib\\site-packages (3.3.2)\n",
      "Requirement already satisfied: kiwisolver>=1.0.1 in c:\\users\\duran\\anaconda3again\\lib\\site-packages (from matplotlib) (1.3.0)\n",
      "Requirement already satisfied: numpy>=1.15 in c:\\users\\duran\\anaconda3again\\lib\\site-packages (from matplotlib) (1.21.2)\n",
      "Requirement already satisfied: pyparsing!=2.0.4,!=2.1.2,!=2.1.6,>=2.0.3 in c:\\users\\duran\\anaconda3again\\lib\\site-packages (from matplotlib) (2.4.7)\n",
      "Requirement already satisfied: certifi>=2020.06.20 in c:\\users\\duran\\anaconda3again\\lib\\site-packages (from matplotlib) (2020.6.20)\n",
      "Requirement already satisfied: python-dateutil>=2.1 in c:\\users\\duran\\anaconda3again\\lib\\site-packages (from matplotlib) (2.8.1)\n",
      "Requirement already satisfied: pillow>=6.2.0 in c:\\users\\duran\\anaconda3again\\lib\\site-packages (from matplotlib) (8.0.1)\n",
      "Requirement already satisfied: cycler>=0.10 in c:\\users\\duran\\anaconda3again\\lib\\site-packages (from matplotlib) (0.10.0)\n",
      "Requirement already satisfied: six>=1.5 in c:\\users\\duran\\anaconda3again\\lib\\site-packages (from python-dateutil>=2.1->matplotlib) (1.15.0)\n",
      "Requirement already satisfied: seaborn in c:\\users\\duran\\anaconda3again\\lib\\site-packages (0.11.0)\n",
      "Requirement already satisfied: matplotlib>=2.2 in c:\\users\\duran\\anaconda3again\\lib\\site-packages (from seaborn) (3.3.2)\n",
      "Requirement already satisfied: numpy>=1.15 in c:\\users\\duran\\anaconda3again\\lib\\site-packages (from seaborn) (1.21.2)\n",
      "Requirement already satisfied: pandas>=0.23 in c:\\users\\duran\\anaconda3again\\lib\\site-packages (from seaborn) (1.1.3)\n",
      "Requirement already satisfied: scipy>=1.0 in c:\\users\\duran\\anaconda3again\\lib\\site-packages (from seaborn) (1.5.2)\n",
      "Requirement already satisfied: cycler>=0.10 in c:\\users\\duran\\anaconda3again\\lib\\site-packages (from matplotlib>=2.2->seaborn) (0.10.0)\n",
      "Requirement already satisfied: pyparsing!=2.0.4,!=2.1.2,!=2.1.6,>=2.0.3 in c:\\users\\duran\\anaconda3again\\lib\\site-packages (from matplotlib>=2.2->seaborn) (2.4.7)\n",
      "Requirement already satisfied: python-dateutil>=2.1 in c:\\users\\duran\\anaconda3again\\lib\\site-packages (from matplotlib>=2.2->seaborn) (2.8.1)\n",
      "Requirement already satisfied: certifi>=2020.06.20 in c:\\users\\duran\\anaconda3again\\lib\\site-packages (from matplotlib>=2.2->seaborn) (2020.6.20)\n",
      "Requirement already satisfied: pillow>=6.2.0 in c:\\users\\duran\\anaconda3again\\lib\\site-packages (from matplotlib>=2.2->seaborn) (8.0.1)\n",
      "Requirement already satisfied: kiwisolver>=1.0.1 in c:\\users\\duran\\anaconda3again\\lib\\site-packages (from matplotlib>=2.2->seaborn) (1.3.0)\n",
      "Requirement already satisfied: pytz>=2017.2 in c:\\users\\duran\\anaconda3again\\lib\\site-packages (from pandas>=0.23->seaborn) (2020.1)\n",
      "Requirement already satisfied: six in c:\\users\\duran\\anaconda3again\\lib\\site-packages (from cycler>=0.10->matplotlib>=2.2->seaborn) (1.15.0)\n",
      "Requirement already satisfied: spacy in c:\\users\\duran\\anaconda3again\\lib\\site-packages (2.3.1)\n",
      "Requirement already satisfied: numpy>=1.15.0 in c:\\users\\duran\\anaconda3again\\lib\\site-packages (from spacy) (1.21.2)\n",
      "Requirement already satisfied: cymem<2.1.0,>=2.0.2 in c:\\users\\duran\\anaconda3again\\lib\\site-packages (from spacy) (2.0.5)\n",
      "Requirement already satisfied: wasabi<1.1.0,>=0.4.0 in c:\\users\\duran\\anaconda3again\\lib\\site-packages (from spacy) (0.8.0)\n",
      "Requirement already satisfied: preshed<3.1.0,>=3.0.2 in c:\\users\\duran\\anaconda3again\\lib\\site-packages (from spacy) (3.0.5)\n",
      "Requirement already satisfied: murmurhash<1.1.0,>=0.28.0 in c:\\users\\duran\\anaconda3again\\lib\\site-packages (from spacy) (1.0.5)\n",
      "Requirement already satisfied: catalogue<1.1.0,>=0.0.7 in c:\\users\\duran\\anaconda3again\\lib\\site-packages (from spacy) (1.0.0)\n",
      "Requirement already satisfied: plac<1.2.0,>=0.9.6 in c:\\users\\duran\\anaconda3again\\lib\\site-packages (from spacy) (1.1.3)\n",
      "Requirement already satisfied: setuptools in c:\\users\\duran\\anaconda3again\\lib\\site-packages (from spacy) (50.3.1.post20201107)\n",
      "Requirement already satisfied: thinc==7.4.1 in c:\\users\\duran\\anaconda3again\\lib\\site-packages (from spacy) (7.4.1)\n",
      "Requirement already satisfied: requests<3.0.0,>=2.13.0 in c:\\users\\duran\\anaconda3again\\lib\\site-packages (from spacy) (2.24.0)\n",
      "Requirement already satisfied: tqdm<5.0.0,>=4.38.0 in c:\\users\\duran\\anaconda3again\\lib\\site-packages (from spacy) (4.50.2)\n",
      "Requirement already satisfied: blis<0.5.0,>=0.4.0 in c:\\users\\duran\\anaconda3again\\lib\\site-packages (from spacy) (0.4.1)\n",
      "Requirement already satisfied: srsly<1.1.0,>=1.0.2 in c:\\users\\duran\\anaconda3again\\lib\\site-packages (from spacy) (1.0.5)\n",
      "Requirement already satisfied: idna<3,>=2.5 in c:\\users\\duran\\anaconda3again\\lib\\site-packages (from requests<3.0.0,>=2.13.0->spacy) (2.10)\n",
      "Requirement already satisfied: urllib3!=1.25.0,!=1.25.1,<1.26,>=1.21.1 in c:\\users\\duran\\anaconda3again\\lib\\site-packages (from requests<3.0.0,>=2.13.0->spacy) (1.25.11)\n",
      "Requirement already satisfied: chardet<4,>=3.0.2 in c:\\users\\duran\\anaconda3again\\lib\\site-packages (from requests<3.0.0,>=2.13.0->spacy) (3.0.4)\n",
      "Requirement already satisfied: certifi>=2017.4.17 in c:\\users\\duran\\anaconda3again\\lib\\site-packages (from requests<3.0.0,>=2.13.0->spacy) (2020.6.20)\n",
      "Requirement already satisfied: gensim in c:\\users\\duran\\anaconda3again\\lib\\site-packages (4.1.2)\n",
      "Requirement already satisfied: scipy>=0.18.1 in c:\\users\\duran\\anaconda3again\\lib\\site-packages (from gensim) (1.5.2)\n",
      "Requirement already satisfied: numpy>=1.17.0 in c:\\users\\duran\\anaconda3again\\lib\\site-packages (from gensim) (1.21.2)\n",
      "Requirement already satisfied: Cython==0.29.23 in c:\\users\\duran\\anaconda3again\\lib\\site-packages (from gensim) (0.29.23)\n",
      "Requirement already satisfied: smart-open>=1.8.1 in c:\\users\\duran\\anaconda3again\\lib\\site-packages (from gensim) (4.1.2)\n",
      "Requirement already satisfied: pyLDAvis in c:\\users\\duran\\anaconda3again\\lib\\site-packages (2.1.2)\n",
      "Requirement already satisfied: scipy>=0.18.0 in c:\\users\\duran\\anaconda3again\\lib\\site-packages (from pyLDAvis) (1.5.2)\n",
      "Requirement already satisfied: numexpr in c:\\users\\duran\\anaconda3again\\lib\\site-packages (from pyLDAvis) (2.7.1)\n",
      "Requirement already satisfied: future in c:\\users\\duran\\anaconda3again\\lib\\site-packages (from pyLDAvis) (0.18.2)\n",
      "Requirement already satisfied: wheel>=0.23.0 in c:\\users\\duran\\anaconda3again\\lib\\site-packages (from pyLDAvis) (0.35.1)\n",
      "Requirement already satisfied: jinja2>=2.7.2 in c:\\users\\duran\\anaconda3again\\lib\\site-packages (from pyLDAvis) (2.11.2)\n",
      "Requirement already satisfied: joblib>=0.8.4 in c:\\users\\duran\\anaconda3again\\lib\\site-packages (from pyLDAvis) (0.17.0)\n",
      "Requirement already satisfied: numpy>=1.9.2 in c:\\users\\duran\\anaconda3again\\lib\\site-packages (from pyLDAvis) (1.21.2)\n",
      "Requirement already satisfied: funcy in c:\\users\\duran\\anaconda3again\\lib\\site-packages (from pyLDAvis) (1.15)\n",
      "Requirement already satisfied: pytest in c:\\users\\duran\\anaconda3again\\lib\\site-packages (from pyLDAvis) (0.0.0)\n",
      "Requirement already satisfied: pandas>=0.17.0 in c:\\users\\duran\\anaconda3again\\lib\\site-packages (from pyLDAvis) (1.1.3)\n",
      "Requirement already satisfied: MarkupSafe>=0.23 in c:\\users\\duran\\anaconda3again\\lib\\site-packages (from jinja2>=2.7.2->pyLDAvis) (1.1.1)\n",
      "Requirement already satisfied: attrs>=17.4.0 in c:\\users\\duran\\anaconda3again\\lib\\site-packages (from pytest->pyLDAvis) (20.3.0)\n",
      "Requirement already satisfied: iniconfig in c:\\users\\duran\\anaconda3again\\lib\\site-packages (from pytest->pyLDAvis) (1.1.1)\n",
      "Requirement already satisfied: packaging in c:\\users\\duran\\anaconda3again\\lib\\site-packages (from pytest->pyLDAvis) (20.4)\n",
      "Requirement already satisfied: pluggy<1.0,>=0.12 in c:\\users\\duran\\anaconda3again\\lib\\site-packages (from pytest->pyLDAvis) (0.13.1)\n",
      "Requirement already satisfied: py>=1.8.2 in c:\\users\\duran\\anaconda3again\\lib\\site-packages (from pytest->pyLDAvis) (1.9.0)\n",
      "Requirement already satisfied: toml in c:\\users\\duran\\anaconda3again\\lib\\site-packages (from pytest->pyLDAvis) (0.10.1)\n",
      "Requirement already satisfied: atomicwrites>=1.0 in c:\\users\\duran\\anaconda3again\\lib\\site-packages (from pytest->pyLDAvis) (1.4.0)\n",
      "Requirement already satisfied: colorama in c:\\users\\duran\\anaconda3again\\lib\\site-packages (from pytest->pyLDAvis) (0.4.4)\n",
      "Requirement already satisfied: python-dateutil>=2.7.3 in c:\\users\\duran\\anaconda3again\\lib\\site-packages (from pandas>=0.17.0->pyLDAvis) (2.8.1)\n",
      "Requirement already satisfied: pytz>=2017.2 in c:\\users\\duran\\anaconda3again\\lib\\site-packages (from pandas>=0.17.0->pyLDAvis) (2020.1)\n",
      "Requirement already satisfied: pyparsing>=2.0.2 in c:\\users\\duran\\anaconda3again\\lib\\site-packages (from packaging->pytest->pyLDAvis) (2.4.7)\n",
      "Requirement already satisfied: six in c:\\users\\duran\\anaconda3again\\lib\\site-packages (from packaging->pytest->pyLDAvis) (1.15.0)\n",
      "Collecting https://github.com/explosion/spacy-models/releases/download/en_core_web_sm-2.3.1/en_core_web_sm-2.3.1.tar.gz\n",
      "  Downloading https://github.com/explosion/spacy-models/releases/download/en_core_web_sm-2.3.1/en_core_web_sm-2.3.1.tar.gz (12.0 MB)\n",
      "Requirement already satisfied (use --upgrade to upgrade): en-core-web-sm==2.3.1 from https://github.com/explosion/spacy-models/releases/download/en_core_web_sm-2.3.1/en_core_web_sm-2.3.1.tar.gz in c:\\users\\duran\\anaconda3again\\lib\\site-packages\n",
      "Building wheels for collected packages: en-core-web-sm\n",
      "  Building wheel for en-core-web-sm (setup.py): started\n",
      "  Building wheel for en-core-web-sm (setup.py): finished with status 'done'\n",
      "  Created wheel for en-core-web-sm: filename=en_core_web_sm-2.3.1-py3-none-any.whl size=12047113 sha256=783ef6bab9c83639409863be8bee38123c01dc7aabff72a9a62348e70587b3fd\n",
      "  Stored in directory: c:\\users\\duran\\appdata\\local\\pip\\cache\\wheels\\ee\\4d\\f7\\563214122be1540b5f9197b52cb3ddb9c4a8070808b22d5a84\n",
      "Successfully built en-core-web-sm\n",
      "Requirement already up-to-date: spacy==2.3.1 in c:\\users\\duran\\anaconda3again\\lib\\site-packages (2.3.1)\n",
      "Requirement already satisfied, skipping upgrade: blis<0.5.0,>=0.4.0 in c:\\users\\duran\\anaconda3again\\lib\\site-packages (from spacy==2.3.1) (0.4.1)\n",
      "Requirement already satisfied, skipping upgrade: wasabi<1.1.0,>=0.4.0 in c:\\users\\duran\\anaconda3again\\lib\\site-packages (from spacy==2.3.1) (0.8.0)\n",
      "Requirement already satisfied, skipping upgrade: preshed<3.1.0,>=3.0.2 in c:\\users\\duran\\anaconda3again\\lib\\site-packages (from spacy==2.3.1) (3.0.5)\n",
      "Requirement already satisfied, skipping upgrade: tqdm<5.0.0,>=4.38.0 in c:\\users\\duran\\anaconda3again\\lib\\site-packages (from spacy==2.3.1) (4.50.2)\n",
      "Requirement already satisfied, skipping upgrade: plac<1.2.0,>=0.9.6 in c:\\users\\duran\\anaconda3again\\lib\\site-packages (from spacy==2.3.1) (1.1.3)\n",
      "Requirement already satisfied, skipping upgrade: requests<3.0.0,>=2.13.0 in c:\\users\\duran\\anaconda3again\\lib\\site-packages (from spacy==2.3.1) (2.24.0)\n",
      "Requirement already satisfied, skipping upgrade: cymem<2.1.0,>=2.0.2 in c:\\users\\duran\\anaconda3again\\lib\\site-packages (from spacy==2.3.1) (2.0.5)\n",
      "Requirement already satisfied, skipping upgrade: catalogue<1.1.0,>=0.0.7 in c:\\users\\duran\\anaconda3again\\lib\\site-packages (from spacy==2.3.1) (1.0.0)\n",
      "Requirement already satisfied, skipping upgrade: srsly<1.1.0,>=1.0.2 in c:\\users\\duran\\anaconda3again\\lib\\site-packages (from spacy==2.3.1) (1.0.5)\n",
      "Requirement already satisfied, skipping upgrade: setuptools in c:\\users\\duran\\anaconda3again\\lib\\site-packages (from spacy==2.3.1) (50.3.1.post20201107)\n",
      "Requirement already satisfied, skipping upgrade: murmurhash<1.1.0,>=0.28.0 in c:\\users\\duran\\anaconda3again\\lib\\site-packages (from spacy==2.3.1) (1.0.5)\n",
      "Requirement already satisfied, skipping upgrade: numpy>=1.15.0 in c:\\users\\duran\\anaconda3again\\lib\\site-packages (from spacy==2.3.1) (1.21.2)\n",
      "Requirement already satisfied, skipping upgrade: thinc==7.4.1 in c:\\users\\duran\\anaconda3again\\lib\\site-packages (from spacy==2.3.1) (7.4.1)\n",
      "Requirement already satisfied, skipping upgrade: chardet<4,>=3.0.2 in c:\\users\\duran\\anaconda3again\\lib\\site-packages (from requests<3.0.0,>=2.13.0->spacy==2.3.1) (3.0.4)\n",
      "Requirement already satisfied, skipping upgrade: certifi>=2017.4.17 in c:\\users\\duran\\anaconda3again\\lib\\site-packages (from requests<3.0.0,>=2.13.0->spacy==2.3.1) (2020.6.20)\n",
      "Requirement already satisfied, skipping upgrade: idna<3,>=2.5 in c:\\users\\duran\\anaconda3again\\lib\\site-packages (from requests<3.0.0,>=2.13.0->spacy==2.3.1) (2.10)\n",
      "Requirement already satisfied, skipping upgrade: urllib3!=1.25.0,!=1.25.1,<1.26,>=1.21.1 in c:\\users\\duran\\anaconda3again\\lib\\site-packages (from requests<3.0.0,>=2.13.0->spacy==2.3.1) (1.25.11)\n"
     ]
    }
   ],
   "source": [
    "!pip install pandas\n",
    "!pip install nltk\n",
    "!pip install matplotlib\n",
    "!pip install seaborn\n",
    "!pip install spacy\n",
    "!pip install gensim\n",
    "!pip install pyLDAvis\n",
    "!pip install https://github.com/explosion/spacy-models/releases/download/en_core_web_sm-2.3.1/en_core_web_sm-2.3.1.tar.gz --no-deps\n",
    "!pip install -U spacy==2.3.1"
   ]
  },
  {
   "cell_type": "markdown",
   "metadata": {},
   "source": [
    "Once the packages have been downloaded, the following are a list of libraries that will beused for this project:"
   ]
  },
  {
   "cell_type": "code",
   "execution_count": 55,
   "metadata": {},
   "outputs": [
    {
     "name": "stderr",
     "output_type": "stream",
     "text": [
      "[nltk_data] Downloading package stopwords to\n",
      "[nltk_data]     C:\\Users\\duran\\AppData\\Roaming\\nltk_data...\n",
      "[nltk_data]   Package stopwords is already up-to-date!\n"
     ]
    }
   ],
   "source": [
    "import pandas as pd\n",
    "from nltk import FreqDist\n",
    "import matplotlib.pyplot as plt \n",
    "import seaborn as sns\n",
    "import re\n",
    "import spacy\n",
    "from nltk.corpus import stopwords\n",
    "import nltk\n",
    "nltk.download('stopwords')\n",
    "\n",
    "import gensim\n",
    "from gensim import corpora\n",
    "\n",
    "import pyLDAvis\n",
    "import pyLDAvis.gensim\n",
    "%matplotlib inline"
   ]
  },
  {
   "cell_type": "markdown",
   "metadata": {},
   "source": [
    "The pandas library will be needed for data manipulation.<br>\n",
    "The seaborn and matplotlib packages will be used for data visualizations.<br> \n",
    "The re and spacy packages will be used for regular expression and tokenization purposes.<br>\n",
    "The NLTK library will be used to bring in stopwords for data cleaning.<br>\n",
    "The gensim and pyLDAvis libraries will be used for LDA Topic Analysis and LDA visualizations. "
   ]
  },
  {
   "cell_type": "code",
   "execution_count": 56,
   "metadata": {},
   "outputs": [],
   "source": [
    "import warnings\n",
    "warnings.filterwarnings(\"ignore\", category=DeprecationWarning) \n",
    "pd.options.mode.chained_assignment = None "
   ]
  },
  {
   "cell_type": "markdown",
   "metadata": {},
   "source": [
    "The Deprecation warning and pd.options library is done to suppress the Deprecation warning and \"Settingwithcopy\" warning message."
   ]
  },
  {
   "cell_type": "code",
   "execution_count": 57,
   "metadata": {},
   "outputs": [],
   "source": [
    "import warnings\n",
    "warnings.filterwarnings(\"ignore\", category=DeprecationWarning) "
   ]
  },
  {
   "cell_type": "markdown",
   "metadata": {},
   "source": [
    "This code above is re-run again in order to truly get rid of the deprecation warnings from the gensim package."
   ]
  },
  {
   "cell_type": "markdown",
   "metadata": {},
   "source": [
    "#  Data Sources\n",
    "\n",
    "The data sources were scraped directly from Amazon using the Scrapy package which was installed on my local machine. <br>\n",
    "The data sources were saved into CSV files.\n"
   ]
  },
  {
   "cell_type": "markdown",
   "metadata": {},
   "source": [
    "The reviews for all 4 consoles are loaded into pandas dataframes."
   ]
  },
  {
   "cell_type": "code",
   "execution_count": 58,
   "metadata": {},
   "outputs": [],
   "source": [
    "ps4reviews = pd.read_csv(\"PS4Amazon.csv\")\n",
    "ps5reviews = pd.read_csv(\"ps5new.csv\")\n",
    "xboxonexreviews = pd.read_csv(\"xboxonexreviews.csv\")\n",
    "xboxseriesxreviews = pd.read_csv(\"xboxseriesxreviews.csv\")"
   ]
  },
  {
   "cell_type": "markdown",
   "metadata": {},
   "source": [
    "There are some extra columns not needed in the PS5 reviews dataset: \"Name\" and \"Title\". \n",
    "I use the following piece of code to drop them:"
   ]
  },
  {
   "cell_type": "code",
   "execution_count": 59,
   "metadata": {},
   "outputs": [],
   "source": [
    "ps5reviews = ps5reviews.drop(['Name', 'Title'], axis = 1)"
   ]
  },
  {
   "cell_type": "markdown",
   "metadata": {},
   "source": [
    "In order to clean the data, get it ready for modeling, and use the data for visualizations, I need to replace the Rating values\n",
    "with numerical values (1,2,3,4,5) in order for the models to function properly:"
   ]
  },
  {
   "cell_type": "code",
   "execution_count": 60,
   "metadata": {},
   "outputs": [],
   "source": [
    "ps5reviews['Rating'] = ps5reviews['Rating'].replace(['1.0 out of 5 stars','2.0 out of 5 stars', '3.0 out of 5 stars', '4.0 out of 5 stars', '5.0 out of 5 stars'],\n",
    "                                                    [1, 2, 3, 4, 5])\n",
    "ps4reviews['stars'] = ps4reviews['stars'].replace(['1.0 out of 5 stars','2.0 out of 5 stars', '3.0 out of 5 stars', '4.0 out of 5 stars', '5.0 out of 5 stars'],\n",
    "                                                    [1, 2, 3, 4, 5])\n",
    "xboxonexreviews['stars'] = xboxonexreviews['stars'].replace(['1.0 out of 5 stars','2.0 out of 5 stars', '3.0 out of 5 stars', '4.0 out of 5 stars', '5.0 out of 5 stars'],\n",
    "                                                              [1, 2, 3, 4, 5])\n",
    "xboxseriesxreviews['stars'] = xboxseriesxreviews['stars'].replace(['1.0 out of 5 stars','2.0 out of 5 stars', '3.0 out of 5 stars', '4.0 out of 5 stars', '5.0 out of 5 stars'],\n",
    "                                                    [1, 2, 3, 4, 5])\n"
   ]
  },
  {
   "cell_type": "markdown",
   "metadata": {},
   "source": [
    "The head function is run to check the first 5 rows of the data:"
   ]
  },
  {
   "cell_type": "code",
   "execution_count": 61,
   "metadata": {},
   "outputs": [
    {
     "data": {
      "text/html": [
       "<div>\n",
       "<style scoped>\n",
       "    .dataframe tbody tr th:only-of-type {\n",
       "        vertical-align: middle;\n",
       "    }\n",
       "\n",
       "    .dataframe tbody tr th {\n",
       "        vertical-align: top;\n",
       "    }\n",
       "\n",
       "    .dataframe thead th {\n",
       "        text-align: right;\n",
       "    }\n",
       "</style>\n",
       "<table border=\"1\" class=\"dataframe\">\n",
       "  <thead>\n",
       "    <tr style=\"text-align: right;\">\n",
       "      <th></th>\n",
       "      <th>Rating</th>\n",
       "      <th>Comment</th>\n",
       "    </tr>\n",
       "  </thead>\n",
       "  <tbody>\n",
       "    <tr>\n",
       "      <th>0</th>\n",
       "      <td>1</td>\n",
       "      <td>\\n\\n\\n\\n\\n\\n\\n\\n\\n\\n  \\n  \\n    \\n  This will ...</td>\n",
       "    </tr>\n",
       "    <tr>\n",
       "      <th>1</th>\n",
       "      <td>1</td>\n",
       "      <td>\\n\\n\\n\\n\\n\\n\\n\\n\\n\\n  \\n  \\n    \\n  Taking adv...</td>\n",
       "    </tr>\n",
       "    <tr>\n",
       "      <th>2</th>\n",
       "      <td>1</td>\n",
       "      <td>\\n\\n\\n\\n\\n\\n\\n\\n\\n\\n  \\n  \\n    \\n  I wait all...</td>\n",
       "    </tr>\n",
       "    <tr>\n",
       "      <th>3</th>\n",
       "      <td>1</td>\n",
       "      <td>\\n\\n\\n\\n\\n\\n\\n\\n\\n\\n  \\n  \\n    \\n  Between Nv...</td>\n",
       "    </tr>\n",
       "    <tr>\n",
       "      <th>4</th>\n",
       "      <td>1</td>\n",
       "      <td>\\n\\n\\n\\n\\n\\n\\n\\n\\n\\n  \\n  \\n    \\n  I've been ...</td>\n",
       "    </tr>\n",
       "  </tbody>\n",
       "</table>\n",
       "</div>"
      ],
      "text/plain": [
       "   Rating                                            Comment\n",
       "0       1  \\n\\n\\n\\n\\n\\n\\n\\n\\n\\n  \\n  \\n    \\n  This will ...\n",
       "1       1  \\n\\n\\n\\n\\n\\n\\n\\n\\n\\n  \\n  \\n    \\n  Taking adv...\n",
       "2       1  \\n\\n\\n\\n\\n\\n\\n\\n\\n\\n  \\n  \\n    \\n  I wait all...\n",
       "3       1  \\n\\n\\n\\n\\n\\n\\n\\n\\n\\n  \\n  \\n    \\n  Between Nv...\n",
       "4       1  \\n\\n\\n\\n\\n\\n\\n\\n\\n\\n  \\n  \\n    \\n  I've been ..."
      ]
     },
     "execution_count": 61,
     "metadata": {},
     "output_type": "execute_result"
    }
   ],
   "source": [
    "ps5reviews.head(5)"
   ]
  },
  {
   "cell_type": "markdown",
   "metadata": {},
   "source": [
    "Based on the dataframe above,  it looks like the \"Rating\" column values have been replaced successfully.<br>\n",
    "However, the \"Comment\" column for the PS5 reviews looks to have extra whitespace lines.<br>\n",
    "The rest of the datasets are checked to see if they have the same issue:"
   ]
  },
  {
   "cell_type": "code",
   "execution_count": 62,
   "metadata": {},
   "outputs": [
    {
     "data": {
      "text/html": [
       "<div>\n",
       "<style scoped>\n",
       "    .dataframe tbody tr th:only-of-type {\n",
       "        vertical-align: middle;\n",
       "    }\n",
       "\n",
       "    .dataframe tbody tr th {\n",
       "        vertical-align: top;\n",
       "    }\n",
       "\n",
       "    .dataframe thead th {\n",
       "        text-align: right;\n",
       "    }\n",
       "</style>\n",
       "<table border=\"1\" class=\"dataframe\">\n",
       "  <thead>\n",
       "    <tr style=\"text-align: right;\">\n",
       "      <th></th>\n",
       "      <th>stars</th>\n",
       "      <th>comment</th>\n",
       "    </tr>\n",
       "  </thead>\n",
       "  <tbody>\n",
       "    <tr>\n",
       "      <th>0</th>\n",
       "      <td>3</td>\n",
       "      <td>\\n\\n\\n\\n\\n\\n\\n\\n\\n  \\n  Your browser does not ...</td>\n",
       "    </tr>\n",
       "    <tr>\n",
       "      <th>1</th>\n",
       "      <td>2</td>\n",
       "      <td>\\n\\n\\n\\n\\n\\n\\n\\n\\n\\n  \\n  \\n    \\n  This was m...</td>\n",
       "    </tr>\n",
       "    <tr>\n",
       "      <th>2</th>\n",
       "      <td>5</td>\n",
       "      <td>\\n\\n\\n\\n\\n\\n\\n\\n\\n\\n  \\n  \\n    \\n  i still re...</td>\n",
       "    </tr>\n",
       "    <tr>\n",
       "      <th>3</th>\n",
       "      <td>5</td>\n",
       "      <td>\\n\\n\\n\\n\\n\\n\\n\\n\\n\\n  \\n  \\n    \\n  I bought t...</td>\n",
       "    </tr>\n",
       "    <tr>\n",
       "      <th>4</th>\n",
       "      <td>5</td>\n",
       "      <td>\\n\\n\\n\\n\\n\\n\\n\\n\\n\\n  \\n  \\n    \\n  I warily b...</td>\n",
       "    </tr>\n",
       "  </tbody>\n",
       "</table>\n",
       "</div>"
      ],
      "text/plain": [
       "   stars                                            comment\n",
       "0      3  \\n\\n\\n\\n\\n\\n\\n\\n\\n  \\n  Your browser does not ...\n",
       "1      2  \\n\\n\\n\\n\\n\\n\\n\\n\\n\\n  \\n  \\n    \\n  This was m...\n",
       "2      5  \\n\\n\\n\\n\\n\\n\\n\\n\\n\\n  \\n  \\n    \\n  i still re...\n",
       "3      5  \\n\\n\\n\\n\\n\\n\\n\\n\\n\\n  \\n  \\n    \\n  I bought t...\n",
       "4      5  \\n\\n\\n\\n\\n\\n\\n\\n\\n\\n  \\n  \\n    \\n  I warily b..."
      ]
     },
     "execution_count": 62,
     "metadata": {},
     "output_type": "execute_result"
    }
   ],
   "source": [
    "ps4reviews.head(5)"
   ]
  },
  {
   "cell_type": "code",
   "execution_count": 63,
   "metadata": {},
   "outputs": [
    {
     "data": {
      "text/html": [
       "<div>\n",
       "<style scoped>\n",
       "    .dataframe tbody tr th:only-of-type {\n",
       "        vertical-align: middle;\n",
       "    }\n",
       "\n",
       "    .dataframe tbody tr th {\n",
       "        vertical-align: top;\n",
       "    }\n",
       "\n",
       "    .dataframe thead th {\n",
       "        text-align: right;\n",
       "    }\n",
       "</style>\n",
       "<table border=\"1\" class=\"dataframe\">\n",
       "  <thead>\n",
       "    <tr style=\"text-align: right;\">\n",
       "      <th></th>\n",
       "      <th>stars</th>\n",
       "      <th>comment</th>\n",
       "    </tr>\n",
       "  </thead>\n",
       "  <tbody>\n",
       "    <tr>\n",
       "      <th>0</th>\n",
       "      <td>1</td>\n",
       "      <td>\\n\\n\\n\\n\\n\\n\\n\\n\\n\\n  \\n  \\n    \\n  This shoul...</td>\n",
       "    </tr>\n",
       "    <tr>\n",
       "      <th>1</th>\n",
       "      <td>1</td>\n",
       "      <td>\\n\\n\\n\\n\\n\\n\\n\\n\\n\\n  \\n  \\n    \\n  Hope you n...</td>\n",
       "    </tr>\n",
       "    <tr>\n",
       "      <th>2</th>\n",
       "      <td>1</td>\n",
       "      <td>\\n\\n\\n\\n\\n\\n\\n\\n\\n\\n  \\n  \\n    \\n  Wait for t...</td>\n",
       "    </tr>\n",
       "    <tr>\n",
       "      <th>3</th>\n",
       "      <td>1</td>\n",
       "      <td>\\n\\n\\n\\n\\n\\n\\n\\n\\n\\n  \\n  \\n    \\n  How dare y...</td>\n",
       "    </tr>\n",
       "    <tr>\n",
       "      <th>4</th>\n",
       "      <td>1</td>\n",
       "      <td>\\n\\n\\n\\n\\n\\n\\n\\n\\n\\n  \\n  \\n    \\n  annoying\\n...</td>\n",
       "    </tr>\n",
       "  </tbody>\n",
       "</table>\n",
       "</div>"
      ],
      "text/plain": [
       "   stars                                            comment\n",
       "0      1  \\n\\n\\n\\n\\n\\n\\n\\n\\n\\n  \\n  \\n    \\n  This shoul...\n",
       "1      1  \\n\\n\\n\\n\\n\\n\\n\\n\\n\\n  \\n  \\n    \\n  Hope you n...\n",
       "2      1  \\n\\n\\n\\n\\n\\n\\n\\n\\n\\n  \\n  \\n    \\n  Wait for t...\n",
       "3      1  \\n\\n\\n\\n\\n\\n\\n\\n\\n\\n  \\n  \\n    \\n  How dare y...\n",
       "4      1  \\n\\n\\n\\n\\n\\n\\n\\n\\n\\n  \\n  \\n    \\n  annoying\\n..."
      ]
     },
     "execution_count": 63,
     "metadata": {},
     "output_type": "execute_result"
    }
   ],
   "source": [
    "xboxonexreviews.head(5)"
   ]
  },
  {
   "cell_type": "code",
   "execution_count": 64,
   "metadata": {},
   "outputs": [
    {
     "data": {
      "text/html": [
       "<div>\n",
       "<style scoped>\n",
       "    .dataframe tbody tr th:only-of-type {\n",
       "        vertical-align: middle;\n",
       "    }\n",
       "\n",
       "    .dataframe tbody tr th {\n",
       "        vertical-align: top;\n",
       "    }\n",
       "\n",
       "    .dataframe thead th {\n",
       "        text-align: right;\n",
       "    }\n",
       "</style>\n",
       "<table border=\"1\" class=\"dataframe\">\n",
       "  <thead>\n",
       "    <tr style=\"text-align: right;\">\n",
       "      <th></th>\n",
       "      <th>stars</th>\n",
       "      <th>comment</th>\n",
       "    </tr>\n",
       "  </thead>\n",
       "  <tbody>\n",
       "    <tr>\n",
       "      <th>0</th>\n",
       "      <td>1</td>\n",
       "      <td>\\n\\n\\n\\n\\n\\n\\n\\n\\n\\n  \\n  \\n    \\n  This isn't...</td>\n",
       "    </tr>\n",
       "    <tr>\n",
       "      <th>1</th>\n",
       "      <td>1</td>\n",
       "      <td>\\n\\n\\n\\n\\n\\n\\n\\n\\n\\n  \\n  \\n    \\n  Console po...</td>\n",
       "    </tr>\n",
       "    <tr>\n",
       "      <th>2</th>\n",
       "      <td>1</td>\n",
       "      <td>\\n\\n\\n\\n\\n\\n\\n\\n\\n\\n  \\n  \\n    \\n  Well got i...</td>\n",
       "    </tr>\n",
       "    <tr>\n",
       "      <th>3</th>\n",
       "      <td>1</td>\n",
       "      <td>\\n\\n\\n\\n\\n\\n\\n\\n\\n\\n  \\n  \\n    \\n  Defective ...</td>\n",
       "    </tr>\n",
       "    <tr>\n",
       "      <th>4</th>\n",
       "      <td>3</td>\n",
       "      <td>\\n\\n\\n\\n\\n\\n\\n\\n\\n\\n  \\n  \\n    \\n  Honestly t...</td>\n",
       "    </tr>\n",
       "  </tbody>\n",
       "</table>\n",
       "</div>"
      ],
      "text/plain": [
       "   stars                                            comment\n",
       "0      1  \\n\\n\\n\\n\\n\\n\\n\\n\\n\\n  \\n  \\n    \\n  This isn't...\n",
       "1      1  \\n\\n\\n\\n\\n\\n\\n\\n\\n\\n  \\n  \\n    \\n  Console po...\n",
       "2      1  \\n\\n\\n\\n\\n\\n\\n\\n\\n\\n  \\n  \\n    \\n  Well got i...\n",
       "3      1  \\n\\n\\n\\n\\n\\n\\n\\n\\n\\n  \\n  \\n    \\n  Defective ...\n",
       "4      3  \\n\\n\\n\\n\\n\\n\\n\\n\\n\\n  \\n  \\n    \\n  Honestly t..."
      ]
     },
     "execution_count": 64,
     "metadata": {},
     "output_type": "execute_result"
    }
   ],
   "source": [
    "xboxseriesxreviews.head(5)"
   ]
  },
  {
   "cell_type": "markdown",
   "metadata": {},
   "source": [
    "It seems that the review text for all these reviews seem to have the same extra whitespace issue.<br>\n",
    "The code below is run in order to replace the white space values using regular expressions:"
   ]
  },
  {
   "cell_type": "code",
   "execution_count": 65,
   "metadata": {},
   "outputs": [],
   "source": [
    "ps4reviews.replace(to_replace=[r\"\\\\t|\\\\n|\\\\r\", \"\\t|\\n|\\r\"], value=[\"\",\"\"], regex=True, inplace=True)\n",
    "ps5reviews.replace(to_replace=[r\"\\\\t|\\\\n|\\\\r\", \"\\t|\\n|\\r\"], value=[\"\",\"\"], regex=True, inplace=True)\n",
    "xboxonexreviews.replace(to_replace=[r\"\\\\t|\\\\n|\\\\r\", \"\\t|\\n|\\r\"], value=[\"\",\"\"], regex=True, inplace=True)\n",
    "xboxseriesxreviews.replace(to_replace=[r\"\\\\t|\\\\n|\\\\r\", \"\\t|\\n|\\r\"], value=[\"\",\"\"], regex=True, inplace=True)"
   ]
  },
  {
   "cell_type": "markdown",
   "metadata": {},
   "source": [
    "Next, the \"Rating\" and \"stars\" columns are converted into numeric columns in order to ensure that the columns are all numeric.\n",
    "It's done as a safeguard to confidently make sure the columns are numeric for model building purposes."
   ]
  },
  {
   "cell_type": "code",
   "execution_count": 66,
   "metadata": {},
   "outputs": [],
   "source": [
    "ps5reviews['Rating'] = pd.to_numeric(ps5reviews['Rating'])\n",
    "ps4reviews['stars'] = pd.to_numeric(ps4reviews['stars'])\n",
    "xboxonexreviews['stars'] = pd.to_numeric(xboxonexreviews['stars'])\n",
    "xboxseriesxreviews['stars'] = pd.to_numeric(xboxseriesxreviews['stars'])"
   ]
  },
  {
   "cell_type": "code",
   "execution_count": 67,
   "metadata": {},
   "outputs": [
    {
     "data": {
      "text/html": [
       "<div>\n",
       "<style scoped>\n",
       "    .dataframe tbody tr th:only-of-type {\n",
       "        vertical-align: middle;\n",
       "    }\n",
       "\n",
       "    .dataframe tbody tr th {\n",
       "        vertical-align: top;\n",
       "    }\n",
       "\n",
       "    .dataframe thead th {\n",
       "        text-align: right;\n",
       "    }\n",
       "</style>\n",
       "<table border=\"1\" class=\"dataframe\">\n",
       "  <thead>\n",
       "    <tr style=\"text-align: right;\">\n",
       "      <th></th>\n",
       "      <th>stars</th>\n",
       "      <th>comment</th>\n",
       "    </tr>\n",
       "  </thead>\n",
       "  <tbody>\n",
       "    <tr>\n",
       "      <th>0</th>\n",
       "      <td>3</td>\n",
       "      <td>Your browser does not support HTML5 video....</td>\n",
       "    </tr>\n",
       "    <tr>\n",
       "      <th>1</th>\n",
       "      <td>2</td>\n",
       "      <td>This was my first console I've purch...</td>\n",
       "    </tr>\n",
       "    <tr>\n",
       "      <th>2</th>\n",
       "      <td>5</td>\n",
       "      <td>i still remember that day October 15...</td>\n",
       "    </tr>\n",
       "    <tr>\n",
       "      <th>3</th>\n",
       "      <td>5</td>\n",
       "      <td>I bought this system after purchasin...</td>\n",
       "    </tr>\n",
       "    <tr>\n",
       "      <th>4</th>\n",
       "      <td>5</td>\n",
       "      <td>I warily bought this product open bo...</td>\n",
       "    </tr>\n",
       "  </tbody>\n",
       "</table>\n",
       "</div>"
      ],
      "text/plain": [
       "   stars                                            comment\n",
       "0      3      Your browser does not support HTML5 video....\n",
       "1      2            This was my first console I've purch...\n",
       "2      5            i still remember that day October 15...\n",
       "3      5            I bought this system after purchasin...\n",
       "4      5            I warily bought this product open bo..."
      ]
     },
     "execution_count": 67,
     "metadata": {},
     "output_type": "execute_result"
    }
   ],
   "source": [
    "ps4reviews.head(5)"
   ]
  },
  {
   "cell_type": "code",
   "execution_count": 68,
   "metadata": {},
   "outputs": [
    {
     "data": {
      "text/html": [
       "<div>\n",
       "<style scoped>\n",
       "    .dataframe tbody tr th:only-of-type {\n",
       "        vertical-align: middle;\n",
       "    }\n",
       "\n",
       "    .dataframe tbody tr th {\n",
       "        vertical-align: top;\n",
       "    }\n",
       "\n",
       "    .dataframe thead th {\n",
       "        text-align: right;\n",
       "    }\n",
       "</style>\n",
       "<table border=\"1\" class=\"dataframe\">\n",
       "  <thead>\n",
       "    <tr style=\"text-align: right;\">\n",
       "      <th></th>\n",
       "      <th>Rating</th>\n",
       "      <th>Comment</th>\n",
       "    </tr>\n",
       "  </thead>\n",
       "  <tbody>\n",
       "    <tr>\n",
       "      <th>0</th>\n",
       "      <td>1</td>\n",
       "      <td>This will no doubt come off as someo...</td>\n",
       "    </tr>\n",
       "    <tr>\n",
       "      <th>1</th>\n",
       "      <td>1</td>\n",
       "      <td>Taking advantage of high demand</td>\n",
       "    </tr>\n",
       "    <tr>\n",
       "      <th>2</th>\n",
       "      <td>1</td>\n",
       "      <td>I wait all night just to purchase th...</td>\n",
       "    </tr>\n",
       "    <tr>\n",
       "      <th>3</th>\n",
       "      <td>1</td>\n",
       "      <td>Between Nvidia, Sony and Microsoft, ...</td>\n",
       "    </tr>\n",
       "    <tr>\n",
       "      <th>4</th>\n",
       "      <td>1</td>\n",
       "      <td>I've been a PlayStation guy for a lo...</td>\n",
       "    </tr>\n",
       "  </tbody>\n",
       "</table>\n",
       "</div>"
      ],
      "text/plain": [
       "   Rating                                            Comment\n",
       "0       1            This will no doubt come off as someo...\n",
       "1       1                  Taking advantage of high demand  \n",
       "2       1            I wait all night just to purchase th...\n",
       "3       1            Between Nvidia, Sony and Microsoft, ...\n",
       "4       1            I've been a PlayStation guy for a lo..."
      ]
     },
     "execution_count": 68,
     "metadata": {},
     "output_type": "execute_result"
    }
   ],
   "source": [
    "ps5reviews.head(5)"
   ]
  },
  {
   "cell_type": "code",
   "execution_count": 69,
   "metadata": {},
   "outputs": [
    {
     "data": {
      "text/html": [
       "<div>\n",
       "<style scoped>\n",
       "    .dataframe tbody tr th:only-of-type {\n",
       "        vertical-align: middle;\n",
       "    }\n",
       "\n",
       "    .dataframe tbody tr th {\n",
       "        vertical-align: top;\n",
       "    }\n",
       "\n",
       "    .dataframe thead th {\n",
       "        text-align: right;\n",
       "    }\n",
       "</style>\n",
       "<table border=\"1\" class=\"dataframe\">\n",
       "  <thead>\n",
       "    <tr style=\"text-align: right;\">\n",
       "      <th></th>\n",
       "      <th>stars</th>\n",
       "      <th>comment</th>\n",
       "    </tr>\n",
       "  </thead>\n",
       "  <tbody>\n",
       "    <tr>\n",
       "      <th>0</th>\n",
       "      <td>1</td>\n",
       "      <td>This should be illegal. What a scumm...</td>\n",
       "    </tr>\n",
       "    <tr>\n",
       "      <th>1</th>\n",
       "      <td>1</td>\n",
       "      <td>Hope you never sell them</td>\n",
       "    </tr>\n",
       "    <tr>\n",
       "      <th>2</th>\n",
       "      <td>1</td>\n",
       "      <td>Wait for the stock to replenish, all...</td>\n",
       "    </tr>\n",
       "    <tr>\n",
       "      <th>3</th>\n",
       "      <td>1</td>\n",
       "      <td>How dare you Amazon!  $1,500.00?  Th...</td>\n",
       "    </tr>\n",
       "    <tr>\n",
       "      <th>4</th>\n",
       "      <td>1</td>\n",
       "      <td>annoying</td>\n",
       "    </tr>\n",
       "  </tbody>\n",
       "</table>\n",
       "</div>"
      ],
      "text/plain": [
       "   stars                                            comment\n",
       "0      1            This should be illegal. What a scumm...\n",
       "1      1                         Hope you never sell them  \n",
       "2      1            Wait for the stock to replenish, all...\n",
       "3      1            How dare you Amazon!  $1,500.00?  Th...\n",
       "4      1                                         annoying  "
      ]
     },
     "execution_count": 69,
     "metadata": {},
     "output_type": "execute_result"
    }
   ],
   "source": [
    "xboxonexreviews.head(5)"
   ]
  },
  {
   "cell_type": "code",
   "execution_count": 70,
   "metadata": {},
   "outputs": [
    {
     "data": {
      "text/html": [
       "<div>\n",
       "<style scoped>\n",
       "    .dataframe tbody tr th:only-of-type {\n",
       "        vertical-align: middle;\n",
       "    }\n",
       "\n",
       "    .dataframe tbody tr th {\n",
       "        vertical-align: top;\n",
       "    }\n",
       "\n",
       "    .dataframe thead th {\n",
       "        text-align: right;\n",
       "    }\n",
       "</style>\n",
       "<table border=\"1\" class=\"dataframe\">\n",
       "  <thead>\n",
       "    <tr style=\"text-align: right;\">\n",
       "      <th></th>\n",
       "      <th>stars</th>\n",
       "      <th>comment</th>\n",
       "    </tr>\n",
       "  </thead>\n",
       "  <tbody>\n",
       "    <tr>\n",
       "      <th>0</th>\n",
       "      <td>1</td>\n",
       "      <td>This isn't because there aren't many...</td>\n",
       "    </tr>\n",
       "    <tr>\n",
       "      <th>1</th>\n",
       "      <td>1</td>\n",
       "      <td>Console powered down the first day. ...</td>\n",
       "    </tr>\n",
       "    <tr>\n",
       "      <th>2</th>\n",
       "      <td>1</td>\n",
       "      <td>Well got it on launch day. Suffered ...</td>\n",
       "    </tr>\n",
       "    <tr>\n",
       "      <th>3</th>\n",
       "      <td>1</td>\n",
       "      <td>Defective at launch, love it lots.:(</td>\n",
       "    </tr>\n",
       "    <tr>\n",
       "      <th>4</th>\n",
       "      <td>3</td>\n",
       "      <td>Honestly the same as the Xbox one ju...</td>\n",
       "    </tr>\n",
       "  </tbody>\n",
       "</table>\n",
       "</div>"
      ],
      "text/plain": [
       "   stars                                            comment\n",
       "0      1            This isn't because there aren't many...\n",
       "1      1            Console powered down the first day. ...\n",
       "2      1            Well got it on launch day. Suffered ...\n",
       "3      1             Defective at launch, love it lots.:(  \n",
       "4      3            Honestly the same as the Xbox one ju..."
      ]
     },
     "execution_count": 70,
     "metadata": {},
     "output_type": "execute_result"
    }
   ],
   "source": [
    "xboxseriesxreviews.head(5)"
   ]
  },
  {
   "cell_type": "markdown",
   "metadata": {},
   "source": [
    "As seen by the dataframes above, the whitespace issue has been fixed and the ratings and stars columns are now numeric.<br>\n",
    "The datasets will now be checked to see if there are any null values:"
   ]
  },
  {
   "cell_type": "code",
   "execution_count": 71,
   "metadata": {},
   "outputs": [
    {
     "name": "stdout",
     "output_type": "stream",
     "text": [
      "<class 'pandas.core.frame.DataFrame'>\n",
      "RangeIndex: 1200 entries, 0 to 1199\n",
      "Data columns (total 2 columns):\n",
      " #   Column   Non-Null Count  Dtype \n",
      "---  ------   --------------  ----- \n",
      " 0   stars    1200 non-null   int64 \n",
      " 1   comment  1200 non-null   object\n",
      "dtypes: int64(1), object(1)\n",
      "memory usage: 18.9+ KB\n"
     ]
    }
   ],
   "source": [
    "ps4reviews.info()"
   ]
  },
  {
   "cell_type": "markdown",
   "metadata": {},
   "source": [
    "There are no null values for the PS4 dataset."
   ]
  },
  {
   "cell_type": "code",
   "execution_count": 72,
   "metadata": {},
   "outputs": [
    {
     "name": "stdout",
     "output_type": "stream",
     "text": [
      "<class 'pandas.core.frame.DataFrame'>\n",
      "RangeIndex: 1081 entries, 0 to 1080\n",
      "Data columns (total 2 columns):\n",
      " #   Column   Non-Null Count  Dtype \n",
      "---  ------   --------------  ----- \n",
      " 0   Rating   1081 non-null   int64 \n",
      " 1   Comment  1081 non-null   object\n",
      "dtypes: int64(1), object(1)\n",
      "memory usage: 17.0+ KB\n"
     ]
    }
   ],
   "source": [
    "ps5reviews.info()"
   ]
  },
  {
   "cell_type": "markdown",
   "metadata": {},
   "source": [
    "There are no null values for the PS5 dataset."
   ]
  },
  {
   "cell_type": "code",
   "execution_count": 73,
   "metadata": {},
   "outputs": [
    {
     "name": "stdout",
     "output_type": "stream",
     "text": [
      "<class 'pandas.core.frame.DataFrame'>\n",
      "RangeIndex: 2466 entries, 0 to 2465\n",
      "Data columns (total 2 columns):\n",
      " #   Column   Non-Null Count  Dtype \n",
      "---  ------   --------------  ----- \n",
      " 0   stars    2466 non-null   int64 \n",
      " 1   comment  2465 non-null   object\n",
      "dtypes: int64(1), object(1)\n",
      "memory usage: 38.7+ KB\n"
     ]
    }
   ],
   "source": [
    "xboxonexreviews.info()"
   ]
  },
  {
   "cell_type": "markdown",
   "metadata": {},
   "source": [
    "There is one NULL value in the \"comment\" section for the Xbox One X dataset."
   ]
  },
  {
   "cell_type": "code",
   "execution_count": 74,
   "metadata": {},
   "outputs": [
    {
     "name": "stdout",
     "output_type": "stream",
     "text": [
      "<class 'pandas.core.frame.DataFrame'>\n",
      "RangeIndex: 563 entries, 0 to 562\n",
      "Data columns (total 2 columns):\n",
      " #   Column   Non-Null Count  Dtype \n",
      "---  ------   --------------  ----- \n",
      " 0   stars    563 non-null    int64 \n",
      " 1   comment  563 non-null    object\n",
      "dtypes: int64(1), object(1)\n",
      "memory usage: 8.9+ KB\n"
     ]
    }
   ],
   "source": [
    "xboxseriesxreviews.info()"
   ]
  },
  {
   "cell_type": "markdown",
   "metadata": {},
   "source": [
    "There are no NULL values for the Xbox Series X dataset.<br>\n",
    "The only NULL value that appears is for the Xbox One X dataset.<br>\n",
    "Since it is only one NULL row, I will drop the row from the dataset:"
   ]
  },
  {
   "cell_type": "code",
   "execution_count": 75,
   "metadata": {},
   "outputs": [],
   "source": [
    "xboxonexreviews = xboxonexreviews.dropna()"
   ]
  },
  {
   "cell_type": "code",
   "execution_count": 76,
   "metadata": {},
   "outputs": [
    {
     "name": "stdout",
     "output_type": "stream",
     "text": [
      "<class 'pandas.core.frame.DataFrame'>\n",
      "Int64Index: 2465 entries, 0 to 2465\n",
      "Data columns (total 2 columns):\n",
      " #   Column   Non-Null Count  Dtype \n",
      "---  ------   --------------  ----- \n",
      " 0   stars    2465 non-null   int64 \n",
      " 1   comment  2465 non-null   object\n",
      "dtypes: int64(1), object(1)\n",
      "memory usage: 57.8+ KB\n"
     ]
    }
   ],
   "source": [
    "xboxonexreviews.info()"
   ]
  },
  {
   "cell_type": "markdown",
   "metadata": {},
   "source": [
    "As shown above, there are no more NULL values within the Xbox One X dataset."
   ]
  },
  {
   "cell_type": "markdown",
   "metadata": {},
   "source": [
    "#   Data Splitting: PS4 Reviews"
   ]
  },
  {
   "cell_type": "markdown",
   "metadata": {},
   "source": [
    "The next step is to split the dataframes into 2 datasets for each review dataframe: one positive review dataset and one negative review dataset.\n",
    "\n",
    "Positive Reviews will be defined as ratings >=4.<br>\n",
    "Negative Reviews will be defined as ratings <=3.<br>"
   ]
  },
  {
   "cell_type": "markdown",
   "metadata": {},
   "source": [
    "Here, the PS4 reviews are split into the negative set with ratings <= 3:"
   ]
  },
  {
   "cell_type": "code",
   "execution_count": 77,
   "metadata": {},
   "outputs": [
    {
     "data": {
      "text/html": [
       "<div>\n",
       "<style scoped>\n",
       "    .dataframe tbody tr th:only-of-type {\n",
       "        vertical-align: middle;\n",
       "    }\n",
       "\n",
       "    .dataframe tbody tr th {\n",
       "        vertical-align: top;\n",
       "    }\n",
       "\n",
       "    .dataframe thead th {\n",
       "        text-align: right;\n",
       "    }\n",
       "</style>\n",
       "<table border=\"1\" class=\"dataframe\">\n",
       "  <thead>\n",
       "    <tr style=\"text-align: right;\">\n",
       "      <th></th>\n",
       "      <th>stars</th>\n",
       "      <th>comment</th>\n",
       "    </tr>\n",
       "  </thead>\n",
       "  <tbody>\n",
       "    <tr>\n",
       "      <th>0</th>\n",
       "      <td>3</td>\n",
       "      <td>Your browser does not support HTML5 video....</td>\n",
       "    </tr>\n",
       "    <tr>\n",
       "      <th>1</th>\n",
       "      <td>2</td>\n",
       "      <td>This was my first console I've purch...</td>\n",
       "    </tr>\n",
       "    <tr>\n",
       "      <th>8</th>\n",
       "      <td>1</td>\n",
       "      <td>I bought this model because it showe...</td>\n",
       "    </tr>\n",
       "    <tr>\n",
       "      <th>9</th>\n",
       "      <td>2</td>\n",
       "      <td>Had this item since 2013, it's been ...</td>\n",
       "    </tr>\n",
       "    <tr>\n",
       "      <th>13</th>\n",
       "      <td>3</td>\n",
       "      <td>I'd love to say that the graphics ar...</td>\n",
       "    </tr>\n",
       "  </tbody>\n",
       "</table>\n",
       "</div>"
      ],
      "text/plain": [
       "    stars                                            comment\n",
       "0       3      Your browser does not support HTML5 video....\n",
       "1       2            This was my first console I've purch...\n",
       "8       1            I bought this model because it showe...\n",
       "9       2            Had this item since 2013, it's been ...\n",
       "13      3            I'd love to say that the graphics ar..."
      ]
     },
     "execution_count": 77,
     "metadata": {},
     "output_type": "execute_result"
    }
   ],
   "source": [
    "is_2002 =  ps4reviews['stars'] <= 3\n",
    "ps4reviews_negative = ps4reviews[is_2002]\n",
    "ps4reviews_negative.head(5)"
   ]
  },
  {
   "cell_type": "markdown",
   "metadata": {},
   "source": [
    "It looks like the code was successful and the dataset has been created."
   ]
  },
  {
   "cell_type": "markdown",
   "metadata": {},
   "source": [
    "Here, the shape for the negative review dataset is shown:"
   ]
  },
  {
   "cell_type": "code",
   "execution_count": 78,
   "metadata": {},
   "outputs": [
    {
     "data": {
      "text/plain": [
       "(137, 2)"
      ]
     },
     "execution_count": 78,
     "metadata": {},
     "output_type": "execute_result"
    }
   ],
   "source": [
    "ps4reviews_negative.shape"
   ]
  },
  {
   "cell_type": "markdown",
   "metadata": {},
   "source": [
    "As can be seen, there are 137 reviews for the PS4 reviews dataset."
   ]
  },
  {
   "cell_type": "markdown",
   "metadata": {},
   "source": [
    "Here, the PS4 reviews are split into the positive set with ratings >= 4:"
   ]
  },
  {
   "cell_type": "code",
   "execution_count": 79,
   "metadata": {},
   "outputs": [
    {
     "data": {
      "text/html": [
       "<div>\n",
       "<style scoped>\n",
       "    .dataframe tbody tr th:only-of-type {\n",
       "        vertical-align: middle;\n",
       "    }\n",
       "\n",
       "    .dataframe tbody tr th {\n",
       "        vertical-align: top;\n",
       "    }\n",
       "\n",
       "    .dataframe thead th {\n",
       "        text-align: right;\n",
       "    }\n",
       "</style>\n",
       "<table border=\"1\" class=\"dataframe\">\n",
       "  <thead>\n",
       "    <tr style=\"text-align: right;\">\n",
       "      <th></th>\n",
       "      <th>stars</th>\n",
       "      <th>comment</th>\n",
       "    </tr>\n",
       "  </thead>\n",
       "  <tbody>\n",
       "    <tr>\n",
       "      <th>2</th>\n",
       "      <td>5</td>\n",
       "      <td>i still remember that day October 15...</td>\n",
       "    </tr>\n",
       "    <tr>\n",
       "      <th>3</th>\n",
       "      <td>5</td>\n",
       "      <td>I bought this system after purchasin...</td>\n",
       "    </tr>\n",
       "    <tr>\n",
       "      <th>4</th>\n",
       "      <td>5</td>\n",
       "      <td>I warily bought this product open bo...</td>\n",
       "    </tr>\n",
       "    <tr>\n",
       "      <th>5</th>\n",
       "      <td>5</td>\n",
       "      <td>My PS3 only lasted about a year, so ...</td>\n",
       "    </tr>\n",
       "    <tr>\n",
       "      <th>6</th>\n",
       "      <td>5</td>\n",
       "      <td>Just a quick review since everyone e...</td>\n",
       "    </tr>\n",
       "  </tbody>\n",
       "</table>\n",
       "</div>"
      ],
      "text/plain": [
       "   stars                                            comment\n",
       "2      5            i still remember that day October 15...\n",
       "3      5            I bought this system after purchasin...\n",
       "4      5            I warily bought this product open bo...\n",
       "5      5            My PS3 only lasted about a year, so ...\n",
       "6      5            Just a quick review since everyone e..."
      ]
     },
     "execution_count": 79,
     "metadata": {},
     "output_type": "execute_result"
    }
   ],
   "source": [
    "is_2002 =  ps4reviews['stars'] >= 4\n",
    "ps4reviews_positive = ps4reviews[is_2002]\n",
    "ps4reviews_positive.head(5)"
   ]
  },
  {
   "cell_type": "code",
   "execution_count": 80,
   "metadata": {},
   "outputs": [
    {
     "data": {
      "text/plain": [
       "(1063, 2)"
      ]
     },
     "execution_count": 80,
     "metadata": {},
     "output_type": "execute_result"
    }
   ],
   "source": [
    "ps4reviews_positive.shape"
   ]
  },
  {
   "cell_type": "markdown",
   "metadata": {},
   "source": [
    "There are about 1,063 reviews for the PS4 with 2 columns."
   ]
  },
  {
   "cell_type": "markdown",
   "metadata": {},
   "source": [
    "#                                 Data Cleaning (PS4 Positive Reviews)\n",
    "\n",
    "The following section is done in order to prepare the PS4 positive reviews for the LDA model.<br>\n",
    "The data will need to be split, tokenized, and lemmatized in order to prepare it for the model.<br>\n",
    "Visualizations will also be built in order to take a better look at the data.<br>"
   ]
  },
  {
   "cell_type": "markdown",
   "metadata": {},
   "source": [
    "The following is a function which is used in order to split, tokenize, and plot a bar graph of the most frequent words\n",
    "in the PS4 positive review dataset:"
   ]
  },
  {
   "cell_type": "code",
   "execution_count": 81,
   "metadata": {},
   "outputs": [],
   "source": [
    "def freq_words(x, terms = 30):\n",
    "    all_words = ''.join([text for text in x])\n",
    "    all_words = all_words.split()\n",
    "    \n",
    "    fdist = FreqDist(all_words)\n",
    "    words_df = pd.DataFrame({'word': list(fdist.keys()), 'count':list(fdist.values())})\n",
    "    d = words_df.nlargest(columns = 'count', n = terms)\n",
    "    plt.figure(figsize = (20,5))\n",
    "    \n",
    "    ax = sns.barplot(data = d, x = 'word', y = 'count')\n",
    "    ax.set(ylabel = 'Count')\n",
    "    plt.show()"
   ]
  },
  {
   "cell_type": "code",
   "execution_count": 82,
   "metadata": {},
   "outputs": [
    {
     "data": {
      "image/png": "[encoded data removed]",
      "text/plain": [
       "<Figure size 1440x360 with 1 Axes>"
      ]
     },
     "metadata": {
      "needs_background": "light"
     },
     "output_type": "display_data"
    }
   ],
   "source": [
    "freq_words(ps4reviews_positive['comment'])"
   ]
  },
  {
   "cell_type": "markdown",
   "metadata": {},
   "source": [
    "Looking above, it seems most of the most frequent words are \"the\", \"and\", and \"for\".<br> But these are not necessary words because these words don't show true sentiment.<br> The dataset will need to be cleaned further in order to prepare this dataset for the model."
   ]
  },
  {
   "cell_type": "markdown",
   "metadata": {},
   "source": [
    "The following code is run in order to remove the characters and symbols from the review dataset:"
   ]
  },
  {
   "cell_type": "code",
   "execution_count": 83,
   "metadata": {},
   "outputs": [],
   "source": [
    "ps4reviews_positive['comment'] = ps4reviews_positive['comment'].str.replace(\"[^a-zA-Z#]\",\" \")"
   ]
  },
  {
   "cell_type": "markdown",
   "metadata": {},
   "source": [
    "This code is run in order to bring stopwords into the notebook:"
   ]
  },
  {
   "cell_type": "code",
   "execution_count": 84,
   "metadata": {},
   "outputs": [],
   "source": [
    "stop_words = set(stopwords.words('english'))"
   ]
  },
  {
   "cell_type": "markdown",
   "metadata": {},
   "source": [
    "This function is used in order to remove the stopwords and for reusability as well:"
   ]
  },
  {
   "cell_type": "code",
   "execution_count": 85,
   "metadata": {},
   "outputs": [],
   "source": [
    "def remove_stopwords(rev):\n",
    "    rev_new = \" \".join([i for i in rev if i not in stop_words])\n",
    "    return rev_new"
   ]
  },
  {
   "cell_type": "markdown",
   "metadata": {},
   "source": [
    "The following code is run in order to remove short words (length < 3) to make the data cleaner:"
   ]
  },
  {
   "cell_type": "code",
   "execution_count": 86,
   "metadata": {},
   "outputs": [],
   "source": [
    "ps4reviews_positive['comment'] = ps4reviews_positive['comment'].apply(lambda x: ' '.join([w for w in x.split() if len(w) > 2]))"
   ]
  },
  {
   "cell_type": "markdown",
   "metadata": {},
   "source": [
    "This code is run to remove stopwords from the text:"
   ]
  },
  {
   "cell_type": "code",
   "execution_count": 87,
   "metadata": {},
   "outputs": [],
   "source": [
    "reviews = [remove_stopwords(r.split()) for r in ps4reviews_positive['comment']]"
   ]
  },
  {
   "cell_type": "markdown",
   "metadata": {},
   "source": [
    "This code is run in order to make the text lowercase:"
   ]
  },
  {
   "cell_type": "code",
   "execution_count": 88,
   "metadata": {},
   "outputs": [],
   "source": [
    "reviews = [r.lower() for r in reviews]"
   ]
  },
  {
   "cell_type": "code",
   "execution_count": 89,
   "metadata": {},
   "outputs": [
    {
     "data": {
      "image/png": "[encoded data removed]",
      "text/plain": [
       "<Figure size 1440x360 with 1 Axes>"
      ]
     },
     "metadata": {
      "needs_background": "light"
     },
     "output_type": "display_data"
    }
   ],
   "source": [
    "freq_words(reviews, 35)"
   ]
  },
  {
   "cell_type": "markdown",
   "metadata": {},
   "source": [
    "Re-running a frequency bar graph on the data, it seems the stopwords have been removed and the reviews are getting closer \n",
    "to be used for the model.<br> The next step is to lemmatize the data."
   ]
  },
  {
   "cell_type": "markdown",
   "metadata": {},
   "source": [
    "The following pieces of code are run in order to load in Spacy and use the following function to lemmatize the data.<br> \n",
    "This code will be helpful for reusability purposes as well:"
   ]
  },
  {
   "cell_type": "code",
   "execution_count": 90,
   "metadata": {},
   "outputs": [],
   "source": [
    "nlp = spacy.load('en_core_web_sm', disable = ['parser', 'ner'])\n",
    "\n",
    "def lemmatization(texts, tags = ['NOUN', 'ADJ']): \n",
    "    output = []\n",
    "    for sent in texts:\n",
    "        doc = nlp(\" \".join(sent))\n",
    "        output.append([token.lemma_ for token in doc if token.pos_ in tags])\n",
    "    return output"
   ]
  },
  {
   "cell_type": "markdown",
   "metadata": {},
   "source": [
    "This code is done in order to split the words into tokens:"
   ]
  },
  {
   "cell_type": "code",
   "execution_count": 91,
   "metadata": {},
   "outputs": [
    {
     "name": "stdout",
     "output_type": "stream",
     "text": [
      "['bought', 'system', 'purchasing', 'returning', 'different', 'slims', 'one', 'pro', 'none', 'newer', 'models', 'would', 'play', 'two', 'used', 'games', 'light', 'scratches', 'discs', 'the', 'discs', 'run', 'fine', 'older', 'model', 'issues', 'system', 'either', 'bad', 'batch', 'area', 'newer', 'systems', 'made', 'run', 'discs', 'blemish', 'conspiracy', 'happy', 'purchase']\n"
     ]
    }
   ],
   "source": [
    "tokenized_reviews = pd.Series(reviews).apply(lambda x: x.split())\n",
    "print(tokenized_reviews[1])"
   ]
  },
  {
   "cell_type": "markdown",
   "metadata": {},
   "source": [
    "The code here is run in order to lemmatize the reviews:"
   ]
  },
  {
   "cell_type": "code",
   "execution_count": 92,
   "metadata": {},
   "outputs": [
    {
     "name": "stdout",
     "output_type": "stream",
     "text": [
      "['bought', 'system', 'different', 'slim', 'none', 'new', 'model', 'game', 'light', 'disc', 'old', 'model', 'issue', 'system', 'bad', 'batch', 'area', 'new', 'system', 'purchase']\n"
     ]
    }
   ],
   "source": [
    "reviews_2 = lemmatization(tokenized_reviews)\n",
    "print(reviews_2[1]) # print lemmatized review"
   ]
  },
  {
   "cell_type": "markdown",
   "metadata": {},
   "source": [
    "The following code is run in order to append the reviews to a new dataframe in order to show a frequency graph \n",
    "of the lemmatized reviews later on:"
   ]
  },
  {
   "cell_type": "code",
   "execution_count": 93,
   "metadata": {},
   "outputs": [],
   "source": [
    "reviews_3 = []\n",
    "for i in range(len(reviews_2)):\n",
    "    reviews_3.append(' '.join(reviews_2[i]))\n",
    "\n",
    "ps4reviews_positive['reviews'] = reviews_3"
   ]
  },
  {
   "cell_type": "markdown",
   "metadata": {},
   "source": [
    "Here,a frequency bar graph of the top 20 words is generated with the appended dataframe from the previous step:"
   ]
  },
  {
   "cell_type": "code",
   "execution_count": 94,
   "metadata": {},
   "outputs": [
    {
     "data": {
      "image/png": "[encoded data removed]",
      "text/plain": [
       "<Figure size 1440x360 with 1 Axes>"
      ]
     },
     "metadata": {
      "needs_background": "light"
     },
     "output_type": "display_data"
    }
   ],
   "source": [
    "freq_words(ps4reviews_positive['reviews'], 20)"
   ]
  },
  {
   "cell_type": "markdown",
   "metadata": {},
   "source": [
    "As can be seen, the tokens are now cleaner as words such as \"game\", \"system\", and \"console\" are now clearly showing in the dataset.<br>\n",
    "The dataset is now ready for model building."
   ]
  },
  {
   "cell_type": "markdown",
   "metadata": {},
   "source": [
    "#                            LDA Model (PS4 Positive Reviews)\n",
    "\n",
    "The code below is run in order to incorporate the reviews into a dictionary in order to set up the LDA Model:"
   ]
  },
  {
   "cell_type": "code",
   "execution_count": 95,
   "metadata": {},
   "outputs": [],
   "source": [
    "dictionary = corpora.Dictionary(reviews_2)\n",
    "doc_term_matrix = [dictionary.doc2bow(rev) for rev in reviews_2]"
   ]
  },
  {
   "cell_type": "markdown",
   "metadata": {},
   "source": [
    "Next, the LDA Model is imported and the next lines of code are run in order to build the model.<br>\n",
    "The number of topics I chose through trial and error were 3."
   ]
  },
  {
   "cell_type": "code",
   "execution_count": 96,
   "metadata": {},
   "outputs": [],
   "source": [
    "LDA = gensim.models.ldamodel.LdaModel\n",
    "\n",
    "lda_model = LDA(corpus = doc_term_matrix, \n",
    "                id2word = dictionary,\n",
    "                num_topics = 3,\n",
    "                random_state = 100,\n",
    "                chunksize = 1000,\n",
    "                passes = 50)"
   ]
  },
  {
   "cell_type": "markdown",
   "metadata": {},
   "source": [
    "Here, this code is being run to print the topics and the words associated with it:"
   ]
  },
  {
   "cell_type": "code",
   "execution_count": 97,
   "metadata": {},
   "outputs": [
    {
     "data": {
      "text/plain": [
       "[(0,\n",
       "  '0.038*\"game\" + 0.024*\"console\" + 0.021*\"system\" + 0.018*\"time\" + 0.016*\"controller\" + 0.014*\"day\" + 0.013*\"good\" + 0.013*\"great\" + 0.012*\"launch\" + 0.011*\"new\"'),\n",
       " (1,\n",
       "  '0.043*\"product\" + 0.042*\"great\" + 0.015*\"power\" + 0.014*\"good\" + 0.012*\"day\" + 0.010*\"package\" + 0.010*\"happy\" + 0.009*\"item\" + 0.009*\"problem\" + 0.008*\"time\"'),\n",
       " (2,\n",
       "  '0.049*\"game\" + 0.024*\"system\" + 0.019*\"console\" + 0.018*\"great\" + 0.015*\"good\" + 0.015*\"new\" + 0.013*\"controller\" + 0.010*\"playstation\" + 0.009*\"graphic\" + 0.009*\"well\"')]"
      ]
     },
     "execution_count": 97,
     "metadata": {},
     "output_type": "execute_result"
    }
   ],
   "source": [
    "lda_model.print_topics()"
   ]
  },
  {
   "cell_type": "markdown",
   "metadata": {},
   "source": [
    "This code is run to generate the LDA model and present it via a graphical bubble plot:"
   ]
  },
  {
   "cell_type": "code",
   "execution_count": 98,
   "metadata": {},
   "outputs": [
    {
     "data": {
      "text/html": [
       "\n",
       "<link rel=\"stylesheet\" type=\"text/css\" href=\"https://cdn.rawgit.com/bmabey/pyLDAvis/files/ldavis.v1.0.0.css\">\n",
       "\n",
       "\n",
       "<div id=\"ldavis_el150801886947842752645057923\"></div>\n",
       "<script type=\"text/javascript\">\n",
       "\n",
       "var ldavis_el150801886947842752645057923_data = {\"mdsDat\": {\"x\": [-0.10700814586839495, -0.1164385488127377, 0.22344669468113257], \"y\": [0.11702094902915519, -0.11377410403250196, -0.0032468449966532005], \"topics\": [1, 2, 3], \"cluster\": [1, 1, 1], \"Freq\": [78.73430598581336, 11.58350440431965, 9.682189609866995]}, \"tinfo\": {\"Term\": [\"great\", \"game\", \"console\", \"product\", \"system\", \"controller\", \"time\", \"good\", \"day\", \"power\", \"problem\", \"happy\", \"friend\", \"launch\", \"play\", \"account\", \"screen\", \"love\", \"new\", \"much\", \"issue\", \"way\", \"user\", \"playstation\", \"box\", \"review\", \"future\", \"psn\", \"amazing\", \"price\", \"well\", \"people\", \"powerful\", \"month\", \"small\", \"generation\", \"purchase\", \"medium\", \"hdmi\", \"top\", \"hard\", \"light\", \"other\", \"function\", \"exclusive\", \"similar\", \"smooth\", \"headset\", \"main\", \"sound\", \"developer\", \"content\", \"camera\", \"moment\", \"social\", \"gamer\", \"speaker\", \"port\", \"stick\", \"cable\", \"unit\", \"little\", \"year\", \"game\", \"use\", \"system\", \"free\", \"drive\", \"graphic\", \"playstation\", \"next\", \"new\", \"thing\", \"console\", \"online\", \"lot\", \"controller\", \"play\", \"good\", \"right\", \"gaming\", \"great\", \"love\", \"time\", \"problem\", \"easy\", \"friend\", \"video\", \"issue\", \"beautiful\", \"excellent\", \"extra\", \"job\", \"upload\", \"knack\", \"clean\", \"husband\", \"wonderful\", \"house\", \"weekend\", \"voice\", \"note\", \"setting\", \"bed\", \"interact\", \"roommate\", \"reservation\", \"transaction\", \"trip\", \"station\", \"glad\", \"sharp\", \"stand\", \"microphone\", \"log\", \"particular\", \"primary\", \"plug\", \"up\", \"rival\", \"computer\", \"heat\", \"card\", \"launch\", \"day\", \"playing\", \"live\", \"time\", \"account\", \"screen\", \"console\", \"game\", \"controller\", \"system\", \"much\", \"friend\", \"future\", \"psn\", \"minute\", \"good\", \"user\", \"new\", \"great\", \"way\", \"play\", \"amazing\", \"awesome\", \"feature\", \"trophy\", \"playstation\", \"love\", \"one\", \"graphic\", \"big\", \"package\", \"shipping\", \"brother\", \"morning\", \"grandson\", \"cost\", \"cam\", \"seller\", \"product\", \"electronic\", \"bag\", \"fault\", \"surprised\", \"warranty\", \"state\", \"double\", \"helpful\", \"custom\", \"packaging\", \"address\", \"delivery\", \"travel\", \"solution\", \"packed\", \"luggage\", \"bribe\", \"office\", \"trasformer\", \"success\", \"statistic\", \"asian\", \"bubblewrap\", \"hotel\", \"international\", \"indian\", \"usd\", \"date\", \"ray\", \"complaint\", \"kid\", \"ready\", \"item\", \"shape\", \"power\", \"great\", \"number\", \"day\", \"gift\", \"happy\", \"night\", \"box\", \"good\", \"problem\", \"issue\", \"time\", \"love\", \"perfect\", \"launch\", \"review\", \"order\", \"price\"], \"Freq\": [588.0, 1275.0, 516.0, 129.0, 633.0, 355.0, 275.0, 436.0, 117.0, 103.0, 144.0, 94.0, 136.0, 97.0, 235.0, 91.0, 91.0, 248.0, 399.0, 99.0, 132.0, 99.0, 87.0, 257.0, 75.0, 105.0, 72.0, 72.0, 107.0, 78.0, 220.23576902603207, 107.21834503473457, 95.09880407597599, 95.84009564813341, 87.61734225999479, 77.63402682426543, 78.15312119468635, 66.23373874571998, 64.27961239981423, 65.95846711145946, 64.460390560129, 66.13510826028691, 60.53641070112587, 52.88924553804191, 52.578844641979686, 53.44496414813447, 53.10388630618133, 48.848679150317096, 50.2741867576997, 49.15155623048121, 46.88385419914584, 49.12738651553686, 47.692892732085205, 45.74206077377646, 45.73374869681966, 44.53372724248741, 42.892578590863316, 42.57755957225381, 43.13446329207598, 48.18252788404381, 74.96947612200388, 147.85096286148715, 147.95461103628, 1142.5888623218416, 116.14860349517026, 560.9351804355947, 120.24338593488339, 106.6559180512184, 221.40256935395297, 233.5201097605074, 106.93859390314744, 348.7152544242202, 189.32082265823067, 433.3596619469448, 95.2452031815656, 121.55782484095513, 300.4391898520674, 205.32045636201448, 349.41453440009104, 95.88622794705779, 116.87945740365402, 423.75879446804186, 202.15725715030945, 188.36440648873227, 117.45965016054807, 103.20019244249234, 104.68738555492973, 96.48578474457977, 97.19545889385903, 31.99733785710049, 18.104118115508165, 14.496499408002165, 13.542625329534493, 12.6079031134598, 12.59798167134066, 13.06138380005598, 11.657700888339082, 11.884983091938318, 10.707620231876334, 10.706497321377723, 11.862672044025743, 10.931453724599494, 14.637800578665008, 9.519544133830804, 9.279422040527363, 9.276967473347707, 9.041982455637271, 9.041982455637271, 9.024340603943278, 9.062623534090374, 7.681238073791412, 6.264070238668649, 6.486473700073065, 6.018709895856195, 6.244185765152644, 6.016175749193197, 6.012775825739069, 6.466530441712581, 7.588991456206785, 6.4607047436556835, 7.710320975829159, 6.2281574974550535, 8.498600946678991, 42.71151959733196, 48.5093304439261, 22.52149765580965, 12.153221936366172, 62.816400289410424, 31.72989960626887, 31.09939975758714, 82.68412292401725, 131.62157979120872, 55.05021051730635, 72.45612303958191, 28.03132034961255, 31.76238083217314, 22.523823456187113, 22.482928399481285, 14.235809817275443, 45.99956469520116, 22.77911283915983, 39.128772877493915, 44.918934496161626, 23.581798695979025, 29.44409531727547, 20.306777440388586, 19.060780275171105, 18.605708798701894, 17.005367788080786, 23.3352958477198, 22.67752942872564, 17.43612553295614, 20.044787384939116, 17.958515653775855, 29.573225242895905, 24.033684386942852, 19.555413636144596, 16.805913943026045, 16.421457214925244, 20.627527066917644, 15.630205973137459, 15.737391778912752, 124.03590058783004, 12.610708809156192, 11.089844815633219, 10.67746151019725, 11.056154963935851, 11.42585554367836, 9.896690589970326, 9.515938776208387, 9.515751591795741, 9.510423521192942, 10.04343715284246, 9.477928307157706, 8.901919084439308, 9.105883242646813, 8.3248335513482, 7.950250801014444, 7.943324309230806, 7.55828129280897, 7.55828129280897, 7.55828129280897, 7.55828129280897, 7.55828129280897, 7.55828129280897, 7.55828129280897, 7.55828129280897, 7.55828129280897, 7.55828129280897, 7.55828129280897, 14.783863684645103, 12.597781051399991, 20.72853445004412, 19.73288317777367, 19.304769696517894, 26.96414728504935, 10.098073608830603, 43.41687900423308, 120.2769915681116, 13.775576127489572, 33.37023431277679, 15.505288455358574, 28.870296966214838, 13.360589621686312, 21.781678077627078, 40.816927623534504, 26.50277781882409, 22.177094453088262, 24.1248752846576, 23.338403930549863, 15.749497262284832, 16.69090650286521, 16.797946572204946, 15.10369499428009, 15.37637321333819], \"Total\": [588.0, 1275.0, 516.0, 129.0, 633.0, 355.0, 275.0, 436.0, 117.0, 103.0, 144.0, 94.0, 136.0, 97.0, 235.0, 91.0, 91.0, 248.0, 399.0, 99.0, 132.0, 99.0, 87.0, 257.0, 75.0, 105.0, 72.0, 72.0, 107.0, 78.0, 220.69626817733243, 107.68614836707678, 95.53390219948216, 96.29704847623617, 88.06805197242494, 78.0766899509817, 78.62805962098433, 66.67800256760638, 64.71765640258023, 66.41601767158997, 64.91347417757528, 66.60930181402448, 60.984028334597404, 53.325158591661236, 53.01379602533154, 53.88786041765299, 53.5610153659117, 49.28487036860926, 50.72355799834673, 49.59273454358099, 47.31834280580619, 49.58576127590363, 48.13804901196823, 46.178153086622245, 46.17540481414394, 44.978857193926764, 43.330154719165336, 43.01705957303395, 43.58223188052444, 48.68437365891671, 76.0697757057449, 153.6972434543943, 153.8445973483782, 1275.8389446646465, 121.76016005419578, 633.6823831545737, 126.74382008777648, 112.0509290645058, 241.74473962358272, 257.1466568245899, 112.56713035291301, 399.89639041154805, 209.85119076058731, 516.3483947452702, 100.75742887818093, 131.64543094424823, 355.7681136771236, 235.04937112642213, 436.23102671882674, 101.98007099122613, 128.16505071809067, 588.954720532315, 248.17319050958497, 275.3056820628003, 144.13312530881097, 119.1685169045608, 136.7204936264815, 112.09672475394036, 132.4771628028494, 33.06211171816282, 18.832416428408482, 15.253675969277912, 14.292404027900957, 13.319010689606705, 13.329536688425412, 13.829964298540535, 12.34447105759832, 12.60276304259693, 11.384091592193139, 11.384653557555373, 12.635734716218415, 11.644114503793146, 15.639249775127826, 10.177000244812904, 9.938283327271554, 9.939314076949234, 9.696751149743266, 9.696751149743266, 9.70783170486125, 9.877363204841009, 8.40699165250829, 6.947755233165921, 7.2059287945841595, 6.717436259385012, 6.972622566158578, 6.720405228705228, 6.718102277145988, 7.2254918007087525, 8.484113623418947, 7.2346190328771485, 8.809265330601233, 6.982055819159237, 10.228638604317695, 97.30525239044456, 117.75953105486845, 41.08351077094716, 17.930615706531, 275.3056820628003, 91.70779656299968, 91.95264106140156, 516.3483947452702, 1275.8389446646465, 355.7681136771236, 633.6823831545737, 99.86025646943617, 136.7204936264815, 72.3427902071328, 72.45343261919108, 25.87658520920044, 436.23102671882674, 87.42963058486693, 399.89639041154805, 588.954720532315, 99.10760855095319, 235.04937112642213, 107.86331313870876, 85.66814306897747, 79.71948293922735, 54.06955242638406, 257.1466568245899, 248.17319050958497, 64.54569793913808, 241.74473962358272, 104.018795392846, 30.16024715455999, 24.6285249404338, 20.120644132579258, 17.367623666452584, 16.972346878083325, 21.33811387825576, 16.187748743799382, 16.359682133016786, 129.98329036889373, 13.236877019873987, 11.648223194754848, 11.252756925670445, 11.657427516089124, 12.062325328391928, 10.471689108552662, 10.075462796371118, 10.075784284715768, 10.07777946470607, 10.661070599574172, 10.075529373255797, 9.468375621169763, 9.688714603041051, 8.900849571706495, 8.50152725130425, 8.502823895735643, 8.108439698903101, 8.108439698903101, 8.108439698903101, 8.108439698903101, 8.108439698903101, 8.108439698903101, 8.108439698903101, 8.108439698903101, 8.108439698903101, 8.108439698903101, 8.108439698903101, 16.24484842473786, 13.801807462738848, 23.817723838505945, 22.883107505850944, 22.958492097206282, 33.711382565606016, 11.51749009484607, 103.44204853520954, 588.954720532315, 20.11295183614733, 117.75953105486845, 26.562148182839962, 94.58770517242247, 20.376202787546816, 75.78003297077842, 436.23102671882674, 144.13312530881097, 132.4771628028494, 275.3056820628003, 248.17319050958497, 48.648555877408796, 97.30525239044456, 105.5004202197803, 60.215202169287615, 78.12875058586829], \"Category\": [\"Default\", \"Default\", \"Default\", \"Default\", \"Default\", \"Default\", \"Default\", \"Default\", \"Default\", \"Default\", \"Default\", \"Default\", \"Default\", \"Default\", \"Default\", \"Default\", \"Default\", \"Default\", \"Default\", \"Default\", \"Default\", \"Default\", \"Default\", \"Default\", \"Default\", \"Default\", \"Default\", \"Default\", \"Default\", \"Default\", \"Topic1\", \"Topic1\", \"Topic1\", \"Topic1\", \"Topic1\", \"Topic1\", \"Topic1\", \"Topic1\", \"Topic1\", \"Topic1\", \"Topic1\", \"Topic1\", \"Topic1\", \"Topic1\", \"Topic1\", \"Topic1\", \"Topic1\", \"Topic1\", \"Topic1\", \"Topic1\", \"Topic1\", \"Topic1\", \"Topic1\", \"Topic1\", \"Topic1\", \"Topic1\", \"Topic1\", \"Topic1\", \"Topic1\", \"Topic1\", \"Topic1\", \"Topic1\", \"Topic1\", \"Topic1\", \"Topic1\", \"Topic1\", \"Topic1\", \"Topic1\", \"Topic1\", \"Topic1\", \"Topic1\", \"Topic1\", \"Topic1\", \"Topic1\", \"Topic1\", \"Topic1\", \"Topic1\", \"Topic1\", \"Topic1\", \"Topic1\", \"Topic1\", \"Topic1\", \"Topic1\", \"Topic1\", \"Topic1\", \"Topic1\", \"Topic1\", \"Topic1\", \"Topic1\", \"Topic2\", \"Topic2\", \"Topic2\", \"Topic2\", \"Topic2\", \"Topic2\", \"Topic2\", \"Topic2\", \"Topic2\", \"Topic2\", \"Topic2\", \"Topic2\", \"Topic2\", \"Topic2\", \"Topic2\", \"Topic2\", \"Topic2\", \"Topic2\", \"Topic2\", \"Topic2\", \"Topic2\", \"Topic2\", \"Topic2\", \"Topic2\", \"Topic2\", \"Topic2\", \"Topic2\", \"Topic2\", \"Topic2\", \"Topic2\", \"Topic2\", \"Topic2\", \"Topic2\", \"Topic2\", \"Topic2\", \"Topic2\", \"Topic2\", \"Topic2\", \"Topic2\", \"Topic2\", \"Topic2\", \"Topic2\", \"Topic2\", \"Topic2\", \"Topic2\", \"Topic2\", \"Topic2\", \"Topic2\", \"Topic2\", \"Topic2\", \"Topic2\", \"Topic2\", \"Topic2\", \"Topic2\", \"Topic2\", \"Topic2\", \"Topic2\", \"Topic2\", \"Topic2\", \"Topic2\", \"Topic2\", \"Topic2\", \"Topic2\", \"Topic2\", \"Topic2\", \"Topic3\", \"Topic3\", \"Topic3\", \"Topic3\", \"Topic3\", \"Topic3\", \"Topic3\", \"Topic3\", \"Topic3\", \"Topic3\", \"Topic3\", \"Topic3\", \"Topic3\", \"Topic3\", \"Topic3\", \"Topic3\", \"Topic3\", \"Topic3\", \"Topic3\", \"Topic3\", \"Topic3\", \"Topic3\", \"Topic3\", \"Topic3\", \"Topic3\", \"Topic3\", \"Topic3\", \"Topic3\", \"Topic3\", \"Topic3\", \"Topic3\", \"Topic3\", \"Topic3\", \"Topic3\", \"Topic3\", \"Topic3\", \"Topic3\", \"Topic3\", \"Topic3\", \"Topic3\", \"Topic3\", \"Topic3\", \"Topic3\", \"Topic3\", \"Topic3\", \"Topic3\", \"Topic3\", \"Topic3\", \"Topic3\", \"Topic3\", \"Topic3\", \"Topic3\", \"Topic3\", \"Topic3\", \"Topic3\", \"Topic3\", \"Topic3\", \"Topic3\", \"Topic3\", \"Topic3\", \"Topic3\"], \"logprob\": [30.0, 29.0, 28.0, 27.0, 26.0, 25.0, 24.0, 23.0, 22.0, 21.0, 20.0, 19.0, 18.0, 17.0, 16.0, 15.0, 14.0, 13.0, 12.0, 11.0, 10.0, 9.0, 8.0, 7.0, 6.0, 5.0, 4.0, 3.0, 2.0, 1.0, -4.663599967956543, -5.383399963378906, -5.503399848937988, -5.49560022354126, -5.585299968719482, -5.706299781799316, -5.6996002197265625, -5.865099906921387, -5.895100116729736, -5.86929988861084, -5.892199993133545, -5.866600036621094, -5.954999923706055, -6.090099811553955, -6.0960001945495605, -6.079599857330322, -6.085999965667725, -6.169600009918213, -6.1407999992370605, -6.163400173187256, -6.210599899291992, -6.163899898529053, -6.19350004196167, -6.235300064086914, -6.235499858856201, -6.26200008392334, -6.299600124359131, -6.307000160217285, -6.294000148773193, -6.183300018310547, -5.741199970245361, -5.062099933624268, -5.061399936676025, -3.017199993133545, -5.303400039672852, -3.7286999225616455, -5.268799781799316, -5.388700008392334, -4.658299922943115, -4.605000019073486, -5.386000156402588, -4.203999996185303, -4.814899921417236, -3.9867000579833984, -5.501800060272217, -5.257900238037109, -4.353000164031982, -4.733699798583984, -4.202000141143799, -5.495100021362305, -5.2972002029418945, -4.009099960327148, -4.749199867248535, -4.819900035858154, -5.292200088500977, -5.421599864959717, -5.407299995422363, -5.488900184631348, -5.481599807739258, -4.67609977722168, -5.245699882507324, -5.467899799346924, -5.535999774932861, -5.607500076293945, -5.60830020904541, -5.5721001625061035, -5.685800075531006, -5.666500091552734, -5.7708001136779785, -5.770899772644043, -5.668399810791016, -5.750199794769287, -5.458199977874756, -5.888500213623047, -5.914000034332275, -5.914299964904785, -5.939899921417236, -5.939899921417236, -5.94189977645874, -5.937600135803223, -6.103000164031982, -6.307000160217285, -6.27209997177124, -6.34689998626709, -6.310100078582764, -6.347300052642822, -6.347899913787842, -6.275199890136719, -6.115099906921387, -6.276100158691406, -6.0991997718811035, -6.312699794769287, -6.0019001960754395, -4.38730001449585, -4.260000228881836, -5.027299880981445, -5.644199848175049, -4.0015997886657715, -4.684500217437744, -4.704599857330322, -3.726799964904785, -3.261899948120117, -4.133600234985352, -3.858799934387207, -4.808499813079834, -4.683499813079834, -5.027200222015381, -5.0289998054504395, -5.486000061035156, -4.313199996948242, -5.015999794006348, -4.474899768829346, -4.336900234222412, -4.981299877166748, -4.759300231933594, -5.130799770355225, -5.194200038909912, -5.218299865722656, -5.308300018310547, -4.991799831390381, -5.020400047302246, -5.283299922943115, -5.143799781799316, -5.253699779510498, -4.5756001472473145, -4.7829999923706055, -4.989299774169922, -5.1407999992370605, -5.163899898529053, -4.9359002113342285, -5.2133002281188965, -5.206500053405762, -3.141900062561035, -5.427999973297119, -5.55649995803833, -5.594399929046631, -5.559500217437744, -5.526599884033203, -5.670300006866455, -5.709499835968018, -5.70959997177124, -5.710100173950195, -5.655600070953369, -5.713500022888184, -5.776199817657471, -5.753600120544434, -5.843299865722656, -5.8892998695373535, -5.890200138092041, -5.939899921417236, -5.939899921417236, -5.939899921417236, -5.939899921417236, -5.939899921417236, -5.939899921417236, -5.939899921417236, -5.939899921417236, -5.939899921417236, -5.939899921417236, -5.939899921417236, -5.269000053405762, -5.428999900817871, -4.931000232696533, -4.980199813842773, -5.002200126647949, -4.668000221252441, -5.650199890136719, -4.191699981689453, -3.1726999282836914, -5.339600086212158, -4.454800128936768, -5.22130012512207, -4.599699974060059, -5.370200157165527, -4.881400108337402, -4.253399848937988, -4.685299873352051, -4.863399982452393, -4.779300212860107, -4.812399864196777, -5.205699920654297, -5.147600173950195, -5.141200065612793, -5.247600078582764, -5.229700088500977], \"loglift\": [30.0, 29.0, 28.0, 27.0, 26.0, 25.0, 24.0, 23.0, 22.0, 21.0, 20.0, 19.0, 18.0, 17.0, 16.0, 15.0, 14.0, 13.0, 12.0, 11.0, 10.0, 9.0, 8.0, 7.0, 6.0, 5.0, 4.0, 3.0, 2.0, 1.0, 0.237, 0.2347, 0.2345, 0.2343, 0.234, 0.2334, 0.233, 0.2324, 0.2323, 0.2322, 0.2321, 0.2319, 0.2317, 0.2309, 0.2309, 0.2308, 0.2305, 0.2302, 0.2302, 0.2302, 0.2299, 0.2298, 0.2298, 0.2296, 0.2295, 0.2291, 0.2289, 0.2288, 0.2288, 0.2287, 0.2245, 0.2003, 0.2001, 0.1288, 0.1919, 0.1171, 0.1864, 0.1897, 0.1512, 0.1427, 0.1878, 0.1021, 0.1361, 0.0639, 0.1828, 0.1594, 0.0701, 0.1039, 0.0172, 0.1775, 0.1469, -0.0901, 0.034, -0.1404, 0.0344, 0.0952, -0.0279, 0.0891, -0.0706, 2.1229, 2.1161, 2.1047, 2.1017, 2.1007, 2.0991, 2.0984, 2.0983, 2.0969, 2.0943, 2.0942, 2.0925, 2.0924, 2.0894, 2.0888, 2.087, 2.0866, 2.0857, 2.0857, 2.0826, 2.0695, 2.0653, 2.052, 2.0504, 2.0458, 2.0452, 2.0449, 2.0447, 2.0446, 2.0441, 2.0424, 2.0223, 2.0413, 1.9703, 1.3322, 1.2687, 1.5545, 1.7667, 0.6779, 1.0942, 1.0715, 0.3238, -0.1158, 0.2896, -0.013, 0.8851, 0.6959, 0.9887, 0.9854, 1.558, -0.094, 0.8106, -0.1688, -0.4179, 0.7199, 0.0783, 0.4857, 0.6527, 0.7005, 0.9988, -0.2441, -0.2372, 0.8468, -0.3343, 0.3991, 2.3152, 2.3104, 2.3064, 2.302, 2.3019, 2.301, 2.2998, 2.2961, 2.288, 2.2864, 2.2858, 2.2824, 2.2819, 2.2807, 2.2784, 2.2777, 2.2777, 2.2769, 2.2752, 2.2737, 2.2732, 2.2728, 2.268, 2.2678, 2.2668, 2.2646, 2.2646, 2.2646, 2.2646, 2.2646, 2.2646, 2.2646, 2.2646, 2.2646, 2.2646, 2.2646, 2.2406, 2.2436, 2.196, 2.1868, 2.1615, 2.1116, 2.2034, 1.4667, 0.7463, 1.9564, 1.0739, 1.7966, 1.1482, 1.9128, 1.0881, -0.0342, 0.6414, 0.5475, -0.0998, -0.0291, 1.2071, 0.5719, 0.4974, 0.9519, 0.7094]}, \"token.table\": {\"Topic\": [1, 2, 3, 1, 2, 3, 1, 2, 3, 1, 2, 2, 1, 2, 1, 2, 3, 3, 3, 3, 1, 3, 1, 2, 3, 2, 1, 3, 1, 2, 3, 1, 2, 1, 1, 2, 1, 3, 3, 1, 3, 1, 2, 3, 3, 1, 3, 1, 2, 1, 2, 3, 2, 1, 2, 3, 1, 2, 1, 2, 1, 2, 1, 1, 2, 1, 2, 3, 1, 1, 2, 1, 2, 3, 2, 1, 2, 3, 3, 1, 2, 1, 2, 3, 1, 3, 1, 1, 1, 2, 3, 3, 2, 2, 3, 2, 3, 1, 2, 3, 2, 3, 2, 1, 3, 2, 1, 2, 3, 1, 1, 2, 1, 2, 2, 1, 3, 1, 2, 3, 3, 1, 1, 2, 1, 2, 1, 1, 3, 1, 2, 1, 2, 3, 1, 2, 2, 3, 2, 1, 3, 3, 1, 2, 1, 2, 1, 2, 3, 1, 3, 3, 3, 2, 1, 1, 2, 3, 1, 2, 1, 2, 3, 1, 2, 2, 1, 1, 2, 3, 1, 1, 3, 2, 1, 3, 2, 3, 1, 2, 1, 1, 3, 1, 3, 2, 1, 2, 3, 1, 2, 2, 2, 1, 2, 3, 1, 2, 1, 3, 2, 3, 1, 1, 1, 1, 3, 1, 1, 2, 3, 2, 3, 1, 3, 3, 1, 2, 1, 2, 3, 1, 2, 3, 1, 2, 3, 3, 2, 1, 2, 1, 3, 1, 2, 2, 3, 1, 2, 1, 2, 1, 2, 3, 2, 3, 1, 2, 2, 1, 2, 1, 2], \"Freq\": [0.654251898406286, 0.3489343458166858, 0.8932533137057144, 0.806576374008842, 0.18541985609398667, 0.9866263174013897, 0.7704147380299669, 0.22178606094802075, 0.9443500365749566, 0.030246101898283938, 0.967875260745086, 0.9826078175734427, 0.8267736583105513, 0.1730456494138363, 0.5542357050200234, 0.15835305857714954, 0.2903139407247742, 0.9866263174013897, 0.9940039627069438, 0.9866263174013897, 0.9859426422179848, 0.9884018002273912, 0.9971322266938175, 0.7821177684998133, 0.09776472106247666, 0.9399879652163585, 0.1259566203866182, 0.8816963427063274, 0.11351684419428763, 0.9081347535543011, 0.11351684419428763, 0.8385810906095904, 0.16074418134086838, 0.9881869056593817, 0.8432458909801686, 0.1545950800130309, 0.0468644982262951, 0.9841544627521971, 0.9922820830741071, 0.06155797664921191, 0.9233696497381786, 0.305707739131759, 0.41610220048489427, 0.28023209420411244, 0.950532632004739, 0.9932723170988328, 0.992510240184868, 0.9549229166890882, 0.044622566200424686, 0.864322244460676, 0.13426364962495937, 0.9821047653824737, 0.955798745658959, 0.9997397653749424, 0.9178115510121683, 0.9775382222027883, 0.7651830863793009, 0.2383357154296183, 0.9467917245739789, 0.047339586228698945, 0.7679902055273334, 0.23405415787499684, 0.9939023417792126, 0.6911538780414658, 0.31793078389907425, 0.89588110221893, 0.10346133463945649, 0.0015675959793857042, 1.0004700609884791, 0.9128853719829667, 0.08582682984455244, 0.9990177612418015, 0.4141231320705593, 0.602360919375359, 0.9515889072654352, 0.8000347949228939, 0.10544871222479404, 0.09398689567862077, 0.9427099336899052, 0.9141874207650431, 0.08273189328190435, 0.719919520496883, 0.0764065528829239, 0.20375080768779708, 0.6977651046686206, 0.3065937581119697, 0.9859278186979115, 0.9889109642951839, 0.994219922534468, 0.8593457507938551, 0.9924785721315286, 0.9866263174013897, 0.966260672704308, 0.9720951139995351, 0.9866263174013897, 0.9055889939566505, 0.9866263174013897, 0.7322016711993901, 0.09813012088239248, 0.1660663584163565, 0.1779814277365619, 0.8009164248145286, 0.9795412984876344, 0.13110107529027407, 0.874007168601827, 0.9752777087360012, 0.39052362607849955, 0.4419083137204074, 0.17470793798248666, 0.9908526017023017, 0.9629320388163968, 0.03903778535742149, 0.3346231996826844, 0.6692463993653688, 0.8605083586656227, 0.9267317454539454, 0.07596161847983159, 0.813947709602413, 0.09267721445968069, 0.09267721445968069, 0.9408638939367167, 0.9857352672623969, 0.9898316904901442, 0.8931979059149726, 0.4250947298907486, 0.5410296562245891, 0.9961420482476192, 0.9969152899186783, 0.9788328171134495, 0.7210075614219632, 0.2803918294418746, 0.8727260569689846, 0.09752526138048825, 0.030007772732457923, 0.9505439080177374, 0.044417939626997076, 0.3435380022954101, 0.6379991471200473, 0.9446832557698294, 0.2983152373097568, 0.6960688870560992, 0.9866263174013897, 0.7281662682510243, 0.2633792885163279, 0.9428585173095092, 0.04962413248997417, 0.48160595589250166, 0.2823207327645699, 0.24910652890991464, 1.0002618991535779, 0.9946868089727918, 0.9379921000053618, 0.9410073935565744, 0.8928033051298571, 0.9936282578819899, 0.5550010583672462, 0.12333356852605472, 0.32888951606947925, 0.8721571941145081, 0.12337833477717432, 0.19472532531609554, 0.5598353102837746, 0.24340665664511943, 0.9099865535472267, 0.08944312278455646, 0.8303933026969121, 0.9996034230790465, 0.46402793331825587, 0.11600698332956397, 0.4156916902642709, 0.9944113849932841, 0.8063612886111513, 0.1919907830026551, 0.8931093562554312, 0.8117495527091557, 0.187326819855959, 0.03846648277490095, 0.9539687728175437, 0.6900984286389251, 0.30364330860112704, 0.9920122711407123, 0.07245427837620036, 0.9419056188906046, 0.13067060272503947, 0.8275804839252499, 0.9281459182582289, 0.6824617366452983, 0.16113679893013988, 0.16113679893013988, 0.9413603958783219, 0.05883502474239512, 0.8293456742827064, 0.9054950804776715, 0.663384969652662, 0.33713006654479544, 0.9780141123713594, 0.06394168610251169, 0.9591252915376753, 0.08682447232557094, 0.8682447232557094, 0.8635882811988395, 0.9744797976348993, 0.983523925225984, 0.9992272796899578, 0.9895256771724915, 0.9962013367321858, 0.8987906081942938, 0.9880479560355739, 0.992380486030914, 0.8326476948411545, 0.9549557761252276, 0.9111743502141337, 0.9866263174013897, 0.9866406134931189, 0.9866263174013897, 0.9436044088473406, 0.8853015562895263, 0.11362159011202476, 0.9006382061259028, 0.028591689083361994, 0.07147922270840498, 0.6828772969426584, 0.22883654099674192, 0.08717582514161597, 0.9937361846407734, 0.9281459182582289, 0.9866263174013897, 0.9289157921088025, 0.9270865290642811, 0.68430379649204, 0.31440985244228864, 0.9859369152094909, 0.013145825536126544, 0.11786735119148696, 0.9429388095318957, 0.9760484695867359, 0.9866263174013897, 0.9526925715962272, 0.041064334982596, 0.7320172757435586, 0.26306870847034136, 0.8564032554093465, 0.053525203463084155, 0.0892086724384736, 0.9496875543451836, 0.9119303036959665, 0.7567532008548165, 0.24216102427354125, 0.966212976476557, 0.9968451293577245, 0.9521721514115904, 0.962009732879061, 0.03900039457617815], \"Term\": [\"account\", \"account\", \"address\", \"amazing\", \"amazing\", \"asian\", \"awesome\", \"awesome\", \"bag\", \"beautiful\", \"beautiful\", \"bed\", \"big\", \"big\", \"box\", \"box\", \"box\", \"bribe\", \"brother\", \"bubblewrap\", \"cable\", \"cam\", \"camera\", \"card\", \"card\", \"clean\", \"complaint\", \"complaint\", \"computer\", \"computer\", \"computer\", \"console\", \"console\", \"content\", \"controller\", \"controller\", \"cost\", \"cost\", \"custom\", \"date\", \"date\", \"day\", \"day\", \"day\", \"delivery\", \"developer\", \"double\", \"drive\", \"drive\", \"easy\", \"easy\", \"electronic\", \"excellent\", \"exclusive\", \"extra\", \"fault\", \"feature\", \"feature\", \"free\", \"free\", \"friend\", \"friend\", \"function\", \"future\", \"future\", \"game\", \"game\", \"game\", \"gamer\", \"gaming\", \"gaming\", \"generation\", \"gift\", \"gift\", \"glad\", \"good\", \"good\", \"good\", \"grandson\", \"graphic\", \"graphic\", \"great\", \"great\", \"great\", \"happy\", \"happy\", \"hard\", \"hdmi\", \"headset\", \"heat\", \"helpful\", \"hotel\", \"house\", \"husband\", \"indian\", \"interact\", \"international\", \"issue\", \"issue\", \"issue\", \"item\", \"item\", \"job\", \"kid\", \"kid\", \"knack\", \"launch\", \"launch\", \"launch\", \"light\", \"little\", \"little\", \"live\", \"live\", \"log\", \"lot\", \"lot\", \"love\", \"love\", \"love\", \"luggage\", \"main\", \"medium\", \"microphone\", \"minute\", \"minute\", \"moment\", \"month\", \"morning\", \"much\", \"much\", \"new\", \"new\", \"new\", \"next\", \"next\", \"night\", \"night\", \"note\", \"number\", \"number\", \"office\", \"one\", \"one\", \"online\", \"online\", \"order\", \"order\", \"order\", \"other\", \"package\", \"packaging\", \"packed\", \"particular\", \"people\", \"perfect\", \"perfect\", \"perfect\", \"play\", \"play\", \"playing\", \"playing\", \"playing\", \"playstation\", \"playstation\", \"plug\", \"port\", \"power\", \"power\", \"power\", \"powerful\", \"price\", \"price\", \"primary\", \"problem\", \"problem\", \"product\", \"product\", \"psn\", \"psn\", \"purchase\", \"ray\", \"ray\", \"ready\", \"ready\", \"reservation\", \"review\", \"review\", \"review\", \"right\", \"right\", \"rival\", \"roommate\", \"screen\", \"screen\", \"seller\", \"setting\", \"setting\", \"shape\", \"shape\", \"sharp\", \"shipping\", \"similar\", \"small\", \"smooth\", \"social\", \"solution\", \"sound\", \"speaker\", \"stand\", \"state\", \"station\", \"statistic\", \"stick\", \"success\", \"surprised\", \"system\", \"system\", \"thing\", \"thing\", \"thing\", \"time\", \"time\", \"time\", \"top\", \"transaction\", \"trasformer\", \"travel\", \"trip\", \"trophy\", \"trophy\", \"unit\", \"unit\", \"up\", \"up\", \"upload\", \"usd\", \"use\", \"use\", \"user\", \"user\", \"video\", \"video\", \"video\", \"voice\", \"warranty\", \"way\", \"way\", \"weekend\", \"well\", \"wonderful\", \"year\", \"year\"]}, \"R\": 30, \"lambda.step\": 0.01, \"plot.opts\": {\"xlab\": \"PC1\", \"ylab\": \"PC2\"}, \"topic.order\": [3, 1, 2]};\n",
       "\n",
       "function LDAvis_load_lib(url, callback){\n",
       "  var s = document.createElement('script');\n",
       "  s.src = url;\n",
       "  s.async = true;\n",
       "  s.onreadystatechange = s.onload = callback;\n",
       "  s.onerror = function(){console.warn(\"failed to load library \" + url);};\n",
       "  document.getElementsByTagName(\"head\")[0].appendChild(s);\n",
       "}\n",
       "\n",
       "if(typeof(LDAvis) !== \"undefined\"){\n",
       "   // already loaded: just create the visualization\n",
       "   !function(LDAvis){\n",
       "       new LDAvis(\"#\" + \"ldavis_el150801886947842752645057923\", ldavis_el150801886947842752645057923_data);\n",
       "   }(LDAvis);\n",
       "}else if(typeof define === \"function\" && define.amd){\n",
       "   // require.js is available: use it to load d3/LDAvis\n",
       "   require.config({paths: {d3: \"https://cdnjs.cloudflare.com/ajax/libs/d3/3.5.5/d3.min\"}});\n",
       "   require([\"d3\"], function(d3){\n",
       "      window.d3 = d3;\n",
       "      LDAvis_load_lib(\"https://cdn.rawgit.com/bmabey/pyLDAvis/files/ldavis.v1.0.0.js\", function(){\n",
       "        new LDAvis(\"#\" + \"ldavis_el150801886947842752645057923\", ldavis_el150801886947842752645057923_data);\n",
       "      });\n",
       "    });\n",
       "}else{\n",
       "    // require.js not available: dynamically load d3 & LDAvis\n",
       "    LDAvis_load_lib(\"https://cdnjs.cloudflare.com/ajax/libs/d3/3.5.5/d3.min.js\", function(){\n",
       "         LDAvis_load_lib(\"https://cdn.rawgit.com/bmabey/pyLDAvis/files/ldavis.v1.0.0.js\", function(){\n",
       "                 new LDAvis(\"#\" + \"ldavis_el150801886947842752645057923\", ldavis_el150801886947842752645057923_data);\n",
       "            })\n",
       "         });\n",
       "}\n",
       "</script>"
      ],
      "text/plain": [
       "PreparedData(topic_coordinates=              x         y  topics  cluster       Freq\n",
       "topic                                                \n",
       "2     -0.107008  0.117021       1        1  78.734306\n",
       "0     -0.116439 -0.113774       2        1  11.583504\n",
       "1      0.223447 -0.003247       3        1   9.682190, topic_info=        Term         Freq        Total Category  logprob  loglift\n",
       "197    great   588.000000   588.000000  Default  30.0000  30.0000\n",
       "12      game  1275.000000  1275.000000  Default  29.0000  29.0000\n",
       "103  console   516.000000   516.000000  Default  28.0000  28.0000\n",
       "61   product   129.000000   129.000000  Default  27.0000  27.0000\n",
       "46    system   633.000000   633.000000  Default  26.0000  26.0000\n",
       "..       ...          ...          ...      ...      ...      ...\n",
       "199  perfect    15.749497    48.648556   Topic3  -5.2057   1.2071\n",
       "17    launch    16.690907    97.305252   Topic3  -5.1476   0.5719\n",
       "132   review    16.797947   105.500420   Topic3  -5.1412   0.4974\n",
       "251    order    15.103695    60.215202   Topic3  -5.2476   0.9519\n",
       "217    price    15.376373    78.128751   Topic3  -5.2297   0.7094\n",
       "\n",
       "[215 rows x 6 columns], token_table=      Topic      Freq       Term\n",
       "term                            \n",
       "1339      1  0.654252    account\n",
       "1339      2  0.348934    account\n",
       "2235      3  0.893253    address\n",
       "95        1  0.806576    amazing\n",
       "95        2  0.185420    amazing\n",
       "...     ...       ...        ...\n",
       "1358      2  0.966213    weekend\n",
       "379       1  0.996845       well\n",
       "1212      2  0.952172  wonderful\n",
       "93        1  0.962010       year\n",
       "93        2  0.039000       year\n",
       "\n",
       "[253 rows x 3 columns], R=30, lambda_step=0.01, plot_opts={'xlab': 'PC1', 'ylab': 'PC2'}, topic_order=[3, 1, 2])"
      ]
     },
     "execution_count": 98,
     "metadata": {},
     "output_type": "execute_result"
    }
   ],
   "source": [
    "pyLDAvis.enable_notebook()\n",
    "vis = pyLDAvis.gensim.prepare(lda_model, doc_term_matrix, dictionary)\n",
    "vis"
   ]
  },
  {
   "cell_type": "markdown",
   "metadata": {},
   "source": [
    "As can be seen above, there are 3 topics which were created.<br> Based on the words within each topic, I can take a reasonable guess as to what the topics are about:<br>\n",
    "\n",
    "Topic 1: Positive Review for PS4 features: Graphics, controller, play, well, easy<br>\n",
    "Topic 2: Positive Reviews for PS4 internal features: amazing, sysytem, awesome, feature<br>\n",
    "Topic 3: Positive Reviews on PS4 speed and power.<br>\n",
    "\n",
    "It seems to me that people were really happy with the PS4 based on the firmware and software.<br>\n",
    "There were positive comments for the controller, graphics, and the power of the PS4 as well.<br>"
   ]
  },
  {
   "cell_type": "markdown",
   "metadata": {},
   "source": [
    "#                                  Data Cleaning (PS4 Negative Reviews)\n",
    "\n",
    "The following section is done in order to prepare the PS4 negative reviews for the LDA model.<br>\n",
    "The data will need to be split, tokenized, and lemmatized in order to prepare it for the model.<br>\n",
    "Visualizations will also be built in order to take a better look at the data."
   ]
  },
  {
   "cell_type": "code",
   "execution_count": 99,
   "metadata": {},
   "outputs": [
    {
     "data": {
      "image/png": "[encoded data removed]",
      "text/plain": [
       "<Figure size 1440x360 with 1 Axes>"
      ]
     },
     "metadata": {
      "needs_background": "light"
     },
     "output_type": "display_data"
    }
   ],
   "source": [
    "freq_words(ps4reviews_negative['comment'])"
   ]
  },
  {
   "cell_type": "markdown",
   "metadata": {},
   "source": [
    "Looking above, it seems most of the most frequent words are \"the\", \"and\", and \"for\".<br> But these are not necessary words because these words don't show true sentiment.<br> The dataset will need to be cleaned further in order to prepare this dataset for the model."
   ]
  },
  {
   "cell_type": "markdown",
   "metadata": {},
   "source": [
    "The following code is run in order to remove short words (length < 3) to make the data cleaner:"
   ]
  },
  {
   "cell_type": "code",
   "execution_count": 100,
   "metadata": {},
   "outputs": [],
   "source": [
    "ps4reviews_negative['comment'] = ps4reviews_negative['comment'].apply(lambda x: ' '.join([w for w in x.split() if len(w) > 2]))"
   ]
  },
  {
   "cell_type": "markdown",
   "metadata": {},
   "source": [
    "The following code is run to remove stopwords from the text:"
   ]
  },
  {
   "cell_type": "code",
   "execution_count": 101,
   "metadata": {},
   "outputs": [],
   "source": [
    "reviews = [remove_stopwords(r.split()) for r in ps4reviews_negative['comment']]"
   ]
  },
  {
   "cell_type": "markdown",
   "metadata": {},
   "source": [
    "This code is run to make the text lowercase:"
   ]
  },
  {
   "cell_type": "code",
   "execution_count": 102,
   "metadata": {},
   "outputs": [],
   "source": [
    "reviews = [r.lower() for r in reviews]"
   ]
  },
  {
   "cell_type": "code",
   "execution_count": 103,
   "metadata": {},
   "outputs": [
    {
     "data": {
      "image/png": "[encoded data removed]",
      "text/plain": [
       "<Figure size 1440x360 with 1 Axes>"
      ]
     },
     "metadata": {
      "needs_background": "light"
     },
     "output_type": "display_data"
    }
   ],
   "source": [
    "freq_words(reviews, 35)"
   ]
  },
  {
   "cell_type": "markdown",
   "metadata": {},
   "source": [
    "Re-running a frequency bar graph on the data, it seems the stopwords have been removed and the reviews are getting closer to be used for the model.<br> The next step is to lemmatize the data."
   ]
  },
  {
   "cell_type": "markdown",
   "metadata": {},
   "source": [
    "This code is done in order to split the words of the words into tokens:"
   ]
  },
  {
   "cell_type": "code",
   "execution_count": 104,
   "metadata": {},
   "outputs": [
    {
     "name": "stdout",
     "output_type": "stream",
     "text": [
      "['this', 'first', 'console', \"i've\", 'purchased', 'myself.', 'the', 'product', 'used', 'labelled', 'good', 'sold', 'amazon.com', 'services,', 'inc.', 'unfortunately', 'controller', 'worked', 'close', 'console.', 'the', 'controller', 'within', 'feet', 'console', 'work', 'even', 'connection', 'sometime', 'drops', 'out.', 'using', 'usb', 'cable', 'question', 'method', 'connection', 'via', 'bluetooth.', 'initially', 'thought', 'controller', 'issue', 'went', 'bought', 'new', 'controller', 'still', 'issue', 'persisted', 'meaning', 'console', 'defective.', 'either', 'device', 'got', 'damaged', 'delivery', 'properly', 'test', 'console.', 'the', 'device', 'still', 'usable', 'fullest', 'potential.', 'this', 'disappointing', 'expensive', 'purchase', 'brings', 'caution', 'towards', 'labeling', 'used', 'products', 'sold', 'amazon.']\n"
     ]
    }
   ],
   "source": [
    "tokenized_reviews = pd.Series(reviews).apply(lambda x: x.split())\n",
    "print(tokenized_reviews[1])"
   ]
  },
  {
   "cell_type": "markdown",
   "metadata": {},
   "source": [
    "This code below is run in order to lemmatize the reviews:"
   ]
  },
  {
   "cell_type": "code",
   "execution_count": 105,
   "metadata": {},
   "outputs": [
    {
     "name": "stdout",
     "output_type": "stream",
     "text": [
      "['first', 'console', 'product', 'good', 'sold', 'service', 'close', 'console', 'controller', 'foot', 'work', 'cable', 'question', 'method', 'connection', 'issue', 'new', 'controller', 'issue', 'console', 'device', 'delivery', 'console', 'device', 'usable', 'full', 'potential', 'disappointing', 'expensive', 'purchase', 'caution', 'product']\n"
     ]
    }
   ],
   "source": [
    "reviews_2 = lemmatization(tokenized_reviews)\n",
    "print(reviews_2[1]) "
   ]
  },
  {
   "cell_type": "markdown",
   "metadata": {},
   "source": [
    "The following code is run in order to append the reviews to a new dataframe in order to show a frequency graph \n",
    "of the lemmatized reviews later on:"
   ]
  },
  {
   "cell_type": "code",
   "execution_count": 106,
   "metadata": {},
   "outputs": [],
   "source": [
    "reviews_3 = []\n",
    "for i in range(len(reviews_2)):\n",
    "    reviews_3.append(' '.join(reviews_2[i]))\n",
    "\n",
    "ps4reviews_negative['reviews'] = reviews_3\n"
   ]
  },
  {
   "cell_type": "code",
   "execution_count": 107,
   "metadata": {},
   "outputs": [
    {
     "data": {
      "image/png": "[encoded data removed]",
      "text/plain": [
       "<Figure size 1440x360 with 1 Axes>"
      ]
     },
     "metadata": {
      "needs_background": "light"
     },
     "output_type": "display_data"
    }
   ],
   "source": [
    "freq_words(ps4reviews_negative['reviews'], 20)"
   ]
  },
  {
   "cell_type": "markdown",
   "metadata": {},
   "source": [
    "As can be seen, the tokens are now cleaner as words such as \"game\", \"system\", and \"console\" are now clearly showing in the dataset.<br>The dataset is now ready for model building."
   ]
  },
  {
   "cell_type": "markdown",
   "metadata": {},
   "source": [
    "#                                   LDA Model (PS4 Negative Reviews)\n",
    "\n",
    "The code below is run in order to incorporate the reviews into a dictionary in order to set up the LDA Model.\n"
   ]
  },
  {
   "cell_type": "code",
   "execution_count": 108,
   "metadata": {},
   "outputs": [],
   "source": [
    "dictionary = corpora.Dictionary(reviews_2)\n",
    "doc_term_matrix = [dictionary.doc2bow(rev) for rev in reviews_2]"
   ]
  },
  {
   "cell_type": "markdown",
   "metadata": {},
   "source": [
    "Next, the LDA Model is imported and the next lines of code are run in order to build the model.<br>\n",
    "The number of topics I chose through trial and error were 4."
   ]
  },
  {
   "cell_type": "code",
   "execution_count": 109,
   "metadata": {},
   "outputs": [],
   "source": [
    "LDA = gensim.models.ldamodel.LdaModel\n",
    "\n",
    "lda_model = LDA(corpus = doc_term_matrix, \n",
    "                id2word = dictionary,\n",
    "                num_topics = 4,\n",
    "                random_state = 100,\n",
    "                chunksize = 1000,\n",
    "                passes = 50)"
   ]
  },
  {
   "cell_type": "markdown",
   "metadata": {},
   "source": [
    "Here, this code is being run to print the topics and the words associated with it:"
   ]
  },
  {
   "cell_type": "code",
   "execution_count": 110,
   "metadata": {},
   "outputs": [
    {
     "data": {
      "text/plain": [
       "[(0,\n",
       "  '0.032*\"ps4\" + 0.026*\"system\" + 0.022*\"controller\" + 0.021*\"new\" + 0.016*\"good\" + 0.015*\"game\" + 0.015*\"work\" + 0.012*\"time\" + 0.010*\"cable\" + 0.010*\"disc\"'),\n",
       " (1,\n",
       "  '0.044*\"game\" + 0.028*\"ps4\" + 0.019*\"system\" + 0.016*\"hard\" + 0.015*\"drive\" + 0.015*\"console\" + 0.013*\"product\" + 0.013*\"time\" + 0.012*\"old\" + 0.011*\"playstation\"'),\n",
       " (2,\n",
       "  '0.020*\"ps4\" + 0.017*\"issue\" + 0.015*\"great\" + 0.013*\"problem\" + 0.012*\"console\" + 0.010*\"sound\" + 0.010*\"day\" + 0.009*\"playstation\" + 0.008*\"code\" + 0.008*\"month\"'),\n",
       " (3,\n",
       "  '0.017*\"time\" + 0.015*\"description\" + 0.015*\"playstation\" + 0.014*\"system\" + 0.011*\"model\" + 0.010*\"console\" + 0.009*\"game\" + 0.009*\"light\" + 0.009*\"blue\" + 0.009*\"happy\"')]"
      ]
     },
     "execution_count": 110,
     "metadata": {},
     "output_type": "execute_result"
    }
   ],
   "source": [
    "lda_model.print_topics()"
   ]
  },
  {
   "cell_type": "markdown",
   "metadata": {},
   "source": [
    "This code is run to generate the LDA model and present it via a graphical bubble plot:"
   ]
  },
  {
   "cell_type": "code",
   "execution_count": 111,
   "metadata": {},
   "outputs": [
    {
     "data": {
      "text/html": [
       "\n",
       "<link rel=\"stylesheet\" type=\"text/css\" href=\"https://cdn.rawgit.com/bmabey/pyLDAvis/files/ldavis.v1.0.0.css\">\n",
       "\n",
       "\n",
       "<div id=\"ldavis_el150801886999269152488407543\"></div>\n",
       "<script type=\"text/javascript\">\n",
       "\n",
       "var ldavis_el150801886999269152488407543_data = {\"mdsDat\": {\"x\": [0.11115516291828628, -0.01093041714205374, -0.08974134402379513, -0.010483401752437387], \"y\": [0.01034751473304175, -0.10902882530343674, 0.016495437118246362, 0.08218587345214864], \"topics\": [1, 2, 3, 4], \"cluster\": [1, 1, 1, 1], \"Freq\": [40.42146215496803, 28.166164609470286, 15.99108830880687, 15.421284926754817]}, \"tinfo\": {\"Term\": [\"description\", \"playstation\", \"great\", \"ps4\", \"issue\", \"controller\", \"problem\", \"work\", \"sound\", \"product\", \"game\", \"hard\", \"cable\", \"money\", \"model\", \"happy\", \"drive\", \"code\", \"well\", \"title\", \"original\", \"time\", \"new\", \"warranty\", \"blue\", \"old\", \"refund\", \"people\", \"death\", \"little\", \"exclusive\", \"store\", \"storage\", \"library\", \"indie\", \"full\", \"product\", \"steam\", \"buy\", \"amazing\", \"-\", \"old\", \"hard\", \"last\", \"situation\", \"jrpgs\", \"collection\", \"force\", \"dualshock\", \"shutdown\", \"tb\", \"difference\", \"footprint\", \"deal\", \"feature\", \"awesome\", \"space\", \"fun\", \"kind\", \"plastic\", \"drive\", \"game\", \"box\", \"pc\", \"original\", \"couple\", \"first\", \"play\", \"ps4\", \"playstation\", \"console\", \"able\", \"graphic\", \"big\", \"system\", \"time\", \"year\", \"title\", \"power\", \"ps3\", \"good\", \"controller\", \"new\", \"thing\", \"month\", \"device\", \"great\", \"issue\", \"surface\", \"hole\", \"friend\", \"order\", \"heat\", \"screen\", \"intake\", \"choke\", \"activity\", \"air\", \"hdd\", \"data\", \"loud\", \"next\", \"load\", \"minute\", \"actual\", \"lot\", \"show\", \"complaint\", \"worth\", \"disk\", \"stupid\", \"cable\", \"work\", \"unit\", \"other\", \"remote\", \"sufficient\", \"dashboard\", \"disc\", \"fine\", \"controller\", \"new\", \"money\", \"item\", \"good\", \"system\", \"ps4\", \"much\", \"warranty\", \"time\", \"thing\", \"issue\", \"price\", \"support\", \"side\", \"game\", \"console\", \"day\", \"year\", \"power\", \"drive\", \"play\", \"content\", \"sound\", \"code\", \"trial\", \"region\", \"instruction\", \"defect\", \"stated\", \"card\", \"charge\", \"people\", \"epic\", \"honest\", \"laughable\", \"undefined\", \"list\", \"maintenance\", \"page\", \"problem.to\", \"promotion\", \"psn\", \"scheduled\", \"failure\", \"gddr5\", \"ergonomic\", \"term\", \"poor\", \"early\", \"that.in\", \"blu\", \"ray\", \"problem\", \"state\", \"great\", \"star\", \"eject\", \"short\", \"turn\", \"dirty\", \"issue\", \"repair\", \"internal\", \"fan\", \"warranty\", \"month\", \"device\", \"day\", \"service\", \"paste\", \"thermal\", \"ps4\", \"console\", \"description\", \"playstation\", \"year\", \"controller\", \"support\", \"system\", \"disc\", \"work\", \"bad\", \"movie\", \"condition\", \"roku\", \"ethernet\", \"internet\", \"house\", \"replacement\", \"mine\", \"defective\", \"aaa\", \"happy\", \"well\", \"version\", \"death\", \"grab\", \"make\", \"promising\", \"cod\", \"input\", \"finger\", \"safe\", \"sort\", \"diff\", \"killzone\", \"processor\", \"advantage\", \"sharp\", \"advice\", \"attribute\", \"run\", \"obsessiveness\", \"complicated\", \"description\", \"refund\", \"none\", \"firmware\", \"blue\", \"model\", \"little\", \"bit\", \"medium\", \"light\", \"playstation\", \"title\", \"time\", \"tv\", \"hour\", \"money\", \"condition\", \"problem\", \"system\", \"original\", \"console\", \"work\", \"thing\", \"game\", \"new\", \"great\", \"good\", \"piece\", \"download\", \"item\"], \"Freq\": [7.0, 16.0, 10.0, 46.0, 14.0, 20.0, 7.0, 11.0, 3.0, 12.0, 47.0, 14.0, 7.0, 8.0, 8.0, 3.0, 15.0, 3.0, 3.0, 6.0, 8.0, 23.0, 21.0, 5.0, 6.0, 11.0, 4.0, 3.0, 3.0, 6.0, 5.00098810179176, 4.200779647226994, 3.4005719267479138, 3.3855675823614484, 3.385468113750946, 3.344534027707838, 10.567063619576626, 2.6004583527581104, 2.600452296551198, 2.600444588651491, 2.600394670824818, 9.77874294861686, 12.226042948421645, 5.007550827827867, 1.800278711056534, 1.800278711056534, 1.800278711056534, 1.8002744900638374, 1.8002743065424158, 1.8002743065424158, 1.8002704525925624, 1.8002702690711407, 1.800269718506876, 1.800269718506876, 1.8002686173783464, 1.8002682503355032, 1.8002682503355032, 1.800260725957218, 1.8002574225716292, 1.8002574225716292, 12.212961541490612, 35.05211877276596, 4.99554705868442, 3.401711594775996, 5.800313818318672, 3.3997853539349734, 6.152364429528733, 5.793981228145241, 21.91431203845103, 9.021530626788202, 11.855249661467303, 5.013988759297291, 3.4108759204845818, 3.400304719558077, 14.783076278881389, 10.504741212975576, 5.813189314214678, 3.8327171590259312, 4.1944276037828745, 3.38461290392633, 5.939822765541142, 6.165409499218289, 6.142137881831976, 4.999214550773502, 4.19632998683909, 3.607834046479165, 3.6330454852916985, 3.496177044283085, 3.1068625736146505, 2.37581586562848, 2.375813052269574, 2.375792335717631, 2.3757636906087725, 3.832464920598355, 1.6447680067227561, 1.644767878842806, 1.6447676230829054, 1.6447674952029552, 1.6447627636447955, 1.6447627636447955, 1.644748313210416, 1.644747929570565, 1.6447476738106646, 1.6447438374121566, 1.6447434537723058, 1.644737187654743, 1.644707391626332, 1.6446613548442375, 1.6446549608467242, 1.6445838595943785, 1.644256998441508, 5.291689222006613, 8.165681127394148, 2.376678543772949, 2.3638046134201445, 2.3764258529912308, 0.9137136259395694, 0.9137135619995943, 5.2488576229855655, 3.113031502415303, 11.893317226044699, 11.704729082754307, 4.916454153070808, 4.575995780848931, 8.751715040901699, 14.025461682846911, 17.462848146867366, 3.1116790440613293, 3.1070858520078084, 6.651458216977089, 4.570143994324929, 4.8686464894251555, 3.111125068116793, 2.8122527442004084, 3.1073955772473436, 8.3880387849102, 5.147697932570688, 3.465809573285548, 3.5059007049724746, 3.109513269223687, 3.0973296348423984, 2.3812847795813963, 2.377596210296031, 3.2660713398539074, 2.650468406520246, 2.0267529927801577, 2.026737891418718, 2.024577089884271, 1.4031495324022805, 1.4030866584647483, 1.4030651680657766, 1.4029356448503525, 2.101575882551364, 0.7795050514993389, 0.7795050514993389, 0.7795050514993389, 0.7795050514993389, 0.7795050514993389, 0.7795050514993389, 0.7795050514993389, 0.7795050514993389, 0.7795050514993389, 0.7795050514993389, 0.7795050514993389, 0.7795050514993389, 0.7795004049265882, 0.7795004049265882, 0.779500332323889, 0.779500332323889, 0.7795002597211897, 0.7795002597211897, 0.7795002597211897, 0.7795002597211897, 3.8986229377063344, 1.4035134171308152, 4.535210083992695, 2.0231468167094637, 1.4098808190585785, 1.4034887322130774, 1.3931013188290158, 1.4151707969297866, 5.44649825513509, 1.3993965536737458, 1.3975597053832574, 2.0342863940575353, 2.026615047651623, 2.649824856194282, 2.487194809921792, 2.988147916795302, 1.404059534634414, 1.4027246614063935, 1.4027246614063935, 6.1180952942219635, 3.8742214609063352, 2.0301811470323425, 2.6640895441279575, 2.300625620837992, 2.351811540232078, 1.6572650783297809, 1.5635792812719425, 1.4488296987030505, 1.4480076909423822, 1.4121162561678329, 1.4115624427781157, 1.4103196297727172, 1.3964375187064382, 1.3964296769503526, 1.3964291168249179, 1.3964263161977444, 1.3963711438424278, 1.3963633020863422, 1.3934251641186979, 1.3933024966485017, 2.637362931977584, 2.6002714256926915, 2.0164145965901383, 2.0175869391249357, 0.7757728168359815, 0.7757728168359815, 0.7757728168359815, 0.7757728168359815, 0.7757727468203022, 0.7757727468203022, 0.7757727468203022, 0.7757727468203022, 0.7757727468203022, 0.7757727468203022, 0.7757727468203022, 0.7757727468203022, 0.7757727468203022, 0.7757727468203022, 0.7757727468203022, 0.7757727468203022, 0.7757727468203022, 0.7757727468203022, 4.509195990927606, 2.0183120215001367, 1.415873871290035, 1.3967700931832827, 2.6485867254378177, 3.2584907875668465, 2.610500156318206, 1.3173965382416228, 1.3126358921408696, 2.6568415740314997, 4.47088957257488, 2.302609287129254, 5.132975480324671, 1.4001244043488985, 1.4066053356909305, 2.347462311531229, 1.406287184444029, 2.0252052051620972, 4.240488976584816, 2.017705685717089, 3.0599201595909538, 1.9954422400332748, 2.019474141745751, 2.79531046280289, 2.176763245122584, 1.8230885630905678, 1.7353862229978474, 1.405506369588077, 1.4009001780759385, 1.4002736777772424], \"Total\": [7.0, 16.0, 10.0, 46.0, 14.0, 20.0, 7.0, 11.0, 3.0, 12.0, 47.0, 14.0, 7.0, 8.0, 8.0, 3.0, 15.0, 3.0, 3.0, 6.0, 8.0, 23.0, 21.0, 5.0, 6.0, 11.0, 4.0, 3.0, 3.0, 6.0, 5.494834380263169, 4.694651080307247, 3.8944665069888815, 3.8910670515730006, 3.891044715142576, 3.881943530267341, 12.329514039620284, 3.094304732615376, 3.09430336154883, 3.0943012950308977, 3.094289229732178, 11.75533436317188, 14.8914896975787, 6.11692014739141, 2.2941252851717664, 2.2941253331267477, 2.2941253491117415, 2.294124349531608, 2.294124242897303, 2.294124255048712, 2.2941233815209543, 2.2941231744373596, 2.294123277168597, 2.294123341108572, 2.2941231071561674, 2.2941227317027737, 2.2941227317027737, 2.2941208928532553, 2.294120267300799, 2.294120347225768, 15.621413858343537, 47.617664849500095, 6.734892450660597, 4.518324208801037, 8.156758284780656, 4.625347997402834, 9.081103584754441, 9.110842818815337, 46.06324675570544, 16.33933392181327, 23.937089214535277, 8.303584390457386, 5.14094433563681, 5.135686389571207, 34.612606219585054, 23.226425225842352, 11.774948995537082, 6.4740179176490935, 8.238346649040176, 5.352954684904787, 17.555071380990533, 20.568595125803654, 21.14964993915781, 12.990006845005844, 8.539262528684498, 7.8970606465811874, 10.174146075570842, 14.579256630440394, 3.617994727013369, 2.8869473090768354, 2.8869466188486888, 2.8869432093513225, 2.886939149429655, 4.969235664936909, 2.155898760860081, 2.155898885322085, 2.155898735691404, 2.1558988190625556, 2.1558977598053257, 2.1558979032432313, 2.155895372037945, 2.155895400370784, 2.155895553826325, 2.1558948265068927, 2.1558948273093215, 2.155893828793193, 2.155888371481533, 2.1558819837683436, 2.1558800448136526, 2.155870589077902, 2.1558131056480607, 7.057375940839427, 11.84355847772856, 3.5106774966083902, 3.5057617383223416, 3.6869381537882244, 1.4248447058471942, 1.424844664847397, 8.47117471106597, 5.036612001113394, 20.568595125803654, 21.14964993915781, 8.239236754586372, 7.743812365496326, 17.555071380990533, 34.612606219585054, 46.06324675570544, 5.134786311342874, 5.488940441074932, 23.226425225842352, 12.990006845005844, 14.579256630440394, 6.641744251738237, 5.621237242770195, 6.818541470598608, 47.617664849500095, 23.937089214535277, 11.226544357281785, 11.774948995537082, 8.238346649040176, 15.621413858343537, 9.110842818815337, 5.7782352351285144, 3.813429710176075, 3.188449510826844, 2.5647985004807166, 2.564799855654186, 2.565379831043899, 1.9411444402759088, 1.941145602889285, 1.9411463508796603, 1.9411493640826805, 3.185806007312879, 1.31748811354402, 1.31748811354402, 1.31748811354402, 1.31748811354402, 1.31748811354402, 1.31748811354402, 1.31748811354402, 1.31748811354402, 1.31748811354402, 1.31748811354402, 1.31748811354402, 1.31748811354402, 1.31748837249751, 1.31748837249751, 1.3174884117897674, 1.3174884117897674, 1.317488339187068, 1.3174883551720618, 1.3174883871420493, 1.3174883871420493, 7.758358164205577, 2.562744318345227, 10.174146075570842, 3.9856202723153253, 2.6709272793862566, 2.672049009695867, 2.6752254286611796, 2.7373933334829625, 14.579256630440394, 2.741575631895667, 2.742105118961455, 4.824374635082049, 5.488940441074932, 8.539262528684498, 7.8970606465811874, 11.226544357281785, 3.4030749718750504, 3.403235637469785, 3.40323568969331, 46.06324675570544, 23.937089214535277, 7.705653467618568, 16.33933392181327, 11.774948995537082, 20.568595125803654, 5.621237242770195, 34.612606219585054, 8.47117471106597, 11.84355847772856, 4.19971390763912, 4.200125120313842, 3.9103905777116665, 1.9351624578878486, 1.9351627588175178, 1.9351629914701007, 1.935163075564537, 1.935164436647315, 1.9351646190231282, 1.935665558078784, 1.9360370893249235, 3.97652987927834, 3.987345291620204, 3.2869968370083473, 3.355738061059106, 1.3144980712608823, 1.31449809420106, 1.31449809420106, 1.3144981171412375, 1.3144980471255583, 1.3144980471255583, 1.3144980471255583, 1.3144980652762333, 1.314498070065736, 1.314498070065736, 1.314498081261227, 1.3144980882164108, 1.3144980930059136, 1.3144980930059136, 1.3144980930059136, 1.3144981063670858, 1.3144981111565885, 1.3144981111565885, 7.705653467618568, 4.017619776189802, 2.7295393031682873, 2.735119018679066, 6.235847014481118, 8.39069424212072, 6.802883606736465, 2.758065756547198, 2.7594559706299737, 7.661578847155318, 16.33933392181327, 6.4740179176490935, 23.226425225842352, 3.289779427992873, 3.3603635895367336, 8.239236754586372, 3.9103905777116665, 7.758358164205577, 34.612606219585054, 8.156758284780656, 23.937089214535277, 11.84355847772856, 12.990006845005844, 47.617664849500095, 21.14964993915781, 10.174146075570842, 17.555071380990533, 4.159371662568393, 4.087629679975988, 7.743812365496326], \"Category\": [\"Default\", \"Default\", \"Default\", \"Default\", \"Default\", \"Default\", \"Default\", \"Default\", \"Default\", \"Default\", \"Default\", \"Default\", \"Default\", \"Default\", \"Default\", \"Default\", \"Default\", \"Default\", \"Default\", \"Default\", \"Default\", \"Default\", \"Default\", \"Default\", \"Default\", \"Default\", \"Default\", \"Default\", \"Default\", \"Default\", \"Topic1\", \"Topic1\", \"Topic1\", \"Topic1\", \"Topic1\", \"Topic1\", \"Topic1\", \"Topic1\", \"Topic1\", \"Topic1\", \"Topic1\", \"Topic1\", \"Topic1\", \"Topic1\", \"Topic1\", \"Topic1\", \"Topic1\", \"Topic1\", \"Topic1\", \"Topic1\", \"Topic1\", \"Topic1\", \"Topic1\", \"Topic1\", \"Topic1\", \"Topic1\", \"Topic1\", \"Topic1\", \"Topic1\", \"Topic1\", \"Topic1\", \"Topic1\", \"Topic1\", \"Topic1\", \"Topic1\", \"Topic1\", \"Topic1\", \"Topic1\", \"Topic1\", \"Topic1\", \"Topic1\", \"Topic1\", \"Topic1\", \"Topic1\", \"Topic1\", \"Topic1\", \"Topic1\", \"Topic1\", \"Topic1\", \"Topic1\", \"Topic1\", \"Topic1\", \"Topic1\", \"Topic1\", \"Topic1\", \"Topic1\", \"Topic1\", \"Topic1\", \"Topic2\", \"Topic2\", \"Topic2\", \"Topic2\", \"Topic2\", \"Topic2\", \"Topic2\", \"Topic2\", \"Topic2\", \"Topic2\", \"Topic2\", \"Topic2\", \"Topic2\", \"Topic2\", \"Topic2\", \"Topic2\", \"Topic2\", \"Topic2\", \"Topic2\", \"Topic2\", \"Topic2\", \"Topic2\", \"Topic2\", \"Topic2\", \"Topic2\", \"Topic2\", \"Topic2\", \"Topic2\", \"Topic2\", \"Topic2\", \"Topic2\", \"Topic2\", \"Topic2\", \"Topic2\", \"Topic2\", \"Topic2\", \"Topic2\", \"Topic2\", \"Topic2\", \"Topic2\", \"Topic2\", \"Topic2\", \"Topic2\", \"Topic2\", \"Topic2\", \"Topic2\", \"Topic2\", \"Topic2\", \"Topic2\", \"Topic2\", \"Topic2\", \"Topic2\", \"Topic2\", \"Topic2\", \"Topic2\", \"Topic3\", \"Topic3\", \"Topic3\", \"Topic3\", \"Topic3\", \"Topic3\", \"Topic3\", \"Topic3\", \"Topic3\", \"Topic3\", \"Topic3\", \"Topic3\", \"Topic3\", \"Topic3\", \"Topic3\", \"Topic3\", \"Topic3\", \"Topic3\", \"Topic3\", \"Topic3\", \"Topic3\", \"Topic3\", \"Topic3\", \"Topic3\", \"Topic3\", \"Topic3\", \"Topic3\", \"Topic3\", \"Topic3\", \"Topic3\", \"Topic3\", \"Topic3\", \"Topic3\", \"Topic3\", \"Topic3\", \"Topic3\", \"Topic3\", \"Topic3\", \"Topic3\", \"Topic3\", \"Topic3\", \"Topic3\", \"Topic3\", \"Topic3\", \"Topic3\", \"Topic3\", \"Topic3\", \"Topic3\", \"Topic3\", \"Topic3\", \"Topic3\", \"Topic3\", \"Topic3\", \"Topic3\", \"Topic3\", \"Topic3\", \"Topic3\", \"Topic3\", \"Topic3\", \"Topic3\", \"Topic3\", \"Topic3\", \"Topic4\", \"Topic4\", \"Topic4\", \"Topic4\", \"Topic4\", \"Topic4\", \"Topic4\", \"Topic4\", \"Topic4\", \"Topic4\", \"Topic4\", \"Topic4\", \"Topic4\", \"Topic4\", \"Topic4\", \"Topic4\", \"Topic4\", \"Topic4\", \"Topic4\", \"Topic4\", \"Topic4\", \"Topic4\", \"Topic4\", \"Topic4\", \"Topic4\", \"Topic4\", \"Topic4\", \"Topic4\", \"Topic4\", \"Topic4\", \"Topic4\", \"Topic4\", \"Topic4\", \"Topic4\", \"Topic4\", \"Topic4\", \"Topic4\", \"Topic4\", \"Topic4\", \"Topic4\", \"Topic4\", \"Topic4\", \"Topic4\", \"Topic4\", \"Topic4\", \"Topic4\", \"Topic4\", \"Topic4\", \"Topic4\", \"Topic4\", \"Topic4\", \"Topic4\", \"Topic4\", \"Topic4\", \"Topic4\", \"Topic4\", \"Topic4\", \"Topic4\", \"Topic4\", \"Topic4\"], \"logprob\": [30.0, 29.0, 28.0, 27.0, 26.0, 25.0, 24.0, 23.0, 22.0, 21.0, 20.0, 19.0, 18.0, 17.0, 16.0, 15.0, 14.0, 13.0, 12.0, 11.0, 10.0, 9.0, 8.0, 7.0, 6.0, 5.0, 4.0, 3.0, 2.0, 1.0, -5.060100078582764, -5.234499931335449, -5.445799827575684, -5.450300216674805, -5.450300216674805, -5.462399959564209, -4.311999797821045, -5.714099884033203, -5.714099884033203, -5.714099884033203, -5.714099884033203, -4.389599800109863, -4.166200160980225, -5.058800220489502, -6.0817999839782715, -6.0817999839782715, -6.0817999839782715, -6.0817999839782715, -6.0817999839782715, -6.0817999839782715, -6.0817999839782715, -6.0817999839782715, -6.0817999839782715, -6.0817999839782715, -6.0817999839782715, -6.0817999839782715, -6.0817999839782715, -6.0817999839782715, -6.0817999839782715, -6.0817999839782715, -4.167300224304199, -3.1129000186920166, -5.061200141906738, -5.445499897003174, -4.911900043487549, -5.446100234985352, -4.85290002822876, -4.913000106811523, -3.5826001167297363, -4.470200061798096, -4.197000026702881, -5.057499885559082, -5.442800045013428, -5.445899963378906, -3.976300001144409, -4.31790018081665, -4.909599781036377, -5.326200008392334, -5.236000061035156, -5.450500011444092, -4.8881001472473145, -4.850800037384033, -4.854599952697754, -5.060500144958496, -5.235599994659424, -5.38670015335083, -5.379700183868408, -5.418099880218506, -5.174900054931641, -5.44320011138916, -5.44320011138916, -5.44320011138916, -5.44320011138916, -4.965000152587891, -5.8109002113342285, -5.8109002113342285, -5.8109002113342285, -5.8109002113342285, -5.8109002113342285, -5.8109002113342285, -5.8109002113342285, -5.8109002113342285, -5.8109002113342285, -5.810999870300293, -5.810999870300293, -5.810999870300293, -5.810999870300293, -5.810999870300293, -5.810999870300293, -5.810999870300293, -5.811200141906738, -4.642399787902832, -4.208600044250488, -5.442800045013428, -5.448299884796143, -5.44290018081665, -6.398799896240234, -6.398799896240234, -4.6504998207092285, -5.172900199890137, -3.8326001167297363, -3.8485000133514404, -4.71589994430542, -4.787700176239014, -4.1392998695373535, -3.6677000522613525, -3.448499917984009, -5.173399925231934, -5.174900054931641, -4.413700103759766, -4.789000034332275, -4.7256999015808105, -5.173600196838379, -5.274600028991699, -5.174799919128418, -4.181700229644775, -4.670000076293945, -5.0655999183654785, -5.054100036621094, -5.174099922180176, -5.177999973297119, -5.440899848937988, -5.442399978637695, -4.558899879455566, -4.7677001953125, -5.035999774932861, -5.035999774932861, -5.037099838256836, -5.40369987487793, -5.403800010681152, -5.403800010681152, -5.403900146484375, -4.999800205230713, -5.991499900817871, -5.991499900817871, -5.991499900817871, -5.991499900817871, -5.991499900817871, -5.991499900817871, -5.991499900817871, -5.991499900817871, -5.991499900817871, -5.991499900817871, -5.991499900817871, -5.991499900817871, -5.991499900817871, -5.991499900817871, -5.991499900817871, -5.991499900817871, -5.991499900817871, -5.991499900817871, -5.991499900817871, -5.991499900817871, -4.381800174713135, -5.403500080108643, -4.230599880218506, -5.037799835205078, -5.398900032043457, -5.403500080108643, -5.410900115966797, -5.395199775695801, -4.047500133514404, -5.406400203704834, -5.407700061798096, -5.032299995422363, -5.036099910736084, -4.76800012588501, -4.831299781799316, -4.647799968719482, -5.40310001373291, -5.4039998054504395, -5.4039998054504395, -3.9312000274658203, -4.3881001472473145, -5.034299850463867, -4.762599945068359, -4.909299850463867, -4.88730001449585, -5.237299919128418, -5.295499801635742, -5.371699810028076, -5.372300148010254, -5.39739990234375, -5.39769983291626, -5.398600101470947, -5.372200012207031, -5.372200012207031, -5.372200012207031, -5.372200012207031, -5.372300148010254, -5.372300148010254, -5.3744001388549805, -5.374499797821045, -4.736400127410889, -4.750500202178955, -5.004799842834473, -5.004300117492676, -5.960100173950195, -5.960100173950195, -5.960100173950195, -5.960100173950195, -5.960100173950195, -5.960100173950195, -5.960100173950195, -5.960100173950195, -5.960100173950195, -5.960100173950195, -5.960100173950195, -5.960100173950195, -5.960100173950195, -5.960100173950195, -5.960100173950195, -5.960100173950195, -5.960100173950195, -5.960100173950195, -4.199999809265137, -5.003900051116943, -5.358399868011475, -5.372000217437744, -4.732100009918213, -4.524899959564209, -4.746600151062012, -5.430500030517578, -5.434100151062012, -4.729000091552734, -4.208600044250488, -4.872099876403809, -4.070499897003174, -5.36959981918335, -5.364999771118164, -4.852799892425537, -5.365200042724609, -5.000500202178955, -4.261499881744385, -5.004199981689453, -4.587800025939941, -5.0152997970581055, -5.003300189971924, -4.678199768066406, -4.928299903869629, -5.105599880218506, -5.154900074005127, -5.365799903869629, -5.36899995803833, -5.369500160217285], \"loglift\": [30.0, 29.0, 28.0, 27.0, 26.0, 25.0, 24.0, 23.0, 22.0, 21.0, 20.0, 19.0, 18.0, 17.0, 16.0, 15.0, 14.0, 13.0, 12.0, 11.0, 10.0, 9.0, 8.0, 7.0, 6.0, 5.0, 4.0, 3.0, 2.0, 1.0, 0.8116, 0.7947, 0.7702, 0.7666, 0.7666, 0.7568, 0.7516, 0.7319, 0.7319, 0.7319, 0.7319, 0.7217, 0.7086, 0.7057, 0.6634, 0.6634, 0.6634, 0.6634, 0.6634, 0.6634, 0.6634, 0.6634, 0.6634, 0.6634, 0.6634, 0.6634, 0.6634, 0.6634, 0.6634, 0.6634, 0.6597, 0.5994, 0.6071, 0.6219, 0.5649, 0.598, 0.5165, 0.4532, 0.1629, 0.3118, 0.2032, 0.4014, 0.4955, 0.4935, 0.0551, 0.1123, 0.2, 0.3816, 0.2308, 0.4474, -0.1779, -0.299, -0.3306, -0.0491, 0.1953, 0.1224, -0.124, -0.5221, 1.1147, 1.0722, 1.0722, 1.0722, 1.0722, 1.0073, 0.9964, 0.9964, 0.9964, 0.9964, 0.9964, 0.9964, 0.9964, 0.9964, 0.9964, 0.9964, 0.9964, 0.9964, 0.9964, 0.9964, 0.9964, 0.9963, 0.9962, 0.9791, 0.8952, 0.8769, 0.8729, 0.8279, 0.8227, 0.8227, 0.7884, 0.7859, 0.7193, 0.6754, 0.7507, 0.741, 0.571, 0.3637, 0.2971, 0.7662, 0.698, 0.0166, 0.2224, 0.1703, 0.5087, 0.5745, 0.4812, -0.4693, -0.2698, 0.0917, 0.0555, 0.2927, -0.3511, -0.0748, 0.379, 1.6782, 1.6483, 1.5977, 1.5977, 1.5964, 1.5086, 1.5085, 1.5085, 1.5084, 1.4171, 1.3083, 1.3083, 1.3083, 1.3083, 1.3083, 1.3083, 1.3083, 1.3083, 1.3083, 1.3083, 1.3083, 1.3083, 1.3083, 1.3083, 1.3083, 1.3083, 1.3083, 1.3083, 1.3083, 1.3083, 1.145, 1.231, 1.0252, 1.1551, 1.1942, 1.1893, 1.1806, 1.1734, 0.8485, 1.1606, 1.1591, 0.9696, 0.8368, 0.663, 0.6778, 0.5095, 0.9478, 0.9468, 0.9468, -0.1856, 0.0121, 0.4993, 0.0194, 0.2003, -0.3354, 0.6118, -1.2641, 0.0672, -0.2685, 0.7432, 0.7427, 0.8133, 1.5432, 1.5431, 1.5431, 1.5431, 1.5431, 1.5431, 1.5407, 1.5405, 1.4588, 1.4419, 1.3808, 1.3607, 1.3421, 1.3421, 1.3421, 1.3421, 1.3421, 1.3421, 1.3421, 1.3421, 1.3421, 1.3421, 1.3421, 1.3421, 1.3421, 1.3421, 1.3421, 1.3421, 1.3421, 1.3421, 1.3336, 1.181, 1.213, 1.1974, 1.0131, 0.9236, 0.9116, 1.1305, 1.1264, 0.8103, 0.5734, 0.8357, 0.3598, 1.0152, 0.9986, 0.6138, 0.8467, 0.5263, -0.2301, 0.4725, -0.1876, 0.0885, 0.0081, -0.9658, -0.4044, 0.1501, -0.4447, 0.7845, 0.7986, 0.1592]}, \"token.table\": {\"Topic\": [1, 4, 1, 2, 3, 2, 2, 4, 4, 2, 1, 4, 1, 1, 2, 3, 1, 4, 1, 4, 3, 1, 2, 4, 1, 4, 1, 2, 3, 3, 3, 2, 4, 3, 1, 2, 4, 2, 3, 4, 1, 2, 3, 4, 1, 2, 4, 1, 2, 3, 1, 2, 2, 2, 1, 2, 3, 4, 1, 1, 4, 3, 4, 1, 3, 4, 1, 2, 3, 4, 1, 1, 3, 1, 2, 3, 4, 2, 1, 2, 3, 4, 1, 2, 1, 3, 2, 3, 3, 3, 4, 1, 3, 1, 2, 3, 1, 1, 2, 4, 4, 1, 4, 1, 2, 3, 1, 1, 2, 1, 1, 1, 2, 3, 4, 3, 1, 2, 3, 4, 4, 1, 3, 4, 1, 3, 4, 1, 4, 1, 2, 2, 2, 2, 3, 1, 3, 4, 4, 1, 4, 3, 2, 1, 3, 4, 1, 2, 3, 4, 1, 2, 3, 4, 1, 4, 1, 1, 4, 3, 1, 1, 2, 3, 4, 3, 1, 2, 3, 4, 2, 2, 2, 3, 4, 1, 4, 4, 2, 1, 2, 4, 2, 3, 4, 1, 2, 3, 4, 1, 2, 3, 1, 2, 1, 2, 3, 4, 2, 1, 4, 4, 1, 2, 2, 1, 4, 2, 4, 3, 2, 3, 1, 3, 3, 4, 1, 3, 4, 1, 1, 2, 3, 1, 3, 4, 3, 1, 2, 4, 1, 2, 3, 2, 3, 4, 3, 4, 1, 4, 4, 3, 1, 2, 1, 2, 3, 4, 3, 3, 2, 4, 3, 1, 2, 1, 3, 4, 4, 4, 4, 3, 2, 4, 2, 3, 4, 2, 3, 2, 1, 1, 2, 1, 4, 3, 1, 1, 3, 4, 3, 4, 3, 1, 1, 1, 2, 2, 1, 2, 3, 2, 1, 2, 3, 4, 1, 3, 3, 2, 3, 1, 2, 3, 4, 1, 2, 3, 4, 1, 4, 3, 2, 3, 2, 3, 4, 3, 2, 3, 2, 4, 2, 3, 1, 4, 2, 3, 4, 2, 1, 2, 3], \"Freq\": [0.9695279843829147, 0.5165190302984793, 0.602149597678092, 0.24085983907123681, 0.12042991953561841, 0.9276873569660467, 0.9276890387533946, 0.7607466370353262, 0.7607466342634711, 0.9276873210912816, 0.9695242039996768, 0.7607466342634711, 0.8717929395675941, 0.23811145758786995, 0.4762229151757399, 0.23811145758786995, 0.5841478183114834, 0.19471593943716115, 0.36257293635083326, 0.36257293635083326, 0.7590199729723931, 0.32072627749775207, 0.32072627749775207, 0.48108941624662815, 0.7424023526180542, 0.14848047052361085, 0.9695235565068749, 0.7084786246211058, 0.14169572492422117, 0.5151595084764395, 0.5151587088057827, 0.9276872925796823, 0.760746620295504, 0.940896191021079, 0.8717919449233132, 0.92769456540665, 0.7607466237590323, 0.25572893042955136, 0.25572893042955136, 0.25572893042955136, 0.5013140859546641, 0.2088808691477767, 0.16710469531822136, 0.12532852148866602, 0.34612644148529853, 0.34612644148529853, 0.17306322074264927, 0.29170684547496867, 0.5834136909499373, 0.09723561515832288, 0.6485998462568701, 0.21619994875229004, 0.7018308905322683, 0.9276877151702287, 0.26722381389373245, 0.26722381389373245, 0.26722381389373245, 0.08907460463124416, 0.8717927079864656, 0.29799703725516336, 0.5959940745103267, 0.5151600155307674, 0.51661817085413, 0.1297748470265754, 0.2595496940531508, 0.648874235132877, 0.5065175739446408, 0.2532587869723204, 0.2532587869723204, 0.7607466475397652, 0.871792771323408, 0.365311037974815, 0.365311037974815, 0.11804738234163571, 0.5902369117081786, 0.11804738234163571, 0.11804738234163571, 0.927699468665895, 0.24464055657944883, 0.24464055657944883, 0.24464055657944883, 0.24464055657944883, 0.7681763064993437, 0.1920440766248359, 0.8717923652967257, 0.7590200005998017, 0.374401807086933, 0.374401807086933, 0.7590201305953475, 0.7590199814092781, 0.5167523999950528, 0.9099455332010444, 0.7590201305953475, 0.20728075152542394, 0.4145615030508479, 0.4145615030508479, 0.8717927968910233, 0.19854616551343243, 0.5956384965402973, 0.19854616551343243, 0.7607466608160597, 0.36561480256276124, 0.36561480256276124, 0.660712648413452, 0.22023754947115068, 0.11011877473557534, 0.8717927322843769, 0.8717923247745225, 0.692773460701396, 0.7728087687543967, 0.8717936383520531, 0.7350213436677469, 0.16800487855262786, 0.021000609819078482, 0.06300182945723545, 0.7590199814092781, 0.341781578085583, 0.5126723671283746, 0.05696359634759717, 0.11392719269519434, 0.7607466468480917, 0.5835503759891205, 0.1945167919963735, 0.1945167919963735, 0.39315338803758737, 0.4914417350469842, 0.19657669401879369, 0.2514755403224783, 0.754426620967435, 0.8058293860251707, 0.1343048976708618, 0.9276877768918861, 0.6927752531240989, 0.6927732950690894, 0.7590201305953475, 0.2975868453978404, 0.2975868453978404, 0.2975868453978404, 0.5167523154131464, 0.7710011628303978, 0.7607466608160597, 0.7796116488474005, 0.9276873461359169, 0.3646833205208194, 0.3646833205208194, 0.5167523378691332, 0.20577180826464259, 0.34295301377440435, 0.34295301377440435, 0.06859060275488087, 0.12913536031111036, 0.6456768015555518, 0.12913536031111036, 0.12913536031111036, 0.8717919509977803, 0.7607466475397652, 0.8717938760696041, 0.8174048180328582, 0.16348096360657166, 0.7590201305953475, 0.7709967369457748, 0.3915642010411308, 0.2610428006940872, 0.1305214003470436, 0.3915642010411308, 0.7590201305953475, 0.14699648822592867, 0.29399297645185735, 0.14699648822592867, 0.44098946467778605, 0.9276887261307077, 0.9276894684185548, 0.9276888043548335, 0.7590201305953475, 0.7607466335717975, 0.3623902720838498, 0.3623902720838498, 0.5167519032591658, 0.9276890390986825, 0.35753894891559773, 0.23835929927706515, 0.35753894891559773, 0.6068523273368434, 0.12137046546736867, 0.24274093093473734, 0.4684245257202806, 0.11710613143007015, 0.35131839429021045, 0.11710613143007015, 0.23808814531822278, 0.47617629063644556, 0.23808814531822278, 0.19475007125242474, 0.5842502137572743, 0.28369263875574685, 0.5673852775114937, 0.04728210645929114, 0.09456421291858227, 0.9276887921631205, 0.36636219117242946, 0.36636219117242946, 0.7607466237590323, 0.8506776320483795, 0.1701355264096759, 0.6927742788710372, 0.735586343314248, 0.245195447771416, 0.570489425489904, 0.285244712744952, 0.7590201305953475, 0.5876760274780581, 0.29383801373902907, 0.6639629786097326, 0.2213209928699109, 0.62778461570136, 0.31389230785068, 0.48084185839863347, 0.24042092919931674, 0.24042092919931674, 0.8717938456971355, 0.6585559776762966, 0.21951865922543218, 0.10975932961271609, 0.5508180469942447, 0.18360601566474827, 0.244808020886331, 0.7590199587725639, 0.48553431536727426, 0.3641507365254557, 0.12138357884181857, 0.451688575514611, 0.451688575514611, 0.15056285850487033, 0.2577865003999582, 0.5155730007999164, 0.2577865003999582, 0.7590201305953475, 0.7607466410605376, 0.8921681718072622, 0.08110619743702384, 0.7607466335717975, 0.7590201305953475, 0.5604381461438359, 0.3736254307625573, 0.47760419747822175, 0.3690577889604441, 0.1302556902213332, 0.021709281703555534, 0.7590201305953475, 0.7590199729723931, 0.49780718719399175, 0.49780718719399175, 0.7797879415779496, 0.2712277663167548, 0.5424555326335097, 0.36475375268365234, 0.36475375268365234, 0.5167519519594451, 0.5167524803532306, 0.7607466265308873, 0.7607466608160597, 0.7590201305953475, 0.8049527673288132, 0.2012381918322033, 0.5877037727729006, 0.2938518863864503, 0.7607466342634711, 0.37424463262888286, 0.37424463262888286, 0.927691816726853, 0.8717923606790572, 0.43997679165492065, 0.43997679165492065, 0.8717919692211821, 0.7607466503116203, 0.7866934041014442, 0.8717929395675941, 0.2509019755208843, 0.5018039510417686, 0.2509019755208843, 0.39020669867125235, 0.39020669867125235, 0.5151597069851724, 0.9695231269172162, 0.7703237387242383, 0.8520335018674519, 0.9277242052013495, 0.7018308703371382, 0.17789677909185544, 0.5336903372755664, 0.3557935581837109, 0.8291886048370447, 0.43336811752454696, 0.40447690968957717, 0.057782415669939594, 0.11556483133987919, 0.8717926926293054, 0.7590199587725639, 0.7590199913906652, 0.5876760184600187, 0.29383800923000936, 0.3849112675350365, 0.3849112675350365, 0.0769822535070073, 0.1539645070140146, 0.4735984936571772, 0.30138085960002187, 0.043054408514288836, 0.2152720425714442, 0.617854329549418, 0.308927164774709, 0.779788353597814, 0.3738002746559012, 0.3738002746559012, 0.3039717470086163, 0.3039717470086163, 0.3039717470086163, 0.7590201305953475, 0.5696906087022143, 0.28484530435110716, 0.3042290727940425, 0.608458145588085, 0.5465535711683714, 0.36436904744558096, 0.25079342942824584, 0.7523802882847376, 0.6754726643216014, 0.08443408304020017, 0.16886816608040034, 0.9276953997562855, 0.5095563473161632, 0.3397042315441088, 0.1698521157720544], \"Term\": [\"-\", \"aaa\", \"able\", \"able\", \"able\", \"activity\", \"actual\", \"advantage\", \"advice\", \"air\", \"amazing\", \"attribute\", \"awesome\", \"bad\", \"bad\", \"bad\", \"big\", \"big\", \"bit\", \"bit\", \"blu\", \"blue\", \"blue\", \"blue\", \"box\", \"box\", \"buy\", \"cable\", \"cable\", \"card\", \"charge\", \"choke\", \"cod\", \"code\", \"collection\", \"complaint\", \"complicated\", \"condition\", \"condition\", \"condition\", \"console\", \"console\", \"console\", \"console\", \"content\", \"content\", \"content\", \"controller\", \"controller\", \"controller\", \"couple\", \"couple\", \"dashboard\", \"data\", \"day\", \"day\", \"day\", \"day\", \"deal\", \"death\", \"death\", \"defect\", \"defective\", \"description\", \"description\", \"description\", \"device\", \"device\", \"device\", \"diff\", \"difference\", \"dirty\", \"dirty\", \"disc\", \"disc\", \"disc\", \"disc\", \"disk\", \"download\", \"download\", \"download\", \"download\", \"drive\", \"drive\", \"dualshock\", \"early\", \"eject\", \"eject\", \"epic\", \"ergonomic\", \"ethernet\", \"exclusive\", \"failure\", \"fan\", \"fan\", \"fan\", \"feature\", \"fine\", \"fine\", \"fine\", \"finger\", \"firmware\", \"firmware\", \"first\", \"first\", \"first\", \"footprint\", \"force\", \"friend\", \"full\", \"fun\", \"game\", \"game\", \"game\", \"game\", \"gddr5\", \"good\", \"good\", \"good\", \"good\", \"grab\", \"graphic\", \"graphic\", \"graphic\", \"great\", \"great\", \"great\", \"happy\", \"happy\", \"hard\", \"hard\", \"hdd\", \"heat\", \"hole\", \"honest\", \"hour\", \"hour\", \"hour\", \"house\", \"indie\", \"input\", \"instruction\", \"intake\", \"internal\", \"internal\", \"internet\", \"issue\", \"issue\", \"issue\", \"issue\", \"item\", \"item\", \"item\", \"item\", \"jrpgs\", \"killzone\", \"kind\", \"last\", \"last\", \"laughable\", \"library\", \"light\", \"light\", \"light\", \"light\", \"list\", \"little\", \"little\", \"little\", \"little\", \"load\", \"lot\", \"loud\", \"maintenance\", \"make\", \"medium\", \"medium\", \"mine\", \"minute\", \"model\", \"model\", \"model\", \"money\", \"money\", \"money\", \"month\", \"month\", \"month\", \"month\", \"movie\", \"movie\", \"movie\", \"much\", \"much\", \"new\", \"new\", \"new\", \"new\", \"next\", \"none\", \"none\", \"obsessiveness\", \"old\", \"old\", \"order\", \"original\", \"original\", \"other\", \"other\", \"page\", \"paste\", \"paste\", \"pc\", \"pc\", \"people\", \"people\", \"piece\", \"piece\", \"piece\", \"plastic\", \"play\", \"play\", \"play\", \"playstation\", \"playstation\", \"playstation\", \"poor\", \"power\", \"power\", \"power\", \"price\", \"price\", \"price\", \"problem\", \"problem\", \"problem\", \"problem.to\", \"processor\", \"product\", \"product\", \"promising\", \"promotion\", \"ps3\", \"ps3\", \"ps4\", \"ps4\", \"ps4\", \"ps4\", \"psn\", \"ray\", \"refund\", \"refund\", \"region\", \"remote\", \"remote\", \"repair\", \"repair\", \"replacement\", \"roku\", \"run\", \"safe\", \"scheduled\", \"screen\", \"screen\", \"service\", \"service\", \"sharp\", \"short\", \"short\", \"show\", \"shutdown\", \"side\", \"side\", \"situation\", \"sort\", \"sound\", \"space\", \"star\", \"star\", \"star\", \"state\", \"state\", \"stated\", \"steam\", \"storage\", \"store\", \"stupid\", \"sufficient\", \"support\", \"support\", \"support\", \"surface\", \"system\", \"system\", \"system\", \"system\", \"tb\", \"term\", \"that.in\", \"thermal\", \"thermal\", \"thing\", \"thing\", \"thing\", \"thing\", \"time\", \"time\", \"time\", \"time\", \"title\", \"title\", \"trial\", \"turn\", \"turn\", \"tv\", \"tv\", \"tv\", \"undefined\", \"unit\", \"unit\", \"version\", \"version\", \"warranty\", \"warranty\", \"well\", \"well\", \"work\", \"work\", \"work\", \"worth\", \"year\", \"year\", \"year\"]}, \"R\": 30, \"lambda.step\": 0.01, \"plot.opts\": {\"xlab\": \"PC1\", \"ylab\": \"PC2\"}, \"topic.order\": [2, 1, 3, 4]};\n",
       "\n",
       "function LDAvis_load_lib(url, callback){\n",
       "  var s = document.createElement('script');\n",
       "  s.src = url;\n",
       "  s.async = true;\n",
       "  s.onreadystatechange = s.onload = callback;\n",
       "  s.onerror = function(){console.warn(\"failed to load library \" + url);};\n",
       "  document.getElementsByTagName(\"head\")[0].appendChild(s);\n",
       "}\n",
       "\n",
       "if(typeof(LDAvis) !== \"undefined\"){\n",
       "   // already loaded: just create the visualization\n",
       "   !function(LDAvis){\n",
       "       new LDAvis(\"#\" + \"ldavis_el150801886999269152488407543\", ldavis_el150801886999269152488407543_data);\n",
       "   }(LDAvis);\n",
       "}else if(typeof define === \"function\" && define.amd){\n",
       "   // require.js is available: use it to load d3/LDAvis\n",
       "   require.config({paths: {d3: \"https://cdnjs.cloudflare.com/ajax/libs/d3/3.5.5/d3.min\"}});\n",
       "   require([\"d3\"], function(d3){\n",
       "      window.d3 = d3;\n",
       "      LDAvis_load_lib(\"https://cdn.rawgit.com/bmabey/pyLDAvis/files/ldavis.v1.0.0.js\", function(){\n",
       "        new LDAvis(\"#\" + \"ldavis_el150801886999269152488407543\", ldavis_el150801886999269152488407543_data);\n",
       "      });\n",
       "    });\n",
       "}else{\n",
       "    // require.js not available: dynamically load d3 & LDAvis\n",
       "    LDAvis_load_lib(\"https://cdnjs.cloudflare.com/ajax/libs/d3/3.5.5/d3.min.js\", function(){\n",
       "         LDAvis_load_lib(\"https://cdn.rawgit.com/bmabey/pyLDAvis/files/ldavis.v1.0.0.js\", function(){\n",
       "                 new LDAvis(\"#\" + \"ldavis_el150801886999269152488407543\", ldavis_el150801886999269152488407543_data);\n",
       "            })\n",
       "         });\n",
       "}\n",
       "</script>"
      ],
      "text/plain": [
       "PreparedData(topic_coordinates=              x         y  topics  cluster       Freq\n",
       "topic                                                \n",
       "1      0.111155  0.010348       1        1  40.421462\n",
       "0     -0.010930 -0.109029       2        1  28.166165\n",
       "2     -0.089741  0.016495       3        1  15.991088\n",
       "3     -0.010483  0.082186       4        1  15.421285, topic_info=            Term       Freq      Total Category  logprob  loglift\n",
       "353  description   7.000000   7.000000  Default  30.0000  30.0000\n",
       "69   playstation  16.000000  16.000000  Default  29.0000  29.0000\n",
       "105        great  10.000000  10.000000  Default  28.0000  28.0000\n",
       "70           ps4  46.000000  46.000000  Default  27.0000  27.0000\n",
       "39         issue  14.000000  14.000000  Default  26.0000  26.0000\n",
       "..           ...        ...        ...      ...      ...      ...\n",
       "105        great   1.823089  10.174146   Topic4  -5.1056   0.1501\n",
       "7           good   1.735386  17.555071   Topic4  -5.1549  -0.4447\n",
       "358        piece   1.405506   4.159372   Topic4  -5.3658   0.7845\n",
       "326     download   1.400900   4.087630   Topic4  -5.3690   0.7986\n",
       "88          item   1.400274   7.743812   Topic4  -5.3695   0.1592\n",
       "\n",
       "[265 rows x 6 columns], token_table=      Topic      Freq   Term\n",
       "term                        \n",
       "77        1  0.969528      -\n",
       "578       4  0.516519    aaa\n",
       "191       1  0.602150   able\n",
       "191       2  0.240860   able\n",
       "191       3  0.120430   able\n",
       "...     ...       ...    ...\n",
       "47        4  0.168868   work\n",
       "344       2  0.927695  worth\n",
       "95        1  0.509556   year\n",
       "95        2  0.339704   year\n",
       "95        3  0.169852   year\n",
       "\n",
       "[333 rows x 3 columns], R=30, lambda_step=0.01, plot_opts={'xlab': 'PC1', 'ylab': 'PC2'}, topic_order=[2, 1, 3, 4])"
      ]
     },
     "execution_count": 111,
     "metadata": {},
     "output_type": "execute_result"
    }
   ],
   "source": [
    "pyLDAvis.enable_notebook()\n",
    "vis = pyLDAvis.gensim.prepare(lda_model, doc_term_matrix, dictionary)\n",
    "vis"
   ]
  },
  {
   "cell_type": "markdown",
   "metadata": {},
   "source": [
    "As can be seen above, there are 4 topics which are clearly separated. Based on the words within each topic, I can take a reasonable guess to what the topics are about:<br>\n",
    "\n",
    "Topic 1: Possible issues with graphics and complaints about system being old: hard, drive, old, product<br>\n",
    "Topic 2: Possible complaints over the price and length of warranty: disc, money, issue, warranty<br>\n",
    "Topic 3: Issues with product hardware: eject, disc, warranty, sound, issue<br>\n",
    "Topic 4: Calls for refund due to the condition of the PS4 Refund,death, condition<br>\n",
    "\n",
    "It seems to me that most customers complained about the PS4 for the system being old, length of warranty, hardware issues such as disc ejection,and sound.<br>There were also issues with customers wanting a refund for possible product defects."
   ]
  },
  {
   "cell_type": "markdown",
   "metadata": {},
   "source": [
    "#                                              Data Splitting: PS5 Reviews"
   ]
  },
  {
   "cell_type": "markdown",
   "metadata": {},
   "source": [
    "Here, the PS5 reviews are split into the negative set with ratings <= 3:"
   ]
  },
  {
   "cell_type": "code",
   "execution_count": 112,
   "metadata": {},
   "outputs": [
    {
     "data": {
      "text/html": [
       "<div>\n",
       "<style scoped>\n",
       "    .dataframe tbody tr th:only-of-type {\n",
       "        vertical-align: middle;\n",
       "    }\n",
       "\n",
       "    .dataframe tbody tr th {\n",
       "        vertical-align: top;\n",
       "    }\n",
       "\n",
       "    .dataframe thead th {\n",
       "        text-align: right;\n",
       "    }\n",
       "</style>\n",
       "<table border=\"1\" class=\"dataframe\">\n",
       "  <thead>\n",
       "    <tr style=\"text-align: right;\">\n",
       "      <th></th>\n",
       "      <th>Rating</th>\n",
       "      <th>Comment</th>\n",
       "    </tr>\n",
       "  </thead>\n",
       "  <tbody>\n",
       "    <tr>\n",
       "      <th>0</th>\n",
       "      <td>1</td>\n",
       "      <td>This will no doubt come off as someo...</td>\n",
       "    </tr>\n",
       "    <tr>\n",
       "      <th>1</th>\n",
       "      <td>1</td>\n",
       "      <td>Taking advantage of high demand</td>\n",
       "    </tr>\n",
       "    <tr>\n",
       "      <th>2</th>\n",
       "      <td>1</td>\n",
       "      <td>I wait all night just to purchase th...</td>\n",
       "    </tr>\n",
       "    <tr>\n",
       "      <th>3</th>\n",
       "      <td>1</td>\n",
       "      <td>Between Nvidia, Sony and Microsoft, ...</td>\n",
       "    </tr>\n",
       "    <tr>\n",
       "      <th>4</th>\n",
       "      <td>1</td>\n",
       "      <td>I've been a PlayStation guy for a lo...</td>\n",
       "    </tr>\n",
       "  </tbody>\n",
       "</table>\n",
       "</div>"
      ],
      "text/plain": [
       "   Rating                                            Comment\n",
       "0       1            This will no doubt come off as someo...\n",
       "1       1                  Taking advantage of high demand  \n",
       "2       1            I wait all night just to purchase th...\n",
       "3       1            Between Nvidia, Sony and Microsoft, ...\n",
       "4       1            I've been a PlayStation guy for a lo..."
      ]
     },
     "execution_count": 112,
     "metadata": {},
     "output_type": "execute_result"
    }
   ],
   "source": [
    "negative =  ps5reviews['Rating'] <= 3\n",
    "ps5reviews_negative = ps5reviews[negative]\n",
    "ps5reviews_negative.head(5)"
   ]
  },
  {
   "cell_type": "code",
   "execution_count": 113,
   "metadata": {},
   "outputs": [
    {
     "data": {
      "text/plain": [
       "(339, 2)"
      ]
     },
     "execution_count": 113,
     "metadata": {},
     "output_type": "execute_result"
    }
   ],
   "source": [
    "ps5reviews_negative.shape"
   ]
  },
  {
   "cell_type": "markdown",
   "metadata": {},
   "source": [
    "There are 339 reviews with 2 columns in the dataframe."
   ]
  },
  {
   "cell_type": "markdown",
   "metadata": {},
   "source": [
    "Here, the PS5 reviews are split into the positive set with ratings >= 4:"
   ]
  },
  {
   "cell_type": "code",
   "execution_count": 114,
   "metadata": {},
   "outputs": [
    {
     "data": {
      "text/html": [
       "<div>\n",
       "<style scoped>\n",
       "    .dataframe tbody tr th:only-of-type {\n",
       "        vertical-align: middle;\n",
       "    }\n",
       "\n",
       "    .dataframe tbody tr th {\n",
       "        vertical-align: top;\n",
       "    }\n",
       "\n",
       "    .dataframe thead th {\n",
       "        text-align: right;\n",
       "    }\n",
       "</style>\n",
       "<table border=\"1\" class=\"dataframe\">\n",
       "  <thead>\n",
       "    <tr style=\"text-align: right;\">\n",
       "      <th></th>\n",
       "      <th>Rating</th>\n",
       "      <th>Comment</th>\n",
       "    </tr>\n",
       "  </thead>\n",
       "  <tbody>\n",
       "    <tr>\n",
       "      <th>58</th>\n",
       "      <td>5</td>\n",
       "      <td>We all know what this console is cap...</td>\n",
       "    </tr>\n",
       "    <tr>\n",
       "      <th>59</th>\n",
       "      <td>5</td>\n",
       "      <td>Going over hardware and software. No...</td>\n",
       "    </tr>\n",
       "    <tr>\n",
       "      <th>88</th>\n",
       "      <td>4</td>\n",
       "      <td>I was so excited to have been able t...</td>\n",
       "    </tr>\n",
       "    <tr>\n",
       "      <th>98</th>\n",
       "      <td>5</td>\n",
       "      <td>Absolutely incredible, the haptic fe...</td>\n",
       "    </tr>\n",
       "    <tr>\n",
       "      <th>109</th>\n",
       "      <td>5</td>\n",
       "      <td>Glad to have gotten the PS5 so early...</td>\n",
       "    </tr>\n",
       "  </tbody>\n",
       "</table>\n",
       "</div>"
      ],
      "text/plain": [
       "     Rating                                            Comment\n",
       "58        5            We all know what this console is cap...\n",
       "59        5            Going over hardware and software. No...\n",
       "88        4            I was so excited to have been able t...\n",
       "98        5            Absolutely incredible, the haptic fe...\n",
       "109       5            Glad to have gotten the PS5 so early..."
      ]
     },
     "execution_count": 114,
     "metadata": {},
     "output_type": "execute_result"
    }
   ],
   "source": [
    "positive =  ps5reviews['Rating'] >= 4\n",
    "ps5reviews_positive = ps5reviews[positive]\n",
    "ps5reviews_positive.head(5)"
   ]
  },
  {
   "cell_type": "code",
   "execution_count": 115,
   "metadata": {},
   "outputs": [
    {
     "data": {
      "text/plain": [
       "(742, 2)"
      ]
     },
     "execution_count": 115,
     "metadata": {},
     "output_type": "execute_result"
    }
   ],
   "source": [
    "ps5reviews_positive.shape"
   ]
  },
  {
   "cell_type": "markdown",
   "metadata": {},
   "source": [
    "There are 742 reviews and 2 columsn in the dataframe."
   ]
  },
  {
   "cell_type": "markdown",
   "metadata": {},
   "source": [
    "#                                                    Data Cleaning (PS5 Positive Reviews)\n",
    "\n",
    "The following section is done in order to prepare the PS5 positive reviews for the LDA model.<br>\n",
    "The data will need to be split, tokenized, and lemmatized in order to prepare it for the model.<br>\n",
    "Visualizations will also be built in order to take a better look at the data."
   ]
  },
  {
   "cell_type": "markdown",
   "metadata": {},
   "source": [
    "The following produces a frequency bar graph for the PS5 positive reviews:"
   ]
  },
  {
   "cell_type": "code",
   "execution_count": 116,
   "metadata": {},
   "outputs": [
    {
     "data": {
      "image/png": "[encoded data removed]",
      "text/plain": [
       "<Figure size 1440x360 with 1 Axes>"
      ]
     },
     "metadata": {
      "needs_background": "light"
     },
     "output_type": "display_data"
    }
   ],
   "source": [
    "freq_words(ps5reviews_positive['Comment'])"
   ]
  },
  {
   "cell_type": "markdown",
   "metadata": {},
   "source": [
    "Looking above, it seems most of the most frequent words are \"the\", \"and\", and \"for\".<br>But these are not necessary words because these words don't show true sentiment.<br>The dataset will need to be cleaned further in order to prepare this dataset for the model."
   ]
  },
  {
   "cell_type": "markdown",
   "metadata": {},
   "source": [
    "The following code is run in order to remove the characters and symbols from the review dataset:"
   ]
  },
  {
   "cell_type": "code",
   "execution_count": 117,
   "metadata": {},
   "outputs": [],
   "source": [
    "ps5reviews_positive['Comment'] = ps5reviews_positive['Comment'].str.replace(\"[^a-zA-Z#]\",\" \")"
   ]
  },
  {
   "cell_type": "markdown",
   "metadata": {},
   "source": [
    "The following code is run in order to remove short words (length < 3) to make the data cleaner:"
   ]
  },
  {
   "cell_type": "code",
   "execution_count": 118,
   "metadata": {},
   "outputs": [],
   "source": [
    "ps5reviews_positive['Comment'] = ps5reviews_positive['Comment'].apply(lambda x: ' '.join([w for w in x.split() if len(w) > 2]))"
   ]
  },
  {
   "cell_type": "markdown",
   "metadata": {},
   "source": [
    "The following code is run in order to remove the stopwords from the data:"
   ]
  },
  {
   "cell_type": "code",
   "execution_count": 119,
   "metadata": {},
   "outputs": [],
   "source": [
    "reviews = [remove_stopwords(r.split()) for r in ps5reviews_positive['Comment']]"
   ]
  },
  {
   "cell_type": "markdown",
   "metadata": {},
   "source": [
    "This code is run to make the text lowercase:"
   ]
  },
  {
   "cell_type": "code",
   "execution_count": 120,
   "metadata": {},
   "outputs": [],
   "source": [
    "reviews = [r.lower() for r in reviews]"
   ]
  },
  {
   "cell_type": "code",
   "execution_count": 121,
   "metadata": {},
   "outputs": [
    {
     "data": {
      "image/png": "[encoded data removed]",
      "text/plain": [
       "<Figure size 1440x360 with 1 Axes>"
      ]
     },
     "metadata": {
      "needs_background": "light"
     },
     "output_type": "display_data"
    }
   ],
   "source": [
    "freq_words(reviews, 20)"
   ]
  },
  {
   "cell_type": "markdown",
   "metadata": {},
   "source": [
    "Re-running a frequency bar graph on the data, it seems the stopwords have been removed and the reviews are getting closer to be used for the model.<br>The next step is to lemmatize the data."
   ]
  },
  {
   "cell_type": "markdown",
   "metadata": {},
   "source": [
    "The following code is run in order to separate the text into tokens:"
   ]
  },
  {
   "cell_type": "code",
   "execution_count": 122,
   "metadata": {},
   "outputs": [
    {
     "name": "stdout",
     "output_type": "stream",
     "text": [
      "['going', 'hardware', 'software', 'not', 'going', 'every', 'exact', 'technical', 'specs', 'easily', 'look', 'software', 'change', 'overtime', 'review', 'software', 'launch', 'hardware', 'hiccups', 'failures', 'near', 'future', 'update', 'review', 'hardware', 'physical', 'looks', 'futuristic', 'yet', 'tacky', 'personal', 'opinion', 'looks', 'really', 'matter', 'long', 'play', 'next', 'gen', 'games', 'welllarge', 'console', 'standing', 'tallest', 'home', 'video', 'console', 'lot', 'air', 'vents', 'throughout', 'making', 'aerodynamic', 'cool', 'quiet', 'overheat', 'get', 'hot', 'consecutive', 'gameplay', 'hours', 'this', 'may', 'change', 'future', 'games', 'require', 'performance', 'system', 'similar', 'fate', 'like', 'whisper', 'quiet', 'beginning', 'became', 'louder', 'years', 'graphical', 'intensive', 'games', 'has', 'led', 'lights', 'giving', 'look', 'face', 'plate', 'easy', 'take', 'future', 'customization', 'options', 'free', 'download', 'space', 'consoleswapping', 'sdd', 'easy', 'xbox', 'series', 'plug', 'play', 'method', 'remove', 'screws', 'upside', 'standard', 'propriety', 'sdd', 'compatible', 'games', 'external', 'sdd', 'plug', 'transfer', 'internal', 'storagecomes', 'stand', 'console', 'entirely', 'flat', 'stand', 'required', 'horizontal', 'position', 'you', 'console', 'vertical', 'position', 'without', 'stand', 'grip', 'rubber', 'feet', 'may', 'slide', 'bumped', 'earthquakefront', 'console', 'usb', 'usb', 'power', 'eject', 'buttonback', 'console', 'two', 'usb', 'super', 'speed', 'lan', 'port', 'hdmi', 'power', 'portwished', 'usb', 'ports', 'future', 'proof', 'guess', 'kept', 'usb', 'current', 'accessories', 'backwards', 'compatible', 'disappointed', 'official', 'pulse', 'headset', 'camera', 'uses', 'usb', 'also', 'optical', 'audio', 'port', 'means', 'use', 'surround', 'sound', 'headsets', 'load', 'times', 'games', 'instantaneous', 'games', 'load', 'much', 'faster', 'even', 'without', 'optimized', 'patch', 'ray', 'tracing', 'giving', 'games', 'realistic', 'lighting', 'effects', 'controller', 'console', 'comes', 'one', 'controllerphysically', 'larger', 'past', 'duelshock', 'controllers', 'great', 'adult', 'sized', 'handsgreat', 'tech', 'demo', 'included', 'astro', 'playroom', 'haptic', 'feedback', 'similar', 'nintendo', 'switch', 'rumble', 'apparent', 'not', 'sure', 'developers', 'implement', 'future', 'games', 'even', 'nintendo', 'first', 'party', 'switch', 'mario', 'party', 'recall', 'used', 'rumble', 'great', 'extent', 'dropped', 'adaptive', 'triggers', 'will', 'feel', 'resistance', 'push', 'back', 'triggers', 'developers', 'implement', 'game', 'hope', 'haptic', 'feedback', 'adaptive', 'triggers', 'say', 'entire', 'lifespan', 'transfer', 'instead', 'dropping', 'like', 'six', 'axis', 'light', 'bar', 'has', 'built', 'mic', 'sound', 'quality', 'similar', 'current', 'smart', 'phone', 'speaker', 'has', 'mute', 'buttonsimilar', 'speaker', 'touch', 'pad', 'touch', 'pad', 'sensitive', 'time', 'aroundabout', 'double', 'battery', 'life', 'controller', 'able', 'get', 'consecutive', 'hourswished', 'came', 'back', 'paddle', 'buttons', 'hopefully', 'release', 'dualsense', 'back', 'button', 'attachment', 'like', 'dualshock', 'you', 'play', 'games', 'dualshock', 'dualsense', 'games', 'played', 'dualsense', 'softwareui', 'similar', 'scrolling', 'apps', 'games', 'left', 'right', 'there', 'activity', 'row', 'track', 'progress', 'gamesother', 'rows', 'news', 'psn', 'storethere', 'notifications', 'popups', 'turn', 'not', 'disturb', 'modesimilar', 'phone', 'swipe', 'tool', 'bar', 'basic', 'profile', 'trophy', 'list', 'avatar', 'user', 'info', 'etc', 'accessibility', 'options', 'sound', 'game', 'base', 'internet', 'wifi', 'select', 'controllers', 'see', 'connected', 'controllers', 'etc', 'home', 'screen', 'easy', 'access', 'game', 'base', 'section', 'make', 'party', 'friends', 'chat', 'view', 'friend', 'requests', 'share', 'button', 'time', 'around', 'pull', 'menu', 'take', 'snap', 'shot', 'record', 'video', 'save', 'video', 'previously', 'played', 'game', 'session', 'minsthere', 'your', 'accolades', 'feature', 'give', 'props', 'players', 'reminds', 'give', 'endorsements', 'sportsmanship', 'good', 'teammate', 'shot', 'caller', 'overwatch', 'encourage', 'positivity', 'online', 'community', 'for', 'helpful', 'welcoming', 'good', 'sportthere', 'accessibility', 'options', 'preferences', 'setup', 'transfers', 'gamesthere', 'switcher', 'option', 'change', 'games', 'fly', 'unlike', 'xbox', 'series', 'quick', 'resume', 'leave', 'left', 'boot', 'back', 'home', 'screen', 'gamepicture', 'picture', 'mode', 'want', 'friends', 'help', 'show', 'get', 'levelsps', 'games', 'load', 'faster', 'downloaded', 'ssd', 'graphical', 'upgrade', 'depends', 'publisher', 'implement', 'upgrade', 'patch', 'for', 'trophies', 'trophies', 'collectables', 'progress', 'bar', 'showing', 'much', 'left', 'collect', 'there', 'also', 'tutorial', 'videos', 'games', 'implement', 'some', 'trophies', 'selected', 'drop', 'level', 'section', 'obtain', 'trophy', 'again', 'depends', 'game', 'developer', 'implement', 'trophies', 'act', 'samebase', 'price', 'games', 'last', 'gen', 'excluding', 'special', 'collector', 'editions', 'dlc', 'micro', 'transactions', 'loot', 'crates', 'surprise', 'mechanicsoverall', 'aside', 'odd', 'design', 'choices', 'capable', 'next', 'gen', 'system', 'there', 'features', 'especially', 'controller', 'developers', 'utilize', 'may', 'present', 'games', 'anything', 'like', 'going', 'thousands', 'gameplay', 'hours', 'system']\n"
     ]
    }
   ],
   "source": [
    "tokenized_reviews = pd.Series(reviews).apply(lambda x: x.split())\n",
    "print(tokenized_reviews[1])"
   ]
  },
  {
   "cell_type": "markdown",
   "metadata": {},
   "source": [
    "This code is run in order to lemmatize the data:"
   ]
  },
  {
   "cell_type": "code",
   "execution_count": 123,
   "metadata": {},
   "outputs": [
    {
     "name": "stdout",
     "output_type": "stream",
     "text": [
      "['hardware', 'software', 'exact', 'technical', 'spec', 'software', 'change', 'overtime', 'software', 'failure', 'future', 'update', 'futuristic', 'tacky', 'personal', 'opinion', 'long', 'play', 'home', 'video', 'console', 'lot', 'air', 'vent', 'aerodynamic', 'cool', 'quiet', 'overheat', 'hot', 'consecutive', 'gameplay', 'hour', 'future', 'game', 'performance', 'system', 'similar', 'fate', 'whisper', 'quiet', 'beginning', 'loud', 'year', 'graphical', 'intensive', 'game', 'light', 'look', 'face', 'plate', 'future', 'customization', 'option', 'free', 'download', 'space', 'play', 'method', 'screw', 'upside', 'standard', 'compatible', 'sdd', 'transfer', 'internal', 'storagecome', 'console', 'flat', 'stand', 'required', 'horizontal', 'position', 'vertical', 'position', 'stand', 'grip', 'rubber', 'foot', 'super', 'speed', 'port', 'future', 'proof', 'guess', 'current', 'accessory', 'compatible', 'disappointed', 'official', 'pulse', 'headset', 'camera', 'optical', 'audio', 'port', 'surround', 'sound', 'headset', 'load', 'time', 'instantaneous', 'game', 'optimized', 'patch', 'ray', 'giving', 'game', 'realistic', 'lighting', 'large', 'past', 'duelshock', 'controller', 'great', 'adult', 'sized', 'handsgreat', 'tech', 'demo', 'haptic', 'feedback', 'similar', 'nintendo', 'switch', 'rumble', 'apparent', 'sure', 'developer', 'future', 'game', 'nintendo', 'recall', 'great', 'extent', 'adaptive', 'trigger', 'resistance', 'trigger', 'developer', 'game', 'haptic', 'feedback', 'adaptive', 'trigger', 'entire', 'lifespan', 'transfer', 'light', 'bar', 'quality', 'similar', 'current', 'smart', 'phone', 'speaker', 'mute', 'pad', 'touch', 'pad', 'sensitive', 'time', 'double', 'battery', 'life', 'controller', 'able', 'consecutive', 'hourswished', 'paddle', 'button', 'dualsense', 'button', 'attachment', 'dualshock', 'game', 'dualsense', 'game', 'similar', 'scrolling', 'app', 'game', 'activity', 'row', 'progress', 'gamesother', 'news', 'psn', 'notification', 'popup', 'modesimilar', 'phone', 'swipe', 'tool', 'bar', 'basic', 'profile', 'trophy', 'list', 'info', 'accessibility', 'option', 'internet', 'select', 'controller', 'connected', 'controller', 'home', 'screen', 'easy', 'access', 'game', 'section', 'party', 'friend', 'chat', 'view', 'friend', 'request', 'share', 'button', 'time', 'record', 'video', 'save', 'video', 'game', 'session', 'minsthere', 'accolade', 'feature', 'prop', 'player', 'remind', 'endorsement', 'sportsmanship', 'good', 'positivity', 'online', 'community', 'helpful', 'good', 'accessibility', 'option', 'preference', 'setup', 'transfer', 'switcher', 'option', 'change', 'game', 'quick', 'resume', 'boot', 'home', 'screen', 'gamepicture', 'picture', 'mode', 'friend', 'levelsp', 'game', 'load', 'ssd', 'graphical', 'upgrade', 'publisher', 'upgrade', 'patch', 'trophy', 'progress', 'bar', 'collect', 'tutorial', 'video', 'game', 'trophy', 'drop', 'level', 'section', 'trophy', 'game', 'developer', 'samebase', 'price', 'game', 'last', 'special', 'collector', 'edition', 'transaction', 'loot', 'crate', 'mechanicsoverall', 'odd', 'design', 'choice', 'capable', 'next', 'system', 'controller', 'developer', 'game', 'thousand', 'gameplay', 'hour', 'system']\n"
     ]
    }
   ],
   "source": [
    "reviews_2 = lemmatization(tokenized_reviews)\n",
    "print(reviews_2[1]) "
   ]
  },
  {
   "cell_type": "markdown",
   "metadata": {},
   "source": [
    "The following code is run in order to append the reviews to a new dataframe in order to show a frequency graph \n",
    "of the lemmatized reviews later on:"
   ]
  },
  {
   "cell_type": "code",
   "execution_count": 124,
   "metadata": {},
   "outputs": [],
   "source": [
    "reviews_3 = []\n",
    "for i in range(len(reviews_2)):\n",
    "    reviews_3.append(' '.join(reviews_2[i]))\n",
    "\n",
    "ps5reviews_positive['reviews'] = reviews_3"
   ]
  },
  {
   "cell_type": "code",
   "execution_count": 125,
   "metadata": {},
   "outputs": [
    {
     "data": {
      "image/png": "[encoded data removed]",
      "text/plain": [
       "<Figure size 1440x360 with 1 Axes>"
      ]
     },
     "metadata": {
      "needs_background": "light"
     },
     "output_type": "display_data"
    }
   ],
   "source": [
    "freq_words(ps5reviews_positive['reviews'], 20)"
   ]
  },
  {
   "cell_type": "markdown",
   "metadata": {},
   "source": [
    "As can be seen, the tokens are now cleaner as words such as \"game\", \"system\", and \"console\" are now clearly showing in the dataset.<br> The dataset is now ready for model building."
   ]
  },
  {
   "cell_type": "markdown",
   "metadata": {},
   "source": [
    "#                                                        LDA Model (PS5 Positive Reviews)\n",
    "\n",
    "The code below is run in order to incorporate the reviews into a dictionary in order to set up the LDA Model."
   ]
  },
  {
   "cell_type": "code",
   "execution_count": 126,
   "metadata": {},
   "outputs": [],
   "source": [
    "dictionary = corpora.Dictionary(reviews_2)\n",
    "doc_term_matrix = [dictionary.doc2bow(rev) for rev in reviews_2]"
   ]
  },
  {
   "cell_type": "markdown",
   "metadata": {},
   "source": [
    "Next, the LDA Model is imported and the next lines of code are run in order to build the model.<br>\n",
    "The number of topics chosen through trial and error were 4."
   ]
  },
  {
   "cell_type": "code",
   "execution_count": 127,
   "metadata": {},
   "outputs": [],
   "source": [
    "LDA = gensim.models.ldamodel.LdaModel\n",
    "\n",
    "lda_model = LDA(corpus = doc_term_matrix, \n",
    "                id2word = dictionary,\n",
    "                num_topics = 4,\n",
    "                random_state = 100,\n",
    "                chunksize = 1000,\n",
    "                passes = 50)"
   ]
  },
  {
   "cell_type": "markdown",
   "metadata": {},
   "source": [
    "Here, this code is being run to print the topics and the words associated with it:"
   ]
  },
  {
   "cell_type": "code",
   "execution_count": 128,
   "metadata": {},
   "outputs": [
    {
     "data": {
      "text/plain": [
       "[(0,\n",
       "  '0.036*\"console\" + 0.028*\"game\" + 0.017*\"love\" + 0.014*\"new\" + 0.012*\"controller\" + 0.011*\"great\" + 0.010*\"next\" + 0.010*\"design\" + 0.010*\"generation\" + 0.009*\"good\"'),\n",
       " (1,\n",
       "  '0.036*\"console\" + 0.030*\"great\" + 0.026*\"good\" + 0.019*\"game\" + 0.018*\"time\" + 0.015*\"day\" + 0.014*\"controller\" + 0.012*\"system\" + 0.012*\"able\" + 0.010*\"lucky\"'),\n",
       " (2,\n",
       "  '0.041*\"game\" + 0.019*\"day\" + 0.018*\"playstation\" + 0.016*\"graphic\" + 0.016*\"good\" + 0.016*\"worth\" + 0.014*\"console\" + 0.013*\"time\" + 0.011*\"play\" + 0.011*\"nice\"'),\n",
       " (3,\n",
       "  '0.046*\"game\" + 0.019*\"console\" + 0.018*\"system\" + 0.017*\"amazing\" + 0.015*\"time\" + 0.014*\"next\" + 0.013*\"controller\" + 0.012*\"new\" + 0.011*\"great\" + 0.010*\"good\"')]"
      ]
     },
     "execution_count": 128,
     "metadata": {},
     "output_type": "execute_result"
    }
   ],
   "source": [
    "lda_model.print_topics()"
   ]
  },
  {
   "cell_type": "markdown",
   "metadata": {},
   "source": [
    "This code is run to visualize the LDA model into a graphical bubble plot:"
   ]
  },
  {
   "cell_type": "code",
   "execution_count": 129,
   "metadata": {},
   "outputs": [
    {
     "data": {
      "text/html": [
       "\n",
       "<link rel=\"stylesheet\" type=\"text/css\" href=\"https://cdn.rawgit.com/bmabey/pyLDAvis/files/ldavis.v1.0.0.css\">\n",
       "\n",
       "\n",
       "<div id=\"ldavis_el1508018870401534082823265241\"></div>\n",
       "<script type=\"text/javascript\">\n",
       "\n",
       "var ldavis_el1508018870401534082823265241_data = {\"mdsDat\": {\"x\": [0.015085545339251086, 0.11511995858014736, -0.06988534610921178, -0.06032015781018661], \"y\": [-0.031585938060792115, 0.009554498603618228, -0.07375887436637989, 0.09579031382355373], \"topics\": [1, 2, 3, 4], \"cluster\": [1, 1, 1, 1], \"Freq\": [43.221735733909064, 22.512538285208635, 21.167706286286464, 13.098019694595836]}, \"tinfo\": {\"Term\": [\"great\", \"day\", \"love\", \"console\", \"graphic\", \"worth\", \"game\", \"good\", \"playstation\", \"order\", \"design\", \"thing\", \"next\", \"lot\", \"nice\", \"lucky\", \"purchase\", \"future\", \"fun\", \"able\", \"play\", \"happy\", \"shipping\", \"time\", \"release\", \"people\", \"generation\", \"version\", \"unit\", \"problem\", \"version\", \"device\", \"thought\", \"warzone\", \"plan\", \"impossible\", \"black\", \"war\", \"extra\", \"awesome\", \"harmony\", \"feel\", \"score\", \"word\", \"enough\", \"apple\", \"frame\", \"looking\", \"covid\", \"world\", \"fidelity\", \"expansion\", \"delete\", \"folk\", \"exceptional\", \"care\", \"gun\", \"show\", \"crash\", \"talk\", \"external\", \"simple\", \"sense\", \"storage\", \"title\", \"bit\", \"feedback\", \"next\", \"rate\", \"amazing\", \"system\", \"game\", \"drive\", \"load\", \"dual\", \"year\", \"haptic\", \"hand\", \"ssd\", \"new\", \"time\", \"thing\", \"controller\", \"experience\", \"worth\", \"quiet\", \"fast\", \"console\", \"great\", \"trigger\", \"good\", \"way\", \"big\", \"issue\", \"day\", \"playstation\", \"able\", \"theme\", \"graphical\", \"bar\", \"view\", \"design\", \"flat\", \"progress\", \"aspect\", \"few\", \"attempt\", \"account\", \"art\", \"limit\", \"extent\", \"exact\", \"plate\", \"touch\", \"amazed\", \"spring\", \"style\", \"drop\", \"bug\", \"tiny\", \"son\", \"packaging\", \"concept\", \"bold\", \"uninspired\", \"variety\", \"alternative\", \"powerful\", \"love\", \"generation\", \"brand\", \"snappy\", \"technology\", \"top\", \"developer\", \"console\", \"home\", \"piece\", \"port\", \"new\", \"set\", \"machine\", \"player\", \"platform\", \"performance\", \"future\", \"moment\", \"big\", \"game\", \"next\", \"overall\", \"controller\", \"feature\", \"great\", \"dualsense\", \"playstation\", \"upgrade\", \"cool\", \"last\", \"good\", \"transfer\", \"space\", \"hard\", \"speed\", \"button\", \"incredible\", \"drive\", \"issue\", \"time\", \"play\", \"launch\", \"way\", \"amazing\", \"item\", \"valhalla\", \"today\", \"surprised\", \"processing\", \"fault\", \"unit\", \"notification\", \"negative\", \"teen\", \"defective\", \"server\", \"acv\", \"running\", \"magic\", \"feed\", \"timer\", \"fortune\", \"missing\", \"fair\", \"nervous\", \"assassin\", \"mid\", \"pleasant\", \"enjoyable\", \"walk\", \"stress\", \"finding\", \"bonus\", \"feeling\", \"part\", \"date\", \"gift\", \"lucky\", \"jet\", \"happy\", \"cable\", \"night\", \"problem\", \"available\", \"great\", \"able\", \"outstanding\", \"luck\", \"retail\", \"people\", \"good\", \"engine\", \"purchase\", \"thank\", \"order\", \"console\", \"day\", \"pre\", \"time\", \"huge\", \"graphic\", \"fast\", \"controller\", \"delivery\", \"system\", \"issue\", \"launch\", \"game\", \"amazing\", \"stock\", \"old\", \"easy\", \"quiet\", \"load\", \"new\", \"big\", \"thing\", \"satisfied\", \"pleased\", \"morning\", \"status\", \"shipping\", \"dollar\", \"meaning\", \"mommy\", \"expected\", \"seamless\", \"self\", \"join\", \"powering\", \"gen\", \"shocked\", \"junk\", \"shiny\", \"hype\", \"brother\", \"young\", \"fun\", \"driver\", \"blast\", \"trouble\", \"hesitant\", \"tracker\", \"track\", \"undamaged\", \"informative\", \"shout\", \"nice\", \"secure\", \"job\", \"fps\", \"worth\", \"release\", \"lot\", \"graphic\", \"playstation\", \"order\", \"day\", \"play\", \"game\", \"future\", \"thing\", \"perfect\", \"good\", \"process\", \"video\", \"changer\", \"complaint\", \"love\", \"time\", \"little\", \"pre\", \"console\", \"system\", \"amazing\", \"well\", \"controller\", \"issue\", \"launch\", \"fast\", \"gaming\", \"review\"], \"Freq\": [154.0, 93.0, 66.0, 286.0, 66.0, 61.0, 393.0, 156.0, 74.0, 42.0, 28.0, 62.0, 91.0, 37.0, 26.0, 38.0, 43.0, 35.0, 16.0, 58.0, 56.0, 34.0, 13.0, 146.0, 27.0, 40.0, 42.0, 27.0, 16.0, 26.0, 27.231436328926144, 10.126088039767794, 6.527308649991366, 6.5264062624910535, 6.519864092629477, 6.515331506805394, 7.303409335596066, 6.479153413502801, 12.833462604559701, 36.2427794744761, 5.627414574138099, 12.708356092611544, 4.726909419550854, 4.7193655270157695, 12.570336008148086, 4.69729693474621, 16.416065986862986, 5.407062931042186, 5.40555281318452, 10.033287781618721, 3.8264014746497548, 3.826400079492828, 3.826369944103207, 3.8246868267866057, 3.824679013907815, 3.8224275096591986, 3.822095183279213, 3.8174255930449097, 8.314904246282415, 3.7969315748830392, 18.231588160328226, 9.808788057947778, 20.310065046871685, 29.748462379366313, 23.21977754658226, 23.220634730998142, 26.23278969741092, 64.80421778568176, 9.228352550711813, 80.52840424611428, 86.80074406127694, 221.58442161452217, 29.682331941031684, 41.64930945557222, 15.690249547217286, 27.072725509174123, 26.42903358687293, 29.48917302256642, 19.518048969107785, 57.367839391760356, 69.9383461671163, 35.971692670702424, 63.02590388939393, 27.24565130382285, 33.23957360265518, 23.346683252903336, 36.28521233531333, 89.65694503802524, 54.45896175395483, 21.048873187820593, 48.79332099614546, 25.830683148570145, 28.160867551110005, 28.510976043222787, 26.987069570616274, 24.584147266536032, 23.533511507297145, 6.973472048345758, 5.287960980646415, 4.442687924356602, 4.399187775905567, 24.860104190412677, 3.596398092464017, 3.5907038002803935, 3.5792692895137077, 2.7501050631638764, 2.7501050631638764, 2.7490850901535477, 2.7448895100933934, 2.744500879738646, 2.7446473791393884, 2.743810239706574, 2.7442456684810033, 2.7406328886162634, 2.7393071271742264, 2.7385839317197673, 2.7342183077123225, 2.7320516280830867, 5.276446244017417, 5.2348875032996345, 5.286629696409508, 4.449264410352236, 1.903804767028381, 1.903804621691674, 1.903804621691674, 1.903804621691674, 1.903804621691674, 5.07061865540196, 42.324774457328985, 24.674045300695038, 3.6074599599137347, 3.5447596697630024, 6.611044739192132, 5.198802724317533, 8.834788791751249, 89.97092803638488, 6.907826945836051, 5.978787625050242, 8.66583719515127, 36.06556430673123, 6.280031668601698, 5.869000276517596, 8.689714272084988, 5.00663504212766, 12.617132992648207, 14.413729556347887, 4.9126091688050595, 20.641367923391968, 68.76028437019326, 25.272239560123804, 10.530854792465993, 30.927702426388453, 9.825798521744805, 28.700223220457232, 6.921770549513868, 17.4671991256196, 10.207810824198491, 8.810578603084888, 9.377017373362227, 22.163782719746404, 7.270007763934459, 9.194100663251781, 9.685563133077675, 9.664148641308818, 7.892391864890594, 9.078008608365751, 10.597713165806452, 12.032596895604541, 15.249780707899689, 11.339979121622587, 10.451232368162428, 10.082406174469227, 9.578780184953906, 6.793595603206253, 5.145759907234346, 4.312984919902842, 3.472645273614749, 3.444736552439336, 2.676078048907347, 13.48120508142307, 8.223880803325166, 5.072023204104931, 1.8535574954844245, 1.8535565389013495, 1.8535559922824496, 1.8535559922824496, 1.8535386371323757, 1.8535263382071265, 1.8535231951484519, 1.853519368816152, 1.853446395193007, 1.853417014427134, 1.8533967895278354, 1.852364773044705, 1.852322273425233, 1.8523131175586587, 1.85228933963651, 1.8498429467497255, 1.8495592515406447, 1.8495435362472707, 1.8493091733939115, 1.8462010983287218, 1.8456322047085851, 12.434846411595604, 9.875712283455801, 3.498726374498136, 23.375809607299395, 5.148990971552028, 20.83014635533028, 6.213151379094591, 5.964862316021075, 15.911801775236562, 12.906839806097897, 69.88339846667428, 29.004466862852496, 3.3994726811900957, 8.788947544543067, 8.04822044687084, 20.141522424583634, 61.84920699387099, 4.309650271303617, 20.2648155971837, 6.358913868196537, 19.512403427286962, 85.54836791820573, 34.86951930083482, 9.067818295212815, 42.02037900424902, 12.453351647834953, 21.923058370392, 22.79598907535259, 31.84127683274673, 10.68447102279853, 29.01525711993777, 18.696642499835708, 14.951230568807096, 43.54806513291455, 22.25605204482269, 11.33623206816947, 10.502132076624456, 10.665797427937992, 11.59143094075742, 12.90813419965301, 13.032125951207227, 11.947282031108964, 11.16388094253552, 4.018071664345676, 3.2529877296023506, 2.489862166203925, 2.4884943503630312, 10.623027405415696, 4.676120627205124, 1.7237310608761762, 1.7237104286392093, 1.7236331423089313, 1.7216020507845573, 1.720360057765823, 1.718847139799374, 1.717780520794859, 1.716714240023737, 1.7160648319093659, 1.7160590819416865, 1.7080936855388549, 5.4047731049656305, 3.840887086774016, 1.5875895834828522, 10.678231153937945, 2.4932898234075895, 1.5044935873316725, 2.4751562856306544, 0.9575214854012744, 0.9575214854012744, 0.9575214854012744, 0.9575214854012744, 0.9575214854012744, 0.9575214008429261, 15.552099934302966, 2.3592335548815035, 5.969542033330329, 2.4879218903455453, 22.588922556664876, 11.307914173301704, 14.6184120649325, 23.590534455997833, 25.806726234037427, 14.975202294702209, 27.21468631986803, 16.173076149666652, 59.62829588708163, 11.175170419456773, 15.512583450543492, 6.026351714002075, 23.414163329736102, 3.236166368273177, 4.9117603909049965, 3.435875598645117, 4.680768292256984, 12.38166381420592, 19.39436092511895, 7.850898987600241, 5.5578328475551935, 20.91217515816326, 13.396159699941283, 10.910838993503848, 6.208293544244896, 9.820652562638188, 7.98908626967053, 6.622074747784946, 6.926501036599209, 6.110323565524173, 5.579786224154862], \"Total\": [154.0, 93.0, 66.0, 286.0, 66.0, 61.0, 393.0, 156.0, 74.0, 42.0, 28.0, 62.0, 91.0, 37.0, 26.0, 38.0, 43.0, 35.0, 16.0, 58.0, 56.0, 34.0, 13.0, 146.0, 27.0, 40.0, 42.0, 27.0, 16.0, 26.0, 27.84743030009454, 10.73860677748952, 7.136960288519389, 7.136890528298553, 7.136293828438926, 7.135581883567775, 8.026645749267109, 7.133731370532921, 14.206967236353323, 40.130212354326865, 6.236535664675549, 14.278917797563443, 5.336041220295422, 5.335278970677292, 14.267869241579465, 5.333050206062369, 18.688427895723308, 6.217500148504849, 6.2226211605095685, 11.578438344268339, 4.4355446522916075, 4.435549063213823, 4.43553672749009, 4.435260871864592, 4.435259668447369, 4.434877647508077, 4.435187767940693, 4.43467105616957, 9.702785908478626, 4.430932750959509, 21.381517791560487, 11.457958221316062, 25.50514649570127, 38.65418299601314, 30.005118184045855, 30.02798094565376, 34.46727156290307, 91.76491294132992, 11.485966273478178, 123.27407546939473, 136.74927251480062, 393.5210670047116, 42.33643257240117, 64.39242555911842, 20.987934373738998, 39.44387160237507, 38.702538267522534, 45.238280578384725, 27.380040216822877, 110.95371765680605, 146.60286680438395, 62.86490774145844, 135.6155357111673, 45.206872056491264, 61.34208732147999, 37.4585121056522, 71.92852339871442, 286.0884161507791, 154.41608363238132, 34.044187759701664, 156.22047403949895, 50.72884824335663, 62.921529745219814, 67.22930170833357, 93.46326182406199, 74.75942211991124, 58.84702935209559, 7.603669872712287, 5.911529929881034, 5.065354965925139, 5.064130281419725, 28.969439665066183, 4.2190626831374125, 4.219192158255237, 4.218393028057958, 3.3727675141570783, 3.372767750303837, 3.37265597417155, 3.3726050304842903, 3.3723744264575997, 3.372891120149043, 3.372088976805267, 3.3728883653219186, 3.3728016260078073, 3.3724773669762995, 3.3730215970286612, 3.3719398709046624, 3.3708637236596, 6.733927393658842, 6.73349281013328, 6.8095089626841325, 5.8319869085923495, 2.526466272735412, 2.526466193087108, 2.5264662061112024, 2.526466238129158, 2.526466243259767, 6.73106881556117, 66.2358917696749, 42.105613333345076, 5.118045292299978, 5.040259871995997, 10.077047981078223, 7.715265751359907, 14.443658839750228, 286.0884161507791, 10.92007535864039, 9.331770491845734, 15.598446277036052, 110.95371765680605, 10.347203074754093, 9.474882254100645, 16.31602723779633, 7.728490628096559, 28.866564102021115, 35.80098677745481, 7.715131170524232, 62.921529745219814, 393.5210670047116, 91.76491294132992, 23.81467485559619, 135.6155357111673, 22.222388155468273, 154.41608363238132, 12.863392486435838, 74.75942211991124, 27.54147520738342, 20.576174324826347, 24.23973347760129, 156.22047403949895, 14.192961203279067, 23.666865705088387, 26.932384050027775, 27.88718755942631, 17.352799440812323, 25.66724140220083, 42.33643257240117, 67.22930170833357, 146.60286680438395, 56.20757186029546, 45.40596212391982, 50.72884824335663, 123.27407546939473, 7.425481918656077, 5.777656128935859, 4.953996297468376, 4.127813525600352, 4.131226936743208, 3.305762550924749, 16.709027417896635, 10.767145708994601, 6.682817179268546, 2.4818106980221377, 2.4818103822003397, 2.481810951135977, 2.4818112528611618, 2.481806229497363, 2.4818016563453713, 2.4818022974870657, 2.4817995749444295, 2.481779408765068, 2.4817932951135786, 2.4817673978902555, 2.4817813140029874, 2.481868371286548, 2.4818653000170916, 2.4818592873681955, 2.481809447824576, 2.4819201409486515, 2.4819152473269024, 2.482011135273403, 2.482167293104542, 2.481849457563957, 17.40566396544935, 13.784728092102247, 4.895648387755475, 38.155602211775886, 7.4834112096769925, 34.38749449430696, 9.280082038674225, 8.900542781384203, 26.178658898071998, 21.633801018006118, 154.41608363238132, 58.84702935209559, 4.984410141833183, 15.07674842902425, 13.611154966262356, 40.834271541564824, 156.22047403949895, 6.699740432859351, 43.09210242851274, 10.87024318593144, 42.31012527429979, 286.0884161507791, 93.46326182406199, 17.919739464189366, 146.60286680438395, 28.028422027125956, 66.68207945908225, 71.92852339871442, 135.6155357111673, 23.874104532354803, 136.74927251480062, 67.22930170833357, 45.40596212391982, 393.5210670047116, 123.27407546939473, 29.111653035453337, 24.89003015551453, 26.650140693532457, 37.4585121056522, 64.39242555911842, 110.95371765680605, 62.921529745219814, 62.86490774145844, 4.665449065396769, 3.8990866970559632, 3.132612768458998, 3.1327387413947387, 13.41227248215459, 6.350499335614652, 2.3664257012370835, 2.3664200119232213, 2.366403354889404, 2.3666561349312953, 2.3668557587681773, 2.366645702654795, 2.366983943879309, 2.367047800686139, 2.3670944266248717, 2.36742642073951, 2.3677277442134734, 7.857621950721642, 5.594193996079913, 2.389509054595482, 16.103418289528342, 3.9559557344283314, 2.3887179698644267, 4.03447759598945, 1.6002079879884192, 1.6002080050702598, 1.6002080388515503, 1.600208039233941, 1.6002080733976225, 1.600208005205873, 26.3870632898185, 3.991758583961336, 12.356161469991084, 4.780717171990135, 61.34208732147999, 27.603612491593857, 37.454029413918036, 66.68207945908225, 74.75942211991124, 42.31012527429979, 93.46326182406199, 56.20757186029546, 393.5210670047116, 35.80098677745481, 62.86490774145844, 16.471911043491694, 156.22047403949895, 6.524325222947726, 13.050605681584372, 7.264571604082971, 12.143252708366003, 66.2358917696749, 146.60286680438395, 32.036340702001525, 17.919739464189366, 286.0884161507791, 136.74927251480062, 123.27407546939473, 28.946453598805203, 135.6155357111673, 67.22930170833357, 45.40596212391982, 71.92852339871442, 37.67069505793583, 25.908542268922698], \"Category\": [\"Default\", \"Default\", \"Default\", \"Default\", \"Default\", \"Default\", \"Default\", \"Default\", \"Default\", \"Default\", \"Default\", \"Default\", \"Default\", \"Default\", \"Default\", \"Default\", \"Default\", \"Default\", \"Default\", \"Default\", \"Default\", \"Default\", \"Default\", \"Default\", \"Default\", \"Default\", \"Default\", \"Default\", \"Default\", \"Default\", \"Topic1\", \"Topic1\", \"Topic1\", \"Topic1\", \"Topic1\", \"Topic1\", \"Topic1\", \"Topic1\", \"Topic1\", \"Topic1\", \"Topic1\", \"Topic1\", \"Topic1\", \"Topic1\", \"Topic1\", \"Topic1\", \"Topic1\", \"Topic1\", \"Topic1\", \"Topic1\", \"Topic1\", \"Topic1\", \"Topic1\", \"Topic1\", \"Topic1\", \"Topic1\", \"Topic1\", \"Topic1\", \"Topic1\", \"Topic1\", \"Topic1\", \"Topic1\", \"Topic1\", \"Topic1\", \"Topic1\", \"Topic1\", \"Topic1\", \"Topic1\", \"Topic1\", \"Topic1\", \"Topic1\", \"Topic1\", \"Topic1\", \"Topic1\", \"Topic1\", \"Topic1\", \"Topic1\", \"Topic1\", \"Topic1\", \"Topic1\", \"Topic1\", \"Topic1\", \"Topic1\", \"Topic1\", \"Topic1\", \"Topic1\", \"Topic1\", \"Topic1\", \"Topic1\", \"Topic1\", \"Topic1\", \"Topic1\", \"Topic1\", \"Topic1\", \"Topic1\", \"Topic1\", \"Topic1\", \"Topic2\", \"Topic2\", \"Topic2\", \"Topic2\", \"Topic2\", \"Topic2\", \"Topic2\", \"Topic2\", \"Topic2\", \"Topic2\", \"Topic2\", \"Topic2\", \"Topic2\", \"Topic2\", \"Topic2\", \"Topic2\", \"Topic2\", \"Topic2\", \"Topic2\", \"Topic2\", \"Topic2\", \"Topic2\", \"Topic2\", \"Topic2\", \"Topic2\", \"Topic2\", \"Topic2\", \"Topic2\", \"Topic2\", \"Topic2\", \"Topic2\", \"Topic2\", \"Topic2\", \"Topic2\", \"Topic2\", \"Topic2\", \"Topic2\", \"Topic2\", \"Topic2\", \"Topic2\", \"Topic2\", \"Topic2\", \"Topic2\", \"Topic2\", \"Topic2\", \"Topic2\", \"Topic2\", \"Topic2\", \"Topic2\", \"Topic2\", \"Topic2\", \"Topic2\", \"Topic2\", \"Topic2\", \"Topic2\", \"Topic2\", \"Topic2\", \"Topic2\", \"Topic2\", \"Topic2\", \"Topic2\", \"Topic2\", \"Topic2\", \"Topic2\", \"Topic2\", \"Topic2\", \"Topic2\", \"Topic2\", \"Topic2\", \"Topic2\", \"Topic2\", \"Topic2\", \"Topic2\", \"Topic2\", \"Topic2\", \"Topic2\", \"Topic3\", \"Topic3\", \"Topic3\", \"Topic3\", \"Topic3\", \"Topic3\", \"Topic3\", \"Topic3\", \"Topic3\", \"Topic3\", \"Topic3\", \"Topic3\", \"Topic3\", \"Topic3\", \"Topic3\", \"Topic3\", \"Topic3\", \"Topic3\", \"Topic3\", \"Topic3\", \"Topic3\", \"Topic3\", \"Topic3\", \"Topic3\", \"Topic3\", \"Topic3\", \"Topic3\", \"Topic3\", \"Topic3\", \"Topic3\", \"Topic3\", \"Topic3\", \"Topic3\", \"Topic3\", \"Topic3\", \"Topic3\", \"Topic3\", \"Topic3\", \"Topic3\", \"Topic3\", \"Topic3\", \"Topic3\", \"Topic3\", \"Topic3\", \"Topic3\", \"Topic3\", \"Topic3\", \"Topic3\", \"Topic3\", \"Topic3\", \"Topic3\", \"Topic3\", \"Topic3\", \"Topic3\", \"Topic3\", \"Topic3\", \"Topic3\", \"Topic3\", \"Topic3\", \"Topic3\", \"Topic3\", \"Topic3\", \"Topic3\", \"Topic3\", \"Topic3\", \"Topic3\", \"Topic3\", \"Topic3\", \"Topic3\", \"Topic3\", \"Topic3\", \"Topic3\", \"Topic3\", \"Topic4\", \"Topic4\", \"Topic4\", \"Topic4\", \"Topic4\", \"Topic4\", \"Topic4\", \"Topic4\", \"Topic4\", \"Topic4\", \"Topic4\", \"Topic4\", \"Topic4\", \"Topic4\", \"Topic4\", \"Topic4\", \"Topic4\", \"Topic4\", \"Topic4\", \"Topic4\", \"Topic4\", \"Topic4\", \"Topic4\", \"Topic4\", \"Topic4\", \"Topic4\", \"Topic4\", \"Topic4\", \"Topic4\", \"Topic4\", \"Topic4\", \"Topic4\", \"Topic4\", \"Topic4\", \"Topic4\", \"Topic4\", \"Topic4\", \"Topic4\", \"Topic4\", \"Topic4\", \"Topic4\", \"Topic4\", \"Topic4\", \"Topic4\", \"Topic4\", \"Topic4\", \"Topic4\", \"Topic4\", \"Topic4\", \"Topic4\", \"Topic4\", \"Topic4\", \"Topic4\", \"Topic4\", \"Topic4\", \"Topic4\", \"Topic4\", \"Topic4\", \"Topic4\", \"Topic4\", \"Topic4\", \"Topic4\", \"Topic4\", \"Topic4\", \"Topic4\"], \"logprob\": [30.0, 29.0, 28.0, 27.0, 26.0, 25.0, 24.0, 23.0, 22.0, 21.0, 20.0, 19.0, 18.0, 17.0, 16.0, 15.0, 14.0, 13.0, 12.0, 11.0, 10.0, 9.0, 8.0, 7.0, 6.0, 5.0, 4.0, 3.0, 2.0, 1.0, -5.1707000732421875, -6.159900188446045, -6.599100112915039, -6.5991997718811035, -6.600200176239014, -6.600900173187256, -6.486700057983398, -6.606500148773193, -5.922999858856201, -4.884799957275391, -6.747399806976318, -5.932799816131592, -6.921800136566162, -6.923399925231934, -5.943699836730957, -6.928100109100342, -5.676799774169922, -6.787399768829346, -6.787600040435791, -6.1691999435424805, -7.1331000328063965, -7.1331000328063965, -7.1331000328063965, -7.133600234985352, -7.133600234985352, -7.134200096130371, -7.134300231933594, -7.135499954223633, -6.35699987411499, -7.140900135040283, -5.571899890899658, -6.191800117492676, -5.463900089263916, -5.082300186157227, -5.330100059509277, -5.329999923706055, -5.208099842071533, -4.303699970245361, -6.252799987792969, -4.08650016784668, -4.01140022277832, -3.0743000507354736, -5.084499835968018, -4.745800018310547, -5.7220001220703125, -5.176499843597412, -5.2006001472473145, -5.091000080108643, -5.503699779510498, -4.425600051879883, -4.227399826049805, -4.892300128936768, -4.331500053405762, -5.170199871063232, -4.97130012512207, -5.3246002197265625, -4.883699893951416, -3.979099988937378, -4.47760009765625, -5.428199768066406, -4.587500095367432, -5.223499774932861, -5.1371002197265625, -5.124800205230713, -5.179699897766113, -5.2729997634887695, -5.3165998458862305, -5.88070011138916, -6.157400131225586, -6.331500053405762, -6.341400146484375, -4.609499931335449, -6.542900085449219, -6.544400215148926, -6.547599792480469, -6.811200141906738, -6.811200141906738, -6.811500072479248, -6.8130998611450195, -6.813199996948242, -6.8130998611450195, -6.813399791717529, -6.813300132751465, -6.814599990844727, -6.815100193023682, -6.815400123596191, -6.81689977645874, -6.817699909210205, -6.1595001220703125, -6.167399883270264, -6.157599925994873, -6.330100059509277, -7.178899765014648, -7.178899765014648, -7.178899765014648, -7.178899765014648, -7.178899765014648, -6.1992998123168945, -4.077400207519531, -4.617000102996826, -6.53980016708374, -6.557300090789795, -5.934000015258789, -6.1743998527526855, -5.644100189208984, -3.3232998847961426, -5.890100002288818, -6.034599781036377, -5.663400173187256, -4.237500190734863, -5.985400199890137, -6.053100109100342, -5.660699844360352, -6.211999893188477, -5.287700176239014, -5.154600143432617, -6.230999946594238, -4.795499801635742, -3.5922000408172607, -4.593100070953369, -5.468500137329102, -4.39109992980957, -5.537799835205078, -4.46589994430542, -5.8881001472473145, -4.962500095367432, -5.499599933624268, -5.6468000411987305, -5.584499835968018, -4.724299907684326, -5.839000225067139, -5.6041998863220215, -5.552199840545654, -5.5543999671936035, -5.756899833679199, -5.6168999671936035, -5.462200164794922, -5.33519983291626, -5.098199844360352, -5.394499778747559, -5.476099967956543, -5.51200008392334, -5.563199996948242, -5.845200061798096, -6.123000144958496, -6.299600124359131, -6.516300201416016, -6.5243000984191895, -6.776800155639648, -5.159900188446045, -5.654200077056885, -6.137499809265137, -7.144100189208984, -7.144100189208984, -7.144100189208984, -7.144100189208984, -7.144100189208984, -7.144100189208984, -7.144100189208984, -7.144100189208984, -7.144100189208984, -7.144199848175049, -7.144199848175049, -7.144700050354004, -7.144800186157227, -7.144800186157227, -7.144800186157227, -7.146100044250488, -7.146200180053711, -7.146299839019775, -7.146399974822998, -7.148099899291992, -7.148399829864502, -5.240699768066406, -5.471099853515625, -6.508800029754639, -4.609499931335449, -6.122399806976318, -4.724800109863281, -5.934500217437744, -5.975299835205078, -4.994100093841553, -5.203400135040283, -3.514400005340576, -4.393700122833252, -6.537600040435791, -5.587699890136719, -5.6757001876831055, -4.758399963378906, -3.6364998817443848, -6.300300121307373, -4.752299785614014, -5.911300182342529, -4.79010009765625, -3.3120999336242676, -4.20959997177124, -5.55649995803833, -4.0229997634887695, -5.239200115203857, -4.673699855804443, -4.6346001625061035, -4.3003997802734375, -5.392399787902832, -4.393400192260742, -4.832900047302246, -5.056399822235107, -3.987299919128418, -4.658599853515625, -5.333199977874756, -5.409599781036377, -5.394199848175049, -5.3109002113342285, -5.2032999992370605, -5.19379997253418, -5.280700206756592, -5.348499774932861, -5.890399932861328, -6.101600170135498, -6.36899995803833, -6.369500160217285, -4.9182000160217285, -5.738699913024902, -6.736700057983398, -6.736700057983398, -6.736700057983398, -6.7378997802734375, -6.73859977722168, -6.739500045776367, -6.740099906921387, -6.740799903869629, -6.741099834442139, -6.741199970245361, -6.745800018310547, -5.593900203704834, -5.935500144958496, -6.818999767303467, -4.913000106811523, -6.367599964141846, -6.872700214385986, -6.374899864196777, -7.3246002197265625, -7.3246002197265625, -7.3246002197265625, -7.3246002197265625, -7.3246002197265625, -7.3246002197265625, -4.5370001792907715, -6.422800064086914, -5.494500160217285, -6.369699954986572, -4.163700103759766, -4.8557000160217285, -4.598899841308594, -4.120299816131592, -4.0304999351501465, -4.57480001449585, -3.977400064468384, -4.497799873352051, -3.193000078201294, -4.867499828338623, -4.5395002365112305, -5.485000133514404, -4.127799987792969, -6.106800079345703, -5.689499855041504, -6.046899795532227, -5.73769998550415, -4.764999866485596, -4.316199779510498, -5.220600128173828, -5.565999984741211, -4.240799903869629, -4.686200141906738, -4.89139986038208, -5.4552998542785645, -4.996699810028076, -5.203100204467773, -5.3907999992370605, -5.345799922943115, -5.471199989318848, -5.561999797821045], \"loglift\": [30.0, 29.0, 28.0, 27.0, 26.0, 25.0, 24.0, 23.0, 22.0, 21.0, 20.0, 19.0, 18.0, 17.0, 16.0, 15.0, 14.0, 13.0, 12.0, 11.0, 10.0, 9.0, 8.0, 7.0, 6.0, 5.0, 4.0, 3.0, 2.0, 1.0, 0.8165, 0.7801, 0.7495, 0.7494, 0.7485, 0.7479, 0.7444, 0.7426, 0.7372, 0.7369, 0.7361, 0.7223, 0.7176, 0.7162, 0.7122, 0.7119, 0.7092, 0.6992, 0.6981, 0.6956, 0.6911, 0.6911, 0.6911, 0.6907, 0.6907, 0.6902, 0.6901, 0.6889, 0.6845, 0.6844, 0.6795, 0.6834, 0.6111, 0.5769, 0.5825, 0.5817, 0.5658, 0.491, 0.62, 0.413, 0.3843, 0.2645, 0.4837, 0.4031, 0.5479, 0.4625, 0.4574, 0.4109, 0.5004, 0.1792, 0.0987, 0.2806, 0.0725, 0.3325, 0.2261, 0.366, 0.1546, -0.3215, -0.2034, 0.358, -0.3248, 0.1639, 0.0349, -0.019, -0.4034, -0.2733, -0.0777, 1.4046, 1.3796, 1.3599, 1.3503, 1.3381, 1.3314, 1.3298, 1.3268, 1.287, 1.287, 1.2867, 1.2852, 1.2851, 1.285, 1.2849, 1.2848, 1.2835, 1.2832, 1.2827, 1.2815, 1.281, 1.2472, 1.2393, 1.238, 1.2205, 1.2081, 1.2081, 1.2081, 1.2081, 1.2081, 1.2078, 1.0432, 0.9567, 1.1413, 1.1391, 1.0696, 1.0963, 0.9995, 0.3343, 1.0332, 1.0459, 0.9033, 0.3673, 0.9918, 1.0121, 0.8611, 1.0569, 0.6635, 0.5813, 1.0397, 0.3765, -0.2534, 0.2016, 0.6751, 0.0129, 0.675, -0.1916, 0.8714, 0.0371, 0.4986, 0.6429, 0.5414, -0.4617, 0.8221, 0.5456, 0.4684, 0.4314, 0.7032, 0.4517, 0.1061, -0.2294, -0.7721, -0.1096, 0.0222, -0.1246, -1.0638, 1.4638, 1.4369, 1.4141, 1.3799, 1.371, 1.3414, 1.338, 1.2832, 1.2769, 1.2608, 1.2608, 1.2608, 1.2608, 1.2608, 1.2608, 1.2608, 1.2608, 1.2608, 1.2607, 1.2607, 1.2602, 1.2601, 1.2601, 1.2601, 1.2588, 1.2586, 1.2586, 1.2584, 1.2567, 1.2565, 1.2164, 1.2192, 1.2167, 1.0627, 1.1788, 1.0514, 1.1515, 1.1525, 1.0548, 1.0362, 0.7599, 0.8452, 1.17, 1.013, 1.0273, 0.846, 0.6261, 1.1115, 0.7982, 1.0165, 0.7787, 0.3455, 0.5667, 0.8715, 0.3031, 0.7415, 0.4403, 0.4036, 0.1036, 0.7487, 0.0024, 0.2729, 0.4418, -0.6486, -0.1591, 0.6096, 0.6898, 0.6369, 0.3797, -0.0544, -0.589, -0.1087, -0.1756, 1.8833, 1.8515, 1.8031, 1.8025, 1.7996, 1.7266, 1.7158, 1.7158, 1.7158, 1.7145, 1.7137, 1.7129, 1.7121, 1.7115, 1.7111, 1.7109, 1.7062, 1.6585, 1.6567, 1.6238, 1.6219, 1.5711, 1.5704, 1.5441, 1.5192, 1.5192, 1.5192, 1.5192, 1.5192, 1.5192, 1.504, 1.5068, 1.3052, 1.3796, 1.0337, 1.1403, 1.0919, 0.9936, 0.9691, 0.9941, 0.7989, 0.787, 0.1457, 0.8684, 0.6334, 1.0272, 0.1348, 1.3316, 1.0555, 1.284, 1.0794, 0.3557, 0.01, 0.6265, 0.862, -0.5833, -0.2905, -0.3919, 0.4931, -0.5926, -0.0973, 0.1075, -0.3076, 0.2138, 0.4973]}, \"token.table\": {\"Topic\": [1, 2, 3, 4, 2, 3, 2, 2, 1, 2, 3, 4, 1, 2, 2, 3, 2, 1, 2, 3, 4, 1, 3, 2, 1, 2, 3, 4, 1, 2, 3, 4, 1, 4, 2, 3, 1, 2, 1, 4, 2, 3, 1, 2, 3, 1, 3, 1, 2, 4, 1, 2, 3, 4, 2, 1, 2, 3, 4, 1, 2, 3, 4, 1, 2, 3, 4, 1, 1, 4, 3, 4, 1, 2, 3, 4, 3, 1, 1, 2, 3, 4, 1, 2, 1, 2, 3, 1, 1, 4, 1, 2, 3, 3, 4, 2, 1, 2, 3, 4, 1, 2, 4, 1, 2, 3, 4, 1, 2, 3, 3, 1, 2, 2, 1, 1, 4, 1, 2, 3, 4, 2, 1, 2, 1, 4, 3, 1, 2, 3, 4, 3, 1, 2, 3, 3, 1, 2, 3, 1, 2, 3, 2, 1, 3, 2, 1, 3, 3, 4, 1, 3, 1, 4, 1, 2, 4, 1, 2, 3, 4, 1, 2, 3, 4, 4, 1, 2, 3, 4, 3, 4, 1, 2, 3, 4, 1, 2, 3, 4, 2, 1, 2, 3, 4, 1, 1, 2, 3, 4, 1, 3, 4, 1, 2, 3, 1, 2, 3, 1, 4, 1, 2, 3, 4, 1, 2, 3, 4, 3, 4, 1, 1, 2, 3, 4, 4, 1, 2, 3, 4, 3, 1, 3, 4, 1, 2, 4, 4, 4, 1, 2, 3, 4, 1, 2, 3, 4, 2, 1, 2, 3, 4, 1, 2, 3, 4, 1, 1, 2, 4, 1, 2, 4, 1, 3, 4, 1, 3, 4, 1, 2, 3, 4, 3, 3, 1, 2, 4, 4, 1, 3, 3, 1, 2, 3, 4, 1, 2, 4, 1, 2, 3, 4, 3, 4, 2, 3, 1, 2, 3, 1, 2, 3, 4, 2, 3, 1, 2, 3, 4, 2, 4, 1, 2, 3, 4, 1, 3, 4, 1, 2, 3, 4, 1, 2, 3, 4, 1, 2, 4, 1, 2, 1, 2, 1, 2, 3, 4, 1, 2, 3, 1, 2, 3, 4, 3, 4, 1, 2, 2, 3, 4, 1, 2, 3, 4, 1, 2, 3, 4, 1, 3, 4, 3, 2, 1, 3, 1, 2, 3, 1, 3, 1, 2, 3, 4, 1, 3, 1, 2, 3, 4, 3, 4, 1, 4, 2, 4, 4, 1, 2, 3, 4, 3, 1, 2, 4, 1, 4, 4, 4, 1, 1, 4, 2, 3, 1, 2, 1, 2, 1, 2, 3, 4, 2, 1, 2, 4, 1, 3, 4, 1, 2, 4, 3, 2, 3, 1, 2, 3, 4, 1, 2, 3, 3, 1, 2, 3, 2, 1, 3, 4, 1, 1, 2, 3, 4, 3, 2, 3, 1, 2, 4, 3, 1, 2, 2, 4, 4, 1, 2, 3, 4, 1, 2, 3, 4, 1, 4, 4, 2, 1, 3, 1, 2, 3, 4, 3, 2, 1, 1, 2, 3, 4, 2, 3, 1, 1, 1, 2, 3, 4, 1, 2, 3, 4, 1, 1, 2, 1, 2, 3, 4, 1, 2, 3, 4, 4], \"Freq\": [0.4078370695044327, 0.08496605614675681, 0.4928031256511895, 0.033986422458702724, 0.889506674553995, 0.8058630557397527, 0.7916195220639499, 0.889553783036873, 0.6570724598142281, 0.08112005676718867, 0.17846412488781505, 0.08923206244390752, 0.9375497711077663, 0.8895201106810939, 0.948228383034641, 0.8058445093779257, 0.8894771956147126, 0.04622396217695105, 0.2773437730617063, 0.6009115083003637, 0.04622396217695105, 0.897079728413609, 0.07475664403446741, 0.7896781226405991, 0.44499871686808723, 0.3337490376510654, 0.1907137358006088, 0.031785622633434804, 0.7659522643772362, 0.16651136182113832, 0.03330227236422766, 0.03330227236422766, 0.8720952959259665, 0.8372692068429959, 0.7916195377845863, 0.8057474633381875, 0.19538709465984697, 0.7815483786393879, 0.17875676115285632, 0.7150270446114253, 0.7425087482690065, 0.1485017496538013, 0.4610207146856474, 0.4610207146856474, 0.05762758933570593, 0.32327300421458205, 0.6465460084291641, 0.9019414554193099, 0.4129630986518026, 0.4129630986518026, 0.08235025853584167, 0.08235025853584167, 0.4117512926792084, 0.4117512926792084, 0.7916195128283245, 0.31458806061048866, 0.31458806061048866, 0.3006063690278003, 0.07340388080911402, 0.464548546518865, 0.2285873800330923, 0.2359611664857727, 0.07373786452680398, 0.3887991943355348, 0.43739909362747664, 0.14579969787582553, 0.04859989929194185, 0.8035199108265417, 0.8245054642511824, 0.1030631830313978, 0.7254404971346043, 0.2176321491403813, 0.28888356208694704, 0.042797564753621786, 0.3744786915941906, 0.28888356208694704, 0.805863338450066, 0.9018074352105422, 0.08377277553131043, 0.25131832659393133, 0.4607502654222074, 0.2094319388282761, 0.13807654018325874, 0.862978376145367, 0.20770360427952883, 0.6231108128385865, 0.20770360427952883, 0.9312194968310226, 0.15746793238632975, 0.7873396619316487, 0.7086095397550524, 0.25982349791018583, 0.047240635983670155, 0.2527834149652103, 0.5055668299304206, 0.8899796152966488, 0.7623427687109545, 0.04764642304443466, 0.09529284608886932, 0.09529284608886932, 0.3886999487322173, 0.5441799282251043, 0.07773998974644347, 0.1500930162432776, 0.3377092865473746, 0.41275579466901335, 0.1500930162432776, 0.1492595138604817, 0.1492595138604817, 0.5970380554419268, 0.8058636418493351, 0.9111381510362713, 0.07008755007971318, 0.8896562399851661, 0.9018637687565793, 0.9018049271901772, 0.8451644542624779, 0.5972543281972782, 0.15484371471781289, 0.19908477606575942, 0.04424106134794654, 0.889444661311046, 0.8418485617099077, 0.14030809361831797, 0.9150439910028869, 0.07038799930791438, 0.8058772960351543, 0.5004968585333621, 0.0834161430888937, 0.31976188184075915, 0.09731883360370931, 0.9075061967656403, 0.31499764791380025, 0.4499966398768575, 0.2699979839261145, 0.8058659636285647, 0.7543387921654829, 0.14506515233951595, 0.11605212187161276, 0.910433142364495, 0.0700333186434227, 0.8058506505721289, 0.8894772578921022, 0.9018058239890371, 0.8057981576217595, 0.9480778790007188, 0.9018635240543118, 0.8058733958934726, 0.4183472746971627, 0.4183472746971627, 0.8561447805709472, 0.1070180975713684, 0.3104930835244699, 0.6830847837538339, 0.2793219098166692, 0.3910506737433369, 0.30725410079833615, 0.5641375230295917, 0.17534004094162986, 0.11181104060045963, 0.1524696008188086, 0.53091667061733, 0.15927500118519902, 0.1327291676543325, 0.15927500118519902, 0.8449343521581008, 0.14249881488481647, 0.5937450620200686, 0.18999841984642196, 0.07124940744240824, 0.6127891062404137, 0.20426303541347124, 0.3136592709839735, 0.1408266114621922, 0.39687499593890524, 0.14722782107411, 0.29993065846533007, 0.014996532923266505, 0.3299237243118631, 0.3599167901583961, 0.8458047340209647, 0.34970450441262263, 0.18780427088826032, 0.4533206538682146, 0.006476009340974494, 0.9018783892112969, 0.6410500051997218, 0.08842069037237542, 0.1989465533378447, 0.06631551777928156, 0.2908033907982321, 0.6106871206762874, 0.08724101723946963, 0.6717905637165419, 0.20670478883585905, 0.10335239441792952, 0.5198203016114187, 0.37130021543672764, 0.14852008617469106, 0.9620725868665653, 0.6249187652519311, 0.09157445962209053, 0.6410212173546337, 0.18314891924418106, 0.09157445962209053, 0.356780698903491, 0.10703420967104729, 0.42813683868418917, 0.0713561397806982, 0.25452993444362904, 0.6363248361090726, 0.9809991832789418, 0.4285618320890849, 0.35064149898197855, 0.1558406662142127, 0.07792033310710635, 0.624918731897635, 0.43135953019136053, 0.17849359869987333, 0.2826148646081328, 0.11899573246658222, 0.9426997569562349, 0.13362889890466986, 0.6681444945233493, 0.13362889890466986, 0.4046564147080224, 0.08093128294160448, 0.4855876976496269, 0.8450779082633668, 0.8447992226830275, 0.16501831605104889, 0.37129121111485996, 0.33003663210209777, 0.12376373703828666, 0.2863060133935938, 0.22023539491814906, 0.3303530923772236, 0.15416477644270435, 0.8895809363467543, 0.40578916677546145, 0.2497164103233609, 0.09364365387126034, 0.2497164103233609, 0.652250627854358, 0.09317866112205114, 0.20188709909777747, 0.06211910741470076, 0.8041817258665243, 0.40049095477096924, 0.18689577889311898, 0.40049095477096924, 0.16607310185013896, 0.6340972979732579, 0.18117065656378797, 0.2653091957347779, 0.5969456904032503, 0.13265459786738895, 0.3669185961813809, 0.6027948365836971, 0.026208471155812922, 0.3166266260144422, 0.6332532520288844, 0.8058661718137224, 0.8451564733067558, 0.805845506597891, 0.805868886799644, 0.259230848548762, 0.648077121371905, 0.8451585052201165, 0.6384446938789197, 0.14963749167075868, 0.7481874583537934, 0.8058727772327778, 0.5137277164187346, 0.3244596103697271, 0.11716597041129034, 0.03605106781885856, 0.7083317350451569, 0.27243528270967576, 0.01089741130838703, 0.11369207581192091, 0.15158943441589454, 0.15158943441589454, 0.6063577376635781, 0.674116191267482, 0.22470539708916068, 0.1857502493283109, 0.7430009973132436, 0.4419440206087049, 0.1205301874387377, 0.4419440206087049, 0.1654450312925916, 0.02363500447037023, 0.4727000894074046, 0.3545250670555534, 0.2006255447574819, 0.6018766342724458, 0.25194549312060266, 0.46190007072110495, 0.25194549312060266, 0.041990915520100446, 0.6858725958569528, 0.1714681489642382, 0.11490512536436684, 0.05745256268218342, 0.6894307521862011, 0.05745256268218342, 0.44080619833460155, 0.48978466481622396, 0.0734676997224336, 0.24283763975160985, 0.24283763975160985, 0.12141881987580493, 0.36425645962741476, 0.3464215541779647, 0.4503480204313542, 0.10392646625338943, 0.1385686216711859, 0.21432160185975804, 0.6429648055792742, 0.10716080092987902, 0.9809013149240324, 0.8894453877703927, 0.2587827424839069, 0.6469568562097674, 0.40919753760519584, 0.1957031701590067, 0.10674718372309457, 0.28465915659491886, 0.30644714715953786, 0.5516048648871681, 0.12257885886381514, 0.3344060091837115, 0.2273960862449238, 0.09363368257143921, 0.34778224955105996, 0.8058474588705764, 0.7694109500733015, 0.4487626444119221, 0.5769805428153284, 0.7428240799500947, 0.14856481599001894, 0.8449571469091378, 0.11160876551786819, 0.055804382758934096, 0.5022394448304068, 0.3348262965536046, 0.30559243050411505, 0.03819905381301438, 0.6111848610082301, 0.03819905381301438, 0.3065451110507929, 0.15327255552539645, 0.4598176665761894, 0.7261765199384098, 0.9480487851622573, 0.5105343847285406, 0.46412216793503686, 0.6140126424436778, 0.0533924036907546, 0.3203544221445276, 0.7835648987392179, 0.17412553305315953, 0.18113571191171637, 0.07245428476468654, 0.36227142382343275, 0.398498566205776, 0.3673457551834051, 0.5877532082934481, 0.3473757769380758, 0.03859730854867509, 0.3859730854867509, 0.23158385129205056, 0.8058646868676196, 0.8573665565588645, 0.9370242457990575, 0.8450741831398588, 0.2505161519581731, 0.5010323039163462, 0.8450029084327867, 0.7841554645989144, 0.03920777322994572, 0.07841554645989143, 0.07841554645989143, 0.805863153712235, 0.3865778965679633, 0.579866844851945, 0.8446917112357327, 0.14911716136553718, 0.8201443875104546, 0.8449177090293376, 0.6249187585281115, 0.9019834728068837, 0.8727558441779166, 0.08727558441779167, 0.7936098736147026, 0.19840246840367565, 0.146853467038514, 0.73426733519257, 0.5915443208430423, 0.3802784919705272, 0.5737401796400134, 0.35858761227500846, 0.03585876122750084, 0.03585876122750084, 0.8894102553753996, 0.7304591169925154, 0.2556606909473804, 0.6384190208946604, 0.515257583680748, 0.3778555613658819, 0.06870101115743307, 0.7761126396875145, 0.12935210661458577, 0.10348168529166861, 0.8058292893579103, 0.8896955802462533, 0.7267770167897005, 0.6362008250580188, 0.058501225292691375, 0.21206694168600623, 0.09506449110062348, 0.902744461453135, 0.6946478783413528, 0.2977062335748655, 0.8058632359002589, 0.09199426203217118, 0.2759827860965135, 0.551965572193027, 0.9206080901961945, 0.5726565311772271, 0.17497838452637496, 0.2545140138565454, 0.9808097168846932, 0.4774804308117851, 0.10231723517395395, 0.28648825848707105, 0.12960183122034166, 0.8058668476662877, 0.742556670213632, 0.1485113340427264, 0.7665358909410803, 0.16663823716110443, 0.06665529486444177, 0.8074289441928139, 0.2592263266689778, 0.6480658166724446, 0.889468261894468, 0.6249187453886856, 0.6249187585810717, 0.21137238079019732, 0.49320222184379375, 0.07045746026339911, 0.21137238079019732, 0.6168453818968136, 0.23498871691307185, 0.11749435845653593, 0.029373589614133982, 0.24786356503604565, 0.4957271300720913, 0.6249187452393531, 0.7916195337037372, 0.17954366373154504, 0.7780225428366953, 0.47201538414742983, 0.36308875703648447, 0.0726177514072969, 0.0726177514072969, 0.8654028361014471, 0.7916195236715275, 0.9695688151128378, 0.07662479615111609, 0.38312398075558046, 0.15324959230223217, 0.38312398075558046, 0.7898690945365258, 0.8058277004978694, 0.8410745636966386, 0.9808193039033222, 0.512528884457867, 0.19712649402225654, 0.19712649402225654, 0.09856324701112827, 0.5527447410918904, 0.10363963895472944, 0.17273273159121574, 0.20727927790945888, 0.9371581181565226, 0.8636743317763823, 0.08636743317763823, 0.5379666953140096, 0.04890606321036452, 0.04890606321036452, 0.3749464846127946, 0.6845169833271191, 0.15211488518380423, 0.12676240431983687, 0.025352480863967373, 0.8369920156417145], \"Term\": [\"able\", \"able\", \"able\", \"able\", \"account\", \"acv\", \"alternative\", \"amazed\", \"amazing\", \"amazing\", \"amazing\", \"amazing\", \"apple\", \"art\", \"aspect\", \"assassin\", \"attempt\", \"available\", \"available\", \"available\", \"available\", \"awesome\", \"awesome\", \"bar\", \"big\", \"big\", \"big\", \"big\", \"bit\", \"bit\", \"bit\", \"bit\", \"black\", \"blast\", \"bold\", \"bonus\", \"brand\", \"brand\", \"brother\", \"brother\", \"bug\", \"bug\", \"button\", \"button\", \"button\", \"cable\", \"cable\", \"care\", \"changer\", \"changer\", \"complaint\", \"complaint\", \"complaint\", \"complaint\", \"concept\", \"console\", \"console\", \"console\", \"console\", \"controller\", \"controller\", \"controller\", \"controller\", \"cool\", \"cool\", \"cool\", \"cool\", \"covid\", \"crash\", \"crash\", \"date\", \"date\", \"day\", \"day\", \"day\", \"day\", \"defective\", \"delete\", \"delivery\", \"delivery\", \"delivery\", \"delivery\", \"design\", \"design\", \"developer\", \"developer\", \"developer\", \"device\", \"dollar\", \"dollar\", \"drive\", \"drive\", \"drive\", \"driver\", \"driver\", \"drop\", \"dual\", \"dual\", \"dual\", \"dual\", \"dualsense\", \"dualsense\", \"dualsense\", \"easy\", \"easy\", \"easy\", \"easy\", \"engine\", \"engine\", \"engine\", \"enjoyable\", \"enough\", \"enough\", \"exact\", \"exceptional\", \"expansion\", \"expected\", \"experience\", \"experience\", \"experience\", \"experience\", \"extent\", \"external\", \"external\", \"extra\", \"extra\", \"fair\", \"fast\", \"fast\", \"fast\", \"fast\", \"fault\", \"feature\", \"feature\", \"feature\", \"feed\", \"feedback\", \"feedback\", \"feedback\", \"feel\", \"feel\", \"feeling\", \"few\", \"fidelity\", \"finding\", \"flat\", \"folk\", \"fortune\", \"fps\", \"fps\", \"frame\", \"frame\", \"fun\", \"fun\", \"future\", \"future\", \"future\", \"game\", \"game\", \"game\", \"game\", \"gaming\", \"gaming\", \"gaming\", \"gaming\", \"gen\", \"generation\", \"generation\", \"generation\", \"generation\", \"gift\", \"gift\", \"good\", \"good\", \"good\", \"good\", \"graphic\", \"graphic\", \"graphic\", \"graphic\", \"graphical\", \"great\", \"great\", \"great\", \"great\", \"gun\", \"hand\", \"hand\", \"hand\", \"hand\", \"happy\", \"happy\", \"happy\", \"haptic\", \"haptic\", \"haptic\", \"hard\", \"hard\", \"hard\", \"harmony\", \"hesitant\", \"home\", \"home\", \"home\", \"home\", \"huge\", \"huge\", \"huge\", \"huge\", \"hype\", \"hype\", \"impossible\", \"incredible\", \"incredible\", \"incredible\", \"incredible\", \"informative\", \"issue\", \"issue\", \"issue\", \"issue\", \"item\", \"jet\", \"jet\", \"jet\", \"job\", \"job\", \"job\", \"join\", \"junk\", \"last\", \"last\", \"last\", \"last\", \"launch\", \"launch\", \"launch\", \"launch\", \"limit\", \"little\", \"little\", \"little\", \"little\", \"load\", \"load\", \"load\", \"load\", \"looking\", \"lot\", \"lot\", \"lot\", \"love\", \"love\", \"love\", \"luck\", \"luck\", \"luck\", \"lucky\", \"lucky\", \"lucky\", \"machine\", \"machine\", \"magic\", \"meaning\", \"mid\", \"missing\", \"moment\", \"moment\", \"mommy\", \"morning\", \"negative\", \"negative\", \"nervous\", \"new\", \"new\", \"new\", \"new\", \"next\", \"next\", \"next\", \"nice\", \"nice\", \"nice\", \"nice\", \"night\", \"night\", \"notification\", \"notification\", \"old\", \"old\", \"old\", \"order\", \"order\", \"order\", \"order\", \"outstanding\", \"outstanding\", \"overall\", \"overall\", \"overall\", \"overall\", \"packaging\", \"packaging\", \"part\", \"part\", \"part\", \"part\", \"people\", \"people\", \"people\", \"perfect\", \"perfect\", \"perfect\", \"perfect\", \"performance\", \"performance\", \"performance\", \"performance\", \"piece\", \"piece\", \"piece\", \"plan\", \"plate\", \"platform\", \"platform\", \"play\", \"play\", \"play\", \"play\", \"player\", \"player\", \"player\", \"playstation\", \"playstation\", \"playstation\", \"playstation\", \"pleasant\", \"pleased\", \"port\", \"port\", \"powerful\", \"powerful\", \"powering\", \"pre\", \"pre\", \"pre\", \"pre\", \"problem\", \"problem\", \"problem\", \"problem\", \"process\", \"process\", \"process\", \"processing\", \"progress\", \"purchase\", \"purchase\", \"quiet\", \"quiet\", \"quiet\", \"rate\", \"rate\", \"release\", \"release\", \"release\", \"release\", \"retail\", \"retail\", \"review\", \"review\", \"review\", \"review\", \"running\", \"satisfied\", \"score\", \"seamless\", \"secure\", \"secure\", \"self\", \"sense\", \"sense\", \"sense\", \"sense\", \"server\", \"set\", \"set\", \"shiny\", \"shipping\", \"shipping\", \"shocked\", \"shout\", \"show\", \"simple\", \"simple\", \"snappy\", \"snappy\", \"son\", \"son\", \"space\", \"space\", \"speed\", \"speed\", \"speed\", \"speed\", \"spring\", \"ssd\", \"ssd\", \"status\", \"stock\", \"stock\", \"stock\", \"storage\", \"storage\", \"storage\", \"stress\", \"style\", \"surprised\", \"system\", \"system\", \"system\", \"system\", \"talk\", \"technology\", \"technology\", \"teen\", \"thank\", \"thank\", \"thank\", \"theme\", \"thing\", \"thing\", \"thing\", \"thought\", \"time\", \"time\", \"time\", \"time\", \"timer\", \"tiny\", \"tiny\", \"title\", \"title\", \"title\", \"today\", \"top\", \"top\", \"touch\", \"track\", \"tracker\", \"transfer\", \"transfer\", \"transfer\", \"transfer\", \"trigger\", \"trigger\", \"trigger\", \"trigger\", \"trouble\", \"trouble\", \"undamaged\", \"uninspired\", \"unit\", \"unit\", \"upgrade\", \"upgrade\", \"upgrade\", \"upgrade\", \"valhalla\", \"variety\", \"version\", \"video\", \"video\", \"video\", \"video\", \"view\", \"walk\", \"war\", \"warzone\", \"way\", \"way\", \"way\", \"way\", \"well\", \"well\", \"well\", \"well\", \"word\", \"world\", \"world\", \"worth\", \"worth\", \"worth\", \"worth\", \"year\", \"year\", \"year\", \"year\", \"young\"]}, \"R\": 30, \"lambda.step\": 0.01, \"plot.opts\": {\"xlab\": \"PC1\", \"ylab\": \"PC2\"}, \"topic.order\": [4, 1, 2, 3]};\n",
       "\n",
       "function LDAvis_load_lib(url, callback){\n",
       "  var s = document.createElement('script');\n",
       "  s.src = url;\n",
       "  s.async = true;\n",
       "  s.onreadystatechange = s.onload = callback;\n",
       "  s.onerror = function(){console.warn(\"failed to load library \" + url);};\n",
       "  document.getElementsByTagName(\"head\")[0].appendChild(s);\n",
       "}\n",
       "\n",
       "if(typeof(LDAvis) !== \"undefined\"){\n",
       "   // already loaded: just create the visualization\n",
       "   !function(LDAvis){\n",
       "       new LDAvis(\"#\" + \"ldavis_el1508018870401534082823265241\", ldavis_el1508018870401534082823265241_data);\n",
       "   }(LDAvis);\n",
       "}else if(typeof define === \"function\" && define.amd){\n",
       "   // require.js is available: use it to load d3/LDAvis\n",
       "   require.config({paths: {d3: \"https://cdnjs.cloudflare.com/ajax/libs/d3/3.5.5/d3.min\"}});\n",
       "   require([\"d3\"], function(d3){\n",
       "      window.d3 = d3;\n",
       "      LDAvis_load_lib(\"https://cdn.rawgit.com/bmabey/pyLDAvis/files/ldavis.v1.0.0.js\", function(){\n",
       "        new LDAvis(\"#\" + \"ldavis_el1508018870401534082823265241\", ldavis_el1508018870401534082823265241_data);\n",
       "      });\n",
       "    });\n",
       "}else{\n",
       "    // require.js not available: dynamically load d3 & LDAvis\n",
       "    LDAvis_load_lib(\"https://cdnjs.cloudflare.com/ajax/libs/d3/3.5.5/d3.min.js\", function(){\n",
       "         LDAvis_load_lib(\"https://cdn.rawgit.com/bmabey/pyLDAvis/files/ldavis.v1.0.0.js\", function(){\n",
       "                 new LDAvis(\"#\" + \"ldavis_el1508018870401534082823265241\", ldavis_el1508018870401534082823265241_data);\n",
       "            })\n",
       "         });\n",
       "}\n",
       "</script>"
      ],
      "text/plain": [
       "PreparedData(topic_coordinates=              x         y  topics  cluster       Freq\n",
       "topic                                                \n",
       "3      0.015086 -0.031586       1        1  43.221736\n",
       "0      0.115120  0.009554       2        1  22.512538\n",
       "1     -0.069885 -0.073759       3        1  21.167706\n",
       "2     -0.060320  0.095790       4        1  13.098020, topic_info=        Term        Freq       Total Category  logprob  loglift\n",
       "30     great  154.000000  154.000000  Default  30.0000  30.0000\n",
       "14       day   93.000000   93.000000  Default  29.0000  29.0000\n",
       "798     love   66.000000   66.000000  Default  28.0000  28.0000\n",
       "12   console  286.000000  286.000000  Default  27.0000  27.0000\n",
       "509  graphic   66.000000   66.000000  Default  26.0000  26.0000\n",
       "..       ...         ...         ...      ...      ...      ...\n",
       "282    issue    7.989086   67.229302   Topic4  -5.2031  -0.0973\n",
       "35    launch    6.622075   45.405962   Topic4  -5.3908   0.1075\n",
       "21      fast    6.926501   71.928523   Topic4  -5.3458  -0.3076\n",
       "331   gaming    6.110324   37.670695   Topic4  -5.4712   0.2138\n",
       "49    review    5.579786   25.908542   Topic4  -5.5620   0.4973\n",
       "\n",
       "[311 rows x 6 columns], token_table=      Topic      Freq     Term\n",
       "term                          \n",
       "60        1  0.407837     able\n",
       "60        2  0.084966     able\n",
       "60        3  0.492803     able\n",
       "60        4  0.033986     able\n",
       "731       2  0.889507  account\n",
       "...     ...       ...      ...\n",
       "265       1  0.684517     year\n",
       "265       2  0.152115     year\n",
       "265       3  0.126762     year\n",
       "265       4  0.025352     year\n",
       "375       4  0.836992    young\n",
       "\n",
       "[499 rows x 3 columns], R=30, lambda_step=0.01, plot_opts={'xlab': 'PC1', 'ylab': 'PC2'}, topic_order=[4, 1, 2, 3])"
      ]
     },
     "execution_count": 129,
     "metadata": {},
     "output_type": "execute_result"
    }
   ],
   "source": [
    "pyLDAvis.enable_notebook()\n",
    "vis = pyLDAvis.gensim.prepare(lda_model, doc_term_matrix, dictionary)\n",
    "vis"
   ]
  },
  {
   "cell_type": "markdown",
   "metadata": {},
   "source": [
    "As can be seen above, there are 4 topics which are clearly separated. Based on the words within each topic, I can take a reasonable guess as to what the topics are about:<br>\n",
    "\n",
    "Topic 1: Great reviews on how fast the system is: Load, fast, awesome, time, feedback<br>\n",
    "Topic 2: Great reviews on the design and controller and speed: design, controller, speed, performance<br>\n",
    "Topic 3: Positive reviews on the hardware and the system being quiet.<br>\n",
    "Topic 4: Positive comments on the graphics and the system being perfect: Graphic, worth, love, release, perfect<br>\n",
    "\n",
    "It seems to me that most customers were really happy with how fast the PS5 is compared to the PS4.<br> \n",
    "There seems to be great feedback on the controller and the system design.<br> \"Quiet\" shows up which could possibly mean\n",
    "how quiet the system is when running games.<br> Some consumers even called the system perfect."
   ]
  },
  {
   "cell_type": "markdown",
   "metadata": {},
   "source": [
    "#                                      Data Cleaning (PS5 Negative Reviews)\n",
    "\n",
    "The following section is done in order to prepare the PS5 negative reviews for the LDA model.\n",
    "The data will need to be split, tokenized, and lemmatized in order to prepare it for the model.\n",
    "Visualizations will also be built in order to take a better look at the data."
   ]
  },
  {
   "cell_type": "markdown",
   "metadata": {},
   "source": [
    "The following code is run to generate a frequency bar graph for the negative reviews:"
   ]
  },
  {
   "cell_type": "code",
   "execution_count": 130,
   "metadata": {},
   "outputs": [
    {
     "data": {
      "image/png": "[encoded data removed]",
      "text/plain": [
       "<Figure size 1440x360 with 1 Axes>"
      ]
     },
     "metadata": {
      "needs_background": "light"
     },
     "output_type": "display_data"
    }
   ],
   "source": [
    "freq_words(ps5reviews_negative['Comment'])"
   ]
  },
  {
   "cell_type": "markdown",
   "metadata": {},
   "source": [
    "Looking above, it seems most of the most frequent words are \"the\", \"and\", and \"for\".<br> But these are not necessary words because these words don't show true sentiment.<br>The dataset will need to be cleaned further in order to prepare this dataset for the model."
   ]
  },
  {
   "cell_type": "markdown",
   "metadata": {},
   "source": [
    "This code removes the characters and samples from the text dataset:"
   ]
  },
  {
   "cell_type": "code",
   "execution_count": 131,
   "metadata": {},
   "outputs": [],
   "source": [
    "ps5reviews_negative['Comment'] = ps5reviews_negative['Comment'].str.replace(\"[^a-zA-Z#]\",\" \")"
   ]
  },
  {
   "cell_type": "markdown",
   "metadata": {},
   "source": [
    "The following code is run in order to remove short words (length < 3) to make the data cleaner:"
   ]
  },
  {
   "cell_type": "code",
   "execution_count": 132,
   "metadata": {},
   "outputs": [],
   "source": [
    "ps5reviews_negative['Comment'] = ps5reviews_negative['Comment'].apply(lambda x: ' '.join([w for w in x.split() if len(w) > 2]))"
   ]
  },
  {
   "cell_type": "markdown",
   "metadata": {},
   "source": [
    "This code removes the stopwords from the text:"
   ]
  },
  {
   "cell_type": "code",
   "execution_count": 133,
   "metadata": {},
   "outputs": [],
   "source": [
    "reviews = [remove_stopwords(r.split()) for r in ps5reviews_negative['Comment']]"
   ]
  },
  {
   "cell_type": "markdown",
   "metadata": {},
   "source": [
    "Here, the text is lowercased:"
   ]
  },
  {
   "cell_type": "code",
   "execution_count": 134,
   "metadata": {},
   "outputs": [],
   "source": [
    "reviews = [r.lower() for r in reviews]"
   ]
  },
  {
   "cell_type": "code",
   "execution_count": 135,
   "metadata": {},
   "outputs": [
    {
     "data": {
      "image/png": "[encoded data removed]",
      "text/plain": [
       "<Figure size 1440x360 with 1 Axes>"
      ]
     },
     "metadata": {
      "needs_background": "light"
     },
     "output_type": "display_data"
    }
   ],
   "source": [
    "freq_words(reviews, 20)"
   ]
  },
  {
   "cell_type": "markdown",
   "metadata": {},
   "source": [
    "Re-running a frequency bar graph on the data, it seems the stopwords have been removed and the reviews are getting closer to be used for the model.<br>The next step is to lemmatize the data."
   ]
  },
  {
   "cell_type": "markdown",
   "metadata": {},
   "source": [
    "Here, the text within the dataset is split into tokens:"
   ]
  },
  {
   "cell_type": "code",
   "execution_count": 136,
   "metadata": {},
   "outputs": [
    {
     "name": "stdout",
     "output_type": "stream",
     "text": [
      "['taking', 'advantage', 'high', 'demand']\n"
     ]
    }
   ],
   "source": [
    "tokenized_reviews = pd.Series(reviews).apply(lambda x: x.split())\n",
    "print(tokenized_reviews[1])"
   ]
  },
  {
   "cell_type": "markdown",
   "metadata": {},
   "source": [
    "The data is lemmatized through this code:"
   ]
  },
  {
   "cell_type": "code",
   "execution_count": 137,
   "metadata": {},
   "outputs": [
    {
     "name": "stdout",
     "output_type": "stream",
     "text": [
      "['advantage', 'high', 'demand']\n"
     ]
    }
   ],
   "source": [
    "reviews_2 = lemmatization(tokenized_reviews)\n",
    "print(reviews_2[1]) "
   ]
  },
  {
   "cell_type": "markdown",
   "metadata": {},
   "source": [
    "The following code is run in order to append the reviews to a new dataframe in order to show a frequency graph \n",
    "of the lemmatized reviews later on:"
   ]
  },
  {
   "cell_type": "code",
   "execution_count": 138,
   "metadata": {},
   "outputs": [],
   "source": [
    "reviews_3 = []\n",
    "for i in range(len(reviews_2)):\n",
    "    reviews_3.append(' '.join(reviews_2[i]))\n",
    "\n",
    "ps5reviews_negative['reviews'] = reviews_3"
   ]
  },
  {
   "cell_type": "code",
   "execution_count": 139,
   "metadata": {},
   "outputs": [
    {
     "data": {
      "image/png": "[encoded data removed]",
      "text/plain": [
       "<Figure size 1440x360 with 1 Axes>"
      ]
     },
     "metadata": {
      "needs_background": "light"
     },
     "output_type": "display_data"
    }
   ],
   "source": [
    "freq_words(ps5reviews_negative['reviews'], 20)"
   ]
  },
  {
   "cell_type": "markdown",
   "metadata": {},
   "source": [
    "As can be seen, the tokens are now clearer as words such as \"game\", \"system\", and \"money\" are now clearly showing in the dataset.<br> The dataset is now ready for model building."
   ]
  },
  {
   "cell_type": "markdown",
   "metadata": {},
   "source": [
    "#                                        LDA Model (PS5 Negative Reviews)\n",
    "\n",
    "The code below is run in order to incorporate the negative reviews into a dictionary in order to set up the LDA Model.\n"
   ]
  },
  {
   "cell_type": "code",
   "execution_count": 140,
   "metadata": {},
   "outputs": [],
   "source": [
    "dictionary = corpora.Dictionary(reviews_2)\n",
    "doc_term_matrix = [dictionary.doc2bow(rev) for rev in reviews_2]"
   ]
  },
  {
   "cell_type": "markdown",
   "metadata": {},
   "source": [
    "Next, the LDA Model is imported and the next lines of code are run in order to build the model.<br>\n",
    "The number of topics chosen through trial and error were 4."
   ]
  },
  {
   "cell_type": "code",
   "execution_count": 141,
   "metadata": {},
   "outputs": [],
   "source": [
    "LDA = gensim.models.ldamodel.LdaModel\n",
    "\n",
    "lda_model = LDA(corpus = doc_term_matrix, \n",
    "                id2word = dictionary,\n",
    "                num_topics = 4,\n",
    "                random_state = 100,\n",
    "                chunksize = 1000,\n",
    "                passes = 50)"
   ]
  },
  {
   "cell_type": "markdown",
   "metadata": {},
   "source": [
    "Here, this code is being run to print the topics and the words associated with it:"
   ]
  },
  {
   "cell_type": "code",
   "execution_count": 142,
   "metadata": {},
   "outputs": [
    {
     "data": {
      "text/plain": [
       "[(0,\n",
       "  '0.034*\"console\" + 0.021*\"time\" + 0.020*\"people\" + 0.019*\"money\" + 0.018*\"product\" + 0.016*\"unit\" + 0.015*\"company\" + 0.014*\"price\" + 0.012*\"release\" + 0.011*\"year\"'),\n",
       " (1,\n",
       "  '0.020*\"console\" + 0.018*\"people\" + 0.018*\"game\" + 0.014*\"hope\" + 0.014*\"purchase\" + 0.014*\"way\" + 0.010*\"good\" + 0.009*\"bunch\" + 0.008*\"high\" + 0.008*\"new\"'),\n",
       " (2,\n",
       "  '0.030*\"game\" + 0.027*\"system\" + 0.019*\"price\" + 0.015*\"new\" + 0.015*\"time\" + 0.013*\"product\" + 0.013*\"playstation\" + 0.011*\"year\" + 0.010*\"worth\" + 0.010*\"good\"'),\n",
       " (3,\n",
       "  '0.020*\"console\" + 0.017*\"time\" + 0.016*\"unit\" + 0.015*\"day\" + 0.014*\"system\" + 0.013*\"game\" + 0.010*\"launch\" + 0.009*\"point\" + 0.009*\"release\" + 0.008*\"controller\"')]"
      ]
     },
     "execution_count": 142,
     "metadata": {},
     "output_type": "execute_result"
    }
   ],
   "source": [
    "lda_model.print_topics()"
   ]
  },
  {
   "cell_type": "markdown",
   "metadata": {},
   "source": [
    "This code is run to visualize the LDA model into a graphical bubble plot:"
   ]
  },
  {
   "cell_type": "code",
   "execution_count": 143,
   "metadata": {},
   "outputs": [
    {
     "data": {
      "text/html": [
       "\n",
       "<link rel=\"stylesheet\" type=\"text/css\" href=\"https://cdn.rawgit.com/bmabey/pyLDAvis/files/ldavis.v1.0.0.css\">\n",
       "\n",
       "\n",
       "<div id=\"ldavis_el1508018869497678729887419937\"></div>\n",
       "<script type=\"text/javascript\">\n",
       "\n",
       "var ldavis_el1508018869497678729887419937_data = {\"mdsDat\": {\"x\": [0.1516864239719426, -0.020752271829896175, -0.060218052268039335, -0.0707160998740071], \"y\": [-0.023869638641658742, 0.10243223196011433, 0.018171136246098476, -0.09673372956455409], \"topics\": [1, 2, 3, 4], \"cluster\": [1, 1, 1, 1], \"Freq\": [32.96928066876599, 22.847742604974407, 22.38171747273298, 21.801259253526627]}, \"tinfo\": {\"Term\": [\"game\", \"unit\", \"hope\", \"company\", \"price\", \"purchase\", \"product\", \"system\", \"money\", \"console\", \"worth\", \"retail\", \"people\", \"bunch\", \"reseller\", \"day\", \"year\", \"new\", \"machine\", \"crash\", \"audio\", \"bad\", \"thing\", \"good\", \"controller\", \"base\", \"launch\", \"crap\", \"drive\", \"supply\", \"scam\", \"kind\", \"retail\", \"reseller\", \"page\", \"spend\", \"bitter\", \"wide\", \"dice\", \"disingenuous\", \"depression\", \"responsibility\", \"economic\", \"cusp\", \"corrupt\", \"phony\", \"mailing\", \"staying\", \"rewarding\", \"attitude\", \"feeder\", \"multiple\", \"limit\", \"direct\", \"household\", \"absolute\", \"expensive\", \"history\", \"island\", \"interest\", \"company\", \"notification\", \"ridiculous\", \"world\", \"money\", \"console\", \"product\", \"sale\", \"unit\", \"bad\", \"people\", \"thank\", \"drop\", \"release\", \"time\", \"year\", \"customer\", \"price\", \"consumer\", \"problem\", \"bot\", \"shame\", \"production\", \"scalper\", \"way\", \"hour\", \"demand\", \"order\", \"system\", \"high\", \"audio\", \"majority\", \"headphone\", \"seller\", \"virtual\", \"base\", \"accessory\", \"hdd\", \"setting\", \"stuff\", \"plan\", \"poor\", \"samsung\", \"picture\", \"assassin\", \"image\", \"impression\", \"cash\", \"download\", \"automatic\", \"cell\", \"valhalla\", \"datum\", \"unhappy\", \"mile\", \"clean\", \"folk\", \"member\", \"membership\", \"message\", \"update\", \"drive\", \"supply\", \"size\", \"video\", \"low\", \"inventory\", \"prime\", \"pre\", \"support\", \"day\", \"fan\", \"ssd\", \"launch\", \"week\", \"point\", \"unit\", \"terrible\", \"long\", \"enough\", \"time\", \"console\", \"controller\", \"star\", \"system\", \"order\", \"game\", \"release\", \"double\", \"month\", \"new\", \"demand\", \"lot\", \"way\", \"high\", \"harsh\", \"charger\", \"couple\", \"upgrade\", \"disk\", \"difference\", \"capable\", \"ill\", \"nintendo\", \"gain\", \"compatible\", \"family\", \"digital\", \"honest\", \"example\", \"notice\", \"old\", \"flaw\", \"vent\", \"alot\", \"parent\", \"disappointment\", \"name\", \"triple\", \"hell\", \"tax\", \"key\", \"shipment\", \"crap\", \"more\", \"worth\", \"service\", \"version\", \"game\", \"dollar\", \"system\", \"well\", \"price\", \"new\", \"much\", \"graphic\", \"thing\", \"bit\", \"load\", \"playstation\", \"good\", \"full\", \"switch\", \"year\", \"controller\", \"little\", \"great\", \"huge\", \"product\", \"time\", \"money\", \"big\", \"customer\", \"able\", \"scalper\", \"people\", \"business\", \"demand\", \"company\", \"play\", \"hope\", \"title\", \"dirbag\", \"jerk\", \"millisecond\", \"night\", \"button\", \"bunch\", \"mine\", \"hardware\", \"machine\", \"white\", \"color\", \"certain\", \"damage\", \"economy\", \"crash\", \"purchase\", \"theme\", \"respect\", \"usual\", \"ton\", \"fomo\", \"choice\", \"treat\", \"setup\", \"protection\", \"weekend\", \"edition\", \"middle\", \"nice\", \"advantage\", \"luck\", \"play\", \"item\", \"work\", \"other\", \"way\", \"people\", \"future\", \"issue\", \"game\", \"good\", \"console\", \"high\", \"sure\", \"double\", \"website\", \"new\", \"bad\", \"scalper\", \"demand\", \"thing\", \"playstation\", \"big\", \"month\", \"many\", \"day\", \"time\", \"system\"], \"Freq\": [55.0, 36.0, 12.0, 25.0, 39.0, 15.0, 38.0, 52.0, 36.0, 84.0, 13.0, 15.0, 51.0, 9.0, 13.0, 24.0, 27.0, 29.0, 8.0, 9.0, 6.0, 20.0, 17.0, 22.0, 17.0, 7.0, 17.0, 8.0, 9.0, 9.0, 8.365396044753881, 7.549570352874865, 13.99387999430713, 12.458655947037075, 5.08983326556858, 4.284949034763179, 4.284949034763179, 4.284948415289091, 4.284947795815004, 4.284947795815004, 4.284947795815004, 4.28494748607796, 4.284946866603872, 4.284946866603872, 4.284946866603872, 4.284946866603872, 4.284945937392741, 4.284945937392741, 4.284945937392741, 4.284945937392741, 4.284635890611858, 4.277572027590064, 4.276362814170916, 3.46872130420126, 3.4687030297156736, 3.3816628938153275, 6.713669364236464, 8.050481436490008, 2.6525152552324096, 2.652514635758322, 20.379987567305683, 9.165228154637223, 10.164957118925244, 10.006952199699798, 25.58332583101135, 45.0658230569335, 23.434251281831116, 11.648258706588383, 21.40205414772129, 13.364227947368459, 27.119118555493895, 5.842991719789902, 5.839120626216001, 16.607732323042327, 28.287461552232934, 15.28669268053516, 11.925931771649223, 18.538018536040052, 9.157558445957681, 6.65126106674742, 7.985152318677561, 5.110583479346491, 5.097143989014313, 12.082103667049228, 13.602226175009866, 8.385112046542414, 10.630237291965315, 8.26743860726934, 11.554785022550455, 8.035404056670009, 6.378211400498701, 4.058780663349326, 3.285685523212546, 3.28563765669437, 3.2843916246853437, 6.389214689533449, 2.512552819664642, 2.5125526050165785, 2.5125500292398155, 2.512510319348055, 2.5034304916109624, 4.83449300732522, 1.739417540339975, 1.739417540339975, 1.739417540339975, 1.7394171110438477, 1.7394171110438477, 1.7394171110438477, 1.7394134620267672, 1.7394091690654956, 1.7394091690654956, 1.7394009051150483, 1.7394006904669845, 1.7393927484886325, 1.7393582974744295, 1.7393503554960774, 1.738727339491564, 1.7387041575006985, 1.7386215179962239, 1.7353456665740439, 3.982138425770869, 6.375019154497282, 6.363376214233095, 3.2866877150213565, 3.286094857069775, 3.283695521015185, 5.260530347564947, 2.2519342242635276, 5.186893182876476, 5.994474324850671, 13.746727400047195, 4.061538890966205, 4.049162712916862, 9.14754920114909, 4.623554920885544, 8.702545128716153, 14.889298183840323, 4.060032920152196, 6.022919056938897, 5.265089472435182, 15.704018091112742, 18.336298810212142, 7.157812738090364, 4.581316904232283, 12.875383333604896, 6.751896936625855, 11.89409738759408, 8.293339201733238, 4.848556319154227, 4.839450519001442, 6.462718772422505, 5.861089871667372, 4.870508376615574, 5.686427737267226, 5.1473198072843775, 4.027944303316575, 3.26094934542989, 3.260934626537619, 2.492558616016115, 4.0356107434909845, 4.027686512431939, 1.726320104057226, 1.7263184218981094, 1.7263181064932749, 1.7263181064932749, 1.7263181064932749, 1.7263166346040477, 1.7263169500088822, 1.7263162140642687, 1.7263153729847103, 1.7263142165003176, 1.7263142165003176, 1.7263116932616425, 1.7263116932616425, 1.7263067519192372, 1.726271426577786, 1.7262639619967057, 1.7262494533743242, 1.7262447223018085, 1.7251251402746925, 1.725122932440852, 1.7251649864187697, 1.724577702617148, 6.34567780449205, 1.7088996642445686, 9.415453340895876, 4.7986170918420585, 3.258486874752915, 27.051135505491086, 6.851283529122266, 24.2863623314928, 6.342147793585632, 17.52475386380283, 13.743196247390447, 6.677159454093515, 5.466740414135499, 8.161903320645616, 3.260702278309623, 3.260206672179862, 11.402272500631998, 9.394348131538065, 2.494780958479179, 2.5107801841081057, 9.643655046668869, 7.013775473858961, 6.349598917393102, 4.697179532786162, 3.9295695354724294, 11.521233111206671, 13.26522335057044, 7.71594527613485, 5.475032196961546, 5.5260087673741305, 4.816600213879255, 5.474037620383791, 6.293781934122183, 4.554085826443597, 4.3775840195033755, 4.225984475587162, 4.040044494382855, 12.228075010877616, 4.701841455994074, 3.9525078655251926, 3.9524980343260308, 3.9524558420962954, 3.9524558420962954, 3.9520228596998837, 7.72039318419367, 3.196171593820116, 3.190867457055748, 6.9783031393404436, 2.4467546429750096, 2.4467534140751144, 2.446740100992916, 2.4466432227178436, 2.442695381804487, 7.245030126729216, 12.150796050600743, 1.6938849954659907, 1.693856730768401, 1.6938530440687152, 1.6938530440687152, 1.6938494597773541, 1.6938388093115957, 1.6927104743911454, 1.6926447282467516, 1.6915099416018515, 1.6915085078853072, 1.6911616508898846, 1.6911246814847036, 4.674983029517701, 5.295619259194303, 5.3340387662514965, 6.948573593075566, 3.958892410114098, 3.950953307157754, 3.1985794183481273, 11.882750043991114, 15.965123544475633, 2.4485371622730088, 7.24601406591198, 15.892020386042677, 8.485213780775265, 18.030314396370994, 7.456925239326989, 3.9521609061214455, 4.707240832500321, 3.9567025105008367, 7.293869066364582, 6.066042410398151, 6.718164693923182, 6.542233746391975, 5.543862772892546, 6.138791645661286, 5.112248142064208, 4.5244362382219165, 4.583544684648239, 4.766819947586509, 5.076288073330623, 4.169522575086404], \"Total\": [55.0, 36.0, 12.0, 25.0, 39.0, 15.0, 38.0, 52.0, 36.0, 84.0, 13.0, 15.0, 51.0, 9.0, 13.0, 24.0, 27.0, 29.0, 8.0, 9.0, 6.0, 20.0, 17.0, 22.0, 17.0, 7.0, 17.0, 8.0, 9.0, 9.0, 8.939267043565174, 8.123148458386854, 15.414873737250065, 13.788326762462418, 5.673551287530979, 4.8583025811262885, 4.858302589728776, 4.85830212827111, 4.858302470309374, 4.858302491610211, 4.858302503285016, 4.858302256324248, 4.8583019241059135, 4.858302049658467, 4.858302153398408, 4.858302158314116, 4.858301863318451, 4.858302203519067, 4.858302478997326, 4.858302506545488, 4.858241417527307, 4.857724861088567, 4.857593657137974, 4.042081439240936, 4.042077726178408, 4.0373951208604915, 8.072537330347997, 9.695706136039346, 3.2258641266428594, 3.225863737587502, 25.004974799706325, 11.300215390601323, 12.867052599564445, 12.851160081570878, 36.849500475872965, 84.59477596963572, 38.17810595665908, 16.83788226703765, 36.6865488638541, 20.63594056499522, 51.20767854711637, 7.239013729625156, 7.258952442352708, 29.382183594174567, 62.332991067246745, 27.787433729760973, 20.64528702512312, 39.43862545771786, 15.087708150003232, 9.581275027287028, 12.755751546076452, 6.427988704612428, 6.447128707858545, 27.474729215405365, 33.62413282925862, 15.09320453292354, 27.41114492952804, 18.169376816840096, 52.88605326273455, 21.86159135372864, 6.962323733415575, 4.642923198584952, 3.8697956142536896, 3.8697899420293984, 3.869846876096756, 7.72957050659695, 3.096662126307757, 3.0966621010023196, 3.096661650016365, 3.09665587957324, 3.0969365498194543, 6.168880803450325, 2.323526046662937, 2.3235261625539567, 2.323526209479112, 2.3235259321717905, 2.3235259780744633, 2.323525992552822, 2.323525704617376, 2.3235248961819472, 2.323524948014127, 2.323523746089562, 2.3235236676599285, 2.3235224660723066, 2.3235179454084447, 2.3235161726052684, 2.323550959068097, 2.323547814945346, 2.323536293284841, 2.323380984920955, 5.393682426414959, 9.264187660885913, 9.264810430069268, 4.636976902703192, 4.6369736703159665, 4.63693207404892, 7.840629135722036, 3.0896598986520254, 7.843535604364826, 9.239650518166808, 24.02505614928391, 6.148714652632524, 6.177261919398026, 17.309016173693266, 7.812970829543707, 18.014203210467734, 36.6865488638541, 6.967475784209892, 11.732728493289832, 10.187665077761398, 62.332991067246745, 84.59477596963572, 17.651193688940523, 8.566860544358887, 52.88605326273455, 18.169376816840096, 55.04360073656608, 29.382183594174567, 10.700616406536025, 11.58035705847914, 29.982334855447785, 27.41114492952804, 14.899242466271367, 33.62413282925862, 21.86159135372864, 4.6137844256673795, 3.846515999547746, 3.8465139147846252, 3.079170436205847, 5.366722757592447, 5.3868187803369025, 2.311887311835303, 2.3118869285823704, 2.3118871604104196, 2.311887196543512, 2.311887456582476, 2.311886593264291, 2.311887260371762, 2.3118868149453657, 2.311886812595594, 2.3118865614630204, 2.311886766263988, 2.31188590219834, 2.311885953402502, 2.3118856021880427, 2.311880487073922, 2.311879823940803, 2.311879362001773, 2.3118771901900717, 2.3118443818491428, 2.3118439816290675, 2.3119417140165104, 2.3118322871982997, 8.546720807703375, 2.311861117284269, 13.750163882046843, 6.969988202256128, 4.5993920447597905, 55.04360073656608, 11.639035223391108, 52.88605326273455, 10.826387270031601, 39.43862545771786, 29.982334855447785, 12.476906164951494, 9.931101434021457, 17.581862880632475, 5.372272575347484, 5.3926572032776905, 28.74693663308048, 22.991998469217723, 3.852312995047071, 3.8940855942551127, 27.787433729760973, 17.651193688940523, 15.46885340443377, 10.001406366157344, 7.693794148269734, 38.17810595665908, 62.332991067246745, 36.849500475872965, 17.85004349806461, 20.64528702512312, 14.832332789633702, 27.474729215405365, 51.20767854711637, 16.271768337272658, 27.41114492952804, 25.004974799706325, 13.709569205625172, 12.82373401425954, 5.294701615257162, 4.541737432635317, 4.541735181474654, 4.541731555019043, 4.541731555019043, 4.541780250453913, 9.073312180382928, 3.789074429576785, 3.7891578396246617, 8.367432805635353, 3.0359513740545188, 3.035951198646832, 3.035949730175261, 3.0359388497104427, 3.0362326876431727, 9.091895135584423, 15.998498278574477, 2.2830558973945436, 2.2830531792726365, 2.2830523208217715, 2.2830530892694654, 2.283052240979391, 2.2830517703296946, 2.2830726544200273, 2.2830658125335317, 2.283094940147483, 2.283095210199943, 2.283244076460446, 2.283240515783775, 6.890337881723786, 8.509653751103201, 9.181473793181123, 13.709569205625172, 6.855275918868974, 6.94693866977566, 5.323369026841576, 33.62413282925862, 51.20767854711637, 3.808887596846864, 17.70275348420264, 55.04360073656608, 22.991998469217723, 84.59477596963572, 21.86159135372864, 7.6108669927596395, 10.700616406536025, 7.719703699011128, 29.982334855447785, 20.63594056499522, 27.474729215405365, 27.41114492952804, 17.581862880632475, 28.74693663308048, 17.85004349806461, 11.58035705847914, 14.809602875265512, 24.02505614928391, 62.332991067246745, 52.88605326273455], \"Category\": [\"Default\", \"Default\", \"Default\", \"Default\", \"Default\", \"Default\", \"Default\", \"Default\", \"Default\", \"Default\", \"Default\", \"Default\", \"Default\", \"Default\", \"Default\", \"Default\", \"Default\", \"Default\", \"Default\", \"Default\", \"Default\", \"Default\", \"Default\", \"Default\", \"Default\", \"Default\", \"Default\", \"Default\", \"Default\", \"Default\", \"Topic1\", \"Topic1\", \"Topic1\", \"Topic1\", \"Topic1\", \"Topic1\", \"Topic1\", \"Topic1\", \"Topic1\", \"Topic1\", \"Topic1\", \"Topic1\", \"Topic1\", \"Topic1\", \"Topic1\", \"Topic1\", \"Topic1\", \"Topic1\", \"Topic1\", \"Topic1\", \"Topic1\", \"Topic1\", \"Topic1\", \"Topic1\", \"Topic1\", \"Topic1\", \"Topic1\", \"Topic1\", \"Topic1\", \"Topic1\", \"Topic1\", \"Topic1\", \"Topic1\", \"Topic1\", \"Topic1\", \"Topic1\", \"Topic1\", \"Topic1\", \"Topic1\", \"Topic1\", \"Topic1\", \"Topic1\", \"Topic1\", \"Topic1\", \"Topic1\", \"Topic1\", \"Topic1\", \"Topic1\", \"Topic1\", \"Topic1\", \"Topic1\", \"Topic1\", \"Topic1\", \"Topic1\", \"Topic1\", \"Topic1\", \"Topic1\", \"Topic1\", \"Topic1\", \"Topic1\", \"Topic2\", \"Topic2\", \"Topic2\", \"Topic2\", \"Topic2\", \"Topic2\", \"Topic2\", \"Topic2\", \"Topic2\", \"Topic2\", \"Topic2\", \"Topic2\", \"Topic2\", \"Topic2\", \"Topic2\", \"Topic2\", \"Topic2\", \"Topic2\", \"Topic2\", \"Topic2\", \"Topic2\", \"Topic2\", \"Topic2\", \"Topic2\", \"Topic2\", \"Topic2\", \"Topic2\", \"Topic2\", \"Topic2\", \"Topic2\", \"Topic2\", \"Topic2\", \"Topic2\", \"Topic2\", \"Topic2\", \"Topic2\", \"Topic2\", \"Topic2\", \"Topic2\", \"Topic2\", \"Topic2\", \"Topic2\", \"Topic2\", \"Topic2\", \"Topic2\", \"Topic2\", \"Topic2\", \"Topic2\", \"Topic2\", \"Topic2\", \"Topic2\", \"Topic2\", \"Topic2\", \"Topic2\", \"Topic2\", \"Topic2\", \"Topic2\", \"Topic2\", \"Topic2\", \"Topic2\", \"Topic2\", \"Topic2\", \"Topic2\", \"Topic2\", \"Topic2\", \"Topic3\", \"Topic3\", \"Topic3\", \"Topic3\", \"Topic3\", \"Topic3\", \"Topic3\", \"Topic3\", \"Topic3\", \"Topic3\", \"Topic3\", \"Topic3\", \"Topic3\", \"Topic3\", \"Topic3\", \"Topic3\", \"Topic3\", \"Topic3\", \"Topic3\", \"Topic3\", \"Topic3\", \"Topic3\", \"Topic3\", \"Topic3\", \"Topic3\", \"Topic3\", \"Topic3\", \"Topic3\", \"Topic3\", \"Topic3\", \"Topic3\", \"Topic3\", \"Topic3\", \"Topic3\", \"Topic3\", \"Topic3\", \"Topic3\", \"Topic3\", \"Topic3\", \"Topic3\", \"Topic3\", \"Topic3\", \"Topic3\", \"Topic3\", \"Topic3\", \"Topic3\", \"Topic3\", \"Topic3\", \"Topic3\", \"Topic3\", \"Topic3\", \"Topic3\", \"Topic3\", \"Topic3\", \"Topic3\", \"Topic3\", \"Topic3\", \"Topic3\", \"Topic3\", \"Topic3\", \"Topic3\", \"Topic3\", \"Topic3\", \"Topic3\", \"Topic3\", \"Topic4\", \"Topic4\", \"Topic4\", \"Topic4\", \"Topic4\", \"Topic4\", \"Topic4\", \"Topic4\", \"Topic4\", \"Topic4\", \"Topic4\", \"Topic4\", \"Topic4\", \"Topic4\", \"Topic4\", \"Topic4\", \"Topic4\", \"Topic4\", \"Topic4\", \"Topic4\", \"Topic4\", \"Topic4\", \"Topic4\", \"Topic4\", \"Topic4\", \"Topic4\", \"Topic4\", \"Topic4\", \"Topic4\", \"Topic4\", \"Topic4\", \"Topic4\", \"Topic4\", \"Topic4\", \"Topic4\", \"Topic4\", \"Topic4\", \"Topic4\", \"Topic4\", \"Topic4\", \"Topic4\", \"Topic4\", \"Topic4\", \"Topic4\", \"Topic4\", \"Topic4\", \"Topic4\", \"Topic4\", \"Topic4\", \"Topic4\", \"Topic4\", \"Topic4\", \"Topic4\", \"Topic4\", \"Topic4\", \"Topic4\", \"Topic4\", \"Topic4\", \"Topic4\", \"Topic4\"], \"logprob\": [30.0, 29.0, 28.0, 27.0, 26.0, 25.0, 24.0, 23.0, 22.0, 21.0, 20.0, 19.0, 18.0, 17.0, 16.0, 15.0, 14.0, 13.0, 12.0, 11.0, 10.0, 9.0, 8.0, 7.0, 6.0, 5.0, 4.0, 3.0, 2.0, 1.0, -5.0690999031066895, -5.1717000007629395, -4.554500102996826, -4.67080020904541, -5.565899848937988, -5.738100051879883, -5.738100051879883, -5.738100051879883, -5.738100051879883, -5.738100051879883, -5.738100051879883, -5.738100051879883, -5.738100051879883, -5.738100051879883, -5.738100051879883, -5.738100051879883, -5.738100051879883, -5.738100051879883, -5.738100051879883, -5.738100051879883, -5.738100051879883, -5.739799976348877, -5.740099906921387, -5.949399948120117, -5.949399948120117, -5.974800109863281, -5.289000034332275, -5.107399940490723, -6.217700004577637, -6.217700004577637, -4.178599834442139, -4.977799892425537, -4.874199867248535, -4.889900207519531, -3.951200008392334, -3.384999990463257, -4.039000034332275, -4.73799991607666, -4.129700183868408, -4.600599765777588, -3.892899990081787, -5.4278998374938965, -5.428599834442139, -4.383299827575684, -3.8506999015808105, -4.46619987487793, -4.7144999504089355, -4.2733001708984375, -4.978600025177002, -5.298399925231934, -5.115600109100342, -5.5619001388549805, -5.564499855041504, -4.701399803161621, -4.582900047302246, -5.066699981689453, -4.829500198364258, -5.0808000564575195, -4.746099948883057, -5.109300136566162, -4.973599910736084, -5.425600051879883, -5.636899948120117, -5.636899948120117, -5.63730001449585, -4.971799850463867, -5.905099868774414, -5.905099868774414, -5.905099868774414, -5.905200004577637, -5.90880012512207, -5.250699996948242, -6.272900104522705, -6.272900104522705, -6.272900104522705, -6.272900104522705, -6.272900104522705, -6.272900104522705, -6.272900104522705, -6.272900104522705, -6.272900104522705, -6.272900104522705, -6.272900104522705, -6.272900104522705, -6.272900104522705, -6.272900104522705, -6.2733001708984375, -6.2733001708984375, -6.273399829864502, -6.275199890136719, -5.4446001052856445, -4.974100112915039, -4.975900173187256, -5.636600017547607, -5.63670015335083, -5.637499809265137, -5.166200160980225, -6.014699935913086, -5.180300235748291, -5.035600185394287, -4.205599784851074, -5.424900054931641, -5.4278998374938965, -4.61299991607666, -5.295300006866455, -4.662799835205078, -4.125800132751465, -5.425300121307373, -5.030900001525879, -5.165299892425537, -4.072500228881836, -3.91759991645813, -4.8582000732421875, -5.304500102996826, -4.271100044250488, -4.916600227355957, -4.350399971008301, -4.710999965667725, -5.247799873352051, -5.249599933624268, -4.960400104522705, -5.05810022354126, -5.243199825286865, -5.088399887084961, -5.188000202178955, -5.412600040435791, -5.623799800872803, -5.623799800872803, -5.892499923706055, -5.410699844360352, -5.412600040435791, -6.259799957275391, -6.259799957275391, -6.259799957275391, -6.259799957275391, -6.259799957275391, -6.259799957275391, -6.259799957275391, -6.259799957275391, -6.259799957275391, -6.259799957275391, -6.259799957275391, -6.259799957275391, -6.259799957275391, -6.259900093078613, -6.259900093078613, -6.259900093078613, -6.259900093078613, -6.259900093078613, -6.260499954223633, -6.260499954223633, -6.260499954223633, -6.260900020599365, -4.958099842071533, -6.269999980926514, -4.563499927520752, -5.237500190734863, -5.624599933624268, -3.5081000328063965, -4.881400108337402, -3.6159000396728516, -4.958600044250488, -3.942199945449829, -4.185299873352051, -4.907100200653076, -5.1072001457214355, -4.706399917602539, -5.623899936676025, -5.624000072479248, -4.372000217437744, -4.565700054168701, -5.891600131988525, -5.885200023651123, -4.5395002365112305, -4.857999801635742, -4.957399845123291, -5.258900165557861, -5.437300205230713, -4.361599922180176, -4.220699787139893, -4.762499809265137, -5.105599880218506, -5.096399784088135, -5.233799934387207, -5.105800151824951, -4.966300010681152, -5.28980016708374, -5.3292999267578125, -5.36460018157959, -5.409599781036377, -4.2758002281188965, -5.231599807739258, -5.405200004577637, -5.405200004577637, -5.405200004577637, -5.405200004577637, -5.405300140380859, -4.7357001304626465, -5.617599964141846, -5.61929988861084, -4.8368000984191895, -5.884799957275391, -5.884799957275391, -5.884799957275391, -5.884799957275391, -5.886499881744385, -4.799200057983398, -4.282199859619141, -6.252500057220459, -6.252600193023682, -6.252600193023682, -6.252600193023682, -6.252600193023682, -6.252600193023682, -6.253200054168701, -6.253300189971924, -6.253900051116943, -6.253900051116943, -6.2540998458862305, -6.254199981689453, -5.237299919128418, -5.11269998550415, -5.105500221252441, -4.841000080108643, -5.403600215911865, -5.405600070953369, -5.6168999671936035, -4.304500102996826, -4.009200096130371, -5.884099960327148, -4.799099922180176, -4.013700008392334, -4.641200065612793, -3.887500047683716, -4.770400047302246, -5.405300140380859, -5.230500221252441, -5.404099941253662, -4.792500019073486, -4.976900100708008, -4.87470006942749, -4.901299953460693, -5.06689977645874, -4.964900016784668, -5.147900104522705, -5.270100116729736, -5.2571001052856445, -5.217899799346924, -5.15500020980835, -5.351799964904785], \"loglift\": [30.0, 29.0, 28.0, 27.0, 26.0, 25.0, 24.0, 23.0, 22.0, 21.0, 20.0, 19.0, 18.0, 17.0, 16.0, 15.0, 14.0, 13.0, 12.0, 11.0, 10.0, 9.0, 8.0, 7.0, 6.0, 5.0, 4.0, 3.0, 2.0, 1.0, 1.0432, 1.0364, 1.0129, 1.0082, 1.001, 0.984, 0.984, 0.984, 0.984, 0.984, 0.984, 0.984, 0.984, 0.984, 0.984, 0.984, 0.984, 0.984, 0.984, 0.984, 0.984, 0.9824, 0.9822, 0.9566, 0.9566, 0.9324, 0.9253, 0.9236, 0.9139, 0.9139, 0.9051, 0.9002, 0.8739, 0.8594, 0.7447, 0.4798, 0.6215, 0.7411, 0.5707, 0.6751, 0.4739, 0.8954, 0.8919, 0.5391, 0.3195, 0.512, 0.5608, 0.3547, 0.6103, 0.7446, 0.6412, 0.8802, 0.8746, 0.2881, 0.2046, 0.5218, 0.1623, 0.3222, -0.4114, 0.1087, 1.3887, 1.3419, 1.3127, 1.3127, 1.3123, 1.2859, 1.2673, 1.2673, 1.2673, 1.2673, 1.2636, 1.2326, 1.1868, 1.1868, 1.1868, 1.1868, 1.1868, 1.1868, 1.1868, 1.1868, 1.1868, 1.1868, 1.1868, 1.1868, 1.1868, 1.1867, 1.1864, 1.1864, 1.1863, 1.1845, 1.1729, 1.1025, 1.1007, 1.1321, 1.132, 1.1312, 1.0772, 1.16, 1.0628, 1.0437, 0.918, 1.0616, 1.054, 0.8386, 0.9517, 0.7488, 0.5746, 0.9363, 0.8095, 0.8162, 0.0977, -0.0527, 0.5737, 0.8504, 0.0635, 0.4864, -0.0558, 0.2114, 0.6847, 0.6038, -0.0582, -0.0663, 0.3582, -0.3008, 0.0301, 1.3611, 1.3318, 1.3318, 1.2856, 1.2119, 1.2062, 1.2049, 1.2049, 1.2049, 1.2049, 1.2049, 1.2049, 1.2049, 1.2049, 1.2049, 1.2049, 1.2049, 1.2048, 1.2048, 1.2048, 1.2048, 1.2048, 1.2048, 1.2048, 1.2042, 1.2042, 1.2042, 1.2039, 1.1992, 1.1947, 1.1182, 1.1236, 1.1523, 0.7865, 0.967, 0.7187, 0.9622, 0.6858, 0.7169, 0.8717, 0.8999, 0.7295, 0.9976, 0.9937, 0.5722, 0.6019, 1.0625, 1.0581, 0.4386, 0.574, 0.6065, 0.7412, 0.825, 0.2989, -0.0504, -0.0666, 0.3151, 0.1789, 0.3722, -0.1163, -0.5994, 0.2235, -0.3375, -0.2809, 0.2751, 1.4756, 1.4045, 1.3842, 1.3842, 1.3842, 1.3842, 1.3841, 1.3617, 1.353, 1.3514, 1.3417, 1.3074, 1.3074, 1.3074, 1.3074, 1.3057, 1.2961, 1.2481, 1.2247, 1.2247, 1.2247, 1.2247, 1.2247, 1.2247, 1.224, 1.224, 1.2233, 1.2233, 1.223, 1.223, 1.1353, 1.0489, 0.9801, 0.8436, 0.9741, 0.9589, 1.0138, 0.483, 0.3577, 1.0814, 0.6299, 0.2809, 0.5264, -0.0226, 0.4476, 0.8679, 0.702, 0.8548, 0.1096, 0.2989, 0.1148, 0.0905, 0.369, -0.0207, 0.2728, 0.5834, 0.3504, -0.0942, -0.9847, -1.0171]}, \"token.table\": {\"Topic\": [1, 2, 3, 4, 1, 2, 1, 4, 3, 2, 1, 2, 2, 1, 3, 4, 2, 3, 1, 2, 3, 4, 2, 3, 4, 1, 1, 2, 4, 3, 4, 1, 2, 3, 4, 4, 3, 2, 2, 4, 3, 4, 2, 4, 1, 3, 3, 1, 2, 3, 4, 1, 2, 3, 4, 2, 3, 4, 1, 3, 1, 3, 2, 4, 1, 1, 2, 3, 4, 4, 2, 1, 2, 3, 4, 1, 2, 3, 4, 1, 1, 2, 3, 3, 4, 1, 3, 1, 3, 4, 1, 2, 3, 2, 3, 4, 2, 2, 3, 1, 2, 1, 4, 4, 1, 2, 3, 3, 1, 3, 3, 2, 4, 1, 3, 2, 4, 2, 3, 2, 4, 3, 2, 3, 4, 1, 2, 3, 4, 2, 3, 4, 1, 2, 3, 4, 4, 3, 2, 2, 3, 1, 2, 3, 4, 1, 2, 3, 4, 1, 2, 3, 4, 1, 1, 3, 4, 3, 2, 2, 1, 1, 2, 1, 1, 2, 3, 4, 2, 3, 4, 4, 3, 1, 1, 2, 3, 1, 1, 2, 3, 4, 2, 3, 1, 2, 3, 1, 2, 3, 4, 2, 3, 1, 2, 3, 4, 1, 4, 1, 2, 1, 2, 3, 4, 2, 2, 2, 4, 2, 4, 4, 1, 2, 3, 1, 2, 4, 3, 1, 2, 3, 1, 3, 1, 2, 3, 4, 1, 2, 4, 4, 3, 3, 1, 2, 3, 1, 2, 3, 4, 3, 4, 1, 3, 1, 2, 3, 4, 1, 2, 2, 2, 3, 4, 1, 2, 3, 4, 1, 2, 3, 4, 2, 4, 1, 2, 1, 2, 3, 4, 2, 1, 2, 4, 1, 3, 4, 1, 2, 4, 1, 3, 4, 1, 2, 3, 4, 1, 3, 4, 1, 1, 3, 1, 1, 2, 3, 4, 1, 2, 3, 2, 1, 2, 3, 4, 1, 2, 1, 2, 3, 2, 4, 1, 4, 3, 2, 3, 1, 2, 3, 1, 2, 4, 1, 2, 2, 3, 2, 3, 4, 3, 4, 1, 3, 1, 2, 3, 4, 3, 1, 2, 4, 1, 4, 4, 2, 3, 4, 1, 2, 3, 4, 4, 4, 4, 3, 2, 1, 2, 2, 4, 3, 4, 2, 3, 3, 4, 2, 3, 2, 1, 2, 3, 4, 1, 2, 4, 1, 2, 4, 4, 1, 2, 3, 4, 4, 1, 1, 2, 4, 1, 2, 4, 3, 4, 1, 2, 3], \"Freq\": [0.2696811119823036, 0.2696811119823036, 0.33710138997787953, 0.1348405559911518, 0.7430533574728769, 0.9687850587616382, 0.3525407834144928, 0.587567972357488, 0.8650947080197808, 0.8607606799702767, 0.8233328399396466, 0.8617812428346422, 0.8607611664873622, 0.6299688622893168, 0.04845914325302437, 0.2907548595181462, 0.7762397658290567, 0.1293732943048428, 0.28011136222397015, 0.1680668173343821, 0.28011136222397015, 0.28011136222397015, 0.18614096473601194, 0.5584228942080358, 0.18614096473601194, 0.8233328258426381, 0.6271680638418144, 0.23518802394068045, 0.0783960079802268, 0.1102133355625152, 0.8817066845001216, 0.1843684065442414, 0.24582454205898852, 0.3072806775737356, 0.24582454205898852, 0.8807119189882059, 0.8650940682797772, 0.8607607603315988, 0.8607611472858779, 0.6587724362236205, 0.779926562206611, 0.8760204328223274, 0.8607643981911595, 0.6587721175793041, 0.7998408380813442, 0.15996816761626884, 0.8650940141162752, 0.5319477412665791, 0.21277909650663163, 0.03546318275110527, 0.21277909650663163, 0.596512068666842, 0.06627911874076023, 0.13255823748152046, 0.13255823748152046, 0.3965737458530013, 0.3965737458530013, 0.16996017679414344, 0.8233328997872187, 0.7799269849171926, 0.23400787799191353, 0.7020236339757406, 0.10998807015339827, 0.7699164910737879, 0.8233329173679507, 0.5812464600466574, 0.09687441000777623, 0.2906232300233287, 0.09687441000777623, 0.6587747971902508, 0.8607616215995957, 0.166492847098683, 0.5827249648453906, 0.0832464235493415, 0.20811605887335377, 0.40129662691143186, 0.21888906922441737, 0.14592604614961158, 0.2553705807618203, 0.8233328404921963, 0.8233328460805533, 0.18563832212997852, 0.7425532885199141, 0.8650940875371194, 0.8807202220140284, 0.7421918744327357, 0.8650968702130994, 0.8233328424707166, 0.7453338248824374, 0.18633345622060934, 0.1718355483606215, 0.25775332254093225, 0.6014244192621753, 0.4672628015098232, 0.09345256030196464, 0.4672628015098232, 0.8607608669986062, 0.6476552742268429, 0.21588509140894763, 0.8265655475289673, 0.1377609245881612, 0.8233329386452513, 0.6587110428458196, 0.8759466500403499, 0.2944737559687435, 0.4907895932812391, 0.19631583731249566, 0.865094255092258, 0.8671375199076644, 0.12387678855823778, 0.865094337164731, 0.6505424671622111, 0.32527123358110555, 0.8233431927793894, 0.8650945957576143, 0.8607515114719657, 0.8760202522312995, 0.25958430721639253, 0.5191686144327851, 0.26254384635236716, 0.5250876927047343, 0.865094111421261, 0.21800899358730116, 0.49052023557142765, 0.2906786581164016, 0.0869867838012277, 0.13048017570184153, 0.39144052710552457, 0.3479471352049108, 0.1006937656053186, 0.503468828026593, 0.3020812968159558, 0.09998593831601421, 0.19997187663202842, 0.49992969158007106, 0.29995781494804263, 0.7917326559025495, 0.8669672509506995, 0.9687850666783979, 0.775234740809061, 0.8651101327158914, 0.36593859388170963, 0.22871162117606852, 0.045742324235213704, 0.32019626964649595, 0.8251075154045423, 0.10313843942556779, 0.8650942542129874, 0.9357648861600236, 0.5300398588350944, 0.2650199294175472, 0.1325099647087736, 0.0662549823543868, 0.7421925562120145, 0.1299748837476879, 0.5198995349907516, 0.2599497674953758, 0.8650942116907002, 0.8607607827000269, 0.8607607656951727, 0.9299834847468118, 0.25508157131013465, 0.6377039282753366, 0.9299833725861495, 0.16946516273172432, 0.22595355030896577, 0.22595355030896577, 0.3954187130406901, 0.2917460979936709, 0.14587304899683545, 0.5834921959873418, 0.8807206585526287, 0.8650737117958837, 0.984839811925423, 0.3466401521490846, 0.5199602282236269, 0.1155467173830282, 0.8234529856407841, 0.19393809751536745, 0.19393809751536745, 0.3878761950307349, 0.19393809751536745, 0.3708746772897761, 0.5563120159346642, 0.25569499896940057, 0.5113899979388011, 0.17046333264626704, 0.3355875314680534, 0.3355875314680534, 0.20135251888083203, 0.13423501258722137, 0.6469795011209711, 0.21565983370699038, 0.10891497623645975, 0.10891497623645975, 0.2178299524729195, 0.5445748811822988, 0.11951096868402857, 0.8365767807882, 0.8233329489468589, 0.8615262042712878, 0.3376187762840574, 0.06752375525681148, 0.2700950210272459, 0.3376187762840574, 0.8607526762030691, 0.8607569443955404, 0.8608144824203436, 0.8759480160649891, 0.8607637414431183, 0.8807213617853794, 0.7917500845543117, 0.705572658088632, 0.08141222977945754, 0.21709927941188678, 0.17270624643957755, 0.4317656160989439, 0.4317656160989439, 0.8651038702313526, 0.24044422233672086, 0.24044422233672086, 0.561036518785682, 0.823430744717732, 0.8650970430690087, 0.06670594567242652, 0.20011783701727956, 0.4669416197069856, 0.2334708098534928, 0.14513076385592655, 0.14513076385592655, 0.7256538192796328, 0.8807213617853794, 0.8650941249420445, 0.8650943490645793, 0.7964449958613646, 0.17698777685808104, 0.8650942724292688, 0.4403012871957878, 0.38526362629631433, 0.11007532179894695, 0.05503766089947348, 0.37570192671512503, 0.5635528900726875, 0.8812822422155109, 0.8650966220712127, 0.5272646752607073, 0.03905664261190424, 0.11716992783571273, 0.3124531408952339, 0.8233328989541573, 0.8607606973539108, 0.9686992134775556, 0.2188252566513228, 0.29176700886843043, 0.5105922655197532, 0.24350420670370712, 0.13914526097354693, 0.38264946767725405, 0.2087178914603204, 0.3330705182960025, 0.4996057774440037, 0.05551175304933375, 0.16653525914800124, 0.8105197943204614, 0.1621039588640923, 0.25498704932084787, 0.6374676233021196, 0.4817612119968505, 0.025355853262992133, 0.45640535873385835, 0.050711706525984265, 0.6473204383668802, 0.7305916989194365, 0.10437024270277664, 0.2087404854055533, 0.6024395245303756, 0.31431627366802206, 0.07857906841700552, 0.7755390386274422, 0.15510780772548843, 0.8760038686217771, 0.12501173329989615, 0.12501173329989615, 0.7500703997993768, 0.5785819132710917, 0.2722738415393372, 0.03403423019241715, 0.10210269057725146, 0.8703013938332974, 0.07252511615277478, 0.8760198922029424, 0.8233328823444525, 0.908213731661582, 0.06487240940439871, 0.8233328446082127, 0.7771787612291647, 0.07771787612291647, 0.07771787612291647, 0.07771787612291647, 0.7126786973378217, 0.2375595657792739, 0.059389891444818474, 0.8607607402862615, 0.43676499615040704, 0.10919124903760176, 0.1819854150626696, 0.25477958108773746, 0.8949279578529546, 0.7752358771253454, 0.14347226580330627, 0.14347226580330627, 0.7173613290165313, 0.9687852077685484, 0.876015044779015, 0.7778482865740307, 0.15556965731480613, 0.8651146586519007, 0.6469732463517571, 0.21565774878391905, 0.8233328273004951, 0.6475360851122531, 0.32376804255612657, 0.2334577514883164, 0.583644378720791, 0.2334577514883164, 0.8233328912933076, 0.9687870130450011, 0.64761173963439, 0.21587057987813002, 0.6493752104804099, 0.21645840349346998, 0.10822920174673499, 0.39417322663159876, 0.525564302175465, 0.2567996968210676, 0.770399090463203, 0.22690292165279877, 0.24581149845719866, 0.45380584330559753, 0.07563430721759959, 0.8651102824813797, 0.14352400079613617, 0.5740960031845447, 0.28704800159227234, 0.8288421909528119, 0.138140365158802, 0.8760188492460604, 0.2275071775475084, 0.4550143550950168, 0.3412607663212626, 0.4492003274765483, 0.2566859014151705, 0.20855729489982602, 0.08021434419224077, 0.9443402788916465, 0.8760199267376488, 0.876012419546965, 0.8650978557539942, 0.8607620667343103, 0.5724168843990263, 0.40886920314216163, 0.7416083639649315, 0.18540209099123287, 0.6495255918553179, 0.876020221595321, 0.8607615925449245, 0.8650945765973075, 0.6522601184689136, 0.2174200394896379, 0.6469736973502327, 0.21565789911674424, 0.7752244716788098, 0.4163676152212216, 0.17844326366623786, 0.05948108788874595, 0.3568865273324757, 0.2590773011477363, 0.2590773011477363, 0.5181546022954726, 0.255984572787251, 0.6399614319681276, 0.1279922863936255, 0.876003765004986, 0.18473383134336763, 0.09236691567168381, 0.5542014940301029, 0.18473383134336763, 0.6587720795175307, 0.8233329040455234, 0.287896596626293, 0.1439482983131465, 0.575793193252586, 0.7781398672591772, 0.07781398672591772, 0.15562797345183543, 0.6545376533112465, 0.29090562369388734, 0.5398123535220404, 0.10796247070440808, 0.35987490234802694], \"Term\": [\"able\", \"able\", \"able\", \"able\", \"absolute\", \"accessory\", \"advantage\", \"advantage\", \"alot\", \"assassin\", \"attitude\", \"audio\", \"automatic\", \"bad\", \"bad\", \"bad\", \"base\", \"base\", \"big\", \"big\", \"big\", \"big\", \"bit\", \"bit\", \"bit\", \"bitter\", \"bot\", \"bot\", \"bot\", \"bunch\", \"bunch\", \"business\", \"business\", \"business\", \"business\", \"button\", \"capable\", \"cash\", \"cell\", \"certain\", \"charger\", \"choice\", \"clean\", \"color\", \"company\", \"company\", \"compatible\", \"console\", \"console\", \"console\", \"console\", \"consumer\", \"consumer\", \"consumer\", \"consumer\", \"controller\", \"controller\", \"controller\", \"corrupt\", \"couple\", \"crap\", \"crap\", \"crash\", \"crash\", \"cusp\", \"customer\", \"customer\", \"customer\", \"customer\", \"damage\", \"datum\", \"day\", \"day\", \"day\", \"day\", \"demand\", \"demand\", \"demand\", \"demand\", \"depression\", \"dice\", \"difference\", \"difference\", \"digital\", \"dirbag\", \"direct\", \"disappointment\", \"disingenuous\", \"disk\", \"disk\", \"dollar\", \"dollar\", \"dollar\", \"double\", \"double\", \"double\", \"download\", \"drive\", \"drive\", \"drop\", \"drop\", \"economic\", \"economy\", \"edition\", \"enough\", \"enough\", \"enough\", \"example\", \"expensive\", \"expensive\", \"family\", \"fan\", \"fan\", \"feeder\", \"flaw\", \"folk\", \"fomo\", \"full\", \"full\", \"future\", \"future\", \"gain\", \"game\", \"game\", \"game\", \"good\", \"good\", \"good\", \"good\", \"graphic\", \"graphic\", \"graphic\", \"great\", \"great\", \"great\", \"great\", \"hardware\", \"harsh\", \"hdd\", \"headphone\", \"hell\", \"high\", \"high\", \"high\", \"high\", \"history\", \"history\", \"honest\", \"hope\", \"hour\", \"hour\", \"hour\", \"hour\", \"household\", \"huge\", \"huge\", \"huge\", \"ill\", \"image\", \"impression\", \"interest\", \"inventory\", \"inventory\", \"island\", \"issue\", \"issue\", \"issue\", \"issue\", \"item\", \"item\", \"item\", \"jerk\", \"key\", \"kind\", \"launch\", \"launch\", \"launch\", \"limit\", \"little\", \"little\", \"little\", \"little\", \"load\", \"load\", \"long\", \"long\", \"long\", \"lot\", \"lot\", \"lot\", \"lot\", \"low\", \"low\", \"luck\", \"luck\", \"luck\", \"luck\", \"machine\", \"machine\", \"mailing\", \"majority\", \"many\", \"many\", \"many\", \"many\", \"member\", \"membership\", \"message\", \"middle\", \"mile\", \"millisecond\", \"mine\", \"money\", \"money\", \"money\", \"month\", \"month\", \"month\", \"more\", \"much\", \"much\", \"much\", \"multiple\", \"name\", \"new\", \"new\", \"new\", \"new\", \"nice\", \"nice\", \"nice\", \"night\", \"nintendo\", \"notice\", \"notification\", \"notification\", \"old\", \"order\", \"order\", \"order\", \"order\", \"other\", \"other\", \"page\", \"parent\", \"people\", \"people\", \"people\", \"people\", \"phony\", \"picture\", \"plan\", \"play\", \"play\", \"play\", \"playstation\", \"playstation\", \"playstation\", \"playstation\", \"point\", \"point\", \"point\", \"point\", \"poor\", \"poor\", \"pre\", \"pre\", \"price\", \"price\", \"price\", \"price\", \"prime\", \"problem\", \"problem\", \"problem\", \"product\", \"product\", \"product\", \"production\", \"production\", \"protection\", \"purchase\", \"purchase\", \"purchase\", \"release\", \"release\", \"release\", \"release\", \"reseller\", \"reseller\", \"respect\", \"responsibility\", \"retail\", \"retail\", \"rewarding\", \"ridiculous\", \"ridiculous\", \"ridiculous\", \"ridiculous\", \"sale\", \"sale\", \"sale\", \"samsung\", \"scalper\", \"scalper\", \"scalper\", \"scalper\", \"scam\", \"seller\", \"service\", \"service\", \"service\", \"setting\", \"setup\", \"shame\", \"shame\", \"shipment\", \"size\", \"size\", \"spend\", \"ssd\", \"ssd\", \"star\", \"star\", \"star\", \"staying\", \"stuff\", \"supply\", \"supply\", \"support\", \"support\", \"support\", \"sure\", \"sure\", \"switch\", \"switch\", \"system\", \"system\", \"system\", \"system\", \"tax\", \"terrible\", \"terrible\", \"terrible\", \"thank\", \"thank\", \"theme\", \"thing\", \"thing\", \"thing\", \"time\", \"time\", \"time\", \"time\", \"title\", \"ton\", \"treat\", \"triple\", \"unhappy\", \"unit\", \"unit\", \"update\", \"update\", \"upgrade\", \"usual\", \"valhalla\", \"vent\", \"version\", \"version\", \"video\", \"video\", \"virtual\", \"way\", \"way\", \"way\", \"way\", \"website\", \"website\", \"website\", \"week\", \"week\", \"week\", \"weekend\", \"well\", \"well\", \"well\", \"well\", \"white\", \"wide\", \"work\", \"work\", \"work\", \"world\", \"world\", \"world\", \"worth\", \"worth\", \"year\", \"year\", \"year\"]}, \"R\": 30, \"lambda.step\": 0.01, \"plot.opts\": {\"xlab\": \"PC1\", \"ylab\": \"PC2\"}, \"topic.order\": [1, 4, 3, 2]};\n",
       "\n",
       "function LDAvis_load_lib(url, callback){\n",
       "  var s = document.createElement('script');\n",
       "  s.src = url;\n",
       "  s.async = true;\n",
       "  s.onreadystatechange = s.onload = callback;\n",
       "  s.onerror = function(){console.warn(\"failed to load library \" + url);};\n",
       "  document.getElementsByTagName(\"head\")[0].appendChild(s);\n",
       "}\n",
       "\n",
       "if(typeof(LDAvis) !== \"undefined\"){\n",
       "   // already loaded: just create the visualization\n",
       "   !function(LDAvis){\n",
       "       new LDAvis(\"#\" + \"ldavis_el1508018869497678729887419937\", ldavis_el1508018869497678729887419937_data);\n",
       "   }(LDAvis);\n",
       "}else if(typeof define === \"function\" && define.amd){\n",
       "   // require.js is available: use it to load d3/LDAvis\n",
       "   require.config({paths: {d3: \"https://cdnjs.cloudflare.com/ajax/libs/d3/3.5.5/d3.min\"}});\n",
       "   require([\"d3\"], function(d3){\n",
       "      window.d3 = d3;\n",
       "      LDAvis_load_lib(\"https://cdn.rawgit.com/bmabey/pyLDAvis/files/ldavis.v1.0.0.js\", function(){\n",
       "        new LDAvis(\"#\" + \"ldavis_el1508018869497678729887419937\", ldavis_el1508018869497678729887419937_data);\n",
       "      });\n",
       "    });\n",
       "}else{\n",
       "    // require.js not available: dynamically load d3 & LDAvis\n",
       "    LDAvis_load_lib(\"https://cdnjs.cloudflare.com/ajax/libs/d3/3.5.5/d3.min.js\", function(){\n",
       "         LDAvis_load_lib(\"https://cdn.rawgit.com/bmabey/pyLDAvis/files/ldavis.v1.0.0.js\", function(){\n",
       "                 new LDAvis(\"#\" + \"ldavis_el1508018869497678729887419937\", ldavis_el1508018869497678729887419937_data);\n",
       "            })\n",
       "         });\n",
       "}\n",
       "</script>"
      ],
      "text/plain": [
       "PreparedData(topic_coordinates=              x         y  topics  cluster       Freq\n",
       "topic                                                \n",
       "0      0.151686 -0.023870       1        1  32.969281\n",
       "3     -0.020752  0.102432       2        1  22.847743\n",
       "2     -0.060218  0.018171       3        1  22.381717\n",
       "1     -0.070716 -0.096734       4        1  21.801259, topic_info=        Term       Freq      Total Category  logprob  loglift\n",
       "120     game  55.000000  55.000000  Default  30.0000  30.0000\n",
       "48      unit  36.000000  36.000000  Default  29.0000  29.0000\n",
       "76      hope  12.000000  12.000000  Default  28.0000  28.0000\n",
       "2    company  25.000000  25.000000  Default  27.0000  27.0000\n",
       "70     price  39.000000  39.000000  Default  26.0000  26.0000\n",
       "..       ...        ...        ...      ...      ...      ...\n",
       "274    month   4.524436  11.580357   Topic4  -5.2701   0.5834\n",
       "102     many   4.583545  14.809603   Topic4  -5.2571   0.3504\n",
       "97       day   4.766820  24.025056   Topic4  -5.2179  -0.0942\n",
       "47      time   5.076288  62.332991   Topic4  -5.1550  -0.9847\n",
       "45    system   4.169523  52.886053   Topic4  -5.3518  -1.0171\n",
       "\n",
       "[280 rows x 6 columns], token_table=      Topic      Freq      Term\n",
       "term                           \n",
       "225       1  0.269681      able\n",
       "225       2  0.269681      able\n",
       "225       3  0.337101      able\n",
       "225       4  0.134841      able\n",
       "709       1  0.743053  absolute\n",
       "...     ...       ...       ...\n",
       "57        3  0.654538     worth\n",
       "57        4  0.290906     worth\n",
       "52        1  0.539812      year\n",
       "52        2  0.107962      year\n",
       "52        3  0.359875      year\n",
       "\n",
       "[400 rows x 3 columns], R=30, lambda_step=0.01, plot_opts={'xlab': 'PC1', 'ylab': 'PC2'}, topic_order=[1, 4, 3, 2])"
      ]
     },
     "execution_count": 143,
     "metadata": {},
     "output_type": "execute_result"
    }
   ],
   "source": [
    "pyLDAvis.enable_notebook()\n",
    "vis = pyLDAvis.gensim.prepare(lda_model, doc_term_matrix, dictionary)\n",
    "vis"
   ]
  },
  {
   "cell_type": "markdown",
   "metadata": {},
   "source": [
    "As can be seen above, there are 4 topics which are clearly separated.<br>Based on the words within each topic, I can take a reasonable guess to what the topics are about:<br>\n",
    "\n",
    "Topic 1: Complaints mostly on bots: Scam,bot, ridiculousness,reseller<br>\n",
    "Topic 2: Complaints mostly on the supply and demand of the product<br>\n",
    "Topic 3: Complaints mostly on the price of the PS5<br>\n",
    "Topic 4: Complaints on the PS5 crashing<br>\n",
    "\n",
    "It seems to me that most customers were really unhappy with the scalpers and bots that bought most of the PS5's\n",
    "online given the COVID 19 pandemic.<br>There were complaints on the limited supply and high demand of the product.<br>\n",
    "There were also complaints about the price of the PS5.<br>\n",
    "Finally, there were a few cases where the PS5 tended to crash for some customers.<br> \n",
    "\n",
    "These are interesting results because there are not a lot of the complaints on the product itself.<br>The complaints are mostly\n",
    "on obtaining the PS5 which has been difficult to get for consumers due to the pandemic. "
   ]
  },
  {
   "cell_type": "markdown",
   "metadata": {},
   "source": [
    "#                                                    Data Splitting: Xbox One X Reviews"
   ]
  },
  {
   "cell_type": "markdown",
   "metadata": {},
   "source": [
    "Here, the Xbox One X reviews are split into the positive set with ratings >= 4:"
   ]
  },
  {
   "cell_type": "code",
   "execution_count": 144,
   "metadata": {},
   "outputs": [
    {
     "data": {
      "text/html": [
       "<div>\n",
       "<style scoped>\n",
       "    .dataframe tbody tr th:only-of-type {\n",
       "        vertical-align: middle;\n",
       "    }\n",
       "\n",
       "    .dataframe tbody tr th {\n",
       "        vertical-align: top;\n",
       "    }\n",
       "\n",
       "    .dataframe thead th {\n",
       "        text-align: right;\n",
       "    }\n",
       "</style>\n",
       "<table border=\"1\" class=\"dataframe\">\n",
       "  <thead>\n",
       "    <tr style=\"text-align: right;\">\n",
       "      <th></th>\n",
       "      <th>stars</th>\n",
       "      <th>comment</th>\n",
       "    </tr>\n",
       "  </thead>\n",
       "  <tbody>\n",
       "    <tr>\n",
       "      <th>6</th>\n",
       "      <td>5</td>\n",
       "      <td>It’s a behemoth simple put. Besides ...</td>\n",
       "    </tr>\n",
       "    <tr>\n",
       "      <th>8</th>\n",
       "      <td>5</td>\n",
       "      <td>Let me start off by saying I am not ...</td>\n",
       "    </tr>\n",
       "    <tr>\n",
       "      <th>12</th>\n",
       "      <td>5</td>\n",
       "      <td>Tons of PowerGamepassHaloWhat more c...</td>\n",
       "    </tr>\n",
       "    <tr>\n",
       "      <th>16</th>\n",
       "      <td>5</td>\n",
       "      <td>To start off I would consider myself...</td>\n",
       "    </tr>\n",
       "    <tr>\n",
       "      <th>18</th>\n",
       "      <td>5</td>\n",
       "      <td>Preorders were a mess but did you re...</td>\n",
       "    </tr>\n",
       "  </tbody>\n",
       "</table>\n",
       "</div>"
      ],
      "text/plain": [
       "    stars                                            comment\n",
       "6       5            It’s a behemoth simple put. Besides ...\n",
       "8       5            Let me start off by saying I am not ...\n",
       "12      5            Tons of PowerGamepassHaloWhat more c...\n",
       "16      5            To start off I would consider myself...\n",
       "18      5            Preorders were a mess but did you re..."
      ]
     },
     "execution_count": 144,
     "metadata": {},
     "output_type": "execute_result"
    }
   ],
   "source": [
    "positive =  xboxonexreviews['stars'] >= 4\n",
    "xboxonex_positive = xboxonexreviews[positive]\n",
    "xboxonex_positive.head(5)"
   ]
  },
  {
   "cell_type": "code",
   "execution_count": 145,
   "metadata": {},
   "outputs": [
    {
     "data": {
      "text/plain": [
       "(1853, 2)"
      ]
     },
     "execution_count": 145,
     "metadata": {},
     "output_type": "execute_result"
    }
   ],
   "source": [
    "xboxonex_positive.shape"
   ]
  },
  {
   "cell_type": "markdown",
   "metadata": {},
   "source": [
    "There are 1,853 positive review rows and 2 columns in the dataframe."
   ]
  },
  {
   "cell_type": "markdown",
   "metadata": {},
   "source": [
    "Here, the Xbox One X  reviews are split into the negative set with ratings <= 3:"
   ]
  },
  {
   "cell_type": "code",
   "execution_count": 146,
   "metadata": {},
   "outputs": [
    {
     "data": {
      "text/html": [
       "<div>\n",
       "<style scoped>\n",
       "    .dataframe tbody tr th:only-of-type {\n",
       "        vertical-align: middle;\n",
       "    }\n",
       "\n",
       "    .dataframe tbody tr th {\n",
       "        vertical-align: top;\n",
       "    }\n",
       "\n",
       "    .dataframe thead th {\n",
       "        text-align: right;\n",
       "    }\n",
       "</style>\n",
       "<table border=\"1\" class=\"dataframe\">\n",
       "  <thead>\n",
       "    <tr style=\"text-align: right;\">\n",
       "      <th></th>\n",
       "      <th>stars</th>\n",
       "      <th>comment</th>\n",
       "    </tr>\n",
       "  </thead>\n",
       "  <tbody>\n",
       "    <tr>\n",
       "      <th>0</th>\n",
       "      <td>1</td>\n",
       "      <td>This should be illegal. What a scumm...</td>\n",
       "    </tr>\n",
       "    <tr>\n",
       "      <th>1</th>\n",
       "      <td>1</td>\n",
       "      <td>Hope you never sell them</td>\n",
       "    </tr>\n",
       "    <tr>\n",
       "      <th>2</th>\n",
       "      <td>1</td>\n",
       "      <td>Wait for the stock to replenish, all...</td>\n",
       "    </tr>\n",
       "    <tr>\n",
       "      <th>3</th>\n",
       "      <td>1</td>\n",
       "      <td>How dare you Amazon!  $1,500.00?  Th...</td>\n",
       "    </tr>\n",
       "    <tr>\n",
       "      <th>4</th>\n",
       "      <td>1</td>\n",
       "      <td>annoying</td>\n",
       "    </tr>\n",
       "  </tbody>\n",
       "</table>\n",
       "</div>"
      ],
      "text/plain": [
       "   stars                                            comment\n",
       "0      1            This should be illegal. What a scumm...\n",
       "1      1                         Hope you never sell them  \n",
       "2      1            Wait for the stock to replenish, all...\n",
       "3      1            How dare you Amazon!  $1,500.00?  Th...\n",
       "4      1                                         annoying  "
      ]
     },
     "execution_count": 146,
     "metadata": {},
     "output_type": "execute_result"
    }
   ],
   "source": [
    "negative =  xboxonexreviews['stars'] <= 3\n",
    "xboxonex_negative = xboxonexreviews[negative]\n",
    "xboxonex_negative.head(5)"
   ]
  },
  {
   "cell_type": "code",
   "execution_count": 147,
   "metadata": {},
   "outputs": [
    {
     "data": {
      "text/plain": [
       "(612, 2)"
      ]
     },
     "execution_count": 147,
     "metadata": {},
     "output_type": "execute_result"
    }
   ],
   "source": [
    "xboxonex_negative.shape"
   ]
  },
  {
   "cell_type": "markdown",
   "metadata": {},
   "source": [
    "There are 612 negative review rows and 2 columns in the dataframe."
   ]
  },
  {
   "cell_type": "markdown",
   "metadata": {},
   "source": [
    "#                                 Data Cleaning (Xbox One X Positive Reviews)\n",
    "\n",
    "The following section is done in order to prepare the Xbox One X positive reviews for the LDA model.<br>\n",
    "The data will need to be split, tokenized, and lemmatized in order to prepare it for the model.<br>\n",
    "Visualizations will also be built in order to take a better look at the data."
   ]
  },
  {
   "cell_type": "code",
   "execution_count": 148,
   "metadata": {},
   "outputs": [
    {
     "data": {
      "image/png": "[encoded data removed]",
      "text/plain": [
       "<Figure size 1440x360 with 1 Axes>"
      ]
     },
     "metadata": {
      "needs_background": "light"
     },
     "output_type": "display_data"
    }
   ],
   "source": [
    "freq_words(xboxonex_positive['comment'])"
   ]
  },
  {
   "cell_type": "markdown",
   "metadata": {},
   "source": [
    "Looking above, it seems most of the most frequent words are \"the\", \"and\", and \"for\".<br>But these are not necessary words because these words don't show true sentiment.<br>The dataset will need to be cleaned further in order to prepare this dataset for the model."
   ]
  },
  {
   "cell_type": "markdown",
   "metadata": {},
   "source": [
    "This code removes the characters and symbols from the dataset:"
   ]
  },
  {
   "cell_type": "code",
   "execution_count": 149,
   "metadata": {},
   "outputs": [],
   "source": [
    "xboxonex_positive['comment'] = xboxonex_positive['comment'].str.replace(\"[^a-zA-Z#]\",\" \")"
   ]
  },
  {
   "cell_type": "markdown",
   "metadata": {},
   "source": [
    "The following code is run in order to remove short words (length < 3) to make the data cleaner:"
   ]
  },
  {
   "cell_type": "code",
   "execution_count": 150,
   "metadata": {},
   "outputs": [],
   "source": [
    "xboxonex_positive['comment'] = xboxonex_positive['comment'].apply(lambda x: ' '.join([w for w in x.split() if len(w) > 2]))"
   ]
  },
  {
   "cell_type": "markdown",
   "metadata": {},
   "source": [
    "This code removes the stopwords from the dataset:"
   ]
  },
  {
   "cell_type": "code",
   "execution_count": 151,
   "metadata": {},
   "outputs": [],
   "source": [
    "reviews = [remove_stopwords(r.split()) for r in xboxonex_positive['comment']]"
   ]
  },
  {
   "cell_type": "markdown",
   "metadata": {},
   "source": [
    "This code makes the text lowercase:"
   ]
  },
  {
   "cell_type": "code",
   "execution_count": 152,
   "metadata": {},
   "outputs": [],
   "source": [
    "reviews = [r.lower() for r in reviews]"
   ]
  },
  {
   "cell_type": "code",
   "execution_count": 153,
   "metadata": {},
   "outputs": [
    {
     "data": {
      "image/png": "[encoded data removed]",
      "text/plain": [
       "<Figure size 1440x360 with 1 Axes>"
      ]
     },
     "metadata": {
      "needs_background": "light"
     },
     "output_type": "display_data"
    }
   ],
   "source": [
    "freq_words(reviews, 20)"
   ]
  },
  {
   "cell_type": "markdown",
   "metadata": {},
   "source": [
    "Re-running a frequency bar graph on the data, it seems the stopwords have been removed and the reviews are getting closer to \n",
    "for the model to use.<br>The next step is to lemmatize the data."
   ]
  },
  {
   "cell_type": "markdown",
   "metadata": {},
   "source": [
    "Here, the words are split into tokens:"
   ]
  },
  {
   "cell_type": "code",
   "execution_count": 154,
   "metadata": {},
   "outputs": [
    {
     "name": "stdout",
     "output_type": "stream",
     "text": [
      "['let', 'start', 'saying', 'xbox', 'fan', 'boy', 'lol', 'mostly', 'played', 'past', 'years', 'intrigued', 'xbox', 'series', 'user', 'experience', 'they', 'really', 'seem', 'like', 'listening', 'generation', 'shows', 'the', 'interface', 'like', 'butter', 'moves', 'quickly', 'hardly', 'waiting', 'game', 'pass', 'amazing', 'option', 'xbox', 'amazing', 'selection', 'games', 'right', 'fingertips', 'monthly', 'fee', 'xbox', 'really', 'got', 'user', 'experience', 'honestly', 'say', 'definitely', 'worth', 'enjoying', 'lot', 'games', 'played', 'confident', 'saying', 'great', 'experience', 'xbox', 'series', 'blown', 'away', 'gets', 'little', 'hot', 'breathable', 'location', 'would', 'recommend', 'well', 'excited', 'play', 'xbox', 'one', 'games', 'missed', 'and', 'new', 'games', 'course', 'overall', 'really', 'recommend']\n"
     ]
    }
   ],
   "source": [
    "tokenized_reviews = pd.Series(reviews).apply(lambda x: x.split())\n",
    "print(tokenized_reviews[1])"
   ]
  },
  {
   "cell_type": "markdown",
   "metadata": {},
   "source": [
    "Below, the positive reviews are lemmatized:"
   ]
  },
  {
   "cell_type": "code",
   "execution_count": 155,
   "metadata": {},
   "outputs": [
    {
     "name": "stdout",
     "output_type": "stream",
     "text": [
      "['fan', 'boy', 'past', 'year', 'user', 'experience', 'generation', 'interface', 'butter', 'move', 'game', 'amazing', 'amazing', 'game', 'monthly', 'user', 'experience', 'worth', 'lot', 'game', 'confident', 'great', 'experience', 'little', 'hot', 'breathable', 'location', 'excited', 'game', 'new', 'game']\n"
     ]
    }
   ],
   "source": [
    "reviews_2 = lemmatization(tokenized_reviews)\n",
    "print(reviews_2[1]) "
   ]
  },
  {
   "cell_type": "markdown",
   "metadata": {},
   "source": [
    "The following code is run in order to append the reviews to a new dataframe in order to show a frequency graph \n",
    "of the lemmatized reviews later on:"
   ]
  },
  {
   "cell_type": "code",
   "execution_count": 156,
   "metadata": {},
   "outputs": [],
   "source": [
    "reviews_3 = []\n",
    "for i in range(len(reviews_2)):\n",
    "    reviews_3.append(' '.join(reviews_2[i]))\n",
    "\n",
    "xboxonex_positive['reviews'] = reviews_3"
   ]
  },
  {
   "cell_type": "code",
   "execution_count": 157,
   "metadata": {},
   "outputs": [
    {
     "data": {
      "image/png": "[encoded data removed]",
      "text/plain": [
       "<Figure size 1440x360 with 1 Axes>"
      ]
     },
     "metadata": {
      "needs_background": "light"
     },
     "output_type": "display_data"
    }
   ],
   "source": [
    "freq_words(xboxonex_positive['reviews'], 20)"
   ]
  },
  {
   "cell_type": "markdown",
   "metadata": {},
   "source": [
    "As can be seen, the tokens are now clearer as words such as \"game\", \"system\", and \"time\" are now clearly showing in the dataset.<br>The dataset is now ready for model building."
   ]
  },
  {
   "cell_type": "markdown",
   "metadata": {},
   "source": [
    "#                LDA Model (Xbox One X Positive Reviews)\n",
    "The code below is run in order to incorporate the reviews into a dictionary in order to set up the LDA Model."
   ]
  },
  {
   "cell_type": "code",
   "execution_count": 158,
   "metadata": {},
   "outputs": [],
   "source": [
    "dictionary = corpora.Dictionary(reviews_2)\n",
    "doc_term_matrix = [dictionary.doc2bow(rev) for rev in reviews_2]"
   ]
  },
  {
   "cell_type": "markdown",
   "metadata": {},
   "source": [
    "Next, the LDA Model is imported and the next lines of code are run in order to build the model.<br>\n",
    "The number of topics I chose through trial and error were 3."
   ]
  },
  {
   "cell_type": "code",
   "execution_count": 159,
   "metadata": {},
   "outputs": [],
   "source": [
    "LDA = gensim.models.ldamodel.LdaModel\n",
    "\n",
    "lda_model = LDA(corpus = doc_term_matrix, \n",
    "                id2word = dictionary,\n",
    "                num_topics = 3,\n",
    "                random_state = 100,\n",
    "                chunksize = 1000,\n",
    "                passes = 50)"
   ]
  },
  {
   "cell_type": "markdown",
   "metadata": {},
   "source": [
    "Here, this code is being run to print the topics and the words associated with it."
   ]
  },
  {
   "cell_type": "code",
   "execution_count": 160,
   "metadata": {},
   "outputs": [
    {
     "data": {
      "text/plain": [
       "[(0,\n",
       "  '0.062*\"game\" + 0.030*\"console\" + 0.012*\"system\" + 0.011*\"thing\" + 0.010*\"good\" + 0.010*\"time\" + 0.009*\"gaming\" + 0.008*\"powerful\" + 0.007*\"nice\" + 0.007*\"year\"'),\n",
       " (1,\n",
       "  '0.064*\"great\" + 0.036*\"console\" + 0.035*\"good\" + 0.025*\"game\" + 0.017*\"new\" + 0.014*\"system\" + 0.011*\"product\" + 0.011*\"work\" + 0.010*\"issue\" + 0.010*\"box\"'),\n",
       " (2,\n",
       "  '0.036*\"game\" + 0.033*\"amazing\" + 0.024*\"fast\" + 0.023*\"time\" + 0.021*\"love\" + 0.018*\"graphic\" + 0.018*\"worth\" + 0.016*\"load\" + 0.015*\"console\" + 0.015*\"awesome\"')]"
      ]
     },
     "execution_count": 160,
     "metadata": {},
     "output_type": "execute_result"
    }
   ],
   "source": [
    "lda_model.print_topics()"
   ]
  },
  {
   "cell_type": "markdown",
   "metadata": {},
   "source": [
    "This code is run to visualize the LDA model into a graphical bubble plot:"
   ]
  },
  {
   "cell_type": "code",
   "execution_count": 161,
   "metadata": {},
   "outputs": [
    {
     "data": {
      "text/html": [
       "\n",
       "<link rel=\"stylesheet\" type=\"text/css\" href=\"https://cdn.rawgit.com/bmabey/pyLDAvis/files/ldavis.v1.0.0.css\">\n",
       "\n",
       "\n",
       "<div id=\"ldavis_el1508018870052671049891487734\"></div>\n",
       "<script type=\"text/javascript\">\n",
       "\n",
       "var ldavis_el1508018870052671049891487734_data = {\"mdsDat\": {\"x\": [0.02518625355256689, -0.14089114304481148, 0.11570488949224458], \"y\": [-0.10866089686855757, 0.03833198848506513, 0.07032890838349239], \"topics\": [1, 2, 3], \"cluster\": [1, 1, 1], \"Freq\": [49.79006182882051, 28.598408864530516, 21.61152930664897]}, \"tinfo\": {\"Term\": [\"great\", \"amazing\", \"fast\", \"love\", \"good\", \"worth\", \"load\", \"awesome\", \"time\", \"graphic\", \"product\", \"work\", \"perfect\", \"box\", \"issue\", \"excellent\", \"powerful\", \"well\", \"drive\", \"happy\", \"new\", \"day\", \"hard\", \"quick\", \"son\", \"condition\", \"console\", \"controller\", \"pro\", \"problem\", \"drive\", \"powerful\", \"hard\", \"storage\", \"machine\", \"space\", \"available\", \"need\", \"cool\", \"size\", \"regret\", \"entertainment\", \"halo\", \"main\", \"external\", \"level\", \"wish\", \"capable\", \"audio\", \"close\", \"line\", \"texture\", \"pro\", \"assassin\", \"negative\", \"silent\", \"quieter\", \"living\", \"output\", \"detail\", \"exclusive\", \"nice\", \"compatible\", \"lag\", \"reason\", \"display\", \"internal\", \"small\", \"resolution\", \"fan\", \"gaming\", \"game\", \"thing\", \"high\", \"enhanced\", \"difference\", \"hdr\", \"year\", \"console\", \"design\", \"last\", \"color\", \"power\", \"lot\", \"system\", \"playstation\", \"next\", \"time\", \"quality\", \"play\", \"big\", \"well\", \"speed\", \"good\", \"one\", \"experience\", \"new\", \"graphic\", \"price\", \"load\", \"amazing\", \"perfect\", \"excellent\", \"condition\", \"fine\", \"item\", \"battery\", \"seller\", \"packaging\", \"code\", \"date\", \"install\", \"want\", \"ultimate\", \"great\", \"backwards\", \"warranty\", \"shape\", \"adapter\", \"bug\", \"access\", \"plastic\", \"chance\", \"rechargeable\", \"skeptical\", \"guy\", \"gift\", \"steep\", \"moment\", \"name\", \"grip\", \"share\", \"work\", \"brand\", \"box\", \"good\", \"product\", \"problem\", \"early\", \"service\", \"issue\", \"controller\", \"new\", \"wrong\", \"console\", \"little\", \"pass\", \"review\", \"bit\", \"delivery\", \"system\", \"month\", \"day\", \"game\", \"feature\", \"title\", \"original\", \"time\", \"price\", \"happy\", \"experience\", \"power\", \"year\", \"old\", \"son\", \"disk\", \"resume\", \"penny\", \"husband\", \"clear\", \"samsung\", \"clarity\", \"gorgeous\", \"watch\", \"crystal\", \"repair\", \"netflix\", \"grandson\", \"daughter\", \"valhalla\", \"restart\", \"physical\", \"fire\", \"distance\", \"shipment\", \"session\", \"sign\", \"exciting\", \"earth\", \"birthday\", \"dinner\", \"pricey\", \"failure\", \"awsome\", \"thank\", \"love\", \"amazing\", \"awesome\", \"fast\", \"worth\", \"load\", \"shipping\", \"graphic\", \"quick\", \"time\", \"happy\", \"screen\", \"well\", \"super\", \"day\", \"order\", \"game\", \"play\", \"much\", \"product\", \"system\", \"one\", \"console\", \"price\", \"upgrade\", \"way\", \"purchase\", \"new\", \"old\", \"money\", \"original\", \"difference\"], \"Freq\": [394.0, 192.0, 144.0, 119.0, 321.0, 108.0, 119.0, 89.0, 240.0, 157.0, 95.0, 74.0, 48.0, 75.0, 91.0, 40.0, 77.0, 122.0, 69.0, 89.0, 184.0, 120.0, 58.0, 54.0, 22.0, 27.0, 569.0, 72.0, 73.0, 50.0, 69.13723910774095, 76.81820002744797, 57.890055101550004, 42.374685022673624, 48.20217661524544, 29.224571588992465, 23.396340049492114, 18.023305012720396, 24.648581555300158, 17.737465608417573, 17.531036703496838, 18.006070997229266, 20.076537905226694, 13.98032225310936, 34.52166317331138, 12.960712615625217, 13.512080113730352, 12.667295735936333, 11.112838264558125, 10.516468962686243, 12.488248357687018, 13.765308335003652, 69.44218100987331, 10.760808513308616, 9.707987940213727, 12.49288000662175, 9.77737599806147, 9.698611207083994, 13.014439045204965, 9.957275013341738, 41.62931181666485, 70.35570366507547, 22.838871479542284, 12.636430874195693, 26.295517268043607, 19.57841168281892, 20.719409846616593, 48.373309120924304, 39.25775398819143, 33.78152776773069, 93.57514055359701, 615.1427699671897, 111.6516437947878, 65.13816568308236, 29.950406007709123, 64.74376466266582, 33.590137469725384, 69.50752902729758, 298.0034337447638, 27.362927942486397, 30.601892048248168, 26.27269293023864, 68.88087774640705, 50.203975052148735, 119.72621459668589, 33.68665400635625, 46.79355500478652, 98.7359585785778, 50.43980404965441, 56.86312045484882, 40.43246394790289, 62.54332072485419, 41.08694933306734, 103.09130481493928, 48.86289337737407, 48.28987196066225, 65.85502533669415, 55.85915673921202, 49.09663283921364, 48.40166444567619, 48.53074097403964, 48.057703744328684, 40.2913912200943, 27.319513933679964, 22.070590069698774, 19.185994911082613, 21.614672629283607, 13.368433574418978, 11.753149992236947, 11.489814484373609, 14.131973163388132, 9.094000912456496, 9.330626240629993, 8.25954736681167, 365.57879859017714, 8.015871941171877, 6.81452798210262, 6.80669535723035, 6.618457086624579, 7.456279309172494, 6.580143983493288, 6.248358377661219, 6.060847169239651, 6.98994309438794, 6.545001085326937, 6.03360706279239, 14.648153901387234, 5.3460999349105744, 6.430288314609945, 4.846191222817091, 5.017933601863099, 5.68326399661539, 62.626495600683, 26.04095102555641, 57.08869816961838, 201.35133962612522, 65.6828030668394, 36.58355584621098, 11.779250722742972, 16.08682151581978, 58.22853921680987, 46.191468768619366, 95.31065657165537, 10.066190641899476, 204.4158211958084, 23.80945016599049, 15.304553393050588, 26.669453515435123, 26.31422483195233, 20.263128181398056, 81.22349529792552, 23.0673335177393, 44.28347048568223, 145.55051450282, 21.498539146982413, 27.738245618302766, 27.782516220856998, 41.84243404686117, 29.082842880097356, 27.23012538036418, 24.06186904899986, 24.09613987349858, 23.638277809042943, 22.908991669924728, 21.927810712487297, 16.4132601612246, 16.794095390031494, 12.67942581023508, 12.923778307832666, 15.24616227288273, 8.32900075213358, 7.709143743283823, 6.110260762973697, 8.149575848958937, 5.905514446420024, 5.58286867596818, 4.931620224845133, 4.929804771111784, 4.67313950774882, 5.185150484932261, 4.21376557896266, 3.9531944388540503, 3.951228496883555, 3.6769124277862653, 3.6597113192840807, 3.6589447382639904, 3.643952473886888, 3.4017701883669273, 3.2270308728042143, 9.039917284290743, 3.2184282985767845, 3.368709740644759, 3.1336642840223123, 2.9717212660607704, 18.949961595709606, 91.10405166579174, 143.4138275368202, 65.16305094475256, 102.18291084543937, 77.37715702585197, 70.72303985373968, 16.371365851984354, 79.75101705789932, 31.129158445743936, 99.88511504235781, 44.2366051220423, 20.132599162016046, 51.02244899107719, 11.833590008553852, 44.19337358846661, 14.065013429137046, 154.242742924368, 33.59305690306008, 24.943891921405303, 29.465859430018345, 46.83644394692112, 26.25913487434117, 67.05993800417306, 26.71651003654135, 21.73305873385761, 19.19474030831441, 19.03821234191969, 22.945646489320513, 20.039373214086645, 18.479927241802166, 18.579261598176238, 18.503167069565375], \"Total\": [394.0, 192.0, 144.0, 119.0, 321.0, 108.0, 119.0, 89.0, 240.0, 157.0, 95.0, 74.0, 48.0, 75.0, 91.0, 40.0, 77.0, 122.0, 69.0, 89.0, 184.0, 120.0, 58.0, 54.0, 22.0, 27.0, 569.0, 72.0, 73.0, 50.0, 69.74279560471557, 77.5649874144132, 58.51427209899321, 42.977784701084595, 48.99380661742616, 29.862652652389183, 24.000610771761874, 18.638034057722873, 25.493676741585475, 18.34577515036346, 18.135770037486694, 18.63608358923367, 20.80826645023548, 14.576911228492525, 36.047474089106366, 13.56908490714733, 14.152059028402864, 13.276282191843451, 11.687942227732256, 11.101346737932827, 13.188329086902408, 14.56379448244029, 73.49341836814561, 11.388989479926407, 10.303862105857943, 13.261251597104616, 10.385642281383477, 10.302706774608197, 13.844822193578844, 10.592780575770393, 44.661055545044256, 76.78776123875953, 24.51718515389067, 13.471042864497832, 28.72813895626832, 21.168049847146534, 22.540172828480028, 55.19701650390208, 44.27607133224644, 37.89251804387152, 112.16121598477119, 914.9360273943777, 142.69553316289227, 79.17122174133914, 34.705231395913806, 83.56010040296246, 39.92331414926727, 94.06384157914144, 569.4791929447453, 31.38014804838591, 36.282397637902406, 30.114814417323945, 104.72204277592893, 71.91975198166253, 247.78615384153255, 42.21659495887975, 68.91387176192029, 240.46350766779676, 81.7209334010417, 101.13612141848532, 57.579323866639356, 122.12555701075578, 59.197266761215076, 321.33846684944183, 84.98615240813974, 84.9523150235856, 184.11132839767006, 157.49221418905557, 104.89598575585235, 119.44401043917897, 192.6617938878611, 48.702313857959595, 40.94863904395621, 27.921344608661293, 22.72743610936547, 19.813191099472856, 22.336934661910067, 14.02765748850945, 12.376882323415687, 12.183960003169567, 15.068937086260974, 9.739398772665506, 10.01321060360258, 8.910038460786682, 394.90367565067777, 8.714238699502094, 7.416373361847176, 7.416327551147457, 7.218266378188784, 8.168880963519362, 7.217980398463836, 6.865576998387665, 6.6687525263792935, 7.696436881155151, 7.218511193163399, 6.667635117412021, 16.332946849840607, 5.999242836525291, 7.2261908359961815, 5.447590341903068, 5.644695079952005, 6.3958868911962865, 74.1150276508996, 30.306726352859314, 75.37131577575202, 321.33846684944183, 95.47756203503155, 50.357524492086405, 14.089409940045785, 20.30224731839537, 91.65667751434856, 72.89452355131544, 184.11132839767006, 12.05738857908938, 569.4791929447453, 37.29176577347779, 20.857339898380747, 43.674624259904164, 43.4490316753464, 30.51089752040526, 247.78615384153255, 39.428922568431865, 120.50163777782576, 914.9360273943777, 40.28984841743958, 69.15203076053726, 80.94542201855634, 240.46350766779676, 104.89598575585235, 89.33148210723307, 84.9523150235856, 104.72204277592893, 94.06384157914144, 83.37472310631529, 22.55002977668213, 17.046911231885712, 17.470421821896622, 13.290937495710587, 13.557063070090225, 15.993610400893024, 8.965579477331445, 8.444393701446916, 6.726711900847918, 8.982288422174149, 6.537239016796159, 6.277296204987982, 5.550087039930954, 5.549651181856237, 5.284017645718809, 5.937482628014538, 4.828170516126669, 4.563029998607541, 4.562952636331388, 4.2983676551838155, 4.298212964358157, 4.298613229984946, 4.300111239799943, 4.033645155718249, 3.8417771623117436, 10.771515203164277, 3.842343050594825, 4.037206403567807, 3.769156369665159, 3.5760339397257663, 23.35796849379741, 119.95525463913683, 192.6617938878611, 89.63119852785438, 144.89659103523866, 108.66918536099728, 119.44401043917897, 24.175507361988107, 157.49221418905557, 54.6928251401108, 240.46350766779676, 89.33148210723307, 35.986781439993095, 122.12555701075578, 18.153703240334877, 120.50163777782576, 24.555708224767507, 914.9360273943777, 101.13612141848532, 65.01715946411312, 95.47756203503155, 247.78615384153255, 84.98615240813974, 569.4791929447453, 104.89598575585235, 67.77286605360779, 56.67793365959932, 56.26869148612617, 184.11132839767006, 83.37472310631529, 53.60964620458592, 80.94542201855634, 83.56010040296246], \"Category\": [\"Default\", \"Default\", \"Default\", \"Default\", \"Default\", \"Default\", \"Default\", \"Default\", \"Default\", \"Default\", \"Default\", \"Default\", \"Default\", \"Default\", \"Default\", \"Default\", \"Default\", \"Default\", \"Default\", \"Default\", \"Default\", \"Default\", \"Default\", \"Default\", \"Default\", \"Default\", \"Default\", \"Default\", \"Default\", \"Default\", \"Topic1\", \"Topic1\", \"Topic1\", \"Topic1\", \"Topic1\", \"Topic1\", \"Topic1\", \"Topic1\", \"Topic1\", \"Topic1\", \"Topic1\", \"Topic1\", \"Topic1\", \"Topic1\", \"Topic1\", \"Topic1\", \"Topic1\", \"Topic1\", \"Topic1\", \"Topic1\", \"Topic1\", \"Topic1\", \"Topic1\", \"Topic1\", \"Topic1\", \"Topic1\", \"Topic1\", \"Topic1\", \"Topic1\", \"Topic1\", \"Topic1\", \"Topic1\", \"Topic1\", \"Topic1\", \"Topic1\", \"Topic1\", \"Topic1\", \"Topic1\", \"Topic1\", \"Topic1\", \"Topic1\", \"Topic1\", \"Topic1\", \"Topic1\", \"Topic1\", \"Topic1\", \"Topic1\", \"Topic1\", \"Topic1\", \"Topic1\", \"Topic1\", \"Topic1\", \"Topic1\", \"Topic1\", \"Topic1\", \"Topic1\", \"Topic1\", \"Topic1\", \"Topic1\", \"Topic1\", \"Topic1\", \"Topic1\", \"Topic1\", \"Topic1\", \"Topic1\", \"Topic1\", \"Topic1\", \"Topic1\", \"Topic1\", \"Topic1\", \"Topic1\", \"Topic2\", \"Topic2\", \"Topic2\", \"Topic2\", \"Topic2\", \"Topic2\", \"Topic2\", \"Topic2\", \"Topic2\", \"Topic2\", \"Topic2\", \"Topic2\", \"Topic2\", \"Topic2\", \"Topic2\", \"Topic2\", \"Topic2\", \"Topic2\", \"Topic2\", \"Topic2\", \"Topic2\", \"Topic2\", \"Topic2\", \"Topic2\", \"Topic2\", \"Topic2\", \"Topic2\", \"Topic2\", \"Topic2\", \"Topic2\", \"Topic2\", \"Topic2\", \"Topic2\", \"Topic2\", \"Topic2\", \"Topic2\", \"Topic2\", \"Topic2\", \"Topic2\", \"Topic2\", \"Topic2\", \"Topic2\", \"Topic2\", \"Topic2\", \"Topic2\", \"Topic2\", \"Topic2\", \"Topic2\", \"Topic2\", \"Topic2\", \"Topic2\", \"Topic2\", \"Topic2\", \"Topic2\", \"Topic2\", \"Topic2\", \"Topic2\", \"Topic2\", \"Topic2\", \"Topic2\", \"Topic2\", \"Topic2\", \"Topic2\", \"Topic3\", \"Topic3\", \"Topic3\", \"Topic3\", \"Topic3\", \"Topic3\", \"Topic3\", \"Topic3\", \"Topic3\", \"Topic3\", \"Topic3\", \"Topic3\", \"Topic3\", \"Topic3\", \"Topic3\", \"Topic3\", \"Topic3\", \"Topic3\", \"Topic3\", \"Topic3\", \"Topic3\", \"Topic3\", \"Topic3\", \"Topic3\", \"Topic3\", \"Topic3\", \"Topic3\", \"Topic3\", \"Topic3\", \"Topic3\", \"Topic3\", \"Topic3\", \"Topic3\", \"Topic3\", \"Topic3\", \"Topic3\", \"Topic3\", \"Topic3\", \"Topic3\", \"Topic3\", \"Topic3\", \"Topic3\", \"Topic3\", \"Topic3\", \"Topic3\", \"Topic3\", \"Topic3\", \"Topic3\", \"Topic3\", \"Topic3\", \"Topic3\", \"Topic3\", \"Topic3\", \"Topic3\", \"Topic3\", \"Topic3\", \"Topic3\", \"Topic3\", \"Topic3\", \"Topic3\", \"Topic3\", \"Topic3\", \"Topic3\"], \"logprob\": [30.0, 29.0, 28.0, 27.0, 26.0, 25.0, 24.0, 23.0, 22.0, 21.0, 20.0, 19.0, 18.0, 17.0, 16.0, 15.0, 14.0, 13.0, 12.0, 11.0, 10.0, 9.0, 8.0, 7.0, 6.0, 5.0, 4.0, 3.0, 2.0, 1.0, -4.973599910736084, -4.868299961090088, -5.151199817657471, -5.463200092315674, -5.3343000411987305, -5.834700107574463, -6.05709981918335, -6.3180999755859375, -6.005000114440918, -6.334000110626221, -6.345799922943115, -6.318999767303467, -6.21019983291626, -6.5721001625061035, -5.668099880218506, -6.647799968719482, -6.606100082397461, -6.6707000732421875, -6.801599979400635, -6.856800079345703, -6.684899806976318, -6.587600231170654, -4.969200134277344, -6.833799839019775, -6.936800003051758, -6.684599876403809, -6.929699897766113, -6.937699794769287, -6.643700122833252, -6.911399841308594, -5.480899810791016, -4.956200122833252, -6.081299781799316, -6.673099994659424, -5.940299987792969, -6.235300064086914, -6.178699970245361, -5.3308000564575195, -5.539599895477295, -5.689799785614014, -4.671000003814697, -2.787899971008301, -4.49429988861084, -5.033199787139893, -5.810200214385986, -5.039299964904785, -5.695499897003174, -4.968299865722656, -3.5125999450683594, -5.9004998207092285, -5.788700103759766, -5.941199779510498, -4.97730016708374, -5.293600082397461, -4.424499988555908, -5.692599773406982, -5.363999843597412, -4.617300033569336, -5.288899898529053, -5.169099807739258, -5.5100998878479, -5.07390022277832, -5.49399995803833, -4.574100017547607, -5.320700168609619, -5.332499980926514, -5.022299766540527, -5.1869001388549805, -5.315899848937988, -5.3302001953125, -5.327499866485596, -4.782899856567383, -4.959099769592285, -5.347700119018555, -5.560999870300293, -5.701099872589111, -5.581900119781494, -6.062399864196777, -6.191100120544434, -6.213799953460693, -6.006800174713135, -6.4475998878479, -6.421999931335449, -6.543900012969971, -2.7537999153137207, -6.573800086975098, -6.736199855804443, -6.737400054931641, -6.765399932861328, -6.646200180053711, -6.771200180053711, -6.82289981842041, -6.853400230407715, -6.7108001708984375, -6.776599884033203, -6.857900142669678, -5.970900058746338, -6.978899955749512, -6.7941999435424805, -7.077099800109863, -7.042200088500977, -6.917699813842773, -4.518099784851074, -5.395599842071533, -4.6107001304626465, -3.3501999378204346, -4.470399856567383, -5.055699825286865, -6.188899993896484, -5.877299785614014, -4.59089994430542, -4.822500228881836, -4.098100185394287, -6.346099853515625, -3.335099935531616, -5.485199928283691, -5.92710018157959, -5.371699810028076, -5.385200023651123, -5.646500110626221, -4.2581000328063965, -5.5167999267578125, -4.864699840545654, -3.6747000217437744, -5.587299823760986, -5.332399845123291, -5.330900192260742, -4.92140007019043, -5.285099983215332, -5.350900173187256, -5.474599838256836, -5.473199844360352, -5.492400169372559, -5.52370023727417, -5.287399768829346, -5.577000141143799, -5.554100036621094, -5.83519983291626, -5.816100120544434, -5.6508002281188965, -6.25540018081665, -6.332699775695801, -6.565199851989746, -6.277200222015381, -6.599299907684326, -6.655399799346924, -6.7795000076293945, -6.779799938201904, -6.8333001136779785, -6.729300022125244, -6.936800003051758, -7.0005998611450195, -7.001100063323975, -7.0731000900268555, -7.0777997970581055, -7.078000068664551, -7.082099914550781, -7.1508002281188965, -7.20359992980957, -6.173500061035156, -7.206200122833252, -7.160600185394287, -7.232900142669678, -7.285999774932861, -5.433300018310547, -3.863100051879883, -3.40939998626709, -4.198200225830078, -3.7483999729156494, -4.026400089263916, -4.116399765014648, -5.579599857330322, -3.9962000846862793, -4.936999797821045, -3.7711000442504883, -4.585599899291992, -5.372799873352051, -4.44290018081665, -5.904200077056885, -4.586599826812744, -5.731400012969971, -3.3366000652313232, -4.860799789428711, -5.1585001945495605, -4.9918999671936035, -4.528500080108643, -5.107100009918213, -4.169600009918213, -5.089900016784668, -5.296299934387207, -5.420499801635742, -5.428699970245361, -5.242000102996826, -5.377399921417236, -5.458499908447266, -5.453100204467773, -5.457200050354004], \"loglift\": [30.0, 29.0, 28.0, 27.0, 26.0, 25.0, 24.0, 23.0, 22.0, 21.0, 20.0, 19.0, 18.0, 17.0, 16.0, 15.0, 14.0, 13.0, 12.0, 11.0, 10.0, 9.0, 8.0, 7.0, 6.0, 5.0, 4.0, 3.0, 2.0, 1.0, 0.6886, 0.6877, 0.6866, 0.6832, 0.6811, 0.6758, 0.6719, 0.6638, 0.6636, 0.6636, 0.6634, 0.663, 0.6616, 0.6556, 0.6541, 0.6515, 0.6511, 0.6504, 0.6469, 0.6432, 0.6428, 0.641, 0.6407, 0.6406, 0.6378, 0.6377, 0.637, 0.6369, 0.6355, 0.6355, 0.6271, 0.6099, 0.6264, 0.6334, 0.6089, 0.6193, 0.6131, 0.5654, 0.5771, 0.5825, 0.5162, 0.3004, 0.452, 0.5023, 0.55, 0.4422, 0.5246, 0.3948, 0.0497, 0.5604, 0.5271, 0.5609, 0.2784, 0.3379, -0.03, 0.4716, 0.3102, -0.1928, 0.2148, 0.1215, 0.3438, 0.0282, 0.3322, -0.4395, 0.1439, 0.1325, -0.3307, -0.3392, -0.0618, -0.206, -0.6814, 1.2385, 1.2356, 1.23, 1.2225, 1.2197, 1.2189, 1.2037, 1.2001, 1.1932, 1.1876, 1.1833, 1.1812, 1.176, 1.1747, 1.1683, 1.1672, 1.166, 1.1651, 1.1605, 1.1593, 1.1576, 1.1562, 1.1555, 1.1539, 1.1519, 1.1429, 1.1366, 1.1351, 1.1348, 1.1341, 1.1337, 1.0834, 1.1001, 0.974, 0.7844, 0.8778, 0.9323, 1.0727, 1.0191, 0.7981, 0.7956, 0.5934, 1.0713, 0.2273, 0.8031, 0.9423, 0.7586, 0.7503, 0.8425, 0.1365, 0.7157, 0.2508, -0.5865, 0.6237, 0.3383, 0.1825, -0.4968, -0.031, 0.0638, -0.0096, -0.2174, -0.1293, -0.04, 1.504, 1.4941, 1.4925, 1.4848, 1.4841, 1.4841, 1.4583, 1.4408, 1.4358, 1.4347, 1.4303, 1.4147, 1.4138, 1.4135, 1.4091, 1.3965, 1.3958, 1.3885, 1.388, 1.3758, 1.3711, 1.3708, 1.3664, 1.3616, 1.3576, 1.3567, 1.3548, 1.3509, 1.3473, 1.3468, 1.3228, 1.2568, 1.2367, 1.2131, 1.1827, 1.1923, 1.0079, 1.1421, 0.8515, 0.9684, 0.6534, 0.8291, 0.9511, 0.6592, 1.104, 0.5289, 0.9747, -0.2484, 0.4298, 0.5739, 0.3563, -0.134, 0.3575, -0.6072, 0.1643, 0.3946, 0.4492, 0.4483, -0.5505, 0.1063, 0.4669, 0.0602, 0.0243]}, \"token.table\": {\"Topic\": [2, 2, 1, 2, 3, 1, 1, 1, 1, 2, 3, 3, 2, 2, 1, 2, 1, 3, 1, 2, 3, 1, 2, 3, 1, 2, 2, 1, 2, 3, 3, 1, 2, 1, 3, 1, 2, 2, 1, 2, 3, 1, 2, 3, 1, 2, 3, 1, 2, 3, 1, 2, 3, 2, 3, 1, 2, 3, 1, 1, 3, 3, 3, 1, 2, 3, 1, 2, 3, 3, 1, 2, 1, 2, 3, 1, 2, 1, 2, 3, 1, 2, 3, 1, 2, 1, 2, 3, 1, 2, 3, 2, 3, 1, 2, 3, 1, 2, 3, 1, 2, 1, 2, 3, 3, 3, 1, 2, 3, 1, 2, 2, 2, 1, 1, 2, 3, 1, 1, 2, 3, 1, 2, 3, 3, 2, 1, 2, 1, 2, 2, 1, 2, 1, 2, 1, 1, 1, 2, 3, 1, 1, 3, 1, 2, 3, 1, 3, 1, 1, 2, 1, 2, 3, 1, 2, 3, 1, 2, 3, 2, 1, 1, 3, 1, 2, 3, 1, 2, 3, 1, 2, 3, 1, 2, 3, 1, 2, 3, 1, 2, 3, 1, 2, 3, 1, 2, 1, 2, 3, 2, 3, 2, 1, 2, 3, 1, 2, 3, 1, 2, 3, 1, 1, 2, 3, 3, 1, 2, 1, 2, 3, 2, 3, 1, 2, 3, 1, 2, 3, 1, 2, 3, 1, 1, 2, 3, 2, 1, 3, 1, 3, 3, 3, 1, 2, 3, 3, 1, 2, 3, 2, 1, 2, 3, 2, 2, 3, 2, 3, 3, 1, 1, 2, 1, 2, 3, 3, 1, 1, 2, 3, 2, 1, 1, 3, 1, 2, 3, 1, 2, 1, 3, 1, 2, 3, 1, 2, 3, 1, 2, 2, 1, 2, 3, 3, 2, 2, 1, 3, 1, 2, 3, 1, 2, 3, 1, 1, 2, 1, 2, 3, 1, 2, 1, 2, 3], \"Freq\": [0.9698003615373869, 0.9697619391204081, 0.2543316918792964, 0.005190442691414212, 0.7422333048722323, 0.9658451278217425, 0.941140860013839, 0.9583089454982058, 0.18966610152732666, 0.0892546360128596, 0.7251939176044843, 0.8389182123450595, 0.918037739826555, 0.9849158057267087, 0.6946938121858606, 0.29524487017899076, 0.09283744961955182, 0.8355370465759663, 0.3452320896833983, 0.598402288784557, 0.04603094529111977, 0.23881764322059035, 0.7562558701985361, 0.013267646845588354, 0.13198390197041576, 0.8578953628077025, 0.8569105158051198, 0.979189792153319, 0.8997184970151556, 0.9473741138608008, 0.9378745401452605, 0.9908707708780476, 0.902826338656597, 0.8633624514399516, 0.13282499252922333, 0.9381174819063638, 0.04078771660462451, 0.96700214042072, 0.5232851413921877, 0.3582220431006923, 0.11765135729287443, 0.16462142031221835, 0.6310487778635037, 0.20577677539027295, 0.9806353259049455, 0.039225413036197816, 0.9178186669608028, 0.0663616812702566, 0.9290635377835925, 0.9462496787933848, 0.26555655665858935, 0.3651402654055604, 0.3651402654055604, 0.6555034963040429, 0.32775174815202146, 0.8604165907174167, 0.0637345622753642, 0.0637345622753642, 0.9440391905099685, 0.7778832204191027, 0.22738124904558385, 0.7807735958234069, 0.9385864560655717, 0.9448201484982809, 0.04724100742491404, 0.9305858225449875, 0.9893495005717071, 0.8517035171141457, 0.14195058618569095, 0.7808886026577309, 0.8644229931148708, 0.11525639908198278, 0.9658681725595422, 0.9768334414499613, 0.7437441530391155, 0.9404166446007894, 0.06717261747148495, 0.5650228600206315, 0.28251143001031576, 0.15302702458892103, 0.9709418172680533, 0.027741194779087236, 0.7959340780192973, 0.8972747591130047, 0.10556173636623585, 0.27605894461845587, 0.020704420846384193, 0.7039503087770626, 0.273021627831159, 0.5212231076776672, 0.17374103589255574, 0.9679930412799308, 0.8766253605507505, 0.6721781431554754, 0.15957399821251939, 0.16831777893649305, 0.8380793590251638, 0.11590459220560777, 0.044578689309849144, 0.06122593853966769, 0.9183890780950154, 0.3205342983361499, 0.6255086792773411, 0.05290371914285969, 0.8919662516308579, 0.9009575261859268, 0.3555731328583451, 0.13968944505149272, 0.5079616183690644, 0.07343562946639347, 0.9268082891275865, 0.8857874392114221, 0.8998692781390297, 0.9611564734540232, 0.2014967128653803, 0.30224506929807043, 0.4925475203375963, 0.9912111681382078, 0.8516327044613359, 0.05009604143890211, 0.12524010359725526, 0.8210053927468994, 0.012630852196106145, 0.16420107854937988, 0.9589097530040098, 0.9240816820499541, 0.931669874929531, 0.08873046427900295, 0.360039234400941, 0.6327962301592297, 0.9589570859438946, 0.9650329325475432, 0.07423330250365717, 0.8544088047702738, 0.13780787173714093, 0.9580601852636671, 0.9098954022854524, 0.2949712831196449, 0.6435737086246797, 0.05363114238538998, 0.9706187139719205, 0.4018619252946271, 0.5944207644983026, 0.6952193051604039, 0.13904386103208077, 0.16685263323849692, 0.241756812465124, 0.7586162046319409, 0.9797156684479241, 0.9604229442404181, 0.8303129734841631, 0.5036407048269299, 0.14922687550427552, 0.33576046988461994, 0.3043451156742388, 0.5833281383756244, 0.10144837189141293, 0.43065554125684136, 0.1845666605386463, 0.38451387612217974, 0.9178370042878985, 0.9657670945472655, 0.9705098823396334, 0.9008867724103661, 0.3584787561656376, 0.5159921490262965, 0.12492441502741918, 0.6820107301817683, 0.08706519959767255, 0.23217386559379347, 0.9116036054540769, 0.02604581729868791, 0.05209163459737582, 0.4797617132592332, 0.2758629851240591, 0.2398808566296166, 0.5765645180014869, 0.11766622816356877, 0.30593219322527876, 0.20361864354443152, 0.20361864354443152, 0.5701322019244082, 0.43239011085736784, 0.34591208868589424, 0.23472606017971395, 0.9389791951267769, 0.9695494944875845, 0.2397237626830914, 0.7191712880492742, 0.9781100847246869, 0.9855794560396475, 0.8766104981165244, 0.8739250905508831, 0.5635968554117573, 0.10876430543033913, 0.3361805804210482, 0.8053704954915722, 0.04737473502891602, 0.16581157260120605, 0.6588870706775415, 0.2291781115400144, 0.1145890557700072, 0.9927159478361727, 0.4671294105958311, 0.27646434504651224, 0.2573978384915804, 0.7430880911485737, 0.9388595813350654, 0.05442664239623568, 0.23829606639789808, 0.7347462047268524, 0.039716011066316344, 0.6912618901578574, 0.3037362850693616, 0.3198937015345052, 0.3376655738419777, 0.3376655738419777, 0.6118383371201515, 0.2080250346208515, 0.17131473439364242, 0.10970360343663617, 0.31082687640380247, 0.5668019510892869, 0.9628677484805392, 0.9050360010990877, 0.06961815393069905, 0.034809076965349524, 0.9095117790336996, 0.9925136877449341, 0.9558255344446482, 0.8808369583503708, 0.11292781517312446, 0.8284711541648168, 0.9730732419232707, 0.16027613559634915, 0.6182079515859181, 0.2289659079947845, 0.8923014982162821, 0.41681971545613383, 0.02778798103040892, 0.5557596206081784, 0.9267406201390902, 0.19702252352997876, 0.788090094119915, 0.9305326592534607, 0.9438633814005366, 0.9381028936360318, 0.930619313926273, 0.28954924896452494, 0.6618268547760571, 0.9302084939054029, 0.9048919637886977, 0.9811523281229898, 0.9697290497560841, 0.8696122189250338, 0.054350763682814614, 0.0724676849104195, 0.9756084678322292, 0.97111265826145, 0.6925995445935423, 0.06757068727741876, 0.23649740547096565, 0.8334385081994709, 0.977249066979948, 0.3305110764766098, 0.6610221529532196, 0.48428856148573973, 0.32689477900287434, 0.18967968658191472, 0.9612879402328793, 0.06866342430234852, 0.17124776930246222, 0.8134269041866955, 0.7848879184756808, 0.0981109898094601, 0.11913477334005869, 0.41170488179341413, 0.17466267712447872, 0.4158635169630446, 0.5928965432985855, 0.40490495639903407, 0.8978636888278557, 0.42789986153250825, 0.25083784986388413, 0.3246136880591442, 0.8421077270034848, 0.8988126142839695, 0.9438575511867877, 0.11133020372974747, 0.8906416298379798, 0.5645936246050898, 0.10586130461345433, 0.33522746460927205, 0.5158625396848875, 0.0736946485264125, 0.4176030083163375, 0.9892553424135891, 0.1484179436836044, 0.850030041097007, 0.2852694615959299, 0.0092022406966429, 0.7085725336415033, 0.16587339678746985, 0.8293669839373492, 0.7441754326087658, 0.25514586260871974, 0.010631077608696655], \"Term\": [\"access\", \"adapter\", \"amazing\", \"amazing\", \"amazing\", \"assassin\", \"audio\", \"available\", \"awesome\", \"awesome\", \"awesome\", \"awsome\", \"backwards\", \"battery\", \"big\", \"big\", \"birthday\", \"birthday\", \"bit\", \"bit\", \"bit\", \"box\", \"box\", \"box\", \"brand\", \"brand\", \"bug\", \"capable\", \"chance\", \"clarity\", \"clear\", \"close\", \"code\", \"color\", \"color\", \"compatible\", \"compatible\", \"condition\", \"console\", \"console\", \"console\", \"controller\", \"controller\", \"controller\", \"cool\", \"cool\", \"crystal\", \"date\", \"date\", \"daughter\", \"day\", \"day\", \"day\", \"delivery\", \"delivery\", \"design\", \"design\", \"design\", \"detail\", \"difference\", \"difference\", \"dinner\", \"disk\", \"display\", \"display\", \"distance\", \"drive\", \"early\", \"early\", \"earth\", \"enhanced\", \"enhanced\", \"entertainment\", \"excellent\", \"exciting\", \"exclusive\", \"exclusive\", \"experience\", \"experience\", \"experience\", \"external\", \"external\", \"failure\", \"fan\", \"fan\", \"fast\", \"fast\", \"fast\", \"feature\", \"feature\", \"feature\", \"fine\", \"fire\", \"game\", \"game\", \"game\", \"gaming\", \"gaming\", \"gaming\", \"gift\", \"gift\", \"good\", \"good\", \"good\", \"gorgeous\", \"grandson\", \"graphic\", \"graphic\", \"graphic\", \"great\", \"great\", \"grip\", \"guy\", \"halo\", \"happy\", \"happy\", \"happy\", \"hard\", \"hdr\", \"hdr\", \"hdr\", \"high\", \"high\", \"high\", \"husband\", \"install\", \"internal\", \"internal\", \"issue\", \"issue\", \"item\", \"lag\", \"lag\", \"last\", \"last\", \"level\", \"line\", \"little\", \"little\", \"little\", \"living\", \"load\", \"load\", \"lot\", \"lot\", \"lot\", \"love\", \"love\", \"machine\", \"main\", \"moment\", \"money\", \"money\", \"money\", \"month\", \"month\", \"month\", \"much\", \"much\", \"much\", \"name\", \"need\", \"negative\", \"netflix\", \"new\", \"new\", \"new\", \"next\", \"next\", \"next\", \"nice\", \"nice\", \"nice\", \"old\", \"old\", \"old\", \"one\", \"one\", \"one\", \"order\", \"order\", \"order\", \"original\", \"original\", \"original\", \"output\", \"packaging\", \"pass\", \"pass\", \"penny\", \"perfect\", \"physical\", \"plastic\", \"play\", \"play\", \"play\", \"playstation\", \"playstation\", \"playstation\", \"power\", \"power\", \"power\", \"powerful\", \"price\", \"price\", \"price\", \"pricey\", \"pro\", \"pro\", \"problem\", \"problem\", \"problem\", \"product\", \"product\", \"purchase\", \"purchase\", \"purchase\", \"quality\", \"quality\", \"quality\", \"quick\", \"quick\", \"quick\", \"quieter\", \"reason\", \"reason\", \"reason\", \"rechargeable\", \"regret\", \"repair\", \"resolution\", \"resolution\", \"restart\", \"resume\", \"review\", \"review\", \"review\", \"samsung\", \"screen\", \"screen\", \"screen\", \"seller\", \"service\", \"service\", \"session\", \"shape\", \"share\", \"shipment\", \"shipping\", \"shipping\", \"sign\", \"silent\", \"size\", \"skeptical\", \"small\", \"small\", \"small\", \"son\", \"space\", \"speed\", \"speed\", \"speed\", \"steep\", \"storage\", \"super\", \"super\", \"system\", \"system\", \"system\", \"texture\", \"texture\", \"thank\", \"thank\", \"thing\", \"thing\", \"thing\", \"time\", \"time\", \"time\", \"title\", \"title\", \"ultimate\", \"upgrade\", \"upgrade\", \"upgrade\", \"valhalla\", \"want\", \"warranty\", \"watch\", \"watch\", \"way\", \"way\", \"way\", \"well\", \"well\", \"well\", \"wish\", \"work\", \"work\", \"worth\", \"worth\", \"worth\", \"wrong\", \"wrong\", \"year\", \"year\", \"year\"]}, \"R\": 30, \"lambda.step\": 0.01, \"plot.opts\": {\"xlab\": \"PC1\", \"ylab\": \"PC2\"}, \"topic.order\": [1, 2, 3]};\n",
       "\n",
       "function LDAvis_load_lib(url, callback){\n",
       "  var s = document.createElement('script');\n",
       "  s.src = url;\n",
       "  s.async = true;\n",
       "  s.onreadystatechange = s.onload = callback;\n",
       "  s.onerror = function(){console.warn(\"failed to load library \" + url);};\n",
       "  document.getElementsByTagName(\"head\")[0].appendChild(s);\n",
       "}\n",
       "\n",
       "if(typeof(LDAvis) !== \"undefined\"){\n",
       "   // already loaded: just create the visualization\n",
       "   !function(LDAvis){\n",
       "       new LDAvis(\"#\" + \"ldavis_el1508018870052671049891487734\", ldavis_el1508018870052671049891487734_data);\n",
       "   }(LDAvis);\n",
       "}else if(typeof define === \"function\" && define.amd){\n",
       "   // require.js is available: use it to load d3/LDAvis\n",
       "   require.config({paths: {d3: \"https://cdnjs.cloudflare.com/ajax/libs/d3/3.5.5/d3.min\"}});\n",
       "   require([\"d3\"], function(d3){\n",
       "      window.d3 = d3;\n",
       "      LDAvis_load_lib(\"https://cdn.rawgit.com/bmabey/pyLDAvis/files/ldavis.v1.0.0.js\", function(){\n",
       "        new LDAvis(\"#\" + \"ldavis_el1508018870052671049891487734\", ldavis_el1508018870052671049891487734_data);\n",
       "      });\n",
       "    });\n",
       "}else{\n",
       "    // require.js not available: dynamically load d3 & LDAvis\n",
       "    LDAvis_load_lib(\"https://cdnjs.cloudflare.com/ajax/libs/d3/3.5.5/d3.min.js\", function(){\n",
       "         LDAvis_load_lib(\"https://cdn.rawgit.com/bmabey/pyLDAvis/files/ldavis.v1.0.0.js\", function(){\n",
       "                 new LDAvis(\"#\" + \"ldavis_el1508018870052671049891487734\", ldavis_el1508018870052671049891487734_data);\n",
       "            })\n",
       "         });\n",
       "}\n",
       "</script>"
      ],
      "text/plain": [
       "PreparedData(topic_coordinates=              x         y  topics  cluster       Freq\n",
       "topic                                                \n",
       "0      0.025186 -0.108661       1        1  49.790062\n",
       "1     -0.140891  0.038332       2        1  28.598409\n",
       "2      0.115705  0.070329       3        1  21.611529, topic_info=           Term        Freq       Total Category  logprob  loglift\n",
       "25        great  394.000000  394.000000  Default  30.0000  30.0000\n",
       "0       amazing  192.000000  192.000000  Default  29.0000  29.0000\n",
       "39         fast  144.000000  144.000000  Default  28.0000  28.0000\n",
       "203        love  119.000000  119.000000  Default  27.0000  27.0000\n",
       "72         good  321.000000  321.000000  Default  26.0000  26.0000\n",
       "..          ...         ...         ...      ...      ...      ...\n",
       "33          new   22.945646  184.111328   Topic3  -5.2420  -0.5505\n",
       "89          old   20.039373   83.374723   Topic3  -5.3774   0.1063\n",
       "817       money   18.479927   53.609646   Topic3  -5.4585   0.4669\n",
       "452    original   18.579262   80.945422   Topic3  -5.4531   0.0602\n",
       "122  difference   18.503167   83.560100   Topic3  -5.4572   0.0243\n",
       "\n",
       "[227 rows x 6 columns], token_table=      Topic      Freq     Term\n",
       "term                          \n",
       "340       2  0.969800   access\n",
       "341       2  0.969762  adapter\n",
       "0         1  0.254332  amazing\n",
       "0         2  0.005190  amazing\n",
       "0         3  0.742233  amazing\n",
       "...     ...       ...      ...\n",
       "733       1  0.165873    wrong\n",
       "733       2  0.829367    wrong\n",
       "37        1  0.744175     year\n",
       "37        2  0.255146     year\n",
       "37        3  0.010631     year\n",
       "\n",
       "[307 rows x 3 columns], R=30, lambda_step=0.01, plot_opts={'xlab': 'PC1', 'ylab': 'PC2'}, topic_order=[1, 2, 3])"
      ]
     },
     "execution_count": 161,
     "metadata": {},
     "output_type": "execute_result"
    }
   ],
   "source": [
    "pyLDAvis.enable_notebook()\n",
    "vis = pyLDAvis.gensim.prepare(lda_model, doc_term_matrix, dictionary)\n",
    "vis"
   ]
  },
  {
   "cell_type": "markdown",
   "metadata": {},
   "source": [
    "As can be seen above, there are 3 topics which are clearly separated.<br>Based on the words within each topic, I can take a reasonable guess as to what the topics are about:<br>\n",
    "\n",
    "Topic 1: The topic seems to be on the power and quality of the system: powerful, drive, graphic, quality, amazing<br>\n",
    "Topic 2: The topic seems to on the condition of the Xbox and the controller: perfect, controller, excellent, condition<br>\n",
    "Topic 3: The topic is focused on the speed of the Xbox: fast, time, awesome, quick<br>\n",
    "\n",
    "Based on the reviews, it seems most customers were happy on how quick the system was,the graphics, and the experience.<br>\n",
    "There were also positive reviews based on the controller, firmware, size, and features.<br>Furthermore, there seems to be positive reviews on the size and quality of the system with some consumers calling the product perfect."
   ]
  },
  {
   "cell_type": "markdown",
   "metadata": {},
   "source": [
    "#                              Data Cleaning (Xbox One X Negative Reviews)\n",
    "\n",
    "The following section is done in order to prepare the Xbox One X negative reviews for the LDA model.\n",
    "The data will need to be split, tokenized, and lemmatized in order to prepare it for the model.\n",
    "Visualizations will also be built in order to take a better look at the data."
   ]
  },
  {
   "cell_type": "markdown",
   "metadata": {},
   "source": [
    "Here is a frequency bar graph for the negative Xbox One X negative comments:"
   ]
  },
  {
   "cell_type": "code",
   "execution_count": 162,
   "metadata": {},
   "outputs": [
    {
     "data": {
      "image/png": "[encoded data removed]",
      "text/plain": [
       "<Figure size 1440x360 with 1 Axes>"
      ]
     },
     "metadata": {
      "needs_background": "light"
     },
     "output_type": "display_data"
    }
   ],
   "source": [
    "freq_words(xboxonex_negative['comment'])"
   ]
  },
  {
   "cell_type": "markdown",
   "metadata": {},
   "source": [
    "Looking above, it seems most of the most frequent words are \"the\", \"and\", and \"for\".<br>But these are not necessary words because these words don't show true sentiment.<br>The dataset will need to be cleaned further in order to prepare this dataset for the model."
   ]
  },
  {
   "cell_type": "markdown",
   "metadata": {},
   "source": [
    "This code removes the characters and samples from the text dataset:"
   ]
  },
  {
   "cell_type": "code",
   "execution_count": 163,
   "metadata": {},
   "outputs": [],
   "source": [
    "xboxonex_negative['comment'] = xboxonex_negative['comment'].str.replace(\"[^a-zA-Z#]\",\" \")"
   ]
  },
  {
   "cell_type": "markdown",
   "metadata": {},
   "source": [
    "The following code is run in order to remove short words (length < 3) to make the data cleaner:"
   ]
  },
  {
   "cell_type": "code",
   "execution_count": 164,
   "metadata": {},
   "outputs": [],
   "source": [
    "xboxonex_negative['comment'] = xboxonex_negative['comment'].apply(lambda x: ' '.join([w for w in x.split() if len(w) > 2]))"
   ]
  },
  {
   "cell_type": "markdown",
   "metadata": {},
   "source": [
    "This code removes the stopwords from the dataset:"
   ]
  },
  {
   "cell_type": "code",
   "execution_count": 165,
   "metadata": {},
   "outputs": [],
   "source": [
    "reviews = [remove_stopwords(r.split()) for r in xboxonex_negative['comment']]"
   ]
  },
  {
   "cell_type": "markdown",
   "metadata": {},
   "source": [
    "This code makes the text lowercase:"
   ]
  },
  {
   "cell_type": "code",
   "execution_count": 166,
   "metadata": {},
   "outputs": [],
   "source": [
    "reviews = [r.lower() for r in reviews]"
   ]
  },
  {
   "cell_type": "code",
   "execution_count": 167,
   "metadata": {},
   "outputs": [
    {
     "data": {
      "image/png": "[encoded data removed]",
      "text/plain": [
       "<Figure size 1440x360 with 1 Axes>"
      ]
     },
     "metadata": {
      "needs_background": "light"
     },
     "output_type": "display_data"
    }
   ],
   "source": [
    "freq_words(reviews, 20)"
   ]
  },
  {
   "cell_type": "markdown",
   "metadata": {},
   "source": [
    "Re-running a frequency bar graph on the data, it seems the stopwords have been removed and the reviews are getting closer to be used for the model.<br>The next step is to lemmatize the data."
   ]
  },
  {
   "cell_type": "markdown",
   "metadata": {},
   "source": [
    "Here, the reviews are tokenized:"
   ]
  },
  {
   "cell_type": "code",
   "execution_count": 168,
   "metadata": {},
   "outputs": [
    {
     "name": "stdout",
     "output_type": "stream",
     "text": [
      "['hope', 'never', 'sell']\n"
     ]
    }
   ],
   "source": [
    "tokenized_reviews = pd.Series(reviews).apply(lambda x: x.split())\n",
    "print(tokenized_reviews[1])"
   ]
  },
  {
   "cell_type": "markdown",
   "metadata": {},
   "source": [
    "Below, the reviews are lemmatized:"
   ]
  },
  {
   "cell_type": "code",
   "execution_count": 169,
   "metadata": {},
   "outputs": [
    {
     "name": "stdout",
     "output_type": "stream",
     "text": [
      "['stock', 'replenish', 'game', 'compatible', 'feed', 'troll']\n"
     ]
    }
   ],
   "source": [
    "reviews_2 = lemmatization(tokenized_reviews)\n",
    "print(reviews_2[2]) "
   ]
  },
  {
   "cell_type": "markdown",
   "metadata": {},
   "source": [
    "The following code is run in order to append the reviews to a new dataframe in order to show a frequency graph \n",
    "of the lemmatized reviews later on:"
   ]
  },
  {
   "cell_type": "code",
   "execution_count": 170,
   "metadata": {},
   "outputs": [],
   "source": [
    "reviews_3 = []\n",
    "for i in range(len(reviews_2)):\n",
    "    reviews_3.append(' '.join(reviews_2[i]))\n",
    "\n",
    "xboxonex_negative['reviews'] = reviews_3"
   ]
  },
  {
   "cell_type": "code",
   "execution_count": 171,
   "metadata": {},
   "outputs": [
    {
     "data": {
      "image/png": "[encoded data removed]",
      "text/plain": [
       "<Figure size 1440x360 with 1 Axes>"
      ]
     },
     "metadata": {
      "needs_background": "light"
     },
     "output_type": "display_data"
    }
   ],
   "source": [
    "freq_words(xboxonex_negative['reviews'], 20)"
   ]
  },
  {
   "cell_type": "markdown",
   "metadata": {},
   "source": [
    "As can be seen, the tokens are now cleaner as words such as \"game\", \"system\", and \"hour\" are now clearly showing in the dataset.<br>The dataset is now ready for model building."
   ]
  },
  {
   "cell_type": "markdown",
   "metadata": {},
   "source": [
    "#                                              LDA Model (Xbox One X Negative Reviews)"
   ]
  },
  {
   "cell_type": "markdown",
   "metadata": {},
   "source": [
    "The code below is run in order to incorporate the reviews into a dictionary in order to set up the LDA Model."
   ]
  },
  {
   "cell_type": "code",
   "execution_count": 172,
   "metadata": {},
   "outputs": [],
   "source": [
    "dictionary = corpora.Dictionary(reviews_2)\n",
    "doc_term_matrix = [dictionary.doc2bow(rev) for rev in reviews_2]"
   ]
  },
  {
   "cell_type": "markdown",
   "metadata": {},
   "source": [
    "Next, the LDA Model is imported and the next lines of code are run in order to build the model.<br>\n",
    "The number of topics I chose through trial and error were 4."
   ]
  },
  {
   "cell_type": "code",
   "execution_count": 173,
   "metadata": {},
   "outputs": [],
   "source": [
    "LDA = gensim.models.ldamodel.LdaModel\n",
    "\n",
    "lda_model = LDA(corpus = doc_term_matrix, \n",
    "                id2word = dictionary,\n",
    "                num_topics = 4,\n",
    "                random_state = 100,\n",
    "                chunksize = 1000,\n",
    "                passes = 50)"
   ]
  },
  {
   "cell_type": "markdown",
   "metadata": {},
   "source": [
    "Here, this code is being run to print the topics and the words associated with it:"
   ]
  },
  {
   "cell_type": "code",
   "execution_count": 174,
   "metadata": {},
   "outputs": [
    {
     "data": {
      "text/plain": [
       "[(0,\n",
       "  '0.030*\"game\" + 0.017*\"day\" + 0.017*\"time\" + 0.012*\"problem\" + 0.012*\"week\" + 0.010*\"console\" + 0.010*\"work\" + 0.010*\"error\" + 0.010*\"issue\" + 0.009*\"thing\"'),\n",
       " (1,\n",
       "  '0.039*\"game\" + 0.021*\"console\" + 0.020*\"time\" + 0.018*\"new\" + 0.017*\"system\" + 0.013*\"issue\" + 0.012*\"good\" + 0.009*\"old\" + 0.008*\"bad\" + 0.007*\"controller\"'),\n",
       " (2,\n",
       "  '0.014*\"issue\" + 0.011*\"game\" + 0.011*\"system\" + 0.010*\"time\" + 0.010*\"hour\" + 0.010*\"disk\" + 0.009*\"box\" + 0.007*\"internet\" + 0.007*\"new\" + 0.007*\"pass\"'),\n",
       " (3,\n",
       "  '0.037*\"console\" + 0.023*\"month\" + 0.018*\"game\" + 0.014*\"product\" + 0.013*\"year\" + 0.012*\"problem\" + 0.011*\"new\" + 0.011*\"money\" + 0.010*\"warranty\" + 0.010*\"day\"')]"
      ]
     },
     "execution_count": 174,
     "metadata": {},
     "output_type": "execute_result"
    }
   ],
   "source": [
    "lda_model.print_topics()"
   ]
  },
  {
   "cell_type": "markdown",
   "metadata": {},
   "source": [
    "This code is run to visualize the LDA model into a graphical bubble plot:"
   ]
  },
  {
   "cell_type": "code",
   "execution_count": 175,
   "metadata": {},
   "outputs": [
    {
     "data": {
      "text/html": [
       "\n",
       "<link rel=\"stylesheet\" type=\"text/css\" href=\"https://cdn.rawgit.com/bmabey/pyLDAvis/files/ldavis.v1.0.0.css\">\n",
       "\n",
       "\n",
       "<div id=\"ldavis_el1508018869466460484756779459\"></div>\n",
       "<script type=\"text/javascript\">\n",
       "\n",
       "var ldavis_el1508018869466460484756779459_data = {\"mdsDat\": {\"x\": [-0.01392247041536171, -0.07880566703674566, -0.026488301223570033, 0.11921643867567741], \"y\": [0.08776533872572292, 0.0034214286755395104, -0.08484624435259937, -0.006340523048663077], \"topics\": [1, 2, 3, 4], \"cluster\": [1, 1, 1, 1], \"Freq\": [38.52020248088465, 30.18982893487857, 24.308057989929512, 6.981910594307266]}, \"tinfo\": {\"Term\": [\"month\", \"console\", \"hour\", \"issue\", \"system\", \"problem\", \"disk\", \"error\", \"box\", \"time\", \"day\", \"warranty\", \"internet\", \"week\", \"year\", \"people\", \"hard\", \"fix\", \"factory\", \"disappointed\", \"purchase\", \"machine\", \"return\", \"replacement\", \"work\", \"reset\", \"faulty\", \"game\", \"load\", \"pass\", \"file\", \"slim\", \"router\", \"press\", \"hdr\", \"design\", \"little\", \"hate\", \"datum\", \"drop\", \"industry\", \"microsoft\", \"horizon\", \"angry\", \"pubg\", \"buggy\", \"direct\", \"birthday\", \"smooth\", \"monthly\", \"late\", \"race\", \"unplug\", \"third\", \"odd\", \"lovely\", \"distributor\", \"ugly\", \"night\", \"significant\", \"upgrade\", \"old\", \"auto\", \"software\", \"end\", \"exclusive\", \"difference\", \"original\", \"son\", \"system\", \"price\", \"game\", \"monitor\", \"new\", \"good\", \"bad\", \"dollar\", \"time\", \"player\", \"gaming\", \"issue\", \"console\", \"great\", \"one\", \"play\", \"controller\", \"power\", \"brand\", \"thing\", \"star\", \"box\", \"work\", \"money\", \"update\", \"product\", \"day\", \"much\", \"year\", \"connected\", \"future\", \"death\", \"ring\", \"unable\", \"lemon\", \"component\", \"numerous\", \"policy\", \"worthless\", \"manufacturer\", \"surprised\", \"fps\", \"cpu\", \"cod\", \"blink\", \"copy\", \"broke\", \"regret\", \"tired\", \"funny\", \"min\", \"forum\", \"double\", \"competitor\", \"used\", \"direction\", \"red\", \"silent\", \"fresh\", \"member\", \"stock\", \"warranty\", \"month\", \"year\", \"small\", \"worth\", \"console\", \"less\", \"cord\", \"buying\", \"product\", \"couple\", \"replacement\", \"playstation\", \"problem\", \"money\", \"unit\", \"screen\", \"graphic\", \"purchase\", \"use\", \"customer\", \"review\", \"service\", \"well\", \"week\", \"power\", \"controller\", \"sure\", \"buy\", \"day\", \"update\", \"new\", \"game\", \"way\", \"issue\", \"time\", \"great\", \"thing\", \"message\", \"email\", \"type\", \"processing\", \"instruction\", \"lasted\", \"hold\", \"description\", \"amazon\", \"troubleshooting\", \"trial\", \"assistance\", \"working\", \"filthy\", \"form\", \"switch\", \"broken\", \"request\", \"hoop\", \"queue\", \"resubmit\", \"print\", \"monster\", \"official\", \"split\", \"warehouse\", \"preorder\", \"feedback\", \"listing\", \"poop\", \"call\", \"start\", \"freeze\", \"membership\", \"term\", \"reset\", \"factory\", \"live\", \"house\", \"error\", \"phone\", \"gold\", \"repair\", \"week\", \"day\", \"hard\", \"friend\", \"work\", \"problem\", \"option\", \"shipping\", \"code\", \"hour\", \"game\", \"time\", \"support\", \"first\", \"thing\", \"play\", \"service\", \"online\", \"good\", \"issue\", \"box\", \"system\", \"month\", \"customer\", \"console\", \"product\", \"minute\", \"drive\", \"screen\", \"new\", \"pass\", \"business\", \"apology\", \"take\", \"ashamed\", \"freaking\", \"episode\", \"electrical\", \"functionality\", \"fake\", \"signal\", \"scam\", \"disk\", \"practice\", \"jerk\", \"merchandise\", \"dive\", \"daughter\", \"apparent\", \"dime\", \"furious\", \"disgusting\", \"glitch\", \"glitchy\", \"complicated\", \"smoothness\", \"appear\", \"weekend\", \"crock\", \"bubble\", \"state\", \"prime\", \"ship\", \"chinese\", \"set\", \"user\", \"hassle\", \"equipment\", \"hour\", \"happy\", \"disappointed\", \"joke\", \"paper\", \"weight\", \"seal\", \"local\", \"internet\", \"load\", \"fix\", \"issue\", \"people\", \"box\", \"system\", \"faulty\", \"machine\", \"return\", \"time\", \"game\", \"hard\", \"store\", \"love\", \"new\", \"big\", \"replacement\", \"purchase\", \"connection\", \"month\", \"drive\", \"money\"], \"Freq\": [93.0, 210.0, 43.0, 104.0, 104.0, 67.0, 11.0, 36.0, 55.0, 139.0, 93.0, 41.0, 28.0, 56.0, 57.0, 29.0, 30.0, 23.0, 22.0, 16.0, 23.0, 28.0, 33.0, 22.0, 53.0, 20.0, 15.0, 275.0, 15.0, 5.0, 11.694232790373512, 10.810988812686206, 8.15887276299975, 6.399339339326721, 6.395252098353218, 6.3948869285822525, 15.989133926369872, 5.515110132739137, 5.514520969289623, 5.512472414076237, 4.633822881439147, 4.581171922887147, 3.7503283054601333, 3.746518696498164, 3.745717125250027, 3.7429459544146595, 3.742477369937697, 6.010099259156812, 3.7328259028536004, 3.73278942878717, 3.7316870537676503, 3.7175814595124295, 3.710612338184277, 4.385413033716243, 2.8683991105909716, 2.8683991105909716, 2.8683988960376396, 2.8683843064110675, 2.868383019091076, 2.868364567504529, 11.530758599273307, 31.893472943102797, 6.358461351205064, 14.838170301084848, 9.068357471396936, 9.714242814383026, 17.351290120205743, 16.990526416464558, 10.15520998645759, 63.69405287560782, 24.35891433109565, 145.58253039102203, 8.714724662196188, 66.82331150556098, 45.65527723777901, 29.36264646660336, 15.2430959462464, 73.06325016334776, 14.462217937868795, 11.75988439352123, 47.031092754939664, 78.56538625610433, 25.883933668142355, 22.060028588559216, 25.879706109289764, 27.231453891886446, 25.747896557130943, 13.36594309868256, 26.25245562036658, 13.834101901834176, 21.778043719027313, 21.307483634984596, 23.53006391412238, 18.896662844533832, 22.44712742647634, 23.437407770403066, 13.689571911731155, 13.757976663234357, 6.114625720528507, 5.28166382894427, 11.986525765650605, 4.415658992211069, 4.373076667312584, 4.373108280275617, 3.591400082088428, 3.591380912525737, 3.591203678147877, 3.5911051398694847, 3.5891505170912636, 3.5686145345196008, 2.7462887234556677, 2.7462873782231982, 2.7462234796808955, 2.7461689977658796, 2.7461452880436044, 2.7458173876291574, 2.7418613952443995, 2.7399938762685805, 2.7387917429030004, 2.738160828874793, 2.732289393607489, 2.7016655127468527, 2.690087769497879, 5.2809589271302375, 2.626080263365374, 5.130036287449791, 1.901147097092343, 1.9011423887786996, 2.546447882099327, 4.43199045069923, 29.806393850765524, 65.08269125516853, 37.52253160597291, 8.635027716015053, 15.769848146317567, 107.15013380687324, 15.413861968371906, 13.872828222441731, 6.18408948955741, 40.51819212585068, 10.516204164481051, 13.685956599170028, 6.972902869340516, 33.38817215761567, 32.47145272939758, 21.657598393011853, 19.896720030749428, 16.194472120555844, 13.393108907181558, 15.906422872786171, 15.564949062721752, 15.112615990076185, 15.611289630831976, 15.487498648521276, 23.31274148316955, 22.52807276462505, 23.61807158724275, 10.276390917371163, 9.113198668702802, 29.517704272340357, 18.714777259304583, 32.60880634546604, 52.12743533833056, 14.764202125701482, 25.74280439216509, 20.29886920611934, 15.143179671783809, 14.659922395128783, 6.856440700619066, 4.383028067471997, 4.377976275079884, 3.54774062419547, 3.546916891752459, 3.543711592302124, 7.0038314011862814, 3.408758926680608, 2.714755136703964, 2.7146971883992945, 2.7146622569446106, 2.714639240094625, 2.7114019878407807, 2.7113559541408097, 5.220420333983082, 4.376552479818427, 9.97862874273478, 5.127676509437936, 1.8793803647907266, 1.8793803647907266, 1.8793802293974915, 1.87936303445662, 1.8793582956933876, 1.879354098503096, 1.8793439440104553, 1.8793431316510443, 1.8793363619892838, 1.8793176777228249, 1.8792996704225422, 1.8792893805366662, 14.292641733277872, 7.882319034807379, 3.551064528119848, 3.550050703574604, 3.555915396950912, 14.038484801581395, 14.859395649570503, 6.891681393452176, 4.143603273698601, 22.651866650347383, 6.673347345500209, 7.6676341053307615, 10.867005498255535, 27.1085570321536, 40.14851347463182, 15.985730890127341, 8.149586905828542, 23.973096661976825, 27.23334843547269, 8.370407315151885, 5.855799123900749, 10.110946926785601, 18.716191100542595, 70.53375360330622, 39.41731635058388, 11.808213777300677, 11.517540748495426, 20.336692152985997, 17.838097732022426, 12.753455691609163, 8.836990275588752, 19.75600681436331, 22.315073269900576, 16.103006344173515, 20.279229097671582, 18.817486903396475, 11.453079487639533, 24.191842305363828, 14.515323528798866, 10.499306716367006, 9.602201971331747, 10.59946413289925, 12.072165597205105, 4.38110228147309, 2.0123725184419086, 1.395269405419044, 1.3952185392852494, 1.3950300079269653, 1.3946120345278652, 1.393951708112093, 1.3936914663939333, 1.3922857255648793, 1.3727582634673583, 3.0337159522100605, 3.269074331046726, 6.37178622712388, 0.7750974467675422, 0.7750974467675422, 0.7750973689905792, 0.7750973689905792, 0.7750973689905792, 0.7750972912136163, 0.7750972912136163, 0.7750972912136163, 0.7750972912136163, 0.7750909912796142, 0.7750909912796142, 0.7750909912796142, 0.7750909912796142, 0.7750892024094654, 0.7750892024094654, 0.7750892024094654, 0.7750842246838342, 2.6377997887055797, 1.3951917840099815, 1.3959323762515579, 1.3938913531888137, 3.2457580419741836, 2.5540372661994177, 1.9253502078629725, 1.9290460135902598, 6.768181185612518, 3.0421370195467508, 3.5954980225523956, 1.7483811728967331, 1.404374132260403, 1.404374132260403, 1.400439084594963, 1.4058259170515461, 4.880738069524803, 3.3200785967274684, 4.132189244634642, 9.022465569792502, 4.347497966844282, 5.915978379931887, 7.400835802384932, 3.066477475667926, 3.8895220090320217, 4.1219117967453425, 6.839355817766844, 7.422120557184215, 3.1887142395634585, 2.729108387714812, 2.179953718421511, 4.504634498464159, 2.6618870030352646, 2.6300612919960766, 2.6555730691798587, 2.3805366171206868, 3.204187499688241, 2.570439494370135, 2.692834767716238], \"Total\": [93.0, 210.0, 43.0, 104.0, 104.0, 67.0, 11.0, 36.0, 55.0, 139.0, 93.0, 41.0, 28.0, 56.0, 57.0, 29.0, 30.0, 23.0, 22.0, 16.0, 23.0, 28.0, 33.0, 22.0, 53.0, 20.0, 15.0, 275.0, 15.0, 5.0, 12.270808063676624, 11.387756358794322, 8.739561264057304, 6.974536580470508, 6.974229059805811, 6.974227459037631, 17.513106612177477, 6.091677499432581, 6.091644354098769, 6.090790749545982, 5.20904622545146, 5.199569313829256, 4.326265760959681, 4.325960436516422, 4.3259318716955475, 4.325767654039052, 4.325695397596034, 6.953122714092373, 4.320795365318757, 4.325066066572767, 4.325020682320805, 4.324084207808318, 4.32363482042202, 5.136559980943115, 3.44358450632907, 3.443584695631693, 3.44358463767667, 3.443579667955253, 3.4435791975953864, 3.443572392667075, 13.941994230946474, 39.299904292778805, 7.816497367428408, 18.806349199337244, 11.29426980774056, 12.185995227901339, 22.62153583690012, 22.3907189991857, 13.0296814171599, 104.58797983721146, 35.55455516899374, 275.66583988984297, 11.29832795841335, 116.00891794669627, 74.89624878396157, 45.27886418543456, 22.061976996376615, 139.6187915378178, 20.786642363912648, 16.488006949776835, 104.11143598679783, 210.0649413536595, 49.99808632827951, 42.218643476857984, 54.0799766011401, 62.07917953632291, 57.557149988621205, 21.354889334319495, 62.842494898030786, 23.320702928824765, 55.21707816109849, 53.84044105112725, 67.5321805833103, 46.47384801898945, 77.63684583225024, 93.39098703198407, 31.45785274765461, 57.08592007508594, 6.7116033759568445, 5.866296035853695, 13.461479782944997, 5.021355402252912, 5.02004718817399, 5.021865603038986, 4.176018975924793, 4.1760131360053885, 4.175955698646737, 4.175948903751289, 4.175988059976323, 4.176512656577027, 3.330886556203242, 3.33088627583275, 3.3308664890396074, 3.330849308986729, 3.3308461736521453, 3.33073438139516, 3.330892198663326, 3.3307041353582965, 3.330737471063123, 3.331005505386944, 3.330527242876475, 3.3321275564481545, 3.33269596380338, 6.701453060481465, 3.3355559361886256, 6.700030202487128, 2.4857395172894754, 2.4857378678158444, 3.3364266558355267, 5.85605921104082, 41.33773742313232, 93.54715333461829, 57.08592007508594, 11.846537546360292, 23.0518635470058, 210.0649413536595, 23.92410204491986, 21.372524364707285, 8.473273394667068, 77.63684583225024, 15.960503398475964, 22.680347099003747, 10.199940283913904, 67.51384136039871, 67.5321805833103, 42.607941535474026, 39.13429154276029, 30.096391180736802, 23.866136930620986, 30.297291198410175, 29.842821369561577, 29.859754652483748, 31.53372563957878, 31.58672035276086, 56.99421261005364, 57.557149988621205, 62.07917953632291, 17.93459930077894, 15.169335187393802, 93.39098703198407, 46.47384801898945, 116.00891794669627, 275.66583988984297, 32.06748706943042, 104.11143598679783, 139.6187915378178, 49.99808632827951, 62.842494898030786, 7.480749001523109, 4.972736703363755, 4.97271743251968, 4.137280505879792, 4.1373070142379, 4.1362679826290085, 8.322377258694228, 4.1415211694786045, 3.301811636826394, 3.301799373500491, 3.3017808352963325, 3.301780122855031, 3.301872075847876, 3.301853520718554, 6.428805779247437, 5.5990740185800485, 12.955481616992284, 6.695611921890834, 2.46639579173456, 2.4663958795669854, 2.466395897713823, 2.4663903643222227, 2.466389059379476, 2.4663918509113163, 2.4663842046797764, 2.466384652893625, 2.4663857778626124, 2.4663760001604116, 2.4663706677841812, 2.4663667930952076, 20.00022546138323, 10.89050292095013, 4.757525532383708, 4.757285195140795, 4.7659161393516305, 20.600885540190884, 22.02555463649258, 10.052702682342671, 5.8202299037548295, 36.938038345154034, 10.097582755420872, 11.847497470896785, 17.968776735510545, 56.99421261005364, 93.39098703198407, 30.226838947941385, 13.420612439514974, 53.84044105112725, 67.51384136039871, 14.413991480600243, 9.078461563968151, 18.69805735176693, 43.384323045354, 275.66583988984297, 139.6187915378178, 24.612964354754638, 25.354041308050412, 62.842494898030786, 54.0799766011401, 31.53372563957878, 16.860840389401684, 74.89624878396157, 104.11143598679783, 55.21707816109849, 104.58797983721146, 93.54715333461829, 29.842821369561577, 210.0649413536595, 77.63684583225024, 28.52000748119584, 23.811483617984884, 39.13429154276029, 116.00891794669627, 5.178621548180524, 2.6572607143349583, 2.0360971111226718, 2.036095419233736, 2.0361588037336933, 2.0363386131500163, 2.0365907637296496, 2.036594623401944, 2.0372235431486994, 2.043465069961282, 4.821768344577304, 5.655751143243325, 11.317445648238479, 1.4159250402039931, 1.4159250670231596, 1.4159250271896084, 1.4159250312847114, 1.4159250581038778, 1.4159250334896747, 1.4159250603088411, 1.4159250965474468, 1.4159251151764074, 1.4159247466745775, 1.4159247466745775, 1.415924773493744, 1.4159248003129106, 1.41592501642294, 1.41592501642294, 1.41592501642294, 1.41592461052815, 5.915256215265586, 2.871079805264589, 2.8804971484252233, 2.9187114592994456, 9.923426705192004, 7.558968262882605, 5.2541881929998695, 5.302144439409512, 43.384323045354, 12.57865972947387, 16.58242401791245, 5.324919306009991, 3.7226375802654683, 3.722637698734549, 3.724054624119302, 3.7491357700699837, 28.906441834291353, 15.856171885860588, 23.200327120132314, 104.11143598679783, 29.298918449338863, 55.21707816109849, 104.58797983721146, 15.78120143067869, 28.421888128148815, 33.59209524266997, 139.6187915378178, 275.66583988984297, 30.226838947941385, 18.54838069613866, 9.477404989079588, 116.00891794669627, 18.93321694584522, 22.680347099003747, 23.866136930620986, 14.469110478507766, 93.54715333461829, 23.811483617984884, 67.5321805833103], \"Category\": [\"Default\", \"Default\", \"Default\", \"Default\", \"Default\", \"Default\", \"Default\", \"Default\", \"Default\", \"Default\", \"Default\", \"Default\", \"Default\", \"Default\", \"Default\", \"Default\", \"Default\", \"Default\", \"Default\", \"Default\", \"Default\", \"Default\", \"Default\", \"Default\", \"Default\", \"Default\", \"Default\", \"Default\", \"Default\", \"Default\", \"Topic1\", \"Topic1\", \"Topic1\", \"Topic1\", \"Topic1\", \"Topic1\", \"Topic1\", \"Topic1\", \"Topic1\", \"Topic1\", \"Topic1\", \"Topic1\", \"Topic1\", \"Topic1\", \"Topic1\", \"Topic1\", \"Topic1\", \"Topic1\", \"Topic1\", \"Topic1\", \"Topic1\", \"Topic1\", \"Topic1\", \"Topic1\", \"Topic1\", \"Topic1\", \"Topic1\", \"Topic1\", \"Topic1\", \"Topic1\", \"Topic1\", \"Topic1\", \"Topic1\", \"Topic1\", \"Topic1\", \"Topic1\", \"Topic1\", \"Topic1\", \"Topic1\", \"Topic1\", \"Topic1\", \"Topic1\", \"Topic1\", \"Topic1\", \"Topic1\", \"Topic1\", \"Topic1\", \"Topic1\", \"Topic1\", \"Topic1\", \"Topic1\", \"Topic1\", \"Topic1\", \"Topic1\", \"Topic1\", \"Topic1\", \"Topic1\", \"Topic1\", \"Topic1\", \"Topic1\", \"Topic1\", \"Topic1\", \"Topic1\", \"Topic1\", \"Topic1\", \"Topic1\", \"Topic1\", \"Topic1\", \"Topic2\", \"Topic2\", \"Topic2\", \"Topic2\", \"Topic2\", \"Topic2\", \"Topic2\", \"Topic2\", \"Topic2\", \"Topic2\", \"Topic2\", \"Topic2\", \"Topic2\", \"Topic2\", \"Topic2\", \"Topic2\", \"Topic2\", \"Topic2\", \"Topic2\", \"Topic2\", \"Topic2\", \"Topic2\", \"Topic2\", \"Topic2\", \"Topic2\", \"Topic2\", \"Topic2\", \"Topic2\", \"Topic2\", \"Topic2\", \"Topic2\", \"Topic2\", \"Topic2\", \"Topic2\", \"Topic2\", \"Topic2\", \"Topic2\", \"Topic2\", \"Topic2\", \"Topic2\", \"Topic2\", \"Topic2\", \"Topic2\", \"Topic2\", \"Topic2\", \"Topic2\", \"Topic2\", \"Topic2\", \"Topic2\", \"Topic2\", \"Topic2\", \"Topic2\", \"Topic2\", \"Topic2\", \"Topic2\", \"Topic2\", \"Topic2\", \"Topic2\", \"Topic2\", \"Topic2\", \"Topic2\", \"Topic2\", \"Topic2\", \"Topic2\", \"Topic2\", \"Topic2\", \"Topic2\", \"Topic2\", \"Topic2\", \"Topic2\", \"Topic3\", \"Topic3\", \"Topic3\", \"Topic3\", \"Topic3\", \"Topic3\", \"Topic3\", \"Topic3\", \"Topic3\", \"Topic3\", \"Topic3\", \"Topic3\", \"Topic3\", \"Topic3\", \"Topic3\", \"Topic3\", \"Topic3\", \"Topic3\", \"Topic3\", \"Topic3\", \"Topic3\", \"Topic3\", \"Topic3\", \"Topic3\", \"Topic3\", \"Topic3\", \"Topic3\", \"Topic3\", \"Topic3\", \"Topic3\", \"Topic3\", \"Topic3\", \"Topic3\", \"Topic3\", \"Topic3\", \"Topic3\", \"Topic3\", \"Topic3\", \"Topic3\", \"Topic3\", \"Topic3\", \"Topic3\", \"Topic3\", \"Topic3\", \"Topic3\", \"Topic3\", \"Topic3\", \"Topic3\", \"Topic3\", \"Topic3\", \"Topic3\", \"Topic3\", \"Topic3\", \"Topic3\", \"Topic3\", \"Topic3\", \"Topic3\", \"Topic3\", \"Topic3\", \"Topic3\", \"Topic3\", \"Topic3\", \"Topic3\", \"Topic3\", \"Topic3\", \"Topic3\", \"Topic3\", \"Topic3\", \"Topic3\", \"Topic3\", \"Topic3\", \"Topic3\", \"Topic3\", \"Topic4\", \"Topic4\", \"Topic4\", \"Topic4\", \"Topic4\", \"Topic4\", \"Topic4\", \"Topic4\", \"Topic4\", \"Topic4\", \"Topic4\", \"Topic4\", \"Topic4\", \"Topic4\", \"Topic4\", \"Topic4\", \"Topic4\", \"Topic4\", \"Topic4\", \"Topic4\", \"Topic4\", \"Topic4\", \"Topic4\", \"Topic4\", \"Topic4\", \"Topic4\", \"Topic4\", \"Topic4\", \"Topic4\", \"Topic4\", \"Topic4\", \"Topic4\", \"Topic4\", \"Topic4\", \"Topic4\", \"Topic4\", \"Topic4\", \"Topic4\", \"Topic4\", \"Topic4\", \"Topic4\", \"Topic4\", \"Topic4\", \"Topic4\", \"Topic4\", \"Topic4\", \"Topic4\", \"Topic4\", \"Topic4\", \"Topic4\", \"Topic4\", \"Topic4\", \"Topic4\", \"Topic4\", \"Topic4\", \"Topic4\", \"Topic4\", \"Topic4\", \"Topic4\", \"Topic4\", \"Topic4\", \"Topic4\", \"Topic4\", \"Topic4\", \"Topic4\", \"Topic4\", \"Topic4\", \"Topic4\", \"Topic4\"], \"logprob\": [30.0, 29.0, 28.0, 27.0, 26.0, 25.0, 24.0, 23.0, 22.0, 21.0, 20.0, 19.0, 18.0, 17.0, 16.0, 15.0, 14.0, 13.0, 12.0, 11.0, 10.0, 9.0, 8.0, 7.0, 6.0, 5.0, 4.0, 3.0, 2.0, 1.0, -5.753200054168701, -5.831699848175049, -6.1132001876831055, -6.356100082397461, -6.3566999435424805, -6.356800079345703, -5.440400123596191, -6.504799842834473, -6.504899978637695, -6.505300045013428, -6.678899765014648, -6.690299987792969, -6.890500068664551, -6.891499996185303, -6.89169979095459, -6.892399787902832, -6.892499923706055, -6.418900012969971, -6.895100116729736, -6.895100116729736, -6.895400047302246, -6.899199962615967, -6.901100158691406, -6.734000205993652, -7.1585001945495605, -7.1585001945495605, -7.1585001945495605, -7.1585001945495605, -7.1585001945495605, -7.158599853515625, -5.767300128936768, -4.749899864196777, -6.362500190734863, -5.515100002288818, -6.007500171661377, -5.938700199127197, -5.35860013961792, -5.3796000480651855, -5.8942999839782715, -4.058199882507324, -5.019400119781494, -3.231600046157837, -6.047299861907959, -4.010200023651123, -4.391200065612793, -4.832600116729736, -5.4882001876831055, -3.9210000038146973, -5.540800094604492, -5.747600078582764, -4.361499786376953, -3.848400115966797, -4.958700180053711, -5.118500232696533, -4.958799839019775, -4.907899856567383, -4.963900089263916, -5.61959981918335, -4.944499969482422, -5.58519983291626, -5.131400108337402, -5.153200149536133, -5.053999900817871, -5.2733001708984375, -5.101099967956543, -5.058000087738037, -5.595699787139893, -5.590700149536133, -6.157899856567383, -6.3043999671936035, -5.484799861907959, -6.483500003814697, -6.493199825286865, -6.493100166320801, -6.690100193023682, -6.690100193023682, -6.690100193023682, -6.690199851989746, -6.690700054168701, -6.696400165557861, -6.958399772644043, -6.958399772644043, -6.958399772644043, -6.958399772644043, -6.958399772644043, -6.958499908447266, -6.960000038146973, -6.960700035095215, -6.961100101470947, -6.961299896240234, -6.963500022888184, -6.974800109863281, -6.979000091552734, -6.304500102996826, -7.0030999183654785, -6.333499908447266, -7.326200008392334, -7.326200008392334, -7.033899784088135, -6.479800224304199, -4.57390022277832, -3.7929999828338623, -4.343699932098389, -5.81279993057251, -5.2104997634887695, -3.2943999767303467, -5.233399868011475, -5.338699817657471, -6.146599769592285, -4.266900062561035, -5.615699768066406, -5.352200031280518, -6.026599884033203, -4.460400104522705, -4.48829984664917, -4.8933000564575195, -4.978099822998047, -5.183899879455566, -5.373899936676025, -5.201900005340576, -5.223599910736084, -5.2530999183654785, -5.220600128173828, -5.228600025177002, -4.8196001052856445, -4.853899955749512, -4.806600093841553, -5.638800144195557, -5.758900165557861, -4.583600044250488, -5.039299964904785, -4.484000205993652, -4.014900207519531, -5.276400089263916, -4.7204999923706055, -4.958099842071533, -5.251100063323975, -5.2835001945495605, -5.826700210571289, -6.274199962615967, -6.275300025939941, -6.485599994659424, -6.485799789428711, -6.486700057983398, -5.805500030517578, -6.525599956512451, -6.753200054168701, -6.753200054168701, -6.753300189971924, -6.753300189971924, -6.754499912261963, -6.754499912261963, -6.099299907684326, -6.275700092315674, -5.451499938964844, -6.117300033569336, -7.120999813079834, -7.120999813079834, -7.120999813079834, -7.120999813079834, -7.120999813079834, -7.120999813079834, -7.120999813079834, -7.120999813079834, -7.120999813079834, -7.120999813079834, -7.120999813079834, -7.120999813079834, -5.092199802398682, -5.687300205230713, -6.4847002029418945, -6.485000133514404, -6.48330020904541, -5.110099792480469, -5.053299903869629, -5.821599960327148, -6.330399990081787, -4.631700038909912, -5.853799819946289, -5.714900016784668, -5.366199970245361, -4.452099800109863, -4.059299945831299, -4.980199813842773, -5.6539998054504395, -4.574999809265137, -4.447500228881836, -5.627200126647949, -5.984499931335449, -5.438300132751465, -4.822500228881836, -3.495800018310547, -4.077700138092041, -5.283100128173828, -5.30810022354126, -4.739500045776367, -4.87060022354126, -5.206099987030029, -5.572999954223633, -4.768499851226807, -4.646699905395508, -4.972899913787842, -4.742300033569336, -4.8171000480651855, -5.313700199127197, -4.565899848937988, -5.076700210571289, -5.400599956512451, -5.4899001121521, -5.39109992980957, -5.261000156402588, -5.027100086212158, -5.805099964141846, -6.171299934387207, -6.17140007019043, -6.171500205993652, -6.171800136566162, -6.172299861907959, -6.172500133514404, -6.173500061035156, -6.187600135803223, -5.394599914550781, -5.319900035858154, -4.652599811553955, -6.759200096130371, -6.759200096130371, -6.759200096130371, -6.759200096130371, -6.759200096130371, -6.759200096130371, -6.759200096130371, -6.759200096130371, -6.759200096130371, -6.759200096130371, -6.759200096130371, -6.759200096130371, -6.759200096130371, -6.759200096130371, -6.759200096130371, -6.759200096130371, -6.759200096130371, -5.5345001220703125, -6.17140007019043, -6.170899868011475, -6.172299861907959, -5.327099800109863, -5.566800117492676, -5.849299907684326, -5.847400188446045, -4.592199802398682, -5.391900062561035, -5.224800109863281, -5.945700168609619, -6.16480016708374, -6.16480016708374, -6.167699813842773, -6.16379976272583, -4.919099807739258, -5.3043999671936035, -5.085599899291992, -4.304699897766113, -5.034800052642822, -4.726799964904785, -4.502799987792969, -5.383900165557861, -5.146200180053711, -5.088099956512451, -4.581699848175049, -4.5, -5.344799995422363, -5.500500202178955, -5.725100040435791, -4.999300003051758, -5.525400161743164, -5.537399768829346, -5.5278000831604, -5.6371002197265625, -5.340000152587891, -5.560400009155273, -5.513800144195557], \"loglift\": [30.0, 29.0, 28.0, 27.0, 26.0, 25.0, 24.0, 23.0, 22.0, 21.0, 20.0, 19.0, 18.0, 17.0, 16.0, 15.0, 14.0, 13.0, 12.0, 11.0, 10.0, 9.0, 8.0, 7.0, 6.0, 5.0, 4.0, 3.0, 2.0, 1.0, 0.9059, 0.902, 0.8852, 0.8679, 0.8673, 0.8673, 0.8629, 0.8546, 0.8545, 0.8542, 0.837, 0.8274, 0.8111, 0.8102, 0.81, 0.8093, 0.8092, 0.8082, 0.8077, 0.8067, 0.8064, 0.8029, 0.8011, 0.7959, 0.7712, 0.7712, 0.7712, 0.7712, 0.7712, 0.7712, 0.7641, 0.7452, 0.7475, 0.717, 0.7345, 0.7273, 0.6888, 0.678, 0.7047, 0.458, 0.5758, 0.3155, 0.6943, 0.4024, 0.459, 0.5209, 0.5843, 0.3064, 0.5912, 0.616, 0.1593, -0.0295, 0.2956, 0.3049, 0.217, 0.1299, 0.1496, 0.4854, 0.0811, 0.4318, 0.0236, 0.027, -0.1003, 0.0541, -0.2869, -0.4285, 0.122, -0.469, 1.1045, 1.0927, 1.0816, 1.0691, 1.0597, 1.0593, 1.0468, 1.0468, 1.0468, 1.0468, 1.0462, 1.0404, 1.0047, 1.0047, 1.0047, 1.0046, 1.0046, 1.0046, 1.0031, 1.0024, 1.002, 1.0017, 0.9997, 0.9879, 0.9835, 0.9594, 0.9585, 0.9307, 0.9296, 0.9296, 0.9275, 0.919, 0.8706, 0.8349, 0.778, 0.8815, 0.818, 0.5245, 0.758, 0.7655, 0.8827, 0.5474, 0.7805, 0.6925, 0.8173, 0.4935, 0.4654, 0.521, 0.5212, 0.5779, 0.6199, 0.5533, 0.5467, 0.5167, 0.4946, 0.485, 0.3037, 0.2596, 0.2313, 0.6408, 0.6881, 0.0459, 0.2881, -0.0714, -0.4678, 0.422, -0.1996, -0.7307, 0.0032, -0.2578, 1.3272, 1.2881, 1.287, 1.2606, 1.2604, 1.2597, 1.2419, 1.2196, 1.2186, 1.2186, 1.2186, 1.2186, 1.2173, 1.2173, 1.2062, 1.168, 1.1533, 1.1476, 1.1425, 1.1425, 1.1425, 1.1425, 1.1425, 1.1425, 1.1425, 1.1425, 1.1425, 1.1425, 1.1425, 1.1425, 1.0784, 1.0911, 1.1219, 1.1216, 1.1215, 1.0308, 1.0208, 1.0368, 1.0746, 0.9254, 1.0002, 0.9793, 0.9115, 0.6713, 0.5702, 0.7773, 0.9155, 0.6053, 0.5065, 0.8709, 0.9759, 0.7996, 0.5737, 0.0513, 0.1497, 0.6799, 0.6253, 0.2862, 0.3052, 0.5091, 0.7683, 0.0817, -0.1258, 0.1821, -0.2261, -0.1893, 0.4567, -0.747, -0.2625, 0.4151, 0.5062, 0.1082, -0.8484, 2.4946, 2.3839, 2.2839, 2.2839, 2.2837, 2.2833, 2.2827, 2.2825, 2.2812, 2.264, 2.1985, 2.1137, 2.0874, 2.0593, 2.0593, 2.0593, 2.0593, 2.0593, 2.0593, 2.0593, 2.0593, 2.0593, 2.0593, 2.0593, 2.0593, 2.0593, 2.0593, 2.0593, 2.0593, 2.0593, 1.8543, 1.9402, 1.9374, 1.9228, 1.5443, 1.5768, 1.6579, 1.6508, 0.804, 1.2424, 1.1332, 1.5481, 1.687, 1.687, 1.6838, 1.6809, 0.8831, 1.0983, 0.9365, 0.2161, 0.7539, 0.4282, 0.0134, 1.0236, 0.673, 0.5639, -0.3544, -0.9529, 0.4127, 0.7454, 1.1922, -0.5867, 0.7, 0.5074, 0.466, 0.8572, -0.7122, 0.4358, -0.5602]}, \"token.table\": {\"Topic\": [3, 1, 4, 4, 4, 4, 3, 1, 2, 1, 2, 3, 4, 1, 2, 3, 4, 1, 3, 2, 1, 2, 3, 4, 1, 2, 4, 2, 1, 3, 4, 4, 1, 4, 1, 2, 3, 1, 2, 1, 2, 3, 4, 1, 4, 2, 2, 3, 4, 2, 4, 2, 2, 1, 2, 3, 4, 1, 2, 3, 1, 2, 3, 4, 2, 1, 2, 2, 3, 2, 4, 1, 2, 3, 4, 1, 4, 1, 2, 3, 2, 3, 3, 1, 1, 2, 3, 4, 1, 2, 1, 2, 3, 4, 4, 1, 2, 4, 1, 4, 1, 2, 4, 2, 1, 2, 3, 4, 1, 4, 3, 1, 3, 4, 1, 2, 4, 1, 2, 3, 1, 2, 2, 3, 4, 4, 1, 2, 3, 4, 3, 1, 3, 1, 2, 3, 4, 1, 2, 3, 4, 3, 4, 2, 2, 4, 3, 4, 2, 1, 2, 3, 4, 2, 4, 2, 1, 2, 3, 4, 1, 2, 3, 4, 4, 1, 3, 1, 2, 3, 4, 1, 2, 1, 2, 3, 4, 1, 2, 3, 4, 1, 2, 3, 4, 1, 2, 3, 4, 1, 1, 2, 3, 3, 1, 1, 2, 3, 4, 2, 3, 1, 3, 1, 2, 3, 4, 1, 2, 3, 4, 4, 1, 2, 4, 3, 1, 2, 1, 2, 3, 1, 3, 1, 2, 3, 1, 2, 3, 4, 1, 3, 4, 1, 2, 3, 4, 1, 1, 2, 3, 4, 2, 2, 3, 4, 4, 3, 1, 2, 1, 2, 3, 4, 1, 2, 3, 4, 1, 2, 3, 1, 2, 3, 4, 1, 1, 2, 3, 4, 1, 2, 3, 4, 1, 2, 1, 3, 1, 2, 3, 1, 2, 3, 1, 2, 3, 1, 2, 3, 1, 2, 3, 4, 2, 4, 4, 1, 2, 3, 4, 1, 2, 3, 1, 2, 3, 1, 2, 3, 1, 2, 2, 3, 1, 2, 3, 4, 3, 1, 1, 2, 3, 3, 4, 3, 1, 2, 3, 3, 1, 2, 3, 1, 1, 2, 4, 3, 1, 2, 3, 2, 2, 3, 4, 1, 2, 3, 4, 1, 3, 2, 3, 4, 3, 1, 2, 3, 4, 1, 2, 3, 2, 1, 1, 4, 1, 2, 3, 4, 2, 4, 1, 2, 3, 4, 1, 2, 3, 4, 2, 4, 1, 2, 3, 4, 2, 4, 1, 2, 1, 1, 2, 3, 1, 4, 1, 2, 4, 1, 2, 3, 3, 1, 2, 3, 1, 2, 3, 1, 4, 2, 3, 1, 2, 3, 4, 1, 2, 3, 1, 2, 3, 2, 3, 4, 1, 2, 3, 4, 4, 3, 4, 1, 2, 3, 4, 1, 1, 2, 3, 4, 2, 3, 3, 3, 1, 2, 1, 2, 3, 1, 1, 2, 3, 4, 1, 2, 3, 1, 2, 3, 4, 2, 3, 1, 2, 3, 4, 3, 1, 2, 3, 1, 2, 3, 4, 1, 2, 3, 4, 4, 2, 4, 1, 2, 3, 1, 2, 3, 4, 3, 1, 2, 2, 1, 2, 3], \"Freq\": [0.9085921094164878, 0.9246501577395586, 0.49113570985256977, 0.7062520799815298, 0.7062520884942807, 0.4911208291643586, 0.9086007815099197, 0.7676072437511705, 0.12793454062519508, 0.6404754297995136, 0.24293895613084998, 0.06625607894477727, 0.044170719296518175, 0.6338067130548212, 0.052817226087901764, 0.1584516782637053, 0.1584516782637053, 0.8629216320085055, 0.1438202720014176, 0.9006711867468493, 0.39842745637163085, 0.19921372818581543, 0.28976542281573153, 0.10866203355589932, 0.6087598861543931, 0.32779378485236554, 0.04682768355033794, 0.9007022645688655, 0.07718740449512967, 0.7718740449512967, 0.07718740449512967, 0.7062522909514178, 0.9246913657660562, 0.7526547881473297, 0.13184493422375315, 0.5933022040068892, 0.2636898684475063, 0.23603628808422086, 0.7081088642526626, 0.19999774541158383, 0.04999943635289596, 0.6999921089405434, 0.04999943635289596, 0.3426169437934169, 0.3426169437934169, 0.9006665412353388, 0.37437044225016847, 0.5348149175002407, 0.10696298350004814, 0.9001721226848138, 0.706252209665444, 0.9578500536181559, 0.8939741614491047, 0.2764509957914517, 0.20733824684358879, 0.3455637447393146, 0.13822549789572586, 0.37607417730404524, 0.5093662907788967, 0.11425038297844411, 0.4349284285273476, 0.3866030475798645, 0.1449761428424492, 0.03221692063165538, 0.9006720345510927, 0.3275233136034781, 0.6550466272069562, 0.6892013193675562, 0.31327332698525284, 0.9006611909168152, 0.7062520884942807, 0.03350889607977743, 0.5361423372764389, 0.3685978568775517, 0.03350889607977743, 0.9849557280806938, 0.7062520677041624, 0.24627644198816614, 0.32123014172369496, 0.42830685563159326, 0.891432457165919, 0.07428603809715992, 0.7243715237069968, 0.8603103404986931, 0.751496278704017, 0.08841132690635493, 0.13261699035953242, 0.7062520666043444, 0.9247068118164223, 0.8994002970994848, 0.3015240711851877, 0.12060962847407507, 0.36182888542222524, 0.24121925694815013, 0.7062520392368433, 0.26507748243234897, 0.176718321621566, 0.5301549648646979, 0.8711852083368715, 0.7062520810813478, 0.6799028030200354, 0.2266342676733451, 0.09065370706933805, 0.900325677567343, 0.33597234545929666, 0.12598962954723625, 0.4199654318241208, 0.12598962954723625, 0.985093766428809, 0.491015732099691, 0.8043860430604022, 0.7968642641981002, 0.17708094759957782, 0.49101666265473964, 0.37720586884327423, 0.18860293442163711, 0.37720586884327423, 0.054144726942771816, 0.32486836165663086, 0.6226643598418758, 0.8206141404933236, 0.1641228280986647, 0.22700903938717867, 0.681027118161536, 0.09080361575487148, 0.4893648610391697, 0.06336653165430091, 0.4435657215801064, 0.31683265827150453, 0.1900995949629027, 0.8109063662109595, 0.9779307065784645, 0.9085805839585325, 0.3944144398323119, 0.11832433194969356, 0.47329732779877426, 0.03944144398323119, 0.258617043153389, 0.21551420262782417, 0.30171988367895386, 0.17241136210225932, 0.7777494252727768, 0.15554988505455536, 0.900758282766362, 0.9006611151055208, 0.4910774630222711, 0.8407732071583528, 0.2101933017895882, 0.8045900679613293, 0.0745122478207962, 0.2980489912831848, 0.5960979825663696, 0.4908641485923613, 0.9007014290569241, 0.706252048528819, 0.8523265736064022, 0.5296267396001699, 0.1886341812274578, 0.2575582089836443, 0.025393062857542392, 0.7278017310735316, 0.24260057702451052, 0.06065014425612763, 0.7062522230426349, 0.7062522230426349, 0.3376240433750625, 0.675248086750125, 0.6141829630571636, 0.12016623190248853, 0.26703607089441894, 0.013351803544720948, 0.4651720505600253, 0.5316252006400289, 0.5200199029476472, 0.3000114824697965, 0.14000535848590503, 0.04000153099597287, 0.39749862922869095, 0.1589994516914764, 0.23849917753721459, 0.23849917753721459, 0.23158227071166299, 0.13233272612095026, 0.529330904483801, 0.09924954459071271, 0.19032435901940006, 0.19032435901940006, 0.19032435901940006, 0.3806487180388001, 0.9849503688530589, 0.8603101430349439, 0.12015797516933267, 0.8411058261853287, 0.810899859099032, 0.9245849009314429, 0.23049800706918933, 0.18439840565535146, 0.43794621343145973, 0.16134860494843253, 0.17181451876237153, 0.6872580750494861, 0.9598686177077758, 0.9668124667167849, 0.2421605550807013, 0.38053801512681634, 0.1729718250576438, 0.1729718250576438, 0.45143935970645893, 0.2497324117525092, 0.21131204071366164, 0.08644583483740703, 0.7062520632552962, 0.18779627305738625, 0.3755925461147725, 0.3755925461147725, 0.9670553302635878, 0.9248510686551449, 0.7965167362462661, 0.33439081579652236, 0.6269827796184794, 0.8109081194177619, 0.9136014731318223, 0.05710009207073889, 0.09947573618749073, 0.19895147237498145, 0.6963301533124351, 0.3153346240184648, 0.2522676992147718, 0.18920077441107885, 0.18920077441107885, 0.2667281371838218, 0.2667281371838218, 0.2667281371838218, 0.4220564600340526, 0.2110282300170263, 0.2110282300170263, 0.2110282300170263, 0.8711851936749528, 0.24628905611190746, 0.4222098104775556, 0.1759207543656482, 0.14073660349251854, 0.9578571448364437, 0.8991655772659937, 0.8408156828784821, 0.21020392071962052, 0.7062520831239525, 0.9357351781987036, 0.9616181068500302, 0.9006289527736782, 0.42075725288333066, 0.14025241762777688, 0.3506310440694422, 0.07012620881388844, 0.3553861254397475, 0.4738481672529967, 0.13326979703990532, 0.04442326567996844, 0.7965780452759924, 0.177017343394665, 0.8109020725640035, 0.0641387769282299, 0.6948367500558239, 0.20310612693939467, 0.03206938846411495, 0.924841363907684, 0.44503991141111154, 0.25430852080634947, 0.28609708590714317, 0.031788565100793684, 0.577541806146189, 0.2844608895943916, 0.10344032348886967, 0.04310013478702903, 0.871186584613726, 0.957851393117562, 0.8711852415662248, 0.8109011547621732, 0.8142513468125638, 0.10178141835157048, 0.07633606376367785, 0.5210967996179041, 0.33160705430230264, 0.14211730898670114, 0.17792707425697046, 0.2965451237616174, 0.5337812227709113, 0.34688517796957824, 0.06937703559391564, 0.5550162847513251, 0.759243148941231, 0.0893227234048507, 0.0893227234048507, 0.04466136170242535, 0.5372534814031981, 0.26862674070159903, 0.7724063175470652, 0.40957143250012296, 0.3071785743750922, 0.13652381083337434, 0.13652381083337434, 0.19806720563159566, 0.09903360281579783, 0.6932352197105848, 0.4807694387843332, 0.18491132260935894, 0.33284038069684607, 0.6735094468313542, 0.04810781763081101, 0.24053908815405506, 0.2941193689860354, 0.6862785276340826, 0.957864567695544, 0.8109093933632098, 0.45172493782510226, 0.39960282961451354, 0.15636632463176617, 0.7062520766324815, 0.8109031514661159, 0.8602722103143999, 0.675018992247998, 0.19688053940566608, 0.11250316537466633, 0.3483010114056524, 0.3483010114056524, 0.8109016435237375, 0.10368244287320257, 0.48878865925938353, 0.3999179939394956, 0.9668186612716512, 0.2833706053377716, 0.5280997644931198, 0.19320723091211697, 0.9246562633526175, 0.3352029707721887, 0.5447048275048066, 0.12570111403957077, 0.8108998302215504, 0.9250513652756588, 0.7462652926764334, 0.14925305853528667, 0.9006595894048712, 0.2782604555444678, 0.6121730021978292, 0.05565209110889357, 0.04409103598083496, 0.6172745037316895, 0.26454621588500976, 0.13227310794250488, 0.14935154720221613, 0.7467577360110806, 0.24270801321842939, 0.6795824370116023, 0.04854160264368588, 0.8108998242552464, 0.3572268985697903, 0.3572268985697903, 0.17861344928489514, 0.11907563285659677, 0.30140904052108064, 0.5023484008684678, 0.16744946695615592, 0.7965976672763166, 0.9153777584809828, 0.35362234818080907, 0.5304335222712135, 0.17887125904276083, 0.5110607401221738, 0.2810834070671956, 0.05110607401221738, 0.5370490505286232, 0.2685245252643116, 0.06342415808583522, 0.5073932646866818, 0.412257027557929, 0.03171207904291761, 0.3023149249875932, 0.10077164166253108, 0.20154328332506216, 0.3023149249875932, 0.3471622947263472, 0.3471622947263472, 0.11015082158511721, 0.11015082158511721, 0.6609049295107032, 0.11015082158511721, 0.20739279213291698, 0.622178376398751, 0.8711883061870163, 0.8045895340557887, 0.9659497141862478, 0.168825700519936, 0.7597156523397119, 0.084412850259968, 0.9257554829155648, 0.7062521962882536, 0.7976029712629507, 0.15952059425259013, 0.05317353141753005, 0.7674784731751113, 0.07674784731751112, 0.15349569463502225, 0.8109036687005828, 0.6003249577308313, 0.30016247886541564, 0.0857607082472616, 0.09182312398780901, 0.18364624797561802, 0.7345849919024721, 0.507163154194041, 0.507163154194041, 0.6830532028191472, 0.1707633007047868, 0.21565224832983435, 0.3773914345772101, 0.2695653104122929, 0.16173918624737574, 0.28440296337762205, 0.24377396860939032, 0.48754793721878065, 0.3345488739042754, 0.5575814565071257, 0.05575814565071257, 0.9577368318759765, 0.7144038436938576, 0.1786009609234644, 0.6119250041889553, 0.12429726647588155, 0.19122656380904854, 0.06692929733316699, 0.4911361179606896, 0.8392929885971875, 0.20982324714929687, 0.4137327781493718, 0.23869198739386835, 0.31825598319182447, 0.03182559831918245, 0.7787312938698647, 0.5228522550292013, 0.14324719315868528, 0.2793320266594363, 0.050136517605539846, 0.9007104438224978, 0.9086005854567122, 0.9085954840494956, 0.8043891603093154, 0.8711864656180166, 0.7968052590069327, 0.2816376376692401, 0.5163356690602735, 0.21122822825193008, 0.9251475127146768, 0.40883208104989505, 0.40883208104989505, 0.15062234564996133, 0.04303495589998895, 0.8607090062743027, 0.07172575052285855, 0.07172575052285855, 0.19803750641294443, 0.5281000171011851, 0.2640500085505926, 0.03300625106882407, 0.7461068450191869, 0.14922136900383737, 0.1322931867448602, 0.39687956023458065, 0.1322931867448602, 0.39687956023458065, 0.8109035213357938, 0.048381941651233516, 0.7257291247685028, 0.21771873743055084, 0.3742108003043203, 0.4677635003804004, 0.12473693343477343, 0.03118423335869336, 0.08772820556727917, 0.40354974560948415, 0.4737323100633075, 0.017545641113455832, 0.7062520884942807, 0.5372534643056637, 0.26862673215283184, 0.31658874008823595, 0.4748831101323539, 0.18995324405294156, 0.3900413813486085, 0.111440394671031, 0.445761578684124, 0.037146798223677, 0.9085754781186187, 0.3036630850137592, 0.6940870514600211, 0.9578661262849187, 0.24524436115920697, 0.6656632660035618, 0.10510472621108871], \"Term\": [\"amazon\", \"angry\", \"apology\", \"apparent\", \"appear\", \"ashamed\", \"assistance\", \"auto\", \"auto\", \"bad\", \"bad\", \"bad\", \"bad\", \"big\", \"big\", \"big\", \"big\", \"birthday\", \"birthday\", \"blink\", \"box\", \"box\", \"box\", \"box\", \"brand\", \"brand\", \"brand\", \"broke\", \"broken\", \"broken\", \"broken\", \"bubble\", \"buggy\", \"business\", \"buy\", \"buy\", \"buy\", \"buying\", \"buying\", \"call\", \"call\", \"call\", \"call\", \"chinese\", \"chinese\", \"cod\", \"code\", \"code\", \"code\", \"competitor\", \"complicated\", \"component\", \"connected\", \"connection\", \"connection\", \"connection\", \"connection\", \"console\", \"console\", \"console\", \"controller\", \"controller\", \"controller\", \"controller\", \"copy\", \"cord\", \"cord\", \"couple\", \"couple\", \"cpu\", \"crock\", \"customer\", \"customer\", \"customer\", \"customer\", \"datum\", \"daughter\", \"day\", \"day\", \"day\", \"death\", \"death\", \"description\", \"design\", \"difference\", \"difference\", \"difference\", \"dime\", \"direct\", \"direction\", \"disappointed\", \"disappointed\", \"disappointed\", \"disappointed\", \"disgusting\", \"disk\", \"disk\", \"disk\", \"distributor\", \"dive\", \"dollar\", \"dollar\", \"dollar\", \"double\", \"drive\", \"drive\", \"drive\", \"drive\", \"drop\", \"electrical\", \"email\", \"end\", \"end\", \"episode\", \"equipment\", \"equipment\", \"equipment\", \"error\", \"error\", \"error\", \"exclusive\", \"exclusive\", \"factory\", \"factory\", \"factory\", \"fake\", \"faulty\", \"faulty\", \"faulty\", \"faulty\", \"feedback\", \"file\", \"filthy\", \"first\", \"first\", \"first\", \"first\", \"fix\", \"fix\", \"fix\", \"fix\", \"form\", \"form\", \"forum\", \"fps\", \"freaking\", \"freeze\", \"freeze\", \"fresh\", \"friend\", \"friend\", \"friend\", \"functionality\", \"funny\", \"furious\", \"future\", \"game\", \"game\", \"game\", \"game\", \"gaming\", \"gaming\", \"gaming\", \"glitch\", \"glitchy\", \"gold\", \"gold\", \"good\", \"good\", \"good\", \"good\", \"graphic\", \"graphic\", \"great\", \"great\", \"great\", \"great\", \"happy\", \"happy\", \"happy\", \"happy\", \"hard\", \"hard\", \"hard\", \"hard\", \"hassle\", \"hassle\", \"hassle\", \"hassle\", \"hate\", \"hdr\", \"hold\", \"hold\", \"hoop\", \"horizon\", \"hour\", \"hour\", \"hour\", \"hour\", \"house\", \"house\", \"industry\", \"instruction\", \"internet\", \"internet\", \"internet\", \"internet\", \"issue\", \"issue\", \"issue\", \"issue\", \"jerk\", \"joke\", \"joke\", \"joke\", \"lasted\", \"late\", \"lemon\", \"less\", \"less\", \"listing\", \"little\", \"little\", \"live\", \"live\", \"live\", \"load\", \"load\", \"load\", \"load\", \"local\", \"local\", \"local\", \"love\", \"love\", \"love\", \"love\", \"lovely\", \"machine\", \"machine\", \"machine\", \"machine\", \"manufacturer\", \"member\", \"membership\", \"membership\", \"merchandise\", \"message\", \"microsoft\", \"min\", \"minute\", \"minute\", \"minute\", \"minute\", \"money\", \"money\", \"money\", \"money\", \"monitor\", \"monitor\", \"monster\", \"month\", \"month\", \"month\", \"month\", \"monthly\", \"much\", \"much\", \"much\", \"much\", \"new\", \"new\", \"new\", \"new\", \"night\", \"numerous\", \"odd\", \"official\", \"old\", \"old\", \"old\", \"one\", \"one\", \"one\", \"online\", \"online\", \"online\", \"option\", \"option\", \"option\", \"original\", \"original\", \"original\", \"original\", \"paper\", \"paper\", \"pass\", \"people\", \"people\", \"people\", \"people\", \"phone\", \"phone\", \"phone\", \"play\", \"play\", \"play\", \"player\", \"player\", \"player\", \"playstation\", \"playstation\", \"policy\", \"poop\", \"power\", \"power\", \"power\", \"practice\", \"preorder\", \"press\", \"price\", \"price\", \"price\", \"prime\", \"prime\", \"print\", \"problem\", \"problem\", \"problem\", \"processing\", \"product\", \"product\", \"product\", \"pubg\", \"purchase\", \"purchase\", \"purchase\", \"queue\", \"race\", \"red\", \"red\", \"regret\", \"repair\", \"repair\", \"repair\", \"replacement\", \"replacement\", \"replacement\", \"replacement\", \"request\", \"request\", \"reset\", \"reset\", \"reset\", \"resubmit\", \"return\", \"return\", \"return\", \"return\", \"review\", \"review\", \"review\", \"ring\", \"router\", \"scam\", \"scam\", \"screen\", \"screen\", \"screen\", \"screen\", \"seal\", \"seal\", \"service\", \"service\", \"service\", \"service\", \"set\", \"set\", \"set\", \"set\", \"ship\", \"ship\", \"shipping\", \"shipping\", \"shipping\", \"shipping\", \"signal\", \"signal\", \"significant\", \"silent\", \"slim\", \"small\", \"small\", \"small\", \"smooth\", \"smoothness\", \"software\", \"software\", \"software\", \"son\", \"son\", \"son\", \"split\", \"star\", \"star\", \"star\", \"start\", \"start\", \"start\", \"state\", \"state\", \"stock\", \"stock\", \"store\", \"store\", \"store\", \"store\", \"support\", \"support\", \"support\", \"sure\", \"sure\", \"sure\", \"surprised\", \"switch\", \"switch\", \"system\", \"system\", \"system\", \"system\", \"take\", \"term\", \"term\", \"thing\", \"thing\", \"thing\", \"thing\", \"third\", \"time\", \"time\", \"time\", \"time\", \"tired\", \"trial\", \"troubleshooting\", \"type\", \"ugly\", \"unable\", \"unit\", \"unit\", \"unit\", \"unplug\", \"update\", \"update\", \"update\", \"update\", \"upgrade\", \"upgrade\", \"upgrade\", \"use\", \"use\", \"use\", \"use\", \"used\", \"used\", \"user\", \"user\", \"user\", \"user\", \"warehouse\", \"warranty\", \"warranty\", \"warranty\", \"way\", \"way\", \"way\", \"way\", \"week\", \"week\", \"week\", \"week\", \"weekend\", \"weight\", \"weight\", \"well\", \"well\", \"well\", \"work\", \"work\", \"work\", \"work\", \"working\", \"worth\", \"worth\", \"worthless\", \"year\", \"year\", \"year\"]}, \"R\": 30, \"lambda.step\": 0.01, \"plot.opts\": {\"xlab\": \"PC1\", \"ylab\": \"PC2\"}, \"topic.order\": [2, 4, 1, 3]};\n",
       "\n",
       "function LDAvis_load_lib(url, callback){\n",
       "  var s = document.createElement('script');\n",
       "  s.src = url;\n",
       "  s.async = true;\n",
       "  s.onreadystatechange = s.onload = callback;\n",
       "  s.onerror = function(){console.warn(\"failed to load library \" + url);};\n",
       "  document.getElementsByTagName(\"head\")[0].appendChild(s);\n",
       "}\n",
       "\n",
       "if(typeof(LDAvis) !== \"undefined\"){\n",
       "   // already loaded: just create the visualization\n",
       "   !function(LDAvis){\n",
       "       new LDAvis(\"#\" + \"ldavis_el1508018869466460484756779459\", ldavis_el1508018869466460484756779459_data);\n",
       "   }(LDAvis);\n",
       "}else if(typeof define === \"function\" && define.amd){\n",
       "   // require.js is available: use it to load d3/LDAvis\n",
       "   require.config({paths: {d3: \"https://cdnjs.cloudflare.com/ajax/libs/d3/3.5.5/d3.min\"}});\n",
       "   require([\"d3\"], function(d3){\n",
       "      window.d3 = d3;\n",
       "      LDAvis_load_lib(\"https://cdn.rawgit.com/bmabey/pyLDAvis/files/ldavis.v1.0.0.js\", function(){\n",
       "        new LDAvis(\"#\" + \"ldavis_el1508018869466460484756779459\", ldavis_el1508018869466460484756779459_data);\n",
       "      });\n",
       "    });\n",
       "}else{\n",
       "    // require.js not available: dynamically load d3 & LDAvis\n",
       "    LDAvis_load_lib(\"https://cdnjs.cloudflare.com/ajax/libs/d3/3.5.5/d3.min.js\", function(){\n",
       "         LDAvis_load_lib(\"https://cdn.rawgit.com/bmabey/pyLDAvis/files/ldavis.v1.0.0.js\", function(){\n",
       "                 new LDAvis(\"#\" + \"ldavis_el1508018869466460484756779459\", ldavis_el1508018869466460484756779459_data);\n",
       "            })\n",
       "         });\n",
       "}\n",
       "</script>"
      ],
      "text/plain": [
       "PreparedData(topic_coordinates=              x         y  topics  cluster       Freq\n",
       "topic                                                \n",
       "1     -0.013922  0.087765       1        1  38.520202\n",
       "3     -0.078806  0.003421       2        1  30.189829\n",
       "0     -0.026488 -0.084846       3        1  24.308058\n",
       "2      0.119216 -0.006341       4        1   6.981911, topic_info=           Term        Freq       Total Category  logprob  loglift\n",
       "24        month   93.000000   93.000000  Default  30.0000  30.0000\n",
       "49      console  210.000000  210.000000  Default  29.0000  29.0000\n",
       "99         hour   43.000000   43.000000  Default  28.0000  28.0000\n",
       "21        issue  104.000000  104.000000  Default  27.0000  27.0000\n",
       "221      system  104.000000  104.000000  Default  26.0000  26.0000\n",
       "..          ...         ...         ...      ...      ...      ...\n",
       "76     purchase    2.655573   23.866137   Topic4  -5.5278   0.4660\n",
       "706  connection    2.380537   14.469110   Topic4  -5.6371   0.8572\n",
       "24        month    3.204187   93.547153   Topic4  -5.3400  -0.7122\n",
       "85        drive    2.570439   23.811484   Topic4  -5.5604   0.4358\n",
       "97        money    2.692835   67.532181   Topic4  -5.5138  -0.5602\n",
       "\n",
       "[310 rows x 6 columns], token_table=      Topic      Freq       Term\n",
       "term                            \n",
       "108       3  0.908592     amazon\n",
       "526       1  0.924650      angry\n",
       "1666      4  0.491136    apology\n",
       "1667      4  0.706252   apparent\n",
       "561       4  0.706252     appear\n",
       "...     ...       ...        ...\n",
       "69        2  0.694087      worth\n",
       "189       2  0.957866  worthless\n",
       "57        1  0.245244       year\n",
       "57        2  0.665663       year\n",
       "57        3  0.105105       year\n",
       "\n",
       "[498 rows x 3 columns], R=30, lambda_step=0.01, plot_opts={'xlab': 'PC1', 'ylab': 'PC2'}, topic_order=[2, 4, 1, 3])"
      ]
     },
     "execution_count": 175,
     "metadata": {},
     "output_type": "execute_result"
    }
   ],
   "source": [
    "pyLDAvis.enable_notebook()\n",
    "vis = pyLDAvis.gensim.prepare(lda_model, doc_term_matrix, dictionary)\n",
    "vis"
   ]
  },
  {
   "cell_type": "markdown",
   "metadata": {},
   "source": [
    "As can be seen above, there are 4 topics which are clearly separated.<br>Based on the words within each topic, I can take a reasonable guess as to what the topics are about:<br>                                    \n",
    "\n",
    "Topic 1: Possible issues with the price of the product: issue, price, bad, product<br>\n",
    "Topic 2: Possible issues with the warranty and customer service: problem, warranty, customer, service<br>\n",
    "Topic 3: Topic is on product defects: error, issue, factory, product, reset<br>\n",
    "Topic 4: Possible issues with scammers for the product as well as calls for replacements: disc, box, internet, scam, replacement<br>\n",
    "\n",
    "Based on the topics, it looks like there were more issues with Xbox One X than the Playstation 4 by comparison.<br>\n",
    "The price of the system seemed to be an issue.<br>It also seems there were possible issues with customer support as customers were calling to replace their Xbox One X.<br>Also, the issues pertain as well to the product defects as there are reviews were people needed to reset their machines.\n"
   ]
  },
  {
   "cell_type": "markdown",
   "metadata": {},
   "source": [
    "#                                        Data Splitting: Xbox One X Reviews"
   ]
  },
  {
   "cell_type": "markdown",
   "metadata": {},
   "source": [
    "Here, the Xbox One X reviews are split into the positive set with ratings >= 4:"
   ]
  },
  {
   "cell_type": "code",
   "execution_count": 176,
   "metadata": {},
   "outputs": [
    {
     "data": {
      "text/html": [
       "<div>\n",
       "<style scoped>\n",
       "    .dataframe tbody tr th:only-of-type {\n",
       "        vertical-align: middle;\n",
       "    }\n",
       "\n",
       "    .dataframe tbody tr th {\n",
       "        vertical-align: top;\n",
       "    }\n",
       "\n",
       "    .dataframe thead th {\n",
       "        text-align: right;\n",
       "    }\n",
       "</style>\n",
       "<table border=\"1\" class=\"dataframe\">\n",
       "  <thead>\n",
       "    <tr style=\"text-align: right;\">\n",
       "      <th></th>\n",
       "      <th>stars</th>\n",
       "      <th>comment</th>\n",
       "    </tr>\n",
       "  </thead>\n",
       "  <tbody>\n",
       "    <tr>\n",
       "      <th>5</th>\n",
       "      <td>5</td>\n",
       "      <td>Your browser does not support HTML5 video....</td>\n",
       "    </tr>\n",
       "    <tr>\n",
       "      <th>6</th>\n",
       "      <td>5</td>\n",
       "      <td>Do you actually need this review? No...</td>\n",
       "    </tr>\n",
       "    <tr>\n",
       "      <th>7</th>\n",
       "      <td>4</td>\n",
       "      <td>So, yeah, new generation of hardware...</td>\n",
       "    </tr>\n",
       "    <tr>\n",
       "      <th>8</th>\n",
       "      <td>5</td>\n",
       "      <td>As soon as I opened the package I wa...</td>\n",
       "    </tr>\n",
       "    <tr>\n",
       "      <th>9</th>\n",
       "      <td>5</td>\n",
       "      <td>Really great product, a few bugs whe...</td>\n",
       "    </tr>\n",
       "  </tbody>\n",
       "</table>\n",
       "</div>"
      ],
      "text/plain": [
       "   stars                                            comment\n",
       "5      5      Your browser does not support HTML5 video....\n",
       "6      5            Do you actually need this review? No...\n",
       "7      4            So, yeah, new generation of hardware...\n",
       "8      5            As soon as I opened the package I wa...\n",
       "9      5            Really great product, a few bugs whe..."
      ]
     },
     "execution_count": 176,
     "metadata": {},
     "output_type": "execute_result"
    }
   ],
   "source": [
    "positive =  xboxseriesxreviews['stars'] >= 4\n",
    "xboxseriesxreviews_positive = xboxseriesxreviews[positive]\n",
    "xboxseriesxreviews_positive.head(5)"
   ]
  },
  {
   "cell_type": "code",
   "execution_count": 177,
   "metadata": {},
   "outputs": [
    {
     "data": {
      "text/plain": [
       "(448, 2)"
      ]
     },
     "execution_count": 177,
     "metadata": {},
     "output_type": "execute_result"
    }
   ],
   "source": [
    "xboxseriesxreviews_positive.shape"
   ]
  },
  {
   "cell_type": "markdown",
   "metadata": {},
   "source": [
    "There are 448 reviews with 3 columns in the dataset."
   ]
  },
  {
   "cell_type": "markdown",
   "metadata": {},
   "source": [
    "Below the Xbox One X reviews are split into negative set with ratings <= 3:"
   ]
  },
  {
   "cell_type": "code",
   "execution_count": 178,
   "metadata": {},
   "outputs": [
    {
     "data": {
      "text/html": [
       "<div>\n",
       "<style scoped>\n",
       "    .dataframe tbody tr th:only-of-type {\n",
       "        vertical-align: middle;\n",
       "    }\n",
       "\n",
       "    .dataframe tbody tr th {\n",
       "        vertical-align: top;\n",
       "    }\n",
       "\n",
       "    .dataframe thead th {\n",
       "        text-align: right;\n",
       "    }\n",
       "</style>\n",
       "<table border=\"1\" class=\"dataframe\">\n",
       "  <thead>\n",
       "    <tr style=\"text-align: right;\">\n",
       "      <th></th>\n",
       "      <th>stars</th>\n",
       "      <th>comment</th>\n",
       "    </tr>\n",
       "  </thead>\n",
       "  <tbody>\n",
       "    <tr>\n",
       "      <th>0</th>\n",
       "      <td>1</td>\n",
       "      <td>This isn't because there aren't many...</td>\n",
       "    </tr>\n",
       "    <tr>\n",
       "      <th>1</th>\n",
       "      <td>1</td>\n",
       "      <td>Console powered down the first day. ...</td>\n",
       "    </tr>\n",
       "    <tr>\n",
       "      <th>2</th>\n",
       "      <td>1</td>\n",
       "      <td>Well got it on launch day. Suffered ...</td>\n",
       "    </tr>\n",
       "    <tr>\n",
       "      <th>3</th>\n",
       "      <td>1</td>\n",
       "      <td>Defective at launch, love it lots.:(</td>\n",
       "    </tr>\n",
       "    <tr>\n",
       "      <th>4</th>\n",
       "      <td>3</td>\n",
       "      <td>Honestly the same as the Xbox one ju...</td>\n",
       "    </tr>\n",
       "  </tbody>\n",
       "</table>\n",
       "</div>"
      ],
      "text/plain": [
       "   stars                                            comment\n",
       "0      1            This isn't because there aren't many...\n",
       "1      1            Console powered down the first day. ...\n",
       "2      1            Well got it on launch day. Suffered ...\n",
       "3      1             Defective at launch, love it lots.:(  \n",
       "4      3            Honestly the same as the Xbox one ju..."
      ]
     },
     "execution_count": 178,
     "metadata": {},
     "output_type": "execute_result"
    }
   ],
   "source": [
    "negative =  xboxseriesxreviews['stars'] <= 3\n",
    "xboxseriesxreviews_negative = xboxseriesxreviews[negative]\n",
    "xboxseriesxreviews_negative.head(5)"
   ]
  },
  {
   "cell_type": "code",
   "execution_count": 179,
   "metadata": {},
   "outputs": [
    {
     "data": {
      "text/plain": [
       "(115, 2)"
      ]
     },
     "execution_count": 179,
     "metadata": {},
     "output_type": "execute_result"
    }
   ],
   "source": [
    "xboxseriesxreviews_negative.shape"
   ]
  },
  {
   "cell_type": "markdown",
   "metadata": {},
   "source": [
    "There are 115 reviews with 3 columns in the dataset."
   ]
  },
  {
   "cell_type": "markdown",
   "metadata": {},
   "source": [
    "#                         Data Cleaning (Xbox Series X Positive Reviews)\n",
    "\n",
    "The following section is done in order to prepare the Xbox Series X positive reviews for the LDA model.\n",
    "The data will need to be split, tokenized, and lemmatized in order to prepare it for the model.\n",
    "Visualizations will also be built in order to take a better look at the data."
   ]
  },
  {
   "cell_type": "markdown",
   "metadata": {},
   "source": [
    "Here is a frequency bar graph of the positive reviews:"
   ]
  },
  {
   "cell_type": "code",
   "execution_count": 180,
   "metadata": {},
   "outputs": [
    {
     "data": {
      "image/png": "[encoded data removed]",
      "text/plain": [
       "<Figure size 1440x360 with 1 Axes>"
      ]
     },
     "metadata": {
      "needs_background": "light"
     },
     "output_type": "display_data"
    }
   ],
   "source": [
    "freq_words(xboxseriesxreviews_positive['comment'])"
   ]
  },
  {
   "cell_type": "markdown",
   "metadata": {},
   "source": [
    "Looking above, it seems most of the most frequent words are \"the\", \"and\", and \"for\".<br>But these are not necessary words because these words don't show true sentiment.<br>The dataset will need to be cleaned further in order to prepare this dataset for the model."
   ]
  },
  {
   "cell_type": "markdown",
   "metadata": {},
   "source": [
    "This code removes the characters and samples from the text dataset:"
   ]
  },
  {
   "cell_type": "code",
   "execution_count": 181,
   "metadata": {},
   "outputs": [],
   "source": [
    "xboxseriesxreviews_positive['comment'] = xboxseriesxreviews_positive['comment'].str.replace(\"[^a-zA-Z#]\",\" \")"
   ]
  },
  {
   "cell_type": "markdown",
   "metadata": {},
   "source": [
    "The following code is run in order to remove short words (length < 3) to make the data cleaner:"
   ]
  },
  {
   "cell_type": "code",
   "execution_count": 182,
   "metadata": {},
   "outputs": [],
   "source": [
    "xboxseriesxreviews_positive['comment'] = xboxseriesxreviews_positive['comment'].apply(lambda x: ' '.join([w for w in x.split() if len(w) > 2]))"
   ]
  },
  {
   "cell_type": "markdown",
   "metadata": {},
   "source": [
    "The following removes the stopwords from the text:"
   ]
  },
  {
   "cell_type": "code",
   "execution_count": 183,
   "metadata": {},
   "outputs": [],
   "source": [
    "reviews = [remove_stopwords(r.split()) for r in xboxseriesxreviews_positive['comment']]"
   ]
  },
  {
   "cell_type": "markdown",
   "metadata": {},
   "source": [
    "The folowing turns the reviews lowercase:"
   ]
  },
  {
   "cell_type": "code",
   "execution_count": 184,
   "metadata": {},
   "outputs": [],
   "source": [
    "reviews = [r.lower() for r in reviews]"
   ]
  },
  {
   "cell_type": "code",
   "execution_count": 185,
   "metadata": {},
   "outputs": [
    {
     "data": {
      "image/png": "[encoded data removed]",
      "text/plain": [
       "<Figure size 1440x360 with 1 Axes>"
      ]
     },
     "metadata": {
      "needs_background": "light"
     },
     "output_type": "display_data"
    }
   ],
   "source": [
    "freq_words(reviews, 20)"
   ]
  },
  {
   "cell_type": "markdown",
   "metadata": {},
   "source": [
    "Re-running a frequency bar graph on the data, it seems the stopwords have been removed and the reviews are getting close to being used for the model.<br>The next step is to lemmatize the data."
   ]
  },
  {
   "cell_type": "markdown",
   "metadata": {},
   "source": [
    "Below, the reviews are tokenized:"
   ]
  },
  {
   "cell_type": "code",
   "execution_count": 186,
   "metadata": {},
   "outputs": [
    {
     "name": "stdout",
     "output_type": "stream",
     "text": [
      "['actually', 'need', 'review', 'you', 'know', 'buying', 'idk', 'even', 'scrolled', 'reading', 'the', 'console', 'still', 'stock', 'teasing', 'looking', 'listingor', 'back', 'stock', 'reading', 'review', 'goes', 'back', 'stock', 'good', 'job', 'wasting', 'time']\n"
     ]
    }
   ],
   "source": [
    "tokenized_reviews = pd.Series(reviews).apply(lambda x: x.split())\n",
    "print(tokenized_reviews[1])"
   ]
  },
  {
   "cell_type": "markdown",
   "metadata": {},
   "source": [
    "Below, the reviews are lemmatized:"
   ]
  },
  {
   "cell_type": "code",
   "execution_count": 187,
   "metadata": {},
   "outputs": [
    {
     "name": "stdout",
     "output_type": "stream",
     "text": [
      "['review', 'console', 'teasing', 'listingor', 'stock', 'reading', 'review', 'stock', 'good', 'job', 'time']\n"
     ]
    }
   ],
   "source": [
    "reviews_2 = lemmatization(tokenized_reviews)\n",
    "print(reviews_2[1]) "
   ]
  },
  {
   "cell_type": "markdown",
   "metadata": {},
   "source": [
    "The following code is run in order to append the reviews to a new dataframe in order to show a frequency graph \n",
    "of the lemmatized reviews later on:"
   ]
  },
  {
   "cell_type": "code",
   "execution_count": 188,
   "metadata": {},
   "outputs": [],
   "source": [
    "reviews_3 = []\n",
    "for i in range(len(reviews_2)):\n",
    "    reviews_3.append(' '.join(reviews_2[i]))\n",
    "\n",
    "xboxseriesxreviews_positive['reviews'] = reviews_3"
   ]
  },
  {
   "cell_type": "code",
   "execution_count": 189,
   "metadata": {},
   "outputs": [
    {
     "data": {
      "image/png": "[encoded data removed]",
      "text/plain": [
       "<Figure size 1440x360 with 1 Axes>"
      ]
     },
     "metadata": {
      "needs_background": "light"
     },
     "output_type": "display_data"
    }
   ],
   "source": [
    "freq_words(xboxseriesxreviews_positive['reviews'], 20)"
   ]
  },
  {
   "cell_type": "markdown",
   "metadata": {},
   "source": [
    "As can be seen, the tokens are now cleaner as words such as \"game\", \"system\", and \"hour\" are now clearly showing in the dataset.<br>The dataset is now ready for model building."
   ]
  },
  {
   "cell_type": "markdown",
   "metadata": {},
   "source": [
    "#                                        LDA Model (Xbox Series X Positive Reviews)"
   ]
  },
  {
   "cell_type": "markdown",
   "metadata": {},
   "source": [
    "The code below is run in order to incorporate the reviews into a dictionary in order to set up the LDA Model."
   ]
  },
  {
   "cell_type": "code",
   "execution_count": 190,
   "metadata": {},
   "outputs": [],
   "source": [
    "dictionary = corpora.Dictionary(reviews_2)\n",
    "doc_term_matrix = [dictionary.doc2bow(rev) for rev in reviews_2]"
   ]
  },
  {
   "cell_type": "markdown",
   "metadata": {},
   "source": [
    "Next, the LDA Model is imported and the next lines of code are run in order to build the model.<br>\n",
    "The number of topics chosen through trial and error were 3."
   ]
  },
  {
   "cell_type": "code",
   "execution_count": 191,
   "metadata": {},
   "outputs": [],
   "source": [
    "LDA = gensim.models.ldamodel.LdaModel\n",
    "\n",
    "lda_model = LDA(corpus = doc_term_matrix, \n",
    "                id2word = dictionary,\n",
    "                num_topics = 3,\n",
    "                random_state = 100,\n",
    "                chunksize = 1000,\n",
    "                passes = 50)"
   ]
  },
  {
   "cell_type": "markdown",
   "metadata": {},
   "source": [
    "Here, this code is being run to print the topics and the words associated with it:"
   ]
  },
  {
   "cell_type": "code",
   "execution_count": 192,
   "metadata": {},
   "outputs": [
    {
     "data": {
      "text/plain": [
       "[(0,\n",
       "  '0.052*\"game\" + 0.032*\"time\" + 0.024*\"console\" + 0.023*\"amazing\" + 0.021*\"good\" + 0.019*\"fast\" + 0.017*\"load\" + 0.013*\"next\" + 0.013*\"system\" + 0.012*\"thing\"'),\n",
       " (1,\n",
       "  '0.023*\"game\" + 0.022*\"console\" + 0.018*\"day\" + 0.018*\"new\" + 0.011*\"series\" + 0.009*\"experience\" + 0.009*\"old\" + 0.007*\"thing\" + 0.007*\"work\" + 0.007*\"title\"'),\n",
       " (2,\n",
       "  '0.048*\"game\" + 0.040*\"great\" + 0.031*\"console\" + 0.015*\"new\" + 0.013*\"system\" + 0.010*\"controller\" + 0.010*\"love\" + 0.009*\"series\" + 0.009*\"ssd\" + 0.009*\"speed\"')]"
      ]
     },
     "execution_count": 192,
     "metadata": {},
     "output_type": "execute_result"
    }
   ],
   "source": [
    "lda_model.print_topics()"
   ]
  },
  {
   "cell_type": "markdown",
   "metadata": {},
   "source": [
    "This code is run to visualize the LDA model into a graphical bubble plot:"
   ]
  },
  {
   "cell_type": "code",
   "execution_count": 193,
   "metadata": {},
   "outputs": [
    {
     "data": {
      "text/html": [
       "\n",
       "<link rel=\"stylesheet\" type=\"text/css\" href=\"https://cdn.rawgit.com/bmabey/pyLDAvis/files/ldavis.v1.0.0.css\">\n",
       "\n",
       "\n",
       "<div id=\"ldavis_el1508018870371824643081923960\"></div>\n",
       "<script type=\"text/javascript\">\n",
       "\n",
       "var ldavis_el1508018870371824643081923960_data = {\"mdsDat\": {\"x\": [0.0958138161733087, -0.010753671985633657, -0.08506014418767496], \"y\": [0.03637406733547079, -0.08854035750095743, 0.05216629016548664], \"topics\": [1, 2, 3], \"cluster\": [1, 1, 1], \"Freq\": [46.67621347614126, 30.308409066972846, 23.015377456885897]}, \"tinfo\": {\"Term\": [\"great\", \"load\", \"fast\", \"day\", \"ssd\", \"time\", \"next\", \"new\", \"experience\", \"speed\", \"issue\", \"title\", \"full\", \"performance\", \"review\", \"setup\", \"huge\", \"thing\", \"console\", \"old\", \"fun\", \"work\", \"good\", \"bad\", \"fantastic\", \"hour\", \"easy\", \"high\", \"well\", \"hdr\", \"purchase\", \"huge\", \"load\", \"beast\", \"lucky\", \"large\", \"minute\", \"fast\", \"man\", \"money\", \"available\", \"look\", \"excellent\", \"sleek\", \"playing\", \"next\", \"resume\", \"travel\", \"room\", \"multiple\", \"open\", \"medium\", \"ready\", \"backward\", \"boy\", \"video\", \"butter\", \"non\", \"second\", \"alot\", \"time\", \"playstation\", \"well\", \"good\", \"amazing\", \"play\", \"machine\", \"thing\", \"difference\", \"job\", \"beautiful\", \"game\", \"way\", \"powerful\", \"happy\", \"last\", \"worth\", \"quick\", \"console\", \"system\", \"graphic\", \"upgrade\", \"quiet\", \"product\", \"loading\", \"series\", \"hand\", \"generation\", \"new\", \"great\", \"day\", \"ssd\", \"full\", \"internal\", \"fps\", \"processing\", \"want\", \"port\", \"respect\", \"steady\", \"reliable\", \"impressive\", \"dollar\", \"style\", \"complaint\", \"charge\", \"stable\", \"stupid\", \"framerate\", \"functionality\", \"premium\", \"canadian\", \"rdna\", \"slow\", \"entire\", \"air\", \"technical\", \"know\", \"teraflop\", \"account\", \"disappointing\", \"expansion\", \"speed\", \"great\", \"performance\", \"battery\", \"pass\", \"high\", \"party\", \"heavy\", \"solid\", \"bug\", \"due\", \"overall\", \"horizon\", \"issue\", \"controller\", \"game\", \"console\", \"love\", \"new\", \"system\", \"title\", \"power\", \"nice\", \"value\", \"spec\", \"software\", \"able\", \"lack\", \"quiet\", \"series\", \"experience\", \"quick\", \"old\", \"feature\", \"launch\", \"amazing\", \"gaming\", \"time\", \"good\", \"day\", \"graphic\", \"screw\", \"condition\", \"star\", \"far\", \"xbox\", \"upscaling\", \"husband\", \"terrible\", \"pandemic\", \"significant\", \"user\", \"lid\", \"final\", \"section\", \"foam\", \"recharge\", \"feel\", \"legacy\", \"evolutionary\", \"hitch\", \"industry\", \"obvious\", \"unboxing\", \"behold\", \"weight\", \"child\", \"door\", \"few\", \"offer\", \"hdr\", \"fun\", \"point\", \"bad\", \"day\", \"whole\", \"hour\", \"review\", \"experience\", \"setup\", \"work\", \"fantastic\", \"new\", \"update\", \"easy\", \"delivery\", \"old\", \"title\", \"order\", \"console\", \"series\", \"big\", \"issue\", \"awesome\", \"game\", \"launch\", \"thing\", \"release\", \"box\", \"year\", \"system\", \"great\", \"time\", \"good\", \"amazing\"], \"Freq\": [96.0, 47.0, 54.0, 44.0, 16.0, 100.0, 39.0, 66.0, 25.0, 20.0, 18.0, 19.0, 9.0, 17.0, 13.0, 13.0, 16.0, 43.0, 144.0, 30.0, 8.0, 17.0, 71.0, 8.0, 10.0, 10.0, 18.0, 13.0, 31.0, 6.0, 10.46130936934138, 15.271706921918968, 44.54766175872648, 7.9154783401635145, 6.211431102309294, 6.202919430048848, 6.194002000930916, 49.31956405162475, 6.155141560079867, 5.38029781371154, 5.3788979525532135, 5.367221376804376, 5.3559843709844825, 4.519937120929326, 5.962997859349826, 34.97968635988611, 17.08442937143653, 3.682082715900563, 3.682079027201859, 3.677897272437283, 3.6765542787173158, 3.668624806069051, 3.6447727580716047, 3.642857708660894, 3.63769076395068, 10.126881493485804, 3.5950647765055375, 4.279966060189352, 12.746089346858197, 2.8324340041559806, 83.42254755390184, 13.445069471322102, 26.027553964543227, 56.22282596552567, 60.311492729596736, 20.61100361996466, 11.440578953559228, 31.397536947110975, 14.265052438519517, 6.887120168370382, 9.915528279469385, 136.51690945597116, 16.95030705697764, 15.579447677431194, 16.17212319393246, 10.832216631034305, 17.504701258324452, 20.415177983144492, 62.90735788278445, 33.127642382179445, 17.853788637614507, 13.089792455606034, 18.98714992151073, 16.018083136035944, 13.04040077995387, 22.866774441303697, 13.683079066526002, 14.145025871376442, 18.965532917536606, 19.375156760831107, 13.597338953840497, 15.519171291762966, 9.147040128204, 4.305794852858665, 4.277583458822726, 3.4790920262759344, 2.693165981367068, 2.6931288558591393, 2.69292027437642, 2.686590774473536, 2.6836630489342745, 2.659443844597733, 2.6602637993642513, 2.6355422030736384, 5.02414428975705, 1.8852013567137267, 1.8851668259993626, 1.8851406784642084, 1.8851330936830184, 1.8851287024939085, 1.8851243113047988, 1.8851223153097487, 1.8851105389389542, 1.8850622358587454, 1.885039082316166, 1.8849911784349673, 1.8849798012631827, 1.8849490629394134, 1.8848484647888961, 1.8848283052388917, 1.8847732157755133, 5.033323471792743, 15.30855708768473, 68.93189024619087, 12.184515854485293, 5.929195111637297, 6.586792846399481, 9.190479367674989, 4.100622529684602, 3.5178027534736, 5.077945138731319, 3.499681513614149, 7.02003035837346, 5.9107932348738235, 3.503275502301082, 10.65420960323417, 16.960682110426145, 82.73633891685402, 53.11794721185978, 16.317325001947307, 25.07958838199497, 22.992649410389127, 9.572757130028792, 10.775433568199578, 10.484233858372836, 7.922105151634237, 4.293173377759836, 4.286576214920754, 9.453741533986644, 5.076999037077644, 12.413165869834843, 16.15677035372172, 9.648379793685113, 10.765459980134008, 9.694309236580413, 7.753220018468195, 7.6807685917472295, 12.98916692775622, 7.572230372921259, 10.032862731370097, 8.965578629427258, 8.229306354577387, 7.587593147621684, 4.128995586594564, 4.123976484082696, 3.3547224052973488, 3.3519116836394374, 3.3249997513028964, 2.5805028799247944, 2.5800139137865057, 2.578597943028945, 2.578597943028945, 2.5743773134298182, 2.568753444987457, 2.5665356667681642, 1.80636611199536, 1.80636611199536, 1.8063659604249513, 1.8063659604249513, 1.8063659604249513, 1.8063659604249513, 1.8063659604249513, 1.8063659604249513, 1.806365657284134, 1.8062885079461337, 1.8062347004510648, 1.8060834331832372, 1.8060188641891544, 1.8052992078889083, 1.8033701712980843, 1.803326822161212, 1.8031793441536004, 4.809470026783501, 6.0055894223090105, 3.3322048022482416, 5.658668401904527, 23.08432359446741, 4.25030708513925, 6.3490855577597545, 7.586297813054625, 12.329629485744277, 7.479579513454271, 8.793977483647483, 5.785922673031363, 22.95313152412398, 5.528722846601791, 8.5160992095073, 4.11745380311707, 11.947976409339626, 8.71876279034316, 6.098893134462654, 28.06091363811872, 14.012276857964853, 7.4680880513524475, 7.333267385426056, 8.0201747768987, 29.403019891575493, 7.133108354022645, 9.319090739271285, 5.240053365647724, 5.956901369362454, 6.284090347687907, 8.179888154177666, 8.435206082413504, 7.296543694256295, 6.774103534359353, 6.16223077054556], \"Total\": [96.0, 47.0, 54.0, 44.0, 16.0, 100.0, 39.0, 66.0, 25.0, 20.0, 18.0, 19.0, 9.0, 17.0, 13.0, 13.0, 16.0, 43.0, 144.0, 30.0, 8.0, 17.0, 71.0, 8.0, 10.0, 10.0, 18.0, 13.0, 31.0, 6.0, 11.00778051915881, 16.080660703211944, 47.42952078390652, 8.458272703813947, 6.757767186299045, 6.7569769262312525, 6.756078197497144, 54.06120965817854, 6.7536408472027, 5.909508150850443, 5.909438169866545, 5.908802071000644, 5.9072204984929, 5.059042525731413, 6.735473241214982, 39.51328204518356, 19.407140497207603, 4.2098485832472345, 4.209849227199371, 4.209624514159402, 4.209550325520813, 4.20911287997899, 4.207241339137929, 4.2077792272107635, 4.205811933268402, 11.799206975923946, 4.2035485095202425, 5.04483299473494, 15.081570962680605, 3.3599957871462984, 100.75195397952824, 15.968606575652752, 31.944823509348677, 71.96250812931228, 79.46289042789851, 26.77749177270375, 14.24369057764621, 43.15598852598431, 18.45093861100199, 8.372890749733019, 12.5936652012764, 248.65626826440067, 23.358748870574505, 21.601986225495928, 23.23088921506096, 14.175405157509218, 25.874752889833005, 32.46194008003287, 144.08621873276297, 64.30017994674624, 29.004045149857596, 19.214997133864365, 33.95224886180407, 26.513347480897796, 19.2147108977545, 53.035821652990265, 23.18471765320679, 26.343476141999428, 66.99825282365555, 96.74225308943548, 44.910968902885294, 16.168585032219582, 9.699505111385536, 4.8509037478870765, 4.8522074879632875, 4.043656460393035, 3.2346484421832784, 3.234646152492815, 3.2346357124009684, 3.234898159276676, 3.2349037451432765, 3.2349690690865636, 3.2360754464920687, 3.237296049654127, 6.435853263445657, 2.42659704235907, 2.4265959908804535, 2.4265948380623636, 2.4265951264704664, 2.4265938866155228, 2.426593966168016, 2.4265939921973905, 2.426593016910639, 2.4265914229125216, 2.4265913301670667, 2.426589348838175, 2.426590404301987, 2.4265856237636383, 2.4265905148638, 2.4265792393085848, 2.426581203332196, 6.512660472839014, 20.129174924439656, 96.74225308943548, 17.19054617616687, 8.090008123004207, 9.595683985001813, 13.935313598066132, 5.7110423567733415, 4.817638434455097, 7.2857813719157765, 4.818339750979145, 10.659212659564805, 8.789444573946977, 4.892062390667708, 18.278716965301353, 32.71334954857993, 248.65626826440067, 144.08621873276297, 33.55013973043925, 66.99825282365555, 64.30017994674624, 19.89883287905215, 23.662088091505662, 23.140456996777434, 15.708753233972537, 6.3988719426690075, 6.4004728938158095, 20.580388246401167, 8.210159537868986, 33.95224886180407, 53.035821652990265, 25.491266096068333, 32.46194008003287, 30.625415406042386, 19.7065877662051, 19.301801694992903, 79.46289042789851, 20.67497961907374, 100.75195397952824, 71.96250812931228, 44.910968902885294, 29.004045149857596, 4.681728763194558, 4.682112155617349, 3.907494227565219, 3.9077314228334465, 3.9090279907873704, 3.133259470433691, 3.1332741413443603, 3.133431878587124, 3.1334320956567856, 3.1337923765371496, 3.1343085470262353, 3.13450860603498, 2.359017892712518, 2.3590179483503597, 2.359017896835964, 2.359017937001724, 2.359018052273558, 2.359018129121448, 2.359018142595455, 2.359018156069461, 2.359017900830445, 2.359020875749224, 2.3590246544720177, 2.359027877848903, 2.3590292663636823, 2.359108419403066, 2.35927100005744, 2.3592722124386283, 2.359283847578082, 6.3143308502810624, 8.640653365628538, 4.717227335329111, 8.780577658419775, 44.910968902885294, 6.369250600050354, 10.301564558895233, 13.69089811068079, 25.491266096068333, 13.701399499474803, 17.718259236338064, 10.468323048004198, 66.99825282365555, 10.330676517870359, 18.58441040444596, 7.106821037741845, 30.625415406042386, 19.89883287905215, 12.947262032749329, 144.08621873276297, 53.035821652990265, 18.587971436700087, 18.278716965301353, 22.702274026686883, 248.65626826440067, 19.301801694992903, 43.15598852598431, 12.846640448194941, 19.465389438685854, 22.94906408222286, 64.30017994674624, 96.74225308943548, 100.75195397952824, 71.96250812931228, 79.46289042789851], \"Category\": [\"Default\", \"Default\", \"Default\", \"Default\", \"Default\", \"Default\", \"Default\", \"Default\", \"Default\", \"Default\", \"Default\", \"Default\", \"Default\", \"Default\", \"Default\", \"Default\", \"Default\", \"Default\", \"Default\", \"Default\", \"Default\", \"Default\", \"Default\", \"Default\", \"Default\", \"Default\", \"Default\", \"Default\", \"Default\", \"Default\", \"Topic1\", \"Topic1\", \"Topic1\", \"Topic1\", \"Topic1\", \"Topic1\", \"Topic1\", \"Topic1\", \"Topic1\", \"Topic1\", \"Topic1\", \"Topic1\", \"Topic1\", \"Topic1\", \"Topic1\", \"Topic1\", \"Topic1\", \"Topic1\", \"Topic1\", \"Topic1\", \"Topic1\", \"Topic1\", \"Topic1\", \"Topic1\", \"Topic1\", \"Topic1\", \"Topic1\", \"Topic1\", \"Topic1\", \"Topic1\", \"Topic1\", \"Topic1\", \"Topic1\", \"Topic1\", \"Topic1\", \"Topic1\", \"Topic1\", \"Topic1\", \"Topic1\", \"Topic1\", \"Topic1\", \"Topic1\", \"Topic1\", \"Topic1\", \"Topic1\", \"Topic1\", \"Topic1\", \"Topic1\", \"Topic1\", \"Topic1\", \"Topic1\", \"Topic1\", \"Topic1\", \"Topic1\", \"Topic1\", \"Topic1\", \"Topic1\", \"Topic1\", \"Topic1\", \"Topic1\", \"Topic1\", \"Topic2\", \"Topic2\", \"Topic2\", \"Topic2\", \"Topic2\", \"Topic2\", \"Topic2\", \"Topic2\", \"Topic2\", \"Topic2\", \"Topic2\", \"Topic2\", \"Topic2\", \"Topic2\", \"Topic2\", \"Topic2\", \"Topic2\", \"Topic2\", \"Topic2\", \"Topic2\", \"Topic2\", \"Topic2\", \"Topic2\", \"Topic2\", \"Topic2\", \"Topic2\", \"Topic2\", \"Topic2\", \"Topic2\", \"Topic2\", \"Topic2\", \"Topic2\", \"Topic2\", \"Topic2\", \"Topic2\", \"Topic2\", \"Topic2\", \"Topic2\", \"Topic2\", \"Topic2\", \"Topic2\", \"Topic2\", \"Topic2\", \"Topic2\", \"Topic2\", \"Topic2\", \"Topic2\", \"Topic2\", \"Topic2\", \"Topic2\", \"Topic2\", \"Topic2\", \"Topic2\", \"Topic2\", \"Topic2\", \"Topic2\", \"Topic2\", \"Topic2\", \"Topic2\", \"Topic2\", \"Topic2\", \"Topic2\", \"Topic2\", \"Topic2\", \"Topic2\", \"Topic2\", \"Topic2\", \"Topic2\", \"Topic2\", \"Topic2\", \"Topic2\", \"Topic2\", \"Topic3\", \"Topic3\", \"Topic3\", \"Topic3\", \"Topic3\", \"Topic3\", \"Topic3\", \"Topic3\", \"Topic3\", \"Topic3\", \"Topic3\", \"Topic3\", \"Topic3\", \"Topic3\", \"Topic3\", \"Topic3\", \"Topic3\", \"Topic3\", \"Topic3\", \"Topic3\", \"Topic3\", \"Topic3\", \"Topic3\", \"Topic3\", \"Topic3\", \"Topic3\", \"Topic3\", \"Topic3\", \"Topic3\", \"Topic3\", \"Topic3\", \"Topic3\", \"Topic3\", \"Topic3\", \"Topic3\", \"Topic3\", \"Topic3\", \"Topic3\", \"Topic3\", \"Topic3\", \"Topic3\", \"Topic3\", \"Topic3\", \"Topic3\", \"Topic3\", \"Topic3\", \"Topic3\", \"Topic3\", \"Topic3\", \"Topic3\", \"Topic3\", \"Topic3\", \"Topic3\", \"Topic3\", \"Topic3\", \"Topic3\", \"Topic3\", \"Topic3\", \"Topic3\", \"Topic3\", \"Topic3\", \"Topic3\", \"Topic3\", \"Topic3\"], \"logprob\": [30.0, 29.0, 28.0, 27.0, 26.0, 25.0, 24.0, 23.0, 22.0, 21.0, 20.0, 19.0, 18.0, 17.0, 16.0, 15.0, 14.0, 13.0, 12.0, 11.0, 10.0, 9.0, 8.0, 7.0, 6.0, 5.0, 4.0, 3.0, 2.0, 1.0, -5.531000137329102, -5.152699947357178, -4.082200050354004, -5.809899806976318, -6.052299976348877, -6.053699970245361, -6.055099964141846, -3.9804000854492188, -6.061399936676025, -6.196000099182129, -6.196199893951416, -6.198400020599365, -6.200500011444092, -6.370200157165527, -6.093100070953369, -4.32390022277832, -5.040500164031982, -6.575200080871582, -6.575200080871582, -6.576399803161621, -6.576700210571289, -6.57889986038208, -6.585400104522705, -6.585899829864502, -6.587399959564209, -5.563499927520752, -6.5991997718811035, -6.424799919128418, -5.333499908447266, -6.837600231170654, -3.4547998905181885, -5.280099868774414, -4.61959981918335, -3.849400043487549, -3.7792000770568848, -4.85290002822876, -5.441500186920166, -4.432000160217285, -5.220900058746338, -5.949100017547607, -5.58459997177124, -2.9623000621795654, -5.048399925231934, -5.132800102233887, -5.095399856567383, -5.496200084686279, -5.016200065612793, -4.862400054931641, -3.7370998859405518, -4.378300189971924, -4.996500015258789, -5.3069000244140625, -4.934999942779541, -5.105000019073486, -5.310699939727783, -4.749000072479248, -5.262599945068359, -5.229400157928467, -4.936100006103516, -4.914700031280518, -5.268799781799316, -4.704800128936768, -5.233500003814697, -5.9868998527526855, -5.993500232696533, -6.200099945068359, -6.456200122833252, -6.456200122833252, -6.456299781799316, -6.458600044250488, -6.459700107574463, -6.468800067901611, -6.468500137329102, -6.477799892425537, -5.832600116729736, -6.812900066375732, -6.812900066375732, -6.812900066375732, -6.812900066375732, -6.812900066375732, -6.812900066375732, -6.812900066375732, -6.812900066375732, -6.812900066375732, -6.813000202178955, -6.813000202178955, -6.813000202178955, -6.813000202178955, -6.8130998611450195, -6.8130998611450195, -6.8130998611450195, -5.8308000564575195, -4.718500137329102, -3.2137999534606934, -4.946700096130371, -5.666999816894531, -5.561800003051758, -5.228700160980225, -6.035799980163574, -6.1890997886657715, -5.822000026702881, -6.194200038909912, -5.4980998039245605, -5.670100212097168, -6.19320011138916, -5.080900192260742, -4.616000175476074, -3.0311999320983887, -3.474400043487549, -4.654699802398682, -4.224800109863281, -4.311699867248535, -5.188000202178955, -5.0696001052856445, -5.0970001220703125, -5.377200126647949, -5.9899001121521, -5.991399765014648, -5.200500011444092, -5.822199821472168, -4.928100109100342, -4.664599895477295, -5.180099964141846, -5.0706000328063965, -5.1753997802734375, -5.398799896240234, -5.408199787139893, -4.882800102233887, -5.422399997711182, -5.140999794006348, -5.253499984741211, -5.339200019836426, -5.420400142669678, -5.753600120544434, -5.754799842834473, -5.961299896240234, -5.962100028991699, -5.970200061798096, -6.223700046539307, -6.223800182342529, -6.224400043487549, -6.224400043487549, -6.22599983215332, -6.2281999588012695, -6.229100227355957, -6.5802998542785645, -6.5802998542785645, -6.5802998542785645, -6.5802998542785645, -6.5802998542785645, -6.5802998542785645, -6.5802998542785645, -6.5802998542785645, -6.5802998542785645, -6.580399990081787, -6.580399990081787, -6.58050012588501, -6.58050012588501, -6.580900192260742, -6.581999778747559, -6.581999778747559, -6.582099914550781, -5.601099967956543, -5.379000186920166, -5.9679999351501465, -5.438499927520752, -4.03249979019165, -5.724699974060059, -5.323299884796143, -5.145299911499023, -4.659599781036377, -5.1595001220703125, -4.997600078582764, -5.416200160980225, -4.0381999015808105, -5.461699962615967, -5.029699802398682, -5.756400108337402, -4.691100120544434, -5.006199836730957, -5.363500118255615, -3.8373000621795654, -4.531700134277344, -5.160999774932861, -5.179200172424316, -5.089700222015381, -3.7904999256134033, -5.206900119781494, -4.939599990844727, -5.5152997970581055, -5.3871002197265625, -5.333600044250488, -5.070000171661377, -5.0391998291015625, -5.184199810028076, -5.258500099182129, -5.3531999588012695], \"loglift\": [30.0, 29.0, 28.0, 27.0, 26.0, 25.0, 24.0, 23.0, 22.0, 21.0, 20.0, 19.0, 18.0, 17.0, 16.0, 15.0, 14.0, 13.0, 12.0, 11.0, 10.0, 9.0, 8.0, 7.0, 6.0, 5.0, 4.0, 3.0, 2.0, 1.0, 0.711, 0.7103, 0.6993, 0.6956, 0.6776, 0.6764, 0.6751, 0.6701, 0.6691, 0.6681, 0.6679, 0.6658, 0.664, 0.6493, 0.6401, 0.6401, 0.6345, 0.628, 0.628, 0.6269, 0.6266, 0.6245, 0.6184, 0.6178, 0.6168, 0.6091, 0.6056, 0.5975, 0.5937, 0.5911, 0.5732, 0.5899, 0.5571, 0.5151, 0.4862, 0.5002, 0.5428, 0.4438, 0.5046, 0.5666, 0.5228, 0.1623, 0.4412, 0.4351, 0.3997, 0.493, 0.3711, 0.2981, -0.0668, 0.0987, 0.2767, 0.3781, 0.1807, 0.258, 0.3743, -0.0793, 0.2346, 0.1401, -0.5001, -0.8461, -0.4329, 1.1528, 1.1351, 1.0745, 1.0677, 1.0434, 1.0105, 1.0105, 1.0105, 1.008, 1.0069, 0.9978, 0.9978, 0.9881, 0.9461, 0.9413, 0.9413, 0.9413, 0.9413, 0.9413, 0.9413, 0.9412, 0.9412, 0.9412, 0.9412, 0.9412, 0.9412, 0.9412, 0.9411, 0.9411, 0.9411, 0.9361, 0.92, 0.8548, 0.8496, 0.883, 0.8175, 0.7775, 0.8625, 0.8793, 0.8327, 0.874, 0.7761, 0.797, 0.8598, 0.654, 0.5369, 0.0933, 0.1958, 0.4729, 0.2111, 0.1654, 0.462, 0.4071, 0.402, 0.5092, 0.7946, 0.7929, 0.4158, 0.7131, 0.1875, 0.0051, 0.2222, 0.09, 0.0435, 0.2609, 0.2723, -0.6174, 0.1893, -1.1131, -0.889, -0.5032, -0.1472, 1.3434, 1.3421, 1.3165, 1.3156, 1.3072, 1.2749, 1.2747, 1.2741, 1.2741, 1.2724, 1.27, 1.2691, 1.2021, 1.2021, 1.2021, 1.2021, 1.2021, 1.2021, 1.2021, 1.2021, 1.2021, 1.202, 1.202, 1.2019, 1.2019, 1.2015, 1.2003, 1.2003, 1.2002, 1.1968, 1.1052, 1.1214, 1.0297, 0.8035, 1.0645, 0.985, 0.8786, 0.7427, 0.8637, 0.7685, 0.8761, 0.3978, 0.8438, 0.6886, 0.9232, 0.5277, 0.6438, 0.7162, -0.167, 0.138, 0.5571, 0.5557, 0.4285, -0.666, 0.4736, -0.0637, 0.5723, 0.2849, 0.1738, -0.5929, -0.9706, -1.1563, -0.894, -1.0878]}, \"token.table\": {\"Topic\": [1, 2, 3, 2, 2, 1, 1, 2, 3, 1, 1, 2, 3, 1, 1, 3, 1, 2, 3, 1, 1, 2, 3, 1, 2, 3, 1, 2, 3, 1, 2, 3, 1, 2, 2, 3, 2, 3, 3, 1, 2, 3, 1, 2, 3, 1, 2, 3, 2, 3, 1, 2, 3, 2, 2, 3, 1, 2, 1, 2, 3, 2, 3, 1, 1, 2, 1, 2, 3, 1, 3, 3, 1, 2, 3, 1, 2, 3, 3, 3, 3, 3, 2, 2, 2, 2, 3, 2, 1, 2, 3, 1, 2, 3, 1, 2, 3, 1, 2, 3, 1, 2, 3, 1, 2, 3, 1, 2, 3, 1, 2, 3, 1, 3, 2, 3, 1, 2, 3, 1, 2, 1, 2, 3, 1, 3, 3, 2, 3, 2, 2, 3, 1, 3, 2, 1, 2, 1, 1, 2, 3, 1, 2, 3, 3, 3, 1, 2, 1, 2, 1, 1, 2, 3, 1, 1, 2, 3, 1, 1, 1, 1, 1, 1, 2, 3, 1, 3, 1, 2, 3, 1, 3, 3, 1, 2, 3, 1, 1, 2, 3, 2, 3, 3, 1, 2, 2, 3, 1, 2, 1, 2, 3, 1, 3, 1, 2, 3, 2, 3, 2, 1, 2, 3, 1, 2, 3, 2, 2, 1, 2, 3, 1, 1, 2, 3, 1, 2, 3, 2, 1, 3, 1, 2, 3, 2, 2, 1, 2, 1, 3, 1, 3, 1, 3, 3, 1, 2, 3, 1, 3, 3, 1, 2, 2, 3, 1, 2, 3, 2, 3, 1, 2, 3, 2, 2, 3, 2, 2, 2, 1, 2, 3, 2, 2, 3, 1, 2, 3, 1, 2, 3, 1, 2, 3, 1, 3, 1, 2, 3, 1, 2, 3, 3, 1, 2, 1, 2, 2, 1, 2, 3, 3, 1, 2, 3, 1, 3, 1, 2, 3, 1, 2, 3, 3, 1, 2, 3], \"Freq\": [0.4373095343122987, 0.4373095343122987, 0.09717989651384415, 0.824205518452333, 0.824202084690423, 0.8928582623456058, 0.7550694377829312, 0.16359837818630177, 0.07550694377829312, 0.8461041229767055, 0.396436056996773, 0.2642907046645153, 0.3523876062193538, 0.9506202165106235, 0.3416631703181024, 0.6833263406362048, 0.12360927020041756, 0.7416556212025054, 0.12360927020041756, 0.9458195875373815, 0.7940500116666969, 0.1588100023333394, 0.8478068524665824, 0.3765876240900178, 0.21519292805143872, 0.3765876240900178, 0.359612635650026, 0.359612635650026, 0.30823940198573657, 0.9510648748603311, 0.6226211008450294, 0.20754036694834316, 0.951576980958054, 0.8242005075554109, 0.8241994715594212, 0.8477779077682523, 0.776897762476809, 0.15537955249536178, 0.8543152891374062, 0.4372382074710853, 0.36783531739630987, 0.19432809220937125, 0.3668227242269942, 0.5196655259882418, 0.12227424140899806, 0.31172785495395033, 0.17813020283082875, 0.5121243331386327, 0.4221296672686772, 0.5628395563582362, 0.758768987050449, 0.21679113915727116, 0.05419778478931779, 0.8242048513577818, 0.927048843453889, 0.8477194862104892, 0.28144667864450734, 0.6567089168371838, 0.4304683240360509, 0.16142562151351908, 0.4842768645405573, 0.8242014117236227, 0.847810351216522, 0.8464217649020622, 0.15354708020946128, 0.7677354010473063, 0.15691648994307675, 0.39229122485769186, 0.47074946982923027, 0.382105135813764, 0.573157703720646, 0.7677088508362067, 0.906380014613438, 0.05549265395592477, 0.03699510263728318, 0.45670006937650226, 0.40595561722355755, 0.1522333564588341, 0.8478103836774177, 0.8477190505849803, 0.8478104410222591, 0.8478104395403285, 0.8243670555974099, 0.8242001222960675, 0.9278823915908413, 0.23146397793895487, 0.6943919338168646, 0.8242005434166357, 0.5509613771502653, 0.3337941190034454, 0.1166268608566255, 0.5320440553107937, 0.3869411311351227, 0.09673528278378067, 0.5314408745655167, 0.26572043728275835, 0.1898003123448274, 0.778182993557859, 0.1250651239646559, 0.09727287419473238, 0.620603088534648, 0.275823594904288, 0.137911797452144, 0.19639815482108977, 0.7132354043502734, 0.08269395992466938, 0.6038460424409609, 0.3019230212204804, 0.12939558052306302, 0.6887381645996978, 0.12913840586244335, 0.17218454114992446, 0.15836990865872796, 0.7918495432936399, 0.8302823166206376, 0.2075705791551594, 0.2870405442870764, 0.645841224645922, 0.8478103463740828, 0.20441276503497577, 0.8176510601399031, 0.19414526682483707, 0.19414526682483707, 0.5824358004745112, 0.932797493638051, 0.062186499575870066, 0.9574648960377345, 0.927365899312011, 0.8478104381047469, 0.8245886143880494, 0.6017927856140776, 0.38295904539077663, 0.8360314506938007, 0.11943306438482867, 0.8242033499308369, 0.36540093845468374, 0.6090015640911396, 0.8879710653898205, 0.7759919295268191, 0.07054472086607445, 0.1410894417321489, 0.20723454023660617, 0.41446908047321235, 0.3626604454140608, 0.8478103560589615, 0.9570878172814694, 0.9487761895175866, 0.0632517459678391, 0.6765649542777782, 0.3122607481282053, 0.846195208422891, 0.3874797572960749, 0.47689816282593833, 0.14903067588310573, 0.8878672251634577, 0.7722717606112001, 0.14041304738385454, 0.07020652369192727, 0.8884096942296167, 0.9503190135447177, 0.888089187928991, 0.8460941033274394, 0.9502035125806795, 0.28358948478864715, 0.37314405893243047, 0.343292534217836, 0.8857781026637421, 0.10123178316157053, 0.5185722996599045, 0.43214358304992034, 0.04321435830499204, 0.792890469154205, 0.8478093689462587, 0.8477148699394929, 0.29387356483740307, 0.32652618315267007, 0.39183141978320407, 0.9502202588598612, 0.46341844204769755, 0.07723640700794959, 0.46341844204769755, 0.6826369913958793, 0.34131849569793965, 0.9574166308433062, 0.17509938423307123, 0.7003975369322849, 0.7294946364366622, 0.31264055847285527, 0.29085754162552707, 0.6980580999012649, 0.7842407413754424, 0.1493791888334176, 0.0746895944167088, 0.8908060035463353, 0.14846766725772256, 0.8140973314366095, 0.06262287164896996, 0.06262287164896996, 0.21198893521849568, 0.635966805655487, 0.9274584787853898, 0.38035527402295766, 0.4648786682502816, 0.16904678845464785, 0.7406726322747056, 0.0925840790343382, 0.1851681580686764, 0.8242005163963724, 0.7419027875845828, 0.6034696302127673, 0.26401796321808574, 0.11315055566489388, 0.9084483454766572, 0.6161061215285119, 0.33885836684068155, 0.030805306076425593, 0.5596094702691344, 0.3534375601699796, 0.0883593900424949, 0.8242008388148474, 0.9507417515581853, 0.8478104251051053, 0.2335240884258985, 0.3892068140431642, 0.3892068140431642, 0.9273846260507908, 0.9274614722451062, 0.8759662456427337, 0.1030548524285569, 0.43824736343039267, 0.5843298179071902, 0.9501527926835104, 0.8543852500482357, 0.8619791686269648, 0.1326121797887638, 0.8478104210265048, 0.4336691557356728, 0.3016828909465549, 0.2639725295782356, 0.437911470301263, 0.5108967153514735, 0.9573065600839228, 0.9883293082769893, 0.8242013802222607, 0.6249538223753488, 0.3124769111876744, 0.13725363814163596, 0.6862681907081798, 0.13725363814163596, 0.6251101812691654, 0.3125550906345827, 0.04967913507402924, 0.7451870261104386, 0.14903740522208772, 0.989573297113901, 0.8241998286967953, 0.7677554528005832, 0.9273862274139724, 0.8242002202547337, 0.9266993052181681, 0.5132178483377617, 0.3576972882354097, 0.12441644808188163, 0.8242017261975053, 0.8242016886447181, 0.9574166971687003, 0.7183244100951328, 0.046343510328718245, 0.2085457964792321, 0.8238053627909265, 0.09925365816758151, 0.06947756071730705, 0.10050840730992996, 0.5025420365496498, 0.4522878328946849, 0.9501529380219729, 0.8478080109118773, 0.09679908167390254, 0.29039724502170766, 0.5807944900434153, 0.6765548758312796, 0.3122560965375137, 0.9574693791908508, 0.9571489070041734, 0.4456114305024188, 0.5092702062884786, 0.8475145847008877, 0.08475145847008878, 0.9274578222711279, 0.7277787048524353, 0.171242048200573, 0.0856210241002865, 0.847806353451008, 0.8139033853917234, 0.15651988180610063, 0.03130397636122013, 0.31400868415888494, 0.6280173683177699, 0.3950726708887871, 0.11287790596822489, 0.507950576857012, 0.695658817560061, 0.30918169669336043, 0.038647712086670054, 0.7674542129322869, 0.5228971411211325, 0.1742990470403775, 0.26144857056056625], \"Term\": [\"able\", \"able\", \"able\", \"account\", \"air\", \"alot\", \"amazing\", \"amazing\", \"amazing\", \"available\", \"awesome\", \"awesome\", \"awesome\", \"backward\", \"bad\", \"bad\", \"battery\", \"battery\", \"battery\", \"beast\", \"beautiful\", \"beautiful\", \"behold\", \"big\", \"big\", \"big\", \"box\", \"box\", \"box\", \"boy\", \"bug\", \"bug\", \"butter\", \"canadian\", \"charge\", \"child\", \"complaint\", \"complaint\", \"condition\", \"console\", \"console\", \"console\", \"controller\", \"controller\", \"controller\", \"day\", \"day\", \"day\", \"delivery\", \"delivery\", \"difference\", \"difference\", \"difference\", \"disappointing\", \"dollar\", \"door\", \"due\", \"due\", \"easy\", \"easy\", \"easy\", \"entire\", \"evolutionary\", \"excellent\", \"expansion\", \"expansion\", \"experience\", \"experience\", \"experience\", \"fantastic\", \"fantastic\", \"far\", \"fast\", \"fast\", \"fast\", \"feature\", \"feature\", \"feature\", \"feel\", \"few\", \"final\", \"foam\", \"fps\", \"framerate\", \"full\", \"fun\", \"fun\", \"functionality\", \"game\", \"game\", \"game\", \"gaming\", \"gaming\", \"gaming\", \"generation\", \"generation\", \"generation\", \"good\", \"good\", \"good\", \"graphic\", \"graphic\", \"graphic\", \"great\", \"great\", \"great\", \"hand\", \"hand\", \"hand\", \"happy\", \"happy\", \"happy\", \"hdr\", \"hdr\", \"heavy\", \"heavy\", \"high\", \"high\", \"hitch\", \"horizon\", \"horizon\", \"hour\", \"hour\", \"hour\", \"huge\", \"huge\", \"husband\", \"impressive\", \"industry\", \"internal\", \"issue\", \"issue\", \"job\", \"job\", \"know\", \"lack\", \"lack\", \"large\", \"last\", \"last\", \"last\", \"launch\", \"launch\", \"launch\", \"legacy\", \"lid\", \"load\", \"load\", \"loading\", \"loading\", \"look\", \"love\", \"love\", \"love\", \"lucky\", \"machine\", \"machine\", \"machine\", \"man\", \"medium\", \"minute\", \"money\", \"multiple\", \"new\", \"new\", \"new\", \"next\", \"next\", \"nice\", \"nice\", \"nice\", \"non\", \"obvious\", \"offer\", \"old\", \"old\", \"old\", \"open\", \"order\", \"order\", \"order\", \"overall\", \"overall\", \"pandemic\", \"party\", \"party\", \"pass\", \"pass\", \"performance\", \"performance\", \"play\", \"play\", \"play\", \"playing\", \"playing\", \"playstation\", \"playstation\", \"playstation\", \"point\", \"point\", \"port\", \"power\", \"power\", \"power\", \"powerful\", \"powerful\", \"powerful\", \"premium\", \"processing\", \"product\", \"product\", \"product\", \"purchase\", \"quick\", \"quick\", \"quick\", \"quiet\", \"quiet\", \"quiet\", \"rdna\", \"ready\", \"recharge\", \"release\", \"release\", \"release\", \"reliable\", \"respect\", \"resume\", \"resume\", \"review\", \"review\", \"room\", \"screw\", \"second\", \"second\", \"section\", \"series\", \"series\", \"series\", \"setup\", \"setup\", \"significant\", \"sleek\", \"slow\", \"software\", \"software\", \"solid\", \"solid\", \"solid\", \"spec\", \"spec\", \"speed\", \"speed\", \"speed\", \"ssd\", \"stable\", \"star\", \"steady\", \"stupid\", \"style\", \"system\", \"system\", \"system\", \"technical\", \"teraflop\", \"terrible\", \"thing\", \"thing\", \"thing\", \"time\", \"time\", \"time\", \"title\", \"title\", \"title\", \"travel\", \"unboxing\", \"update\", \"update\", \"update\", \"upgrade\", \"upgrade\", \"upscaling\", \"user\", \"value\", \"value\", \"video\", \"video\", \"want\", \"way\", \"way\", \"way\", \"weight\", \"well\", \"well\", \"well\", \"whole\", \"whole\", \"work\", \"work\", \"work\", \"worth\", \"worth\", \"worth\", \"xbox\", \"year\", \"year\", \"year\"]}, \"R\": 30, \"lambda.step\": 0.01, \"plot.opts\": {\"xlab\": \"PC1\", \"ylab\": \"PC2\"}, \"topic.order\": [1, 3, 2]};\n",
       "\n",
       "function LDAvis_load_lib(url, callback){\n",
       "  var s = document.createElement('script');\n",
       "  s.src = url;\n",
       "  s.async = true;\n",
       "  s.onreadystatechange = s.onload = callback;\n",
       "  s.onerror = function(){console.warn(\"failed to load library \" + url);};\n",
       "  document.getElementsByTagName(\"head\")[0].appendChild(s);\n",
       "}\n",
       "\n",
       "if(typeof(LDAvis) !== \"undefined\"){\n",
       "   // already loaded: just create the visualization\n",
       "   !function(LDAvis){\n",
       "       new LDAvis(\"#\" + \"ldavis_el1508018870371824643081923960\", ldavis_el1508018870371824643081923960_data);\n",
       "   }(LDAvis);\n",
       "}else if(typeof define === \"function\" && define.amd){\n",
       "   // require.js is available: use it to load d3/LDAvis\n",
       "   require.config({paths: {d3: \"https://cdnjs.cloudflare.com/ajax/libs/d3/3.5.5/d3.min\"}});\n",
       "   require([\"d3\"], function(d3){\n",
       "      window.d3 = d3;\n",
       "      LDAvis_load_lib(\"https://cdn.rawgit.com/bmabey/pyLDAvis/files/ldavis.v1.0.0.js\", function(){\n",
       "        new LDAvis(\"#\" + \"ldavis_el1508018870371824643081923960\", ldavis_el1508018870371824643081923960_data);\n",
       "      });\n",
       "    });\n",
       "}else{\n",
       "    // require.js not available: dynamically load d3 & LDAvis\n",
       "    LDAvis_load_lib(\"https://cdnjs.cloudflare.com/ajax/libs/d3/3.5.5/d3.min.js\", function(){\n",
       "         LDAvis_load_lib(\"https://cdn.rawgit.com/bmabey/pyLDAvis/files/ldavis.v1.0.0.js\", function(){\n",
       "                 new LDAvis(\"#\" + \"ldavis_el1508018870371824643081923960\", ldavis_el1508018870371824643081923960_data);\n",
       "            })\n",
       "         });\n",
       "}\n",
       "</script>"
      ],
      "text/plain": [
       "PreparedData(topic_coordinates=              x         y  topics  cluster       Freq\n",
       "topic                                                \n",
       "0      0.095814  0.036374       1        1  46.676213\n",
       "2     -0.010754 -0.088540       2        1  30.308409\n",
       "1     -0.085060  0.052166       3        1  23.015377, topic_info=        Term       Freq       Total Category  logprob  loglift\n",
       "76     great  96.000000   96.000000  Default  30.0000  30.0000\n",
       "12      load  47.000000   47.000000  Default  29.0000  29.0000\n",
       "67      fast  54.000000   54.000000  Default  28.0000  28.0000\n",
       "57       day  44.000000   44.000000  Default  27.0000  27.0000\n",
       "212      ssd  16.000000   16.000000  Default  26.0000  26.0000\n",
       "..       ...        ...         ...      ...      ...      ...\n",
       "144   system   8.179888   64.300180   Topic3  -5.0700  -0.5929\n",
       "76     great   8.435206   96.742253   Topic3  -5.0392  -0.9706\n",
       "24      time   7.296544  100.751954   Topic3  -5.1842  -1.1563\n",
       "31      good   6.774104   71.962508   Topic3  -5.2585  -0.8940\n",
       "1    amazing   6.162231   79.462890   Topic3  -5.3532  -1.0878\n",
       "\n",
       "[227 rows x 6 columns], token_table=      Topic      Freq     Term\n",
       "term                          \n",
       "0         1  0.437310     able\n",
       "0         2  0.437310     able\n",
       "0         3  0.097180     able\n",
       "184       2  0.824206  account\n",
       "1105      2  0.824202      air\n",
       "...     ...       ...      ...\n",
       "157       3  0.038648    worth\n",
       "996       3  0.767454     xbox\n",
       "158       1  0.522897     year\n",
       "158       2  0.174299     year\n",
       "158       3  0.261449     year\n",
       "\n",
       "[308 rows x 3 columns], R=30, lambda_step=0.01, plot_opts={'xlab': 'PC1', 'ylab': 'PC2'}, topic_order=[1, 3, 2])"
      ]
     },
     "execution_count": 193,
     "metadata": {},
     "output_type": "execute_result"
    }
   ],
   "source": [
    "pyLDAvis.enable_notebook()\n",
    "vis = pyLDAvis.gensim.prepare(lda_model, doc_term_matrix, dictionary)\n",
    "vis"
   ]
  },
  {
   "cell_type": "markdown",
   "metadata": {},
   "source": [
    "As can be seen above, there are 3 topics which are clearly separated.<br>Based on the words within each topic, I can take a reasonable guess as to what the topics are about:<br>         \n",
    "\n",
    "Topic 1: Topic seems to be on how fast the system has become: amazing, fast, load, quick, new, powerful<br>\n",
    "Topic 2: Topic on speed but also graphics of the system: Controller, ssd, speed, quiet, feature, launch, graphic<br>\n",
    "Topic 3: Topic seems to be on the size of the Xbox: new, experience, old, system, big, box<br>\n",
    "\n",
    "Generally, it seems that early reviews of the system are positive based on the speed of the new Xbox.<br>There were also \n",
    "some positie comments on the ssd, controller, and the graphics.<br>Finally, there were comments from the positive reviews\n",
    "on the size of the Xbox Series X as well."
   ]
  },
  {
   "cell_type": "markdown",
   "metadata": {},
   "source": [
    "#                                 Data Cleaning (Xbox Series X Negative Reviews)\n",
    "\n",
    "The following section is done in order to prepare the Xbox Series X negative reviews for the LDA model.<br>\n",
    "The data will need to be split, tokenized, and lemmatized in order to prepare it for the model.<br>\n",
    "Visualizations will also be built in order to take a better look at the data.<br>"
   ]
  },
  {
   "cell_type": "markdown",
   "metadata": {},
   "source": [
    "Below is a frequency bar graph of the Xbox Series X negative reviews:"
   ]
  },
  {
   "cell_type": "code",
   "execution_count": 194,
   "metadata": {},
   "outputs": [
    {
     "data": {
      "image/png": "[encoded data removed]",
      "text/plain": [
       "<Figure size 1440x360 with 1 Axes>"
      ]
     },
     "metadata": {
      "needs_background": "light"
     },
     "output_type": "display_data"
    }
   ],
   "source": [
    "freq_words(xboxseriesxreviews_negative['comment'])"
   ]
  },
  {
   "cell_type": "markdown",
   "metadata": {},
   "source": [
    "Looking above, it seems most of the most frequent words are \"the\", \"and\", and \"for\".<br>But these are not necessary words because these words don't show true sentiment.<br>The dataset will need to be cleaned further in order to prepare this dataset for the model."
   ]
  },
  {
   "cell_type": "markdown",
   "metadata": {},
   "source": [
    "This code removes the characters and samples from the text dataset:"
   ]
  },
  {
   "cell_type": "code",
   "execution_count": 195,
   "metadata": {},
   "outputs": [],
   "source": [
    "xboxseriesxreviews_negative['comment'] = xboxseriesxreviews_negative['comment'].str.replace(\"[^a-zA-Z#]\",\" \")"
   ]
  },
  {
   "cell_type": "markdown",
   "metadata": {},
   "source": [
    "The following code is run in order to remove short words (length < 3) to make the data cleaner:"
   ]
  },
  {
   "cell_type": "code",
   "execution_count": 196,
   "metadata": {},
   "outputs": [],
   "source": [
    "xboxseriesxreviews_negative['comment'] = xboxseriesxreviews_negative['comment'].apply(lambda x: ' '.join([w for w in x.split() if len(w) > 2]))"
   ]
  },
  {
   "cell_type": "markdown",
   "metadata": {},
   "source": [
    "The following removes the stopwords from the text:"
   ]
  },
  {
   "cell_type": "code",
   "execution_count": 197,
   "metadata": {},
   "outputs": [],
   "source": [
    "reviews = [remove_stopwords(r.split()) for r in xboxseriesxreviews_negative['comment']]"
   ]
  },
  {
   "cell_type": "markdown",
   "metadata": {},
   "source": [
    "The following makes the text lowercase:"
   ]
  },
  {
   "cell_type": "code",
   "execution_count": 198,
   "metadata": {},
   "outputs": [],
   "source": [
    "reviews = [r.lower() for r in reviews]"
   ]
  },
  {
   "cell_type": "code",
   "execution_count": 199,
   "metadata": {},
   "outputs": [
    {
     "data": {
      "image/png": "[encoded data removed]",
      "text/plain": [
       "<Figure size 1440x360 with 1 Axes>"
      ]
     },
     "metadata": {
      "needs_background": "light"
     },
     "output_type": "display_data"
    }
   ],
   "source": [
    "freq_words(reviews, 20)"
   ]
  },
  {
   "cell_type": "markdown",
   "metadata": {},
   "source": [
    "Re-running a frequency bar graph on the data, it seems the stopwords have been removed and the reviews are getting close to being used for the model.<br>The next step is to lemmatize the data."
   ]
  },
  {
   "cell_type": "markdown",
   "metadata": {},
   "source": [
    "Below, the following code splits the text into tokens: "
   ]
  },
  {
   "cell_type": "code",
   "execution_count": 200,
   "metadata": {},
   "outputs": [
    {
     "name": "stdout",
     "output_type": "stream",
     "text": [
      "['console', 'powered', 'first', 'day', 'sending', 'back', 'xbox']\n"
     ]
    }
   ],
   "source": [
    "tokenized_reviews = pd.Series(reviews).apply(lambda x: x.split())\n",
    "print(tokenized_reviews[1])"
   ]
  },
  {
   "cell_type": "markdown",
   "metadata": {},
   "source": [
    "Below, the reviews is then lemmatized:"
   ]
  },
  {
   "cell_type": "code",
   "execution_count": 201,
   "metadata": {},
   "outputs": [
    {
     "name": "stdout",
     "output_type": "stream",
     "text": [
      "['first', 'day']\n"
     ]
    }
   ],
   "source": [
    "reviews_2 = lemmatization(tokenized_reviews)\n",
    "print(reviews_2[1]) "
   ]
  },
  {
   "cell_type": "markdown",
   "metadata": {},
   "source": [
    "The following code is run in order to append the reviews to a new dataframe in order to show a frequency graph \n",
    "of the lemmatized reviews later on:"
   ]
  },
  {
   "cell_type": "code",
   "execution_count": 202,
   "metadata": {},
   "outputs": [],
   "source": [
    "reviews_3 = []\n",
    "for i in range(len(reviews_2)):\n",
    "    reviews_3.append(' '.join(reviews_2[i]))\n",
    "\n",
    "xboxseriesxreviews_negative['reviews'] = reviews_3"
   ]
  },
  {
   "cell_type": "code",
   "execution_count": 203,
   "metadata": {},
   "outputs": [
    {
     "data": {
      "image/png": "[encoded data removed]",
      "text/plain": [
       "<Figure size 1440x360 with 1 Axes>"
      ]
     },
     "metadata": {
      "needs_background": "light"
     },
     "output_type": "display_data"
    }
   ],
   "source": [
    "freq_words(xboxseriesxreviews_negative['reviews'], 20)"
   ]
  },
  {
   "cell_type": "markdown",
   "metadata": {},
   "source": [
    "As can be seen, the tokens are now clearer as words such as \"game\", \"system\", and \"hour\" are now clearly showing in the dataset.<br>The dataset is now ready for model building."
   ]
  },
  {
   "cell_type": "markdown",
   "metadata": {},
   "source": [
    "#                                             LDA Model (Xbox Series X Negative Reviews)"
   ]
  },
  {
   "cell_type": "markdown",
   "metadata": {},
   "source": [
    "The code below is run in order to incorporate the reviews into a dictionary in order to set up the LDA Model.\n"
   ]
  },
  {
   "cell_type": "code",
   "execution_count": 204,
   "metadata": {},
   "outputs": [],
   "source": [
    "dictionary = corpora.Dictionary(reviews_2)\n",
    "doc_term_matrix = [dictionary.doc2bow(rev) for rev in reviews_2]"
   ]
  },
  {
   "cell_type": "markdown",
   "metadata": {},
   "source": [
    "Next, the LDA Model is imported and the next lines of code are run in order to build the model.\n",
    "The number of topics chosen through trial and error were 5."
   ]
  },
  {
   "cell_type": "code",
   "execution_count": 205,
   "metadata": {},
   "outputs": [],
   "source": [
    "LDA = gensim.models.ldamodel.LdaModel\n",
    "\n",
    "lda_model = LDA(corpus = doc_term_matrix, \n",
    "                id2word = dictionary,\n",
    "                num_topics = 5,\n",
    "                random_state = 100,\n",
    "                chunksize = 1000,\n",
    "                passes = 50)"
   ]
  },
  {
   "cell_type": "markdown",
   "metadata": {},
   "source": [
    "Below, this code is being run to print the topics and the words associated with it:"
   ]
  },
  {
   "cell_type": "code",
   "execution_count": 206,
   "metadata": {},
   "outputs": [
    {
     "data": {
      "text/plain": [
       "[(0,\n",
       "  '0.044*\"console\" + 0.023*\"day\" + 0.019*\"power\" + 0.019*\"work\" + 0.015*\"shut\" + 0.012*\"fine\" + 0.012*\"series\" + 0.012*\"problem\" + 0.012*\"hour\" + 0.012*\"min\"'),\n",
       " (1,\n",
       "  '0.026*\"game\" + 0.018*\"hour\" + 0.018*\"day\" + 0.013*\"people\" + 0.013*\"great\" + 0.013*\"first\" + 0.013*\"problem\" + 0.009*\"terrible\" + 0.009*\"expensive\" + 0.009*\"week\"'),\n",
       " (2,\n",
       "  '0.027*\"call\" + 0.023*\"hour\" + 0.020*\"week\" + 0.017*\"service\" + 0.014*\"minute\" + 0.014*\"time\" + 0.014*\"request\" + 0.014*\"customer\" + 0.014*\"form\" + 0.013*\"issue\"'),\n",
       " (3,\n",
       "  '0.057*\"game\" + 0.031*\"system\" + 0.019*\"console\" + 0.018*\"good\" + 0.017*\"time\" + 0.015*\"slim\" + 0.015*\"next\" + 0.011*\"year\" + 0.011*\"issue\" + 0.011*\"reason\"'),\n",
       " (4,\n",
       "  '0.041*\"game\" + 0.018*\"year\" + 0.018*\"new\" + 0.015*\"people\" + 0.015*\"price\" + 0.015*\"money\" + 0.015*\"system\" + 0.013*\"issue\" + 0.012*\"time\" + 0.009*\"controller\"')]"
      ]
     },
     "execution_count": 206,
     "metadata": {},
     "output_type": "execute_result"
    }
   ],
   "source": [
    "lda_model.print_topics()"
   ]
  },
  {
   "cell_type": "markdown",
   "metadata": {},
   "source": [
    "This code is run to visualize the LDA model into a graphical bubble plot:"
   ]
  },
  {
   "cell_type": "code",
   "execution_count": 207,
   "metadata": {},
   "outputs": [
    {
     "data": {
      "text/html": [
       "\n",
       "<link rel=\"stylesheet\" type=\"text/css\" href=\"https://cdn.rawgit.com/bmabey/pyLDAvis/files/ldavis.v1.0.0.css\">\n",
       "\n",
       "\n",
       "<div id=\"ldavis_el1508018870050004166756284071\"></div>\n",
       "<script type=\"text/javascript\">\n",
       "\n",
       "var ldavis_el1508018870050004166756284071_data = {\"mdsDat\": {\"x\": [-0.12622711166168332, -0.07644973513827771, 0.12414317312513333, 0.05315933159041968, 0.025374342084407957], \"y\": [-0.08621651790245519, 0.11322043464354954, -0.0029871498104201456, -0.04487840009508603, 0.020861633164411787], \"topics\": [1, 2, 3, 4, 5], \"cluster\": [1, 1, 1, 1, 1], \"Freq\": [37.44543320140446, 19.37492272462689, 17.612890019857165, 14.482899481116748, 11.083854572994728]}, \"tinfo\": {\"Term\": [\"console\", \"call\", \"hour\", \"system\", \"game\", \"week\", \"day\", \"work\", \"problem\", \"power\", \"new\", \"service\", \"shut\", \"good\", \"people\", \"great\", \"form\", \"price\", \"customer\", \"minute\", \"request\", \"slim\", \"first\", \"min\", \"money\", \"support\", \"release\", \"replacement\", \"online\", \"fine\", \"slim\", \"hdr\", \"auto\", \"difference\", \"huge\", \"update\", \"speed\", \"well\", \"unit\", \"file\", \"good\", \"system\", \"quick\", \"external\", \"critique\", \"non\", \"movie\", \"upgrading\", \"reward\", \"harddrive\", \"weird\", \"pocket\", \"upgrade\", \"right\", \"poor\", \"massive\", \"gaming\", \"fast\", \"exact\", \"standard\", \"real\", \"monitor\", \"game\", \"next\", \"reason\", \"many\", \"hardware\", \"time\", \"worth\", \"due\", \"console\", \"great\", \"year\", \"issue\", \"play\", \"thing\", \"price\", \"support\", \"day\", \"digital\", \"physical\", \"license\", \"mine\", \"warranty\", \"battery\", \"kind\", \"machine\", \"playing\", \"hot\", \"illegal\", \"love\", \"pay\", \"today\", \"new\", \"kid\", \"technology\", \"blame\", \"empower\", \"family\", \"season\", \"sign\", \"transfer\", \"amount\", \"owner\", \"licensing\", \"loan\", \"protection\", \"nope\", \"master\", \"rip\", \"old\", \"money\", \"price\", \"original\", \"people\", \"year\", \"game\", \"controller\", \"little\", \"issue\", \"system\", \"month\", \"time\", \"great\", \"console\", \"way\", \"form\", \"call\", \"email\", \"phone\", \"queue\", \"hold\", \"resubmit\", \"full\", \"hoop\", \"purolator\", \"gift\", \"hand\", \"annoying\", \"scam\", \"card\", \"customer\", \"request\", \"service\", \"online\", \"week\", \"factory\", \"refill\", \"frustrating\", \"jump\", \"success\", \"agent\", \"hop\", \"cable\", \"square\", \"tomorrow\", \"hour\", \"bit\", \"minute\", \"star\", \"excited\", \"address\", \"support\", \"release\", \"option\", \"month\", \"issue\", \"time\", \"day\", \"game\", \"thing\", \"replacement\", \"next\", \"console\", \"bad\", \"series\", \"min\", \"work\", \"bug\", \"disc\", \"available\", \"shut\", \"official\", \"preorder\", \"solution\", \"mood\", \"switch\", \"bunch\", \"testing\", \"word\", \"resolution\", \"affect\", \"total\", \"purchasing\", \"ecstatic\", \"setup\", \"lesson\", \"beast\", \"used\", \"return\", \"stuttering\", \"eject\", \"patch\", \"cycle\", \"event\", \"talk\", \"power\", \"cord\", \"console\", \"problem\", \"boot\", \"fine\", \"day\", \"series\", \"turn\", \"hour\", \"box\", \"product\", \"minute\", \"play\", \"good\", \"money\", \"thing\", \"next\", \"time\", \"game\", \"complete\", \"buy\", \"waiting\", \"middle\", \"poop\", \"disappointed\", \"stupid\", \"different\", \"faulty\", \"extra\", \"expedited\", \"robot\", \"feedback\", \"half\", \"freeze\", \"consul\", \"tech\", \"running\", \"app\", \"ton\", \"scalper\", \"distribution\", \"execution\", \"horrible\", \"receive\", \"close\", \"campaign\", \"multiplayer\", \"guess\", \"didn\", \"troll\", \"feed\", \"replenish\", \"dead\", \"gameplay\", \"expensive\", \"item\", \"terrible\", \"problem\", \"first\", \"release\", \"stock\", \"hour\", \"day\", \"great\", \"people\", \"game\", \"replacement\", \"way\", \"week\", \"next\", \"unacceptable\", \"lot\", \"box\", \"look\", \"controller\", \"duty\", \"power\", \"control\", \"sound\", \"headset\", \"order\", \"supply\"], \"Freq\": [20.0, 6.0, 9.0, 17.0, 40.0, 6.0, 11.0, 4.0, 4.0, 5.0, 6.0, 5.0, 3.0, 9.0, 8.0, 8.0, 3.0, 7.0, 3.0, 5.0, 4.0, 7.0, 4.0, 2.0, 7.0, 5.0, 3.0, 4.0, 3.0, 4.0, 6.600577621670454, 4.185711834599958, 4.185711424484334, 4.185708963790587, 4.185707733443713, 3.3807537014337545, 3.3807498053353213, 3.3807217124150384, 3.37723306385463, 2.5757980289612985, 8.131126261757872, 13.844771839222988, 1.7708398957950946, 1.7708396907372823, 1.7708396907372823, 1.7708396907372823, 1.7708396907372823, 1.77083948567947, 1.7708392806216577, 1.7708392806216577, 1.7708392806216577, 1.7708382553325963, 1.7708376401591595, 1.7708357946388489, 1.7708345642919752, 1.7708300530201049, 1.7708269771529206, 1.7708185697826169, 1.7708185697826169, 1.7707705862545422, 3.3828278612050195, 3.381767712315505, 25.03797227657342, 6.557157040034686, 4.993199150822888, 3.089121095975169, 2.576219832881169, 7.386206185219405, 3.383341531024794, 2.5762145013780495, 8.417809386801329, 4.18597307825281, 4.9967671567566505, 4.995108239055264, 3.380106949093807, 3.3398547157156577, 3.3692130477583433, 2.8946438566882535, 2.9709222869911667, 2.131875056140139, 1.4656520719519106, 1.4656520719519106, 1.4656491011378494, 1.4656460242232863, 1.46564475101726, 1.4656392337911466, 1.4656379605851204, 1.4656352019720635, 1.4656254407258629, 1.4656178014897057, 1.4656169526856881, 1.4655574303039638, 1.4633624231148141, 4.133273656324471, 2.1296325159260117, 0.7994257455978635, 0.7994256394973613, 0.7994256394973613, 0.7994256394973613, 0.7994256394973613, 0.7994256394973613, 0.7994256394973613, 0.7994256394973613, 0.7994256394973613, 0.7994255864471103, 0.7994255864471103, 0.7994241540903307, 0.7994238888390753, 0.7994236766380709, 1.4681966802957513, 1.465941938523873, 3.4650613938208243, 3.473817868265939, 1.4673066031829431, 3.4739804142352826, 4.1383117325701, 9.280010821455159, 2.134190169097759, 1.466446234210746, 2.9924513487185753, 3.462018219217229, 1.4660115404533047, 2.79804955239887, 2.1299807377741744, 2.122283570742849, 1.466331645668389, 2.8188013829958534, 5.506518119568062, 1.476499931587518, 1.476499931587518, 1.4764997386849188, 1.4764997386849188, 1.4764997386849188, 1.4764996422336192, 1.4764996422336192, 1.4764950125712395, 1.4764902864575602, 1.4764786158503116, 1.4764277860154345, 1.4764219989374598, 1.4756822174697057, 2.8191520799211145, 2.8197373464069466, 3.4916041747848223, 2.146922401754231, 4.15892139536166, 0.8053458783135148, 0.8053458783135148, 0.8053458783135148, 0.8053457818622153, 0.8053457818622153, 0.8053457818622153, 0.8053457818622153, 0.8053457818622153, 0.8053457818622153, 0.8053457336365655, 4.834061587944574, 2.152087754651767, 2.8226816187778283, 1.4758744449097625, 1.4739918119933229, 1.476878695840956, 2.5529509298489153, 1.4769916403127605, 1.4786492523472874, 1.4755056151401806, 2.6264155699053773, 2.8203978449064486, 1.8114705689040802, 1.719075818084877, 1.4793065679539035, 1.4787148392309997, 1.478606524421575, 1.4784957983296607, 1.4776751906728613, 1.4769003009320614, 1.9861362094797503, 3.235059035760024, 1.36887297594888, 1.3688712311086835, 1.3688639345042248, 2.6143172253644633, 0.7466424203110236, 0.7466424203110236, 0.7466424203110236, 0.7466424203110236, 0.7466423410001055, 0.7466423410001055, 0.7466423410001055, 0.7466423410001055, 0.7466423410001055, 0.7466423410001055, 0.7466423410001055, 0.7466422616891875, 0.7466422616891875, 0.7466405168489909, 0.7466405168489909, 0.7466405168489909, 0.7466405168489909, 0.7466405168489909, 0.7466403582271548, 0.7466403582271548, 0.7466403582271548, 0.746637899588696, 0.746637899588696, 0.7466366306140075, 3.2478769490879715, 1.3696567264408288, 7.447175919170446, 1.9913629575996048, 1.369237964793643, 1.992504400331858, 3.8678246985722398, 1.9923478405796715, 1.369430848946286, 1.9895889309851635, 1.3722817592057062, 1.3719359636031059, 1.3670294729702466, 1.3689264315076306, 1.43018919840703, 0.797590485077262, 0.7844544556571056, 0.7822313706247921, 0.7601514489786638, 0.7527687128631471, 0.7497025527722002, 0.7479707988770677, 0.7472723869329168, 0.7472403453220335, 1.2071306600796312, 1.20712896055951, 0.6584223191168235, 0.6584223191168235, 0.6584223191168235, 0.6584223191168235, 0.6584222584196763, 0.6584207409909967, 0.6584207409909967, 0.658420194716672, 0.658420194716672, 0.658420194716672, 0.658420194716672, 0.6584200733223776, 0.6584200733223776, 0.6584200733223776, 0.6584180703165206, 0.6584180703165206, 0.6584180703165206, 0.6584180703165206, 0.6584175847393431, 0.6584175847393431, 0.6584175847393431, 0.6584163707963994, 0.6584163707963994, 0.6584163707963994, 0.658414610579131, 0.658414610579131, 0.658414610579131, 0.6584119399046549, 0.6584119399046549, 1.208102542800355, 1.206811393085439, 1.2090448053132523, 1.7556061060886905, 1.7568631440068887, 1.206729330542445, 1.2052041326279843, 2.303357435131835, 2.3030767715232523, 1.7570423219853784, 1.759102504555126, 3.3989625500025715, 1.205481761379208, 1.2060287640696377, 1.2079891605294135, 1.203608404628495, 0.661954528900098, 0.6609053787110081, 0.6596805709779652, 0.6592059799841269, 0.6589452857369681, 0.6589149978605228, 0.6588133908361354, 0.6587735735075821, 0.6586948493076834, 0.6586948493076834, 0.6586298426630485, 0.6584876899443416], \"Total\": [20.0, 6.0, 9.0, 17.0, 40.0, 6.0, 11.0, 4.0, 4.0, 5.0, 6.0, 5.0, 3.0, 9.0, 8.0, 8.0, 3.0, 7.0, 3.0, 5.0, 4.0, 7.0, 4.0, 2.0, 7.0, 5.0, 3.0, 4.0, 3.0, 4.0, 7.102245437176208, 4.687377015610645, 4.687376749502603, 4.687375061294068, 4.687375443143824, 3.882418769132776, 3.882417061990025, 3.8824061427703445, 3.881810943019002, 3.0774619964657663, 9.938570018850879, 17.67786084363759, 2.272503065259911, 2.2725029763617983, 2.2725029875623015, 2.272503016004242, 2.272503026434328, 2.27250282088103, 2.2725027241001943, 2.272502746425891, 2.272502780353811, 2.272502340916475, 2.2725019978219874, 2.272501222100778, 2.272501202431839, 2.272499137046281, 2.2724976891176794, 2.272494519406601, 2.272494519406601, 2.272476042522529, 4.548956059573879, 4.54877485295012, 40.18879017897917, 10.154877745483283, 7.996248643566604, 4.5050525454024, 3.6262808187586977, 13.874553159389839, 5.215261635349071, 3.699755799168424, 20.11610698992786, 8.331878391312138, 11.332929809032178, 12.012732935360454, 6.459143138301846, 6.503354327189349, 7.211489507686378, 5.815034560902136, 11.750448353736374, 2.661285984472785, 1.9950628567119242, 1.9950629197357928, 1.995062096704552, 1.995061230397219, 1.9950609492811797, 1.9950597200488498, 1.9950591605842032, 1.9950586146181213, 1.9950559400870822, 1.9950543818923683, 1.9950538441557577, 1.9950401557708906, 1.9950430821603737, 6.086899591155117, 3.3324044826327786, 1.3288366943682437, 1.328836615498441, 1.3288366199677097, 1.3288366230855844, 1.3288366230855844, 1.3288366262034585, 1.3288366396112656, 1.32883664272914, 1.3288366788983774, 1.3288366561967, 1.3288366736977082, 1.3288364090646112, 1.328836445223667, 1.328836094007611, 2.5441911123268772, 2.6172799448974446, 7.015616107287048, 7.211489507686378, 2.799587154468796, 8.724041719119931, 11.332929809032178, 40.18879017897917, 5.307962714309849, 3.6047373967695666, 12.012732935360454, 17.67786084363759, 3.9595569935718196, 13.874553159389839, 8.331878391312138, 20.11610698992786, 4.5199251468745185, 3.3472262412562777, 6.581277992117029, 2.004923838648683, 2.004923891078695, 2.0049237373604925, 2.0049238111943937, 2.0049238943980847, 2.0049238530692897, 2.004923877767057, 2.004922395286589, 2.0049212135449257, 2.0049183001403263, 2.0049046531129715, 2.004903189632434, 2.0049056670686616, 3.9696593263684825, 4.151922804904592, 5.189741625555888, 3.298461472813159, 6.4091534358391655, 1.3337693596616875, 1.3337693865986586, 1.3337693933936803, 1.3337692825916678, 1.3337693005076736, 1.3337693151064332, 1.33376931753078, 1.333769328020172, 1.3337693408677374, 1.3337692874131177, 9.422509434801519, 3.891509190984867, 5.257995980367222, 2.6275433166382274, 2.627089939800286, 2.8097319323197367, 5.815034560902136, 3.1024078124156227, 3.358798920695314, 3.9595569935718196, 12.012732935360454, 13.874553159389839, 11.750448353736374, 40.18879017897917, 6.503354327189349, 4.435093649223931, 10.154877745483283, 20.11610698992786, 4.6473345331943285, 6.69647696763348, 2.5306891114105214, 4.444918582690565, 1.9070831391051757, 1.907082915692175, 1.9070813375917892, 3.7003413452809837, 1.2848521594587448, 1.2848521703090068, 1.2848522040659436, 1.2848522076843945, 1.2848521283734764, 1.2848521392237386, 1.2848521428421895, 1.2848521524863015, 1.284852176599126, 1.284852179011427, 1.2848522187991152, 1.2848521587764208, 1.284852173245134, 1.284851707658961, 1.284851707658961, 1.2848517549005944, 1.2848517549005944, 1.2848517549005944, 1.284851810831776, 1.2848518373569013, 1.2848518506194642, 1.2848511175733464, 1.2848511175733464, 1.2848510309622714, 5.823583245017429, 2.5732088007597036, 20.11610698992786, 4.175443887198989, 2.7118591909174263, 4.55385560473749, 11.750448353736374, 6.69647696763348, 4.054204530972152, 9.422509434801519, 4.7302691990745185, 4.987753561208674, 5.257995980367222, 6.459143138301846, 9.938570018850879, 7.015616107287048, 6.503354327189349, 10.154877745483283, 13.874553159389839, 40.18879017897917, 2.6375141178319517, 2.759820796120117, 1.9509938362455954, 4.095853988975361, 1.760046763450835, 1.7600466216802777, 1.2113376854016322, 1.2113376986641948, 1.2113376986641948, 1.2113377251893205, 1.211337730804987, 1.2113376168093395, 1.2113376168093395, 1.2113375666941162, 1.2113375666941162, 1.2113375666941162, 1.2113375787505287, 1.2113375640399444, 1.2113375640399444, 1.2113375640399444, 1.2113375021295623, 1.2113375021295623, 1.2113375021295623, 1.2113375021295623, 1.2113374202427512, 1.2113374202427512, 1.211337430156616, 1.2113372847004165, 1.2113372847004165, 1.2113372847004165, 1.2113371651993163, 1.2113371651993163, 1.2113371651993163, 1.2113370627398754, 1.2113370627398754, 2.3821145747189094, 2.426295467436007, 2.562171487831976, 4.175443887198989, 4.406804044203657, 3.1024078124156227, 3.2365586537252504, 9.422509434801519, 11.750448353736374, 8.331878391312138, 8.724041719119931, 40.18879017897917, 4.435093649223931, 4.5199251468745185, 6.4091534358391655, 10.154877745483283, 2.012015715636616, 1.8769745905688202, 4.7302691990745185, 2.8208083084071065, 5.307962714309849, 1.8774183588707865, 5.823583245017429, 1.8774378003274104, 1.8774612847894045, 1.8774612847894045, 2.548591811023366, 1.8775080238097939], \"Category\": [\"Default\", \"Default\", \"Default\", \"Default\", \"Default\", \"Default\", \"Default\", \"Default\", \"Default\", \"Default\", \"Default\", \"Default\", \"Default\", \"Default\", \"Default\", \"Default\", \"Default\", \"Default\", \"Default\", \"Default\", \"Default\", \"Default\", \"Default\", \"Default\", \"Default\", \"Default\", \"Default\", \"Default\", \"Default\", \"Default\", \"Topic1\", \"Topic1\", \"Topic1\", \"Topic1\", \"Topic1\", \"Topic1\", \"Topic1\", \"Topic1\", \"Topic1\", \"Topic1\", \"Topic1\", \"Topic1\", \"Topic1\", \"Topic1\", \"Topic1\", \"Topic1\", \"Topic1\", \"Topic1\", \"Topic1\", \"Topic1\", \"Topic1\", \"Topic1\", \"Topic1\", \"Topic1\", \"Topic1\", \"Topic1\", \"Topic1\", \"Topic1\", \"Topic1\", \"Topic1\", \"Topic1\", \"Topic1\", \"Topic1\", \"Topic1\", \"Topic1\", \"Topic1\", \"Topic1\", \"Topic1\", \"Topic1\", \"Topic1\", \"Topic1\", \"Topic1\", \"Topic1\", \"Topic1\", \"Topic1\", \"Topic1\", \"Topic1\", \"Topic1\", \"Topic1\", \"Topic2\", \"Topic2\", \"Topic2\", \"Topic2\", \"Topic2\", \"Topic2\", \"Topic2\", \"Topic2\", \"Topic2\", \"Topic2\", \"Topic2\", \"Topic2\", \"Topic2\", \"Topic2\", \"Topic2\", \"Topic2\", \"Topic2\", \"Topic2\", \"Topic2\", \"Topic2\", \"Topic2\", \"Topic2\", \"Topic2\", \"Topic2\", \"Topic2\", \"Topic2\", \"Topic2\", \"Topic2\", \"Topic2\", \"Topic2\", \"Topic2\", \"Topic2\", \"Topic2\", \"Topic2\", \"Topic2\", \"Topic2\", \"Topic2\", \"Topic2\", \"Topic2\", \"Topic2\", \"Topic2\", \"Topic2\", \"Topic2\", \"Topic2\", \"Topic2\", \"Topic2\", \"Topic2\", \"Topic3\", \"Topic3\", \"Topic3\", \"Topic3\", \"Topic3\", \"Topic3\", \"Topic3\", \"Topic3\", \"Topic3\", \"Topic3\", \"Topic3\", \"Topic3\", \"Topic3\", \"Topic3\", \"Topic3\", \"Topic3\", \"Topic3\", \"Topic3\", \"Topic3\", \"Topic3\", \"Topic3\", \"Topic3\", \"Topic3\", \"Topic3\", \"Topic3\", \"Topic3\", \"Topic3\", \"Topic3\", \"Topic3\", \"Topic3\", \"Topic3\", \"Topic3\", \"Topic3\", \"Topic3\", \"Topic3\", \"Topic3\", \"Topic3\", \"Topic3\", \"Topic3\", \"Topic3\", \"Topic3\", \"Topic3\", \"Topic3\", \"Topic3\", \"Topic3\", \"Topic3\", \"Topic3\", \"Topic3\", \"Topic3\", \"Topic3\", \"Topic4\", \"Topic4\", \"Topic4\", \"Topic4\", \"Topic4\", \"Topic4\", \"Topic4\", \"Topic4\", \"Topic4\", \"Topic4\", \"Topic4\", \"Topic4\", \"Topic4\", \"Topic4\", \"Topic4\", \"Topic4\", \"Topic4\", \"Topic4\", \"Topic4\", \"Topic4\", \"Topic4\", \"Topic4\", \"Topic4\", \"Topic4\", \"Topic4\", \"Topic4\", \"Topic4\", \"Topic4\", \"Topic4\", \"Topic4\", \"Topic4\", \"Topic4\", \"Topic4\", \"Topic4\", \"Topic4\", \"Topic4\", \"Topic4\", \"Topic4\", \"Topic4\", \"Topic4\", \"Topic4\", \"Topic4\", \"Topic4\", \"Topic4\", \"Topic4\", \"Topic4\", \"Topic4\", \"Topic4\", \"Topic4\", \"Topic4\", \"Topic4\", \"Topic4\", \"Topic4\", \"Topic4\", \"Topic5\", \"Topic5\", \"Topic5\", \"Topic5\", \"Topic5\", \"Topic5\", \"Topic5\", \"Topic5\", \"Topic5\", \"Topic5\", \"Topic5\", \"Topic5\", \"Topic5\", \"Topic5\", \"Topic5\", \"Topic5\", \"Topic5\", \"Topic5\", \"Topic5\", \"Topic5\", \"Topic5\", \"Topic5\", \"Topic5\", \"Topic5\", \"Topic5\", \"Topic5\", \"Topic5\", \"Topic5\", \"Topic5\", \"Topic5\", \"Topic5\", \"Topic5\", \"Topic5\", \"Topic5\", \"Topic5\", \"Topic5\", \"Topic5\", \"Topic5\", \"Topic5\", \"Topic5\", \"Topic5\", \"Topic5\", \"Topic5\", \"Topic5\", \"Topic5\", \"Topic5\", \"Topic5\", \"Topic5\", \"Topic5\", \"Topic5\", \"Topic5\", \"Topic5\", \"Topic5\", \"Topic5\", \"Topic5\", \"Topic5\", \"Topic5\", \"Topic5\", \"Topic5\"], \"logprob\": [30.0, 29.0, 28.0, 27.0, 26.0, 25.0, 24.0, 23.0, 22.0, 21.0, 20.0, 19.0, 18.0, 17.0, 16.0, 15.0, 14.0, 13.0, 12.0, 11.0, 10.0, 9.0, 8.0, 7.0, 6.0, 5.0, 4.0, 3.0, 2.0, 1.0, -4.200399875640869, -4.655900001525879, -4.655900001525879, -4.655900001525879, -4.655900001525879, -4.869500160217285, -4.869500160217285, -4.869500160217285, -4.870500087738037, -5.14139986038208, -3.9918999671936035, -3.459700107574463, -5.51609992980957, -5.51609992980957, -5.51609992980957, -5.51609992980957, -5.51609992980957, -5.51609992980957, -5.51609992980957, -5.51609992980957, -5.51609992980957, -5.51609992980957, -5.51609992980957, -5.51609992980957, -5.51609992980957, -5.51609992980957, -5.51609992980957, -5.51609992980957, -5.51609992980957, -5.516200065612793, -4.868899822235107, -4.869200229644775, -2.8671998977661133, -4.206999778747559, -4.479499816894531, -4.959700107574463, -5.141300201416016, -4.0879998207092285, -4.86870002746582, -5.141300201416016, -3.957200050354004, -4.655799865722656, -4.478799819946289, -4.479100227355957, -4.869699954986572, -4.881700038909912, -4.872900009155273, -5.024700164794922, -4.998700141906738, -4.6717000007629395, -5.04640007019043, -5.04640007019043, -5.04640007019043, -5.04640007019043, -5.04640007019043, -5.04640007019043, -5.04640007019043, -5.04640007019043, -5.04640007019043, -5.04640007019043, -5.04640007019043, -5.04640007019043, -5.047900199890137, -4.0096001625061035, -4.672699928283691, -5.652500152587891, -5.652500152587891, -5.652500152587891, -5.652500152587891, -5.652500152587891, -5.652500152587891, -5.652500152587891, -5.652500152587891, -5.652500152587891, -5.652500152587891, -5.652500152587891, -5.652500152587891, -5.652500152587891, -5.652500152587891, -5.044600009918213, -5.046199798583984, -4.185999870300293, -4.1834001541137695, -5.045300006866455, -4.1834001541137695, -4.008399963378906, -3.2007999420166016, -4.670599937438965, -5.04580020904541, -4.332600116729736, -4.186800003051758, -5.04610013961792, -4.399799823760986, -4.672599792480469, -4.676199913024902, -5.045899868011475, -4.296999931335449, -3.6273999214172363, -4.943699836730957, -4.943699836730957, -4.943699836730957, -4.943699836730957, -4.943699836730957, -4.943699836730957, -4.943699836730957, -4.943699836730957, -4.943699836730957, -4.943699836730957, -4.943699836730957, -4.943699836730957, -4.944200038909912, -4.296899795532227, -4.2967000007629395, -4.083000183105469, -4.569300174713135, -3.908099889755249, -5.549799919128418, -5.549799919128418, -5.549799919128418, -5.549799919128418, -5.549799919128418, -5.549799919128418, -5.549799919128418, -5.549799919128418, -5.549799919128418, -5.549799919128418, -3.7576000690460205, -4.56689977645874, -4.295599937438965, -4.9440999031066895, -4.945400238037109, -4.943399906158447, -4.396100044250488, -4.943299770355225, -4.942200183868408, -4.944300174713135, -4.367700099945068, -4.296500205993652, -4.739200115203857, -4.791500091552734, -4.941800117492676, -4.942200183868408, -4.942200183868408, -4.942299842834473, -4.94290018081665, -4.943399906158447, -4.451499938964844, -3.963599920272827, -4.823699951171875, -4.823699951171875, -4.823699951171875, -4.176700115203857, -5.429800033569336, -5.429800033569336, -5.429800033569336, -5.429800033569336, -5.429800033569336, -5.429800033569336, -5.429800033569336, -5.429800033569336, -5.429800033569336, -5.429800033569336, -5.429800033569336, -5.429800033569336, -5.429800033569336, -5.429800033569336, -5.429800033569336, -5.429800033569336, -5.429800033569336, -5.429800033569336, -5.429800033569336, -5.429800033569336, -5.429800033569336, -5.429800033569336, -5.429800033569336, -5.429800033569336, -3.959700107574463, -4.8231000900268555, -3.1298000812530518, -4.44890022277832, -4.823400020599365, -4.448299884796143, -3.7850000858306885, -4.448400020599365, -4.823299884796143, -4.449699878692627, -4.821199893951416, -4.821400165557861, -4.824999809265137, -4.823599815368652, -4.779900074005127, -5.363800048828125, -5.38040018081665, -5.383299827575684, -5.411900043487549, -5.4217000007629395, -5.42579984664917, -5.428100109100342, -5.428999900817871, -5.428999900817871, -4.6819000244140625, -4.6819000244140625, -5.288099765777588, -5.288099765777588, -5.288099765777588, -5.288099765777588, -5.288099765777588, -5.288099765777588, -5.288099765777588, -5.288099765777588, -5.288099765777588, -5.288099765777588, -5.288099765777588, -5.288099765777588, -5.288099765777588, -5.288099765777588, -5.288099765777588, -5.288099765777588, -5.288099765777588, -5.288099765777588, -5.288099765777588, -5.288099765777588, -5.288099765777588, -5.288099765777588, -5.288099765777588, -5.288099765777588, -5.288099765777588, -5.288099765777588, -5.288099765777588, -5.288099765777588, -5.288099765777588, -4.681099891662598, -4.682199954986572, -4.6803998947143555, -4.307400226593018, -4.306700229644775, -4.682300090789795, -4.683499813079834, -4.035799980163574, -4.035900115966797, -4.306600093841553, -4.3053998947143555, -3.646699905395508, -4.683300018310547, -4.6828999519348145, -4.68120002746582, -4.684899806976318, -5.282800197601318, -5.284299850463867, -5.286200046539307, -5.286900043487549, -5.287300109863281, -5.287399768829346, -5.287499904632568, -5.287600040435791, -5.287700176239014, -5.287700176239014, -5.287799835205078, -5.288000106811523], \"loglift\": [30.0, 29.0, 28.0, 27.0, 26.0, 25.0, 24.0, 23.0, 22.0, 21.0, 20.0, 19.0, 18.0, 17.0, 16.0, 15.0, 14.0, 13.0, 12.0, 11.0, 10.0, 9.0, 8.0, 7.0, 6.0, 5.0, 4.0, 3.0, 2.0, 1.0, 0.909, 0.8691, 0.8691, 0.8691, 0.8691, 0.8439, 0.8439, 0.8439, 0.843, 0.8043, 0.7816, 0.7379, 0.7329, 0.7329, 0.7329, 0.7329, 0.7329, 0.7329, 0.7329, 0.7329, 0.7329, 0.7329, 0.7329, 0.7329, 0.7329, 0.7329, 0.7329, 0.7328, 0.7328, 0.7328, 0.6861, 0.6858, 0.5091, 0.5449, 0.5114, 0.605, 0.6404, 0.3518, 0.5496, 0.6203, 0.1111, 0.2939, 0.1634, 0.1048, 0.3347, 0.3159, 0.2213, 0.2847, -0.3927, 1.4194, 1.3328, 1.3328, 1.3328, 1.3328, 1.3328, 1.3328, 1.3328, 1.3328, 1.3328, 1.3328, 1.3328, 1.3328, 1.3313, 1.2541, 1.1934, 1.133, 1.133, 1.133, 1.133, 1.133, 1.133, 1.133, 1.133, 1.133, 1.133, 1.133, 1.133, 1.133, 1.133, 1.0914, 1.0616, 0.9358, 0.9108, 0.9951, 0.7204, 0.6338, 0.1755, 0.7301, 0.7418, 0.2513, 0.0107, 0.6476, 0.0401, 0.2772, -0.6078, 0.5155, 1.5647, 1.5582, 1.4306, 1.4306, 1.4306, 1.4306, 1.4306, 1.4306, 1.4306, 1.4306, 1.4306, 1.4306, 1.4306, 1.4306, 1.4301, 1.3943, 1.3496, 1.3402, 1.3071, 1.3041, 1.232, 1.232, 1.232, 1.232, 1.232, 1.232, 1.232, 1.232, 1.232, 1.232, 1.0691, 1.1442, 1.1145, 1.1597, 1.1586, 1.0934, 0.9133, 0.9944, 0.9161, 0.7494, 0.2162, 0.1434, -0.1332, -1.4153, 0.2558, 0.6382, -0.1903, -0.874, 0.5907, 0.2249, 1.6899, 1.6145, 1.6006, 1.6006, 1.6006, 1.5848, 1.3894, 1.3894, 1.3894, 1.3894, 1.3894, 1.3894, 1.3894, 1.3894, 1.3894, 1.3894, 1.3894, 1.3894, 1.3894, 1.3894, 1.3894, 1.3894, 1.3894, 1.3894, 1.3894, 1.3894, 1.3894, 1.3894, 1.3894, 1.3894, 1.3483, 1.3016, 0.9385, 1.1918, 1.2488, 1.1056, 0.821, 0.7199, 0.8468, 0.377, 0.6947, 0.6414, 0.5851, 0.3807, -0.0064, -0.2421, -0.1829, -0.6314, -0.9721, -2.0454, 0.6743, 0.6266, 0.9725, 0.2309, 1.8226, 1.8226, 1.59, 1.59, 1.59, 1.59, 1.59, 1.59, 1.59, 1.59, 1.59, 1.59, 1.59, 1.59, 1.59, 1.59, 1.59, 1.59, 1.59, 1.59, 1.59, 1.59, 1.59, 1.59, 1.59, 1.59, 1.59, 1.59, 1.59, 1.59, 1.59, 1.5207, 1.5013, 1.4487, 1.3333, 1.2801, 1.2554, 1.2118, 0.7909, 0.57, 0.6432, 0.5984, -0.2704, 0.897, 0.8785, 0.5309, 0.0671, 1.088, 1.1559, 0.2297, 0.7459, 0.1134, 1.1526, 0.0204, 1.1524, 1.1523, 1.1523, 0.8465, 1.1519]}, \"token.table\": {\"Topic\": [1, 3, 4, 3, 2, 3, 5, 1, 4, 1, 2, 3, 4, 5, 2, 4, 2, 3, 5, 2, 1, 4, 1, 2, 4, 5, 4, 4, 1, 3, 4, 3, 3, 5, 5, 3, 5, 1, 4, 5, 1, 2, 3, 4, 5, 5, 2, 5, 1, 2, 3, 4, 5, 2, 4, 1, 3, 4, 4, 1, 2, 3, 4, 5, 5, 5, 1, 5, 2, 5, 4, 5, 1, 4, 2, 5, 4, 4, 3, 2, 4, 1, 3, 4, 5, 5, 4, 5, 1, 5, 3, 2, 1, 5, 5, 5, 1, 1, 3, 4, 5, 1, 3, 4, 5, 3, 5, 3, 3, 1, 2, 3, 4, 5, 5, 1, 3, 1, 4, 1, 2, 5, 5, 5, 3, 1, 1, 5, 1, 2, 5, 3, 3, 3, 5, 2, 3, 4, 5, 1, 2, 1, 2, 3, 4, 5, 2, 5, 3, 2, 3, 2, 4, 2, 2, 1, 2, 2, 1, 5, 2, 5, 2, 2, 1, 3, 1, 2, 1, 2, 3, 4, 4, 2, 2, 3, 4, 1, 2, 4, 1, 2, 2, 3, 4, 4, 1, 5, 1, 2, 4, 1, 3, 4, 5, 1, 2, 4, 2, 4, 3, 4, 1, 3, 5, 2, 3, 5, 1, 2, 2, 4, 2, 1, 2, 3, 5, 3, 2, 1, 2, 4, 2, 1, 5, 1, 1, 3, 4, 5, 4, 1, 2, 4, 5, 1, 2, 4, 2, 4, 3, 3, 1, 1, 2, 1, 2, 4, 5, 5, 3, 3, 5, 2, 3, 5, 5, 1, 3, 4, 3, 4, 1, 1, 2, 5, 5, 5, 5, 3, 2, 1, 2, 3, 4, 5, 3, 4, 5, 4, 4, 5, 2, 1, 4, 2, 5, 1, 3, 1, 3, 4, 1, 3, 5, 5, 4, 3, 2, 5, 1, 3, 4, 1, 2, 4, 5, 2, 1, 5, 4, 1, 2, 3, 4, 1, 2, 3, 4, 2, 3, 5, 4, 2, 5, 1, 3, 4, 1, 5, 1, 1, 1, 1, 4, 2, 4, 2, 1, 2, 4, 5, 3, 4, 5, 1, 1, 4, 3, 4, 1, 2, 1, 2, 3, 4, 5], \"Freq\": [0.35590583873757387, 0.35590583873757387, 0.778299649045547, 0.7497548404164638, 0.7525379477391733, 0.4987768363185361, 0.8255337155275608, 0.8533557709916227, 0.5243614838488079, 0.21517710697548034, 0.21517710697548034, 0.21517710697548034, 0.21517710697548034, 0.21517710697548034, 0.5012378195063664, 0.7782999059509145, 0.25696971301432775, 0.5139394260286555, 0.25696971301432775, 0.7525379631602823, 0.36875070923638126, 0.36875070923638126, 0.4228089175963393, 0.21140445879816966, 0.21140445879816966, 0.21140445879816966, 0.5243609885142244, 0.7782996731469537, 0.362342367086242, 0.362342367086242, 0.362342367086242, 0.7497548331572339, 0.9116770340330137, 0.15194617233883562, 0.8255338067698512, 0.49877658406845793, 0.8255338135262104, 0.3791448899701073, 0.3791448899701073, 0.3791448899701073, 0.397691263225315, 0.09942281580632875, 0.049711407903164376, 0.34797985532215064, 0.049711407903164376, 0.8255337137187271, 0.5326408149583479, 0.5326408149583479, 0.18839619903585209, 0.37679239807170417, 0.18839619903585209, 0.18839619903585209, 0.18839619903585209, 0.38861984293881013, 0.38861984293881013, 0.8800868517868865, 0.7557323572006506, 0.2519107857335502, 0.7783002920125603, 0.2553094068998711, 0.08510313563329036, 0.17020627126658072, 0.34041254253316144, 0.17020627126658072, 0.8255340571666647, 0.8255339058991454, 0.8533560783368803, 0.825533623780348, 0.7515163765446315, 0.5681667676764847, 0.5243610499426294, 0.8255337577198547, 0.8108643280387033, 0.27028810934623443, 0.5326463306779803, 0.5326463306779803, 0.7782996525384811, 0.7782998560029484, 0.49877206341862795, 0.7525379606292756, 0.7783002920125603, 0.8800901313162439, 0.38064932031829146, 0.38064932031829146, 0.8255337577198547, 0.8255336018762134, 0.4197950890410049, 0.4197950890410049, 0.8800868561245775, 0.8255336057033223, 0.7497548153705161, 0.7525379588635814, 0.8800901313162439, 0.825533623780348, 0.8255339873398977, 0.8255336795649075, 0.9748292597748646, 0.21959413885668114, 0.21959413885668114, 0.4391882777133623, 0.21959413885668114, 0.22692182134018796, 0.22692182134018796, 0.22692182134018796, 0.4538436426803759, 0.8962644840146936, 0.8255337137187271, 0.7497547964086745, 0.4987720598311622, 0.6220640106025461, 0.22394304381691663, 0.04976512084820369, 0.024882560424101845, 0.07464768127230553, 0.8255340571666647, 0.8800889037544063, 0.49877271647591964, 0.8049447742307076, 0.10061809677883846, 0.4800838192946865, 0.24004190964734326, 0.24004190964734326, 0.8255339058991454, 0.8255337137187271, 0.49877344125693746, 0.8800869451733454, 0.8272938997115292, 0.27576463323717637, 0.8533557225455872, 0.5326341523533309, 0.5326341523533309, 0.4987720702485297, 0.49877205368701055, 0.74975483905366, 0.8255337577198547, 0.5012390780162039, 0.5306442020140384, 0.21225768080561536, 0.21225768080561536, 0.8533560088195535, 0.5012394694983052, 0.4162250194776323, 0.24973501168657938, 0.24973501168657938, 0.08324500389552646, 0.08324500389552646, 0.4121509574663436, 0.4121509574663436, 0.7497548586940648, 0.6001672397283215, 0.30008361986416077, 0.5012381283380903, 0.7782999345675701, 0.5012373244511158, 0.7525379401123141, 0.5548254366024905, 0.27741271830124525, 0.7525379302012597, 0.709016629750849, 0.3545083148754245, 0.5327722628876657, 0.5327722628876657, 0.5012396045998285, 0.5012382688978381, 0.6659189809143579, 0.2219729936381193, 0.8800883430035242, 0.7525382584876359, 0.24414932824550342, 0.24414932824550342, 0.24414932824550342, 0.24414932824550342, 0.7902985755864999, 0.501237531228628, 0.1901865280486881, 0.5705595841460643, 0.1901865280486881, 0.4276174685333667, 0.4276174685333667, 0.1425391561777889, 0.6595182432593563, 0.21983941441978544, 0.252553505764271, 0.252553505764271, 0.252553505764271, 0.7782996316768875, 0.880086836732667, 0.8255339058991454, 0.1642872508449296, 0.6571490033797184, 0.1642872508449296, 0.689323906741613, 0.09847484382023043, 0.09847484382023043, 0.09847484382023043, 0.8800868407719934, 0.7525380595891785, 0.7782996608895912, 0.38207605646066417, 0.38207605646066417, 0.6063432956499747, 0.30317164782498734, 0.29772547378126085, 0.29772547378126085, 0.29772547378126085, 0.3923735435681473, 0.3923735435681473, 0.3923735435681473, 0.35719552377705627, 0.35719552377705627, 0.7525379272560513, 0.7782998479691422, 0.5012430437088603, 0.34387731014915823, 0.34387731014915823, 0.1146257700497194, 0.2292515400994388, 0.498772050375427, 0.501237340285161, 0.46445789104910923, 0.15481929701636973, 0.15481929701636973, 0.5012384060662861, 0.8800871022176472, 0.568166721911042, 0.8800875431263881, 0.17171558436218545, 0.17171558436218545, 0.5151467530865563, 0.17171558436218545, 0.7782996543170411, 0.41600282393844507, 0.41600282393844507, 0.4789909897080808, 0.4789909897080808, 0.6014731808989006, 0.2004910602996335, 0.2004910602996335, 0.7525380800665415, 0.7782996613029092, 0.49877242248922926, 0.49877208861645417, 0.8800868216964344, 0.6594919715010444, 0.21983065716701483, 0.6252932122142999, 0.12505864244285997, 0.12505864244285997, 0.12505864244285997, 0.8255338135262104, 0.7497548002283754, 0.32233028681724846, 0.32233028681724846, 0.22547438207420575, 0.22547438207420575, 0.22547438207420575, 0.8255339873398977, 0.24085226219011538, 0.7225567865703462, 0.7782996505067992, 0.4987720495496506, 0.7782999059509145, 0.8800869538195635, 0.8800875355090597, 0.39305223383372945, 0.39305223383372945, 0.8255336795649075, 0.8255337155275608, 0.8255337577198547, 0.4987772004010496, 0.7525379588635814, 0.29866450816850876, 0.14933225408425438, 0.14933225408425438, 0.29866450816850876, 0.14933225408425438, 0.5780634598892314, 0.1926878199630771, 0.1926878199630771, 0.7782999345675701, 0.8107360159694122, 0.27024533865647077, 0.7525379570978876, 0.9856037871289253, 0.7782996338687653, 0.5326341523533309, 0.5326341523533309, 0.7727145105998167, 0.7497548259352024, 0.8800972870895171, 0.3805836401127102, 0.3805836401127102, 0.30897014606826567, 0.30897014606826567, 0.30897014606826567, 0.8255336328188609, 0.7782998720705612, 0.7497548486228984, 0.5326208928635224, 0.5326208928635224, 0.5159040704883763, 0.5159040704883763, 0.7782996797195042, 0.7919510241556584, 0.16970379089049822, 0.778300344477339, 0.8255337055022107, 0.75253791849526, 0.39029393807132196, 0.39029393807132196, 0.7782996709550757, 0.46130040730789373, 0.15376680243596458, 0.15376680243596458, 0.15376680243596458, 0.5045207524584409, 0.2162231796250461, 0.2162231796250461, 0.0720743932083487, 0.5012423084704162, 0.7497548559837718, 0.8255337155275608, 0.778299624944142, 0.7525379495048672, 0.8255339873398977, 0.24665751132200808, 0.24665751132200808, 0.24665751132200808, 0.4970140104912614, 0.4970140104912614, 0.772835164833352, 0.7727141708286446, 0.8800872350901522, 0.8800869163386196, 0.7782999059509145, 0.5125592820551166, 0.5125592820551166, 0.5012377488789649, 0.2212426019248327, 0.2212426019248327, 0.2212426019248327, 0.2212426019248327, 0.6241073864190101, 0.15602684660475252, 0.15602684660475252, 0.8800869320338589, 0.7727166838499047, 0.7782996651131513, 0.2249759993117101, 0.6749279979351304, 0.5752348031143796, 0.19174493437145984, 0.4411921792734544, 0.3529537434187635, 0.08823843585469088, 0.08823843585469088, 0.08823843585469088], \"Term\": [\"address\", \"address\", \"affect\", \"agent\", \"amount\", \"annoying\", \"app\", \"auto\", \"available\", \"bad\", \"bad\", \"bad\", \"bad\", \"bad\", \"battery\", \"beast\", \"bit\", \"bit\", \"bit\", \"blame\", \"boot\", \"boot\", \"box\", \"box\", \"box\", \"box\", \"bug\", \"bunch\", \"buy\", \"buy\", \"buy\", \"cable\", \"call\", \"call\", \"campaign\", \"card\", \"close\", \"complete\", \"complete\", \"complete\", \"console\", \"console\", \"console\", \"console\", \"console\", \"consul\", \"control\", \"control\", \"controller\", \"controller\", \"controller\", \"controller\", \"controller\", \"cord\", \"cord\", \"critique\", \"customer\", \"customer\", \"cycle\", \"day\", \"day\", \"day\", \"day\", \"day\", \"dead\", \"didn\", \"difference\", \"different\", \"digital\", \"disappointed\", \"disc\", \"distribution\", \"due\", \"due\", \"duty\", \"duty\", \"ecstatic\", \"eject\", \"email\", \"empower\", \"event\", \"exact\", \"excited\", \"excited\", \"execution\", \"expedited\", \"expensive\", \"expensive\", \"external\", \"extra\", \"factory\", \"family\", \"fast\", \"faulty\", \"feed\", \"feedback\", \"file\", \"fine\", \"fine\", \"fine\", \"fine\", \"first\", \"first\", \"first\", \"first\", \"form\", \"freeze\", \"frustrating\", \"full\", \"game\", \"game\", \"game\", \"game\", \"game\", \"gameplay\", \"gaming\", \"gift\", \"good\", \"good\", \"great\", \"great\", \"great\", \"guess\", \"half\", \"hand\", \"harddrive\", \"hardware\", \"hardware\", \"hdr\", \"headset\", \"headset\", \"hold\", \"hoop\", \"hop\", \"horrible\", \"hot\", \"hour\", \"hour\", \"hour\", \"huge\", \"illegal\", \"issue\", \"issue\", \"issue\", \"issue\", \"issue\", \"item\", \"item\", \"jump\", \"kid\", \"kid\", \"kind\", \"lesson\", \"license\", \"licensing\", \"little\", \"little\", \"loan\", \"look\", \"look\", \"lot\", \"lot\", \"love\", \"machine\", \"many\", \"many\", \"massive\", \"master\", \"middle\", \"middle\", \"middle\", \"middle\", \"min\", \"mine\", \"minute\", \"minute\", \"minute\", \"money\", \"money\", \"money\", \"monitor\", \"monitor\", \"month\", \"month\", \"month\", \"mood\", \"movie\", \"multiplayer\", \"new\", \"new\", \"new\", \"next\", \"next\", \"next\", \"next\", \"non\", \"nope\", \"official\", \"old\", \"old\", \"online\", \"online\", \"option\", \"option\", \"option\", \"order\", \"order\", \"order\", \"original\", \"original\", \"owner\", \"patch\", \"pay\", \"people\", \"people\", \"people\", \"people\", \"phone\", \"physical\", \"play\", \"play\", \"play\", \"playing\", \"pocket\", \"poop\", \"poor\", \"power\", \"power\", \"power\", \"power\", \"preorder\", \"price\", \"price\", \"problem\", \"problem\", \"product\", \"product\", \"product\", \"protection\", \"purchasing\", \"purolator\", \"queue\", \"quick\", \"real\", \"real\", \"reason\", \"reason\", \"reason\", \"reason\", \"receive\", \"refill\", \"release\", \"release\", \"replacement\", \"replacement\", \"replacement\", \"replenish\", \"request\", \"request\", \"resolution\", \"resubmit\", \"return\", \"reward\", \"right\", \"rip\", \"rip\", \"robot\", \"running\", \"scalper\", \"scam\", \"season\", \"series\", \"series\", \"series\", \"series\", \"series\", \"service\", \"service\", \"service\", \"setup\", \"shut\", \"shut\", \"sign\", \"slim\", \"solution\", \"sound\", \"sound\", \"speed\", \"square\", \"standard\", \"star\", \"star\", \"stock\", \"stock\", \"stock\", \"stupid\", \"stuttering\", \"success\", \"supply\", \"supply\", \"support\", \"support\", \"switch\", \"system\", \"system\", \"talk\", \"tech\", \"technology\", \"terrible\", \"terrible\", \"testing\", \"thing\", \"thing\", \"thing\", \"thing\", \"time\", \"time\", \"time\", \"time\", \"today\", \"tomorrow\", \"ton\", \"total\", \"transfer\", \"troll\", \"turn\", \"turn\", \"turn\", \"unacceptable\", \"unacceptable\", \"unit\", \"update\", \"upgrade\", \"upgrading\", \"used\", \"waiting\", \"waiting\", \"warranty\", \"way\", \"way\", \"way\", \"way\", \"week\", \"week\", \"week\", \"weird\", \"well\", \"word\", \"work\", \"work\", \"worth\", \"worth\", \"year\", \"year\", \"year\", \"year\", \"year\"]}, \"R\": 30, \"lambda.step\": 0.01, \"plot.opts\": {\"xlab\": \"PC1\", \"ylab\": \"PC2\"}, \"topic.order\": [4, 5, 3, 1, 2]};\n",
       "\n",
       "function LDAvis_load_lib(url, callback){\n",
       "  var s = document.createElement('script');\n",
       "  s.src = url;\n",
       "  s.async = true;\n",
       "  s.onreadystatechange = s.onload = callback;\n",
       "  s.onerror = function(){console.warn(\"failed to load library \" + url);};\n",
       "  document.getElementsByTagName(\"head\")[0].appendChild(s);\n",
       "}\n",
       "\n",
       "if(typeof(LDAvis) !== \"undefined\"){\n",
       "   // already loaded: just create the visualization\n",
       "   !function(LDAvis){\n",
       "       new LDAvis(\"#\" + \"ldavis_el1508018870050004166756284071\", ldavis_el1508018870050004166756284071_data);\n",
       "   }(LDAvis);\n",
       "}else if(typeof define === \"function\" && define.amd){\n",
       "   // require.js is available: use it to load d3/LDAvis\n",
       "   require.config({paths: {d3: \"https://cdnjs.cloudflare.com/ajax/libs/d3/3.5.5/d3.min\"}});\n",
       "   require([\"d3\"], function(d3){\n",
       "      window.d3 = d3;\n",
       "      LDAvis_load_lib(\"https://cdn.rawgit.com/bmabey/pyLDAvis/files/ldavis.v1.0.0.js\", function(){\n",
       "        new LDAvis(\"#\" + \"ldavis_el1508018870050004166756284071\", ldavis_el1508018870050004166756284071_data);\n",
       "      });\n",
       "    });\n",
       "}else{\n",
       "    // require.js not available: dynamically load d3 & LDAvis\n",
       "    LDAvis_load_lib(\"https://cdnjs.cloudflare.com/ajax/libs/d3/3.5.5/d3.min.js\", function(){\n",
       "         LDAvis_load_lib(\"https://cdn.rawgit.com/bmabey/pyLDAvis/files/ldavis.v1.0.0.js\", function(){\n",
       "                 new LDAvis(\"#\" + \"ldavis_el1508018870050004166756284071\", ldavis_el1508018870050004166756284071_data);\n",
       "            })\n",
       "         });\n",
       "}\n",
       "</script>"
      ],
      "text/plain": [
       "PreparedData(topic_coordinates=              x         y  topics  cluster       Freq\n",
       "topic                                                \n",
       "3     -0.126227 -0.086217       1        1  37.445433\n",
       "4     -0.076450  0.113220       2        1  19.374923\n",
       "2      0.124143 -0.002987       3        1  17.612890\n",
       "0      0.053159 -0.044878       4        1  14.482899\n",
       "1      0.025374  0.020862       5        1  11.083855, topic_info=        Term       Freq      Total Category  logprob  loglift\n",
       "64   console  20.000000  20.000000  Default  30.0000  30.0000\n",
       "123     call   6.000000   6.000000  Default  29.0000  29.0000\n",
       "8       hour   9.000000   9.000000  Default  28.0000  28.0000\n",
       "55    system  17.000000  17.000000  Default  27.0000  27.0000\n",
       "0       game  40.000000  40.000000  Default  26.0000  26.0000\n",
       "..       ...        ...        ...      ...      ...      ...\n",
       "196  control   0.658774   1.877438   Topic5  -5.2876   1.1524\n",
       "268    sound   0.658695   1.877461   Topic5  -5.2877   1.1523\n",
       "265  headset   0.658695   1.877461   Topic5  -5.2877   1.1523\n",
       "186    order   0.658630   2.548592   Topic5  -5.2878   0.8465\n",
       "230   supply   0.658488   1.877508   Topic5  -5.2880   1.1519\n",
       "\n",
       "[289 rows x 6 columns], token_table=      Topic      Freq     Term\n",
       "term                          \n",
       "117       1  0.355906  address\n",
       "117       3  0.355906  address\n",
       "249       4  0.778300   affect\n",
       "118       3  0.749755    agent\n",
       "75        2  0.752538   amount\n",
       "...     ...       ...      ...\n",
       "100       1  0.441192     year\n",
       "100       2  0.352954     year\n",
       "100       3  0.088238     year\n",
       "100       4  0.088238     year\n",
       "100       5  0.088238     year\n",
       "\n",
       "[357 rows x 3 columns], R=30, lambda_step=0.01, plot_opts={'xlab': 'PC1', 'ylab': 'PC2'}, topic_order=[4, 5, 3, 1, 2])"
      ]
     },
     "execution_count": 207,
     "metadata": {},
     "output_type": "execute_result"
    }
   ],
   "source": [
    "pyLDAvis.enable_notebook()\n",
    "vis = pyLDAvis.gensim.prepare(lda_model, doc_term_matrix, dictionary)\n",
    "vis"
   ]
  },
  {
   "cell_type": "markdown",
   "metadata": {},
   "source": [
    "As can be seen above, there are 5 topics which are clearly separated.<br>Based on the words within each topic, I can take a reasonable guess as to what the topics are about:<br>      \n",
    "\n",
    "Topic 1: Topic may possibly be on the hdr: issue, hdr<br>\n",
    "Topic 2: Topic could be on complaints of the price and battery: price, issue, time, battery<br>\n",
    "Topic 3: Possible complaints on the support service: call, hour, week, service, replacement<br>\n",
    "Topic 4: Topic is on replacing the Xbox: boot, disc, available, replacement<br>\n",
    "Topic 5: Topic is possibly based on the price and issues with the system<br>\n",
    "\n",
    "Based on the topics, it seems the negative reviews for the systems are similar to its predecessor.<br> There seems to be issues\n",
    "with the hardware.<br>There are also issues with the price, time, and battery.<br>Furthermore, the support service for the Xbox\n",
    "looks to continue to be an issue.<br>Already, customers are looking to replace their Xboxs.<br>This seems to correlate with reports of the Xbox overheating and breaking down as seen in news reports.\n",
    "\n"
   ]
  },
  {
   "cell_type": "markdown",
   "metadata": {},
   "source": [
    "#                                              Summary/ Data Limitations\n",
    "\n",
    "\n",
    "Based on the entire analysis, I can conclude the following:<br>\n",
    "\n",
    "1. Comparing the PS4 negative reviews with the PS5 negative reviews, it seems Sony has fixed most of the problems with the PS5.<br> The PS4 had issues with the hard drive, warranty, and hardware of the product.<br> In comparison, most consumers complained more about obtaining the PS5 rather than the actual product itelf.<br> This difference reveals that Sony seems to have little to no issues with the new PS5 from a product standpoint compared to its predecessor which is very good from Sony's perspective.\n",
    "\n",
    "2. Comparing the PS5 negative reviews with Xbox Series X negative reviews, the latter seems to have product issues as there were reviews pointing out the system dying and customers actually reaching out to customer support for refunds.<br> There were also issues with the price and battery.<br>Based on this analysis, it doesn't seem that Microsoft fully checked their new system for defects as much as Sony did.<br>This reveals that Microsoft needs to do a more thorough job in identifying these type of defects.<br>Sony seems to have done a great job, for the most part, in reducing the number of defects within the PS5.\n",
    "\n",
    "3. Comparing the PS5 positive reviews vs the Xbox Series X positive reviews, both seemed to be similar in their respective LDA topic models.<br>Both systems seem to be praised for their controller, hardware, and speed. Words such as \"amazing\" and \"graphics\" were part of both LDA models.<br>It seems both systems seem to have satisfied consumer's expectations based on the positive reviews.\n",
    "\n",
    "4. Comparing the PS4 positive reviews vs the Xbox One X positive reviews, consumers seems to be really satisifed.<br>The models both showed comments on the controller, design, and speed for both systems.<br>Both systems seem to have improved similarly.<br>The PS4 and Xbox One x positive reviews follow the same pattern as the PS5 and Xbox Series X in terms of positive reviews.\n",
    "\n",
    "5. Comparing the Xbox Series X negative reviews with the Xbox Series X negative reviews, both systems seem to have issues with customer service as well as product defects.<br>There were comments made towards consumers asking for replacements and refunds due to defects.<br>This is in sharp contrast to the Playstation reviews as there little to no comments made in terms of consumers asking for a refund.\n",
    "\n",
    "\n",
    "Data limitations need to be recognized though.<br>There was not a lot of data to analyze as only about 6,000 or more reviews overall were analyzed for this sentiment analysis.<br>The PS5 and Xbox Series X are both fairly new so it was difficult to get a good sample size for these reviews.<br>In contrast, PS4 and Xbox One X reviews were plentiful considering both products have been around for some time.<br>\n",
    "\n",
    "\n",
    "Nevetherless, this analysis shows the different sentiments and comments towards how consumers feel towards the PS4, Xbox One X, PS5, and Xbox Series X.<br>Readers should be able to see this analysis and both Playstation and Microsoft can benefit from this analysis in terms of improving customer experiences and looking for areas of growth and opportunity for their respective game consoles."
   ]
  }
 ],
 "metadata": {
  "kernelspec": {
   "display_name": "Python 3",
   "language": "python",
   "name": "python3"
  },
  "language_info": {
   "codemirror_mode": {
    "name": "ipython",
    "version": 3
   },
   "file_extension": ".py",
   "mimetype": "text/x-python",
   "name": "python",
   "nbconvert_exporter": "python",
   "pygments_lexer": "ipython3",
   "version": "3.8.5"
  }
 },
 "nbformat": 4,
 "nbformat_minor": 4
}
